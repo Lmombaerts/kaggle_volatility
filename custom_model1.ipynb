{
 "cells": [
  {
   "cell_type": "markdown",
   "metadata": {},
   "source": [
    "## Stupid single feature nonlinear regression\n",
    "@LaurentMombaerts 14/07/2021"
   ]
  },
  {
   "cell_type": "code",
   "execution_count": 4,
   "metadata": {},
   "outputs": [
    {
     "name": "stdout",
     "output_type": "stream",
     "text": [
      "Overwriting custom1.py\n"
     ]
    }
   ],
   "source": [
    "%%writefile custom1.py\n",
    "\n",
    "import pandas as pd\n",
    "import numpy as np\n",
    "from sklearn.ensemble import RandomForestRegressor\n",
    "\n",
    "def log_return(list_stock_prices): # Stock prices are estimated through wap values\n",
    "    return np.log(list_stock_prices).diff() \n",
    "\n",
    "def realized_volatility(series_log_return):\n",
    "    return np.sqrt(np.sum(series_log_return**2))\n",
    "\n",
    "def compute_wap(book_pd):\n",
    "    wap = (book_pd['bid_price1'] * book_pd['ask_size1'] + book_pd['ask_price1'] * book_pd['bid_size1']) / (book_pd['bid_size1']+ book_pd['ask_size1'])\n",
    "    return wap\n",
    "\n",
    "def realized_volatility_per_time_id(file_path, prediction_column_name):\n",
    "    df_book_data = pd.read_parquet(file_path)\n",
    "    \n",
    "    # Estimate stock price per time point\n",
    "    df_book_data['wap'] = compute_wap(df_book_data)\n",
    "    \n",
    "    # Compute log return from wap values per time_id\n",
    "    df_book_data['log_return'] = df_book_data.groupby(['time_id'])['wap'].apply(log_return)\n",
    "    df_book_data = df_book_data[~df_book_data['log_return'].isnull()]\n",
    "    \n",
    "    # Compute the square root of the sum of log return squared to get realized volatility\n",
    "    df_realized_vol_per_stock =  pd.DataFrame(df_book_data.groupby(['time_id'])['log_return'].agg(realized_volatility)).reset_index()\n",
    "    \n",
    "    # Formatting\n",
    "    df_realized_vol_per_stock = df_realized_vol_per_stock.rename(columns = {'log_return':prediction_column_name})\n",
    "    stock_id = file_path.split('=')[1]\n",
    "    df_realized_vol_per_stock['row_id'] = df_realized_vol_per_stock['time_id'].apply(lambda x:f'{stock_id}-{x}')\n",
    "    \n",
    "    return df_realized_vol_per_stock[['row_id',prediction_column_name]]\n",
    "\n",
    "def past_realized_volatility_per_stock(list_file,prediction_column_name):\n",
    "    df_past_realized = pd.DataFrame()\n",
    "    for file in list_file:\n",
    "        df_past_realized = pd.concat([df_past_realized,\n",
    "                                     realized_volatility_per_time_id(file,prediction_column_name)])\n",
    "    return df_past_realized\n",
    "\n",
    "def stupidForestPrediction(book_path_train,prediction_column_name,train_targets_pd,book_path_test):\n",
    "    naive_predictions_train = past_realized_volatility_per_stock(list_file=book_path_train,prediction_column_name=prediction_column_name)\n",
    "    df_joined_train = train_targets_pd.merge(naive_predictions_train[['row_id','pred']], on = ['row_id'], how = 'left')\n",
    "    \n",
    "    X = np.array(df_joined_train['pred']).reshape(-1,1)\n",
    "    y = np.array(df_joined_train['target']).reshape(-1,)\n",
    "\n",
    "    regr = RandomForestRegressor(random_state=0)\n",
    "    regr.fit(X, y)\n",
    "    \n",
    "    naive_predictions_test = past_realized_volatility_per_stock(list_file=book_path_test,prediction_column_name='target')\n",
    "    yhat = regr.predict(np.array(naive_predictions_test['target']).reshape(-1,1))\n",
    "    \n",
    "    updated_predictions = naive_predictions_test.copy()\n",
    "    updated_predictions['target'] = yhat\n",
    "    \n",
    "    return updated_predictions"
   ]
  },
  {
   "cell_type": "markdown",
   "metadata": {},
   "source": [
    "**Notes here**\n",
    "\n",
    "- Training set: \n",
    "- Test set: "
   ]
  },
  {
   "cell_type": "code",
   "execution_count": null,
   "metadata": {},
   "outputs": [],
   "source": []
  }
 ],
 "metadata": {
  "kernelspec": {
   "display_name": "Python 3",
   "language": "python",
   "name": "python3"
  },
  "language_info": {
   "codemirror_mode": {
    "name": "ipython",
    "version": 3
   },
   "file_extension": ".py",
   "mimetype": "text/x-python",
   "name": "python",
   "nbconvert_exporter": "python",
   "pygments_lexer": "ipython3",
   "version": "3.7.9"
  }
 },
 "nbformat": 4,
 "nbformat_minor": 4
}
