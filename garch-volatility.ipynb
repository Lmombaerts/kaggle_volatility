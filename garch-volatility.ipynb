{
 "cells": [
  {
   "cell_type": "markdown",
   "id": "d9922fb9",
   "metadata": {
    "papermill": {
     "duration": 0.032644,
     "end_time": "2021-07-01T09:53:03.251782",
     "exception": false,
     "start_time": "2021-07-01T09:53:03.219138",
     "status": "completed"
    },
    "tags": []
   },
   "source": [
    "# GARCH Optiver Realized Volatility Prediction"
   ]
  },
  {
   "cell_type": "markdown",
   "id": "95f3330e",
   "metadata": {
    "papermill": {
     "duration": 0.034164,
     "end_time": "2021-07-01T09:53:04.415346",
     "exception": false,
     "start_time": "2021-07-01T09:53:04.381182",
     "status": "completed"
    },
    "tags": []
   },
   "source": [
    "# Realized volatility\n",
    "When we trade options, a valuable input to our models is the standard deviation of the stock log returns. The standard deviation will be different for log returns computed over longer or shorter intervals, for this reason it is usually normalized to a 1-year period and the annualized standard deviation is called **volatility**. \n",
    "\n",
    "In this competition, you will be given 10 minutes of book data and we ask you to predict what the volatility will be in the following 10 minutes. Volatility will be measured as follows:\n",
    "\n",
    "We will compute the log returns over all consecutive book updates and we define the **realized volatility, $\\sigma$,** as the squared root of the sum of squared log returns.\n",
    "$$\n",
    "\\sigma = \\sqrt{\\sum_{t}r_{t-1, t}^2}\n",
    "$$\n",
    "Where we use **WAP** as price of the stock to compute log returns.\n",
    "\n",
    "We want to keep definitions as simple and clear as possible, so that Kagglers without financial knowledge will not be penalized. So we are not annualizing the volatility and we are assuming that log returns have 0 mean."
   ]
  },
  {
   "cell_type": "markdown",
   "id": "67c71b90",
   "metadata": {
    "papermill": {
     "duration": 0.032593,
     "end_time": "2021-07-01T09:53:04.481127",
     "exception": false,
     "start_time": "2021-07-01T09:53:04.448534",
     "status": "completed"
    },
    "tags": []
   },
   "source": [
    "# Competition data\n",
    "In this competition, Kagglers are challenged to generate a series of short-term signals from the book and trade data of a fixed 10-minute window to predict the realized volatility of the next 10-minute window. The target, which is given in train/test.csv, can be linked with the raw order book/trade data by the same **time_id** and **stock_id**. There is no overlap between the feature and target window."
   ]
  },
  {
   "cell_type": "markdown",
   "id": "c701316d",
   "metadata": {
    "papermill": {
     "duration": 0.032592,
     "end_time": "2021-07-01T09:53:04.546453",
     "exception": false,
     "start_time": "2021-07-01T09:53:04.513861",
     "status": "completed"
    },
    "tags": []
   },
   "source": [
    "Note that the competition data will come with partitioned parquet file. You can find a tutorial of parquet file handling in this [notebook](https://www.kaggle.com/sohier/working-with-parquet)"
   ]
  },
  {
   "cell_type": "code",
   "execution_count": null,
   "id": "4b7781d7",
   "metadata": {
    "papermill": {
     "duration": 1.865951,
     "end_time": "2021-07-01T09:53:06.447406",
     "exception": false,
     "start_time": "2021-07-01T09:53:04.581455",
     "status": "completed"
    },
    "tags": []
   },
   "outputs": [],
   "source": [
    "import pandas as pd\n",
    "import numpy as np\n",
    "import matplotlib.pyplot as plt\n",
    "import plotly.express as px\n",
    "import glob\n",
    "\n",
    "path_vlad = '/Users/vladimir.levin/data/optiver-realized-volatility-prediction'\n",
    "# path_laurent = ...\n",
    "\n",
    "train = pd.read_csv(path_vlad + '/train.csv')\n",
    "print(train.head())\n",
    "\n",
    "# print(train['stock_id'].nunique())\n",
    "# print(train['time_id'].unique())"
   ]
  },
  {
   "cell_type": "markdown",
   "id": "6d916be2",
   "metadata": {
    "papermill": {
     "duration": 0.032851,
     "end_time": "2021-07-01T09:53:06.514247",
     "exception": false,
     "start_time": "2021-07-01T09:53:06.481396",
     "status": "completed"
    },
    "tags": []
   },
   "source": [
    "Taking the first row of data, it implies that the realized vol of the **target bucket** for time_id 5, stock_id 0 is 0.004136. How does the book and trade data in **feature bucket** look like for us to build signals?"
   ]
  },
  {
   "cell_type": "code",
   "execution_count": null,
   "id": "521dd3e7",
   "metadata": {
    "papermill": {
     "duration": 0.584657,
     "end_time": "2021-07-01T09:53:07.133221",
     "exception": false,
     "start_time": "2021-07-01T09:53:06.548564",
     "status": "completed"
    },
    "tags": []
   },
   "outputs": [],
   "source": [
    "book_example = pd.read_parquet(path_vlad + '/book_train.parquet/stock_id=0')\n",
    "trade_example =  pd.read_parquet(path_vlad + '/trade_train.parquet/stock_id=0')\n",
    "stock_id = '0'\n",
    "book_example = book_example[book_example['time_id']==5]\n",
    "book_example.loc[:,'stock_id'] = stock_id\n",
    "trade_example = trade_example[trade_example['time_id']==5]\n",
    "trade_example.loc[:,'stock_id'] = stock_id"
   ]
  },
  {
   "cell_type": "markdown",
   "id": "5ed2ca39",
   "metadata": {
    "papermill": {
     "duration": 0.033189,
     "end_time": "2021-07-01T09:53:07.199700",
     "exception": false,
     "start_time": "2021-07-01T09:53:07.166511",
     "status": "completed"
    },
    "tags": []
   },
   "source": [
    "**book data snapshot**"
   ]
  },
  {
   "cell_type": "code",
   "execution_count": null,
   "id": "282a1f81",
   "metadata": {
    "papermill": {
     "duration": 0.052862,
     "end_time": "2021-07-01T09:53:07.286700",
     "exception": false,
     "start_time": "2021-07-01T09:53:07.233838",
     "status": "completed"
    },
    "tags": []
   },
   "outputs": [],
   "source": [
    "print(book_example.shape)\n",
    "#book_example.to_csv('test_book.csv')\n",
    "book_example.head(10)"
   ]
  },
  {
   "cell_type": "markdown",
   "id": "f154b4b8",
   "metadata": {
    "papermill": {
     "duration": 0.033754,
     "end_time": "2021-07-01T09:53:07.354233",
     "exception": false,
     "start_time": "2021-07-01T09:53:07.320479",
     "status": "completed"
    },
    "tags": []
   },
   "source": [
    "**trade date snapshot**"
   ]
  },
  {
   "cell_type": "code",
   "execution_count": null,
   "id": "183f52a8",
   "metadata": {
    "papermill": {
     "duration": 0.051187,
     "end_time": "2021-07-01T09:53:07.439325",
     "exception": false,
     "start_time": "2021-07-01T09:53:07.388138",
     "status": "completed"
    },
    "tags": []
   },
   "outputs": [],
   "source": [
    "trade_example.head()"
   ]
  },
  {
   "cell_type": "markdown",
   "id": "87c50858",
   "metadata": {
    "papermill": {
     "duration": 0.034491,
     "end_time": "2021-07-01T09:53:07.511867",
     "exception": false,
     "start_time": "2021-07-01T09:53:07.477376",
     "status": "completed"
    },
    "tags": []
   },
   "source": [
    "**Realized volatility calculation in python**"
   ]
  },
  {
   "cell_type": "markdown",
   "id": "c2ee3ec3",
   "metadata": {
    "papermill": {
     "duration": 0.033739,
     "end_time": "2021-07-01T09:53:07.579673",
     "exception": false,
     "start_time": "2021-07-01T09:53:07.545934",
     "status": "completed"
    },
    "tags": []
   },
   "source": [
    "In this competition, our target is to predict short-term realized volatility. Although the order book and trade data for the target cannot be shared, we can still present the realized volatility calculation using the feature data we provided. \n",
    "\n",
    "As realized volatility is a statistical measure of price changes on a given stock, to calculate the price change we first need to have a stock valuation at the fixed interval (1 second). We will use weighted averaged price, or WAP, of the order book data we provided."
   ]
  },
  {
   "cell_type": "code",
   "execution_count": null,
   "id": "a1b683f2",
   "metadata": {
    "papermill": {
     "duration": 0.047303,
     "end_time": "2021-07-01T09:53:07.661777",
     "exception": false,
     "start_time": "2021-07-01T09:53:07.614474",
     "status": "completed"
    },
    "tags": []
   },
   "outputs": [],
   "source": [
    "book_example['wap'] = (book_example['bid_price1'] * book_example['ask_size1'] +\n",
    "                                book_example['ask_price1'] * book_example['bid_size1']) / (\n",
    "                                       book_example['bid_size1']+ book_example['ask_size1'])"
   ]
  },
  {
   "cell_type": "markdown",
   "id": "327b4c54",
   "metadata": {
    "papermill": {
     "duration": 0.033742,
     "end_time": "2021-07-01T09:53:07.729971",
     "exception": false,
     "start_time": "2021-07-01T09:53:07.696229",
     "status": "completed"
    },
    "tags": []
   },
   "source": [
    "**The WAP of the stock is plotted below**"
   ]
  },
  {
   "cell_type": "code",
   "execution_count": null,
   "id": "34a70a34",
   "metadata": {
    "papermill": {
     "duration": 1.395043,
     "end_time": "2021-07-01T09:53:09.159031",
     "exception": false,
     "start_time": "2021-07-01T09:53:07.763988",
     "status": "completed"
    },
    "tags": []
   },
   "outputs": [],
   "source": [
    "#fig = px.line(book_example, x=\"seconds_in_bucket\", y=\"wap\", title='WAP of stock_id_0, time_id_5')\n",
    "#fig.show()\n",
    "plt.figure(figsize=(15,10))\n",
    "plt.plot(book_example['seconds_in_bucket'],book_example['wap'])\n",
    "plt.xlabel('seconds in bucket')\n",
    "plt.ylabel('wap')\n",
    "plt.title('WAP of stock id 0 time id 5')\n",
    "plt.show()"
   ]
  },
  {
   "cell_type": "markdown",
   "id": "943a7c6e",
   "metadata": {
    "papermill": {
     "duration": 0.036105,
     "end_time": "2021-07-01T09:53:09.235503",
     "exception": false,
     "start_time": "2021-07-01T09:53:09.199398",
     "status": "completed"
    },
    "tags": []
   },
   "source": [
    "To compute the log return, we can simply take **the logarithm of the ratio** between two consecutive **WAP**. The first row will have an empty return as the previous book update is unknown, therefore the empty return data point will be dropped."
   ]
  },
  {
   "cell_type": "code",
   "execution_count": null,
   "id": "d682a8aa",
   "metadata": {
    "papermill": {
     "duration": 0.043895,
     "end_time": "2021-07-01T09:53:09.316657",
     "exception": false,
     "start_time": "2021-07-01T09:53:09.272762",
     "status": "completed"
    },
    "tags": []
   },
   "outputs": [],
   "source": [
    "def log_return(list_stock_prices):\n",
    "    return np.log(list_stock_prices).diff() "
   ]
  },
  {
   "cell_type": "code",
   "execution_count": null,
   "id": "39f48c36",
   "metadata": {
    "papermill": {
     "duration": 0.05067,
     "end_time": "2021-07-01T09:53:09.403118",
     "exception": false,
     "start_time": "2021-07-01T09:53:09.352448",
     "status": "completed"
    },
    "tags": []
   },
   "outputs": [],
   "source": [
    "book_example.loc[:,'log_return'] = log_return(book_example['wap'])\n",
    "book_example = book_example[~book_example['log_return'].isnull()]"
   ]
  },
  {
   "cell_type": "markdown",
   "id": "b8462f0c",
   "metadata": {
    "execution": {
     "iopub.execute_input": "2021-06-09T15:01:53.679605Z",
     "iopub.status.busy": "2021-06-09T15:01:53.679074Z",
     "iopub.status.idle": "2021-06-09T15:01:53.686279Z",
     "shell.execute_reply": "2021-06-09T15:01:53.684738Z",
     "shell.execute_reply.started": "2021-06-09T15:01:53.67957Z"
    },
    "papermill": {
     "duration": 0.035845,
     "end_time": "2021-07-01T09:53:09.474602",
     "exception": false,
     "start_time": "2021-07-01T09:53:09.438757",
     "status": "completed"
    },
    "tags": []
   },
   "source": [
    "**Let's plot the tick-to-tick return of this instrument over this time bucket**"
   ]
  },
  {
   "cell_type": "code",
   "execution_count": null,
   "id": "b52683ce",
   "metadata": {
    "papermill": {
     "duration": 0.109199,
     "end_time": "2021-07-01T09:53:09.619565",
     "exception": false,
     "start_time": "2021-07-01T09:53:09.510366",
     "status": "completed"
    },
    "tags": []
   },
   "outputs": [],
   "source": [
    "#fig = px.line(book_example, x=\"seconds_in_bucket\", y=\"log_return\", title='Log return of stock_id_0, time_id_5')\n",
    "plt.figure(figsize=(15,10))\n",
    "plt.plot(book_example['seconds_in_bucket'],book_example['log_return'])\n",
    "plt.xlabel('seconds in bucket')\n",
    "plt.ylabel('log return')\n",
    "plt.title('Log return of stock_id_0, time_id_5')\n",
    "plt.show()"
   ]
  },
  {
   "cell_type": "markdown",
   "id": "fc34dfbf",
   "metadata": {
    "papermill": {
     "duration": 0.036272,
     "end_time": "2021-07-01T09:53:09.692447",
     "exception": false,
     "start_time": "2021-07-01T09:53:09.656175",
     "status": "completed"
    },
    "tags": []
   },
   "source": [
    "The realized vol of stock 0 in this feature bucket, will be:"
   ]
  },
  {
   "cell_type": "code",
   "execution_count": null,
   "id": "e47d4f45",
   "metadata": {
    "papermill": {
     "duration": 0.04627,
     "end_time": "2021-07-01T09:53:09.775170",
     "exception": false,
     "start_time": "2021-07-01T09:53:09.728900",
     "status": "completed"
    },
    "tags": []
   },
   "outputs": [],
   "source": [
    "def realized_volatility(series_log_return):\n",
    "    return np.sqrt(np.sum(series_log_return**2))\n",
    "realized_vol = realized_volatility(book_example['log_return'])\n",
    "print(f'Realized volatility for stock_id 0 on time_id 5 is {realized_vol}')"
   ]
  },
  {
   "cell_type": "markdown",
   "id": "fef904fd",
   "metadata": {
    "papermill": {
     "duration": 0.036892,
     "end_time": "2021-07-01T09:53:09.854364",
     "exception": false,
     "start_time": "2021-07-01T09:53:09.817472",
     "status": "completed"
    },
    "tags": []
   },
   "source": [
    "# Naive prediction: using past realized volatility as target"
   ]
  },
  {
   "cell_type": "markdown",
   "id": "e7bc85d6",
   "metadata": {
    "papermill": {
     "duration": 0.036274,
     "end_time": "2021-07-01T09:53:09.927655",
     "exception": false,
     "start_time": "2021-07-01T09:53:09.891381",
     "status": "completed"
    },
    "tags": []
   },
   "source": [
    "A commonly known fact about volatility is that it tends to be autocorrelated. We can use this property to implement a naive model that just \"predicts\" realized volatility by using whatever the realized volatility was in the initial 10 minutes.\n",
    "\n",
    "Let's calculate the past realized volatility across the training set to see how predictive a single naive signal can be."
   ]
  },
  {
   "cell_type": "code",
   "execution_count": null,
   "id": "4a413b62",
   "metadata": {
    "papermill": {
     "duration": 0.840368,
     "end_time": "2021-07-01T09:53:10.805328",
     "exception": false,
     "start_time": "2021-07-01T09:53:09.964960",
     "status": "completed"
    },
    "tags": []
   },
   "outputs": [],
   "source": [
    "import os\n",
    "from sklearn.metrics import r2_score\n",
    "import glob\n",
    "list_order_book_file_train = glob.glob(path_vlad + '/book_train.parquet/*')"
   ]
  },
  {
   "cell_type": "markdown",
   "id": "86f2a764",
   "metadata": {
    "papermill": {
     "duration": 0.036286,
     "end_time": "2021-07-01T09:53:10.880073",
     "exception": false,
     "start_time": "2021-07-01T09:53:10.843787",
     "status": "completed"
    },
    "tags": []
   },
   "source": [
    "As the data is partitioned by stock_id in this competition to allow Kagglers better manage the memory, we try to calculcate realized volatility stock by stock and combine them into one submission file. Note that the stock id as the partition column is not present if we load the single file so we will remedy that manually. We will reuse the log return and realized volatility functions defined in the previous session."
   ]
  },
  {
   "cell_type": "code",
   "execution_count": null,
   "id": "d2dbaaa3",
   "metadata": {
    "papermill": {
     "duration": 0.048386,
     "end_time": "2021-07-01T09:53:10.965080",
     "exception": false,
     "start_time": "2021-07-01T09:53:10.916694",
     "status": "completed"
    },
    "tags": []
   },
   "outputs": [],
   "source": [
    "def realized_volatility_per_time_id(file_path, prediction_column_name):\n",
    "    # read the data\n",
    "    df_book_data = pd.read_parquet(file_path) \n",
    "    \n",
    "    # calculate WAP     \n",
    "    df_book_data['wap'] =(df_book_data['bid_price1'] * df_book_data['ask_size1'] + \n",
    "                          df_book_data['ask_price1'] * df_book_data['bid_size1'])  / \\\n",
    "                         (df_book_data['bid_size1']+ df_book_data['ask_size1'])\n",
    "        \n",
    "    # calculate log returns \n",
    "    df_book_data['log_return'] = df_book_data.groupby(['time_id'])['wap'].apply(log_return)\n",
    "    df_book_data = df_book_data[~df_book_data['log_return'].isnull()]\n",
    "    \n",
    "    # calculater realized volatility\n",
    "    df_realized_vol_per_stock =  \\\n",
    "        pd.DataFrame(df_book_data.groupby(['time_id'])['log_return'].agg(realized_volatility)).reset_index()\n",
    "    df_realized_vol_per_stock = df_realized_vol_per_stock.rename(columns = {'log_return':prediction_column_name})\n",
    "    \n",
    "    # add row_id column to the data\n",
    "    stock_id = file_path.split('=')[1]\n",
    "    df_realized_vol_per_stock['row_id'] = df_realized_vol_per_stock['time_id'].apply(lambda x:f'{stock_id}-{x}')\n",
    "    \n",
    "    # return the result\n",
    "    return df_realized_vol_per_stock[['row_id',prediction_column_name]]"
   ]
  },
  {
   "cell_type": "markdown",
   "id": "7951d9fc",
   "metadata": {
    "papermill": {
     "duration": 0.037035,
     "end_time": "2021-07-01T09:53:11.038943",
     "exception": false,
     "start_time": "2021-07-01T09:53:11.001908",
     "status": "completed"
    },
    "tags": []
   },
   "source": [
    "Looping through each individual stocks, we can get the past realized volatility as prediction for each individual stocks."
   ]
  },
  {
   "cell_type": "code",
   "execution_count": null,
   "id": "400ff1a9",
   "metadata": {
    "papermill": {
     "duration": 436.763144,
     "end_time": "2021-07-01T10:00:27.840523",
     "exception": false,
     "start_time": "2021-07-01T09:53:11.077379",
     "status": "completed"
    },
    "tags": []
   },
   "outputs": [],
   "source": [
    "def past_realized_volatility_per_stock(list_file, prediction_column_name):\n",
    "    \n",
    "    # create empty dataframe to store the result\n",
    "    df_past_realized = pd.DataFrame()\n",
    "    \n",
    "    # loop through files, calculate realized volatility and append it to the result\n",
    "    for file in list_file:\n",
    "        df_past_realized = pd.concat([df_past_realized,\n",
    "                                     realized_volatility_per_time_id(file, prediction_column_name)])\n",
    "    return df_past_realized\n",
    "\n",
    "\n",
    "# run the function to naively predict realized volatility\n",
    "df_past_realized_train = past_realized_volatility_per_stock(list_file = list_order_book_file_train,\n",
    "                                                           prediction_column_name = 'pred')"
   ]
  },
  {
   "cell_type": "code",
   "execution_count": null,
   "id": "ae92e367",
   "metadata": {},
   "outputs": [],
   "source": [
    "#df_past_realized_train.to_csv('test_realized.csv')\n",
    "df_past_realized_train"
   ]
  },
  {
   "cell_type": "code",
   "execution_count": null,
   "id": "6abb04e2",
   "metadata": {},
   "outputs": [],
   "source": [
    "train"
   ]
  },
  {
   "cell_type": "markdown",
   "id": "2a3a37d0",
   "metadata": {
    "papermill": {
     "duration": 0.036845,
     "end_time": "2021-07-01T10:00:27.915044",
     "exception": false,
     "start_time": "2021-07-01T10:00:27.878199",
     "status": "completed"
    },
    "tags": []
   },
   "source": [
    "Let's join the output dataframe with train.csv to see the performance of the naive prediction on training set."
   ]
  },
  {
   "cell_type": "code",
   "execution_count": null,
   "id": "0ba74be6",
   "metadata": {
    "papermill": {
     "duration": 1.811358,
     "end_time": "2021-07-01T10:00:29.764555",
     "exception": false,
     "start_time": "2021-07-01T10:00:27.953197",
     "status": "completed"
    },
    "tags": []
   },
   "outputs": [],
   "source": [
    "train_check = train\n",
    "train_check['row_id'] = train_check['stock_id'].astype(str) + '-' + train_check['time_id'].astype(str)\n",
    "train_check = train_check[['row_id','target']]\n",
    "df_joined = train_check.merge(df_past_realized_train[['row_id','pred']], on = ['row_id'], how = 'right')"
   ]
  },
  {
   "cell_type": "code",
   "execution_count": null,
   "id": "7f4f4889",
   "metadata": {},
   "outputs": [],
   "source": [
    "df_joined"
   ]
  },
  {
   "cell_type": "markdown",
   "id": "174aa3fc",
   "metadata": {
    "papermill": {
     "duration": 0.03818,
     "end_time": "2021-07-01T10:00:29.840303",
     "exception": false,
     "start_time": "2021-07-01T10:00:29.802123",
     "status": "completed"
    },
    "tags": []
   },
   "source": [
    "We will evaluate the naive prediction result by two metrics: RMSPE and R squared. "
   ]
  },
  {
   "cell_type": "code",
   "execution_count": null,
   "id": "db0ec792",
   "metadata": {
    "execution": {
     "iopub.execute_input": "2021-07-01T10:00:29.918198Z",
     "iopub.status.busy": "2021-07-01T10:00:29.917200Z",
     "iopub.status.idle": "2021-07-01T10:00:29.935831Z",
     "shell.execute_reply": "2021-07-01T10:00:29.936358Z",
     "shell.execute_reply.started": "2021-06-22T18:13:54.853239Z"
    },
    "papermill": {
     "duration": 0.059449,
     "end_time": "2021-07-01T10:00:29.936550",
     "exception": false,
     "start_time": "2021-07-01T10:00:29.877101",
     "status": "completed"
    },
    "tags": []
   },
   "outputs": [],
   "source": [
    "from sklearn.metrics import r2_score\n",
    "def rmspe(y_true, y_pred):\n",
    "    return  (np.sqrt(np.mean(np.square((y_true - y_pred) / y_true))))\n",
    "R2 = round(r2_score(y_true = df_joined['target'], y_pred = df_joined['pred']),3)\n",
    "RMSPE = round(rmspe(y_true = df_joined['target'], y_pred = df_joined['pred']),3)\n",
    "print(f'Performance of the naive prediction: R2 score: {R2}, RMSPE: {RMSPE}')"
   ]
  },
  {
   "cell_type": "markdown",
   "id": "e8bce46b",
   "metadata": {
    "papermill": {
     "duration": 0.038329,
     "end_time": "2021-07-01T10:00:30.015597",
     "exception": false,
     "start_time": "2021-07-01T10:00:29.977268",
     "status": "completed"
    },
    "tags": []
   },
   "source": [
    "The performance of the naive model is not amazing but as a benchmark it is a reasonable start."
   ]
  },
  {
   "cell_type": "markdown",
   "id": "924ed22b",
   "metadata": {},
   "source": [
    "# GARCH volatility prediction"
   ]
  },
  {
   "cell_type": "markdown",
   "id": "5b749ed3",
   "metadata": {},
   "source": [
    "## Some return exploration first"
   ]
  },
  {
   "cell_type": "markdown",
   "id": "a011ca28",
   "metadata": {},
   "source": [
    "Plot log returns for the whole day aggregated by `time_id` (10-minute intervals)"
   ]
  },
  {
   "cell_type": "code",
   "execution_count": null,
   "id": "39feb872",
   "metadata": {},
   "outputs": [],
   "source": [
    "from matplotlib import pyplot\n",
    "from statsmodels.graphics.tsaplots import plot_acf # for acf plots\n",
    "from statsmodels.graphics.tsaplots import plot_pacf # for pacf plots\n",
    "from arch import arch_model"
   ]
  },
  {
   "cell_type": "code",
   "execution_count": null,
   "id": "144b4588",
   "metadata": {},
   "outputs": [],
   "source": [
    "# select the stock\n",
    "file_path = list_order_book_file_train[0]\n",
    "\n",
    "# read the data\n",
    "df_book_data = pd.read_parquet(file_path) \n",
    "\n",
    "# select time_id (select the first one available)\n",
    "mytime_id = df_book_data['time_id'].unique()[1]\n",
    "\n",
    "# subset the data\n",
    "df_book_data = df_book_data[df_book_data['time_id'] == mytime_id]\n",
    "\n",
    "# calculate WAP     \n",
    "df_book_data['wap'] =(df_book_data['bid_price1'] * df_book_data['ask_size1'] + \n",
    "                      df_book_data['ask_price1'] * df_book_data['bid_size1'])  / \\\n",
    "                     (df_book_data['bid_size1']+ df_book_data['ask_size1'])\n",
    "\n",
    "# calculate log returns \n",
    "df_book_data['log_return'] = df_book_data.groupby(['time_id'])['wap'].apply(log_return)\n",
    "df_book_data = df_book_data[~df_book_data['log_return'].isnull()]\n",
    "\n",
    "# plot\n",
    "fig = plt.figure()\n",
    "fig.set_figwidth(12)\n",
    "# plt.plot(df_book_data.groupby(['time_id'])['log_return'].agg(sum), label = '10-min Returns')\n",
    "plt.plot(df_book_data['seconds_in_bucket'], df_book_data['log_return'], label = 'intra-10min Returns')\n",
    "plt.legend(loc='upper right')\n",
    "plt.title('Returns Over Time')\n",
    "plt.show()"
   ]
  },
  {
   "cell_type": "markdown",
   "id": "b1c50169",
   "metadata": {},
   "source": [
    "Lets plot the absolute values to check for clustering"
   ]
  },
  {
   "cell_type": "code",
   "execution_count": null,
   "id": "fa1af481",
   "metadata": {},
   "outputs": [],
   "source": [
    "fig = plt.figure()\n",
    "fig.set_figwidth(12)\n",
    "plt.plot(df_book_data['seconds_in_bucket'], np.abs(df_book_data['log_return']), label = 'intra-10min Absolute Returns')\n",
    "plt.legend(loc='upper right')\n",
    "plt.title('Absolute Returns Over Time')\n",
    "plt.show()"
   ]
  },
  {
   "cell_type": "markdown",
   "id": "64a1c51f",
   "metadata": {},
   "source": [
    "Let's see the ACF function for returns:"
   ]
  },
  {
   "cell_type": "code",
   "execution_count": null,
   "id": "e12c9cc6",
   "metadata": {},
   "outputs": [],
   "source": [
    "# create acf plot for log returns\n",
    "plot_acf(df_book_data['log_return'])\n",
    "pyplot.show()"
   ]
  },
  {
   "cell_type": "code",
   "execution_count": null,
   "id": "e4469669",
   "metadata": {
    "scrolled": true
   },
   "outputs": [],
   "source": [
    "# create acf plot for absolute log retunrs\n",
    "plot_acf(np.abs(df_book_data['log_return']))\n",
    "pyplot.show()"
   ]
  },
  {
   "cell_type": "markdown",
   "id": "5d320488",
   "metadata": {},
   "source": [
    "The absolute returns do not look autocorrelated even if aggregated at hourly frequency. This makes me feel like those returns are not exactly sequential, and that GARCH model might not work well."
   ]
  },
  {
   "cell_type": "markdown",
   "id": "a26a9fab",
   "metadata": {},
   "source": [
    "### Let's actually aggregate unevenly spaced returns into 1 second returns"
   ]
  },
  {
   "cell_type": "code",
   "execution_count": null,
   "id": "26d7933b",
   "metadata": {},
   "outputs": [],
   "source": [
    "# select the stock\n",
    "file_path = list_order_book_file_train[0]\n",
    "\n",
    "# read the data\n",
    "df_book_data = pd.read_parquet(file_path) \n",
    "\n",
    "# select time_id (select the first one available)\n",
    "mytime_id = df_book_data['time_id'].unique()[1]\n",
    "\n",
    "# subset the data\n",
    "df_book_data = df_book_data[df_book_data['time_id'] == mytime_id]\n",
    "\n",
    "# calculate WAP     \n",
    "df_book_data['wap'] =(df_book_data['bid_price1'] * df_book_data['ask_size1'] + \n",
    "                      df_book_data['ask_price1'] * df_book_data['bid_size1'])  / \\\n",
    "                     (df_book_data['bid_size1']+ df_book_data['ask_size1'])"
   ]
  },
  {
   "cell_type": "code",
   "execution_count": null,
   "id": "9817a329",
   "metadata": {},
   "outputs": [],
   "source": [
    "df_book_data_evenly = pd.DataFrame({'time_id':mytime_id, 'second':range(0,600)})\n",
    "\n",
    "# the first row is always the same\n",
    "df_evenly_remainder = df_book_data.iloc[0:1, 2:]\n",
    "\n",
    "\n",
    "# create the rest of the table through a loop\n",
    "\n",
    "for i in range(1, 600):\n",
    "    df_evenly_remainder = df_evenly_remainder.append(df_book_data[df_book_data['seconds_in_bucket'] <= i].iloc[-1:, 2:])\n",
    "\n",
    "\n",
    "# finally, reset the index and show the dataframe\n",
    "df_evenly_remainder.reset_index(inplace=True, drop=True)\n",
    "\n",
    "# concat two dataframes\n",
    "df_book_data_evenly = pd.concat([df_book_data_evenly, df_evenly_remainder], axis=1)\n",
    "df_book_data_evenly"
   ]
  },
  {
   "cell_type": "code",
   "execution_count": null,
   "id": "f52a4dfe",
   "metadata": {},
   "outputs": [],
   "source": [
    "# calculate log returns \n",
    "df_book_data_evenly['log_return'] = df_book_data_evenly.groupby(['time_id'])['wap'].apply(log_return)\n",
    "df_book_data_evenly = df_book_data_evenly[~df_book_data_evenly['log_return'].isnull()]\n",
    "\n",
    "# plot\n",
    "fig = plt.figure()\n",
    "fig.set_figwidth(12)\n",
    "plt.plot(df_book_data_evenly['second'], df_book_data_evenly['log_return'], label = '1 sec returns')\n",
    "plt.legend(loc='upper right')\n",
    "plt.title('Returns Over Time')\n",
    "plt.show()"
   ]
  },
  {
   "cell_type": "code",
   "execution_count": null,
   "id": "4fab710d",
   "metadata": {},
   "outputs": [],
   "source": [
    "fig = plt.figure()\n",
    "fig.set_figwidth(12)\n",
    "plt.plot(df_book_data_evenly['second'], np.abs(df_book_data_evenly['log_return']), label = '1 sec Absolute Returns')\n",
    "plt.legend(loc='upper right')\n",
    "plt.title('Absolute Returns Over Time')\n",
    "plt.show()"
   ]
  },
  {
   "cell_type": "code",
   "execution_count": null,
   "id": "5ee015d9",
   "metadata": {},
   "outputs": [],
   "source": [
    "# create acf plot for absolute log retunrs\n",
    "plot_acf(np.abs(df_book_data_evenly['log_return']))\n",
    "pyplot.show()"
   ]
  },
  {
   "cell_type": "markdown",
   "id": "6f66ace8",
   "metadata": {},
   "source": [
    "This looks more autocorrelated!"
   ]
  },
  {
   "cell_type": "markdown",
   "id": "398bb98f",
   "metadata": {},
   "source": [
    "## Fitting  GARCH(1, 1) model"
   ]
  },
  {
   "cell_type": "markdown",
   "id": "ad98dee1",
   "metadata": {},
   "source": [
    "Estimating GARCH(1,1) for a 10-minute interval"
   ]
  },
  {
   "cell_type": "code",
   "execution_count": null,
   "id": "09985708",
   "metadata": {},
   "outputs": [],
   "source": [
    "import warnings\n",
    "warnings.filterwarnings('ignore')"
   ]
  },
  {
   "cell_type": "code",
   "execution_count": 181,
   "id": "7168823e",
   "metadata": {},
   "outputs": [
    {
     "name": "stdout",
     "output_type": "stream",
     "text": [
      "Iteration:      1,   Func. Count:      6,   Neg. LLF: 2787.0261316545416\n",
      "Iteration:      2,   Func. Count:     14,   Neg. LLF: 5774.4734079566015\n",
      "Iteration:      3,   Func. Count:     22,   Neg. LLF: 779.4350793311169\n",
      "Iteration:      4,   Func. Count:     28,   Neg. LLF: 744.0893272397425\n",
      "Iteration:      5,   Func. Count:     33,   Neg. LLF: 744.0881176847024\n",
      "Iteration:      6,   Func. Count:     39,   Neg. LLF: 743.9270306500354\n",
      "Iteration:      7,   Func. Count:     44,   Neg. LLF: 743.9165316395079\n",
      "Iteration:      8,   Func. Count:     49,   Neg. LLF: 743.9103201230337\n",
      "Iteration:      9,   Func. Count:     54,   Neg. LLF: 743.9102824561805\n",
      "Iteration:     10,   Func. Count:     58,   Neg. LLF: 743.9102824589422\n",
      "Optimization terminated successfully    (Exit mode 0)\n",
      "            Current function value: 743.9102824561805\n",
      "            Iterations: 10\n",
      "            Function evaluations: 58\n",
      "            Gradient evaluations: 10\n"
     ]
    }
   ],
   "source": [
    "N = 10000\n",
    "model = arch_model(df_book_data_evenly['log_return'] * N, p=1, q=1)\n",
    "model_fit = model.fit()\n",
    "yhat = model_fit.forecast(horizon=600, reindex=True)"
   ]
  },
  {
   "cell_type": "code",
   "execution_count": 187,
   "id": "82754fab",
   "metadata": {},
   "outputs": [
    {
     "data": {
      "image/png": "[encoded data removed]",
      "text/plain": [
       "<Figure size 864x288 with 1 Axes>"
      ]
     },
     "metadata": {
      "needs_background": "light"
     },
     "output_type": "display_data"
    }
   ],
   "source": [
    "# # combine returns predictions with actual returns and plot\n",
    "fig = plt.figure()\n",
    "fig.set_figwidth(12)\n",
    "plt.plot(pd.concat([np.abs(df_book_data_evenly['log_return']), pd.Series(yhat.variance.values[-1,:] / N)]).reset_index(drop=True), label = '1 sec Absolute Returns')\n",
    "plt.legend(loc='upper right')\n",
    "plt.title('Absolute Returns Over Time')\n",
    "plt.show()"
   ]
  },
  {
   "cell_type": "markdown",
   "id": "7d74ce7b",
   "metadata": {},
   "source": [
    "Now lets compute the realized volatility of the past returns and the prediction"
   ]
  },
  {
   "cell_type": "code",
   "execution_count": 194,
   "id": "46609b9c",
   "metadata": {},
   "outputs": [
    {
     "name": "stdout",
     "output_type": "stream",
     "text": [
      "Realized volatility in: the interval = 0.0021547, projected = : 0.0020548\n"
     ]
    }
   ],
   "source": [
    "# past\n",
    "past = realized_volatility(df_book_data_evenly['log_return'])\n",
    "\n",
    "# GARCH prediction\n",
    "predicted = realized_volatility(pd.Series(yhat.variance.values[-1,:] / N))\n",
    "\n",
    "print(f'Realized volatility in: the interval = {round(past, 7)}, projected = : {round(predicted,7)}')"
   ]
  },
  {
   "cell_type": "markdown",
   "id": "e46a1e40",
   "metadata": {},
   "source": [
    "The volatility predicted by GARCH(1,1) model differs slightly from the naive prediction."
   ]
  },
  {
   "cell_type": "code",
   "execution_count": null,
   "id": "8eeae39e",
   "metadata": {},
   "outputs": [],
   "source": []
  },
  {
   "cell_type": "code",
   "execution_count": null,
   "id": "c62283a8",
   "metadata": {},
   "outputs": [],
   "source": []
  },
  {
   "cell_type": "code",
   "execution_count": null,
   "id": "c75e4d40",
   "metadata": {},
   "outputs": [],
   "source": []
  },
  {
   "cell_type": "code",
   "execution_count": null,
   "id": "8501e91c",
   "metadata": {},
   "outputs": [],
   "source": []
  },
  {
   "cell_type": "code",
   "execution_count": null,
   "id": "7f0a0202",
   "metadata": {
    "papermill": {
     "duration": 1.811358,
     "end_time": "2021-07-01T10:00:29.764555",
     "exception": false,
     "start_time": "2021-07-01T10:00:27.953197",
     "status": "completed"
    },
    "tags": []
   },
   "outputs": [],
   "source": [
    "train = pd.read_csv(path_vlad + '/train.csv')\n",
    "train_check = train\n",
    "train_check['row_id'] = train_check['stock_id'].astype(str) + '-' + train_check['time_id'].astype(str)\n",
    "train_check = train_check[['row_id','target']]\n",
    "df_joined = train_check.merge(data_by_timeid_wpred[['row_id','pred']], on = ['row_id'], how = 'right')"
   ]
  },
  {
   "cell_type": "code",
   "execution_count": null,
   "id": "787f2884",
   "metadata": {},
   "outputs": [],
   "source": [
    "df_joined"
   ]
  },
  {
   "cell_type": "code",
   "execution_count": null,
   "id": "df96ec15",
   "metadata": {},
   "outputs": [],
   "source": [
    "plt.figure(figsize=(12,4))\n",
    "plt.plot(df_joined['target'])\n",
    "plt.plot(df_joined['pred'])\n",
    "plt.title('Volatility Prediction - Rolling Forecast')\n",
    "plt.legend(['Target', 'Prediction'])\n",
    "plt.show()"
   ]
  },
  {
   "cell_type": "code",
   "execution_count": null,
   "id": "3c627a0b",
   "metadata": {},
   "outputs": [],
   "source": [
    "from sklearn.metrics import r2_score\n",
    "def rmspe(y_true, y_pred):\n",
    "    return  (np.sqrt(np.mean(np.square((y_true - y_pred) / y_true))))\n",
    "R2 = round(r2_score(y_true = df_joined['target'], y_pred = df_joined['pred']),3)\n",
    "RMSPE = round(rmspe(y_true = df_joined['target'], y_pred = df_joined['pred']),3)\n",
    "print(f'Performance of the GARCH prediction: R2 score: {R2}, RMSPE: {RMSPE}')"
   ]
  },
  {
   "cell_type": "markdown",
   "id": "9d2cde50",
   "metadata": {},
   "source": [
    "NEED TO CHECK HOW GOOD THIS FITS ABSOLUTE RETURNS"
   ]
  },
  {
   "cell_type": "code",
   "execution_count": null,
   "id": "d1e14776",
   "metadata": {},
   "outputs": [],
   "source": []
  }
 ],
 "metadata": {
  "kernelspec": {
   "display_name": "Python 3",
   "language": "python",
   "name": "python3"
  },
  "language_info": {
   "codemirror_mode": {
    "name": "ipython",
    "version": 3
   },
   "file_extension": ".py",
   "mimetype": "text/x-python",
   "name": "python",
   "nbconvert_exporter": "python",
   "pygments_lexer": "ipython3",
   "version": "3.8.8"
  },
  "papermill": {
   "default_parameters": {},
   "duration": 458.049723,
   "end_time": "2021-07-01T10:00:32.262570",
   "environment_variables": {},
   "exception": null,
   "input_path": "__notebook__.ipynb",
   "output_path": "__notebook__.ipynb",
   "parameters": {},
   "start_time": "2021-07-01T09:52:54.212847",
   "version": "2.3.3"
  }
 },
 "nbformat": 4,
 "nbformat_minor": 5
}
