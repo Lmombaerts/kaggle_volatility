{
 "cells": [
  {
   "cell_type": "markdown",
   "id": "d9922fb9",
   "metadata": {
    "papermill": {
     "duration": 0.032644,
     "end_time": "2021-07-01T09:53:03.251782",
     "exception": false,
     "start_time": "2021-07-01T09:53:03.219138",
     "status": "completed"
    },
    "tags": []
   },
   "source": [
    "# GARCH Optiver Realized Volatility Prediction"
   ]
  },
  {
   "cell_type": "markdown",
   "id": "95f3330e",
   "metadata": {
    "papermill": {
     "duration": 0.034164,
     "end_time": "2021-07-01T09:53:04.415346",
     "exception": false,
     "start_time": "2021-07-01T09:53:04.381182",
     "status": "completed"
    },
    "tags": []
   },
   "source": [
    "# Realized volatility\n",
    "When we trade options, a valuable input to our models is the standard deviation of the stock log returns. The standard deviation will be different for log returns computed over longer or shorter intervals, for this reason it is usually normalized to a 1-year period and the annualized standard deviation is called **volatility**. \n",
    "\n",
    "In this competition, you will be given 10 minutes of book data and we ask you to predict what the volatility will be in the following 10 minutes. Volatility will be measured as follows:\n",
    "\n",
    "We will compute the log returns over all consecutive book updates and we define the **realized volatility, $\\sigma$,** as the squared root of the sum of squared log returns.\n",
    "$$\n",
    "\\sigma = \\sqrt{\\sum_{t}r_{t-1, t}^2}\n",
    "$$\n",
    "Where we use **WAP** as price of the stock to compute log returns.\n",
    "\n",
    "We want to keep definitions as simple and clear as possible, so that Kagglers without financial knowledge will not be penalized. So we are not annualizing the volatility and we are assuming that log returns have 0 mean."
   ]
  },
  {
   "cell_type": "markdown",
   "id": "67c71b90",
   "metadata": {
    "papermill": {
     "duration": 0.032593,
     "end_time": "2021-07-01T09:53:04.481127",
     "exception": false,
     "start_time": "2021-07-01T09:53:04.448534",
     "status": "completed"
    },
    "tags": []
   },
   "source": [
    "# Competition data\n",
    "In this competition, Kagglers are challenged to generate a series of short-term signals from the book and trade data of a fixed 10-minute window to predict the realized volatility of the next 10-minute window. The target, which is given in train/test.csv, can be linked with the raw order book/trade data by the same **time_id** and **stock_id**. There is no overlap between the feature and target window."
   ]
  },
  {
   "cell_type": "markdown",
   "id": "c701316d",
   "metadata": {
    "papermill": {
     "duration": 0.032592,
     "end_time": "2021-07-01T09:53:04.546453",
     "exception": false,
     "start_time": "2021-07-01T09:53:04.513861",
     "status": "completed"
    },
    "tags": []
   },
   "source": [
    "Note that the competition data will come with partitioned parquet file. You can find a tutorial of parquet file handling in this [notebook](https://www.kaggle.com/sohier/working-with-parquet)"
   ]
  },
  {
   "cell_type": "code",
   "execution_count": null,
   "id": "4b7781d7",
   "metadata": {
    "papermill": {
     "duration": 1.865951,
     "end_time": "2021-07-01T09:53:06.447406",
     "exception": false,
     "start_time": "2021-07-01T09:53:04.581455",
     "status": "completed"
    },
    "tags": []
   },
   "outputs": [],
   "source": [
    "import pandas as pd\n",
    "import numpy as np\n",
    "import matplotlib.pyplot as plt\n",
    "import plotly.express as px\n",
    "import glob\n",
    "\n",
    "path_vlad = '/Users/vladimir.levin/data/optiver-realized-volatility-prediction'\n",
    "# path_laurent = ...\n",
    "\n",
    "train = pd.read_csv(path_vlad + '/train.csv')\n",
    "print(train.head())\n",
    "\n",
    "# print(train['stock_id'].nunique())\n",
    "# print(train['time_id'].unique())"
   ]
  },
  {
   "cell_type": "markdown",
   "id": "6d916be2",
   "metadata": {
    "papermill": {
     "duration": 0.032851,
     "end_time": "2021-07-01T09:53:06.514247",
     "exception": false,
     "start_time": "2021-07-01T09:53:06.481396",
     "status": "completed"
    },
    "tags": []
   },
   "source": [
    "Taking the first row of data, it implies that the realized vol of the **target bucket** for time_id 5, stock_id 0 is 0.004136. How does the book and trade data in **feature bucket** look like for us to build signals?"
   ]
  },
  {
   "cell_type": "code",
   "execution_count": null,
   "id": "521dd3e7",
   "metadata": {
    "papermill": {
     "duration": 0.584657,
     "end_time": "2021-07-01T09:53:07.133221",
     "exception": false,
     "start_time": "2021-07-01T09:53:06.548564",
     "status": "completed"
    },
    "tags": []
   },
   "outputs": [],
   "source": [
    "book_example = pd.read_parquet(path_vlad + '/book_train.parquet/stock_id=0')\n",
    "trade_example =  pd.read_parquet(path_vlad + '/trade_train.parquet/stock_id=0')\n",
    "stock_id = '0'\n",
    "book_example = book_example[book_example['time_id']==5]\n",
    "book_example.loc[:,'stock_id'] = stock_id\n",
    "trade_example = trade_example[trade_example['time_id']==5]\n",
    "trade_example.loc[:,'stock_id'] = stock_id"
   ]
  },
  {
   "cell_type": "markdown",
   "id": "5ed2ca39",
   "metadata": {
    "papermill": {
     "duration": 0.033189,
     "end_time": "2021-07-01T09:53:07.199700",
     "exception": false,
     "start_time": "2021-07-01T09:53:07.166511",
     "status": "completed"
    },
    "tags": []
   },
   "source": [
    "**book data snapshot**"
   ]
  },
  {
   "cell_type": "code",
   "execution_count": null,
   "id": "282a1f81",
   "metadata": {
    "papermill": {
     "duration": 0.052862,
     "end_time": "2021-07-01T09:53:07.286700",
     "exception": false,
     "start_time": "2021-07-01T09:53:07.233838",
     "status": "completed"
    },
    "tags": []
   },
   "outputs": [],
   "source": [
    "print(book_example.shape)\n",
    "#book_example.to_csv('test_book.csv')\n",
    "book_example.head(10)"
   ]
  },
  {
   "cell_type": "markdown",
   "id": "f154b4b8",
   "metadata": {
    "papermill": {
     "duration": 0.033754,
     "end_time": "2021-07-01T09:53:07.354233",
     "exception": false,
     "start_time": "2021-07-01T09:53:07.320479",
     "status": "completed"
    },
    "tags": []
   },
   "source": [
    "**trade date snapshot**"
   ]
  },
  {
   "cell_type": "code",
   "execution_count": null,
   "id": "183f52a8",
   "metadata": {
    "papermill": {
     "duration": 0.051187,
     "end_time": "2021-07-01T09:53:07.439325",
     "exception": false,
     "start_time": "2021-07-01T09:53:07.388138",
     "status": "completed"
    },
    "tags": []
   },
   "outputs": [],
   "source": [
    "trade_example.head()"
   ]
  },
  {
   "cell_type": "markdown",
   "id": "87c50858",
   "metadata": {
    "papermill": {
     "duration": 0.034491,
     "end_time": "2021-07-01T09:53:07.511867",
     "exception": false,
     "start_time": "2021-07-01T09:53:07.477376",
     "status": "completed"
    },
    "tags": []
   },
   "source": [
    "**Realized volatility calculation in python**"
   ]
  },
  {
   "cell_type": "markdown",
   "id": "c2ee3ec3",
   "metadata": {
    "papermill": {
     "duration": 0.033739,
     "end_time": "2021-07-01T09:53:07.579673",
     "exception": false,
     "start_time": "2021-07-01T09:53:07.545934",
     "status": "completed"
    },
    "tags": []
   },
   "source": [
    "In this competition, our target is to predict short-term realized volatility. Although the order book and trade data for the target cannot be shared, we can still present the realized volatility calculation using the feature data we provided. \n",
    "\n",
    "As realized volatility is a statistical measure of price changes on a given stock, to calculate the price change we first need to have a stock valuation at the fixed interval (1 second). We will use weighted averaged price, or WAP, of the order book data we provided."
   ]
  },
  {
   "cell_type": "code",
   "execution_count": null,
   "id": "a1b683f2",
   "metadata": {
    "papermill": {
     "duration": 0.047303,
     "end_time": "2021-07-01T09:53:07.661777",
     "exception": false,
     "start_time": "2021-07-01T09:53:07.614474",
     "status": "completed"
    },
    "tags": []
   },
   "outputs": [],
   "source": [
    "book_example['wap'] = (book_example['bid_price1'] * book_example['ask_size1'] +\n",
    "                                book_example['ask_price1'] * book_example['bid_size1']) / (\n",
    "                                       book_example['bid_size1']+ book_example['ask_size1'])"
   ]
  },
  {
   "cell_type": "markdown",
   "id": "327b4c54",
   "metadata": {
    "papermill": {
     "duration": 0.033742,
     "end_time": "2021-07-01T09:53:07.729971",
     "exception": false,
     "start_time": "2021-07-01T09:53:07.696229",
     "status": "completed"
    },
    "tags": []
   },
   "source": [
    "**The WAP of the stock is plotted below**"
   ]
  },
  {
   "cell_type": "code",
   "execution_count": null,
   "id": "34a70a34",
   "metadata": {
    "papermill": {
     "duration": 1.395043,
     "end_time": "2021-07-01T09:53:09.159031",
     "exception": false,
     "start_time": "2021-07-01T09:53:07.763988",
     "status": "completed"
    },
    "tags": []
   },
   "outputs": [],
   "source": [
    "#fig = px.line(book_example, x=\"seconds_in_bucket\", y=\"wap\", title='WAP of stock_id_0, time_id_5')\n",
    "#fig.show()\n",
    "plt.figure(figsize=(15,10))\n",
    "plt.plot(book_example['seconds_in_bucket'],book_example['wap'])\n",
    "plt.xlabel('seconds in bucket')\n",
    "plt.ylabel('wap')\n",
    "plt.title('WAP of stock id 0 time id 5')\n",
    "plt.show()"
   ]
  },
  {
   "cell_type": "markdown",
   "id": "943a7c6e",
   "metadata": {
    "papermill": {
     "duration": 0.036105,
     "end_time": "2021-07-01T09:53:09.235503",
     "exception": false,
     "start_time": "2021-07-01T09:53:09.199398",
     "status": "completed"
    },
    "tags": []
   },
   "source": [
    "To compute the log return, we can simply take **the logarithm of the ratio** between two consecutive **WAP**. The first row will have an empty return as the previous book update is unknown, therefore the empty return data point will be dropped."
   ]
  },
  {
   "cell_type": "code",
   "execution_count": null,
   "id": "d682a8aa",
   "metadata": {
    "papermill": {
     "duration": 0.043895,
     "end_time": "2021-07-01T09:53:09.316657",
     "exception": false,
     "start_time": "2021-07-01T09:53:09.272762",
     "status": "completed"
    },
    "tags": []
   },
   "outputs": [],
   "source": [
    "def log_return(list_stock_prices):\n",
    "    return np.log(list_stock_prices).diff() "
   ]
  },
  {
   "cell_type": "code",
   "execution_count": null,
   "id": "39f48c36",
   "metadata": {
    "papermill": {
     "duration": 0.05067,
     "end_time": "2021-07-01T09:53:09.403118",
     "exception": false,
     "start_time": "2021-07-01T09:53:09.352448",
     "status": "completed"
    },
    "tags": []
   },
   "outputs": [],
   "source": [
    "book_example.loc[:,'log_return'] = log_return(book_example['wap'])\n",
    "book_example = book_example[~book_example['log_return'].isnull()]"
   ]
  },
  {
   "cell_type": "markdown",
   "id": "b8462f0c",
   "metadata": {
    "execution": {
     "iopub.execute_input": "2021-06-09T15:01:53.679605Z",
     "iopub.status.busy": "2021-06-09T15:01:53.679074Z",
     "iopub.status.idle": "2021-06-09T15:01:53.686279Z",
     "shell.execute_reply": "2021-06-09T15:01:53.684738Z",
     "shell.execute_reply.started": "2021-06-09T15:01:53.67957Z"
    },
    "papermill": {
     "duration": 0.035845,
     "end_time": "2021-07-01T09:53:09.474602",
     "exception": false,
     "start_time": "2021-07-01T09:53:09.438757",
     "status": "completed"
    },
    "tags": []
   },
   "source": [
    "**Let's plot the tick-to-tick return of this instrument over this time bucket**"
   ]
  },
  {
   "cell_type": "code",
   "execution_count": null,
   "id": "b52683ce",
   "metadata": {
    "papermill": {
     "duration": 0.109199,
     "end_time": "2021-07-01T09:53:09.619565",
     "exception": false,
     "start_time": "2021-07-01T09:53:09.510366",
     "status": "completed"
    },
    "tags": []
   },
   "outputs": [],
   "source": [
    "#fig = px.line(book_example, x=\"seconds_in_bucket\", y=\"log_return\", title='Log return of stock_id_0, time_id_5')\n",
    "plt.figure(figsize=(15,10))\n",
    "plt.plot(book_example['seconds_in_bucket'],book_example['log_return'])\n",
    "plt.xlabel('seconds in bucket')\n",
    "plt.ylabel('log return')\n",
    "plt.title('Log return of stock_id_0, time_id_5')\n",
    "plt.show()"
   ]
  },
  {
   "cell_type": "markdown",
   "id": "fc34dfbf",
   "metadata": {
    "papermill": {
     "duration": 0.036272,
     "end_time": "2021-07-01T09:53:09.692447",
     "exception": false,
     "start_time": "2021-07-01T09:53:09.656175",
     "status": "completed"
    },
    "tags": []
   },
   "source": [
    "The realized vol of stock 0 in this feature bucket, will be:"
   ]
  },
  {
   "cell_type": "code",
   "execution_count": null,
   "id": "e47d4f45",
   "metadata": {
    "papermill": {
     "duration": 0.04627,
     "end_time": "2021-07-01T09:53:09.775170",
     "exception": false,
     "start_time": "2021-07-01T09:53:09.728900",
     "status": "completed"
    },
    "tags": []
   },
   "outputs": [],
   "source": [
    "def realized_volatility(series_log_return):\n",
    "    return np.sqrt(np.sum(series_log_return**2))\n",
    "realized_vol = realized_volatility(book_example['log_return'])\n",
    "print(f'Realized volatility for stock_id 0 on time_id 5 is {realized_vol}')"
   ]
  },
  {
   "cell_type": "markdown",
   "id": "fef904fd",
   "metadata": {
    "papermill": {
     "duration": 0.036892,
     "end_time": "2021-07-01T09:53:09.854364",
     "exception": false,
     "start_time": "2021-07-01T09:53:09.817472",
     "status": "completed"
    },
    "tags": []
   },
   "source": [
    "# Naive prediction: using past realized volatility as target"
   ]
  },
  {
   "cell_type": "markdown",
   "id": "e7bc85d6",
   "metadata": {
    "papermill": {
     "duration": 0.036274,
     "end_time": "2021-07-01T09:53:09.927655",
     "exception": false,
     "start_time": "2021-07-01T09:53:09.891381",
     "status": "completed"
    },
    "tags": []
   },
   "source": [
    "A commonly known fact about volatility is that it tends to be autocorrelated. We can use this property to implement a naive model that just \"predicts\" realized volatility by using whatever the realized volatility was in the initial 10 minutes.\n",
    "\n",
    "Let's calculate the past realized volatility across the training set to see how predictive a single naive signal can be."
   ]
  },
  {
   "cell_type": "code",
   "execution_count": null,
   "id": "4a413b62",
   "metadata": {
    "papermill": {
     "duration": 0.840368,
     "end_time": "2021-07-01T09:53:10.805328",
     "exception": false,
     "start_time": "2021-07-01T09:53:09.964960",
     "status": "completed"
    },
    "tags": []
   },
   "outputs": [],
   "source": [
    "import os\n",
    "from sklearn.metrics import r2_score\n",
    "import glob\n",
    "list_order_book_file_train = glob.glob(path_vlad + '/book_train.parquet/*')"
   ]
  },
  {
   "cell_type": "markdown",
   "id": "86f2a764",
   "metadata": {
    "papermill": {
     "duration": 0.036286,
     "end_time": "2021-07-01T09:53:10.880073",
     "exception": false,
     "start_time": "2021-07-01T09:53:10.843787",
     "status": "completed"
    },
    "tags": []
   },
   "source": [
    "As the data is partitioned by stock_id in this competition to allow Kagglers better manage the memory, we try to calculcate realized volatility stock by stock and combine them into one submission file. Note that the stock id as the partition column is not present if we load the single file so we will remedy that manually. We will reuse the log return and realized volatility functions defined in the previous session."
   ]
  },
  {
   "cell_type": "code",
   "execution_count": null,
   "id": "d2dbaaa3",
   "metadata": {
    "papermill": {
     "duration": 0.048386,
     "end_time": "2021-07-01T09:53:10.965080",
     "exception": false,
     "start_time": "2021-07-01T09:53:10.916694",
     "status": "completed"
    },
    "tags": []
   },
   "outputs": [],
   "source": [
    "def realized_volatility_per_time_id(file_path, prediction_column_name):\n",
    "    # read the data\n",
    "    df_book_data = pd.read_parquet(file_path) \n",
    "    \n",
    "    # calculate WAP     \n",
    "    df_book_data['wap'] =(df_book_data['bid_price1'] * df_book_data['ask_size1'] + \n",
    "                          df_book_data['ask_price1'] * df_book_data['bid_size1'])  / \\\n",
    "                         (df_book_data['bid_size1']+ df_book_data['ask_size1'])\n",
    "        \n",
    "    # calculate log returns \n",
    "    df_book_data['log_return'] = df_book_data.groupby(['time_id'])['wap'].apply(log_return)\n",
    "    df_book_data = df_book_data[~df_book_data['log_return'].isnull()]\n",
    "    \n",
    "    # calculater realized volatility\n",
    "    df_realized_vol_per_stock =  \\\n",
    "        pd.DataFrame(df_book_data.groupby(['time_id'])['log_return'].agg(realized_volatility)).reset_index()\n",
    "    df_realized_vol_per_stock = df_realized_vol_per_stock.rename(columns = {'log_return':prediction_column_name})\n",
    "    \n",
    "    # add row_id column to the data\n",
    "    stock_id = file_path.split('=')[1]\n",
    "    df_realized_vol_per_stock['row_id'] = df_realized_vol_per_stock['time_id'].apply(lambda x:f'{stock_id}-{x}')\n",
    "    \n",
    "    # return the result\n",
    "    return df_realized_vol_per_stock[['row_id',prediction_column_name]]"
   ]
  },
  {
   "cell_type": "markdown",
   "id": "7951d9fc",
   "metadata": {
    "papermill": {
     "duration": 0.037035,
     "end_time": "2021-07-01T09:53:11.038943",
     "exception": false,
     "start_time": "2021-07-01T09:53:11.001908",
     "status": "completed"
    },
    "tags": []
   },
   "source": [
    "Looping through each individual stocks, we can get the past realized volatility as prediction for each individual stocks."
   ]
  },
  {
   "cell_type": "code",
   "execution_count": null,
   "id": "400ff1a9",
   "metadata": {
    "papermill": {
     "duration": 436.763144,
     "end_time": "2021-07-01T10:00:27.840523",
     "exception": false,
     "start_time": "2021-07-01T09:53:11.077379",
     "status": "completed"
    },
    "tags": []
   },
   "outputs": [],
   "source": [
    "def past_realized_volatility_per_stock(list_file, prediction_column_name):\n",
    "    \n",
    "    # create empty dataframe to store the result\n",
    "    df_past_realized = pd.DataFrame()\n",
    "    \n",
    "    # loop through files, calculate realized volatility and append it to the result\n",
    "    for file in list_file:\n",
    "        df_past_realized = pd.concat([df_past_realized,\n",
    "                                     realized_volatility_per_time_id(file, prediction_column_name)])\n",
    "    return df_past_realized\n",
    "\n",
    "\n",
    "# run the function to naively predict realized volatility\n",
    "df_past_realized_train = past_realized_volatility_per_stock(list_file = list_order_book_file_train,\n",
    "                                                           prediction_column_name = 'pred')"
   ]
  },
  {
   "cell_type": "code",
   "execution_count": null,
   "id": "ae92e367",
   "metadata": {},
   "outputs": [],
   "source": [
    "#df_past_realized_train.to_csv('test_realized.csv')\n",
    "df_past_realized_train"
   ]
  },
  {
   "cell_type": "code",
   "execution_count": null,
   "id": "6abb04e2",
   "metadata": {},
   "outputs": [],
   "source": [
    "train"
   ]
  },
  {
   "cell_type": "markdown",
   "id": "2a3a37d0",
   "metadata": {
    "papermill": {
     "duration": 0.036845,
     "end_time": "2021-07-01T10:00:27.915044",
     "exception": false,
     "start_time": "2021-07-01T10:00:27.878199",
     "status": "completed"
    },
    "tags": []
   },
   "source": [
    "Let's join the output dataframe with train.csv to see the performance of the naive prediction on training set."
   ]
  },
  {
   "cell_type": "code",
   "execution_count": null,
   "id": "0ba74be6",
   "metadata": {
    "papermill": {
     "duration": 1.811358,
     "end_time": "2021-07-01T10:00:29.764555",
     "exception": false,
     "start_time": "2021-07-01T10:00:27.953197",
     "status": "completed"
    },
    "tags": []
   },
   "outputs": [],
   "source": [
    "train_check = train\n",
    "train_check['row_id'] = train_check['stock_id'].astype(str) + '-' + train_check['time_id'].astype(str)\n",
    "train_check = train_check[['row_id','target']]\n",
    "df_joined = train_check.merge(df_past_realized_train[['row_id','pred']], on = ['row_id'], how = 'right')"
   ]
  },
  {
   "cell_type": "code",
   "execution_count": null,
   "id": "7f4f4889",
   "metadata": {},
   "outputs": [],
   "source": [
    "df_joined"
   ]
  },
  {
   "cell_type": "markdown",
   "id": "174aa3fc",
   "metadata": {
    "papermill": {
     "duration": 0.03818,
     "end_time": "2021-07-01T10:00:29.840303",
     "exception": false,
     "start_time": "2021-07-01T10:00:29.802123",
     "status": "completed"
    },
    "tags": []
   },
   "source": [
    "We will evaluate the naive prediction result by two metrics: RMSPE and R squared. "
   ]
  },
  {
   "cell_type": "code",
   "execution_count": null,
   "id": "db0ec792",
   "metadata": {
    "execution": {
     "iopub.execute_input": "2021-07-01T10:00:29.918198Z",
     "iopub.status.busy": "2021-07-01T10:00:29.917200Z",
     "iopub.status.idle": "2021-07-01T10:00:29.935831Z",
     "shell.execute_reply": "2021-07-01T10:00:29.936358Z",
     "shell.execute_reply.started": "2021-06-22T18:13:54.853239Z"
    },
    "papermill": {
     "duration": 0.059449,
     "end_time": "2021-07-01T10:00:29.936550",
     "exception": false,
     "start_time": "2021-07-01T10:00:29.877101",
     "status": "completed"
    },
    "tags": []
   },
   "outputs": [],
   "source": [
    "from sklearn.metrics import r2_score\n",
    "def rmspe(y_true, y_pred):\n",
    "    return  (np.sqrt(np.mean(np.square((y_true - y_pred) / y_true))))\n",
    "R2 = round(r2_score(y_true = df_joined['target'], y_pred = df_joined['pred']),3)\n",
    "RMSPE = round(rmspe(y_true = df_joined['target'], y_pred = df_joined['pred']),3)\n",
    "print(f'Performance of the naive prediction: R2 score: {R2}, RMSPE: {RMSPE}')"
   ]
  },
  {
   "cell_type": "markdown",
   "id": "e8bce46b",
   "metadata": {
    "papermill": {
     "duration": 0.038329,
     "end_time": "2021-07-01T10:00:30.015597",
     "exception": false,
     "start_time": "2021-07-01T10:00:29.977268",
     "status": "completed"
    },
    "tags": []
   },
   "source": [
    "The performance of the naive model is not amazing but as a benchmark it is a reasonable start."
   ]
  },
  {
   "cell_type": "markdown",
   "id": "629e2bed",
   "metadata": {},
   "source": [
    "# GARCH volatility prediction"
   ]
  },
  {
   "cell_type": "markdown",
   "id": "2419e271",
   "metadata": {},
   "source": [
    "## Some return exploration first"
   ]
  },
  {
   "cell_type": "markdown",
   "id": "5af79e89",
   "metadata": {},
   "source": [
    "Plot log returns for the whole day aggregated by `time_id` (10-minute intervals)"
   ]
  },
  {
   "cell_type": "code",
   "execution_count": 203,
   "id": "cc112099",
   "metadata": {},
   "outputs": [],
   "source": [
    "from matplotlib import pyplot\n",
    "from statsmodels.graphics.tsaplots import plot_acf # for acf plots\n",
    "from statsmodels.graphics.tsaplots import plot_pacf # for pacf plots\n",
    "from arch import arch_model"
   ]
  },
  {
   "cell_type": "code",
   "execution_count": 204,
   "id": "3031e24a",
   "metadata": {},
   "outputs": [
    {
     "data": {
      "image/png": "[encoded data removed]",
      "text/plain": [
       "<Figure size 864x288 with 1 Axes>"
      ]
     },
     "metadata": {
      "needs_background": "light"
     },
     "output_type": "display_data"
    }
   ],
   "source": [
    "# select the stock\n",
    "file_path = list_order_book_file_train[0]\n",
    "\n",
    "# read the data\n",
    "df_book_data = pd.read_parquet(file_path) \n",
    "\n",
    "# select time_id (select the first one available)\n",
    "mytime_id = df_book_data['time_id'].unique()[1]\n",
    "\n",
    "# subset the data\n",
    "df_book_data = df_book_data[df_book_data['time_id'] == mytime_id]\n",
    "\n",
    "# calculate WAP     \n",
    "df_book_data['wap'] =(df_book_data['bid_price1'] * df_book_data['ask_size1'] + \n",
    "                      df_book_data['ask_price1'] * df_book_data['bid_size1'])  / \\\n",
    "                     (df_book_data['bid_size1']+ df_book_data['ask_size1'])\n",
    "\n",
    "# calculate log returns \n",
    "df_book_data['log_return'] = df_book_data.groupby(['time_id'])['wap'].apply(log_return)\n",
    "df_book_data = df_book_data[~df_book_data['log_return'].isnull()]\n",
    "\n",
    "# plot\n",
    "fig = plt.figure()\n",
    "fig.set_figwidth(12)\n",
    "# plt.plot(df_book_data.groupby(['time_id'])['log_return'].agg(sum), label = '10-min Returns')\n",
    "plt.plot(df_book_data['seconds_in_bucket'], df_book_data['log_return'], label = 'intra-10min Returns')\n",
    "plt.legend(loc='upper right')\n",
    "plt.title('Returns Over Time')\n",
    "plt.show()"
   ]
  },
  {
   "cell_type": "markdown",
   "id": "003961a1",
   "metadata": {},
   "source": [
    "Lets plot the absolute values to check for clustering"
   ]
  },
  {
   "cell_type": "code",
   "execution_count": 205,
   "id": "01dc01ff",
   "metadata": {},
   "outputs": [
    {
     "data": {
      "image/png": "[encoded data removed]",
      "text/plain": [
       "<Figure size 864x288 with 1 Axes>"
      ]
     },
     "metadata": {
      "needs_background": "light"
     },
     "output_type": "display_data"
    }
   ],
   "source": [
    "fig = plt.figure()\n",
    "fig.set_figwidth(12)\n",
    "plt.plot(df_book_data['seconds_in_bucket'], np.abs(df_book_data['log_return']), label = 'intra-10min Absolute Returns')\n",
    "plt.legend(loc='upper right')\n",
    "plt.title('Absolute Returns Over Time')\n",
    "plt.show()"
   ]
  },
  {
   "cell_type": "markdown",
   "id": "71e6a0e0",
   "metadata": {},
   "source": [
    "Let's see the ACF function for returns:"
   ]
  },
  {
   "cell_type": "code",
   "execution_count": 206,
   "id": "cd09ccb8",
   "metadata": {},
   "outputs": [
    {
     "data": {
      "image/png": "[encoded data removed]",
      "text/plain": [
       "<Figure size 432x288 with 1 Axes>"
      ]
     },
     "metadata": {
      "needs_background": "light"
     },
     "output_type": "display_data"
    }
   ],
   "source": [
    "# create acf plot for log returns\n",
    "plot_acf(df_book_data['log_return'])\n",
    "pyplot.show()"
   ]
  },
  {
   "cell_type": "code",
   "execution_count": 207,
   "id": "7c233362",
   "metadata": {
    "scrolled": true
   },
   "outputs": [
    {
     "data": {
      "image/png": "[encoded data removed]",
      "text/plain": [
       "<Figure size 432x288 with 1 Axes>"
      ]
     },
     "metadata": {
      "needs_background": "light"
     },
     "output_type": "display_data"
    }
   ],
   "source": [
    "# create acf plot for absolute log retunrs\n",
    "plot_acf(np.abs(df_book_data['log_return']))\n",
    "pyplot.show()"
   ]
  },
  {
   "cell_type": "markdown",
   "id": "0fc19b62",
   "metadata": {},
   "source": [
    "The absolute returns do not look autocorrelated."
   ]
  },
  {
   "cell_type": "markdown",
   "id": "8dd5396a",
   "metadata": {},
   "source": [
    "### Let's actually aggregate unevenly spaced returns into 1 second returns"
   ]
  },
  {
   "cell_type": "code",
   "execution_count": 219,
   "id": "783bbb36",
   "metadata": {},
   "outputs": [],
   "source": [
    "# select the stock\n",
    "file_path = list_order_book_file_train[0]\n",
    "\n",
    "# read the data\n",
    "df_book_data = pd.read_parquet(file_path) \n",
    "\n",
    "# select time_id (select the first one available)\n",
    "mytime_id = df_book_data['time_id'].unique()[1]\n",
    "\n",
    "# subset the data\n",
    "df_book_data = df_book_data[df_book_data['time_id'] == mytime_id]\n",
    "\n",
    "# calculate WAP     \n",
    "df_book_data['wap'] =(df_book_data['bid_price1'] * df_book_data['ask_size1'] + \n",
    "                      df_book_data['ask_price1'] * df_book_data['bid_size1'])  / \\\n",
    "                     (df_book_data['bid_size1']+ df_book_data['ask_size1'])"
   ]
  },
  {
   "cell_type": "code",
   "execution_count": 209,
   "id": "7601e00c",
   "metadata": {},
   "outputs": [
    {
     "data": {
      "text/html": [
       "<div>\n",
       "<style scoped>\n",
       "    .dataframe tbody tr th:only-of-type {\n",
       "        vertical-align: middle;\n",
       "    }\n",
       "\n",
       "    .dataframe tbody tr th {\n",
       "        vertical-align: top;\n",
       "    }\n",
       "\n",
       "    .dataframe thead th {\n",
       "        text-align: right;\n",
       "    }\n",
       "</style>\n",
       "<table border=\"1\" class=\"dataframe\">\n",
       "  <thead>\n",
       "    <tr style=\"text-align: right;\">\n",
       "      <th></th>\n",
       "      <th>time_id</th>\n",
       "      <th>second</th>\n",
       "      <th>bid_price1</th>\n",
       "      <th>ask_price1</th>\n",
       "      <th>bid_price2</th>\n",
       "      <th>ask_price2</th>\n",
       "      <th>bid_size1</th>\n",
       "      <th>ask_size1</th>\n",
       "      <th>bid_size2</th>\n",
       "      <th>ask_size2</th>\n",
       "      <th>wap</th>\n",
       "    </tr>\n",
       "  </thead>\n",
       "  <tbody>\n",
       "    <tr>\n",
       "      <th>0</th>\n",
       "      <td>11</td>\n",
       "      <td>0</td>\n",
       "      <td>0.999108</td>\n",
       "      <td>0.999286</td>\n",
       "      <td>0.999078</td>\n",
       "      <td>0.999524</td>\n",
       "      <td>2</td>\n",
       "      <td>107</td>\n",
       "      <td>3</td>\n",
       "      <td>72</td>\n",
       "      <td>0.999111</td>\n",
       "    </tr>\n",
       "    <tr>\n",
       "      <th>1</th>\n",
       "      <td>11</td>\n",
       "      <td>1</td>\n",
       "      <td>0.999108</td>\n",
       "      <td>0.999286</td>\n",
       "      <td>0.999078</td>\n",
       "      <td>0.999524</td>\n",
       "      <td>2</td>\n",
       "      <td>107</td>\n",
       "      <td>3</td>\n",
       "      <td>72</td>\n",
       "      <td>0.999111</td>\n",
       "    </tr>\n",
       "    <tr>\n",
       "      <th>2</th>\n",
       "      <td>11</td>\n",
       "      <td>2</td>\n",
       "      <td>0.999108</td>\n",
       "      <td>0.999286</td>\n",
       "      <td>0.999078</td>\n",
       "      <td>0.999524</td>\n",
       "      <td>2</td>\n",
       "      <td>107</td>\n",
       "      <td>3</td>\n",
       "      <td>72</td>\n",
       "      <td>0.999111</td>\n",
       "    </tr>\n",
       "    <tr>\n",
       "      <th>3</th>\n",
       "      <td>11</td>\n",
       "      <td>3</td>\n",
       "      <td>0.999108</td>\n",
       "      <td>0.999286</td>\n",
       "      <td>0.999078</td>\n",
       "      <td>0.999524</td>\n",
       "      <td>2</td>\n",
       "      <td>107</td>\n",
       "      <td>3</td>\n",
       "      <td>72</td>\n",
       "      <td>0.999111</td>\n",
       "    </tr>\n",
       "    <tr>\n",
       "      <th>4</th>\n",
       "      <td>11</td>\n",
       "      <td>4</td>\n",
       "      <td>0.999108</td>\n",
       "      <td>0.999286</td>\n",
       "      <td>0.999078</td>\n",
       "      <td>0.999494</td>\n",
       "      <td>2</td>\n",
       "      <td>107</td>\n",
       "      <td>7</td>\n",
       "      <td>11</td>\n",
       "      <td>0.999111</td>\n",
       "    </tr>\n",
       "    <tr>\n",
       "      <th>...</th>\n",
       "      <td>...</td>\n",
       "      <td>...</td>\n",
       "      <td>...</td>\n",
       "      <td>...</td>\n",
       "      <td>...</td>\n",
       "      <td>...</td>\n",
       "      <td>...</td>\n",
       "      <td>...</td>\n",
       "      <td>...</td>\n",
       "      <td>...</td>\n",
       "      <td>...</td>\n",
       "    </tr>\n",
       "    <tr>\n",
       "      <th>595</th>\n",
       "      <td>11</td>\n",
       "      <td>595</td>\n",
       "      <td>0.998959</td>\n",
       "      <td>0.999197</td>\n",
       "      <td>0.998275</td>\n",
       "      <td>0.999316</td>\n",
       "      <td>172</td>\n",
       "      <td>3</td>\n",
       "      <td>61</td>\n",
       "      <td>11</td>\n",
       "      <td>0.999193</td>\n",
       "    </tr>\n",
       "    <tr>\n",
       "      <th>596</th>\n",
       "      <td>11</td>\n",
       "      <td>596</td>\n",
       "      <td>0.998959</td>\n",
       "      <td>0.999197</td>\n",
       "      <td>0.998275</td>\n",
       "      <td>0.999316</td>\n",
       "      <td>172</td>\n",
       "      <td>3</td>\n",
       "      <td>61</td>\n",
       "      <td>11</td>\n",
       "      <td>0.999193</td>\n",
       "    </tr>\n",
       "    <tr>\n",
       "      <th>597</th>\n",
       "      <td>11</td>\n",
       "      <td>597</td>\n",
       "      <td>0.998959</td>\n",
       "      <td>0.999197</td>\n",
       "      <td>0.998275</td>\n",
       "      <td>0.999316</td>\n",
       "      <td>172</td>\n",
       "      <td>3</td>\n",
       "      <td>61</td>\n",
       "      <td>11</td>\n",
       "      <td>0.999193</td>\n",
       "    </tr>\n",
       "    <tr>\n",
       "      <th>598</th>\n",
       "      <td>11</td>\n",
       "      <td>598</td>\n",
       "      <td>0.998959</td>\n",
       "      <td>0.999197</td>\n",
       "      <td>0.998275</td>\n",
       "      <td>0.999316</td>\n",
       "      <td>172</td>\n",
       "      <td>3</td>\n",
       "      <td>61</td>\n",
       "      <td>11</td>\n",
       "      <td>0.999193</td>\n",
       "    </tr>\n",
       "    <tr>\n",
       "      <th>599</th>\n",
       "      <td>11</td>\n",
       "      <td>599</td>\n",
       "      <td>0.998959</td>\n",
       "      <td>0.999197</td>\n",
       "      <td>0.998275</td>\n",
       "      <td>0.999316</td>\n",
       "      <td>172</td>\n",
       "      <td>3</td>\n",
       "      <td>61</td>\n",
       "      <td>11</td>\n",
       "      <td>0.999193</td>\n",
       "    </tr>\n",
       "  </tbody>\n",
       "</table>\n",
       "<p>600 rows × 11 columns</p>\n",
       "</div>"
      ],
      "text/plain": [
       "     time_id  second  bid_price1  ask_price1  bid_price2  ask_price2  \\\n",
       "0         11       0    0.999108    0.999286    0.999078    0.999524   \n",
       "1         11       1    0.999108    0.999286    0.999078    0.999524   \n",
       "2         11       2    0.999108    0.999286    0.999078    0.999524   \n",
       "3         11       3    0.999108    0.999286    0.999078    0.999524   \n",
       "4         11       4    0.999108    0.999286    0.999078    0.999494   \n",
       "..       ...     ...         ...         ...         ...         ...   \n",
       "595       11     595    0.998959    0.999197    0.998275    0.999316   \n",
       "596       11     596    0.998959    0.999197    0.998275    0.999316   \n",
       "597       11     597    0.998959    0.999197    0.998275    0.999316   \n",
       "598       11     598    0.998959    0.999197    0.998275    0.999316   \n",
       "599       11     599    0.998959    0.999197    0.998275    0.999316   \n",
       "\n",
       "     bid_size1  ask_size1  bid_size2  ask_size2       wap  \n",
       "0            2        107          3         72  0.999111  \n",
       "1            2        107          3         72  0.999111  \n",
       "2            2        107          3         72  0.999111  \n",
       "3            2        107          3         72  0.999111  \n",
       "4            2        107          7         11  0.999111  \n",
       "..         ...        ...        ...        ...       ...  \n",
       "595        172          3         61         11  0.999193  \n",
       "596        172          3         61         11  0.999193  \n",
       "597        172          3         61         11  0.999193  \n",
       "598        172          3         61         11  0.999193  \n",
       "599        172          3         61         11  0.999193  \n",
       "\n",
       "[600 rows x 11 columns]"
      ]
     },
     "execution_count": 209,
     "metadata": {},
     "output_type": "execute_result"
    }
   ],
   "source": [
    "df_book_data_evenly = pd.DataFrame({'time_id':mytime_id, 'second':range(0,600)})\n",
    "\n",
    "# the first row is always the same\n",
    "df_evenly_remainder = df_book_data.iloc[0:1, 2:]\n",
    "\n",
    "\n",
    "# create the rest of the table through a loop\n",
    "\n",
    "for i in range(1, 600):\n",
    "    df_evenly_remainder = df_evenly_remainder.append(df_book_data[df_book_data['seconds_in_bucket'] <= i].iloc[-1:, 2:])\n",
    "\n",
    "\n",
    "# finally, reset the index and show the dataframe\n",
    "df_evenly_remainder.reset_index(inplace=True, drop=True)\n",
    "\n",
    "# concat two dataframes\n",
    "df_book_data_evenly = pd.concat([df_book_data_evenly, df_evenly_remainder], axis=1)\n",
    "df_book_data_evenly"
   ]
  },
  {
   "cell_type": "code",
   "execution_count": 210,
   "id": "41ac35ce",
   "metadata": {},
   "outputs": [
    {
     "data": {
      "image/png": "[encoded data removed]",
      "text/plain": [
       "<Figure size 864x288 with 1 Axes>"
      ]
     },
     "metadata": {
      "needs_background": "light"
     },
     "output_type": "display_data"
    }
   ],
   "source": [
    "# calculate log returns \n",
    "df_book_data_evenly['log_return'] = df_book_data_evenly.groupby(['time_id'])['wap'].apply(log_return)\n",
    "df_book_data_evenly = df_book_data_evenly[~df_book_data_evenly['log_return'].isnull()]\n",
    "\n",
    "# plot\n",
    "fig = plt.figure()\n",
    "fig.set_figwidth(12)\n",
    "plt.plot(df_book_data_evenly['second'], df_book_data_evenly['log_return'], label = '1 sec returns')\n",
    "plt.legend(loc='upper right')\n",
    "plt.title('Returns Over Time')\n",
    "plt.show()"
   ]
  },
  {
   "cell_type": "code",
   "execution_count": 211,
   "id": "e2991451",
   "metadata": {},
   "outputs": [
    {
     "data": {
      "image/png": "[encoded data removed]",
      "text/plain": [
       "<Figure size 864x288 with 1 Axes>"
      ]
     },
     "metadata": {
      "needs_background": "light"
     },
     "output_type": "display_data"
    }
   ],
   "source": [
    "fig = plt.figure()\n",
    "fig.set_figwidth(12)\n",
    "plt.plot(df_book_data_evenly['second'], np.abs(df_book_data_evenly['log_return']), label = '1 sec Absolute Returns')\n",
    "plt.legend(loc='upper right')\n",
    "plt.title('Absolute Returns Over Time')\n",
    "plt.show()"
   ]
  },
  {
   "cell_type": "code",
   "execution_count": 212,
   "id": "36f24057",
   "metadata": {},
   "outputs": [
    {
     "data": {
      "image/png": "[encoded data removed]",
      "text/plain": [
       "<Figure size 432x288 with 1 Axes>"
      ]
     },
     "metadata": {
      "needs_background": "light"
     },
     "output_type": "display_data"
    }
   ],
   "source": [
    "# create acf plot for absolute log retunrs\n",
    "plot_acf(np.abs(df_book_data_evenly['log_return']))\n",
    "pyplot.show()"
   ]
  },
  {
   "cell_type": "markdown",
   "id": "e06d6333",
   "metadata": {},
   "source": [
    "This looks more autocorrelated!"
   ]
  },
  {
   "cell_type": "markdown",
   "id": "d879741c",
   "metadata": {},
   "source": [
    "## Fitting  GARCH(1, 1) model"
   ]
  },
  {
   "cell_type": "markdown",
   "id": "e5b853f5",
   "metadata": {},
   "source": [
    "Estimating GARCH(1,1) for a 10-minute interval"
   ]
  },
  {
   "cell_type": "code",
   "execution_count": null,
   "id": "24363b9b",
   "metadata": {},
   "outputs": [],
   "source": [
    "# import warnings\n",
    "# warnings.filterwarnings('ignore')"
   ]
  },
  {
   "cell_type": "code",
   "execution_count": 213,
   "id": "25eee8ed",
   "metadata": {},
   "outputs": [
    {
     "name": "stdout",
     "output_type": "stream",
     "text": [
      "Iteration:      1,   Func. Count:      6,   Neg. LLF: 2787.0261316545416\n",
      "Iteration:      2,   Func. Count:     14,   Neg. LLF: 5774.4734079566015\n",
      "Iteration:      3,   Func. Count:     22,   Neg. LLF: 779.4350793311169\n",
      "Iteration:      4,   Func. Count:     28,   Neg. LLF: 744.0893272397425\n",
      "Iteration:      5,   Func. Count:     33,   Neg. LLF: 744.0881176847024\n",
      "Iteration:      6,   Func. Count:     39,   Neg. LLF: 743.9270306500354\n",
      "Iteration:      7,   Func. Count:     44,   Neg. LLF: 743.9165316395079\n",
      "Iteration:      8,   Func. Count:     49,   Neg. LLF: 743.9103201230337\n",
      "Iteration:      9,   Func. Count:     54,   Neg. LLF: 743.9102824561805\n",
      "Iteration:     10,   Func. Count:     58,   Neg. LLF: 743.9102824589422\n",
      "Optimization terminated successfully    (Exit mode 0)\n",
      "            Current function value: 743.9102824561805\n",
      "            Iterations: 10\n",
      "            Function evaluations: 58\n",
      "            Gradient evaluations: 10\n"
     ]
    }
   ],
   "source": [
    "N = 10000\n",
    "model = arch_model(df_book_data_evenly['log_return'] * N, p=1, q=1)\n",
    "model_fit = model.fit()\n",
    "yhat = model_fit.forecast(horizon=600, reindex=True)"
   ]
  },
  {
   "cell_type": "code",
   "execution_count": 214,
   "id": "75dc49e9",
   "metadata": {},
   "outputs": [
    {
     "data": {
      "image/png": "[encoded data removed]",
      "text/plain": [
       "<Figure size 864x288 with 1 Axes>"
      ]
     },
     "metadata": {
      "needs_background": "light"
     },
     "output_type": "display_data"
    }
   ],
   "source": [
    "# # combine returns predictions with actual returns and plot\n",
    "fig = plt.figure()\n",
    "fig.set_figwidth(12)\n",
    "plt.plot(pd.concat([np.abs(df_book_data_evenly['log_return']), pd.Series(yhat.variance.values[-1,:] / N)]).reset_index(drop=True), label = '1 sec Absolute Returns')\n",
    "plt.legend(loc='upper right')\n",
    "plt.title('Absolute Returns Over Time')\n",
    "plt.show()"
   ]
  },
  {
   "cell_type": "markdown",
   "id": "d96139ab",
   "metadata": {},
   "source": [
    "Now lets compute the realized volatility of the past returns and the prediction"
   ]
  },
  {
   "cell_type": "code",
   "execution_count": 216,
   "id": "f20d33e4",
   "metadata": {},
   "outputs": [
    {
     "name": "stdout",
     "output_type": "stream",
     "text": [
      "Realized volatility in: the interval = 0.0021547, next interval prediction = : 0.0020548\n"
     ]
    }
   ],
   "source": [
    "# past\n",
    "past = realized_volatility(df_book_data_evenly['log_return'])\n",
    "\n",
    "# GARCH prediction\n",
    "predicted = realized_volatility(pd.Series(yhat.variance.values[-1,:] / N))\n",
    "\n",
    "print(f'Realized volatility in: the interval = {round(past, 7)}, next interval prediction = : {round(predicted,7)}')"
   ]
  },
  {
   "cell_type": "markdown",
   "id": "cdd66b64",
   "metadata": {},
   "source": [
    "The volatility predicted by GARCH(1,1) model differs slightly from the naive prediction. Now let's do for every `time_id` and for every stock."
   ]
  },
  {
   "cell_type": "code",
   "execution_count": 254,
   "id": "f610e3c2",
   "metadata": {},
   "outputs": [],
   "source": [
    "# function to space returns evenly:\n",
    "def even_up_bucket(uneven_bucket_df, seconds_step=1):\n",
    "    # create a dataframe\n",
    "    even_bucket_df = pd.DataFrame({'time_id':uneven_bucket_df['time_id'].unique()[0], 'second':range(0,600, seconds_step)})\n",
    "\n",
    "    # the first row is always the same\n",
    "    remainder = uneven_bucket_df.iloc[0:1, 2:]\n",
    "\n",
    "\n",
    "    # create the rest of the table through a loop\n",
    "    for i in range(1, 600, seconds_step):\n",
    "        remainder = remainder.append(uneven_bucket_df[uneven_bucket_df['seconds_in_bucket'] <= i].iloc[-1:, 2:])\n",
    "\n",
    "\n",
    "    # finally, reset the index and show the dataframe\n",
    "    remainder.reset_index(inplace=True, drop=True)\n",
    "\n",
    "    # concat two dataframes\n",
    "    even_bucket_df = pd.concat([even_bucket_df, remainder], axis=1)\n",
    "    \n",
    "    return even_bucket_df"
   ]
  },
  {
   "cell_type": "code",
   "execution_count": 257,
   "id": "b4f7b6a2",
   "metadata": {
    "scrolled": true
   },
   "outputs": [
    {
     "data": {
      "text/html": [
       "<div>\n",
       "<style scoped>\n",
       "    .dataframe tbody tr th:only-of-type {\n",
       "        vertical-align: middle;\n",
       "    }\n",
       "\n",
       "    .dataframe tbody tr th {\n",
       "        vertical-align: top;\n",
       "    }\n",
       "\n",
       "    .dataframe thead th {\n",
       "        text-align: right;\n",
       "    }\n",
       "</style>\n",
       "<table border=\"1\" class=\"dataframe\">\n",
       "  <thead>\n",
       "    <tr style=\"text-align: right;\">\n",
       "      <th></th>\n",
       "      <th>time_id</th>\n",
       "      <th>second</th>\n",
       "      <th>bid_price1</th>\n",
       "      <th>ask_price1</th>\n",
       "      <th>bid_price2</th>\n",
       "      <th>ask_price2</th>\n",
       "      <th>bid_size1</th>\n",
       "      <th>ask_size1</th>\n",
       "      <th>bid_size2</th>\n",
       "      <th>ask_size2</th>\n",
       "    </tr>\n",
       "  </thead>\n",
       "  <tbody>\n",
       "    <tr>\n",
       "      <th>0</th>\n",
       "      <td>5</td>\n",
       "      <td>0</td>\n",
       "      <td>1.001186</td>\n",
       "      <td>1.001581</td>\n",
       "      <td>1.001044</td>\n",
       "      <td>1.001750</td>\n",
       "      <td>100</td>\n",
       "      <td>200</td>\n",
       "      <td>63</td>\n",
       "      <td>100</td>\n",
       "    </tr>\n",
       "    <tr>\n",
       "      <th>1</th>\n",
       "      <td>5</td>\n",
       "      <td>1</td>\n",
       "      <td>1.001186</td>\n",
       "      <td>1.001581</td>\n",
       "      <td>1.001044</td>\n",
       "      <td>1.001750</td>\n",
       "      <td>100</td>\n",
       "      <td>200</td>\n",
       "      <td>63</td>\n",
       "      <td>100</td>\n",
       "    </tr>\n",
       "    <tr>\n",
       "      <th>2</th>\n",
       "      <td>5</td>\n",
       "      <td>2</td>\n",
       "      <td>1.001186</td>\n",
       "      <td>1.001581</td>\n",
       "      <td>1.001016</td>\n",
       "      <td>1.001750</td>\n",
       "      <td>100</td>\n",
       "      <td>100</td>\n",
       "      <td>63</td>\n",
       "      <td>100</td>\n",
       "    </tr>\n",
       "    <tr>\n",
       "      <th>3</th>\n",
       "      <td>5</td>\n",
       "      <td>3</td>\n",
       "      <td>1.001186</td>\n",
       "      <td>1.001581</td>\n",
       "      <td>1.001016</td>\n",
       "      <td>1.001750</td>\n",
       "      <td>100</td>\n",
       "      <td>100</td>\n",
       "      <td>63</td>\n",
       "      <td>100</td>\n",
       "    </tr>\n",
       "    <tr>\n",
       "      <th>4</th>\n",
       "      <td>5</td>\n",
       "      <td>4</td>\n",
       "      <td>1.001186</td>\n",
       "      <td>1.001750</td>\n",
       "      <td>1.001016</td>\n",
       "      <td>1.002032</td>\n",
       "      <td>176</td>\n",
       "      <td>100</td>\n",
       "      <td>63</td>\n",
       "      <td>2</td>\n",
       "    </tr>\n",
       "    <tr>\n",
       "      <th>...</th>\n",
       "      <td>...</td>\n",
       "      <td>...</td>\n",
       "      <td>...</td>\n",
       "      <td>...</td>\n",
       "      <td>...</td>\n",
       "      <td>...</td>\n",
       "      <td>...</td>\n",
       "      <td>...</td>\n",
       "      <td>...</td>\n",
       "      <td>...</td>\n",
       "    </tr>\n",
       "    <tr>\n",
       "      <th>595</th>\n",
       "      <td>5</td>\n",
       "      <td>595</td>\n",
       "      <td>0.999181</td>\n",
       "      <td>0.999746</td>\n",
       "      <td>0.998984</td>\n",
       "      <td>1.000226</td>\n",
       "      <td>66</td>\n",
       "      <td>3</td>\n",
       "      <td>62</td>\n",
       "      <td>64</td>\n",
       "    </tr>\n",
       "    <tr>\n",
       "      <th>596</th>\n",
       "      <td>5</td>\n",
       "      <td>596</td>\n",
       "      <td>0.999181</td>\n",
       "      <td>0.999859</td>\n",
       "      <td>0.998984</td>\n",
       "      <td>1.000226</td>\n",
       "      <td>66</td>\n",
       "      <td>3</td>\n",
       "      <td>62</td>\n",
       "      <td>64</td>\n",
       "    </tr>\n",
       "    <tr>\n",
       "      <th>597</th>\n",
       "      <td>5</td>\n",
       "      <td>597</td>\n",
       "      <td>0.999181</td>\n",
       "      <td>0.999859</td>\n",
       "      <td>0.998984</td>\n",
       "      <td>1.000226</td>\n",
       "      <td>66</td>\n",
       "      <td>3</td>\n",
       "      <td>62</td>\n",
       "      <td>64</td>\n",
       "    </tr>\n",
       "    <tr>\n",
       "      <th>598</th>\n",
       "      <td>5</td>\n",
       "      <td>598</td>\n",
       "      <td>0.999181</td>\n",
       "      <td>0.999859</td>\n",
       "      <td>0.998984</td>\n",
       "      <td>1.000226</td>\n",
       "      <td>66</td>\n",
       "      <td>3</td>\n",
       "      <td>62</td>\n",
       "      <td>64</td>\n",
       "    </tr>\n",
       "    <tr>\n",
       "      <th>599</th>\n",
       "      <td>5</td>\n",
       "      <td>599</td>\n",
       "      <td>0.999181</td>\n",
       "      <td>0.999859</td>\n",
       "      <td>0.998984</td>\n",
       "      <td>1.000226</td>\n",
       "      <td>66</td>\n",
       "      <td>3</td>\n",
       "      <td>62</td>\n",
       "      <td>64</td>\n",
       "    </tr>\n",
       "  </tbody>\n",
       "</table>\n",
       "<p>600 rows × 10 columns</p>\n",
       "</div>"
      ],
      "text/plain": [
       "     time_id  second  bid_price1  ask_price1  bid_price2  ask_price2  \\\n",
       "0          5       0    1.001186    1.001581    1.001044    1.001750   \n",
       "1          5       1    1.001186    1.001581    1.001044    1.001750   \n",
       "2          5       2    1.001186    1.001581    1.001016    1.001750   \n",
       "3          5       3    1.001186    1.001581    1.001016    1.001750   \n",
       "4          5       4    1.001186    1.001750    1.001016    1.002032   \n",
       "..       ...     ...         ...         ...         ...         ...   \n",
       "595        5     595    0.999181    0.999746    0.998984    1.000226   \n",
       "596        5     596    0.999181    0.999859    0.998984    1.000226   \n",
       "597        5     597    0.999181    0.999859    0.998984    1.000226   \n",
       "598        5     598    0.999181    0.999859    0.998984    1.000226   \n",
       "599        5     599    0.999181    0.999859    0.998984    1.000226   \n",
       "\n",
       "     bid_size1  ask_size1  bid_size2  ask_size2  \n",
       "0          100        200         63        100  \n",
       "1          100        200         63        100  \n",
       "2          100        100         63        100  \n",
       "3          100        100         63        100  \n",
       "4          176        100         63          2  \n",
       "..         ...        ...        ...        ...  \n",
       "595         66          3         62         64  \n",
       "596         66          3         62         64  \n",
       "597         66          3         62         64  \n",
       "598         66          3         62         64  \n",
       "599         66          3         62         64  \n",
       "\n",
       "[600 rows x 10 columns]"
      ]
     },
     "execution_count": 257,
     "metadata": {},
     "output_type": "execute_result"
    }
   ],
   "source": [
    "even_up_bucket(df_book_data[df_book_data['time_id']==5])"
   ]
  },
  {
   "cell_type": "code",
   "execution_count": 306,
   "id": "fd712a41",
   "metadata": {},
   "outputs": [],
   "source": [
    "# function to calculate the prediction for the next time_id:\n",
    "\n",
    "def garch_volatility_per_time_id(file_path, prediction_column_name):\n",
    "    # read the data\n",
    "    df_book_data = pd.read_parquet(file_path) \n",
    "    \n",
    "    # calculate WAP     \n",
    "    df_book_data['wap'] =(df_book_data['bid_price1'] * df_book_data['ask_size1'] + \n",
    "                          df_book_data['ask_price1'] * df_book_data['bid_size1'])  / \\\n",
    "                         (df_book_data['bid_size1']+ df_book_data['ask_size1'])\n",
    "    \n",
    "    # make the book updates evenly spaced\n",
    "    \n",
    "    # create a dataframe\n",
    "    df_book_data_evenly = pd.DataFrame({'time_id':np.repeat(df_book_data['time_id'].unique(), 600), \n",
    "                                        'second':np.tile(range(0,600), df_book_data['time_id'].nunique())})\n",
    "\n",
    "    remainder = pd.DataFrame()\n",
    "    for i in range(0, len(df_book_data_evenly)):\n",
    "        remainder = remainder.append(df_book_data[(df_book_data['seconds_in_bucket'] <= df_book_data_evenly.iloc[i]['second']) \n",
    "             & (df_book_data['time_id']==df_book_data_evenly.iloc[i]['time_id'])].iloc[-1:, 2:])\n",
    "    \n",
    "    \n",
    "    \n",
    "    \n",
    "#     # the first row is always the same\n",
    "#     remainder = uneven_bucket_df.iloc[0:1, 2:]\n",
    "\n",
    "\n",
    "#     # create the rest of the table through a loop\n",
    "#     for i in range(1, 600, seconds_step):\n",
    "#         remainder = remainder.append(uneven_bucket_df[uneven_bucket_df['seconds_in_bucket'] <= i].iloc[-1:, 2:])\n",
    "\n",
    "\n",
    "    # finally, reset the index and show the dataframe\n",
    "    remainder.reset_index(inplace=True, drop=True)\n",
    "\n",
    "    # concat two dataframes\n",
    "    df_book_data_evenly = pd.concat([df_book_data_evenly, remainder], axis=1)\n",
    "    \n",
    "    \n",
    "    \n",
    "    \n",
    "    \n",
    "    \n",
    "    \n",
    "    \n",
    "    \n",
    "#     df_book_data_evenly = pd.DataFrame()\n",
    "#     for i in df_book_data['time_id'].unique():\n",
    "#         df_book_data_evenly = pd.concat([df_book_data_evenly, \\\n",
    "#                                          even_up_bucket(df_book_data[df_book_data['time_id']==i])], axis = 0)\n",
    "    \n",
    "    return df_book_data_evenly\n",
    "        \n",
    "        \n",
    "#     # calculate log returns \n",
    "#     df_book_data['log_return'] = df_book_data.groupby(['time_id'])['wap'].apply(log_return)\n",
    "#     df_book_data = df_book_data[~df_book_data['log_return'].isnull()]\n",
    "    \n",
    "#     # calculater realized volatility\n",
    "#     df_realized_vol_per_stock =  \\\n",
    "#         pd.DataFrame(df_book_data.groupby(['time_id'])['log_return'].agg(realized_volatility)).reset_index()\n",
    "#     df_realized_vol_per_stock = df_realized_vol_per_stock.rename(columns = {'log_return':prediction_column_name})\n",
    "    \n",
    "#     # add row_id column to the data\n",
    "#     stock_id = file_path.split('=')[1]\n",
    "#     df_realized_vol_per_stock['row_id'] = df_realized_vol_per_stock['time_id'].apply(lambda x:f'{stock_id}-{x}')\n",
    "    \n",
    "#     # return the result\n",
    "#     return df_realized_vol_per_stock[['row_id',prediction_column_name]]\n"
   ]
  },
  {
   "cell_type": "code",
   "execution_count": 331,
   "id": "318d4e97",
   "metadata": {},
   "outputs": [],
   "source": [
    "df_book_data['wap'] =(df_book_data['bid_price1'] * df_book_data['ask_size1'] + \n",
    "                          df_book_data['ask_price1'] * df_book_data['bid_size1'])  / \\\n",
    "                         (df_book_data['bid_size1']+ df_book_data['ask_size1'])\n",
    "df_book_data = df_book_data[['time_id', 'seconds_in_bucket', 'wap']]"
   ]
  },
  {
   "cell_type": "code",
   "execution_count": 355,
   "id": "ad58e7eb",
   "metadata": {},
   "outputs": [
    {
     "data": {
      "text/plain": [
       "numpy.int16"
      ]
     },
     "execution_count": 355,
     "metadata": {},
     "output_type": "execute_result"
    }
   ],
   "source": [
    "type(df_book_data['seconds_in_bucket'].iloc[1])"
   ]
  },
  {
   "cell_type": "code",
   "execution_count": 356,
   "id": "b261987f",
   "metadata": {},
   "outputs": [],
   "source": [
    "temp = pd.DataFrame({'time_id':np.repeat(df_book_data['time_id'].unique(), 600), \n",
    "                                        'second':np.tile(range(0,600), df_book_data['time_id'].nunique())})"
   ]
  },
  {
   "cell_type": "code",
   "execution_count": 361,
   "id": "9b94c0b7",
   "metadata": {},
   "outputs": [],
   "source": [
    "temp['second'] = temp['second'].astype(np.int16)"
   ]
  },
  {
   "cell_type": "code",
   "execution_count": 362,
   "id": "11feba06",
   "metadata": {},
   "outputs": [
    {
     "data": {
      "text/plain": [
       "numpy.int16"
      ]
     },
     "execution_count": 362,
     "metadata": {},
     "output_type": "execute_result"
    }
   ],
   "source": [
    "type(temp['second'].iloc[1])"
   ]
  },
  {
   "cell_type": "code",
   "execution_count": 365,
   "id": "14272f1d",
   "metadata": {},
   "outputs": [],
   "source": [
    "# function to calculate the prediction for the next time_id:\n",
    "\n",
    "def garch_volatility_per_time_id(file_path, prediction_column_name):\n",
    "    # read the data\n",
    "    df_book_data = pd.read_parquet(file_path) \n",
    "    \n",
    "    # calculate WAP     \n",
    "    df_book_data['wap'] =(df_book_data['bid_price1'] * df_book_data['ask_size1'] + \n",
    "                          df_book_data['ask_price1'] * df_book_data['bid_size1'])  / \\\n",
    "                         (df_book_data['bid_size1']+ df_book_data['ask_size1'])\n",
    "    \n",
    "    # leave only WAP for now\n",
    "    df_book_data = df_book_data[['time_id', 'seconds_in_bucket', 'wap']]\n",
    "    df_book_data = df_book_data.sort_values('seconds_in_bucket')\n",
    "    \n",
    "    # make the book updates evenly spaced\n",
    "    df_book_data_evenly = pd.DataFrame({'time_id':np.repeat(df_book_data['time_id'].unique(), 600), \n",
    "                                        'second':np.tile(range(0,600), df_book_data['time_id'].nunique())})\n",
    "    df_book_data_evenly['second'] = df_book_data_evenly['second'].astype(np.int16)\n",
    "    df_book_data_evenly = df_book_data_evenly.sort_values('second')\n",
    "    \n",
    "    \n",
    "    result = pd.merge_asof(df_book_data_evenly,\n",
    "                           df_book_data,\n",
    "                           left_on='second',right_on='seconds_in_bucket',\n",
    "                           by = 'time_id')\n",
    "\n",
    "    # Ordering for easier comparison\n",
    "    result = result[['time_id', 'second','wap']]\n",
    "    result = result.sort_values(['time_id','second']).reset_index(drop=True)\n",
    "    \n",
    "    return result"
   ]
  },
  {
   "cell_type": "code",
   "execution_count": 346,
   "id": "67f803bd",
   "metadata": {},
   "outputs": [
    {
     "data": {
      "text/plain": [
       "int"
      ]
     },
     "execution_count": 346,
     "metadata": {},
     "output_type": "execute_result"
    }
   ],
   "source": [
    "type(range(0,np.int16(3))[1])"
   ]
  },
  {
   "cell_type": "code",
   "execution_count": 366,
   "id": "2d6bfb1e",
   "metadata": {},
   "outputs": [
    {
     "data": {
      "text/html": [
       "<div>\n",
       "<style scoped>\n",
       "    .dataframe tbody tr th:only-of-type {\n",
       "        vertical-align: middle;\n",
       "    }\n",
       "\n",
       "    .dataframe tbody tr th {\n",
       "        vertical-align: top;\n",
       "    }\n",
       "\n",
       "    .dataframe thead th {\n",
       "        text-align: right;\n",
       "    }\n",
       "</style>\n",
       "<table border=\"1\" class=\"dataframe\">\n",
       "  <thead>\n",
       "    <tr style=\"text-align: right;\">\n",
       "      <th></th>\n",
       "      <th>time_id</th>\n",
       "      <th>second</th>\n",
       "      <th>wap</th>\n",
       "    </tr>\n",
       "  </thead>\n",
       "  <tbody>\n",
       "    <tr>\n",
       "      <th>0</th>\n",
       "      <td>5</td>\n",
       "      <td>0</td>\n",
       "      <td>1.001317</td>\n",
       "    </tr>\n",
       "    <tr>\n",
       "      <th>1</th>\n",
       "      <td>5</td>\n",
       "      <td>1</td>\n",
       "      <td>1.001317</td>\n",
       "    </tr>\n",
       "    <tr>\n",
       "      <th>2</th>\n",
       "      <td>5</td>\n",
       "      <td>2</td>\n",
       "      <td>1.001383</td>\n",
       "    </tr>\n",
       "    <tr>\n",
       "      <th>3</th>\n",
       "      <td>5</td>\n",
       "      <td>3</td>\n",
       "      <td>1.001383</td>\n",
       "    </tr>\n",
       "    <tr>\n",
       "      <th>4</th>\n",
       "      <td>5</td>\n",
       "      <td>4</td>\n",
       "      <td>1.001546</td>\n",
       "    </tr>\n",
       "    <tr>\n",
       "      <th>...</th>\n",
       "      <td>...</td>\n",
       "      <td>...</td>\n",
       "      <td>...</td>\n",
       "    </tr>\n",
       "    <tr>\n",
       "      <th>2297995</th>\n",
       "      <td>32767</td>\n",
       "      <td>595</td>\n",
       "      <td>1.000257</td>\n",
       "    </tr>\n",
       "    <tr>\n",
       "      <th>2297996</th>\n",
       "      <td>32767</td>\n",
       "      <td>596</td>\n",
       "      <td>1.000320</td>\n",
       "    </tr>\n",
       "    <tr>\n",
       "      <th>2297997</th>\n",
       "      <td>32767</td>\n",
       "      <td>597</td>\n",
       "      <td>1.000367</td>\n",
       "    </tr>\n",
       "    <tr>\n",
       "      <th>2297998</th>\n",
       "      <td>32767</td>\n",
       "      <td>598</td>\n",
       "      <td>1.000367</td>\n",
       "    </tr>\n",
       "    <tr>\n",
       "      <th>2297999</th>\n",
       "      <td>32767</td>\n",
       "      <td>599</td>\n",
       "      <td>1.000363</td>\n",
       "    </tr>\n",
       "  </tbody>\n",
       "</table>\n",
       "<p>2298000 rows × 3 columns</p>\n",
       "</div>"
      ],
      "text/plain": [
       "         time_id  second       wap\n",
       "0              5       0  1.001317\n",
       "1              5       1  1.001317\n",
       "2              5       2  1.001383\n",
       "3              5       3  1.001383\n",
       "4              5       4  1.001546\n",
       "...          ...     ...       ...\n",
       "2297995    32767     595  1.000257\n",
       "2297996    32767     596  1.000320\n",
       "2297997    32767     597  1.000367\n",
       "2297998    32767     598  1.000367\n",
       "2297999    32767     599  1.000363\n",
       "\n",
       "[2298000 rows x 3 columns]"
      ]
     },
     "execution_count": 366,
     "metadata": {},
     "output_type": "execute_result"
    }
   ],
   "source": [
    "garch_volatility_per_time_id(file_path, 'name')"
   ]
  },
  {
   "cell_type": "code",
   "execution_count": 367,
   "id": "fdc8b437",
   "metadata": {},
   "outputs": [
    {
     "data": {
      "text/html": [
       "<div>\n",
       "<style scoped>\n",
       "    .dataframe tbody tr th:only-of-type {\n",
       "        vertical-align: middle;\n",
       "    }\n",
       "\n",
       "    .dataframe tbody tr th {\n",
       "        vertical-align: top;\n",
       "    }\n",
       "\n",
       "    .dataframe thead th {\n",
       "        text-align: right;\n",
       "    }\n",
       "</style>\n",
       "<table border=\"1\" class=\"dataframe\">\n",
       "  <thead>\n",
       "    <tr style=\"text-align: right;\">\n",
       "      <th></th>\n",
       "      <th>time_id</th>\n",
       "      <th>seconds_in_bucket</th>\n",
       "      <th>wap</th>\n",
       "    </tr>\n",
       "  </thead>\n",
       "  <tbody>\n",
       "    <tr>\n",
       "      <th>0</th>\n",
       "      <td>5</td>\n",
       "      <td>0</td>\n",
       "      <td>1.001317</td>\n",
       "    </tr>\n",
       "    <tr>\n",
       "      <th>1</th>\n",
       "      <td>5</td>\n",
       "      <td>2</td>\n",
       "      <td>1.001383</td>\n",
       "    </tr>\n",
       "    <tr>\n",
       "      <th>2</th>\n",
       "      <td>5</td>\n",
       "      <td>4</td>\n",
       "      <td>1.001546</td>\n",
       "    </tr>\n",
       "    <tr>\n",
       "      <th>3</th>\n",
       "      <td>5</td>\n",
       "      <td>5</td>\n",
       "      <td>1.001552</td>\n",
       "    </tr>\n",
       "    <tr>\n",
       "      <th>4</th>\n",
       "      <td>5</td>\n",
       "      <td>6</td>\n",
       "      <td>1.001618</td>\n",
       "    </tr>\n",
       "    <tr>\n",
       "      <th>...</th>\n",
       "      <td>...</td>\n",
       "      <td>...</td>\n",
       "      <td>...</td>\n",
       "    </tr>\n",
       "    <tr>\n",
       "      <th>1514768</th>\n",
       "      <td>32767</td>\n",
       "      <td>587</td>\n",
       "      <td>1.000213</td>\n",
       "    </tr>\n",
       "    <tr>\n",
       "      <th>1514769</th>\n",
       "      <td>32767</td>\n",
       "      <td>590</td>\n",
       "      <td>1.000257</td>\n",
       "    </tr>\n",
       "    <tr>\n",
       "      <th>1514770</th>\n",
       "      <td>32767</td>\n",
       "      <td>596</td>\n",
       "      <td>1.000320</td>\n",
       "    </tr>\n",
       "    <tr>\n",
       "      <th>1514771</th>\n",
       "      <td>32767</td>\n",
       "      <td>597</td>\n",
       "      <td>1.000367</td>\n",
       "    </tr>\n",
       "    <tr>\n",
       "      <th>1514772</th>\n",
       "      <td>32767</td>\n",
       "      <td>599</td>\n",
       "      <td>1.000363</td>\n",
       "    </tr>\n",
       "  </tbody>\n",
       "</table>\n",
       "<p>1514773 rows × 3 columns</p>\n",
       "</div>"
      ],
      "text/plain": [
       "         time_id  seconds_in_bucket       wap\n",
       "0              5                  0  1.001317\n",
       "1              5                  2  1.001383\n",
       "2              5                  4  1.001546\n",
       "3              5                  5  1.001552\n",
       "4              5                  6  1.001618\n",
       "...          ...                ...       ...\n",
       "1514768    32767                587  1.000213\n",
       "1514769    32767                590  1.000257\n",
       "1514770    32767                596  1.000320\n",
       "1514771    32767                597  1.000367\n",
       "1514772    32767                599  1.000363\n",
       "\n",
       "[1514773 rows x 3 columns]"
      ]
     },
     "execution_count": 367,
     "metadata": {},
     "output_type": "execute_result"
    }
   ],
   "source": [
    "df_book_data"
   ]
  },
  {
   "cell_type": "code",
   "execution_count": 323,
   "id": "cbc2508e",
   "metadata": {},
   "outputs": [],
   "source": [
    "counter = 0\n",
    "for i in range(0, len(test_data)):\n",
    "    \n",
    "    if i > 0:\n",
    "            if test_data.iloc[i]['stock'] != test_data.iloc[i-1]['stock']:\n",
    "                counter = 0\n",
    "    \n",
    "    if counter == 5:\n",
    "        counter = 0\n",
    "        \n",
    "    while counter < test_data.iloc[i]['time']:\n",
    "        test_data = test_data.append({'stock':test_data.iloc[i-1]['stock'], 'time':counter, 'value': test_data.iloc[i-1]['value']}, ignore_index=True)\n",
    "        counter = counter + 1\n",
    "        \n",
    "    counter = counter + 1\n",
    "    "
   ]
  },
  {
   "cell_type": "code",
   "execution_count": 324,
   "id": "1d2ba922",
   "metadata": {},
   "outputs": [
    {
     "data": {
      "text/html": [
       "<div>\n",
       "<style scoped>\n",
       "    .dataframe tbody tr th:only-of-type {\n",
       "        vertical-align: middle;\n",
       "    }\n",
       "\n",
       "    .dataframe tbody tr th {\n",
       "        vertical-align: top;\n",
       "    }\n",
       "\n",
       "    .dataframe thead th {\n",
       "        text-align: right;\n",
       "    }\n",
       "</style>\n",
       "<table border=\"1\" class=\"dataframe\">\n",
       "  <thead>\n",
       "    <tr style=\"text-align: right;\">\n",
       "      <th></th>\n",
       "      <th>stock</th>\n",
       "      <th>time</th>\n",
       "      <th>value</th>\n",
       "    </tr>\n",
       "  </thead>\n",
       "  <tbody>\n",
       "    <tr>\n",
       "      <th>0</th>\n",
       "      <td>1</td>\n",
       "      <td>0</td>\n",
       "      <td>0</td>\n",
       "    </tr>\n",
       "    <tr>\n",
       "      <th>6</th>\n",
       "      <td>1</td>\n",
       "      <td>1</td>\n",
       "      <td>0</td>\n",
       "    </tr>\n",
       "    <tr>\n",
       "      <th>1</th>\n",
       "      <td>1</td>\n",
       "      <td>2</td>\n",
       "      <td>1</td>\n",
       "    </tr>\n",
       "    <tr>\n",
       "      <th>2</th>\n",
       "      <td>1</td>\n",
       "      <td>3</td>\n",
       "      <td>9</td>\n",
       "    </tr>\n",
       "    <tr>\n",
       "      <th>3</th>\n",
       "      <td>2</td>\n",
       "      <td>0</td>\n",
       "      <td>16</td>\n",
       "    </tr>\n",
       "    <tr>\n",
       "      <th>4</th>\n",
       "      <td>2</td>\n",
       "      <td>1</td>\n",
       "      <td>64</td>\n",
       "    </tr>\n",
       "    <tr>\n",
       "      <th>5</th>\n",
       "      <td>2</td>\n",
       "      <td>2</td>\n",
       "      <td>81</td>\n",
       "    </tr>\n",
       "  </tbody>\n",
       "</table>\n",
       "</div>"
      ],
      "text/plain": [
       "   stock  time  value\n",
       "0      1     0      0\n",
       "6      1     1      0\n",
       "1      1     2      1\n",
       "2      1     3      9\n",
       "3      2     0     16\n",
       "4      2     1     64\n",
       "5      2     2     81"
      ]
     },
     "execution_count": 324,
     "metadata": {},
     "output_type": "execute_result"
    }
   ],
   "source": [
    "test_data.sort_values(by = ['stock','time'])"
   ]
  },
  {
   "cell_type": "code",
   "execution_count": null,
   "id": "e87b98ed",
   "metadata": {},
   "outputs": [],
   "source": []
  },
  {
   "cell_type": "code",
   "execution_count": null,
   "id": "058f161b",
   "metadata": {},
   "outputs": [],
   "source": []
  },
  {
   "cell_type": "code",
   "execution_count": null,
   "id": "dfd9497f",
   "metadata": {},
   "outputs": [],
   "source": []
  },
  {
   "cell_type": "code",
   "execution_count": null,
   "id": "3f43cedb",
   "metadata": {},
   "outputs": [],
   "source": []
  },
  {
   "cell_type": "code",
   "execution_count": 276,
   "id": "d571d6f6",
   "metadata": {},
   "outputs": [
    {
     "data": {
      "text/plain": [
       "array([    5,    11,    16, ..., 32758, 32763, 32767], dtype=int16)"
      ]
     },
     "execution_count": 276,
     "metadata": {},
     "output_type": "execute_result"
    }
   ],
   "source": [
    "df_book_data['time_id'].unique()"
   ]
  },
  {
   "cell_type": "code",
   "execution_count": 286,
   "id": "008a4eeb",
   "metadata": {},
   "outputs": [
    {
     "data": {
      "text/html": [
       "<div>\n",
       "<style scoped>\n",
       "    .dataframe tbody tr th:only-of-type {\n",
       "        vertical-align: middle;\n",
       "    }\n",
       "\n",
       "    .dataframe tbody tr th {\n",
       "        vertical-align: top;\n",
       "    }\n",
       "\n",
       "    .dataframe thead th {\n",
       "        text-align: right;\n",
       "    }\n",
       "</style>\n",
       "<table border=\"1\" class=\"dataframe\">\n",
       "  <thead>\n",
       "    <tr style=\"text-align: right;\">\n",
       "      <th></th>\n",
       "      <th>time_id</th>\n",
       "      <th>seconds_in_bucket</th>\n",
       "      <th>bid_price1</th>\n",
       "      <th>ask_price1</th>\n",
       "      <th>bid_price2</th>\n",
       "      <th>ask_price2</th>\n",
       "      <th>bid_size1</th>\n",
       "      <th>ask_size1</th>\n",
       "      <th>bid_size2</th>\n",
       "      <th>ask_size2</th>\n",
       "    </tr>\n",
       "  </thead>\n",
       "  <tbody>\n",
       "    <tr>\n",
       "      <th>0</th>\n",
       "      <td>5</td>\n",
       "      <td>0</td>\n",
       "      <td>1.001186</td>\n",
       "      <td>1.001581</td>\n",
       "      <td>1.001044</td>\n",
       "      <td>1.00175</td>\n",
       "      <td>100</td>\n",
       "      <td>200</td>\n",
       "      <td>63</td>\n",
       "      <td>100</td>\n",
       "    </tr>\n",
       "  </tbody>\n",
       "</table>\n",
       "</div>"
      ],
      "text/plain": [
       "   time_id  seconds_in_bucket  bid_price1  ask_price1  bid_price2  ask_price2  \\\n",
       "0        5                  0    1.001186    1.001581    1.001044     1.00175   \n",
       "\n",
       "   bid_size1  ask_size1  bid_size2  ask_size2  \n",
       "0        100        200         63        100  "
      ]
     },
     "execution_count": 286,
     "metadata": {},
     "output_type": "execute_result"
    }
   ],
   "source": [
    "df_book_data[(df_book_data['seconds_in_bucket'] <= df_book_data_evenly.iloc[i]['second']) \n",
    "             & (df_book_data['time_id']==df_book_data_evenly.iloc[i]['time_id'])]"
   ]
  },
  {
   "cell_type": "code",
   "execution_count": 262,
   "id": "66dd7c02",
   "metadata": {
    "scrolled": true
   },
   "outputs": [
    {
     "ename": "KeyboardInterrupt",
     "evalue": "",
     "output_type": "error",
     "traceback": [
      "\u001b[0;31m---------------------------------------------------------------------------\u001b[0m",
      "\u001b[0;31mKeyboardInterrupt\u001b[0m                         Traceback (most recent call last)",
      "\u001b[0;32m<ipython-input-262-d78e623b1538>\u001b[0m in \u001b[0;36m<module>\u001b[0;34m\u001b[0m\n\u001b[0;32m----> 1\u001b[0;31m \u001b[0mgarch_volatility_per_time_id\u001b[0m\u001b[0;34m(\u001b[0m\u001b[0mfile_path\u001b[0m\u001b[0;34m,\u001b[0m \u001b[0;34m'name'\u001b[0m\u001b[0;34m)\u001b[0m\u001b[0;34m\u001b[0m\u001b[0;34m\u001b[0m\u001b[0m\n\u001b[0m",
      "\u001b[0;32m<ipython-input-260-aa8b0dc09800>\u001b[0m in \u001b[0;36mgarch_volatility_per_time_id\u001b[0;34m(file_path, prediction_column_name)\u001b[0m\n\u001b[1;32m     14\u001b[0m     \u001b[0;32mfor\u001b[0m \u001b[0mi\u001b[0m \u001b[0;32min\u001b[0m \u001b[0mdf_book_data\u001b[0m\u001b[0;34m[\u001b[0m\u001b[0;34m'time_id'\u001b[0m\u001b[0;34m]\u001b[0m\u001b[0;34m.\u001b[0m\u001b[0munique\u001b[0m\u001b[0;34m(\u001b[0m\u001b[0;34m)\u001b[0m\u001b[0;34m:\u001b[0m\u001b[0;34m\u001b[0m\u001b[0;34m\u001b[0m\u001b[0m\n\u001b[1;32m     15\u001b[0m         df_book_data_evenly = pd.concat([df_book_data_evenly, \\\n\u001b[0;32m---> 16\u001b[0;31m                                          even_up_bucket(df_book_data[df_book_data['time_id']==i])], axis = 0)\n\u001b[0m\u001b[1;32m     17\u001b[0m \u001b[0;34m\u001b[0m\u001b[0m\n\u001b[1;32m     18\u001b[0m     \u001b[0;32mreturn\u001b[0m \u001b[0mdf_book_data_evenly\u001b[0m\u001b[0;34m\u001b[0m\u001b[0;34m\u001b[0m\u001b[0m\n",
      "\u001b[0;32m<ipython-input-254-18dab9336264>\u001b[0m in \u001b[0;36meven_up_bucket\u001b[0;34m(uneven_bucket_df, seconds_step)\u001b[0m\n\u001b[1;32m     10\u001b[0m     \u001b[0;31m# create the rest of the table through a loop\u001b[0m\u001b[0;34m\u001b[0m\u001b[0;34m\u001b[0m\u001b[0;34m\u001b[0m\u001b[0m\n\u001b[1;32m     11\u001b[0m     \u001b[0;32mfor\u001b[0m \u001b[0mi\u001b[0m \u001b[0;32min\u001b[0m \u001b[0mrange\u001b[0m\u001b[0;34m(\u001b[0m\u001b[0;36m1\u001b[0m\u001b[0;34m,\u001b[0m \u001b[0;36m600\u001b[0m\u001b[0;34m,\u001b[0m \u001b[0mseconds_step\u001b[0m\u001b[0;34m)\u001b[0m\u001b[0;34m:\u001b[0m\u001b[0;34m\u001b[0m\u001b[0;34m\u001b[0m\u001b[0m\n\u001b[0;32m---> 12\u001b[0;31m         \u001b[0mremainder\u001b[0m \u001b[0;34m=\u001b[0m \u001b[0mremainder\u001b[0m\u001b[0;34m.\u001b[0m\u001b[0mappend\u001b[0m\u001b[0;34m(\u001b[0m\u001b[0muneven_bucket_df\u001b[0m\u001b[0;34m[\u001b[0m\u001b[0muneven_bucket_df\u001b[0m\u001b[0;34m[\u001b[0m\u001b[0;34m'seconds_in_bucket'\u001b[0m\u001b[0;34m]\u001b[0m \u001b[0;34m<=\u001b[0m \u001b[0mi\u001b[0m\u001b[0;34m]\u001b[0m\u001b[0;34m.\u001b[0m\u001b[0miloc\u001b[0m\u001b[0;34m[\u001b[0m\u001b[0;34m-\u001b[0m\u001b[0;36m1\u001b[0m\u001b[0;34m:\u001b[0m\u001b[0;34m,\u001b[0m \u001b[0;36m2\u001b[0m\u001b[0;34m:\u001b[0m\u001b[0;34m]\u001b[0m\u001b[0;34m)\u001b[0m\u001b[0;34m\u001b[0m\u001b[0;34m\u001b[0m\u001b[0m\n\u001b[0m\u001b[1;32m     13\u001b[0m \u001b[0;34m\u001b[0m\u001b[0m\n\u001b[1;32m     14\u001b[0m \u001b[0;34m\u001b[0m\u001b[0m\n",
      "\u001b[0;32m/opt/anaconda3/lib/python3.8/site-packages/pandas/core/ops/common.py\u001b[0m in \u001b[0;36mnew_method\u001b[0;34m(self, other)\u001b[0m\n\u001b[1;32m     63\u001b[0m         \u001b[0mother\u001b[0m \u001b[0;34m=\u001b[0m \u001b[0mitem_from_zerodim\u001b[0m\u001b[0;34m(\u001b[0m\u001b[0mother\u001b[0m\u001b[0;34m)\u001b[0m\u001b[0;34m\u001b[0m\u001b[0;34m\u001b[0m\u001b[0m\n\u001b[1;32m     64\u001b[0m \u001b[0;34m\u001b[0m\u001b[0m\n\u001b[0;32m---> 65\u001b[0;31m         \u001b[0;32mreturn\u001b[0m \u001b[0mmethod\u001b[0m\u001b[0;34m(\u001b[0m\u001b[0mself\u001b[0m\u001b[0;34m,\u001b[0m \u001b[0mother\u001b[0m\u001b[0;34m)\u001b[0m\u001b[0;34m\u001b[0m\u001b[0;34m\u001b[0m\u001b[0m\n\u001b[0m\u001b[1;32m     66\u001b[0m \u001b[0;34m\u001b[0m\u001b[0m\n\u001b[1;32m     67\u001b[0m     \u001b[0;32mreturn\u001b[0m \u001b[0mnew_method\u001b[0m\u001b[0;34m\u001b[0m\u001b[0;34m\u001b[0m\u001b[0m\n",
      "\u001b[0;32m/opt/anaconda3/lib/python3.8/site-packages/pandas/core/arraylike.py\u001b[0m in \u001b[0;36m__le__\u001b[0;34m(self, other)\u001b[0m\n\u001b[1;32m     39\u001b[0m     \u001b[0;34m@\u001b[0m\u001b[0munpack_zerodim_and_defer\u001b[0m\u001b[0;34m(\u001b[0m\u001b[0;34m\"__le__\"\u001b[0m\u001b[0;34m)\u001b[0m\u001b[0;34m\u001b[0m\u001b[0;34m\u001b[0m\u001b[0m\n\u001b[1;32m     40\u001b[0m     \u001b[0;32mdef\u001b[0m \u001b[0m__le__\u001b[0m\u001b[0;34m(\u001b[0m\u001b[0mself\u001b[0m\u001b[0;34m,\u001b[0m \u001b[0mother\u001b[0m\u001b[0;34m)\u001b[0m\u001b[0;34m:\u001b[0m\u001b[0;34m\u001b[0m\u001b[0;34m\u001b[0m\u001b[0m\n\u001b[0;32m---> 41\u001b[0;31m         \u001b[0;32mreturn\u001b[0m \u001b[0mself\u001b[0m\u001b[0;34m.\u001b[0m\u001b[0m_cmp_method\u001b[0m\u001b[0;34m(\u001b[0m\u001b[0mother\u001b[0m\u001b[0;34m,\u001b[0m \u001b[0moperator\u001b[0m\u001b[0;34m.\u001b[0m\u001b[0mle\u001b[0m\u001b[0;34m)\u001b[0m\u001b[0;34m\u001b[0m\u001b[0;34m\u001b[0m\u001b[0m\n\u001b[0m\u001b[1;32m     42\u001b[0m \u001b[0;34m\u001b[0m\u001b[0m\n\u001b[1;32m     43\u001b[0m     \u001b[0;34m@\u001b[0m\u001b[0munpack_zerodim_and_defer\u001b[0m\u001b[0;34m(\u001b[0m\u001b[0;34m\"__gt__\"\u001b[0m\u001b[0;34m)\u001b[0m\u001b[0;34m\u001b[0m\u001b[0;34m\u001b[0m\u001b[0m\n",
      "\u001b[0;32m/opt/anaconda3/lib/python3.8/site-packages/pandas/core/series.py\u001b[0m in \u001b[0;36m_cmp_method\u001b[0;34m(self, other, op)\u001b[0m\n\u001b[1;32m   4976\u001b[0m         \u001b[0mrvalues\u001b[0m \u001b[0;34m=\u001b[0m \u001b[0mextract_array\u001b[0m\u001b[0;34m(\u001b[0m\u001b[0mother\u001b[0m\u001b[0;34m,\u001b[0m \u001b[0mextract_numpy\u001b[0m\u001b[0;34m=\u001b[0m\u001b[0;32mTrue\u001b[0m\u001b[0;34m)\u001b[0m\u001b[0;34m\u001b[0m\u001b[0;34m\u001b[0m\u001b[0m\n\u001b[1;32m   4977\u001b[0m \u001b[0;34m\u001b[0m\u001b[0m\n\u001b[0;32m-> 4978\u001b[0;31m         \u001b[0mres_values\u001b[0m \u001b[0;34m=\u001b[0m \u001b[0mops\u001b[0m\u001b[0;34m.\u001b[0m\u001b[0mcomparison_op\u001b[0m\u001b[0;34m(\u001b[0m\u001b[0mlvalues\u001b[0m\u001b[0;34m,\u001b[0m \u001b[0mrvalues\u001b[0m\u001b[0;34m,\u001b[0m \u001b[0mop\u001b[0m\u001b[0;34m)\u001b[0m\u001b[0;34m\u001b[0m\u001b[0;34m\u001b[0m\u001b[0m\n\u001b[0m\u001b[1;32m   4979\u001b[0m \u001b[0;34m\u001b[0m\u001b[0m\n\u001b[1;32m   4980\u001b[0m         \u001b[0;32mreturn\u001b[0m \u001b[0mself\u001b[0m\u001b[0;34m.\u001b[0m\u001b[0m_construct_result\u001b[0m\u001b[0;34m(\u001b[0m\u001b[0mres_values\u001b[0m\u001b[0;34m,\u001b[0m \u001b[0mname\u001b[0m\u001b[0;34m=\u001b[0m\u001b[0mres_name\u001b[0m\u001b[0;34m)\u001b[0m\u001b[0;34m\u001b[0m\u001b[0;34m\u001b[0m\u001b[0m\n",
      "\u001b[0;32m/opt/anaconda3/lib/python3.8/site-packages/pandas/core/ops/array_ops.py\u001b[0m in \u001b[0;36mcomparison_op\u001b[0;34m(left, right, op)\u001b[0m\n\u001b[1;32m    248\u001b[0m             \u001b[0mwarnings\u001b[0m\u001b[0;34m.\u001b[0m\u001b[0msimplefilter\u001b[0m\u001b[0;34m(\u001b[0m\u001b[0;34m\"ignore\"\u001b[0m\u001b[0;34m,\u001b[0m \u001b[0mDeprecationWarning\u001b[0m\u001b[0;34m)\u001b[0m\u001b[0;34m\u001b[0m\u001b[0;34m\u001b[0m\u001b[0m\n\u001b[1;32m    249\u001b[0m             \u001b[0;32mwith\u001b[0m \u001b[0mnp\u001b[0m\u001b[0;34m.\u001b[0m\u001b[0merrstate\u001b[0m\u001b[0;34m(\u001b[0m\u001b[0mall\u001b[0m\u001b[0;34m=\u001b[0m\u001b[0;34m\"ignore\"\u001b[0m\u001b[0;34m)\u001b[0m\u001b[0;34m:\u001b[0m\u001b[0;34m\u001b[0m\u001b[0;34m\u001b[0m\u001b[0m\n\u001b[0;32m--> 250\u001b[0;31m                 \u001b[0mres_values\u001b[0m \u001b[0;34m=\u001b[0m \u001b[0m_na_arithmetic_op\u001b[0m\u001b[0;34m(\u001b[0m\u001b[0mlvalues\u001b[0m\u001b[0;34m,\u001b[0m \u001b[0mrvalues\u001b[0m\u001b[0;34m,\u001b[0m \u001b[0mop\u001b[0m\u001b[0;34m,\u001b[0m \u001b[0mis_cmp\u001b[0m\u001b[0;34m=\u001b[0m\u001b[0;32mTrue\u001b[0m\u001b[0;34m)\u001b[0m\u001b[0;34m\u001b[0m\u001b[0;34m\u001b[0m\u001b[0m\n\u001b[0m\u001b[1;32m    251\u001b[0m \u001b[0;34m\u001b[0m\u001b[0m\n\u001b[1;32m    252\u001b[0m     \u001b[0;32mreturn\u001b[0m \u001b[0mres_values\u001b[0m\u001b[0;34m\u001b[0m\u001b[0;34m\u001b[0m\u001b[0m\n",
      "\u001b[0;32m/opt/anaconda3/lib/python3.8/site-packages/pandas/core/ops/array_ops.py\u001b[0m in \u001b[0;36m_na_arithmetic_op\u001b[0;34m(left, right, op, is_cmp)\u001b[0m\n\u001b[1;32m    140\u001b[0m \u001b[0;34m\u001b[0m\u001b[0m\n\u001b[1;32m    141\u001b[0m     \u001b[0;32mtry\u001b[0m\u001b[0;34m:\u001b[0m\u001b[0;34m\u001b[0m\u001b[0;34m\u001b[0m\u001b[0m\n\u001b[0;32m--> 142\u001b[0;31m         \u001b[0mresult\u001b[0m \u001b[0;34m=\u001b[0m \u001b[0mexpressions\u001b[0m\u001b[0;34m.\u001b[0m\u001b[0mevaluate\u001b[0m\u001b[0;34m(\u001b[0m\u001b[0mop\u001b[0m\u001b[0;34m,\u001b[0m \u001b[0mleft\u001b[0m\u001b[0;34m,\u001b[0m \u001b[0mright\u001b[0m\u001b[0;34m)\u001b[0m\u001b[0;34m\u001b[0m\u001b[0;34m\u001b[0m\u001b[0m\n\u001b[0m\u001b[1;32m    143\u001b[0m     \u001b[0;32mexcept\u001b[0m \u001b[0mTypeError\u001b[0m\u001b[0;34m:\u001b[0m\u001b[0;34m\u001b[0m\u001b[0;34m\u001b[0m\u001b[0m\n\u001b[1;32m    144\u001b[0m         \u001b[0;32mif\u001b[0m \u001b[0mis_cmp\u001b[0m\u001b[0;34m:\u001b[0m\u001b[0;34m\u001b[0m\u001b[0;34m\u001b[0m\u001b[0m\n",
      "\u001b[0;32m/opt/anaconda3/lib/python3.8/site-packages/pandas/core/computation/expressions.py\u001b[0m in \u001b[0;36mevaluate\u001b[0;34m(op, a, b, use_numexpr)\u001b[0m\n\u001b[1;32m    233\u001b[0m         \u001b[0;32mif\u001b[0m \u001b[0muse_numexpr\u001b[0m\u001b[0;34m:\u001b[0m\u001b[0;34m\u001b[0m\u001b[0;34m\u001b[0m\u001b[0m\n\u001b[1;32m    234\u001b[0m             \u001b[0;31m# error: \"None\" not callable\u001b[0m\u001b[0;34m\u001b[0m\u001b[0;34m\u001b[0m\u001b[0;34m\u001b[0m\u001b[0m\n\u001b[0;32m--> 235\u001b[0;31m             \u001b[0;32mreturn\u001b[0m \u001b[0m_evaluate\u001b[0m\u001b[0;34m(\u001b[0m\u001b[0mop\u001b[0m\u001b[0;34m,\u001b[0m \u001b[0mop_str\u001b[0m\u001b[0;34m,\u001b[0m \u001b[0ma\u001b[0m\u001b[0;34m,\u001b[0m \u001b[0mb\u001b[0m\u001b[0;34m)\u001b[0m  \u001b[0;31m# type: ignore[misc]\u001b[0m\u001b[0;34m\u001b[0m\u001b[0;34m\u001b[0m\u001b[0m\n\u001b[0m\u001b[1;32m    236\u001b[0m     \u001b[0;32mreturn\u001b[0m \u001b[0m_evaluate_standard\u001b[0m\u001b[0;34m(\u001b[0m\u001b[0mop\u001b[0m\u001b[0;34m,\u001b[0m \u001b[0mop_str\u001b[0m\u001b[0;34m,\u001b[0m \u001b[0ma\u001b[0m\u001b[0;34m,\u001b[0m \u001b[0mb\u001b[0m\u001b[0;34m)\u001b[0m\u001b[0;34m\u001b[0m\u001b[0;34m\u001b[0m\u001b[0m\n\u001b[1;32m    237\u001b[0m \u001b[0;34m\u001b[0m\u001b[0m\n",
      "\u001b[0;32m/opt/anaconda3/lib/python3.8/site-packages/pandas/core/computation/expressions.py\u001b[0m in \u001b[0;36m_evaluate_numexpr\u001b[0;34m(op, op_str, a, b)\u001b[0m\n\u001b[1;32m    118\u001b[0m \u001b[0;34m\u001b[0m\u001b[0m\n\u001b[1;32m    119\u001b[0m     \u001b[0;32mif\u001b[0m \u001b[0mresult\u001b[0m \u001b[0;32mis\u001b[0m \u001b[0;32mNone\u001b[0m\u001b[0;34m:\u001b[0m\u001b[0;34m\u001b[0m\u001b[0;34m\u001b[0m\u001b[0m\n\u001b[0;32m--> 120\u001b[0;31m         \u001b[0mresult\u001b[0m \u001b[0;34m=\u001b[0m \u001b[0m_evaluate_standard\u001b[0m\u001b[0;34m(\u001b[0m\u001b[0mop\u001b[0m\u001b[0;34m,\u001b[0m \u001b[0mop_str\u001b[0m\u001b[0;34m,\u001b[0m \u001b[0ma\u001b[0m\u001b[0;34m,\u001b[0m \u001b[0mb\u001b[0m\u001b[0;34m)\u001b[0m\u001b[0;34m\u001b[0m\u001b[0;34m\u001b[0m\u001b[0m\n\u001b[0m\u001b[1;32m    121\u001b[0m \u001b[0;34m\u001b[0m\u001b[0m\n\u001b[1;32m    122\u001b[0m     \u001b[0;32mreturn\u001b[0m \u001b[0mresult\u001b[0m\u001b[0;34m\u001b[0m\u001b[0;34m\u001b[0m\u001b[0m\n",
      "\u001b[0;32m/opt/anaconda3/lib/python3.8/site-packages/pandas/core/computation/expressions.py\u001b[0m in \u001b[0;36m_evaluate_standard\u001b[0;34m(op, op_str, a, b)\u001b[0m\n\u001b[1;32m     66\u001b[0m     \u001b[0;32mif\u001b[0m \u001b[0m_TEST_MODE\u001b[0m\u001b[0;34m:\u001b[0m\u001b[0;34m\u001b[0m\u001b[0;34m\u001b[0m\u001b[0m\n\u001b[1;32m     67\u001b[0m         \u001b[0m_store_test_result\u001b[0m\u001b[0;34m(\u001b[0m\u001b[0;32mFalse\u001b[0m\u001b[0;34m)\u001b[0m\u001b[0;34m\u001b[0m\u001b[0;34m\u001b[0m\u001b[0m\n\u001b[0;32m---> 68\u001b[0;31m     \u001b[0;32mwith\u001b[0m \u001b[0mnp\u001b[0m\u001b[0;34m.\u001b[0m\u001b[0merrstate\u001b[0m\u001b[0;34m(\u001b[0m\u001b[0mall\u001b[0m\u001b[0;34m=\u001b[0m\u001b[0;34m\"ignore\"\u001b[0m\u001b[0;34m)\u001b[0m\u001b[0;34m:\u001b[0m\u001b[0;34m\u001b[0m\u001b[0;34m\u001b[0m\u001b[0m\n\u001b[0m\u001b[1;32m     69\u001b[0m         \u001b[0;32mreturn\u001b[0m \u001b[0mop\u001b[0m\u001b[0;34m(\u001b[0m\u001b[0ma\u001b[0m\u001b[0;34m,\u001b[0m \u001b[0mb\u001b[0m\u001b[0;34m)\u001b[0m\u001b[0;34m\u001b[0m\u001b[0;34m\u001b[0m\u001b[0m\n\u001b[1;32m     70\u001b[0m \u001b[0;34m\u001b[0m\u001b[0m\n",
      "\u001b[0;32m/opt/anaconda3/lib/python3.8/site-packages/numpy/core/_ufunc_config.py\u001b[0m in \u001b[0;36m__enter__\u001b[0;34m(self)\u001b[0m\n\u001b[1;32m    432\u001b[0m \u001b[0;34m\u001b[0m\u001b[0m\n\u001b[1;32m    433\u001b[0m     \u001b[0;32mdef\u001b[0m \u001b[0m__enter__\u001b[0m\u001b[0;34m(\u001b[0m\u001b[0mself\u001b[0m\u001b[0;34m)\u001b[0m\u001b[0;34m:\u001b[0m\u001b[0;34m\u001b[0m\u001b[0;34m\u001b[0m\u001b[0m\n\u001b[0;32m--> 434\u001b[0;31m         \u001b[0mself\u001b[0m\u001b[0;34m.\u001b[0m\u001b[0moldstate\u001b[0m \u001b[0;34m=\u001b[0m \u001b[0mseterr\u001b[0m\u001b[0;34m(\u001b[0m\u001b[0;34m**\u001b[0m\u001b[0mself\u001b[0m\u001b[0;34m.\u001b[0m\u001b[0mkwargs\u001b[0m\u001b[0;34m)\u001b[0m\u001b[0;34m\u001b[0m\u001b[0;34m\u001b[0m\u001b[0m\n\u001b[0m\u001b[1;32m    435\u001b[0m         \u001b[0;32mif\u001b[0m \u001b[0mself\u001b[0m\u001b[0;34m.\u001b[0m\u001b[0mcall\u001b[0m \u001b[0;32mis\u001b[0m \u001b[0;32mnot\u001b[0m \u001b[0m_Unspecified\u001b[0m\u001b[0;34m:\u001b[0m\u001b[0;34m\u001b[0m\u001b[0;34m\u001b[0m\u001b[0m\n\u001b[1;32m    436\u001b[0m             \u001b[0mself\u001b[0m\u001b[0;34m.\u001b[0m\u001b[0moldcall\u001b[0m \u001b[0;34m=\u001b[0m \u001b[0mseterrcall\u001b[0m\u001b[0;34m(\u001b[0m\u001b[0mself\u001b[0m\u001b[0;34m.\u001b[0m\u001b[0mcall\u001b[0m\u001b[0;34m)\u001b[0m\u001b[0;34m\u001b[0m\u001b[0;34m\u001b[0m\u001b[0m\n",
      "\u001b[0;32m/opt/anaconda3/lib/python3.8/site-packages/numpy/core/_ufunc_config.py\u001b[0m in \u001b[0;36mseterr\u001b[0;34m(all, divide, over, under, invalid)\u001b[0m\n\u001b[1;32m    109\u001b[0m \u001b[0;34m\u001b[0m\u001b[0m\n\u001b[1;32m    110\u001b[0m     \u001b[0mpyvals\u001b[0m \u001b[0;34m=\u001b[0m \u001b[0mumath\u001b[0m\u001b[0;34m.\u001b[0m\u001b[0mgeterrobj\u001b[0m\u001b[0;34m(\u001b[0m\u001b[0;34m)\u001b[0m\u001b[0;34m\u001b[0m\u001b[0;34m\u001b[0m\u001b[0m\n\u001b[0;32m--> 111\u001b[0;31m     \u001b[0mold\u001b[0m \u001b[0;34m=\u001b[0m \u001b[0mgeterr\u001b[0m\u001b[0;34m(\u001b[0m\u001b[0;34m)\u001b[0m\u001b[0;34m\u001b[0m\u001b[0;34m\u001b[0m\u001b[0m\n\u001b[0m\u001b[1;32m    112\u001b[0m \u001b[0;34m\u001b[0m\u001b[0m\n\u001b[1;32m    113\u001b[0m     \u001b[0;32mif\u001b[0m \u001b[0mdivide\u001b[0m \u001b[0;32mis\u001b[0m \u001b[0;32mNone\u001b[0m\u001b[0;34m:\u001b[0m\u001b[0;34m\u001b[0m\u001b[0;34m\u001b[0m\u001b[0m\n",
      "\u001b[0;32m/opt/anaconda3/lib/python3.8/site-packages/numpy/core/_ufunc_config.py\u001b[0m in \u001b[0;36mgeterr\u001b[0;34m()\u001b[0m\n\u001b[1;32m    170\u001b[0m     \u001b[0mmask\u001b[0m \u001b[0;34m=\u001b[0m \u001b[0;36m7\u001b[0m\u001b[0;34m\u001b[0m\u001b[0;34m\u001b[0m\u001b[0m\n\u001b[1;32m    171\u001b[0m     \u001b[0mres\u001b[0m \u001b[0;34m=\u001b[0m \u001b[0;34m{\u001b[0m\u001b[0;34m}\u001b[0m\u001b[0;34m\u001b[0m\u001b[0;34m\u001b[0m\u001b[0m\n\u001b[0;32m--> 172\u001b[0;31m     \u001b[0mval\u001b[0m \u001b[0;34m=\u001b[0m \u001b[0;34m(\u001b[0m\u001b[0mmaskvalue\u001b[0m \u001b[0;34m>>\u001b[0m \u001b[0mSHIFT_DIVIDEBYZERO\u001b[0m\u001b[0;34m)\u001b[0m \u001b[0;34m&\u001b[0m \u001b[0mmask\u001b[0m\u001b[0;34m\u001b[0m\u001b[0;34m\u001b[0m\u001b[0m\n\u001b[0m\u001b[1;32m    173\u001b[0m     \u001b[0mres\u001b[0m\u001b[0;34m[\u001b[0m\u001b[0;34m'divide'\u001b[0m\u001b[0;34m]\u001b[0m \u001b[0;34m=\u001b[0m \u001b[0m_errdict_rev\u001b[0m\u001b[0;34m[\u001b[0m\u001b[0mval\u001b[0m\u001b[0;34m]\u001b[0m\u001b[0;34m\u001b[0m\u001b[0;34m\u001b[0m\u001b[0m\n\u001b[1;32m    174\u001b[0m     \u001b[0mval\u001b[0m \u001b[0;34m=\u001b[0m \u001b[0;34m(\u001b[0m\u001b[0mmaskvalue\u001b[0m \u001b[0;34m>>\u001b[0m \u001b[0mSHIFT_OVERFLOW\u001b[0m\u001b[0;34m)\u001b[0m \u001b[0;34m&\u001b[0m \u001b[0mmask\u001b[0m\u001b[0;34m\u001b[0m\u001b[0;34m\u001b[0m\u001b[0m\n",
      "\u001b[0;31mKeyboardInterrupt\u001b[0m: "
     ]
    }
   ],
   "source": [
    "garch_volatility_per_time_id(file_path, 'name')"
   ]
  },
  {
   "cell_type": "code",
   "execution_count": null,
   "id": "26a8afd3",
   "metadata": {},
   "outputs": [],
   "source": []
  },
  {
   "cell_type": "code",
   "execution_count": null,
   "id": "3ac80a49",
   "metadata": {},
   "outputs": [],
   "source": []
  },
  {
   "cell_type": "code",
   "execution_count": null,
   "id": "92da1f8e",
   "metadata": {},
   "outputs": [],
   "source": []
  },
  {
   "cell_type": "code",
   "execution_count": null,
   "id": "829ee604",
   "metadata": {},
   "outputs": [],
   "source": []
  },
  {
   "cell_type": "code",
   "execution_count": null,
   "id": "83425caa",
   "metadata": {},
   "outputs": [],
   "source": []
  },
  {
   "cell_type": "code",
   "execution_count": null,
   "id": "de355b70",
   "metadata": {},
   "outputs": [],
   "source": []
  },
  {
   "cell_type": "markdown",
   "id": "726825b6",
   "metadata": {},
   "source": [
    "### Check the results"
   ]
  },
  {
   "cell_type": "code",
   "execution_count": 217,
   "id": "f42ebbef",
   "metadata": {
    "papermill": {
     "duration": 1.811358,
     "end_time": "2021-07-01T10:00:29.764555",
     "exception": false,
     "start_time": "2021-07-01T10:00:27.953197",
     "status": "completed"
    },
    "tags": []
   },
   "outputs": [
    {
     "ename": "NameError",
     "evalue": "name 'mydata_tocheck' is not defined",
     "output_type": "error",
     "traceback": [
      "\u001b[0;31m---------------------------------------------------------------------------\u001b[0m",
      "\u001b[0;31mNameError\u001b[0m                                 Traceback (most recent call last)",
      "\u001b[0;32m<ipython-input-217-2d4806a5c1a1>\u001b[0m in \u001b[0;36m<module>\u001b[0;34m\u001b[0m\n\u001b[1;32m      3\u001b[0m \u001b[0mtrain_check\u001b[0m\u001b[0;34m[\u001b[0m\u001b[0;34m'row_id'\u001b[0m\u001b[0;34m]\u001b[0m \u001b[0;34m=\u001b[0m \u001b[0mtrain_check\u001b[0m\u001b[0;34m[\u001b[0m\u001b[0;34m'stock_id'\u001b[0m\u001b[0;34m]\u001b[0m\u001b[0;34m.\u001b[0m\u001b[0mastype\u001b[0m\u001b[0;34m(\u001b[0m\u001b[0mstr\u001b[0m\u001b[0;34m)\u001b[0m \u001b[0;34m+\u001b[0m \u001b[0;34m'-'\u001b[0m \u001b[0;34m+\u001b[0m \u001b[0mtrain_check\u001b[0m\u001b[0;34m[\u001b[0m\u001b[0;34m'time_id'\u001b[0m\u001b[0;34m]\u001b[0m\u001b[0;34m.\u001b[0m\u001b[0mastype\u001b[0m\u001b[0;34m(\u001b[0m\u001b[0mstr\u001b[0m\u001b[0;34m)\u001b[0m\u001b[0;34m\u001b[0m\u001b[0;34m\u001b[0m\u001b[0m\n\u001b[1;32m      4\u001b[0m \u001b[0mtrain_check\u001b[0m \u001b[0;34m=\u001b[0m \u001b[0mtrain_check\u001b[0m\u001b[0;34m[\u001b[0m\u001b[0;34m[\u001b[0m\u001b[0;34m'row_id'\u001b[0m\u001b[0;34m,\u001b[0m\u001b[0;34m'target'\u001b[0m\u001b[0;34m]\u001b[0m\u001b[0;34m]\u001b[0m\u001b[0;34m\u001b[0m\u001b[0;34m\u001b[0m\u001b[0m\n\u001b[0;32m----> 5\u001b[0;31m \u001b[0mdf_joined\u001b[0m \u001b[0;34m=\u001b[0m \u001b[0mtrain_check\u001b[0m\u001b[0;34m.\u001b[0m\u001b[0mmerge\u001b[0m\u001b[0;34m(\u001b[0m\u001b[0mmydata_tocheck\u001b[0m\u001b[0;34m[\u001b[0m\u001b[0;34m[\u001b[0m\u001b[0;34m'row_id'\u001b[0m\u001b[0;34m,\u001b[0m\u001b[0;34m'pred'\u001b[0m\u001b[0;34m]\u001b[0m\u001b[0;34m]\u001b[0m\u001b[0;34m,\u001b[0m \u001b[0mon\u001b[0m \u001b[0;34m=\u001b[0m \u001b[0;34m[\u001b[0m\u001b[0;34m'row_id'\u001b[0m\u001b[0;34m]\u001b[0m\u001b[0;34m,\u001b[0m \u001b[0mhow\u001b[0m \u001b[0;34m=\u001b[0m \u001b[0;34m'right'\u001b[0m\u001b[0;34m)\u001b[0m\u001b[0;34m\u001b[0m\u001b[0;34m\u001b[0m\u001b[0m\n\u001b[0m",
      "\u001b[0;31mNameError\u001b[0m: name 'mydata_tocheck' is not defined"
     ]
    }
   ],
   "source": [
    "train = pd.read_csv(path_vlad + '/train.csv')\n",
    "train_check = train\n",
    "train_check['row_id'] = train_check['stock_id'].astype(str) + '-' + train_check['time_id'].astype(str)\n",
    "train_check = train_check[['row_id','target']]\n",
    "df_joined = train_check.merge(mydata_tocheck[['row_id','pred']], on = ['row_id'], how = 'right')"
   ]
  },
  {
   "cell_type": "code",
   "execution_count": null,
   "id": "6fcb1435",
   "metadata": {},
   "outputs": [],
   "source": [
    "df_joined"
   ]
  },
  {
   "cell_type": "code",
   "execution_count": null,
   "id": "483ee3e6",
   "metadata": {},
   "outputs": [],
   "source": [
    "plt.figure(figsize=(12,4))\n",
    "plt.plot(df_joined['target'])\n",
    "plt.plot(df_joined['pred'])\n",
    "plt.title('Volatility Prediction - Rolling Forecast')\n",
    "plt.legend(['Target', 'Prediction'])\n",
    "plt.show()"
   ]
  },
  {
   "cell_type": "code",
   "execution_count": null,
   "id": "76cf6fa5",
   "metadata": {},
   "outputs": [],
   "source": [
    "from sklearn.metrics import r2_score\n",
    "def rmspe(y_true, y_pred):\n",
    "    return  (np.sqrt(np.mean(np.square((y_true - y_pred) / y_true))))\n",
    "R2 = round(r2_score(y_true = df_joined['target'], y_pred = df_joined['pred']),3)\n",
    "RMSPE = round(rmspe(y_true = df_joined['target'], y_pred = df_joined['pred']),3)\n",
    "print(f'Performance of the GARCH prediction: R2 score: {R2}, RMSPE: {RMSPE}')"
   ]
  },
  {
   "cell_type": "markdown",
   "id": "d5ae5906",
   "metadata": {},
   "source": [
    "NEED TO CHECK HOW GOOD THIS FITS ABSOLUTE RETURNS"
   ]
  },
  {
   "cell_type": "code",
   "execution_count": null,
   "id": "d3a86f8d",
   "metadata": {},
   "outputs": [],
   "source": []
  }
 ],
 "metadata": {
  "kernelspec": {
   "display_name": "Python 3",
   "language": "python",
   "name": "python3"
  },
  "language_info": {
   "codemirror_mode": {
    "name": "ipython",
    "version": 3
   },
   "file_extension": ".py",
   "mimetype": "text/x-python",
   "name": "python",
   "nbconvert_exporter": "python",
   "pygments_lexer": "ipython3",
   "version": "3.8.8"
  },
  "papermill": {
   "default_parameters": {},
   "duration": 458.049723,
   "end_time": "2021-07-01T10:00:32.262570",
   "environment_variables": {},
   "exception": null,
   "input_path": "__notebook__.ipynb",
   "output_path": "__notebook__.ipynb",
   "parameters": {},
   "start_time": "2021-07-01T09:52:54.212847",
   "version": "2.3.3"
  }
 },
 "nbformat": 4,
 "nbformat_minor": 5
}
