{
 "cells": [
  {
   "cell_type": "markdown",
   "id": "d9922fb9",
   "metadata": {
    "papermill": {
     "duration": 0.032644,
     "end_time": "2021-07-01T09:53:03.251782",
     "exception": false,
     "start_time": "2021-07-01T09:53:03.219138",
     "status": "completed"
    },
    "tags": []
   },
   "source": [
    "# GARCH Optiver Realized Volatility Prediction"
   ]
  },
  {
   "cell_type": "markdown",
   "id": "95f3330e",
   "metadata": {
    "papermill": {
     "duration": 0.034164,
     "end_time": "2021-07-01T09:53:04.415346",
     "exception": false,
     "start_time": "2021-07-01T09:53:04.381182",
     "status": "completed"
    },
    "tags": []
   },
   "source": [
    "# Realized volatility\n",
    "When we trade options, a valuable input to our models is the standard deviation of the stock log returns. The standard deviation will be different for log returns computed over longer or shorter intervals, for this reason it is usually normalized to a 1-year period and the annualized standard deviation is called **volatility**. \n",
    "\n",
    "In this competition, you will be given 10 minutes of book data and we ask you to predict what the volatility will be in the following 10 minutes. Volatility will be measured as follows:\n",
    "\n",
    "We will compute the log returns over all consecutive book updates and we define the **realized volatility, $\\sigma$,** as the squared root of the sum of squared log returns.\n",
    "$$\n",
    "\\sigma = \\sqrt{\\sum_{t}r_{t-1, t}^2}\n",
    "$$\n",
    "Where we use **WAP** as price of the stock to compute log returns.\n",
    "\n",
    "We want to keep definitions as simple and clear as possible, so that Kagglers without financial knowledge will not be penalized. So we are not annualizing the volatility and we are assuming that log returns have 0 mean."
   ]
  },
  {
   "cell_type": "markdown",
   "id": "67c71b90",
   "metadata": {
    "papermill": {
     "duration": 0.032593,
     "end_time": "2021-07-01T09:53:04.481127",
     "exception": false,
     "start_time": "2021-07-01T09:53:04.448534",
     "status": "completed"
    },
    "tags": []
   },
   "source": [
    "# Competition data\n",
    "In this competition, Kagglers are challenged to generate a series of short-term signals from the book and trade data of a fixed 10-minute window to predict the realized volatility of the next 10-minute window. The target, which is given in train/test.csv, can be linked with the raw order book/trade data by the same **time_id** and **stock_id**. There is no overlap between the feature and target window."
   ]
  },
  {
   "cell_type": "markdown",
   "id": "c701316d",
   "metadata": {
    "papermill": {
     "duration": 0.032592,
     "end_time": "2021-07-01T09:53:04.546453",
     "exception": false,
     "start_time": "2021-07-01T09:53:04.513861",
     "status": "completed"
    },
    "tags": []
   },
   "source": [
    "Note that the competition data will come with partitioned parquet file. You can find a tutorial of parquet file handling in this [notebook](https://www.kaggle.com/sohier/working-with-parquet)"
   ]
  },
  {
   "cell_type": "code",
   "execution_count": 57,
   "id": "4b7781d7",
   "metadata": {
    "papermill": {
     "duration": 1.865951,
     "end_time": "2021-07-01T09:53:06.447406",
     "exception": false,
     "start_time": "2021-07-01T09:53:04.581455",
     "status": "completed"
    },
    "tags": []
   },
   "outputs": [
    {
     "name": "stdout",
     "output_type": "stream",
     "text": [
      "   stock_id  time_id    target\n",
      "0         0        5  0.004136\n",
      "1         0       11  0.001445\n",
      "2         0       16  0.002168\n",
      "3         0       31  0.002195\n",
      "4         0       62  0.001747\n",
      "112\n",
      "[    5    11    16 ... 32758 32763 32767]\n"
     ]
    }
   ],
   "source": [
    "import pandas as pd\n",
    "import numpy as np\n",
    "import matplotlib.pyplot as plt\n",
    "import plotly.express as px\n",
    "import glob\n",
    "\n",
    "path_vlad = '/Users/vladimir.levin/data/optiver-realized-volatility-prediction'\n",
    "# path_laurent = ...\n",
    "\n",
    "train = pd.read_csv(path_vlad + '/train.csv')\n",
    "print(train.head())\n",
    "\n",
    "print(train['stock_id'].nunique())\n",
    "print(train['time_id'].unique())"
   ]
  },
  {
   "cell_type": "markdown",
   "id": "6d916be2",
   "metadata": {
    "papermill": {
     "duration": 0.032851,
     "end_time": "2021-07-01T09:53:06.514247",
     "exception": false,
     "start_time": "2021-07-01T09:53:06.481396",
     "status": "completed"
    },
    "tags": []
   },
   "source": [
    "Taking the first row of data, it implies that the realized vol of the **target bucket** for time_id 5, stock_id 0 is 0.004136. How does the book and trade data in **feature bucket** look like for us to build signals?"
   ]
  },
  {
   "cell_type": "code",
   "execution_count": 76,
   "id": "521dd3e7",
   "metadata": {
    "papermill": {
     "duration": 0.584657,
     "end_time": "2021-07-01T09:53:07.133221",
     "exception": false,
     "start_time": "2021-07-01T09:53:06.548564",
     "status": "completed"
    },
    "tags": []
   },
   "outputs": [],
   "source": [
    "book_example = pd.read_parquet(r'C:\\Users\\laurent\\ownCloud\\Data\\Kaggle\\optiver-realized-volatility-prediction\\book_train.parquet\\stock_id=0')\n",
    "trade_example =  pd.read_parquet(r'C:\\Users\\laurent\\ownCloud\\Data\\Kaggle\\optiver-realized-volatility-prediction\\trade_train.parquet\\stock_id=0')\n",
    "stock_id = '0'\n",
    "book_example = book_example[book_example['time_id']==11]\n",
    "book_example.loc[:,'stock_id'] = stock_id\n",
    "trade_example = trade_example[trade_example['time_id']==11]\n",
    "trade_example.loc[:,'stock_id'] = stock_id"
   ]
  },
  {
   "cell_type": "markdown",
   "id": "5ed2ca39",
   "metadata": {
    "papermill": {
     "duration": 0.033189,
     "end_time": "2021-07-01T09:53:07.199700",
     "exception": false,
     "start_time": "2021-07-01T09:53:07.166511",
     "status": "completed"
    },
    "tags": []
   },
   "source": [
    "**book data snapshot**"
   ]
  },
  {
   "cell_type": "code",
   "execution_count": 77,
   "id": "282a1f81",
   "metadata": {
    "papermill": {
     "duration": 0.052862,
     "end_time": "2021-07-01T09:53:07.286700",
     "exception": false,
     "start_time": "2021-07-01T09:53:07.233838",
     "status": "completed"
    },
    "tags": []
   },
   "outputs": [
    {
     "name": "stdout",
     "output_type": "stream",
     "text": [
      "(200, 11)\n"
     ]
    },
    {
     "data": {
      "text/html": [
       "<div>\n",
       "<style scoped>\n",
       "    .dataframe tbody tr th:only-of-type {\n",
       "        vertical-align: middle;\n",
       "    }\n",
       "\n",
       "    .dataframe tbody tr th {\n",
       "        vertical-align: top;\n",
       "    }\n",
       "\n",
       "    .dataframe thead th {\n",
       "        text-align: right;\n",
       "    }\n",
       "</style>\n",
       "<table border=\"1\" class=\"dataframe\">\n",
       "  <thead>\n",
       "    <tr style=\"text-align: right;\">\n",
       "      <th></th>\n",
       "      <th>time_id</th>\n",
       "      <th>seconds_in_bucket</th>\n",
       "      <th>bid_price1</th>\n",
       "      <th>ask_price1</th>\n",
       "      <th>bid_price2</th>\n",
       "      <th>ask_price2</th>\n",
       "      <th>bid_size1</th>\n",
       "      <th>ask_size1</th>\n",
       "      <th>bid_size2</th>\n",
       "      <th>ask_size2</th>\n",
       "      <th>stock_id</th>\n",
       "    </tr>\n",
       "  </thead>\n",
       "  <tbody>\n",
       "    <tr>\n",
       "      <th>302</th>\n",
       "      <td>11</td>\n",
       "      <td>0</td>\n",
       "      <td>0.999473</td>\n",
       "      <td>1.000176</td>\n",
       "      <td>0.999423</td>\n",
       "      <td>1.000376</td>\n",
       "      <td>205</td>\n",
       "      <td>100</td>\n",
       "      <td>20</td>\n",
       "      <td>30</td>\n",
       "      <td>0</td>\n",
       "    </tr>\n",
       "    <tr>\n",
       "      <th>303</th>\n",
       "      <td>11</td>\n",
       "      <td>3</td>\n",
       "      <td>0.999473</td>\n",
       "      <td>1.000176</td>\n",
       "      <td>0.999423</td>\n",
       "      <td>1.000376</td>\n",
       "      <td>200</td>\n",
       "      <td>100</td>\n",
       "      <td>20</td>\n",
       "      <td>30</td>\n",
       "      <td>0</td>\n",
       "    </tr>\n",
       "    <tr>\n",
       "      <th>304</th>\n",
       "      <td>11</td>\n",
       "      <td>13</td>\n",
       "      <td>0.999473</td>\n",
       "      <td>1.000326</td>\n",
       "      <td>0.999423</td>\n",
       "      <td>1.000376</td>\n",
       "      <td>200</td>\n",
       "      <td>100</td>\n",
       "      <td>20</td>\n",
       "      <td>30</td>\n",
       "      <td>0</td>\n",
       "    </tr>\n",
       "    <tr>\n",
       "      <th>305</th>\n",
       "      <td>11</td>\n",
       "      <td>18</td>\n",
       "      <td>0.999473</td>\n",
       "      <td>1.000025</td>\n",
       "      <td>0.999423</td>\n",
       "      <td>1.000376</td>\n",
       "      <td>200</td>\n",
       "      <td>100</td>\n",
       "      <td>20</td>\n",
       "      <td>30</td>\n",
       "      <td>0</td>\n",
       "    </tr>\n",
       "    <tr>\n",
       "      <th>306</th>\n",
       "      <td>11</td>\n",
       "      <td>28</td>\n",
       "      <td>0.999473</td>\n",
       "      <td>1.000326</td>\n",
       "      <td>0.999423</td>\n",
       "      <td>1.000376</td>\n",
       "      <td>200</td>\n",
       "      <td>100</td>\n",
       "      <td>20</td>\n",
       "      <td>30</td>\n",
       "      <td>0</td>\n",
       "    </tr>\n",
       "    <tr>\n",
       "      <th>307</th>\n",
       "      <td>11</td>\n",
       "      <td>44</td>\n",
       "      <td>0.999473</td>\n",
       "      <td>1.000326</td>\n",
       "      <td>0.999423</td>\n",
       "      <td>1.000376</td>\n",
       "      <td>200</td>\n",
       "      <td>111</td>\n",
       "      <td>20</td>\n",
       "      <td>30</td>\n",
       "      <td>0</td>\n",
       "    </tr>\n",
       "    <tr>\n",
       "      <th>308</th>\n",
       "      <td>11</td>\n",
       "      <td>51</td>\n",
       "      <td>0.999473</td>\n",
       "      <td>1.000025</td>\n",
       "      <td>0.999423</td>\n",
       "      <td>1.000326</td>\n",
       "      <td>200</td>\n",
       "      <td>10</td>\n",
       "      <td>20</td>\n",
       "      <td>11</td>\n",
       "      <td>0</td>\n",
       "    </tr>\n",
       "    <tr>\n",
       "      <th>309</th>\n",
       "      <td>11</td>\n",
       "      <td>52</td>\n",
       "      <td>0.999473</td>\n",
       "      <td>1.000025</td>\n",
       "      <td>0.999423</td>\n",
       "      <td>1.000326</td>\n",
       "      <td>100</td>\n",
       "      <td>10</td>\n",
       "      <td>20</td>\n",
       "      <td>11</td>\n",
       "      <td>0</td>\n",
       "    </tr>\n",
       "    <tr>\n",
       "      <th>310</th>\n",
       "      <td>11</td>\n",
       "      <td>62</td>\n",
       "      <td>0.999473</td>\n",
       "      <td>1.000025</td>\n",
       "      <td>0.999423</td>\n",
       "      <td>1.000326</td>\n",
       "      <td>100</td>\n",
       "      <td>110</td>\n",
       "      <td>20</td>\n",
       "      <td>11</td>\n",
       "      <td>0</td>\n",
       "    </tr>\n",
       "    <tr>\n",
       "      <th>311</th>\n",
       "      <td>11</td>\n",
       "      <td>64</td>\n",
       "      <td>0.999473</td>\n",
       "      <td>1.000025</td>\n",
       "      <td>0.999423</td>\n",
       "      <td>1.000326</td>\n",
       "      <td>100</td>\n",
       "      <td>110</td>\n",
       "      <td>20</td>\n",
       "      <td>11</td>\n",
       "      <td>0</td>\n",
       "    </tr>\n",
       "    <tr>\n",
       "      <th>312</th>\n",
       "      <td>11</td>\n",
       "      <td>65</td>\n",
       "      <td>0.999473</td>\n",
       "      <td>1.000025</td>\n",
       "      <td>0.999423</td>\n",
       "      <td>1.000326</td>\n",
       "      <td>105</td>\n",
       "      <td>110</td>\n",
       "      <td>20</td>\n",
       "      <td>11</td>\n",
       "      <td>0</td>\n",
       "    </tr>\n",
       "    <tr>\n",
       "      <th>313</th>\n",
       "      <td>11</td>\n",
       "      <td>66</td>\n",
       "      <td>0.999724</td>\n",
       "      <td>1.000025</td>\n",
       "      <td>0.999473</td>\n",
       "      <td>1.000326</td>\n",
       "      <td>1</td>\n",
       "      <td>110</td>\n",
       "      <td>100</td>\n",
       "      <td>11</td>\n",
       "      <td>0</td>\n",
       "    </tr>\n",
       "    <tr>\n",
       "      <th>314</th>\n",
       "      <td>11</td>\n",
       "      <td>75</td>\n",
       "      <td>0.999724</td>\n",
       "      <td>1.000376</td>\n",
       "      <td>0.999473</td>\n",
       "      <td>1.000527</td>\n",
       "      <td>1</td>\n",
       "      <td>30</td>\n",
       "      <td>100</td>\n",
       "      <td>150</td>\n",
       "      <td>0</td>\n",
       "    </tr>\n",
       "    <tr>\n",
       "      <th>315</th>\n",
       "      <td>11</td>\n",
       "      <td>104</td>\n",
       "      <td>0.999724</td>\n",
       "      <td>1.000376</td>\n",
       "      <td>0.999473</td>\n",
       "      <td>1.000527</td>\n",
       "      <td>1</td>\n",
       "      <td>31</td>\n",
       "      <td>200</td>\n",
       "      <td>150</td>\n",
       "      <td>0</td>\n",
       "    </tr>\n",
       "    <tr>\n",
       "      <th>316</th>\n",
       "      <td>11</td>\n",
       "      <td>107</td>\n",
       "      <td>0.999724</td>\n",
       "      <td>1.000376</td>\n",
       "      <td>0.999473</td>\n",
       "      <td>1.000527</td>\n",
       "      <td>1</td>\n",
       "      <td>31</td>\n",
       "      <td>200</td>\n",
       "      <td>150</td>\n",
       "      <td>0</td>\n",
       "    </tr>\n",
       "    <tr>\n",
       "      <th>317</th>\n",
       "      <td>11</td>\n",
       "      <td>110</td>\n",
       "      <td>0.999724</td>\n",
       "      <td>1.000376</td>\n",
       "      <td>0.999473</td>\n",
       "      <td>1.000527</td>\n",
       "      <td>9</td>\n",
       "      <td>166</td>\n",
       "      <td>100</td>\n",
       "      <td>125</td>\n",
       "      <td>0</td>\n",
       "    </tr>\n",
       "    <tr>\n",
       "      <th>318</th>\n",
       "      <td>11</td>\n",
       "      <td>111</td>\n",
       "      <td>0.999724</td>\n",
       "      <td>1.000376</td>\n",
       "      <td>0.999473</td>\n",
       "      <td>1.000527</td>\n",
       "      <td>9</td>\n",
       "      <td>166</td>\n",
       "      <td>100</td>\n",
       "      <td>125</td>\n",
       "      <td>0</td>\n",
       "    </tr>\n",
       "    <tr>\n",
       "      <th>319</th>\n",
       "      <td>11</td>\n",
       "      <td>112</td>\n",
       "      <td>0.999724</td>\n",
       "      <td>1.000376</td>\n",
       "      <td>0.999473</td>\n",
       "      <td>1.000527</td>\n",
       "      <td>9</td>\n",
       "      <td>166</td>\n",
       "      <td>200</td>\n",
       "      <td>125</td>\n",
       "      <td>0</td>\n",
       "    </tr>\n",
       "    <tr>\n",
       "      <th>320</th>\n",
       "      <td>11</td>\n",
       "      <td>113</td>\n",
       "      <td>0.999724</td>\n",
       "      <td>1.000376</td>\n",
       "      <td>0.999473</td>\n",
       "      <td>1.000527</td>\n",
       "      <td>9</td>\n",
       "      <td>166</td>\n",
       "      <td>200</td>\n",
       "      <td>125</td>\n",
       "      <td>0</td>\n",
       "    </tr>\n",
       "    <tr>\n",
       "      <th>321</th>\n",
       "      <td>11</td>\n",
       "      <td>114</td>\n",
       "      <td>0.999724</td>\n",
       "      <td>1.000376</td>\n",
       "      <td>0.999473</td>\n",
       "      <td>1.000527</td>\n",
       "      <td>8</td>\n",
       "      <td>166</td>\n",
       "      <td>200</td>\n",
       "      <td>125</td>\n",
       "      <td>0</td>\n",
       "    </tr>\n",
       "    <tr>\n",
       "      <th>322</th>\n",
       "      <td>11</td>\n",
       "      <td>116</td>\n",
       "      <td>0.999473</td>\n",
       "      <td>1.000376</td>\n",
       "      <td>0.999423</td>\n",
       "      <td>1.000527</td>\n",
       "      <td>200</td>\n",
       "      <td>166</td>\n",
       "      <td>20</td>\n",
       "      <td>125</td>\n",
       "      <td>0</td>\n",
       "    </tr>\n",
       "    <tr>\n",
       "      <th>323</th>\n",
       "      <td>11</td>\n",
       "      <td>119</td>\n",
       "      <td>0.999573</td>\n",
       "      <td>1.000376</td>\n",
       "      <td>0.999473</td>\n",
       "      <td>1.000527</td>\n",
       "      <td>31</td>\n",
       "      <td>166</td>\n",
       "      <td>200</td>\n",
       "      <td>125</td>\n",
       "      <td>0</td>\n",
       "    </tr>\n",
       "    <tr>\n",
       "      <th>324</th>\n",
       "      <td>11</td>\n",
       "      <td>120</td>\n",
       "      <td>0.999573</td>\n",
       "      <td>1.000376</td>\n",
       "      <td>0.999473</td>\n",
       "      <td>1.000527</td>\n",
       "      <td>31</td>\n",
       "      <td>166</td>\n",
       "      <td>200</td>\n",
       "      <td>125</td>\n",
       "      <td>0</td>\n",
       "    </tr>\n",
       "    <tr>\n",
       "      <th>325</th>\n",
       "      <td>11</td>\n",
       "      <td>127</td>\n",
       "      <td>0.999573</td>\n",
       "      <td>1.000376</td>\n",
       "      <td>0.999473</td>\n",
       "      <td>1.000527</td>\n",
       "      <td>39</td>\n",
       "      <td>166</td>\n",
       "      <td>200</td>\n",
       "      <td>125</td>\n",
       "      <td>0</td>\n",
       "    </tr>\n",
       "    <tr>\n",
       "      <th>326</th>\n",
       "      <td>11</td>\n",
       "      <td>131</td>\n",
       "      <td>0.999573</td>\n",
       "      <td>1.000376</td>\n",
       "      <td>0.999473</td>\n",
       "      <td>1.000527</td>\n",
       "      <td>38</td>\n",
       "      <td>40</td>\n",
       "      <td>200</td>\n",
       "      <td>150</td>\n",
       "      <td>0</td>\n",
       "    </tr>\n",
       "    <tr>\n",
       "      <th>327</th>\n",
       "      <td>11</td>\n",
       "      <td>133</td>\n",
       "      <td>0.999925</td>\n",
       "      <td>1.000376</td>\n",
       "      <td>0.999573</td>\n",
       "      <td>1.000527</td>\n",
       "      <td>1</td>\n",
       "      <td>40</td>\n",
       "      <td>30</td>\n",
       "      <td>150</td>\n",
       "      <td>0</td>\n",
       "    </tr>\n",
       "    <tr>\n",
       "      <th>328</th>\n",
       "      <td>11</td>\n",
       "      <td>135</td>\n",
       "      <td>0.999925</td>\n",
       "      <td>1.000376</td>\n",
       "      <td>0.999573</td>\n",
       "      <td>1.000527</td>\n",
       "      <td>9</td>\n",
       "      <td>40</td>\n",
       "      <td>30</td>\n",
       "      <td>150</td>\n",
       "      <td>0</td>\n",
       "    </tr>\n",
       "    <tr>\n",
       "      <th>329</th>\n",
       "      <td>11</td>\n",
       "      <td>151</td>\n",
       "      <td>0.999925</td>\n",
       "      <td>1.000376</td>\n",
       "      <td>0.999674</td>\n",
       "      <td>1.000527</td>\n",
       "      <td>9</td>\n",
       "      <td>40</td>\n",
       "      <td>6</td>\n",
       "      <td>125</td>\n",
       "      <td>0</td>\n",
       "    </tr>\n",
       "    <tr>\n",
       "      <th>330</th>\n",
       "      <td>11</td>\n",
       "      <td>152</td>\n",
       "      <td>0.999925</td>\n",
       "      <td>1.000376</td>\n",
       "      <td>0.999724</td>\n",
       "      <td>1.000527</td>\n",
       "      <td>9</td>\n",
       "      <td>40</td>\n",
       "      <td>6</td>\n",
       "      <td>125</td>\n",
       "      <td>0</td>\n",
       "    </tr>\n",
       "    <tr>\n",
       "      <th>331</th>\n",
       "      <td>11</td>\n",
       "      <td>153</td>\n",
       "      <td>0.999925</td>\n",
       "      <td>1.000376</td>\n",
       "      <td>0.999724</td>\n",
       "      <td>1.000527</td>\n",
       "      <td>10</td>\n",
       "      <td>40</td>\n",
       "      <td>211</td>\n",
       "      <td>125</td>\n",
       "      <td>0</td>\n",
       "    </tr>\n",
       "  </tbody>\n",
       "</table>\n",
       "</div>"
      ],
      "text/plain": [
       "     time_id  seconds_in_bucket  bid_price1  ask_price1  bid_price2  \\\n",
       "302       11                  0    0.999473    1.000176    0.999423   \n",
       "303       11                  3    0.999473    1.000176    0.999423   \n",
       "304       11                 13    0.999473    1.000326    0.999423   \n",
       "305       11                 18    0.999473    1.000025    0.999423   \n",
       "306       11                 28    0.999473    1.000326    0.999423   \n",
       "307       11                 44    0.999473    1.000326    0.999423   \n",
       "308       11                 51    0.999473    1.000025    0.999423   \n",
       "309       11                 52    0.999473    1.000025    0.999423   \n",
       "310       11                 62    0.999473    1.000025    0.999423   \n",
       "311       11                 64    0.999473    1.000025    0.999423   \n",
       "312       11                 65    0.999473    1.000025    0.999423   \n",
       "313       11                 66    0.999724    1.000025    0.999473   \n",
       "314       11                 75    0.999724    1.000376    0.999473   \n",
       "315       11                104    0.999724    1.000376    0.999473   \n",
       "316       11                107    0.999724    1.000376    0.999473   \n",
       "317       11                110    0.999724    1.000376    0.999473   \n",
       "318       11                111    0.999724    1.000376    0.999473   \n",
       "319       11                112    0.999724    1.000376    0.999473   \n",
       "320       11                113    0.999724    1.000376    0.999473   \n",
       "321       11                114    0.999724    1.000376    0.999473   \n",
       "322       11                116    0.999473    1.000376    0.999423   \n",
       "323       11                119    0.999573    1.000376    0.999473   \n",
       "324       11                120    0.999573    1.000376    0.999473   \n",
       "325       11                127    0.999573    1.000376    0.999473   \n",
       "326       11                131    0.999573    1.000376    0.999473   \n",
       "327       11                133    0.999925    1.000376    0.999573   \n",
       "328       11                135    0.999925    1.000376    0.999573   \n",
       "329       11                151    0.999925    1.000376    0.999674   \n",
       "330       11                152    0.999925    1.000376    0.999724   \n",
       "331       11                153    0.999925    1.000376    0.999724   \n",
       "\n",
       "     ask_price2  bid_size1  ask_size1  bid_size2  ask_size2 stock_id  \n",
       "302    1.000376        205        100         20         30        0  \n",
       "303    1.000376        200        100         20         30        0  \n",
       "304    1.000376        200        100         20         30        0  \n",
       "305    1.000376        200        100         20         30        0  \n",
       "306    1.000376        200        100         20         30        0  \n",
       "307    1.000376        200        111         20         30        0  \n",
       "308    1.000326        200         10         20         11        0  \n",
       "309    1.000326        100         10         20         11        0  \n",
       "310    1.000326        100        110         20         11        0  \n",
       "311    1.000326        100        110         20         11        0  \n",
       "312    1.000326        105        110         20         11        0  \n",
       "313    1.000326          1        110        100         11        0  \n",
       "314    1.000527          1         30        100        150        0  \n",
       "315    1.000527          1         31        200        150        0  \n",
       "316    1.000527          1         31        200        150        0  \n",
       "317    1.000527          9        166        100        125        0  \n",
       "318    1.000527          9        166        100        125        0  \n",
       "319    1.000527          9        166        200        125        0  \n",
       "320    1.000527          9        166        200        125        0  \n",
       "321    1.000527          8        166        200        125        0  \n",
       "322    1.000527        200        166         20        125        0  \n",
       "323    1.000527         31        166        200        125        0  \n",
       "324    1.000527         31        166        200        125        0  \n",
       "325    1.000527         39        166        200        125        0  \n",
       "326    1.000527         38         40        200        150        0  \n",
       "327    1.000527          1         40         30        150        0  \n",
       "328    1.000527          9         40         30        150        0  \n",
       "329    1.000527          9         40          6        125        0  \n",
       "330    1.000527          9         40          6        125        0  \n",
       "331    1.000527         10         40        211        125        0  "
      ]
     },
     "execution_count": 77,
     "metadata": {},
     "output_type": "execute_result"
    }
   ],
   "source": [
    "print(book_example.shape)\n",
    "#book_example.to_csv('test_book.csv')\n",
    "book_example.head(30)"
   ]
  },
  {
   "cell_type": "markdown",
   "id": "f154b4b8",
   "metadata": {
    "papermill": {
     "duration": 0.033754,
     "end_time": "2021-07-01T09:53:07.354233",
     "exception": false,
     "start_time": "2021-07-01T09:53:07.320479",
     "status": "completed"
    },
    "tags": []
   },
   "source": [
    "**trade date snapshot**"
   ]
  },
  {
   "cell_type": "code",
   "execution_count": 43,
   "id": "183f52a8",
   "metadata": {
    "papermill": {
     "duration": 0.051187,
     "end_time": "2021-07-01T09:53:07.439325",
     "exception": false,
     "start_time": "2021-07-01T09:53:07.388138",
     "status": "completed"
    },
    "tags": []
   },
   "outputs": [
    {
     "data": {
      "text/html": [
       "<div>\n",
       "<style scoped>\n",
       "    .dataframe tbody tr th:only-of-type {\n",
       "        vertical-align: middle;\n",
       "    }\n",
       "\n",
       "    .dataframe tbody tr th {\n",
       "        vertical-align: top;\n",
       "    }\n",
       "\n",
       "    .dataframe thead th {\n",
       "        text-align: right;\n",
       "    }\n",
       "</style>\n",
       "<table border=\"1\" class=\"dataframe\">\n",
       "  <thead>\n",
       "    <tr style=\"text-align: right;\">\n",
       "      <th></th>\n",
       "      <th>time_id</th>\n",
       "      <th>seconds_in_bucket</th>\n",
       "      <th>price</th>\n",
       "      <th>size</th>\n",
       "      <th>order_count</th>\n",
       "      <th>stock_id</th>\n",
       "    </tr>\n",
       "  </thead>\n",
       "  <tbody>\n",
       "    <tr>\n",
       "      <th>0</th>\n",
       "      <td>5</td>\n",
       "      <td>21</td>\n",
       "      <td>1.002301</td>\n",
       "      <td>326</td>\n",
       "      <td>12</td>\n",
       "      <td>0</td>\n",
       "    </tr>\n",
       "    <tr>\n",
       "      <th>1</th>\n",
       "      <td>5</td>\n",
       "      <td>46</td>\n",
       "      <td>1.002778</td>\n",
       "      <td>128</td>\n",
       "      <td>4</td>\n",
       "      <td>0</td>\n",
       "    </tr>\n",
       "    <tr>\n",
       "      <th>2</th>\n",
       "      <td>5</td>\n",
       "      <td>50</td>\n",
       "      <td>1.002818</td>\n",
       "      <td>55</td>\n",
       "      <td>1</td>\n",
       "      <td>0</td>\n",
       "    </tr>\n",
       "    <tr>\n",
       "      <th>3</th>\n",
       "      <td>5</td>\n",
       "      <td>57</td>\n",
       "      <td>1.003155</td>\n",
       "      <td>121</td>\n",
       "      <td>5</td>\n",
       "      <td>0</td>\n",
       "    </tr>\n",
       "    <tr>\n",
       "      <th>4</th>\n",
       "      <td>5</td>\n",
       "      <td>68</td>\n",
       "      <td>1.003646</td>\n",
       "      <td>4</td>\n",
       "      <td>1</td>\n",
       "      <td>0</td>\n",
       "    </tr>\n",
       "  </tbody>\n",
       "</table>\n",
       "</div>"
      ],
      "text/plain": [
       "   time_id  seconds_in_bucket     price  size  order_count stock_id\n",
       "0        5                 21  1.002301   326           12        0\n",
       "1        5                 46  1.002778   128            4        0\n",
       "2        5                 50  1.002818    55            1        0\n",
       "3        5                 57  1.003155   121            5        0\n",
       "4        5                 68  1.003646     4            1        0"
      ]
     },
     "execution_count": 43,
     "metadata": {},
     "output_type": "execute_result"
    }
   ],
   "source": [
    "trade_example.head()"
   ]
  },
  {
   "cell_type": "markdown",
   "id": "87c50858",
   "metadata": {
    "papermill": {
     "duration": 0.034491,
     "end_time": "2021-07-01T09:53:07.511867",
     "exception": false,
     "start_time": "2021-07-01T09:53:07.477376",
     "status": "completed"
    },
    "tags": []
   },
   "source": [
    "**Realized volatility calculation in python**"
   ]
  },
  {
   "cell_type": "markdown",
   "id": "c2ee3ec3",
   "metadata": {
    "papermill": {
     "duration": 0.033739,
     "end_time": "2021-07-01T09:53:07.579673",
     "exception": false,
     "start_time": "2021-07-01T09:53:07.545934",
     "status": "completed"
    },
    "tags": []
   },
   "source": [
    "In this competition, our target is to predict short-term realized volatility. Although the order book and trade data for the target cannot be shared, we can still present the realized volatility calculation using the feature data we provided. \n",
    "\n",
    "As realized volatility is a statistical measure of price changes on a given stock, to calculate the price change we first need to have a stock valuation at the fixed interval (1 second). We will use weighted averaged price, or WAP, of the order book data we provided."
   ]
  },
  {
   "cell_type": "code",
   "execution_count": 44,
   "id": "a1b683f2",
   "metadata": {
    "papermill": {
     "duration": 0.047303,
     "end_time": "2021-07-01T09:53:07.661777",
     "exception": false,
     "start_time": "2021-07-01T09:53:07.614474",
     "status": "completed"
    },
    "tags": []
   },
   "outputs": [],
   "source": [
    "book_example['wap'] = (book_example['bid_price1'] * book_example['ask_size1'] +\n",
    "                                book_example['ask_price1'] * book_example['bid_size1']) / (\n",
    "                                       book_example['bid_size1']+ book_example['ask_size1'])"
   ]
  },
  {
   "cell_type": "markdown",
   "id": "327b4c54",
   "metadata": {
    "papermill": {
     "duration": 0.033742,
     "end_time": "2021-07-01T09:53:07.729971",
     "exception": false,
     "start_time": "2021-07-01T09:53:07.696229",
     "status": "completed"
    },
    "tags": []
   },
   "source": [
    "**The WAP of the stock is plotted below**"
   ]
  },
  {
   "cell_type": "code",
   "execution_count": 45,
   "id": "34a70a34",
   "metadata": {
    "papermill": {
     "duration": 1.395043,
     "end_time": "2021-07-01T09:53:09.159031",
     "exception": false,
     "start_time": "2021-07-01T09:53:07.763988",
     "status": "completed"
    },
    "tags": []
   },
   "outputs": [
    {
     "data": {
      "image/png": "[encoded data removed]",
      "text/plain": [
       "<Figure size 1080x720 with 1 Axes>"
      ]
     },
     "metadata": {
      "needs_background": "light"
     },
     "output_type": "display_data"
    }
   ],
   "source": [
    "#fig = px.line(book_example, x=\"seconds_in_bucket\", y=\"wap\", title='WAP of stock_id_0, time_id_5')\n",
    "#fig.show()\n",
    "plt.figure(figsize=(15,10))\n",
    "plt.plot(book_example['seconds_in_bucket'],book_example['wap'])\n",
    "plt.xlabel('seconds in bucket')\n",
    "plt.ylabel('wap')\n",
    "plt.title('WAP of stock id 0 time id 5')\n",
    "plt.show()"
   ]
  },
  {
   "cell_type": "markdown",
   "id": "943a7c6e",
   "metadata": {
    "papermill": {
     "duration": 0.036105,
     "end_time": "2021-07-01T09:53:09.235503",
     "exception": false,
     "start_time": "2021-07-01T09:53:09.199398",
     "status": "completed"
    },
    "tags": []
   },
   "source": [
    "To compute the log return, we can simply take **the logarithm of the ratio** between two consecutive **WAP**. The first row will have an empty return as the previous book update is unknown, therefore the empty return data point will be dropped."
   ]
  },
  {
   "cell_type": "code",
   "execution_count": 46,
   "id": "d682a8aa",
   "metadata": {
    "papermill": {
     "duration": 0.043895,
     "end_time": "2021-07-01T09:53:09.316657",
     "exception": false,
     "start_time": "2021-07-01T09:53:09.272762",
     "status": "completed"
    },
    "tags": []
   },
   "outputs": [],
   "source": [
    "def log_return(list_stock_prices):\n",
    "    return np.log(list_stock_prices).diff() "
   ]
  },
  {
   "cell_type": "code",
   "execution_count": 47,
   "id": "39f48c36",
   "metadata": {
    "papermill": {
     "duration": 0.05067,
     "end_time": "2021-07-01T09:53:09.403118",
     "exception": false,
     "start_time": "2021-07-01T09:53:09.352448",
     "status": "completed"
    },
    "tags": []
   },
   "outputs": [],
   "source": [
    "book_example.loc[:,'log_return'] = log_return(book_example['wap'])\n",
    "book_example = book_example[~book_example['log_return'].isnull()]"
   ]
  },
  {
   "cell_type": "markdown",
   "id": "b8462f0c",
   "metadata": {
    "execution": {
     "iopub.execute_input": "2021-06-09T15:01:53.679605Z",
     "iopub.status.busy": "2021-06-09T15:01:53.679074Z",
     "iopub.status.idle": "2021-06-09T15:01:53.686279Z",
     "shell.execute_reply": "2021-06-09T15:01:53.684738Z",
     "shell.execute_reply.started": "2021-06-09T15:01:53.67957Z"
    },
    "papermill": {
     "duration": 0.035845,
     "end_time": "2021-07-01T09:53:09.474602",
     "exception": false,
     "start_time": "2021-07-01T09:53:09.438757",
     "status": "completed"
    },
    "tags": []
   },
   "source": [
    "**Let's plot the tick-to-tick return of this instrument over this time bucket**"
   ]
  },
  {
   "cell_type": "code",
   "execution_count": 48,
   "id": "b52683ce",
   "metadata": {
    "papermill": {
     "duration": 0.109199,
     "end_time": "2021-07-01T09:53:09.619565",
     "exception": false,
     "start_time": "2021-07-01T09:53:09.510366",
     "status": "completed"
    },
    "tags": []
   },
   "outputs": [
    {
     "data": {
      "image/png": "[encoded data removed]",
      "text/plain": [
       "<Figure size 1080x720 with 1 Axes>"
      ]
     },
     "metadata": {
      "needs_background": "light"
     },
     "output_type": "display_data"
    }
   ],
   "source": [
    "#fig = px.line(book_example, x=\"seconds_in_bucket\", y=\"log_return\", title='Log return of stock_id_0, time_id_5')\n",
    "plt.figure(figsize=(15,10))\n",
    "plt.plot(book_example['seconds_in_bucket'],book_example['log_return'])\n",
    "plt.xlabel('seconds in bucket')\n",
    "plt.ylabel('log return')\n",
    "plt.title('Log return of stock_id_0, time_id_5')\n",
    "plt.show()"
   ]
  },
  {
   "cell_type": "markdown",
   "id": "fc34dfbf",
   "metadata": {
    "papermill": {
     "duration": 0.036272,
     "end_time": "2021-07-01T09:53:09.692447",
     "exception": false,
     "start_time": "2021-07-01T09:53:09.656175",
     "status": "completed"
    },
    "tags": []
   },
   "source": [
    "The realized vol of stock 0 in this feature bucket, will be:"
   ]
  },
  {
   "cell_type": "code",
   "execution_count": 50,
   "id": "e47d4f45",
   "metadata": {
    "papermill": {
     "duration": 0.04627,
     "end_time": "2021-07-01T09:53:09.775170",
     "exception": false,
     "start_time": "2021-07-01T09:53:09.728900",
     "status": "completed"
    },
    "tags": []
   },
   "outputs": [
    {
     "name": "stdout",
     "output_type": "stream",
     "text": [
      "Realized volatility for stock_id 0 on time_id 5 is 0.004499364172786558\n"
     ]
    }
   ],
   "source": [
    "def realized_volatility(series_log_return):\n",
    "    return np.sqrt(np.sum(series_log_return**2))\n",
    "realized_vol = realized_volatility(book_example['log_return'])\n",
    "print(f'Realized volatility for stock_id 0 on time_id 5 is {realized_vol}')"
   ]
  },
  {
   "cell_type": "markdown",
   "id": "fef904fd",
   "metadata": {
    "papermill": {
     "duration": 0.036892,
     "end_time": "2021-07-01T09:53:09.854364",
     "exception": false,
     "start_time": "2021-07-01T09:53:09.817472",
     "status": "completed"
    },
    "tags": []
   },
   "source": [
    "# Naive prediction: using past realized volatility as target"
   ]
  },
  {
   "cell_type": "markdown",
   "id": "e7bc85d6",
   "metadata": {
    "papermill": {
     "duration": 0.036274,
     "end_time": "2021-07-01T09:53:09.927655",
     "exception": false,
     "start_time": "2021-07-01T09:53:09.891381",
     "status": "completed"
    },
    "tags": []
   },
   "source": [
    "A commonly known fact about volatility is that it tends to be autocorrelated. We can use this property to implement a naive model that just \"predicts\" realized volatility by using whatever the realized volatility was in the initial 10 minutes.\n",
    "\n",
    "Let's calculate the past realized volatility across the training set to see how predictive a single naive signal can be."
   ]
  },
  {
   "cell_type": "code",
   "execution_count": 59,
   "id": "4a413b62",
   "metadata": {
    "papermill": {
     "duration": 0.840368,
     "end_time": "2021-07-01T09:53:10.805328",
     "exception": false,
     "start_time": "2021-07-01T09:53:09.964960",
     "status": "completed"
    },
    "tags": []
   },
   "outputs": [],
   "source": [
    "import os\n",
    "from sklearn.metrics import r2_score\n",
    "import glob\n",
    "list_order_book_file_train = glob.glob(r'C:\\Users\\laurent\\ownCloud\\Data\\Kaggle\\optiver-realized-volatility-prediction\\book_train.parquet\\*')"
   ]
  },
  {
   "cell_type": "markdown",
   "id": "86f2a764",
   "metadata": {
    "papermill": {
     "duration": 0.036286,
     "end_time": "2021-07-01T09:53:10.880073",
     "exception": false,
     "start_time": "2021-07-01T09:53:10.843787",
     "status": "completed"
    },
    "tags": []
   },
   "source": [
    "As the data is partitioned by stock_id in this competition to allow Kagglers better manage the memory, we try to calculcate realized volatility stock by stock and combine them into one submission file. Note that the stock id as the partition column is not present if we load the single file so we will remedy that manually. We will reuse the log return and realized volatility functions defined in the previous session."
   ]
  },
  {
   "cell_type": "code",
   "execution_count": 60,
   "id": "d2dbaaa3",
   "metadata": {
    "papermill": {
     "duration": 0.048386,
     "end_time": "2021-07-01T09:53:10.965080",
     "exception": false,
     "start_time": "2021-07-01T09:53:10.916694",
     "status": "completed"
    },
    "tags": []
   },
   "outputs": [],
   "source": [
    "def realized_volatility_per_time_id(file_path, prediction_column_name):\n",
    "    df_book_data = pd.read_parquet(file_path)\n",
    "    df_book_data['wap'] =(df_book_data['bid_price1'] * df_book_data['ask_size1']+df_book_data['ask_price1'] * df_book_data['bid_size1'])  / (\n",
    "                                      df_book_data['bid_size1']+ df_book_data[\n",
    "                                  'ask_size1'])\n",
    "    df_book_data['log_return'] = df_book_data.groupby(['time_id'])['wap'].apply(log_return)\n",
    "    df_book_data = df_book_data[~df_book_data['log_return'].isnull()]\n",
    "    df_realized_vol_per_stock =  pd.DataFrame(df_book_data.groupby(['time_id'])['log_return'].agg(realized_volatility)).reset_index()\n",
    "    df_realized_vol_per_stock = df_realized_vol_per_stock.rename(columns = {'log_return':prediction_column_name})\n",
    "    stock_id = file_path.split('=')[1]\n",
    "    df_realized_vol_per_stock['row_id'] = df_realized_vol_per_stock['time_id'].apply(lambda x:f'{stock_id}-{x}')\n",
    "    return df_realized_vol_per_stock[['row_id',prediction_column_name]]"
   ]
  },
  {
   "cell_type": "markdown",
   "id": "7951d9fc",
   "metadata": {
    "papermill": {
     "duration": 0.037035,
     "end_time": "2021-07-01T09:53:11.038943",
     "exception": false,
     "start_time": "2021-07-01T09:53:11.001908",
     "status": "completed"
    },
    "tags": []
   },
   "source": [
    "Looping through each individual stocks, we can get the past realized volatility as prediction for each individual stocks."
   ]
  },
  {
   "cell_type": "code",
   "execution_count": 61,
   "id": "400ff1a9",
   "metadata": {
    "papermill": {
     "duration": 436.763144,
     "end_time": "2021-07-01T10:00:27.840523",
     "exception": false,
     "start_time": "2021-07-01T09:53:11.077379",
     "status": "completed"
    },
    "tags": []
   },
   "outputs": [],
   "source": [
    "def past_realized_volatility_per_stock(list_file,prediction_column_name):\n",
    "    df_past_realized = pd.DataFrame()\n",
    "    for file in list_file:\n",
    "        df_past_realized = pd.concat([df_past_realized,\n",
    "                                     realized_volatility_per_time_id(file,prediction_column_name)])\n",
    "    return df_past_realized\n",
    "df_past_realized_train = past_realized_volatility_per_stock(list_file=list_order_book_file_train,\n",
    "                                                           prediction_column_name='pred')"
   ]
  },
  {
   "cell_type": "code",
   "execution_count": 79,
   "id": "ae92e367",
   "metadata": {},
   "outputs": [
    {
     "data": {
      "text/html": [
       "<div>\n",
       "<style scoped>\n",
       "    .dataframe tbody tr th:only-of-type {\n",
       "        vertical-align: middle;\n",
       "    }\n",
       "\n",
       "    .dataframe tbody tr th {\n",
       "        vertical-align: top;\n",
       "    }\n",
       "\n",
       "    .dataframe thead th {\n",
       "        text-align: right;\n",
       "    }\n",
       "</style>\n",
       "<table border=\"1\" class=\"dataframe\">\n",
       "  <thead>\n",
       "    <tr style=\"text-align: right;\">\n",
       "      <th></th>\n",
       "      <th>row_id</th>\n",
       "      <th>pred</th>\n",
       "    </tr>\n",
       "  </thead>\n",
       "  <tbody>\n",
       "    <tr>\n",
       "      <th>0</th>\n",
       "      <td>0-5</td>\n",
       "      <td>0.004499</td>\n",
       "    </tr>\n",
       "    <tr>\n",
       "      <th>1</th>\n",
       "      <td>0-11</td>\n",
       "      <td>0.001204</td>\n",
       "    </tr>\n",
       "    <tr>\n",
       "      <th>2</th>\n",
       "      <td>0-16</td>\n",
       "      <td>0.002369</td>\n",
       "    </tr>\n",
       "    <tr>\n",
       "      <th>3</th>\n",
       "      <td>0-31</td>\n",
       "      <td>0.002574</td>\n",
       "    </tr>\n",
       "    <tr>\n",
       "      <th>4</th>\n",
       "      <td>0-62</td>\n",
       "      <td>0.001894</td>\n",
       "    </tr>\n",
       "    <tr>\n",
       "      <th>...</th>\n",
       "      <td>...</td>\n",
       "      <td>...</td>\n",
       "    </tr>\n",
       "    <tr>\n",
       "      <th>75</th>\n",
       "      <td>0-659</td>\n",
       "      <td>0.003682</td>\n",
       "    </tr>\n",
       "    <tr>\n",
       "      <th>76</th>\n",
       "      <td>0-675</td>\n",
       "      <td>0.006421</td>\n",
       "    </tr>\n",
       "    <tr>\n",
       "      <th>77</th>\n",
       "      <td>0-697</td>\n",
       "      <td>0.005327</td>\n",
       "    </tr>\n",
       "    <tr>\n",
       "      <th>78</th>\n",
       "      <td>0-709</td>\n",
       "      <td>0.009984</td>\n",
       "    </tr>\n",
       "    <tr>\n",
       "      <th>79</th>\n",
       "      <td>0-725</td>\n",
       "      <td>0.003054</td>\n",
       "    </tr>\n",
       "  </tbody>\n",
       "</table>\n",
       "<p>80 rows × 2 columns</p>\n",
       "</div>"
      ],
      "text/plain": [
       "   row_id      pred\n",
       "0     0-5  0.004499\n",
       "1    0-11  0.001204\n",
       "2    0-16  0.002369\n",
       "3    0-31  0.002574\n",
       "4    0-62  0.001894\n",
       "..    ...       ...\n",
       "75  0-659  0.003682\n",
       "76  0-675  0.006421\n",
       "77  0-697  0.005327\n",
       "78  0-709  0.009984\n",
       "79  0-725  0.003054\n",
       "\n",
       "[80 rows x 2 columns]"
      ]
     },
     "execution_count": 79,
     "metadata": {},
     "output_type": "execute_result"
    }
   ],
   "source": [
    "#df_past_realized_train.to_csv('test_realized.csv')\n",
    "df_past_realized_train.head(80)"
   ]
  },
  {
   "cell_type": "code",
   "execution_count": 72,
   "id": "6abb04e2",
   "metadata": {},
   "outputs": [
    {
     "data": {
      "text/html": [
       "<div>\n",
       "<style scoped>\n",
       "    .dataframe tbody tr th:only-of-type {\n",
       "        vertical-align: middle;\n",
       "    }\n",
       "\n",
       "    .dataframe tbody tr th {\n",
       "        vertical-align: top;\n",
       "    }\n",
       "\n",
       "    .dataframe thead th {\n",
       "        text-align: right;\n",
       "    }\n",
       "</style>\n",
       "<table border=\"1\" class=\"dataframe\">\n",
       "  <thead>\n",
       "    <tr style=\"text-align: right;\">\n",
       "      <th></th>\n",
       "      <th>row_id</th>\n",
       "      <th>target</th>\n",
       "    </tr>\n",
       "  </thead>\n",
       "  <tbody>\n",
       "    <tr>\n",
       "      <th>0</th>\n",
       "      <td>0-5</td>\n",
       "      <td>0.004136</td>\n",
       "    </tr>\n",
       "    <tr>\n",
       "      <th>1</th>\n",
       "      <td>0-11</td>\n",
       "      <td>0.001445</td>\n",
       "    </tr>\n",
       "    <tr>\n",
       "      <th>2</th>\n",
       "      <td>0-16</td>\n",
       "      <td>0.002168</td>\n",
       "    </tr>\n",
       "    <tr>\n",
       "      <th>3</th>\n",
       "      <td>0-31</td>\n",
       "      <td>0.002195</td>\n",
       "    </tr>\n",
       "    <tr>\n",
       "      <th>4</th>\n",
       "      <td>0-62</td>\n",
       "      <td>0.001747</td>\n",
       "    </tr>\n",
       "    <tr>\n",
       "      <th>...</th>\n",
       "      <td>...</td>\n",
       "      <td>...</td>\n",
       "    </tr>\n",
       "    <tr>\n",
       "      <th>428927</th>\n",
       "      <td>126-32751</td>\n",
       "      <td>0.003461</td>\n",
       "    </tr>\n",
       "    <tr>\n",
       "      <th>428928</th>\n",
       "      <td>126-32753</td>\n",
       "      <td>0.003113</td>\n",
       "    </tr>\n",
       "    <tr>\n",
       "      <th>428929</th>\n",
       "      <td>126-32758</td>\n",
       "      <td>0.004070</td>\n",
       "    </tr>\n",
       "    <tr>\n",
       "      <th>428930</th>\n",
       "      <td>126-32763</td>\n",
       "      <td>0.003357</td>\n",
       "    </tr>\n",
       "    <tr>\n",
       "      <th>428931</th>\n",
       "      <td>126-32767</td>\n",
       "      <td>0.002090</td>\n",
       "    </tr>\n",
       "  </tbody>\n",
       "</table>\n",
       "<p>428932 rows × 2 columns</p>\n",
       "</div>"
      ],
      "text/plain": [
       "           row_id    target\n",
       "0             0-5  0.004136\n",
       "1            0-11  0.001445\n",
       "2            0-16  0.002168\n",
       "3            0-31  0.002195\n",
       "4            0-62  0.001747\n",
       "...           ...       ...\n",
       "428927  126-32751  0.003461\n",
       "428928  126-32753  0.003113\n",
       "428929  126-32758  0.004070\n",
       "428930  126-32763  0.003357\n",
       "428931  126-32767  0.002090\n",
       "\n",
       "[428932 rows x 2 columns]"
      ]
     },
     "execution_count": 72,
     "metadata": {},
     "output_type": "execute_result"
    }
   ],
   "source": [
    "train"
   ]
  },
  {
   "cell_type": "markdown",
   "id": "2a3a37d0",
   "metadata": {
    "papermill": {
     "duration": 0.036845,
     "end_time": "2021-07-01T10:00:27.915044",
     "exception": false,
     "start_time": "2021-07-01T10:00:27.878199",
     "status": "completed"
    },
    "tags": []
   },
   "source": [
    "Let's join the output dataframe with train.csv to see the performance of the naive prediction on training set."
   ]
  },
  {
   "cell_type": "code",
   "execution_count": 74,
   "id": "0ba74be6",
   "metadata": {
    "papermill": {
     "duration": 1.811358,
     "end_time": "2021-07-01T10:00:29.764555",
     "exception": false,
     "start_time": "2021-07-01T10:00:27.953197",
     "status": "completed"
    },
    "tags": []
   },
   "outputs": [],
   "source": [
    "train['row_id'] = train['stock_id'].astype(str) + '-' + train['time_id'].astype(str)\n",
    "train = train[['row_id','target']]\n",
    "df_joined = train.merge(df_past_realized_train[['row_id','pred']], on = ['row_id'], how = 'left')"
   ]
  },
  {
   "cell_type": "code",
   "execution_count": 75,
   "id": "7f4f4889",
   "metadata": {},
   "outputs": [
    {
     "data": {
      "text/html": [
       "<div>\n",
       "<style scoped>\n",
       "    .dataframe tbody tr th:only-of-type {\n",
       "        vertical-align: middle;\n",
       "    }\n",
       "\n",
       "    .dataframe tbody tr th {\n",
       "        vertical-align: top;\n",
       "    }\n",
       "\n",
       "    .dataframe thead th {\n",
       "        text-align: right;\n",
       "    }\n",
       "</style>\n",
       "<table border=\"1\" class=\"dataframe\">\n",
       "  <thead>\n",
       "    <tr style=\"text-align: right;\">\n",
       "      <th></th>\n",
       "      <th>row_id</th>\n",
       "      <th>target</th>\n",
       "      <th>pred</th>\n",
       "    </tr>\n",
       "  </thead>\n",
       "  <tbody>\n",
       "    <tr>\n",
       "      <th>0</th>\n",
       "      <td>0-5</td>\n",
       "      <td>0.004136</td>\n",
       "      <td>0.004499</td>\n",
       "    </tr>\n",
       "    <tr>\n",
       "      <th>1</th>\n",
       "      <td>0-11</td>\n",
       "      <td>0.001445</td>\n",
       "      <td>0.001204</td>\n",
       "    </tr>\n",
       "    <tr>\n",
       "      <th>2</th>\n",
       "      <td>0-16</td>\n",
       "      <td>0.002168</td>\n",
       "      <td>0.002369</td>\n",
       "    </tr>\n",
       "    <tr>\n",
       "      <th>3</th>\n",
       "      <td>0-31</td>\n",
       "      <td>0.002195</td>\n",
       "      <td>0.002574</td>\n",
       "    </tr>\n",
       "    <tr>\n",
       "      <th>4</th>\n",
       "      <td>0-62</td>\n",
       "      <td>0.001747</td>\n",
       "      <td>0.001894</td>\n",
       "    </tr>\n",
       "    <tr>\n",
       "      <th>...</th>\n",
       "      <td>...</td>\n",
       "      <td>...</td>\n",
       "      <td>...</td>\n",
       "    </tr>\n",
       "    <tr>\n",
       "      <th>428927</th>\n",
       "      <td>126-32751</td>\n",
       "      <td>0.003461</td>\n",
       "      <td>0.003691</td>\n",
       "    </tr>\n",
       "    <tr>\n",
       "      <th>428928</th>\n",
       "      <td>126-32753</td>\n",
       "      <td>0.003113</td>\n",
       "      <td>0.004104</td>\n",
       "    </tr>\n",
       "    <tr>\n",
       "      <th>428929</th>\n",
       "      <td>126-32758</td>\n",
       "      <td>0.004070</td>\n",
       "      <td>0.003118</td>\n",
       "    </tr>\n",
       "    <tr>\n",
       "      <th>428930</th>\n",
       "      <td>126-32763</td>\n",
       "      <td>0.003357</td>\n",
       "      <td>0.003661</td>\n",
       "    </tr>\n",
       "    <tr>\n",
       "      <th>428931</th>\n",
       "      <td>126-32767</td>\n",
       "      <td>0.002090</td>\n",
       "      <td>0.002091</td>\n",
       "    </tr>\n",
       "  </tbody>\n",
       "</table>\n",
       "<p>428932 rows × 3 columns</p>\n",
       "</div>"
      ],
      "text/plain": [
       "           row_id    target      pred\n",
       "0             0-5  0.004136  0.004499\n",
       "1            0-11  0.001445  0.001204\n",
       "2            0-16  0.002168  0.002369\n",
       "3            0-31  0.002195  0.002574\n",
       "4            0-62  0.001747  0.001894\n",
       "...           ...       ...       ...\n",
       "428927  126-32751  0.003461  0.003691\n",
       "428928  126-32753  0.003113  0.004104\n",
       "428929  126-32758  0.004070  0.003118\n",
       "428930  126-32763  0.003357  0.003661\n",
       "428931  126-32767  0.002090  0.002091\n",
       "\n",
       "[428932 rows x 3 columns]"
      ]
     },
     "execution_count": 75,
     "metadata": {},
     "output_type": "execute_result"
    }
   ],
   "source": [
    "df_joined"
   ]
  },
  {
   "cell_type": "markdown",
   "id": "174aa3fc",
   "metadata": {
    "papermill": {
     "duration": 0.03818,
     "end_time": "2021-07-01T10:00:29.840303",
     "exception": false,
     "start_time": "2021-07-01T10:00:29.802123",
     "status": "completed"
    },
    "tags": []
   },
   "source": [
    "We will evaluate the naive prediction result by two metrics: RMSPE and R squared. "
   ]
  },
  {
   "cell_type": "code",
   "execution_count": 15,
   "id": "db0ec792",
   "metadata": {
    "execution": {
     "iopub.execute_input": "2021-07-01T10:00:29.918198Z",
     "iopub.status.busy": "2021-07-01T10:00:29.917200Z",
     "iopub.status.idle": "2021-07-01T10:00:29.935831Z",
     "shell.execute_reply": "2021-07-01T10:00:29.936358Z",
     "shell.execute_reply.started": "2021-06-22T18:13:54.853239Z"
    },
    "papermill": {
     "duration": 0.059449,
     "end_time": "2021-07-01T10:00:29.936550",
     "exception": false,
     "start_time": "2021-07-01T10:00:29.877101",
     "status": "completed"
    },
    "tags": []
   },
   "outputs": [
    {
     "name": "stdout",
     "output_type": "stream",
     "text": [
      "Performance of the naive prediction: R2 score: 0.628, RMSPE: 0.341\n"
     ]
    }
   ],
   "source": [
    "from sklearn.metrics import r2_score\n",
    "def rmspe(y_true, y_pred):\n",
    "    return  (np.sqrt(np.mean(np.square((y_true - y_pred) / y_true))))\n",
    "R2 = round(r2_score(y_true = df_joined['target'], y_pred = df_joined['pred']),3)\n",
    "RMSPE = round(rmspe(y_true = df_joined['target'], y_pred = df_joined['pred']),3)\n",
    "print(f'Performance of the naive prediction: R2 score: {R2}, RMSPE: {RMSPE}')"
   ]
  },
  {
   "cell_type": "markdown",
   "id": "e8bce46b",
   "metadata": {
    "papermill": {
     "duration": 0.038329,
     "end_time": "2021-07-01T10:00:30.015597",
     "exception": false,
     "start_time": "2021-07-01T10:00:29.977268",
     "status": "completed"
    },
    "tags": []
   },
   "source": [
    "The performance of the naive model is not amazing but as a benchmark it is a reasonable start."
   ]
  },
  {
   "cell_type": "markdown",
   "id": "7bda49c7",
   "metadata": {
    "papermill": {
     "duration": 0.039268,
     "end_time": "2021-07-01T10:00:30.096729",
     "exception": false,
     "start_time": "2021-07-01T10:00:30.057461",
     "status": "completed"
    },
    "tags": []
   },
   "source": [
    "# Submission"
   ]
  },
  {
   "cell_type": "markdown",
   "id": "a5727607",
   "metadata": {
    "execution": {
     "iopub.execute_input": "2021-06-09T15:25:51.89209Z",
     "iopub.status.busy": "2021-06-09T15:25:51.891717Z",
     "iopub.status.idle": "2021-06-09T15:25:51.898582Z",
     "shell.execute_reply": "2021-06-09T15:25:51.89729Z",
     "shell.execute_reply.started": "2021-06-09T15:25:51.892059Z"
    },
    "papermill": {
     "duration": 0.037045,
     "end_time": "2021-07-01T10:00:30.172395",
     "exception": false,
     "start_time": "2021-07-01T10:00:30.135350",
     "status": "completed"
    },
    "tags": []
   },
   "source": [
    "As a last step, we will make a submission via the tutorial notebook -- through a file written to output folder.  The naive submission scored a RMSPE 0.327 on public LB, the room of improvement is big for sure!"
   ]
  },
  {
   "cell_type": "code",
   "execution_count": 16,
   "id": "1a8f78d4",
   "metadata": {
    "execution": {
     "iopub.execute_input": "2021-07-01T10:00:30.252002Z",
     "iopub.status.busy": "2021-07-01T10:00:30.251274Z",
     "iopub.status.idle": "2021-07-01T10:00:30.287910Z",
     "shell.execute_reply": "2021-07-01T10:00:30.287332Z",
     "shell.execute_reply.started": "2021-06-22T18:31:41.736997Z"
    },
    "papermill": {
     "duration": 0.078466,
     "end_time": "2021-07-01T10:00:30.288069",
     "exception": false,
     "start_time": "2021-07-01T10:00:30.209603",
     "status": "completed"
    },
    "tags": []
   },
   "outputs": [],
   "source": [
    "list_order_book_file_test = glob.glob('/kaggle/input/optiver-realized-volatility-prediction/book_test.parquet/*')\n",
    "df_naive_pred_test = past_realized_volatility_per_stock(list_file=list_order_book_file_test,\n",
    "                                                           prediction_column_name='target')\n",
    "df_naive_pred_test.to_csv('submission.csv',index = False)"
   ]
  },
  {
   "cell_type": "markdown",
   "id": "8c0fe124",
   "metadata": {
    "papermill": {
     "duration": 0.037423,
     "end_time": "2021-07-01T10:00:30.366485",
     "exception": false,
     "start_time": "2021-07-01T10:00:30.329062",
     "status": "completed"
    },
    "tags": []
   },
   "source": [
    "Note that in this competition, there will be only few rows of test data that can be downloaded. The actual evaluation program will run in background after you commit the notebook and manually submit the output. Please check to [code requirement](https://www.kaggle.com/c/optiver-realized-volatility-prediction/overview/code-requirements) for more explanation."
   ]
  },
  {
   "cell_type": "markdown",
   "id": "4b4c6c6a",
   "metadata": {
    "papermill": {
     "duration": 0.036667,
     "end_time": "2021-07-01T10:00:30.440163",
     "exception": false,
     "start_time": "2021-07-01T10:00:30.403496",
     "status": "completed"
    },
    "tags": []
   },
   "source": [
    "The private leaderboard will be built against the real market data collected after the training period, therefore the public and private leaderboard data will have zero overlap. It will be exciting to get your model tested against the live market! As this competition will provide a very rich dataset representing market microstructure, there is unlimited amount of signals one can come up with. It is all on you, good luck! We at Optiver are really looking forward to learn from the talented Kaggle community!\n",
    "\n",
    "If you have any question about this notebook or the financial concepts behind it, feel free to ask in the comment section and we will make sure your questions get answered. \n",
    "\n",
    "Good luck!"
   ]
  }
 ],
 "metadata": {
  "kernelspec": {
   "display_name": "Python 3",
   "language": "python",
   "name": "python3"
  },
  "language_info": {
   "codemirror_mode": {
    "name": "ipython",
    "version": 3
   },
   "file_extension": ".py",
   "mimetype": "text/x-python",
   "name": "python",
   "nbconvert_exporter": "python",
   "pygments_lexer": "ipython3",
   "version": "3.8.8"
  },
  "papermill": {
   "default_parameters": {},
   "duration": 458.049723,
   "end_time": "2021-07-01T10:00:32.262570",
   "environment_variables": {},
   "exception": null,
   "input_path": "__notebook__.ipynb",
   "output_path": "__notebook__.ipynb",
   "parameters": {},
   "start_time": "2021-07-01T09:52:54.212847",
   "version": "2.3.3"
  }
 },
 "nbformat": 4,
 "nbformat_minor": 5
}
