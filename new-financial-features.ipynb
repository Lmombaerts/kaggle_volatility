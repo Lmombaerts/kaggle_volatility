{
 "cells": [
  {
   "cell_type": "markdown",
   "id": "0966788d",
   "metadata": {},
   "source": [
    "# Features from the paper\n",
    "\n",
    "`Easley, D., López de Prado, M., O’Hara, M., Zhang, Z., 2020. Microstructure in the Machine Age. Rev. Financ. Stud. 34, 3316–3363`"
   ]
  },
  {
   "cell_type": "code",
   "execution_count": null,
   "id": "ae8012b8",
   "metadata": {},
   "outputs": [],
   "source": [
    "# import some packages\n"
   ]
  },
  {
   "cell_type": "code",
   "execution_count": 1,
   "id": "f4106c30",
   "metadata": {},
   "outputs": [],
   "source": [
    "# Load the data\n"
   ]
  },
  {
   "cell_type": "markdown",
   "id": "744f79ce",
   "metadata": {},
   "source": [
    "## Features"
   ]
  },
  {
   "cell_type": "markdown",
   "id": "47dba375",
   "metadata": {},
   "source": [
    "### 1. Roll measure"
   ]
  },
  {
   "cell_type": "code",
   "execution_count": null,
   "id": "e77cb736",
   "metadata": {},
   "outputs": [],
   "source": []
  },
  {
   "cell_type": "markdown",
   "id": "e4f3dc33",
   "metadata": {},
   "source": [
    "## 2. ..."
   ]
  },
  {
   "cell_type": "code",
   "execution_count": null,
   "id": "3de1f278",
   "metadata": {},
   "outputs": [],
   "source": []
  }
 ],
 "metadata": {
  "kernelspec": {
   "display_name": "Python 3",
   "language": "python",
   "name": "python3"
  },
  "language_info": {
   "codemirror_mode": {
    "name": "ipython",
    "version": 3
   },
   "file_extension": ".py",
   "mimetype": "text/x-python",
   "name": "python",
   "nbconvert_exporter": "python",
   "pygments_lexer": "ipython3",
   "version": "3.8.8"
  }
 },
 "nbformat": 4,
 "nbformat_minor": 5
}
