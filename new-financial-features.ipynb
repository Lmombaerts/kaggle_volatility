{
 "cells": [
  {
   "cell_type": "markdown",
   "id": "708d7ec4",
   "metadata": {},
   "source": [
    "# Features from the paper\n",
    "\n",
    "`Easley, D., López de Prado, M., O’Hara, M., Zhang, Z., 2020. Microstructure in the Machine Age. Rev. Financ. Stud. 34, 3316–3363`"
   ]
  },
  {
   "cell_type": "code",
   "execution_count": 76,
   "id": "72e55098",
   "metadata": {},
   "outputs": [
    {
     "name": "stdout",
     "output_type": "stream",
     "text": [
      "Once deleted, variables cannot be recovered. Proceed (y/[n])? y\n"
     ]
    }
   ],
   "source": [
    "%reset"
   ]
  },
  {
   "cell_type": "code",
   "execution_count": 77,
   "id": "51d28235",
   "metadata": {},
   "outputs": [],
   "source": [
    "# import some packages\n",
    "import numpy as np\n",
    "import pandas as pd\n",
    "import os\n",
    "from pathlib import Path\n",
    "\n",
    "home = str(Path.home())"
   ]
  },
  {
   "cell_type": "code",
   "execution_count": 78,
   "id": "0e0146d2",
   "metadata": {},
   "outputs": [],
   "source": [
    "# some old functions:\n",
    "def log_return(list_stock_prices):\n",
    "    return np.log(list_stock_prices).diff() "
   ]
  },
  {
   "cell_type": "code",
   "execution_count": 79,
   "id": "c282dc68",
   "metadata": {},
   "outputs": [],
   "source": [
    "# Load the data\n",
    "data_folder = os.path.join(home, 'data', 'optiver-realized-volatility-prediction')\n",
    "\n",
    "# for the prototype load just one stock\n",
    "df_book = pd.read_parquet(os.path.join(data_folder, 'book_train.parquet', 'stock_id=0'))\n",
    "df_trades = pd.read_parquet(os.path.join(data_folder, 'trade_train.parquet', 'stock_id=0'))\n",
    "# df_trades"
   ]
  },
  {
   "cell_type": "code",
   "execution_count": 111,
   "id": "c8d3da53",
   "metadata": {},
   "outputs": [
    {
     "data": {
      "text/html": [
       "<div>\n",
       "<style scoped>\n",
       "    .dataframe tbody tr th:only-of-type {\n",
       "        vertical-align: middle;\n",
       "    }\n",
       "\n",
       "    .dataframe tbody tr th {\n",
       "        vertical-align: top;\n",
       "    }\n",
       "\n",
       "    .dataframe thead th {\n",
       "        text-align: right;\n",
       "    }\n",
       "</style>\n",
       "<table border=\"1\" class=\"dataframe\">\n",
       "  <thead>\n",
       "    <tr style=\"text-align: right;\">\n",
       "      <th></th>\n",
       "      <th>time_id</th>\n",
       "      <th>seconds_in_bucket</th>\n",
       "      <th>price</th>\n",
       "      <th>size</th>\n",
       "      <th>order_count</th>\n",
       "    </tr>\n",
       "  </thead>\n",
       "  <tbody>\n",
       "    <tr>\n",
       "      <th>0</th>\n",
       "      <td>5</td>\n",
       "      <td>21</td>\n",
       "      <td>1.002301</td>\n",
       "      <td>326</td>\n",
       "      <td>12</td>\n",
       "    </tr>\n",
       "    <tr>\n",
       "      <th>1</th>\n",
       "      <td>5</td>\n",
       "      <td>46</td>\n",
       "      <td>1.002778</td>\n",
       "      <td>128</td>\n",
       "      <td>4</td>\n",
       "    </tr>\n",
       "    <tr>\n",
       "      <th>2</th>\n",
       "      <td>5</td>\n",
       "      <td>50</td>\n",
       "      <td>1.002818</td>\n",
       "      <td>55</td>\n",
       "      <td>1</td>\n",
       "    </tr>\n",
       "    <tr>\n",
       "      <th>3</th>\n",
       "      <td>5</td>\n",
       "      <td>57</td>\n",
       "      <td>1.003155</td>\n",
       "      <td>121</td>\n",
       "      <td>5</td>\n",
       "    </tr>\n",
       "    <tr>\n",
       "      <th>4</th>\n",
       "      <td>5</td>\n",
       "      <td>68</td>\n",
       "      <td>1.003646</td>\n",
       "      <td>4</td>\n",
       "      <td>1</td>\n",
       "    </tr>\n",
       "    <tr>\n",
       "      <th>...</th>\n",
       "      <td>...</td>\n",
       "      <td>...</td>\n",
       "      <td>...</td>\n",
       "      <td>...</td>\n",
       "      <td>...</td>\n",
       "    </tr>\n",
       "    <tr>\n",
       "      <th>123438</th>\n",
       "      <td>32767</td>\n",
       "      <td>471</td>\n",
       "      <td>0.998659</td>\n",
       "      <td>200</td>\n",
       "      <td>3</td>\n",
       "    </tr>\n",
       "    <tr>\n",
       "      <th>123439</th>\n",
       "      <td>32767</td>\n",
       "      <td>517</td>\n",
       "      <td>0.998515</td>\n",
       "      <td>90</td>\n",
       "      <td>1</td>\n",
       "    </tr>\n",
       "    <tr>\n",
       "      <th>123440</th>\n",
       "      <td>32767</td>\n",
       "      <td>523</td>\n",
       "      <td>0.998563</td>\n",
       "      <td>1</td>\n",
       "      <td>1</td>\n",
       "    </tr>\n",
       "    <tr>\n",
       "      <th>123441</th>\n",
       "      <td>32767</td>\n",
       "      <td>542</td>\n",
       "      <td>0.998803</td>\n",
       "      <td>90</td>\n",
       "      <td>4</td>\n",
       "    </tr>\n",
       "    <tr>\n",
       "      <th>123442</th>\n",
       "      <td>32767</td>\n",
       "      <td>567</td>\n",
       "      <td>0.998547</td>\n",
       "      <td>300</td>\n",
       "      <td>3</td>\n",
       "    </tr>\n",
       "  </tbody>\n",
       "</table>\n",
       "<p>123443 rows × 5 columns</p>\n",
       "</div>"
      ],
      "text/plain": [
       "        time_id  seconds_in_bucket     price  size  order_count\n",
       "0             5                 21  1.002301   326           12\n",
       "1             5                 46  1.002778   128            4\n",
       "2             5                 50  1.002818    55            1\n",
       "3             5                 57  1.003155   121            5\n",
       "4             5                 68  1.003646     4            1\n",
       "...         ...                ...       ...   ...          ...\n",
       "123438    32767                471  0.998659   200            3\n",
       "123439    32767                517  0.998515    90            1\n",
       "123440    32767                523  0.998563     1            1\n",
       "123441    32767                542  0.998803    90            4\n",
       "123442    32767                567  0.998547   300            3\n",
       "\n",
       "[123443 rows x 5 columns]"
      ]
     },
     "execution_count": 111,
     "metadata": {},
     "output_type": "execute_result"
    }
   ],
   "source": [
    "df_trades"
   ]
  },
  {
   "cell_type": "markdown",
   "id": "65698341",
   "metadata": {},
   "source": [
    "## Features"
   ]
  },
  {
   "cell_type": "markdown",
   "id": "22e52616",
   "metadata": {},
   "source": [
    "### 0. Some simple stats"
   ]
  },
  {
   "cell_type": "code",
   "execution_count": 53,
   "id": "ca88e226",
   "metadata": {},
   "outputs": [],
   "source": [
    "# quoted spread\n",
    "df_book['spread'] = df_book['ask_price1'] - df_book['bid_price1']\n",
    "\n",
    "# depth imbalance\n",
    "df_book['mid_price'] = (df_book['ask_price1'] + df_book['bid_price1'])/2 # we need the midprice to calculate the imbalance\n",
    "\n",
    "df_book['depth_imbalance'] = (df_book['bid_size1']/(df_book['mid_price']-df_book['bid_price1']) + \\\n",
    "                              df_book['bid_size2']/(df_book['mid_price']-df_book['bid_price2'])) / \\\n",
    "                             (df_book['ask_size1']/(-df_book['mid_price']+df_book['ask_price1']) + \\\n",
    "                              df_book['ask_size2']/(-df_book['mid_price']+df_book['ask_price2']))   \n"
   ]
  },
  {
   "cell_type": "code",
   "execution_count": 62,
   "id": "87eb408f",
   "metadata": {},
   "outputs": [
    {
     "data": {
      "text/plain": [
       "Index(['time_id', 'seconds_in_bucket', 'bid_price1', 'ask_price1',\n",
       "       'bid_price2', 'ask_price2', 'bid_size1', 'ask_size1', 'bid_size2',\n",
       "       'ask_size2', 'spread', 'mid_price', 'depth_imbalance'],\n",
       "      dtype='object')"
      ]
     },
     "execution_count": 62,
     "metadata": {},
     "output_type": "execute_result"
    }
   ],
   "source": [
    "df_book.columns"
   ]
  },
  {
   "cell_type": "markdown",
   "id": "25188373",
   "metadata": {},
   "source": [
    "### 1. Roll measure\n",
    "\n",
    "$R_\\tau = 2\\sqrt{\\text{Cov} (\\Delta P_\\tau, \\Delta P_{\\tau-1})}$\n",
    "\n",
    "### 2. Roll Impact\n",
    "$\\tilde{R}_\\tau = \\frac{R_\\tau}{p_\\tau V_\\tau}$\n",
    "\n",
    "### 3. Kyle's lambda (Market Impact)\n",
    "\n",
    "$\\lambda = \\frac{| \\Delta \\text{Price}_t |}{\\text{Volume}_t}$\n",
    "\n",
    "### 4. Amihud ratio\n",
    "\n",
    "$I_t = \\frac{| r_t |}{\\text{Volume}_t}$"
   ]
  },
  {
   "cell_type": "code",
   "execution_count": 24,
   "id": "a0e5c9cb",
   "metadata": {},
   "outputs": [
    {
     "name": "stderr",
     "output_type": "stream",
     "text": [
      "/opt/anaconda3/lib/python3.8/site-packages/pandas/core/nanops.py:1516: RuntimeWarning: Degrees of freedom <= 0 for slice\n",
      "  return np.cov(a, b, ddof=ddof)[0, 1]\n",
      "/opt/anaconda3/lib/python3.8/site-packages/numpy/lib/function_base.py:2480: RuntimeWarning: divide by zero encountered in true_divide\n",
      "  c *= np.true_divide(1, fact)\n"
     ]
    },
    {
     "data": {
      "text/html": [
       "<div>\n",
       "<style scoped>\n",
       "    .dataframe tbody tr th:only-of-type {\n",
       "        vertical-align: middle;\n",
       "    }\n",
       "\n",
       "    .dataframe tbody tr th {\n",
       "        vertical-align: top;\n",
       "    }\n",
       "\n",
       "    .dataframe thead th {\n",
       "        text-align: right;\n",
       "    }\n",
       "</style>\n",
       "<table border=\"1\" class=\"dataframe\">\n",
       "  <thead>\n",
       "    <tr style=\"text-align: right;\">\n",
       "      <th></th>\n",
       "      <th>roll_measure</th>\n",
       "      <th>roll_impact</th>\n",
       "      <th>mkt_impact</th>\n",
       "      <th>sum_return</th>\n",
       "    </tr>\n",
       "    <tr>\n",
       "      <th>time_id</th>\n",
       "      <th></th>\n",
       "      <th></th>\n",
       "      <th></th>\n",
       "      <th></th>\n",
       "    </tr>\n",
       "  </thead>\n",
       "  <tbody>\n",
       "    <tr>\n",
       "      <th>5</th>\n",
       "      <td>0.000204</td>\n",
       "      <td>6.382619e-08</td>\n",
       "      <td>0.000003</td>\n",
       "      <td>4.216972e-07</td>\n",
       "    </tr>\n",
       "    <tr>\n",
       "      <th>11</th>\n",
       "      <td>0.000206</td>\n",
       "      <td>1.597455e-07</td>\n",
       "      <td>0.000003</td>\n",
       "      <td>6.228642e-07</td>\n",
       "    </tr>\n",
       "    <tr>\n",
       "      <th>16</th>\n",
       "      <td>0.000457</td>\n",
       "      <td>2.118416e-07</td>\n",
       "      <td>0.000004</td>\n",
       "      <td>1.175238e-06</td>\n",
       "    </tr>\n",
       "    <tr>\n",
       "      <th>31</th>\n",
       "      <td>0.000516</td>\n",
       "      <td>2.630821e-07</td>\n",
       "      <td>0.000002</td>\n",
       "      <td>1.152450e-06</td>\n",
       "    </tr>\n",
       "    <tr>\n",
       "      <th>62</th>\n",
       "      <td>0.000065</td>\n",
       "      <td>3.642724e-08</td>\n",
       "      <td>0.000002</td>\n",
       "      <td>1.531390e-07</td>\n",
       "    </tr>\n",
       "    <tr>\n",
       "      <th>...</th>\n",
       "      <td>...</td>\n",
       "      <td>...</td>\n",
       "      <td>...</td>\n",
       "      <td>...</td>\n",
       "    </tr>\n",
       "    <tr>\n",
       "      <th>32751</th>\n",
       "      <td>0.000207</td>\n",
       "      <td>6.012802e-08</td>\n",
       "      <td>0.000002</td>\n",
       "      <td>4.437514e-07</td>\n",
       "    </tr>\n",
       "    <tr>\n",
       "      <th>32753</th>\n",
       "      <td>0.000239</td>\n",
       "      <td>5.259393e-08</td>\n",
       "      <td>0.000001</td>\n",
       "      <td>1.871173e-07</td>\n",
       "    </tr>\n",
       "    <tr>\n",
       "      <th>32758</th>\n",
       "      <td>0.000248</td>\n",
       "      <td>5.843691e-08</td>\n",
       "      <td>0.000002</td>\n",
       "      <td>3.439502e-07</td>\n",
       "    </tr>\n",
       "    <tr>\n",
       "      <th>32763</th>\n",
       "      <td>0.000186</td>\n",
       "      <td>5.758722e-08</td>\n",
       "      <td>0.000003</td>\n",
       "      <td>1.342682e-07</td>\n",
       "    </tr>\n",
       "    <tr>\n",
       "      <th>32767</th>\n",
       "      <td>0.000022</td>\n",
       "      <td>6.098751e-09</td>\n",
       "      <td>0.000001</td>\n",
       "      <td>3.301707e-07</td>\n",
       "    </tr>\n",
       "  </tbody>\n",
       "</table>\n",
       "<p>3830 rows × 4 columns</p>\n",
       "</div>"
      ],
      "text/plain": [
       "         roll_measure   roll_impact  mkt_impact    sum_return\n",
       "time_id                                                      \n",
       "5            0.000204  6.382619e-08    0.000003  4.216972e-07\n",
       "11           0.000206  1.597455e-07    0.000003  6.228642e-07\n",
       "16           0.000457  2.118416e-07    0.000004  1.175238e-06\n",
       "31           0.000516  2.630821e-07    0.000002  1.152450e-06\n",
       "62           0.000065  3.642724e-08    0.000002  1.531390e-07\n",
       "...               ...           ...         ...           ...\n",
       "32751        0.000207  6.012802e-08    0.000002  4.437514e-07\n",
       "32753        0.000239  5.259393e-08    0.000001  1.871173e-07\n",
       "32758        0.000248  5.843691e-08    0.000002  3.439502e-07\n",
       "32763        0.000186  5.758722e-08    0.000003  1.342682e-07\n",
       "32767        0.000022  6.098751e-09    0.000001  3.301707e-07\n",
       "\n",
       "[3830 rows x 4 columns]"
      ]
     },
     "execution_count": 24,
     "metadata": {},
     "output_type": "execute_result"
    }
   ],
   "source": [
    "df_measures = df_trades.copy()\n",
    "df_measures['log_return'] = df_measures.groupby('time_id')['price'].apply(log_return)\n",
    "df_measures['d_price'] = df_measures.groupby(['time_id'])['price'].diff()\n",
    "df_measures['d_price_l1'] = df_measures.groupby(['time_id'])['d_price'].shift(1)\n",
    "\n",
    "grp = df_measures.groupby('time_id')\n",
    "df_measures = pd.DataFrame()\n",
    "df_measures['covariance'] = grp.apply(lambda x: x['d_price'].cov(x['d_price_l1']))\n",
    "\n",
    "# Roll measure\n",
    "df_measures['roll_measure'] = 2 * np.sqrt(np.abs(df_measures.covariance))\n",
    "df_measures.drop(columns = ['covariance'], inplace=True)\n",
    "\n",
    "# Roll impact\n",
    "df_measures['roll_impact'] = df_measures['roll_measure'] / grp.apply(lambda x: np.sum(x['price'] * x['size']))\n",
    "\n",
    "# Kyle's lambda\n",
    "df_measures['mkt_impact'] = grp.apply(lambda x: np.sum(np.abs(x['d_price'])) / np.sum(x['size']))\n",
    "\n",
    "# Amihud ratio\n",
    "df_measures['amihud'] = grp.apply(lambda x: np.abs(np.sum(x['log_return'])) / np.sum(x['size']))\n",
    "\n",
    "# df_measures.roll_measure.describe()\n",
    "\n",
    "df_measures"
   ]
  },
  {
   "cell_type": "markdown",
   "id": "89954250",
   "metadata": {},
   "source": [
    "# Functions"
   ]
  },
  {
   "cell_type": "code",
   "execution_count": 103,
   "id": "0d9e95df",
   "metadata": {},
   "outputs": [],
   "source": [
    "import sys\n",
    "\n",
    "def fin_metrics_book_data(df):\n",
    "    \n",
    "    if 'bid_price1' not in df.columns:\n",
    "        sys.exit(\"Book data format requred\")\n",
    "    \n",
    "    df = df.copy()\n",
    "    \n",
    "    # compute time length\n",
    "    df['time_length'] = df['seconds_in_bucket'].diff()\n",
    "    df.time_length = df.time_length.shift(periods=-1)\n",
    "    df.loc[len(df)-1,'time_length'] = 600 - df['seconds_in_bucket'].iloc[-1]\n",
    "    \n",
    "    # quoted spread\n",
    "    df['spread'] = df['ask_price1'] - df['bid_price1']\n",
    "\n",
    "    # depth imbalance\n",
    "    df['mid_price'] = (df['ask_price1'] + df['bid_price1'])/2 # we need the midprice to calculate the imbalance\n",
    "\n",
    "    df['depth_imbalance'] = (df['bid_size1']/(df['mid_price']-df['bid_price1']) + \\\n",
    "                                  df['bid_size2']/(df['mid_price']-df['bid_price2'])) / \\\n",
    "                                 (df['ask_size1']/(-df['mid_price']+df['ask_price1']) + \\\n",
    "                                  df['ask_size2']/(-df['mid_price']+df['ask_price2'])) \n",
    "\n",
    "    # Compute the weighted averages\n",
    "    spread = np.sum(df['spread'] * df['time_length']) / 600\n",
    "    depth_imb = np.sum(df['depth_imbalance'] * df['time_length']) / 600\n",
    "    \n",
    "    return [spread, depth_imb]"
   ]
  },
  {
   "cell_type": "code",
   "execution_count": 108,
   "id": "e3986787",
   "metadata": {},
   "outputs": [
    {
     "data": {
      "text/plain": [
       "[0.0008681410551071167, 6.917597782193109]"
      ]
     },
     "execution_count": 108,
     "metadata": {},
     "output_type": "execute_result"
    }
   ],
   "source": [
    "fin_metrics_book_data(df_book[df_book.time_id == 5])"
   ]
  },
  {
   "cell_type": "code",
   "execution_count": 125,
   "id": "9b030440",
   "metadata": {},
   "outputs": [],
   "source": [
    "def fin_metrics_trades_data(df):\n",
    "    \n",
    "    if 'order_count' not in df.columns:\n",
    "        sys.exit(\"Trades data format requred\")\n",
    "        \n",
    "    df = df.copy()\n",
    "    \n",
    "    # compute neccessary cols\n",
    "    df['log_return'] = log_return(df['price'])\n",
    "    df['d_price']    = df['price'].diff()\n",
    "    df['d_price_l1'] = df['d_price'].shift(1)\n",
    "    \n",
    "    # compute metrics\n",
    "    roll_measure = 2 * np.sqrt(np.abs(df['d_price'].cov(df['d_price_l1'])))\n",
    "    roll_impact = roll_measure / (np.sum(df['price'] * df['size']))\n",
    "    mkt_impact = np.sum(np.abs(df['d_price'])) / np.sum(df['size'])\n",
    "    amihud = np.abs(np.sum(df['log_return'])) / np.sum(df['size'])\n",
    "    \n",
    "    return [roll_measure, roll_impact, mkt_impact, amihud]"
   ]
  },
  {
   "cell_type": "code",
   "execution_count": 126,
   "id": "f7ecaecd",
   "metadata": {},
   "outputs": [
    {
     "data": {
      "text/plain": [
       "[0.00020361441923319408,\n",
       " 6.382618677401788e-08,\n",
       " 3.3940710935925642e-06,\n",
       " 4.2169716369715756e-07]"
      ]
     },
     "execution_count": 126,
     "metadata": {},
     "output_type": "execute_result"
    }
   ],
   "source": [
    "fin_metrics_trades_data(df_trades[df_trades.time_id==5])"
   ]
  },
  {
   "cell_type": "code",
   "execution_count": null,
   "id": "2ed2e201",
   "metadata": {},
   "outputs": [],
   "source": []
  }
 ],
 "metadata": {
  "kernelspec": {
   "display_name": "Python 3",
   "language": "python",
   "name": "python3"
  },
  "language_info": {
   "codemirror_mode": {
    "name": "ipython",
    "version": 3
   },
   "file_extension": ".py",
   "mimetype": "text/x-python",
   "name": "python",
   "nbconvert_exporter": "python",
   "pygments_lexer": "ipython3",
   "version": "3.8.8"
  }
 },
 "nbformat": 4,
 "nbformat_minor": 5
}
