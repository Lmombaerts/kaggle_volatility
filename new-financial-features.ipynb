{
 "cells": [
  {
   "cell_type": "markdown",
   "id": "59168ca3",
   "metadata": {},
   "source": [
    "# Features from the paper\n",
    "\n",
    "`Easley, D., López de Prado, M., O’Hara, M., Zhang, Z., 2020. Microstructure in the Machine Age. Rev. Financ. Stud. 34, 3316–3363`"
   ]
  },
  {
   "cell_type": "code",
   "execution_count": 1,
   "id": "33257c8d",
   "metadata": {},
   "outputs": [],
   "source": [
    "# import some packages\n",
    "import numpy as np\n",
    "import pandas as pd\n",
    "import os\n",
    "from pathlib import Path\n",
    "\n",
    "home = str(Path.home())"
   ]
  },
  {
   "cell_type": "code",
   "execution_count": 2,
   "id": "04a55b13",
   "metadata": {},
   "outputs": [],
   "source": [
    "# Load the data\n",
    "data_folder = os.path.join(home, 'data', 'optiver-realized-volatility-prediction')\n",
    "\n",
    "# for the prototype load just one stock\n",
    "df_book = pd.read_parquet(os.path.join(data_folder, 'book_train.parquet', 'stock_id=0'))\n",
    "df_trades = pd.read_parquet(os.path.join(data_folder, 'trade_train.parquet', 'stock_id=0'))\n",
    "# df_trades"
   ]
  },
  {
   "cell_type": "code",
   "execution_count": null,
   "id": "79409f2e",
   "metadata": {},
   "outputs": [],
   "source": []
  },
  {
   "cell_type": "markdown",
   "id": "61601ae3",
   "metadata": {},
   "source": [
    "## Features"
   ]
  },
  {
   "cell_type": "markdown",
   "id": "d709285c",
   "metadata": {},
   "source": [
    "### 0. Some simple stats"
   ]
  },
  {
   "cell_type": "code",
   "execution_count": 3,
   "id": "2b168d30",
   "metadata": {},
   "outputs": [],
   "source": [
    "# quoted spread\n",
    "df_book['spread'] = df_book['ask_price1'] - df_book['bid_price1']\n"
   ]
  },
  {
   "cell_type": "markdown",
   "id": "4061d345",
   "metadata": {},
   "source": [
    "### 1. Roll measure\n",
    "\n",
    "$R_\\tau = 2\\sqrt{\\text{Cov} (\\Delta P_\\tau, \\Delta P_{\\tau-1})}$\n",
    "\n",
    "### 2. Roll Impact\n",
    "$\\tilde{R}_\\tau = \\frac{R_\\tau}{p_\\tau V_\\tau}$\n",
    "\n",
    "### 3. Kyle's lambda (Market Impact)\n",
    "\n",
    "$\\lambda = \\frac{| \\Delta \\text{Price}_t |}{\\text{Volume}_t}$"
   ]
  },
  {
   "cell_type": "code",
   "execution_count": 20,
   "id": "fbfa1e75",
   "metadata": {},
   "outputs": [
    {
     "name": "stderr",
     "output_type": "stream",
     "text": [
      "/opt/anaconda3/lib/python3.8/site-packages/pandas/core/nanops.py:1516: RuntimeWarning: Degrees of freedom <= 0 for slice\n",
      "  return np.cov(a, b, ddof=ddof)[0, 1]\n",
      "/opt/anaconda3/lib/python3.8/site-packages/numpy/lib/function_base.py:2480: RuntimeWarning: divide by zero encountered in true_divide\n",
      "  c *= np.true_divide(1, fact)\n"
     ]
    },
    {
     "data": {
      "text/html": [
       "<div>\n",
       "<style scoped>\n",
       "    .dataframe tbody tr th:only-of-type {\n",
       "        vertical-align: middle;\n",
       "    }\n",
       "\n",
       "    .dataframe tbody tr th {\n",
       "        vertical-align: top;\n",
       "    }\n",
       "\n",
       "    .dataframe thead th {\n",
       "        text-align: right;\n",
       "    }\n",
       "</style>\n",
       "<table border=\"1\" class=\"dataframe\">\n",
       "  <thead>\n",
       "    <tr style=\"text-align: right;\">\n",
       "      <th></th>\n",
       "      <th>roll_measure</th>\n",
       "      <th>roll_impact</th>\n",
       "      <th>mkt_impact</th>\n",
       "    </tr>\n",
       "    <tr>\n",
       "      <th>time_id</th>\n",
       "      <th></th>\n",
       "      <th></th>\n",
       "      <th></th>\n",
       "    </tr>\n",
       "  </thead>\n",
       "  <tbody>\n",
       "    <tr>\n",
       "      <th>5</th>\n",
       "      <td>0.000204</td>\n",
       "      <td>6.382619e-08</td>\n",
       "      <td>0.000003</td>\n",
       "    </tr>\n",
       "    <tr>\n",
       "      <th>11</th>\n",
       "      <td>0.000206</td>\n",
       "      <td>1.597455e-07</td>\n",
       "      <td>0.000003</td>\n",
       "    </tr>\n",
       "    <tr>\n",
       "      <th>16</th>\n",
       "      <td>0.000457</td>\n",
       "      <td>2.118416e-07</td>\n",
       "      <td>0.000004</td>\n",
       "    </tr>\n",
       "    <tr>\n",
       "      <th>31</th>\n",
       "      <td>0.000516</td>\n",
       "      <td>2.630821e-07</td>\n",
       "      <td>0.000002</td>\n",
       "    </tr>\n",
       "    <tr>\n",
       "      <th>62</th>\n",
       "      <td>0.000065</td>\n",
       "      <td>3.642724e-08</td>\n",
       "      <td>0.000002</td>\n",
       "    </tr>\n",
       "    <tr>\n",
       "      <th>...</th>\n",
       "      <td>...</td>\n",
       "      <td>...</td>\n",
       "      <td>...</td>\n",
       "    </tr>\n",
       "    <tr>\n",
       "      <th>32751</th>\n",
       "      <td>0.000207</td>\n",
       "      <td>6.012802e-08</td>\n",
       "      <td>0.000002</td>\n",
       "    </tr>\n",
       "    <tr>\n",
       "      <th>32753</th>\n",
       "      <td>0.000239</td>\n",
       "      <td>5.259393e-08</td>\n",
       "      <td>0.000001</td>\n",
       "    </tr>\n",
       "    <tr>\n",
       "      <th>32758</th>\n",
       "      <td>0.000248</td>\n",
       "      <td>5.843691e-08</td>\n",
       "      <td>0.000002</td>\n",
       "    </tr>\n",
       "    <tr>\n",
       "      <th>32763</th>\n",
       "      <td>0.000186</td>\n",
       "      <td>5.758722e-08</td>\n",
       "      <td>0.000003</td>\n",
       "    </tr>\n",
       "    <tr>\n",
       "      <th>32767</th>\n",
       "      <td>0.000022</td>\n",
       "      <td>6.098751e-09</td>\n",
       "      <td>0.000001</td>\n",
       "    </tr>\n",
       "  </tbody>\n",
       "</table>\n",
       "<p>3830 rows × 3 columns</p>\n",
       "</div>"
      ],
      "text/plain": [
       "         roll_measure   roll_impact  mkt_impact\n",
       "time_id                                        \n",
       "5            0.000204  6.382619e-08    0.000003\n",
       "11           0.000206  1.597455e-07    0.000003\n",
       "16           0.000457  2.118416e-07    0.000004\n",
       "31           0.000516  2.630821e-07    0.000002\n",
       "62           0.000065  3.642724e-08    0.000002\n",
       "...               ...           ...         ...\n",
       "32751        0.000207  6.012802e-08    0.000002\n",
       "32753        0.000239  5.259393e-08    0.000001\n",
       "32758        0.000248  5.843691e-08    0.000002\n",
       "32763        0.000186  5.758722e-08    0.000003\n",
       "32767        0.000022  6.098751e-09    0.000001\n",
       "\n",
       "[3830 rows x 3 columns]"
      ]
     },
     "execution_count": 20,
     "metadata": {},
     "output_type": "execute_result"
    }
   ],
   "source": [
    "df_measures = df_trades.copy()\n",
    "df_measures['d_price'] = df_measures.groupby(['time_id'])['price'].diff()\n",
    "df_measures['d_price_l1'] = df_measures.groupby(['time_id'])['d_price'].shift(1)\n",
    "\n",
    "grp = df_measures.groupby('time_id')\n",
    "df_measures = pd.DataFrame()\n",
    "df_measures['covariance'] = grp.apply(lambda x: x['d_price'].cov(x['d_price_l1']))\n",
    "\n",
    "# Roll measure\n",
    "df_measures['roll_measure'] = 2 * np.sqrt(np.abs(df_measures.covariance))\n",
    "df_measures.drop(columns = ['covariance'], inplace=True)\n",
    "\n",
    "# Roll impact\n",
    "df_measures['roll_impact'] = df_measures['roll_measure'] / grp.apply(lambda x: np.sum(x['price'] * x['size']))\n",
    "\n",
    "# Kyle's lambda\n",
    "df_measures['mkt_impact'] = grp.apply(lambda x: np.sum(np.abs(x['d_price'])) / np.sum(np.abs(x['size'])))\n",
    "\n",
    "# df_measures.roll_measure.describe()\n",
    "\n",
    "df_measures"
   ]
  },
  {
   "cell_type": "markdown",
   "id": "5d65f056",
   "metadata": {},
   "source": [
    "### 4."
   ]
  },
  {
   "cell_type": "code",
   "execution_count": null,
   "id": "25521eb8",
   "metadata": {},
   "outputs": [],
   "source": []
  }
 ],
 "metadata": {
  "kernelspec": {
   "display_name": "Python 3",
   "language": "python",
   "name": "python3"
  },
  "language_info": {
   "codemirror_mode": {
    "name": "ipython",
    "version": 3
   },
   "file_extension": ".py",
   "mimetype": "text/x-python",
   "name": "python",
   "nbconvert_exporter": "python",
   "pygments_lexer": "ipython3",
   "version": "3.8.8"
  }
 },
 "nbformat": 4,
 "nbformat_minor": 5
}
