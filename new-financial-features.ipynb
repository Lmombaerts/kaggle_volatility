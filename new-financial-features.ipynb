{
 "cells": [
  {
   "cell_type": "markdown",
   "id": "2a6d0626",
   "metadata": {},
   "source": [
    "# Features from the paper\n",
    "\n",
    "`Easley, D., López de Prado, M., O’Hara, M., Zhang, Z., 2020. Microstructure in the Machine Age. Rev. Financ. Stud. 34, 3316–3363`"
   ]
  },
  {
   "cell_type": "code",
   "execution_count": 1,
   "id": "e54d2e67",
   "metadata": {},
   "outputs": [],
   "source": [
    "# import some packages\n",
    "import numpy as np\n",
    "import pandas as pd\n",
    "import os\n",
    "from pathlib import Path\n",
    "\n",
    "home = str(Path.home())"
   ]
  },
  {
   "cell_type": "code",
   "execution_count": 2,
   "id": "0e3d7a2d",
   "metadata": {},
   "outputs": [],
   "source": [
    "# Load the data\n",
    "data_folder = os.path.join(home, 'data', 'optiver-realized-volatility-prediction')\n",
    "\n",
    "# for the prototype load just one stock\n",
    "df_book = pd.read_parquet(os.path.join(data_folder, 'book_train.parquet', 'stock_id=0'))\n",
    "df_trades = pd.read_parquet(os.path.join(data_folder, 'trade_train.parquet', 'stock_id=0'))\n",
    "# df_trades"
   ]
  },
  {
   "cell_type": "code",
   "execution_count": null,
   "id": "9ab32c3a",
   "metadata": {},
   "outputs": [],
   "source": []
  },
  {
   "cell_type": "markdown",
   "id": "28a5e703",
   "metadata": {},
   "source": [
    "## Features"
   ]
  },
  {
   "cell_type": "markdown",
   "id": "80a81dbf",
   "metadata": {},
   "source": [
    "### 0. Some simple stats"
   ]
  },
  {
   "cell_type": "code",
   "execution_count": 3,
   "id": "9ffabb25",
   "metadata": {},
   "outputs": [],
   "source": [
    "# quoted spread\n",
    "df_book['spread'] = df_book['ask_price1'] - df_book['bid_price1']\n"
   ]
  },
  {
   "cell_type": "markdown",
   "id": "b64b2261",
   "metadata": {},
   "source": [
    "### 1. Roll measure\n",
    "\n",
    "$R_\\tau = 2\\sqrt{\\text{Cov} (\\Delta P_\\tau, \\Delta P_{\\tau-1})}$"
   ]
  },
  {
   "cell_type": "code",
   "execution_count": 4,
   "id": "ea95d2cf",
   "metadata": {},
   "outputs": [
    {
     "name": "stderr",
     "output_type": "stream",
     "text": [
      "/opt/anaconda3/lib/python3.8/site-packages/pandas/core/nanops.py:1516: RuntimeWarning: Degrees of freedom <= 0 for slice\n",
      "  return np.cov(a, b, ddof=ddof)[0, 1]\n",
      "/opt/anaconda3/lib/python3.8/site-packages/numpy/lib/function_base.py:2480: RuntimeWarning: divide by zero encountered in true_divide\n",
      "  c *= np.true_divide(1, fact)\n"
     ]
    },
    {
     "data": {
      "text/plain": [
       "count    3.826000e+03\n",
       "mean     3.447380e-04\n",
       "std      3.805181e-04\n",
       "min      8.844808e-07\n",
       "25%      1.475523e-04\n",
       "50%      2.465249e-04\n",
       "75%      4.022662e-04\n",
       "max      7.684689e-03\n",
       "Name: roll_measure, dtype: float64"
      ]
     },
     "execution_count": 4,
     "metadata": {},
     "output_type": "execute_result"
    }
   ],
   "source": [
    "df_roll = df_trades\n",
    "df_roll['d_price'] = df_roll.groupby(['time_id'])['price'].diff()\n",
    "df_roll['d_price_l1'] = df_roll.groupby(['time_id'])['d_price'].shift(1)\n",
    "\n",
    "grp = df_roll.groupby('time_id')\n",
    "df_roll = pd.DataFrame()\n",
    "df_roll['covariance'] = grp.apply(lambda x: x['d_price'].cov(x['d_price_l1'])) \n",
    "df_roll['roll_measure'] = 2 * np.sqrt(np.abs(df_roll.covariance))\n",
    "\n",
    "df_roll.roll_measure.describe()\n",
    "\n",
    "# df_roll"
   ]
  },
  {
   "cell_type": "markdown",
   "id": "dbb91be0",
   "metadata": {},
   "source": [
    "## 2. ..."
   ]
  },
  {
   "cell_type": "code",
   "execution_count": null,
   "id": "db373ff6",
   "metadata": {},
   "outputs": [],
   "source": []
  }
 ],
 "metadata": {
  "kernelspec": {
   "display_name": "Python 3",
   "language": "python",
   "name": "python3"
  },
  "language_info": {
   "codemirror_mode": {
    "name": "ipython",
    "version": 3
   },
   "file_extension": ".py",
   "mimetype": "text/x-python",
   "name": "python",
   "nbconvert_exporter": "python",
   "pygments_lexer": "ipython3",
   "version": "3.8.8"
  }
 },
 "nbformat": 4,
 "nbformat_minor": 5
}
