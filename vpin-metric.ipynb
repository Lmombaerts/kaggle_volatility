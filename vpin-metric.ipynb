{
 "cells": [
  {
   "cell_type": "markdown",
   "id": "4c44004a",
   "metadata": {},
   "source": [
    "# Volume-Synchronized Probability of Informed Trading (VPIN)\n",
    "\n",
    "$\\text{VPIN}_\\tau = \\frac{|V_\\tau^\\text{buy} - V_\\tau^\\text{sell}|}{V_\\tau^\\text{buy} + V_\\tau^\\text{sell}}$, where $\\tau$ is the 10-minute interval."
   ]
  },
  {
   "cell_type": "code",
   "execution_count": 1,
   "id": "05e5d846",
   "metadata": {},
   "outputs": [
    {
     "name": "stdout",
     "output_type": "stream",
     "text": [
      "Once deleted, variables cannot be recovered. Proceed (y/[n])? y\n"
     ]
    }
   ],
   "source": [
    "%reset"
   ]
  },
  {
   "cell_type": "code",
   "execution_count": 136,
   "id": "63debf6b",
   "metadata": {},
   "outputs": [],
   "source": [
    "# import packages\n",
    "import numpy as np\n",
    "import pandas as pd\n",
    "import sys\n",
    "\n",
    "# Paths tricks\n",
    "import os\n",
    "from pathlib import Path"
   ]
  },
  {
   "cell_type": "code",
   "execution_count": 137,
   "id": "c0eb8ceb",
   "metadata": {},
   "outputs": [],
   "source": [
    "# some functions\n",
    "def select_stock_book(book_path,stock_id,time_id=-1):\n",
    "    \n",
    "    stock_path = os.path.join(book_path, 'stock_id=' + str(stock_id))\n",
    "    book = pd.read_parquet(stock_path)\n",
    "    \n",
    "    if time_id != -1: \n",
    "        book = book[book['time_id'] == time_id]\n",
    "        \n",
    "    return book\n",
    "\n",
    "def select_stock_trades(trade_path,stock_id,time_id=-1):\n",
    "    \n",
    "    trade_path = os.path.join(trade_path, 'stock_id=' + str(stock_id))\n",
    "    trades = pd.read_parquet(trade_path)\n",
    "    \n",
    "    if time_id != -1: \n",
    "        trades = trades[trades['time_id'] == time_id]\n",
    "        \n",
    "    return trades"
   ]
  },
  {
   "cell_type": "code",
   "execution_count": 138,
   "id": "1b5cc6d0",
   "metadata": {},
   "outputs": [],
   "source": [
    "# load the data\n",
    "datapath = os.path.join(str(Path.home()), 'ownCloud', 'Data', 'Kaggle', 'optiver-realized-volatility-prediction')\n",
    "\n",
    "book = select_stock_book(book_path=os.path.join(datapath, 'book_train.parquet'), stock_id=0, time_id=5)\n",
    "trades = select_stock_trades(trade_path=os.path.join(datapath, 'trade_train.parquet'), stock_id=0, time_id=5)\n",
    "\n",
    "# data manipulation\n",
    "trades['avg_size_per_order'] = trades['size']/trades['order_count'] # add average trade size\n",
    "trades['prev_trade_second'] = trades['seconds_in_bucket'].shift()\n",
    "\n",
    "# add time length for each state of the book\n",
    "book['time_length'] = book['seconds_in_bucket'].diff().shift(periods=-1)\n",
    "book.loc[len(book)-1, 'time_length'] = 600 - book['seconds_in_bucket'].iloc[-1]"
   ]
  },
  {
   "cell_type": "code",
   "execution_count": 139,
   "id": "76a4e5f0",
   "metadata": {},
   "outputs": [
    {
     "data": {
      "text/html": [
       "<div>\n",
       "<style scoped>\n",
       "    .dataframe tbody tr th:only-of-type {\n",
       "        vertical-align: middle;\n",
       "    }\n",
       "\n",
       "    .dataframe tbody tr th {\n",
       "        vertical-align: top;\n",
       "    }\n",
       "\n",
       "    .dataframe thead th {\n",
       "        text-align: right;\n",
       "    }\n",
       "</style>\n",
       "<table border=\"1\" class=\"dataframe\">\n",
       "  <thead>\n",
       "    <tr style=\"text-align: right;\">\n",
       "      <th></th>\n",
       "      <th>time_id</th>\n",
       "      <th>seconds_in_bucket</th>\n",
       "      <th>price</th>\n",
       "      <th>size</th>\n",
       "      <th>order_count</th>\n",
       "      <th>avg_size_per_order</th>\n",
       "      <th>prev_trade_second</th>\n",
       "    </tr>\n",
       "  </thead>\n",
       "  <tbody>\n",
       "    <tr>\n",
       "      <th>0</th>\n",
       "      <td>5</td>\n",
       "      <td>21</td>\n",
       "      <td>1.002301</td>\n",
       "      <td>326</td>\n",
       "      <td>12</td>\n",
       "      <td>27.166667</td>\n",
       "      <td>NaN</td>\n",
       "    </tr>\n",
       "    <tr>\n",
       "      <th>1</th>\n",
       "      <td>5</td>\n",
       "      <td>46</td>\n",
       "      <td>1.002778</td>\n",
       "      <td>128</td>\n",
       "      <td>4</td>\n",
       "      <td>32.000000</td>\n",
       "      <td>21.0</td>\n",
       "    </tr>\n",
       "    <tr>\n",
       "      <th>2</th>\n",
       "      <td>5</td>\n",
       "      <td>50</td>\n",
       "      <td>1.002818</td>\n",
       "      <td>55</td>\n",
       "      <td>1</td>\n",
       "      <td>55.000000</td>\n",
       "      <td>46.0</td>\n",
       "    </tr>\n",
       "    <tr>\n",
       "      <th>3</th>\n",
       "      <td>5</td>\n",
       "      <td>57</td>\n",
       "      <td>1.003155</td>\n",
       "      <td>121</td>\n",
       "      <td>5</td>\n",
       "      <td>24.200000</td>\n",
       "      <td>50.0</td>\n",
       "    </tr>\n",
       "    <tr>\n",
       "      <th>4</th>\n",
       "      <td>5</td>\n",
       "      <td>68</td>\n",
       "      <td>1.003646</td>\n",
       "      <td>4</td>\n",
       "      <td>1</td>\n",
       "      <td>4.000000</td>\n",
       "      <td>57.0</td>\n",
       "    </tr>\n",
       "  </tbody>\n",
       "</table>\n",
       "</div>"
      ],
      "text/plain": [
       "   time_id  seconds_in_bucket     price  size  order_count  \\\n",
       "0        5                 21  1.002301   326           12   \n",
       "1        5                 46  1.002778   128            4   \n",
       "2        5                 50  1.002818    55            1   \n",
       "3        5                 57  1.003155   121            5   \n",
       "4        5                 68  1.003646     4            1   \n",
       "\n",
       "   avg_size_per_order  prev_trade_second  \n",
       "0           27.166667                NaN  \n",
       "1           32.000000               21.0  \n",
       "2           55.000000               46.0  \n",
       "3           24.200000               50.0  \n",
       "4            4.000000               57.0  "
      ]
     },
     "execution_count": 139,
     "metadata": {},
     "output_type": "execute_result"
    }
   ],
   "source": [
    "trades.head()"
   ]
  },
  {
   "cell_type": "code",
   "execution_count": 140,
   "id": "4f45ad68",
   "metadata": {},
   "outputs": [],
   "source": [
    "# a function to compute buyer initiated trades probability\n",
    "def buyer_prob(price, bid, ask):\n",
    "    return max(0, min(1, (price - bid)/(ask - bid)))\n",
    "\n",
    "def signed_volume(df_book, start_time, end_time, price, volume, output='buy'):\n",
    "    if output not in ['buy', 'sell']:\n",
    "        sys.exit(\"Required output = 'buy' or 'sell'\")\n",
    "    \n",
    "    if np.isnan(start_time):\n",
    "        start_time = 0\n",
    "    \n",
    "    # compute the weighted bid and ask prices from the book\n",
    "    w_ask = np.sum(df_book[(start_time <= df_book['seconds_in_bucket']) & (df_book['seconds_in_bucket'] < end_time)]['ask_price1'] * df_book[(start_time <= df_book['seconds_in_bucket']) & (df_book['seconds_in_bucket'] < end_time)]['time_length']) / (end_time - start_time)\n",
    "    w_bid = np.sum(df_book[(start_time <= df_book['seconds_in_bucket']) & (df_book['seconds_in_bucket'] < end_time)]['bid_price1'] * df_book[(start_time <= df_book['seconds_in_bucket']) & (df_book['seconds_in_bucket'] < end_time)]['time_length']) / (end_time - start_time)\n",
    "    \n",
    "    if output == 'buy':\n",
    "        result = volume * buyer_prob(price, w_bid, w_ask)\n",
    "    else:\n",
    "        result = volume * (1 - buyer_prob(price, w_bid, w_ask))\n",
    "\n",
    "    return result"
   ]
  },
  {
   "cell_type": "code",
   "execution_count": 141,
   "id": "94189ff5",
   "metadata": {},
   "outputs": [
    {
     "data": {
      "text/html": [
       "<div>\n",
       "<style scoped>\n",
       "    .dataframe tbody tr th:only-of-type {\n",
       "        vertical-align: middle;\n",
       "    }\n",
       "\n",
       "    .dataframe tbody tr th {\n",
       "        vertical-align: top;\n",
       "    }\n",
       "\n",
       "    .dataframe thead th {\n",
       "        text-align: right;\n",
       "    }\n",
       "</style>\n",
       "<table border=\"1\" class=\"dataframe\">\n",
       "  <thead>\n",
       "    <tr style=\"text-align: right;\">\n",
       "      <th></th>\n",
       "      <th>time_id</th>\n",
       "      <th>seconds_in_bucket</th>\n",
       "      <th>price</th>\n",
       "      <th>size</th>\n",
       "      <th>order_count</th>\n",
       "      <th>avg_size_per_order</th>\n",
       "      <th>prev_trade_second</th>\n",
       "      <th>buyer_volume</th>\n",
       "      <th>seller_volume</th>\n",
       "      <th>vpin</th>\n",
       "    </tr>\n",
       "  </thead>\n",
       "  <tbody>\n",
       "    <tr>\n",
       "      <th>0</th>\n",
       "      <td>5</td>\n",
       "      <td>21</td>\n",
       "      <td>1.002301</td>\n",
       "      <td>326</td>\n",
       "      <td>12</td>\n",
       "      <td>27.166667</td>\n",
       "      <td>NaN</td>\n",
       "      <td>325.960008</td>\n",
       "      <td>0.039992</td>\n",
       "      <td>0.999755</td>\n",
       "    </tr>\n",
       "    <tr>\n",
       "      <th>1</th>\n",
       "      <td>5</td>\n",
       "      <td>46</td>\n",
       "      <td>1.002778</td>\n",
       "      <td>128</td>\n",
       "      <td>4</td>\n",
       "      <td>32.000000</td>\n",
       "      <td>21.0</td>\n",
       "      <td>123.438110</td>\n",
       "      <td>4.561890</td>\n",
       "      <td>0.928720</td>\n",
       "    </tr>\n",
       "    <tr>\n",
       "      <th>2</th>\n",
       "      <td>5</td>\n",
       "      <td>50</td>\n",
       "      <td>1.002818</td>\n",
       "      <td>55</td>\n",
       "      <td>1</td>\n",
       "      <td>55.000000</td>\n",
       "      <td>46.0</td>\n",
       "      <td>0.000000</td>\n",
       "      <td>55.000000</td>\n",
       "      <td>1.000000</td>\n",
       "    </tr>\n",
       "    <tr>\n",
       "      <th>3</th>\n",
       "      <td>5</td>\n",
       "      <td>57</td>\n",
       "      <td>1.003155</td>\n",
       "      <td>121</td>\n",
       "      <td>5</td>\n",
       "      <td>24.200000</td>\n",
       "      <td>50.0</td>\n",
       "      <td>121.000000</td>\n",
       "      <td>0.000000</td>\n",
       "      <td>1.000000</td>\n",
       "    </tr>\n",
       "    <tr>\n",
       "      <th>4</th>\n",
       "      <td>5</td>\n",
       "      <td>68</td>\n",
       "      <td>1.003646</td>\n",
       "      <td>4</td>\n",
       "      <td>1</td>\n",
       "      <td>4.000000</td>\n",
       "      <td>57.0</td>\n",
       "      <td>4.000000</td>\n",
       "      <td>0.000000</td>\n",
       "      <td>1.000000</td>\n",
       "    </tr>\n",
       "  </tbody>\n",
       "</table>\n",
       "</div>"
      ],
      "text/plain": [
       "   time_id  seconds_in_bucket     price  size  order_count  \\\n",
       "0        5                 21  1.002301   326           12   \n",
       "1        5                 46  1.002778   128            4   \n",
       "2        5                 50  1.002818    55            1   \n",
       "3        5                 57  1.003155   121            5   \n",
       "4        5                 68  1.003646     4            1   \n",
       "\n",
       "   avg_size_per_order  prev_trade_second  buyer_volume  seller_volume  \\\n",
       "0           27.166667                NaN    325.960008       0.039992   \n",
       "1           32.000000               21.0    123.438110       4.561890   \n",
       "2           55.000000               46.0      0.000000      55.000000   \n",
       "3           24.200000               50.0    121.000000       0.000000   \n",
       "4            4.000000               57.0      4.000000       0.000000   \n",
       "\n",
       "       vpin  \n",
       "0  0.999755  \n",
       "1  0.928720  \n",
       "2  1.000000  \n",
       "3  1.000000  \n",
       "4  1.000000  "
      ]
     },
     "execution_count": 141,
     "metadata": {},
     "output_type": "execute_result"
    }
   ],
   "source": [
    "trades['buyer_volume'] = trades.apply(lambda row: signed_volume(book, row['prev_trade_second'], row['seconds_in_bucket'], row['price'], row['size']), axis=1)\n",
    "trades['seller_volume'] = trades['size'] - trades['buyer_volume']\n",
    "trades['vpin'] = trades.apply(lambda row: np.abs(row['buyer_volume'] - row['seller_volume'])/row['size'], axis = 1)\n",
    "trades.head()"
   ]
  },
  {
   "cell_type": "code",
   "execution_count": 142,
   "id": "4b1debf9",
   "metadata": {},
   "outputs": [
    {
     "name": "stdout",
     "output_type": "stream",
     "text": [
      "0.9234727992343469\n"
     ]
    }
   ],
   "source": [
    "# calculating VPIN for time_id by weighting by size\n",
    "VPIN = np.sum(trades['vpin'] * trades['size']) / np.sum(trades['size'])\n",
    "print(VPIN)"
   ]
  },
  {
   "cell_type": "markdown",
   "id": "0d5a5820",
   "metadata": {},
   "source": [
    "## check with using the support_file"
   ]
  },
  {
   "cell_type": "code",
   "execution_count": 2,
   "id": "791a9d91",
   "metadata": {},
   "outputs": [],
   "source": [
    "# import packages\n",
    "import numpy as np\n",
    "import pandas as pd\n",
    "import sys\n",
    "\n",
    "# Paths tricks\n",
    "import os\n",
    "from pathlib import Path\n",
    "\n",
    "from support_file import *"
   ]
  },
  {
   "cell_type": "code",
   "execution_count": 3,
   "id": "3c7558c9",
   "metadata": {},
   "outputs": [],
   "source": [
    "# load the data\n",
    "datapath = os.path.join(str(Path.home()), 'ownCloud', 'Data', 'Kaggle', 'optiver-realized-volatility-prediction')\n",
    "\n",
    "book_0 = pd.read_parquet(os.path.join(datapath, 'book_train.parquet', 'stock_id=0'))\n",
    "trades_0 = pd.read_parquet(os.path.join(datapath, 'trade_train.parquet', 'stock_id=0'))"
   ]
  },
  {
   "cell_type": "code",
   "execution_count": 4,
   "id": "c621d9c7",
   "metadata": {},
   "outputs": [
    {
     "name": "stderr",
     "output_type": "stream",
     "text": [
      "/Users/vladimir.levin/Yandex.Disk.localized/01_Documents/01_Study/0_LUX/01_PhD/Drafts/Project3/kaggle_volatility/support_file.py:1675: RuntimeWarning: invalid value encountered in true_divide\n",
      "  w_ask = np.sum(df_book[(start_time <= df_book['seconds_in_bucket']) & (df_book['seconds_in_bucket'] < end_time)]['ask_price1'] * df_book[(start_time <= df_book['seconds_in_bucket']) & (df_book['seconds_in_bucket'] < end_time)]['time_length']) / (end_time - start_time)\n",
      "/Users/vladimir.levin/Yandex.Disk.localized/01_Documents/01_Study/0_LUX/01_PhD/Drafts/Project3/kaggle_volatility/support_file.py:1676: RuntimeWarning: invalid value encountered in true_divide\n",
      "  w_bid = np.sum(df_book[(start_time <= df_book['seconds_in_bucket']) & (df_book['seconds_in_bucket'] < end_time)]['bid_price1'] * df_book[(start_time <= df_book['seconds_in_bucket']) & (df_book['seconds_in_bucket'] < end_time)]['time_length']) / (end_time - start_time)\n"
     ]
    },
    {
     "data": {
      "text/plain": [
       "0.8251119007335302"
      ]
     },
     "execution_count": 4,
     "metadata": {},
     "output_type": "execute_result"
    }
   ],
   "source": [
    "vpin_per_time_id(book_0[book_0.time_id==11], trades_0[trades_0.time_id==11])"
   ]
  },
  {
   "cell_type": "code",
   "execution_count": null,
   "id": "cc90abbd",
   "metadata": {},
   "outputs": [],
   "source": []
  },
  {
   "cell_type": "code",
   "execution_count": 17,
   "id": "8139a488",
   "metadata": {},
   "outputs": [
    {
     "data": {
      "text/plain": [
       "array([ 5, 11, 16, 31, 62], dtype=int16)"
      ]
     },
     "execution_count": 17,
     "metadata": {},
     "output_type": "execute_result"
    }
   ],
   "source": [
    "trades_0['time_id'].unique()[0:5]"
   ]
  },
  {
   "cell_type": "code",
   "execution_count": 61,
   "id": "0ccbf6ca",
   "metadata": {},
   "outputs": [],
   "source": [
    "import time"
   ]
  },
  {
   "cell_type": "code",
   "execution_count": 62,
   "id": "d8d83cb6",
   "metadata": {},
   "outputs": [
    {
     "name": "stdout",
     "output_type": "stream",
     "text": [
      "5\n",
      "11\n",
      "16\n"
     ]
    },
    {
     "name": "stderr",
     "output_type": "stream",
     "text": [
      "/Users/vladimir.levin/Yandex.Disk.localized/01_Documents/01_Study/0_LUX/01_PhD/Drafts/Project3/kaggle_volatility/support_file.py:1675: RuntimeWarning: invalid value encountered in true_divide\n",
      "  w_ask = np.sum(df_book[(start_time <= df_book['seconds_in_bucket']) & (df_book['seconds_in_bucket'] < end_time)]['ask_price1'] * df_book[(start_time <= df_book['seconds_in_bucket']) & (df_book['seconds_in_bucket'] < end_time)]['time_length']) / (end_time - start_time)\n",
      "/Users/vladimir.levin/Yandex.Disk.localized/01_Documents/01_Study/0_LUX/01_PhD/Drafts/Project3/kaggle_volatility/support_file.py:1676: RuntimeWarning: invalid value encountered in true_divide\n",
      "  w_bid = np.sum(df_book[(start_time <= df_book['seconds_in_bucket']) & (df_book['seconds_in_bucket'] < end_time)]['bid_price1'] * df_book[(start_time <= df_book['seconds_in_bucket']) & (df_book['seconds_in_bucket'] < end_time)]['time_length']) / (end_time - start_time)\n"
     ]
    },
    {
     "name": "stdout",
     "output_type": "stream",
     "text": [
      "31\n",
      "62\n",
      "72\n",
      "97\n",
      "103\n",
      "109"
     ]
    },
    {
     "name": "stderr",
     "output_type": "stream",
     "text": [
      "/Users/vladimir.levin/Yandex.Disk.localized/01_Documents/01_Study/0_LUX/01_PhD/Drafts/Project3/kaggle_volatility/support_file.py:1675: RuntimeWarning: invalid value encountered in true_divide\n",
      "  w_ask = np.sum(df_book[(start_time <= df_book['seconds_in_bucket']) & (df_book['seconds_in_bucket'] < end_time)]['ask_price1'] * df_book[(start_time <= df_book['seconds_in_bucket']) & (df_book['seconds_in_bucket'] < end_time)]['time_length']) / (end_time - start_time)\n",
      "/Users/vladimir.levin/Yandex.Disk.localized/01_Documents/01_Study/0_LUX/01_PhD/Drafts/Project3/kaggle_volatility/support_file.py:1676: RuntimeWarning: invalid value encountered in true_divide\n",
      "  w_bid = np.sum(df_book[(start_time <= df_book['seconds_in_bucket']) & (df_book['seconds_in_bucket'] < end_time)]['bid_price1'] * df_book[(start_time <= df_book['seconds_in_bucket']) & (df_book['seconds_in_bucket'] < end_time)]['time_length']) / (end_time - start_time)\n"
     ]
    },
    {
     "name": "stdout",
     "output_type": "stream",
     "text": [
      "\n",
      "123\n",
      "128\n",
      "146\n",
      "147\n"
     ]
    },
    {
     "name": "stderr",
     "output_type": "stream",
     "text": [
      "/Users/vladimir.levin/Yandex.Disk.localized/01_Documents/01_Study/0_LUX/01_PhD/Drafts/Project3/kaggle_volatility/support_file.py:1675: RuntimeWarning: invalid value encountered in true_divide\n",
      "  w_ask = np.sum(df_book[(start_time <= df_book['seconds_in_bucket']) & (df_book['seconds_in_bucket'] < end_time)]['ask_price1'] * df_book[(start_time <= df_book['seconds_in_bucket']) & (df_book['seconds_in_bucket'] < end_time)]['time_length']) / (end_time - start_time)\n",
      "/Users/vladimir.levin/Yandex.Disk.localized/01_Documents/01_Study/0_LUX/01_PhD/Drafts/Project3/kaggle_volatility/support_file.py:1676: RuntimeWarning: invalid value encountered in true_divide\n",
      "  w_bid = np.sum(df_book[(start_time <= df_book['seconds_in_bucket']) & (df_book['seconds_in_bucket'] < end_time)]['bid_price1'] * df_book[(start_time <= df_book['seconds_in_bucket']) & (df_book['seconds_in_bucket'] < end_time)]['time_length']) / (end_time - start_time)\n"
     ]
    },
    {
     "name": "stdout",
     "output_type": "stream",
     "text": [
      "152\n",
      "157\n",
      "159\n",
      "169\n",
      "207\n",
      "211\n",
      "213\n",
      "218\n",
      "227\n",
      "229\n"
     ]
    },
    {
     "name": "stderr",
     "output_type": "stream",
     "text": [
      "/Users/vladimir.levin/Yandex.Disk.localized/01_Documents/01_Study/0_LUX/01_PhD/Drafts/Project3/kaggle_volatility/support_file.py:1675: RuntimeWarning: invalid value encountered in true_divide\n",
      "  w_ask = np.sum(df_book[(start_time <= df_book['seconds_in_bucket']) & (df_book['seconds_in_bucket'] < end_time)]['ask_price1'] * df_book[(start_time <= df_book['seconds_in_bucket']) & (df_book['seconds_in_bucket'] < end_time)]['time_length']) / (end_time - start_time)\n",
      "/Users/vladimir.levin/Yandex.Disk.localized/01_Documents/01_Study/0_LUX/01_PhD/Drafts/Project3/kaggle_volatility/support_file.py:1676: RuntimeWarning: invalid value encountered in true_divide\n",
      "  w_bid = np.sum(df_book[(start_time <= df_book['seconds_in_bucket']) & (df_book['seconds_in_bucket'] < end_time)]['bid_price1'] * df_book[(start_time <= df_book['seconds_in_bucket']) & (df_book['seconds_in_bucket'] < end_time)]['time_length']) / (end_time - start_time)\n"
     ]
    },
    {
     "name": "stdout",
     "output_type": "stream",
     "text": [
      "232\n",
      "250\n",
      "254\n"
     ]
    },
    {
     "name": "stderr",
     "output_type": "stream",
     "text": [
      "/Users/vladimir.levin/Yandex.Disk.localized/01_Documents/01_Study/0_LUX/01_PhD/Drafts/Project3/kaggle_volatility/support_file.py:1675: RuntimeWarning: invalid value encountered in true_divide\n",
      "  w_ask = np.sum(df_book[(start_time <= df_book['seconds_in_bucket']) & (df_book['seconds_in_bucket'] < end_time)]['ask_price1'] * df_book[(start_time <= df_book['seconds_in_bucket']) & (df_book['seconds_in_bucket'] < end_time)]['time_length']) / (end_time - start_time)\n",
      "/Users/vladimir.levin/Yandex.Disk.localized/01_Documents/01_Study/0_LUX/01_PhD/Drafts/Project3/kaggle_volatility/support_file.py:1676: RuntimeWarning: invalid value encountered in true_divide\n",
      "  w_bid = np.sum(df_book[(start_time <= df_book['seconds_in_bucket']) & (df_book['seconds_in_bucket'] < end_time)]['bid_price1'] * df_book[(start_time <= df_book['seconds_in_bucket']) & (df_book['seconds_in_bucket'] < end_time)]['time_length']) / (end_time - start_time)\n"
     ]
    },
    {
     "name": "stdout",
     "output_type": "stream",
     "text": [
      "256\n",
      "266\n",
      "273\n"
     ]
    },
    {
     "name": "stderr",
     "output_type": "stream",
     "text": [
      "/Users/vladimir.levin/Yandex.Disk.localized/01_Documents/01_Study/0_LUX/01_PhD/Drafts/Project3/kaggle_volatility/support_file.py:1675: RuntimeWarning: invalid value encountered in true_divide\n",
      "  w_ask = np.sum(df_book[(start_time <= df_book['seconds_in_bucket']) & (df_book['seconds_in_bucket'] < end_time)]['ask_price1'] * df_book[(start_time <= df_book['seconds_in_bucket']) & (df_book['seconds_in_bucket'] < end_time)]['time_length']) / (end_time - start_time)\n",
      "/Users/vladimir.levin/Yandex.Disk.localized/01_Documents/01_Study/0_LUX/01_PhD/Drafts/Project3/kaggle_volatility/support_file.py:1676: RuntimeWarning: invalid value encountered in true_divide\n",
      "  w_bid = np.sum(df_book[(start_time <= df_book['seconds_in_bucket']) & (df_book['seconds_in_bucket'] < end_time)]['bid_price1'] * df_book[(start_time <= df_book['seconds_in_bucket']) & (df_book['seconds_in_bucket'] < end_time)]['time_length']) / (end_time - start_time)\n"
     ]
    },
    {
     "name": "stdout",
     "output_type": "stream",
     "text": [
      "289\n",
      "297\n",
      "303\n",
      "309\n",
      "310\n",
      "317\n"
     ]
    },
    {
     "name": "stderr",
     "output_type": "stream",
     "text": [
      "/Users/vladimir.levin/Yandex.Disk.localized/01_Documents/01_Study/0_LUX/01_PhD/Drafts/Project3/kaggle_volatility/support_file.py:1675: RuntimeWarning: invalid value encountered in true_divide\n",
      "  w_ask = np.sum(df_book[(start_time <= df_book['seconds_in_bucket']) & (df_book['seconds_in_bucket'] < end_time)]['ask_price1'] * df_book[(start_time <= df_book['seconds_in_bucket']) & (df_book['seconds_in_bucket'] < end_time)]['time_length']) / (end_time - start_time)\n",
      "/Users/vladimir.levin/Yandex.Disk.localized/01_Documents/01_Study/0_LUX/01_PhD/Drafts/Project3/kaggle_volatility/support_file.py:1676: RuntimeWarning: invalid value encountered in true_divide\n",
      "  w_bid = np.sum(df_book[(start_time <= df_book['seconds_in_bucket']) & (df_book['seconds_in_bucket'] < end_time)]['bid_price1'] * df_book[(start_time <= df_book['seconds_in_bucket']) & (df_book['seconds_in_bucket'] < end_time)]['time_length']) / (end_time - start_time)\n"
     ]
    },
    {
     "name": "stdout",
     "output_type": "stream",
     "text": [
      "319\n",
      "325\n",
      "326\n",
      "335\n",
      "337\n",
      "358\n",
      "371\n",
      "373\n",
      "380\n",
      "381\n",
      "411\n"
     ]
    },
    {
     "name": "stderr",
     "output_type": "stream",
     "text": [
      "/Users/vladimir.levin/Yandex.Disk.localized/01_Documents/01_Study/0_LUX/01_PhD/Drafts/Project3/kaggle_volatility/support_file.py:1675: RuntimeWarning: invalid value encountered in true_divide\n",
      "  w_ask = np.sum(df_book[(start_time <= df_book['seconds_in_bucket']) & (df_book['seconds_in_bucket'] < end_time)]['ask_price1'] * df_book[(start_time <= df_book['seconds_in_bucket']) & (df_book['seconds_in_bucket'] < end_time)]['time_length']) / (end_time - start_time)\n",
      "/Users/vladimir.levin/Yandex.Disk.localized/01_Documents/01_Study/0_LUX/01_PhD/Drafts/Project3/kaggle_volatility/support_file.py:1676: RuntimeWarning: invalid value encountered in true_divide\n",
      "  w_bid = np.sum(df_book[(start_time <= df_book['seconds_in_bucket']) & (df_book['seconds_in_bucket'] < end_time)]['bid_price1'] * df_book[(start_time <= df_book['seconds_in_bucket']) & (df_book['seconds_in_bucket'] < end_time)]['time_length']) / (end_time - start_time)\n"
     ]
    },
    {
     "name": "stdout",
     "output_type": "stream",
     "text": [
      "420\n",
      "424\n",
      "427\n",
      "436\n",
      "438\n",
      "454\n",
      "465\n",
      "468\n",
      "487\n",
      "493\n",
      "506\n",
      "535\n"
     ]
    },
    {
     "name": "stderr",
     "output_type": "stream",
     "text": [
      "/Users/vladimir.levin/Yandex.Disk.localized/01_Documents/01_Study/0_LUX/01_PhD/Drafts/Project3/kaggle_volatility/support_file.py:1675: RuntimeWarning: invalid value encountered in true_divide\n",
      "  w_ask = np.sum(df_book[(start_time <= df_book['seconds_in_bucket']) & (df_book['seconds_in_bucket'] < end_time)]['ask_price1'] * df_book[(start_time <= df_book['seconds_in_bucket']) & (df_book['seconds_in_bucket'] < end_time)]['time_length']) / (end_time - start_time)\n",
      "/Users/vladimir.levin/Yandex.Disk.localized/01_Documents/01_Study/0_LUX/01_PhD/Drafts/Project3/kaggle_volatility/support_file.py:1676: RuntimeWarning: invalid value encountered in true_divide\n",
      "  w_bid = np.sum(df_book[(start_time <= df_book['seconds_in_bucket']) & (df_book['seconds_in_bucket'] < end_time)]['bid_price1'] * df_book[(start_time <= df_book['seconds_in_bucket']) & (df_book['seconds_in_bucket'] < end_time)]['time_length']) / (end_time - start_time)\n"
     ]
    },
    {
     "name": "stdout",
     "output_type": "stream",
     "text": [
      "536\n",
      "539\n",
      "545\n",
      "554\n",
      "568\n",
      "579\n",
      "589\n",
      "591\n",
      "595\n",
      "611\n",
      "618\n",
      "627\n"
     ]
    },
    {
     "name": "stderr",
     "output_type": "stream",
     "text": [
      "/Users/vladimir.levin/Yandex.Disk.localized/01_Documents/01_Study/0_LUX/01_PhD/Drafts/Project3/kaggle_volatility/support_file.py:1675: RuntimeWarning: invalid value encountered in true_divide\n",
      "  w_ask = np.sum(df_book[(start_time <= df_book['seconds_in_bucket']) & (df_book['seconds_in_bucket'] < end_time)]['ask_price1'] * df_book[(start_time <= df_book['seconds_in_bucket']) & (df_book['seconds_in_bucket'] < end_time)]['time_length']) / (end_time - start_time)\n",
      "/Users/vladimir.levin/Yandex.Disk.localized/01_Documents/01_Study/0_LUX/01_PhD/Drafts/Project3/kaggle_volatility/support_file.py:1676: RuntimeWarning: invalid value encountered in true_divide\n",
      "  w_bid = np.sum(df_book[(start_time <= df_book['seconds_in_bucket']) & (df_book['seconds_in_bucket'] < end_time)]['bid_price1'] * df_book[(start_time <= df_book['seconds_in_bucket']) & (df_book['seconds_in_bucket'] < end_time)]['time_length']) / (end_time - start_time)\n"
     ]
    },
    {
     "name": "stdout",
     "output_type": "stream",
     "text": [
      "633\n",
      "640\n",
      "646\n",
      "650\n",
      "652\n",
      "659\n",
      "675\n",
      "697\n",
      "709\n",
      "725\n",
      "728\n",
      "735\n",
      "745\n",
      "746\n",
      "748\n",
      "753\n",
      "785\n"
     ]
    },
    {
     "name": "stderr",
     "output_type": "stream",
     "text": [
      "/Users/vladimir.levin/Yandex.Disk.localized/01_Documents/01_Study/0_LUX/01_PhD/Drafts/Project3/kaggle_volatility/support_file.py:1675: RuntimeWarning: invalid value encountered in true_divide\n",
      "  w_ask = np.sum(df_book[(start_time <= df_book['seconds_in_bucket']) & (df_book['seconds_in_bucket'] < end_time)]['ask_price1'] * df_book[(start_time <= df_book['seconds_in_bucket']) & (df_book['seconds_in_bucket'] < end_time)]['time_length']) / (end_time - start_time)\n",
      "/Users/vladimir.levin/Yandex.Disk.localized/01_Documents/01_Study/0_LUX/01_PhD/Drafts/Project3/kaggle_volatility/support_file.py:1676: RuntimeWarning: invalid value encountered in true_divide\n",
      "  w_bid = np.sum(df_book[(start_time <= df_book['seconds_in_bucket']) & (df_book['seconds_in_bucket'] < end_time)]['bid_price1'] * df_book[(start_time <= df_book['seconds_in_bucket']) & (df_book['seconds_in_bucket'] < end_time)]['time_length']) / (end_time - start_time)\n",
      "/Users/vladimir.levin/Yandex.Disk.localized/01_Documents/01_Study/0_LUX/01_PhD/Drafts/Project3/kaggle_volatility/support_file.py:1675: RuntimeWarning: invalid value encountered in true_divide\n",
      "  w_ask = np.sum(df_book[(start_time <= df_book['seconds_in_bucket']) & (df_book['seconds_in_bucket'] < end_time)]['ask_price1'] * df_book[(start_time <= df_book['seconds_in_bucket']) & (df_book['seconds_in_bucket'] < end_time)]['time_length']) / (end_time - start_time)\n",
      "/Users/vladimir.levin/Yandex.Disk.localized/01_Documents/01_Study/0_LUX/01_PhD/Drafts/Project3/kaggle_volatility/support_file.py:1676: RuntimeWarning: invalid value encountered in true_divide\n",
      "  w_bid = np.sum(df_book[(start_time <= df_book['seconds_in_bucket']) & (df_book['seconds_in_bucket'] < end_time)]['bid_price1'] * df_book[(start_time <= df_book['seconds_in_bucket']) & (df_book['seconds_in_bucket'] < end_time)]['time_length']) / (end_time - start_time)\n"
     ]
    },
    {
     "name": "stdout",
     "output_type": "stream",
     "text": [
      "817\n",
      "840\n"
     ]
    },
    {
     "name": "stderr",
     "output_type": "stream",
     "text": [
      "/Users/vladimir.levin/Yandex.Disk.localized/01_Documents/01_Study/0_LUX/01_PhD/Drafts/Project3/kaggle_volatility/support_file.py:1675: RuntimeWarning: invalid value encountered in true_divide\n",
      "  w_ask = np.sum(df_book[(start_time <= df_book['seconds_in_bucket']) & (df_book['seconds_in_bucket'] < end_time)]['ask_price1'] * df_book[(start_time <= df_book['seconds_in_bucket']) & (df_book['seconds_in_bucket'] < end_time)]['time_length']) / (end_time - start_time)\n",
      "/Users/vladimir.levin/Yandex.Disk.localized/01_Documents/01_Study/0_LUX/01_PhD/Drafts/Project3/kaggle_volatility/support_file.py:1676: RuntimeWarning: invalid value encountered in true_divide\n",
      "  w_bid = np.sum(df_book[(start_time <= df_book['seconds_in_bucket']) & (df_book['seconds_in_bucket'] < end_time)]['bid_price1'] * df_book[(start_time <= df_book['seconds_in_bucket']) & (df_book['seconds_in_bucket'] < end_time)]['time_length']) / (end_time - start_time)\n",
      "/Users/vladimir.levin/Yandex.Disk.localized/01_Documents/01_Study/0_LUX/01_PhD/Drafts/Project3/kaggle_volatility/support_file.py:1675: RuntimeWarning: invalid value encountered in true_divide\n",
      "  w_ask = np.sum(df_book[(start_time <= df_book['seconds_in_bucket']) & (df_book['seconds_in_bucket'] < end_time)]['ask_price1'] * df_book[(start_time <= df_book['seconds_in_bucket']) & (df_book['seconds_in_bucket'] < end_time)]['time_length']) / (end_time - start_time)\n",
      "/Users/vladimir.levin/Yandex.Disk.localized/01_Documents/01_Study/0_LUX/01_PhD/Drafts/Project3/kaggle_volatility/support_file.py:1676: RuntimeWarning: invalid value encountered in true_divide\n",
      "  w_bid = np.sum(df_book[(start_time <= df_book['seconds_in_bucket']) & (df_book['seconds_in_bucket'] < end_time)]['bid_price1'] * df_book[(start_time <= df_book['seconds_in_bucket']) & (df_book['seconds_in_bucket'] < end_time)]['time_length']) / (end_time - start_time)\n"
     ]
    },
    {
     "name": "stdout",
     "output_type": "stream",
     "text": [
      "841\n",
      "852\n",
      "854\n",
      "868\n",
      "886\n",
      "895\n",
      "904\n"
     ]
    },
    {
     "name": "stderr",
     "output_type": "stream",
     "text": [
      "/Users/vladimir.levin/Yandex.Disk.localized/01_Documents/01_Study/0_LUX/01_PhD/Drafts/Project3/kaggle_volatility/support_file.py:1675: RuntimeWarning: invalid value encountered in true_divide\n",
      "  w_ask = np.sum(df_book[(start_time <= df_book['seconds_in_bucket']) & (df_book['seconds_in_bucket'] < end_time)]['ask_price1'] * df_book[(start_time <= df_book['seconds_in_bucket']) & (df_book['seconds_in_bucket'] < end_time)]['time_length']) / (end_time - start_time)\n",
      "/Users/vladimir.levin/Yandex.Disk.localized/01_Documents/01_Study/0_LUX/01_PhD/Drafts/Project3/kaggle_volatility/support_file.py:1676: RuntimeWarning: invalid value encountered in true_divide\n",
      "  w_bid = np.sum(df_book[(start_time <= df_book['seconds_in_bucket']) & (df_book['seconds_in_bucket'] < end_time)]['bid_price1'] * df_book[(start_time <= df_book['seconds_in_bucket']) & (df_book['seconds_in_bucket'] < end_time)]['time_length']) / (end_time - start_time)\n"
     ]
    },
    {
     "name": "stdout",
     "output_type": "stream",
     "text": [
      "908\n",
      "947\n",
      "951\n",
      "957\n",
      "969\n",
      "985\n"
     ]
    },
    {
     "name": "stderr",
     "output_type": "stream",
     "text": [
      "/Users/vladimir.levin/Yandex.Disk.localized/01_Documents/01_Study/0_LUX/01_PhD/Drafts/Project3/kaggle_volatility/support_file.py:1675: RuntimeWarning: invalid value encountered in true_divide\n",
      "  w_ask = np.sum(df_book[(start_time <= df_book['seconds_in_bucket']) & (df_book['seconds_in_bucket'] < end_time)]['ask_price1'] * df_book[(start_time <= df_book['seconds_in_bucket']) & (df_book['seconds_in_bucket'] < end_time)]['time_length']) / (end_time - start_time)\n",
      "/Users/vladimir.levin/Yandex.Disk.localized/01_Documents/01_Study/0_LUX/01_PhD/Drafts/Project3/kaggle_volatility/support_file.py:1676: RuntimeWarning: invalid value encountered in true_divide\n",
      "  w_bid = np.sum(df_book[(start_time <= df_book['seconds_in_bucket']) & (df_book['seconds_in_bucket'] < end_time)]['bid_price1'] * df_book[(start_time <= df_book['seconds_in_bucket']) & (df_book['seconds_in_bucket'] < end_time)]['time_length']) / (end_time - start_time)\n"
     ]
    },
    {
     "name": "stdout",
     "output_type": "stream",
     "text": [
      "991\n",
      "1000\n",
      "1011\n",
      "1016\n"
     ]
    },
    {
     "name": "stderr",
     "output_type": "stream",
     "text": [
      "/Users/vladimir.levin/Yandex.Disk.localized/01_Documents/01_Study/0_LUX/01_PhD/Drafts/Project3/kaggle_volatility/support_file.py:1675: RuntimeWarning: invalid value encountered in true_divide\n",
      "  w_ask = np.sum(df_book[(start_time <= df_book['seconds_in_bucket']) & (df_book['seconds_in_bucket'] < end_time)]['ask_price1'] * df_book[(start_time <= df_book['seconds_in_bucket']) & (df_book['seconds_in_bucket'] < end_time)]['time_length']) / (end_time - start_time)\n",
      "/Users/vladimir.levin/Yandex.Disk.localized/01_Documents/01_Study/0_LUX/01_PhD/Drafts/Project3/kaggle_volatility/support_file.py:1676: RuntimeWarning: invalid value encountered in true_divide\n",
      "  w_bid = np.sum(df_book[(start_time <= df_book['seconds_in_bucket']) & (df_book['seconds_in_bucket'] < end_time)]['bid_price1'] * df_book[(start_time <= df_book['seconds_in_bucket']) & (df_book['seconds_in_bucket'] < end_time)]['time_length']) / (end_time - start_time)\n"
     ]
    },
    {
     "name": "stdout",
     "output_type": "stream",
     "text": [
      "1020\n",
      "1022\n",
      "1028\n",
      "1037\n"
     ]
    },
    {
     "name": "stderr",
     "output_type": "stream",
     "text": [
      "/Users/vladimir.levin/Yandex.Disk.localized/01_Documents/01_Study/0_LUX/01_PhD/Drafts/Project3/kaggle_volatility/support_file.py:1675: RuntimeWarning: invalid value encountered in true_divide\n",
      "  w_ask = np.sum(df_book[(start_time <= df_book['seconds_in_bucket']) & (df_book['seconds_in_bucket'] < end_time)]['ask_price1'] * df_book[(start_time <= df_book['seconds_in_bucket']) & (df_book['seconds_in_bucket'] < end_time)]['time_length']) / (end_time - start_time)\n",
      "/Users/vladimir.levin/Yandex.Disk.localized/01_Documents/01_Study/0_LUX/01_PhD/Drafts/Project3/kaggle_volatility/support_file.py:1676: RuntimeWarning: invalid value encountered in true_divide\n",
      "  w_bid = np.sum(df_book[(start_time <= df_book['seconds_in_bucket']) & (df_book['seconds_in_bucket'] < end_time)]['bid_price1'] * df_book[(start_time <= df_book['seconds_in_bucket']) & (df_book['seconds_in_bucket'] < end_time)]['time_length']) / (end_time - start_time)\n"
     ]
    },
    {
     "name": "stdout",
     "output_type": "stream",
     "text": [
      "1040\n",
      "1057\n",
      "1063\n",
      "1070\n",
      "1075\n",
      "1100\n",
      "1107\n",
      "1119\n",
      "1125\n",
      "1128\n"
     ]
    },
    {
     "name": "stderr",
     "output_type": "stream",
     "text": [
      "/Users/vladimir.levin/Yandex.Disk.localized/01_Documents/01_Study/0_LUX/01_PhD/Drafts/Project3/kaggle_volatility/support_file.py:1675: RuntimeWarning: invalid value encountered in true_divide\n",
      "  w_ask = np.sum(df_book[(start_time <= df_book['seconds_in_bucket']) & (df_book['seconds_in_bucket'] < end_time)]['ask_price1'] * df_book[(start_time <= df_book['seconds_in_bucket']) & (df_book['seconds_in_bucket'] < end_time)]['time_length']) / (end_time - start_time)\n",
      "/Users/vladimir.levin/Yandex.Disk.localized/01_Documents/01_Study/0_LUX/01_PhD/Drafts/Project3/kaggle_volatility/support_file.py:1676: RuntimeWarning: invalid value encountered in true_divide\n",
      "  w_bid = np.sum(df_book[(start_time <= df_book['seconds_in_bucket']) & (df_book['seconds_in_bucket'] < end_time)]['bid_price1'] * df_book[(start_time <= df_book['seconds_in_bucket']) & (df_book['seconds_in_bucket'] < end_time)]['time_length']) / (end_time - start_time)\n",
      "/Users/vladimir.levin/Yandex.Disk.localized/01_Documents/01_Study/0_LUX/01_PhD/Drafts/Project3/kaggle_volatility/support_file.py:1675: RuntimeWarning: invalid value encountered in true_divide\n",
      "  w_ask = np.sum(df_book[(start_time <= df_book['seconds_in_bucket']) & (df_book['seconds_in_bucket'] < end_time)]['ask_price1'] * df_book[(start_time <= df_book['seconds_in_bucket']) & (df_book['seconds_in_bucket'] < end_time)]['time_length']) / (end_time - start_time)\n",
      "/Users/vladimir.levin/Yandex.Disk.localized/01_Documents/01_Study/0_LUX/01_PhD/Drafts/Project3/kaggle_volatility/support_file.py:1676: RuntimeWarning: invalid value encountered in true_divide\n",
      "  w_bid = np.sum(df_book[(start_time <= df_book['seconds_in_bucket']) & (df_book['seconds_in_bucket'] < end_time)]['bid_price1'] * df_book[(start_time <= df_book['seconds_in_bucket']) & (df_book['seconds_in_bucket'] < end_time)]['time_length']) / (end_time - start_time)\n"
     ]
    },
    {
     "name": "stdout",
     "output_type": "stream",
     "text": [
      "1135\n",
      "1142\n"
     ]
    },
    {
     "name": "stderr",
     "output_type": "stream",
     "text": [
      "/Users/vladimir.levin/Yandex.Disk.localized/01_Documents/01_Study/0_LUX/01_PhD/Drafts/Project3/kaggle_volatility/support_file.py:1675: RuntimeWarning: invalid value encountered in true_divide\n",
      "  w_ask = np.sum(df_book[(start_time <= df_book['seconds_in_bucket']) & (df_book['seconds_in_bucket'] < end_time)]['ask_price1'] * df_book[(start_time <= df_book['seconds_in_bucket']) & (df_book['seconds_in_bucket'] < end_time)]['time_length']) / (end_time - start_time)\n",
      "/Users/vladimir.levin/Yandex.Disk.localized/01_Documents/01_Study/0_LUX/01_PhD/Drafts/Project3/kaggle_volatility/support_file.py:1676: RuntimeWarning: invalid value encountered in true_divide\n",
      "  w_bid = np.sum(df_book[(start_time <= df_book['seconds_in_bucket']) & (df_book['seconds_in_bucket'] < end_time)]['bid_price1'] * df_book[(start_time <= df_book['seconds_in_bucket']) & (df_book['seconds_in_bucket'] < end_time)]['time_length']) / (end_time - start_time)\n",
      "/Users/vladimir.levin/Yandex.Disk.localized/01_Documents/01_Study/0_LUX/01_PhD/Drafts/Project3/kaggle_volatility/support_file.py:1675: RuntimeWarning: invalid value encountered in true_divide\n",
      "  w_ask = np.sum(df_book[(start_time <= df_book['seconds_in_bucket']) & (df_book['seconds_in_bucket'] < end_time)]['ask_price1'] * df_book[(start_time <= df_book['seconds_in_bucket']) & (df_book['seconds_in_bucket'] < end_time)]['time_length']) / (end_time - start_time)\n",
      "/Users/vladimir.levin/Yandex.Disk.localized/01_Documents/01_Study/0_LUX/01_PhD/Drafts/Project3/kaggle_volatility/support_file.py:1676: RuntimeWarning: invalid value encountered in true_divide\n",
      "  w_bid = np.sum(df_book[(start_time <= df_book['seconds_in_bucket']) & (df_book['seconds_in_bucket'] < end_time)]['bid_price1'] * df_book[(start_time <= df_book['seconds_in_bucket']) & (df_book['seconds_in_bucket'] < end_time)]['time_length']) / (end_time - start_time)\n"
     ]
    },
    {
     "name": "stdout",
     "output_type": "stream",
     "text": [
      "1149\n",
      "1158\n",
      "1161\n",
      "1173\n",
      "1176\n",
      "1178\n",
      "1191\n",
      "1198\n",
      "1205\n",
      "1209\n",
      "1213\n"
     ]
    },
    {
     "name": "stderr",
     "output_type": "stream",
     "text": [
      "/Users/vladimir.levin/Yandex.Disk.localized/01_Documents/01_Study/0_LUX/01_PhD/Drafts/Project3/kaggle_volatility/support_file.py:1675: RuntimeWarning: invalid value encountered in true_divide\n",
      "  w_ask = np.sum(df_book[(start_time <= df_book['seconds_in_bucket']) & (df_book['seconds_in_bucket'] < end_time)]['ask_price1'] * df_book[(start_time <= df_book['seconds_in_bucket']) & (df_book['seconds_in_bucket'] < end_time)]['time_length']) / (end_time - start_time)\n",
      "/Users/vladimir.levin/Yandex.Disk.localized/01_Documents/01_Study/0_LUX/01_PhD/Drafts/Project3/kaggle_volatility/support_file.py:1676: RuntimeWarning: invalid value encountered in true_divide\n",
      "  w_bid = np.sum(df_book[(start_time <= df_book['seconds_in_bucket']) & (df_book['seconds_in_bucket'] < end_time)]['bid_price1'] * df_book[(start_time <= df_book['seconds_in_bucket']) & (df_book['seconds_in_bucket'] < end_time)]['time_length']) / (end_time - start_time)\n"
     ]
    },
    {
     "name": "stdout",
     "output_type": "stream",
     "text": [
      "1215\n",
      "1219\n",
      "1227\n",
      "1235\n"
     ]
    },
    {
     "name": "stderr",
     "output_type": "stream",
     "text": [
      "/Users/vladimir.levin/Yandex.Disk.localized/01_Documents/01_Study/0_LUX/01_PhD/Drafts/Project3/kaggle_volatility/support_file.py:1675: RuntimeWarning: invalid value encountered in true_divide\n",
      "  w_ask = np.sum(df_book[(start_time <= df_book['seconds_in_bucket']) & (df_book['seconds_in_bucket'] < end_time)]['ask_price1'] * df_book[(start_time <= df_book['seconds_in_bucket']) & (df_book['seconds_in_bucket'] < end_time)]['time_length']) / (end_time - start_time)\n",
      "/Users/vladimir.levin/Yandex.Disk.localized/01_Documents/01_Study/0_LUX/01_PhD/Drafts/Project3/kaggle_volatility/support_file.py:1676: RuntimeWarning: invalid value encountered in true_divide\n",
      "  w_bid = np.sum(df_book[(start_time <= df_book['seconds_in_bucket']) & (df_book['seconds_in_bucket'] < end_time)]['bid_price1'] * df_book[(start_time <= df_book['seconds_in_bucket']) & (df_book['seconds_in_bucket'] < end_time)]['time_length']) / (end_time - start_time)\n"
     ]
    },
    {
     "name": "stdout",
     "output_type": "stream",
     "text": [
      "1239\n",
      "1242\n",
      "1247\n",
      "1249\n",
      "1255\n"
     ]
    },
    {
     "name": "stderr",
     "output_type": "stream",
     "text": [
      "/Users/vladimir.levin/Yandex.Disk.localized/01_Documents/01_Study/0_LUX/01_PhD/Drafts/Project3/kaggle_volatility/support_file.py:1675: RuntimeWarning: invalid value encountered in true_divide\n",
      "  w_ask = np.sum(df_book[(start_time <= df_book['seconds_in_bucket']) & (df_book['seconds_in_bucket'] < end_time)]['ask_price1'] * df_book[(start_time <= df_book['seconds_in_bucket']) & (df_book['seconds_in_bucket'] < end_time)]['time_length']) / (end_time - start_time)\n",
      "/Users/vladimir.levin/Yandex.Disk.localized/01_Documents/01_Study/0_LUX/01_PhD/Drafts/Project3/kaggle_volatility/support_file.py:1676: RuntimeWarning: invalid value encountered in true_divide\n",
      "  w_bid = np.sum(df_book[(start_time <= df_book['seconds_in_bucket']) & (df_book['seconds_in_bucket'] < end_time)]['bid_price1'] * df_book[(start_time <= df_book['seconds_in_bucket']) & (df_book['seconds_in_bucket'] < end_time)]['time_length']) / (end_time - start_time)\n",
      "/Users/vladimir.levin/Yandex.Disk.localized/01_Documents/01_Study/0_LUX/01_PhD/Drafts/Project3/kaggle_volatility/support_file.py:1675: RuntimeWarning: invalid value encountered in true_divide\n",
      "  w_ask = np.sum(df_book[(start_time <= df_book['seconds_in_bucket']) & (df_book['seconds_in_bucket'] < end_time)]['ask_price1'] * df_book[(start_time <= df_book['seconds_in_bucket']) & (df_book['seconds_in_bucket'] < end_time)]['time_length']) / (end_time - start_time)\n",
      "/Users/vladimir.levin/Yandex.Disk.localized/01_Documents/01_Study/0_LUX/01_PhD/Drafts/Project3/kaggle_volatility/support_file.py:1676: RuntimeWarning: invalid value encountered in true_divide\n",
      "  w_bid = np.sum(df_book[(start_time <= df_book['seconds_in_bucket']) & (df_book['seconds_in_bucket'] < end_time)]['bid_price1'] * df_book[(start_time <= df_book['seconds_in_bucket']) & (df_book['seconds_in_bucket'] < end_time)]['time_length']) / (end_time - start_time)\n"
     ]
    },
    {
     "name": "stdout",
     "output_type": "stream",
     "text": [
      "1264\n",
      "1269\n",
      "1273\n",
      "1274\n",
      "1280\n",
      "1289\n",
      "1291\n",
      "1292\n",
      "1302\n",
      "1310\n",
      "1321\n",
      "1322\n",
      "1326\n",
      "1348\n",
      "1350\n",
      "1359\n",
      "1363\n",
      "1365\n",
      "1377\n",
      "1380\n",
      "1392\n",
      "1404\n",
      "1408\n",
      "1416\n",
      "1417\n"
     ]
    },
    {
     "name": "stderr",
     "output_type": "stream",
     "text": [
      "/Users/vladimir.levin/Yandex.Disk.localized/01_Documents/01_Study/0_LUX/01_PhD/Drafts/Project3/kaggle_volatility/support_file.py:1675: RuntimeWarning: invalid value encountered in true_divide\n",
      "  w_ask = np.sum(df_book[(start_time <= df_book['seconds_in_bucket']) & (df_book['seconds_in_bucket'] < end_time)]['ask_price1'] * df_book[(start_time <= df_book['seconds_in_bucket']) & (df_book['seconds_in_bucket'] < end_time)]['time_length']) / (end_time - start_time)\n",
      "/Users/vladimir.levin/Yandex.Disk.localized/01_Documents/01_Study/0_LUX/01_PhD/Drafts/Project3/kaggle_volatility/support_file.py:1676: RuntimeWarning: invalid value encountered in true_divide\n",
      "  w_bid = np.sum(df_book[(start_time <= df_book['seconds_in_bucket']) & (df_book['seconds_in_bucket'] < end_time)]['bid_price1'] * df_book[(start_time <= df_book['seconds_in_bucket']) & (df_book['seconds_in_bucket'] < end_time)]['time_length']) / (end_time - start_time)\n"
     ]
    },
    {
     "name": "stdout",
     "output_type": "stream",
     "text": [
      "1427\n",
      "1430\n"
     ]
    },
    {
     "name": "stderr",
     "output_type": "stream",
     "text": [
      "/Users/vladimir.levin/Yandex.Disk.localized/01_Documents/01_Study/0_LUX/01_PhD/Drafts/Project3/kaggle_volatility/support_file.py:1675: RuntimeWarning: invalid value encountered in true_divide\n",
      "  w_ask = np.sum(df_book[(start_time <= df_book['seconds_in_bucket']) & (df_book['seconds_in_bucket'] < end_time)]['ask_price1'] * df_book[(start_time <= df_book['seconds_in_bucket']) & (df_book['seconds_in_bucket'] < end_time)]['time_length']) / (end_time - start_time)\n",
      "/Users/vladimir.levin/Yandex.Disk.localized/01_Documents/01_Study/0_LUX/01_PhD/Drafts/Project3/kaggle_volatility/support_file.py:1676: RuntimeWarning: invalid value encountered in true_divide\n",
      "  w_bid = np.sum(df_book[(start_time <= df_book['seconds_in_bucket']) & (df_book['seconds_in_bucket'] < end_time)]['bid_price1'] * df_book[(start_time <= df_book['seconds_in_bucket']) & (df_book['seconds_in_bucket'] < end_time)]['time_length']) / (end_time - start_time)\n",
      "/Users/vladimir.levin/Yandex.Disk.localized/01_Documents/01_Study/0_LUX/01_PhD/Drafts/Project3/kaggle_volatility/support_file.py:1675: RuntimeWarning: invalid value encountered in true_divide\n",
      "  w_ask = np.sum(df_book[(start_time <= df_book['seconds_in_bucket']) & (df_book['seconds_in_bucket'] < end_time)]['ask_price1'] * df_book[(start_time <= df_book['seconds_in_bucket']) & (df_book['seconds_in_bucket'] < end_time)]['time_length']) / (end_time - start_time)\n",
      "/Users/vladimir.levin/Yandex.Disk.localized/01_Documents/01_Study/0_LUX/01_PhD/Drafts/Project3/kaggle_volatility/support_file.py:1676: RuntimeWarning: invalid value encountered in true_divide\n",
      "  w_bid = np.sum(df_book[(start_time <= df_book['seconds_in_bucket']) & (df_book['seconds_in_bucket'] < end_time)]['bid_price1'] * df_book[(start_time <= df_book['seconds_in_bucket']) & (df_book['seconds_in_bucket'] < end_time)]['time_length']) / (end_time - start_time)\n"
     ]
    },
    {
     "name": "stdout",
     "output_type": "stream",
     "text": [
      "1433\n",
      "1459\n",
      "1462\n",
      "1463\n",
      "1464\n",
      "1468\n",
      "1471\n",
      "1477\n",
      "1481\n",
      "1501\n",
      "1513\n"
     ]
    },
    {
     "name": "stderr",
     "output_type": "stream",
     "text": [
      "/Users/vladimir.levin/Yandex.Disk.localized/01_Documents/01_Study/0_LUX/01_PhD/Drafts/Project3/kaggle_volatility/support_file.py:1675: RuntimeWarning: invalid value encountered in true_divide\n",
      "  w_ask = np.sum(df_book[(start_time <= df_book['seconds_in_bucket']) & (df_book['seconds_in_bucket'] < end_time)]['ask_price1'] * df_book[(start_time <= df_book['seconds_in_bucket']) & (df_book['seconds_in_bucket'] < end_time)]['time_length']) / (end_time - start_time)\n",
      "/Users/vladimir.levin/Yandex.Disk.localized/01_Documents/01_Study/0_LUX/01_PhD/Drafts/Project3/kaggle_volatility/support_file.py:1676: RuntimeWarning: invalid value encountered in true_divide\n",
      "  w_bid = np.sum(df_book[(start_time <= df_book['seconds_in_bucket']) & (df_book['seconds_in_bucket'] < end_time)]['bid_price1'] * df_book[(start_time <= df_book['seconds_in_bucket']) & (df_book['seconds_in_bucket'] < end_time)]['time_length']) / (end_time - start_time)\n"
     ]
    },
    {
     "name": "stdout",
     "output_type": "stream",
     "text": [
      "1521\n",
      "1524\n",
      "1529\n",
      "1532\n",
      "1536\n",
      "1541\n",
      "1544\n",
      "1551\n",
      "1563\n",
      "1565\n",
      "1581\n",
      "1587\n",
      "1600\n",
      "1640\n",
      "1651\n"
     ]
    },
    {
     "name": "stderr",
     "output_type": "stream",
     "text": [
      "/Users/vladimir.levin/Yandex.Disk.localized/01_Documents/01_Study/0_LUX/01_PhD/Drafts/Project3/kaggle_volatility/support_file.py:1675: RuntimeWarning: invalid value encountered in true_divide\n",
      "  w_ask = np.sum(df_book[(start_time <= df_book['seconds_in_bucket']) & (df_book['seconds_in_bucket'] < end_time)]['ask_price1'] * df_book[(start_time <= df_book['seconds_in_bucket']) & (df_book['seconds_in_bucket'] < end_time)]['time_length']) / (end_time - start_time)\n",
      "/Users/vladimir.levin/Yandex.Disk.localized/01_Documents/01_Study/0_LUX/01_PhD/Drafts/Project3/kaggle_volatility/support_file.py:1676: RuntimeWarning: invalid value encountered in true_divide\n",
      "  w_bid = np.sum(df_book[(start_time <= df_book['seconds_in_bucket']) & (df_book['seconds_in_bucket'] < end_time)]['bid_price1'] * df_book[(start_time <= df_book['seconds_in_bucket']) & (df_book['seconds_in_bucket'] < end_time)]['time_length']) / (end_time - start_time)\n"
     ]
    },
    {
     "name": "stdout",
     "output_type": "stream",
     "text": [
      "1658\n",
      "1663\n",
      "1674\n"
     ]
    },
    {
     "name": "stderr",
     "output_type": "stream",
     "text": [
      "/Users/vladimir.levin/Yandex.Disk.localized/01_Documents/01_Study/0_LUX/01_PhD/Drafts/Project3/kaggle_volatility/support_file.py:1675: RuntimeWarning: invalid value encountered in true_divide\n",
      "  w_ask = np.sum(df_book[(start_time <= df_book['seconds_in_bucket']) & (df_book['seconds_in_bucket'] < end_time)]['ask_price1'] * df_book[(start_time <= df_book['seconds_in_bucket']) & (df_book['seconds_in_bucket'] < end_time)]['time_length']) / (end_time - start_time)\n",
      "/Users/vladimir.levin/Yandex.Disk.localized/01_Documents/01_Study/0_LUX/01_PhD/Drafts/Project3/kaggle_volatility/support_file.py:1676: RuntimeWarning: invalid value encountered in true_divide\n",
      "  w_bid = np.sum(df_book[(start_time <= df_book['seconds_in_bucket']) & (df_book['seconds_in_bucket'] < end_time)]['bid_price1'] * df_book[(start_time <= df_book['seconds_in_bucket']) & (df_book['seconds_in_bucket'] < end_time)]['time_length']) / (end_time - start_time)\n"
     ]
    },
    {
     "name": "stdout",
     "output_type": "stream",
     "text": [
      "1676\n",
      "1688\n",
      "1707\n"
     ]
    },
    {
     "name": "stderr",
     "output_type": "stream",
     "text": [
      "/Users/vladimir.levin/Yandex.Disk.localized/01_Documents/01_Study/0_LUX/01_PhD/Drafts/Project3/kaggle_volatility/support_file.py:1675: RuntimeWarning: invalid value encountered in true_divide\n",
      "  w_ask = np.sum(df_book[(start_time <= df_book['seconds_in_bucket']) & (df_book['seconds_in_bucket'] < end_time)]['ask_price1'] * df_book[(start_time <= df_book['seconds_in_bucket']) & (df_book['seconds_in_bucket'] < end_time)]['time_length']) / (end_time - start_time)\n",
      "/Users/vladimir.levin/Yandex.Disk.localized/01_Documents/01_Study/0_LUX/01_PhD/Drafts/Project3/kaggle_volatility/support_file.py:1676: RuntimeWarning: invalid value encountered in true_divide\n",
      "  w_bid = np.sum(df_book[(start_time <= df_book['seconds_in_bucket']) & (df_book['seconds_in_bucket'] < end_time)]['bid_price1'] * df_book[(start_time <= df_book['seconds_in_bucket']) & (df_book['seconds_in_bucket'] < end_time)]['time_length']) / (end_time - start_time)\n",
      "/Users/vladimir.levin/Yandex.Disk.localized/01_Documents/01_Study/0_LUX/01_PhD/Drafts/Project3/kaggle_volatility/support_file.py:1675: RuntimeWarning: invalid value encountered in true_divide\n",
      "  w_ask = np.sum(df_book[(start_time <= df_book['seconds_in_bucket']) & (df_book['seconds_in_bucket'] < end_time)]['ask_price1'] * df_book[(start_time <= df_book['seconds_in_bucket']) & (df_book['seconds_in_bucket'] < end_time)]['time_length']) / (end_time - start_time)\n",
      "/Users/vladimir.levin/Yandex.Disk.localized/01_Documents/01_Study/0_LUX/01_PhD/Drafts/Project3/kaggle_volatility/support_file.py:1676: RuntimeWarning: invalid value encountered in true_divide\n",
      "  w_bid = np.sum(df_book[(start_time <= df_book['seconds_in_bucket']) & (df_book['seconds_in_bucket'] < end_time)]['bid_price1'] * df_book[(start_time <= df_book['seconds_in_bucket']) & (df_book['seconds_in_bucket'] < end_time)]['time_length']) / (end_time - start_time)\n"
     ]
    },
    {
     "name": "stdout",
     "output_type": "stream",
     "text": [
      "1712\n",
      "1719\n",
      "1722\n",
      "1728\n",
      "1744\n",
      "1747\n",
      "1761\n",
      "1787\n"
     ]
    },
    {
     "name": "stderr",
     "output_type": "stream",
     "text": [
      "/Users/vladimir.levin/Yandex.Disk.localized/01_Documents/01_Study/0_LUX/01_PhD/Drafts/Project3/kaggle_volatility/support_file.py:1675: RuntimeWarning: invalid value encountered in true_divide\n",
      "  w_ask = np.sum(df_book[(start_time <= df_book['seconds_in_bucket']) & (df_book['seconds_in_bucket'] < end_time)]['ask_price1'] * df_book[(start_time <= df_book['seconds_in_bucket']) & (df_book['seconds_in_bucket'] < end_time)]['time_length']) / (end_time - start_time)\n",
      "/Users/vladimir.levin/Yandex.Disk.localized/01_Documents/01_Study/0_LUX/01_PhD/Drafts/Project3/kaggle_volatility/support_file.py:1676: RuntimeWarning: invalid value encountered in true_divide\n",
      "  w_bid = np.sum(df_book[(start_time <= df_book['seconds_in_bucket']) & (df_book['seconds_in_bucket'] < end_time)]['bid_price1'] * df_book[(start_time <= df_book['seconds_in_bucket']) & (df_book['seconds_in_bucket'] < end_time)]['time_length']) / (end_time - start_time)\n"
     ]
    },
    {
     "name": "stdout",
     "output_type": "stream",
     "text": [
      "1789\n",
      "1797\n",
      "1810\n"
     ]
    },
    {
     "name": "stderr",
     "output_type": "stream",
     "text": [
      "/Users/vladimir.levin/Yandex.Disk.localized/01_Documents/01_Study/0_LUX/01_PhD/Drafts/Project3/kaggle_volatility/support_file.py:1675: RuntimeWarning: invalid value encountered in true_divide\n",
      "  w_ask = np.sum(df_book[(start_time <= df_book['seconds_in_bucket']) & (df_book['seconds_in_bucket'] < end_time)]['ask_price1'] * df_book[(start_time <= df_book['seconds_in_bucket']) & (df_book['seconds_in_bucket'] < end_time)]['time_length']) / (end_time - start_time)\n",
      "/Users/vladimir.levin/Yandex.Disk.localized/01_Documents/01_Study/0_LUX/01_PhD/Drafts/Project3/kaggle_volatility/support_file.py:1676: RuntimeWarning: invalid value encountered in true_divide\n",
      "  w_bid = np.sum(df_book[(start_time <= df_book['seconds_in_bucket']) & (df_book['seconds_in_bucket'] < end_time)]['bid_price1'] * df_book[(start_time <= df_book['seconds_in_bucket']) & (df_book['seconds_in_bucket'] < end_time)]['time_length']) / (end_time - start_time)\n"
     ]
    },
    {
     "name": "stdout",
     "output_type": "stream",
     "text": [
      "1813\n",
      "1816\n",
      "1820\n",
      "1822\n",
      "1823\n",
      "1826\n",
      "1827\n",
      "1841\n",
      "1862\n",
      "1866\n",
      "1870\n",
      "1875\n",
      "1876\n",
      "1879\n",
      "1890\n",
      "1904\n",
      "1909\n",
      "1920\n",
      "1923\n",
      "1930\n",
      "1938\n"
     ]
    },
    {
     "name": "stderr",
     "output_type": "stream",
     "text": [
      "/Users/vladimir.levin/Yandex.Disk.localized/01_Documents/01_Study/0_LUX/01_PhD/Drafts/Project3/kaggle_volatility/support_file.py:1675: RuntimeWarning: invalid value encountered in true_divide\n",
      "  w_ask = np.sum(df_book[(start_time <= df_book['seconds_in_bucket']) & (df_book['seconds_in_bucket'] < end_time)]['ask_price1'] * df_book[(start_time <= df_book['seconds_in_bucket']) & (df_book['seconds_in_bucket'] < end_time)]['time_length']) / (end_time - start_time)\n",
      "/Users/vladimir.levin/Yandex.Disk.localized/01_Documents/01_Study/0_LUX/01_PhD/Drafts/Project3/kaggle_volatility/support_file.py:1676: RuntimeWarning: invalid value encountered in true_divide\n",
      "  w_bid = np.sum(df_book[(start_time <= df_book['seconds_in_bucket']) & (df_book['seconds_in_bucket'] < end_time)]['bid_price1'] * df_book[(start_time <= df_book['seconds_in_bucket']) & (df_book['seconds_in_bucket'] < end_time)]['time_length']) / (end_time - start_time)\n"
     ]
    },
    {
     "name": "stdout",
     "output_type": "stream",
     "text": [
      "1946\n",
      "1948\n",
      "1956"
     ]
    },
    {
     "name": "stderr",
     "output_type": "stream",
     "text": [
      "/Users/vladimir.levin/Yandex.Disk.localized/01_Documents/01_Study/0_LUX/01_PhD/Drafts/Project3/kaggle_volatility/support_file.py:1675: RuntimeWarning: invalid value encountered in true_divide\n",
      "  w_ask = np.sum(df_book[(start_time <= df_book['seconds_in_bucket']) & (df_book['seconds_in_bucket'] < end_time)]['ask_price1'] * df_book[(start_time <= df_book['seconds_in_bucket']) & (df_book['seconds_in_bucket'] < end_time)]['time_length']) / (end_time - start_time)\n",
      "/Users/vladimir.levin/Yandex.Disk.localized/01_Documents/01_Study/0_LUX/01_PhD/Drafts/Project3/kaggle_volatility/support_file.py:1676: RuntimeWarning: invalid value encountered in true_divide\n",
      "  w_bid = np.sum(df_book[(start_time <= df_book['seconds_in_bucket']) & (df_book['seconds_in_bucket'] < end_time)]['bid_price1'] * df_book[(start_time <= df_book['seconds_in_bucket']) & (df_book['seconds_in_bucket'] < end_time)]['time_length']) / (end_time - start_time)\n"
     ]
    },
    {
     "name": "stdout",
     "output_type": "stream",
     "text": [
      "\n",
      "1962\n",
      "1980\n"
     ]
    },
    {
     "name": "stderr",
     "output_type": "stream",
     "text": [
      "/Users/vladimir.levin/Yandex.Disk.localized/01_Documents/01_Study/0_LUX/01_PhD/Drafts/Project3/kaggle_volatility/support_file.py:1675: RuntimeWarning: invalid value encountered in true_divide\n",
      "  w_ask = np.sum(df_book[(start_time <= df_book['seconds_in_bucket']) & (df_book['seconds_in_bucket'] < end_time)]['ask_price1'] * df_book[(start_time <= df_book['seconds_in_bucket']) & (df_book['seconds_in_bucket'] < end_time)]['time_length']) / (end_time - start_time)\n",
      "/Users/vladimir.levin/Yandex.Disk.localized/01_Documents/01_Study/0_LUX/01_PhD/Drafts/Project3/kaggle_volatility/support_file.py:1676: RuntimeWarning: invalid value encountered in true_divide\n",
      "  w_bid = np.sum(df_book[(start_time <= df_book['seconds_in_bucket']) & (df_book['seconds_in_bucket'] < end_time)]['bid_price1'] * df_book[(start_time <= df_book['seconds_in_bucket']) & (df_book['seconds_in_bucket'] < end_time)]['time_length']) / (end_time - start_time)\n"
     ]
    },
    {
     "name": "stdout",
     "output_type": "stream",
     "text": [
      "1981\n",
      "1991\n",
      "1998\n",
      "2000\n",
      "2006\n",
      "2010\n",
      "2014\n"
     ]
    },
    {
     "name": "stderr",
     "output_type": "stream",
     "text": [
      "/Users/vladimir.levin/Yandex.Disk.localized/01_Documents/01_Study/0_LUX/01_PhD/Drafts/Project3/kaggle_volatility/support_file.py:1675: RuntimeWarning: invalid value encountered in true_divide\n",
      "  w_ask = np.sum(df_book[(start_time <= df_book['seconds_in_bucket']) & (df_book['seconds_in_bucket'] < end_time)]['ask_price1'] * df_book[(start_time <= df_book['seconds_in_bucket']) & (df_book['seconds_in_bucket'] < end_time)]['time_length']) / (end_time - start_time)\n",
      "/Users/vladimir.levin/Yandex.Disk.localized/01_Documents/01_Study/0_LUX/01_PhD/Drafts/Project3/kaggle_volatility/support_file.py:1676: RuntimeWarning: invalid value encountered in true_divide\n",
      "  w_bid = np.sum(df_book[(start_time <= df_book['seconds_in_bucket']) & (df_book['seconds_in_bucket'] < end_time)]['bid_price1'] * df_book[(start_time <= df_book['seconds_in_bucket']) & (df_book['seconds_in_bucket'] < end_time)]['time_length']) / (end_time - start_time)\n"
     ]
    },
    {
     "name": "stdout",
     "output_type": "stream",
     "text": [
      "2018\n",
      "2027\n",
      "2037\n",
      "2046\n",
      "2058\n"
     ]
    },
    {
     "name": "stderr",
     "output_type": "stream",
     "text": [
      "/Users/vladimir.levin/Yandex.Disk.localized/01_Documents/01_Study/0_LUX/01_PhD/Drafts/Project3/kaggle_volatility/support_file.py:1675: RuntimeWarning: invalid value encountered in true_divide\n",
      "  w_ask = np.sum(df_book[(start_time <= df_book['seconds_in_bucket']) & (df_book['seconds_in_bucket'] < end_time)]['ask_price1'] * df_book[(start_time <= df_book['seconds_in_bucket']) & (df_book['seconds_in_bucket'] < end_time)]['time_length']) / (end_time - start_time)\n",
      "/Users/vladimir.levin/Yandex.Disk.localized/01_Documents/01_Study/0_LUX/01_PhD/Drafts/Project3/kaggle_volatility/support_file.py:1676: RuntimeWarning: invalid value encountered in true_divide\n",
      "  w_bid = np.sum(df_book[(start_time <= df_book['seconds_in_bucket']) & (df_book['seconds_in_bucket'] < end_time)]['bid_price1'] * df_book[(start_time <= df_book['seconds_in_bucket']) & (df_book['seconds_in_bucket'] < end_time)]['time_length']) / (end_time - start_time)\n"
     ]
    },
    {
     "name": "stdout",
     "output_type": "stream",
     "text": [
      "2075\n",
      "2076\n",
      "2077\n",
      "2085\n",
      "2086\n",
      "2088\n"
     ]
    },
    {
     "name": "stderr",
     "output_type": "stream",
     "text": [
      "/Users/vladimir.levin/Yandex.Disk.localized/01_Documents/01_Study/0_LUX/01_PhD/Drafts/Project3/kaggle_volatility/support_file.py:1675: RuntimeWarning: invalid value encountered in true_divide\n",
      "  w_ask = np.sum(df_book[(start_time <= df_book['seconds_in_bucket']) & (df_book['seconds_in_bucket'] < end_time)]['ask_price1'] * df_book[(start_time <= df_book['seconds_in_bucket']) & (df_book['seconds_in_bucket'] < end_time)]['time_length']) / (end_time - start_time)\n",
      "/Users/vladimir.levin/Yandex.Disk.localized/01_Documents/01_Study/0_LUX/01_PhD/Drafts/Project3/kaggle_volatility/support_file.py:1676: RuntimeWarning: invalid value encountered in true_divide\n",
      "  w_bid = np.sum(df_book[(start_time <= df_book['seconds_in_bucket']) & (df_book['seconds_in_bucket'] < end_time)]['bid_price1'] * df_book[(start_time <= df_book['seconds_in_bucket']) & (df_book['seconds_in_bucket'] < end_time)]['time_length']) / (end_time - start_time)\n"
     ]
    },
    {
     "name": "stdout",
     "output_type": "stream",
     "text": [
      "2102\n",
      "2104\n",
      "2109\n",
      "2117\n"
     ]
    },
    {
     "name": "stderr",
     "output_type": "stream",
     "text": [
      "/Users/vladimir.levin/Yandex.Disk.localized/01_Documents/01_Study/0_LUX/01_PhD/Drafts/Project3/kaggle_volatility/support_file.py:1675: RuntimeWarning: invalid value encountered in true_divide\n",
      "  w_ask = np.sum(df_book[(start_time <= df_book['seconds_in_bucket']) & (df_book['seconds_in_bucket'] < end_time)]['ask_price1'] * df_book[(start_time <= df_book['seconds_in_bucket']) & (df_book['seconds_in_bucket'] < end_time)]['time_length']) / (end_time - start_time)\n",
      "/Users/vladimir.levin/Yandex.Disk.localized/01_Documents/01_Study/0_LUX/01_PhD/Drafts/Project3/kaggle_volatility/support_file.py:1676: RuntimeWarning: invalid value encountered in true_divide\n",
      "  w_bid = np.sum(df_book[(start_time <= df_book['seconds_in_bucket']) & (df_book['seconds_in_bucket'] < end_time)]['bid_price1'] * df_book[(start_time <= df_book['seconds_in_bucket']) & (df_book['seconds_in_bucket'] < end_time)]['time_length']) / (end_time - start_time)\n"
     ]
    },
    {
     "name": "stdout",
     "output_type": "stream",
     "text": [
      "2118\n",
      "2119\n",
      "2125\n"
     ]
    },
    {
     "name": "stderr",
     "output_type": "stream",
     "text": [
      "/Users/vladimir.levin/Yandex.Disk.localized/01_Documents/01_Study/0_LUX/01_PhD/Drafts/Project3/kaggle_volatility/support_file.py:1675: RuntimeWarning: invalid value encountered in true_divide\n",
      "  w_ask = np.sum(df_book[(start_time <= df_book['seconds_in_bucket']) & (df_book['seconds_in_bucket'] < end_time)]['ask_price1'] * df_book[(start_time <= df_book['seconds_in_bucket']) & (df_book['seconds_in_bucket'] < end_time)]['time_length']) / (end_time - start_time)\n",
      "/Users/vladimir.levin/Yandex.Disk.localized/01_Documents/01_Study/0_LUX/01_PhD/Drafts/Project3/kaggle_volatility/support_file.py:1676: RuntimeWarning: invalid value encountered in true_divide\n",
      "  w_bid = np.sum(df_book[(start_time <= df_book['seconds_in_bucket']) & (df_book['seconds_in_bucket'] < end_time)]['bid_price1'] * df_book[(start_time <= df_book['seconds_in_bucket']) & (df_book['seconds_in_bucket'] < end_time)]['time_length']) / (end_time - start_time)\n"
     ]
    },
    {
     "name": "stdout",
     "output_type": "stream",
     "text": [
      "2136\n",
      "2139\n",
      "2146\n",
      "2169\n",
      "2170\n",
      "2172\n",
      "2174\n",
      "2178\n",
      "2181\n",
      "2183\n",
      "2184\n",
      "2185\n",
      "2193\n",
      "2196\n",
      "2197\n",
      "2199\n",
      "2213\n",
      "2219\n"
     ]
    },
    {
     "name": "stderr",
     "output_type": "stream",
     "text": [
      "/Users/vladimir.levin/Yandex.Disk.localized/01_Documents/01_Study/0_LUX/01_PhD/Drafts/Project3/kaggle_volatility/support_file.py:1675: RuntimeWarning: invalid value encountered in true_divide\n",
      "  w_ask = np.sum(df_book[(start_time <= df_book['seconds_in_bucket']) & (df_book['seconds_in_bucket'] < end_time)]['ask_price1'] * df_book[(start_time <= df_book['seconds_in_bucket']) & (df_book['seconds_in_bucket'] < end_time)]['time_length']) / (end_time - start_time)\n",
      "/Users/vladimir.levin/Yandex.Disk.localized/01_Documents/01_Study/0_LUX/01_PhD/Drafts/Project3/kaggle_volatility/support_file.py:1676: RuntimeWarning: invalid value encountered in true_divide\n",
      "  w_bid = np.sum(df_book[(start_time <= df_book['seconds_in_bucket']) & (df_book['seconds_in_bucket'] < end_time)]['bid_price1'] * df_book[(start_time <= df_book['seconds_in_bucket']) & (df_book['seconds_in_bucket'] < end_time)]['time_length']) / (end_time - start_time)\n"
     ]
    },
    {
     "name": "stdout",
     "output_type": "stream",
     "text": [
      "2239\n",
      "2254\n",
      "2259\n",
      "2267\n",
      "2293\n",
      "2303\n",
      "2312\n",
      "2329\n",
      "2331\n",
      "2353\n"
     ]
    },
    {
     "name": "stderr",
     "output_type": "stream",
     "text": [
      "/Users/vladimir.levin/Yandex.Disk.localized/01_Documents/01_Study/0_LUX/01_PhD/Drafts/Project3/kaggle_volatility/support_file.py:1675: RuntimeWarning: invalid value encountered in true_divide\n",
      "  w_ask = np.sum(df_book[(start_time <= df_book['seconds_in_bucket']) & (df_book['seconds_in_bucket'] < end_time)]['ask_price1'] * df_book[(start_time <= df_book['seconds_in_bucket']) & (df_book['seconds_in_bucket'] < end_time)]['time_length']) / (end_time - start_time)\n",
      "/Users/vladimir.levin/Yandex.Disk.localized/01_Documents/01_Study/0_LUX/01_PhD/Drafts/Project3/kaggle_volatility/support_file.py:1676: RuntimeWarning: invalid value encountered in true_divide\n",
      "  w_bid = np.sum(df_book[(start_time <= df_book['seconds_in_bucket']) & (df_book['seconds_in_bucket'] < end_time)]['bid_price1'] * df_book[(start_time <= df_book['seconds_in_bucket']) & (df_book['seconds_in_bucket'] < end_time)]['time_length']) / (end_time - start_time)\n",
      "/Users/vladimir.levin/Yandex.Disk.localized/01_Documents/01_Study/0_LUX/01_PhD/Drafts/Project3/kaggle_volatility/support_file.py:1675: RuntimeWarning: invalid value encountered in true_divide\n",
      "  w_ask = np.sum(df_book[(start_time <= df_book['seconds_in_bucket']) & (df_book['seconds_in_bucket'] < end_time)]['ask_price1'] * df_book[(start_time <= df_book['seconds_in_bucket']) & (df_book['seconds_in_bucket'] < end_time)]['time_length']) / (end_time - start_time)\n",
      "/Users/vladimir.levin/Yandex.Disk.localized/01_Documents/01_Study/0_LUX/01_PhD/Drafts/Project3/kaggle_volatility/support_file.py:1676: RuntimeWarning: invalid value encountered in true_divide\n",
      "  w_bid = np.sum(df_book[(start_time <= df_book['seconds_in_bucket']) & (df_book['seconds_in_bucket'] < end_time)]['bid_price1'] * df_book[(start_time <= df_book['seconds_in_bucket']) & (df_book['seconds_in_bucket'] < end_time)]['time_length']) / (end_time - start_time)\n"
     ]
    },
    {
     "name": "stdout",
     "output_type": "stream",
     "text": [
      "2366\n",
      "2374\n",
      "2385\n"
     ]
    },
    {
     "name": "stderr",
     "output_type": "stream",
     "text": [
      "/Users/vladimir.levin/Yandex.Disk.localized/01_Documents/01_Study/0_LUX/01_PhD/Drafts/Project3/kaggle_volatility/support_file.py:1675: RuntimeWarning: invalid value encountered in true_divide\n",
      "  w_ask = np.sum(df_book[(start_time <= df_book['seconds_in_bucket']) & (df_book['seconds_in_bucket'] < end_time)]['ask_price1'] * df_book[(start_time <= df_book['seconds_in_bucket']) & (df_book['seconds_in_bucket'] < end_time)]['time_length']) / (end_time - start_time)\n",
      "/Users/vladimir.levin/Yandex.Disk.localized/01_Documents/01_Study/0_LUX/01_PhD/Drafts/Project3/kaggle_volatility/support_file.py:1676: RuntimeWarning: invalid value encountered in true_divide\n",
      "  w_bid = np.sum(df_book[(start_time <= df_book['seconds_in_bucket']) & (df_book['seconds_in_bucket'] < end_time)]['bid_price1'] * df_book[(start_time <= df_book['seconds_in_bucket']) & (df_book['seconds_in_bucket'] < end_time)]['time_length']) / (end_time - start_time)\n"
     ]
    },
    {
     "name": "stdout",
     "output_type": "stream",
     "text": [
      "2390\n",
      "2392\n",
      "2410\n",
      "2415\n",
      "2424\n",
      "2433\n",
      "2436\n",
      "2439\n"
     ]
    },
    {
     "name": "stderr",
     "output_type": "stream",
     "text": [
      "/Users/vladimir.levin/Yandex.Disk.localized/01_Documents/01_Study/0_LUX/01_PhD/Drafts/Project3/kaggle_volatility/support_file.py:1675: RuntimeWarning: invalid value encountered in true_divide\n",
      "  w_ask = np.sum(df_book[(start_time <= df_book['seconds_in_bucket']) & (df_book['seconds_in_bucket'] < end_time)]['ask_price1'] * df_book[(start_time <= df_book['seconds_in_bucket']) & (df_book['seconds_in_bucket'] < end_time)]['time_length']) / (end_time - start_time)\n",
      "/Users/vladimir.levin/Yandex.Disk.localized/01_Documents/01_Study/0_LUX/01_PhD/Drafts/Project3/kaggle_volatility/support_file.py:1676: RuntimeWarning: invalid value encountered in true_divide\n",
      "  w_bid = np.sum(df_book[(start_time <= df_book['seconds_in_bucket']) & (df_book['seconds_in_bucket'] < end_time)]['bid_price1'] * df_book[(start_time <= df_book['seconds_in_bucket']) & (df_book['seconds_in_bucket'] < end_time)]['time_length']) / (end_time - start_time)\n",
      "/Users/vladimir.levin/Yandex.Disk.localized/01_Documents/01_Study/0_LUX/01_PhD/Drafts/Project3/kaggle_volatility/support_file.py:1675: RuntimeWarning: invalid value encountered in true_divide\n",
      "  w_ask = np.sum(df_book[(start_time <= df_book['seconds_in_bucket']) & (df_book['seconds_in_bucket'] < end_time)]['ask_price1'] * df_book[(start_time <= df_book['seconds_in_bucket']) & (df_book['seconds_in_bucket'] < end_time)]['time_length']) / (end_time - start_time)\n",
      "/Users/vladimir.levin/Yandex.Disk.localized/01_Documents/01_Study/0_LUX/01_PhD/Drafts/Project3/kaggle_volatility/support_file.py:1676: RuntimeWarning: invalid value encountered in true_divide\n",
      "  w_bid = np.sum(df_book[(start_time <= df_book['seconds_in_bucket']) & (df_book['seconds_in_bucket'] < end_time)]['bid_price1'] * df_book[(start_time <= df_book['seconds_in_bucket']) & (df_book['seconds_in_bucket'] < end_time)]['time_length']) / (end_time - start_time)\n"
     ]
    },
    {
     "name": "stdout",
     "output_type": "stream",
     "text": [
      "2440\n",
      "2444\n",
      "2447\n",
      "2458\n",
      "2463\n",
      "2466\n",
      "2468"
     ]
    },
    {
     "name": "stderr",
     "output_type": "stream",
     "text": [
      "/Users/vladimir.levin/Yandex.Disk.localized/01_Documents/01_Study/0_LUX/01_PhD/Drafts/Project3/kaggle_volatility/support_file.py:1675: RuntimeWarning: invalid value encountered in true_divide\n",
      "  w_ask = np.sum(df_book[(start_time <= df_book['seconds_in_bucket']) & (df_book['seconds_in_bucket'] < end_time)]['ask_price1'] * df_book[(start_time <= df_book['seconds_in_bucket']) & (df_book['seconds_in_bucket'] < end_time)]['time_length']) / (end_time - start_time)\n",
      "/Users/vladimir.levin/Yandex.Disk.localized/01_Documents/01_Study/0_LUX/01_PhD/Drafts/Project3/kaggle_volatility/support_file.py:1676: RuntimeWarning: invalid value encountered in true_divide\n",
      "  w_bid = np.sum(df_book[(start_time <= df_book['seconds_in_bucket']) & (df_book['seconds_in_bucket'] < end_time)]['bid_price1'] * df_book[(start_time <= df_book['seconds_in_bucket']) & (df_book['seconds_in_bucket'] < end_time)]['time_length']) / (end_time - start_time)\n",
      "/Users/vladimir.levin/Yandex.Disk.localized/01_Documents/01_Study/0_LUX/01_PhD/Drafts/Project3/kaggle_volatility/support_file.py:1675: RuntimeWarning: invalid value encountered in true_divide\n",
      "  w_ask = np.sum(df_book[(start_time <= df_book['seconds_in_bucket']) & (df_book['seconds_in_bucket'] < end_time)]['ask_price1'] * df_book[(start_time <= df_book['seconds_in_bucket']) & (df_book['seconds_in_bucket'] < end_time)]['time_length']) / (end_time - start_time)\n",
      "/Users/vladimir.levin/Yandex.Disk.localized/01_Documents/01_Study/0_LUX/01_PhD/Drafts/Project3/kaggle_volatility/support_file.py:1676: RuntimeWarning: invalid value encountered in true_divide\n",
      "  w_bid = np.sum(df_book[(start_time <= df_book['seconds_in_bucket']) & (df_book['seconds_in_bucket'] < end_time)]['bid_price1'] * df_book[(start_time <= df_book['seconds_in_bucket']) & (df_book['seconds_in_bucket'] < end_time)]['time_length']) / (end_time - start_time)\n"
     ]
    },
    {
     "name": "stdout",
     "output_type": "stream",
     "text": [
      "\n",
      "2479\n",
      "2489\n",
      "2491\n",
      "2502\n",
      "2507\n"
     ]
    },
    {
     "name": "stderr",
     "output_type": "stream",
     "text": [
      "/Users/vladimir.levin/Yandex.Disk.localized/01_Documents/01_Study/0_LUX/01_PhD/Drafts/Project3/kaggle_volatility/support_file.py:1675: RuntimeWarning: invalid value encountered in true_divide\n",
      "  w_ask = np.sum(df_book[(start_time <= df_book['seconds_in_bucket']) & (df_book['seconds_in_bucket'] < end_time)]['ask_price1'] * df_book[(start_time <= df_book['seconds_in_bucket']) & (df_book['seconds_in_bucket'] < end_time)]['time_length']) / (end_time - start_time)\n",
      "/Users/vladimir.levin/Yandex.Disk.localized/01_Documents/01_Study/0_LUX/01_PhD/Drafts/Project3/kaggle_volatility/support_file.py:1676: RuntimeWarning: invalid value encountered in true_divide\n",
      "  w_bid = np.sum(df_book[(start_time <= df_book['seconds_in_bucket']) & (df_book['seconds_in_bucket'] < end_time)]['bid_price1'] * df_book[(start_time <= df_book['seconds_in_bucket']) & (df_book['seconds_in_bucket'] < end_time)]['time_length']) / (end_time - start_time)\n",
      "/Users/vladimir.levin/Yandex.Disk.localized/01_Documents/01_Study/0_LUX/01_PhD/Drafts/Project3/kaggle_volatility/support_file.py:1675: RuntimeWarning: invalid value encountered in true_divide\n",
      "  w_ask = np.sum(df_book[(start_time <= df_book['seconds_in_bucket']) & (df_book['seconds_in_bucket'] < end_time)]['ask_price1'] * df_book[(start_time <= df_book['seconds_in_bucket']) & (df_book['seconds_in_bucket'] < end_time)]['time_length']) / (end_time - start_time)\n",
      "/Users/vladimir.levin/Yandex.Disk.localized/01_Documents/01_Study/0_LUX/01_PhD/Drafts/Project3/kaggle_volatility/support_file.py:1676: RuntimeWarning: invalid value encountered in true_divide\n",
      "  w_bid = np.sum(df_book[(start_time <= df_book['seconds_in_bucket']) & (df_book['seconds_in_bucket'] < end_time)]['bid_price1'] * df_book[(start_time <= df_book['seconds_in_bucket']) & (df_book['seconds_in_bucket'] < end_time)]['time_length']) / (end_time - start_time)\n"
     ]
    },
    {
     "name": "stdout",
     "output_type": "stream",
     "text": [
      "2510\n",
      "2525\n",
      "2534\n"
     ]
    },
    {
     "name": "stderr",
     "output_type": "stream",
     "text": [
      "/Users/vladimir.levin/Yandex.Disk.localized/01_Documents/01_Study/0_LUX/01_PhD/Drafts/Project3/kaggle_volatility/support_file.py:1675: RuntimeWarning: invalid value encountered in true_divide\n",
      "  w_ask = np.sum(df_book[(start_time <= df_book['seconds_in_bucket']) & (df_book['seconds_in_bucket'] < end_time)]['ask_price1'] * df_book[(start_time <= df_book['seconds_in_bucket']) & (df_book['seconds_in_bucket'] < end_time)]['time_length']) / (end_time - start_time)\n",
      "/Users/vladimir.levin/Yandex.Disk.localized/01_Documents/01_Study/0_LUX/01_PhD/Drafts/Project3/kaggle_volatility/support_file.py:1676: RuntimeWarning: invalid value encountered in true_divide\n",
      "  w_bid = np.sum(df_book[(start_time <= df_book['seconds_in_bucket']) & (df_book['seconds_in_bucket'] < end_time)]['bid_price1'] * df_book[(start_time <= df_book['seconds_in_bucket']) & (df_book['seconds_in_bucket'] < end_time)]['time_length']) / (end_time - start_time)\n"
     ]
    },
    {
     "name": "stdout",
     "output_type": "stream",
     "text": [
      "2545\n",
      "2553\n",
      "2559\n",
      "2566\n",
      "2567\n",
      "2568\n",
      "2573\n",
      "2582\n",
      "2591\n"
     ]
    },
    {
     "name": "stderr",
     "output_type": "stream",
     "text": [
      "/Users/vladimir.levin/Yandex.Disk.localized/01_Documents/01_Study/0_LUX/01_PhD/Drafts/Project3/kaggle_volatility/support_file.py:1675: RuntimeWarning: invalid value encountered in true_divide\n",
      "  w_ask = np.sum(df_book[(start_time <= df_book['seconds_in_bucket']) & (df_book['seconds_in_bucket'] < end_time)]['ask_price1'] * df_book[(start_time <= df_book['seconds_in_bucket']) & (df_book['seconds_in_bucket'] < end_time)]['time_length']) / (end_time - start_time)\n",
      "/Users/vladimir.levin/Yandex.Disk.localized/01_Documents/01_Study/0_LUX/01_PhD/Drafts/Project3/kaggle_volatility/support_file.py:1676: RuntimeWarning: invalid value encountered in true_divide\n",
      "  w_bid = np.sum(df_book[(start_time <= df_book['seconds_in_bucket']) & (df_book['seconds_in_bucket'] < end_time)]['bid_price1'] * df_book[(start_time <= df_book['seconds_in_bucket']) & (df_book['seconds_in_bucket'] < end_time)]['time_length']) / (end_time - start_time)\n",
      "/Users/vladimir.levin/Yandex.Disk.localized/01_Documents/01_Study/0_LUX/01_PhD/Drafts/Project3/kaggle_volatility/support_file.py:1675: RuntimeWarning: invalid value encountered in true_divide\n",
      "  w_ask = np.sum(df_book[(start_time <= df_book['seconds_in_bucket']) & (df_book['seconds_in_bucket'] < end_time)]['ask_price1'] * df_book[(start_time <= df_book['seconds_in_bucket']) & (df_book['seconds_in_bucket'] < end_time)]['time_length']) / (end_time - start_time)\n",
      "/Users/vladimir.levin/Yandex.Disk.localized/01_Documents/01_Study/0_LUX/01_PhD/Drafts/Project3/kaggle_volatility/support_file.py:1676: RuntimeWarning: invalid value encountered in true_divide\n",
      "  w_bid = np.sum(df_book[(start_time <= df_book['seconds_in_bucket']) & (df_book['seconds_in_bucket'] < end_time)]['bid_price1'] * df_book[(start_time <= df_book['seconds_in_bucket']) & (df_book['seconds_in_bucket'] < end_time)]['time_length']) / (end_time - start_time)\n",
      "/Users/vladimir.levin/Yandex.Disk.localized/01_Documents/01_Study/0_LUX/01_PhD/Drafts/Project3/kaggle_volatility/support_file.py:1675: RuntimeWarning: invalid value encountered in true_divide\n",
      "  w_ask = np.sum(df_book[(start_time <= df_book['seconds_in_bucket']) & (df_book['seconds_in_bucket'] < end_time)]['ask_price1'] * df_book[(start_time <= df_book['seconds_in_bucket']) & (df_book['seconds_in_bucket'] < end_time)]['time_length']) / (end_time - start_time)\n",
      "/Users/vladimir.levin/Yandex.Disk.localized/01_Documents/01_Study/0_LUX/01_PhD/Drafts/Project3/kaggle_volatility/support_file.py:1676: RuntimeWarning: invalid value encountered in true_divide\n",
      "  w_bid = np.sum(df_book[(start_time <= df_book['seconds_in_bucket']) & (df_book['seconds_in_bucket'] < end_time)]['bid_price1'] * df_book[(start_time <= df_book['seconds_in_bucket']) & (df_book['seconds_in_bucket'] < end_time)]['time_length']) / (end_time - start_time)\n"
     ]
    },
    {
     "name": "stdout",
     "output_type": "stream",
     "text": [
      "2593\n",
      "2600\n",
      "2631\n",
      "2643\n",
      "2644\n",
      "2656\n",
      "2657\n",
      "2659"
     ]
    },
    {
     "name": "stderr",
     "output_type": "stream",
     "text": [
      "/Users/vladimir.levin/Yandex.Disk.localized/01_Documents/01_Study/0_LUX/01_PhD/Drafts/Project3/kaggle_volatility/support_file.py:1675: RuntimeWarning: invalid value encountered in true_divide\n",
      "  w_ask = np.sum(df_book[(start_time <= df_book['seconds_in_bucket']) & (df_book['seconds_in_bucket'] < end_time)]['ask_price1'] * df_book[(start_time <= df_book['seconds_in_bucket']) & (df_book['seconds_in_bucket'] < end_time)]['time_length']) / (end_time - start_time)\n",
      "/Users/vladimir.levin/Yandex.Disk.localized/01_Documents/01_Study/0_LUX/01_PhD/Drafts/Project3/kaggle_volatility/support_file.py:1676: RuntimeWarning: invalid value encountered in true_divide\n",
      "  w_bid = np.sum(df_book[(start_time <= df_book['seconds_in_bucket']) & (df_book['seconds_in_bucket'] < end_time)]['bid_price1'] * df_book[(start_time <= df_book['seconds_in_bucket']) & (df_book['seconds_in_bucket'] < end_time)]['time_length']) / (end_time - start_time)\n"
     ]
    },
    {
     "name": "stdout",
     "output_type": "stream",
     "text": [
      "\n",
      "2683\n",
      "2709\n",
      "2711\n",
      "2717\n",
      "2718\n",
      "2740\n"
     ]
    },
    {
     "name": "stderr",
     "output_type": "stream",
     "text": [
      "/Users/vladimir.levin/Yandex.Disk.localized/01_Documents/01_Study/0_LUX/01_PhD/Drafts/Project3/kaggle_volatility/support_file.py:1675: RuntimeWarning: invalid value encountered in true_divide\n",
      "  w_ask = np.sum(df_book[(start_time <= df_book['seconds_in_bucket']) & (df_book['seconds_in_bucket'] < end_time)]['ask_price1'] * df_book[(start_time <= df_book['seconds_in_bucket']) & (df_book['seconds_in_bucket'] < end_time)]['time_length']) / (end_time - start_time)\n",
      "/Users/vladimir.levin/Yandex.Disk.localized/01_Documents/01_Study/0_LUX/01_PhD/Drafts/Project3/kaggle_volatility/support_file.py:1676: RuntimeWarning: invalid value encountered in true_divide\n",
      "  w_bid = np.sum(df_book[(start_time <= df_book['seconds_in_bucket']) & (df_book['seconds_in_bucket'] < end_time)]['bid_price1'] * df_book[(start_time <= df_book['seconds_in_bucket']) & (df_book['seconds_in_bucket'] < end_time)]['time_length']) / (end_time - start_time)\n"
     ]
    },
    {
     "name": "stdout",
     "output_type": "stream",
     "text": [
      "2748\n",
      "2758\n",
      "2772\n",
      "2780\n",
      "2782\n"
     ]
    },
    {
     "name": "stderr",
     "output_type": "stream",
     "text": [
      "/Users/vladimir.levin/Yandex.Disk.localized/01_Documents/01_Study/0_LUX/01_PhD/Drafts/Project3/kaggle_volatility/support_file.py:1675: RuntimeWarning: invalid value encountered in true_divide\n",
      "  w_ask = np.sum(df_book[(start_time <= df_book['seconds_in_bucket']) & (df_book['seconds_in_bucket'] < end_time)]['ask_price1'] * df_book[(start_time <= df_book['seconds_in_bucket']) & (df_book['seconds_in_bucket'] < end_time)]['time_length']) / (end_time - start_time)\n",
      "/Users/vladimir.levin/Yandex.Disk.localized/01_Documents/01_Study/0_LUX/01_PhD/Drafts/Project3/kaggle_volatility/support_file.py:1676: RuntimeWarning: invalid value encountered in true_divide\n",
      "  w_bid = np.sum(df_book[(start_time <= df_book['seconds_in_bucket']) & (df_book['seconds_in_bucket'] < end_time)]['bid_price1'] * df_book[(start_time <= df_book['seconds_in_bucket']) & (df_book['seconds_in_bucket'] < end_time)]['time_length']) / (end_time - start_time)\n",
      "/Users/vladimir.levin/Yandex.Disk.localized/01_Documents/01_Study/0_LUX/01_PhD/Drafts/Project3/kaggle_volatility/support_file.py:1675: RuntimeWarning: invalid value encountered in true_divide\n",
      "  w_ask = np.sum(df_book[(start_time <= df_book['seconds_in_bucket']) & (df_book['seconds_in_bucket'] < end_time)]['ask_price1'] * df_book[(start_time <= df_book['seconds_in_bucket']) & (df_book['seconds_in_bucket'] < end_time)]['time_length']) / (end_time - start_time)\n",
      "/Users/vladimir.levin/Yandex.Disk.localized/01_Documents/01_Study/0_LUX/01_PhD/Drafts/Project3/kaggle_volatility/support_file.py:1676: RuntimeWarning: invalid value encountered in true_divide\n",
      "  w_bid = np.sum(df_book[(start_time <= df_book['seconds_in_bucket']) & (df_book['seconds_in_bucket'] < end_time)]['bid_price1'] * df_book[(start_time <= df_book['seconds_in_bucket']) & (df_book['seconds_in_bucket'] < end_time)]['time_length']) / (end_time - start_time)\n"
     ]
    },
    {
     "name": "stdout",
     "output_type": "stream",
     "text": [
      "2803\n",
      "2811\n"
     ]
    },
    {
     "name": "stderr",
     "output_type": "stream",
     "text": [
      "/Users/vladimir.levin/Yandex.Disk.localized/01_Documents/01_Study/0_LUX/01_PhD/Drafts/Project3/kaggle_volatility/support_file.py:1675: RuntimeWarning: invalid value encountered in true_divide\n",
      "  w_ask = np.sum(df_book[(start_time <= df_book['seconds_in_bucket']) & (df_book['seconds_in_bucket'] < end_time)]['ask_price1'] * df_book[(start_time <= df_book['seconds_in_bucket']) & (df_book['seconds_in_bucket'] < end_time)]['time_length']) / (end_time - start_time)\n",
      "/Users/vladimir.levin/Yandex.Disk.localized/01_Documents/01_Study/0_LUX/01_PhD/Drafts/Project3/kaggle_volatility/support_file.py:1676: RuntimeWarning: invalid value encountered in true_divide\n",
      "  w_bid = np.sum(df_book[(start_time <= df_book['seconds_in_bucket']) & (df_book['seconds_in_bucket'] < end_time)]['bid_price1'] * df_book[(start_time <= df_book['seconds_in_bucket']) & (df_book['seconds_in_bucket'] < end_time)]['time_length']) / (end_time - start_time)\n",
      "/Users/vladimir.levin/Yandex.Disk.localized/01_Documents/01_Study/0_LUX/01_PhD/Drafts/Project3/kaggle_volatility/support_file.py:1675: RuntimeWarning: invalid value encountered in true_divide\n",
      "  w_ask = np.sum(df_book[(start_time <= df_book['seconds_in_bucket']) & (df_book['seconds_in_bucket'] < end_time)]['ask_price1'] * df_book[(start_time <= df_book['seconds_in_bucket']) & (df_book['seconds_in_bucket'] < end_time)]['time_length']) / (end_time - start_time)\n",
      "/Users/vladimir.levin/Yandex.Disk.localized/01_Documents/01_Study/0_LUX/01_PhD/Drafts/Project3/kaggle_volatility/support_file.py:1676: RuntimeWarning: invalid value encountered in true_divide\n",
      "  w_bid = np.sum(df_book[(start_time <= df_book['seconds_in_bucket']) & (df_book['seconds_in_bucket'] < end_time)]['bid_price1'] * df_book[(start_time <= df_book['seconds_in_bucket']) & (df_book['seconds_in_bucket'] < end_time)]['time_length']) / (end_time - start_time)\n"
     ]
    },
    {
     "name": "stdout",
     "output_type": "stream",
     "text": [
      "2826\n",
      "2833\n"
     ]
    },
    {
     "name": "stderr",
     "output_type": "stream",
     "text": [
      "/Users/vladimir.levin/Yandex.Disk.localized/01_Documents/01_Study/0_LUX/01_PhD/Drafts/Project3/kaggle_volatility/support_file.py:1675: RuntimeWarning: invalid value encountered in true_divide\n",
      "  w_ask = np.sum(df_book[(start_time <= df_book['seconds_in_bucket']) & (df_book['seconds_in_bucket'] < end_time)]['ask_price1'] * df_book[(start_time <= df_book['seconds_in_bucket']) & (df_book['seconds_in_bucket'] < end_time)]['time_length']) / (end_time - start_time)\n",
      "/Users/vladimir.levin/Yandex.Disk.localized/01_Documents/01_Study/0_LUX/01_PhD/Drafts/Project3/kaggle_volatility/support_file.py:1676: RuntimeWarning: invalid value encountered in true_divide\n",
      "  w_bid = np.sum(df_book[(start_time <= df_book['seconds_in_bucket']) & (df_book['seconds_in_bucket'] < end_time)]['bid_price1'] * df_book[(start_time <= df_book['seconds_in_bucket']) & (df_book['seconds_in_bucket'] < end_time)]['time_length']) / (end_time - start_time)\n"
     ]
    },
    {
     "name": "stdout",
     "output_type": "stream",
     "text": [
      "2844\n",
      "2846\n",
      "2867"
     ]
    },
    {
     "name": "stderr",
     "output_type": "stream",
     "text": [
      "/Users/vladimir.levin/Yandex.Disk.localized/01_Documents/01_Study/0_LUX/01_PhD/Drafts/Project3/kaggle_volatility/support_file.py:1675: RuntimeWarning: invalid value encountered in true_divide\n",
      "  w_ask = np.sum(df_book[(start_time <= df_book['seconds_in_bucket']) & (df_book['seconds_in_bucket'] < end_time)]['ask_price1'] * df_book[(start_time <= df_book['seconds_in_bucket']) & (df_book['seconds_in_bucket'] < end_time)]['time_length']) / (end_time - start_time)\n",
      "/Users/vladimir.levin/Yandex.Disk.localized/01_Documents/01_Study/0_LUX/01_PhD/Drafts/Project3/kaggle_volatility/support_file.py:1676: RuntimeWarning: invalid value encountered in true_divide\n",
      "  w_bid = np.sum(df_book[(start_time <= df_book['seconds_in_bucket']) & (df_book['seconds_in_bucket'] < end_time)]['bid_price1'] * df_book[(start_time <= df_book['seconds_in_bucket']) & (df_book['seconds_in_bucket'] < end_time)]['time_length']) / (end_time - start_time)\n",
      "/Users/vladimir.levin/Yandex.Disk.localized/01_Documents/01_Study/0_LUX/01_PhD/Drafts/Project3/kaggle_volatility/support_file.py:1675: RuntimeWarning: invalid value encountered in true_divide\n",
      "  w_ask = np.sum(df_book[(start_time <= df_book['seconds_in_bucket']) & (df_book['seconds_in_bucket'] < end_time)]['ask_price1'] * df_book[(start_time <= df_book['seconds_in_bucket']) & (df_book['seconds_in_bucket'] < end_time)]['time_length']) / (end_time - start_time)\n",
      "/Users/vladimir.levin/Yandex.Disk.localized/01_Documents/01_Study/0_LUX/01_PhD/Drafts/Project3/kaggle_volatility/support_file.py:1676: RuntimeWarning: invalid value encountered in true_divide\n",
      "  w_bid = np.sum(df_book[(start_time <= df_book['seconds_in_bucket']) & (df_book['seconds_in_bucket'] < end_time)]['bid_price1'] * df_book[(start_time <= df_book['seconds_in_bucket']) & (df_book['seconds_in_bucket'] < end_time)]['time_length']) / (end_time - start_time)\n"
     ]
    },
    {
     "name": "stdout",
     "output_type": "stream",
     "text": [
      "\n",
      "2876\n",
      "2881\n",
      "2883\n",
      "2891\n",
      "2892\n",
      "2893\n",
      "2902\n",
      "2903\n",
      "2908\n",
      "2917\n"
     ]
    },
    {
     "name": "stderr",
     "output_type": "stream",
     "text": [
      "/Users/vladimir.levin/Yandex.Disk.localized/01_Documents/01_Study/0_LUX/01_PhD/Drafts/Project3/kaggle_volatility/support_file.py:1675: RuntimeWarning: invalid value encountered in true_divide\n",
      "  w_ask = np.sum(df_book[(start_time <= df_book['seconds_in_bucket']) & (df_book['seconds_in_bucket'] < end_time)]['ask_price1'] * df_book[(start_time <= df_book['seconds_in_bucket']) & (df_book['seconds_in_bucket'] < end_time)]['time_length']) / (end_time - start_time)\n",
      "/Users/vladimir.levin/Yandex.Disk.localized/01_Documents/01_Study/0_LUX/01_PhD/Drafts/Project3/kaggle_volatility/support_file.py:1676: RuntimeWarning: invalid value encountered in true_divide\n",
      "  w_bid = np.sum(df_book[(start_time <= df_book['seconds_in_bucket']) & (df_book['seconds_in_bucket'] < end_time)]['bid_price1'] * df_book[(start_time <= df_book['seconds_in_bucket']) & (df_book['seconds_in_bucket'] < end_time)]['time_length']) / (end_time - start_time)\n"
     ]
    },
    {
     "name": "stdout",
     "output_type": "stream",
     "text": [
      "2929\n",
      "2932\n",
      "2946\n",
      "2956\n",
      "2969\n",
      "2979\n"
     ]
    },
    {
     "name": "stderr",
     "output_type": "stream",
     "text": [
      "/Users/vladimir.levin/Yandex.Disk.localized/01_Documents/01_Study/0_LUX/01_PhD/Drafts/Project3/kaggle_volatility/support_file.py:1675: RuntimeWarning: invalid value encountered in true_divide\n",
      "  w_ask = np.sum(df_book[(start_time <= df_book['seconds_in_bucket']) & (df_book['seconds_in_bucket'] < end_time)]['ask_price1'] * df_book[(start_time <= df_book['seconds_in_bucket']) & (df_book['seconds_in_bucket'] < end_time)]['time_length']) / (end_time - start_time)\n",
      "/Users/vladimir.levin/Yandex.Disk.localized/01_Documents/01_Study/0_LUX/01_PhD/Drafts/Project3/kaggle_volatility/support_file.py:1676: RuntimeWarning: invalid value encountered in true_divide\n",
      "  w_bid = np.sum(df_book[(start_time <= df_book['seconds_in_bucket']) & (df_book['seconds_in_bucket'] < end_time)]['bid_price1'] * df_book[(start_time <= df_book['seconds_in_bucket']) & (df_book['seconds_in_bucket'] < end_time)]['time_length']) / (end_time - start_time)\n",
      "/Users/vladimir.levin/Yandex.Disk.localized/01_Documents/01_Study/0_LUX/01_PhD/Drafts/Project3/kaggle_volatility/support_file.py:1675: RuntimeWarning: invalid value encountered in true_divide\n",
      "  w_ask = np.sum(df_book[(start_time <= df_book['seconds_in_bucket']) & (df_book['seconds_in_bucket'] < end_time)]['ask_price1'] * df_book[(start_time <= df_book['seconds_in_bucket']) & (df_book['seconds_in_bucket'] < end_time)]['time_length']) / (end_time - start_time)\n",
      "/Users/vladimir.levin/Yandex.Disk.localized/01_Documents/01_Study/0_LUX/01_PhD/Drafts/Project3/kaggle_volatility/support_file.py:1676: RuntimeWarning: invalid value encountered in true_divide\n",
      "  w_bid = np.sum(df_book[(start_time <= df_book['seconds_in_bucket']) & (df_book['seconds_in_bucket'] < end_time)]['bid_price1'] * df_book[(start_time <= df_book['seconds_in_bucket']) & (df_book['seconds_in_bucket'] < end_time)]['time_length']) / (end_time - start_time)\n"
     ]
    },
    {
     "name": "stdout",
     "output_type": "stream",
     "text": [
      "2982\n",
      "2992\n",
      "2999\n"
     ]
    },
    {
     "name": "stderr",
     "output_type": "stream",
     "text": [
      "/Users/vladimir.levin/Yandex.Disk.localized/01_Documents/01_Study/0_LUX/01_PhD/Drafts/Project3/kaggle_volatility/support_file.py:1675: RuntimeWarning: invalid value encountered in true_divide\n",
      "  w_ask = np.sum(df_book[(start_time <= df_book['seconds_in_bucket']) & (df_book['seconds_in_bucket'] < end_time)]['ask_price1'] * df_book[(start_time <= df_book['seconds_in_bucket']) & (df_book['seconds_in_bucket'] < end_time)]['time_length']) / (end_time - start_time)\n",
      "/Users/vladimir.levin/Yandex.Disk.localized/01_Documents/01_Study/0_LUX/01_PhD/Drafts/Project3/kaggle_volatility/support_file.py:1676: RuntimeWarning: invalid value encountered in true_divide\n",
      "  w_bid = np.sum(df_book[(start_time <= df_book['seconds_in_bucket']) & (df_book['seconds_in_bucket'] < end_time)]['bid_price1'] * df_book[(start_time <= df_book['seconds_in_bucket']) & (df_book['seconds_in_bucket'] < end_time)]['time_length']) / (end_time - start_time)\n",
      "/Users/vladimir.levin/Yandex.Disk.localized/01_Documents/01_Study/0_LUX/01_PhD/Drafts/Project3/kaggle_volatility/support_file.py:1675: RuntimeWarning: invalid value encountered in true_divide\n",
      "  w_ask = np.sum(df_book[(start_time <= df_book['seconds_in_bucket']) & (df_book['seconds_in_bucket'] < end_time)]['ask_price1'] * df_book[(start_time <= df_book['seconds_in_bucket']) & (df_book['seconds_in_bucket'] < end_time)]['time_length']) / (end_time - start_time)\n",
      "/Users/vladimir.levin/Yandex.Disk.localized/01_Documents/01_Study/0_LUX/01_PhD/Drafts/Project3/kaggle_volatility/support_file.py:1676: RuntimeWarning: invalid value encountered in true_divide\n",
      "  w_bid = np.sum(df_book[(start_time <= df_book['seconds_in_bucket']) & (df_book['seconds_in_bucket'] < end_time)]['bid_price1'] * df_book[(start_time <= df_book['seconds_in_bucket']) & (df_book['seconds_in_bucket'] < end_time)]['time_length']) / (end_time - start_time)\n"
     ]
    },
    {
     "name": "stdout",
     "output_type": "stream",
     "text": [
      "3001\n",
      "3002\n",
      "3008\n",
      "3009\n",
      "3012\n",
      "3017\n",
      "3025\n",
      "3029\n",
      "3033\n",
      "3044\n",
      "3046\n",
      "3069\n",
      "3092\n",
      "3098\n",
      "3108\n",
      "3113\n",
      "3123\n",
      "3130\n",
      "3135\n",
      "3138\n",
      "3146\n",
      "3152\n",
      "3154\n",
      "3160\n",
      "3179\n",
      "3187\n",
      "3211\n",
      "3223\n",
      "3233\n",
      "3270\n",
      "3280\n",
      "3291\n",
      "3318\n"
     ]
    },
    {
     "name": "stderr",
     "output_type": "stream",
     "text": [
      "/Users/vladimir.levin/Yandex.Disk.localized/01_Documents/01_Study/0_LUX/01_PhD/Drafts/Project3/kaggle_volatility/support_file.py:1675: RuntimeWarning: invalid value encountered in true_divide\n",
      "  w_ask = np.sum(df_book[(start_time <= df_book['seconds_in_bucket']) & (df_book['seconds_in_bucket'] < end_time)]['ask_price1'] * df_book[(start_time <= df_book['seconds_in_bucket']) & (df_book['seconds_in_bucket'] < end_time)]['time_length']) / (end_time - start_time)\n",
      "/Users/vladimir.levin/Yandex.Disk.localized/01_Documents/01_Study/0_LUX/01_PhD/Drafts/Project3/kaggle_volatility/support_file.py:1676: RuntimeWarning: invalid value encountered in true_divide\n",
      "  w_bid = np.sum(df_book[(start_time <= df_book['seconds_in_bucket']) & (df_book['seconds_in_bucket'] < end_time)]['bid_price1'] * df_book[(start_time <= df_book['seconds_in_bucket']) & (df_book['seconds_in_bucket'] < end_time)]['time_length']) / (end_time - start_time)\n"
     ]
    },
    {
     "name": "stdout",
     "output_type": "stream",
     "text": [
      "3322\n",
      "3323\n",
      "3327\n",
      "3328\n",
      "3333\n",
      "3367\n"
     ]
    },
    {
     "name": "stderr",
     "output_type": "stream",
     "text": [
      "/Users/vladimir.levin/Yandex.Disk.localized/01_Documents/01_Study/0_LUX/01_PhD/Drafts/Project3/kaggle_volatility/support_file.py:1675: RuntimeWarning: invalid value encountered in true_divide\n",
      "  w_ask = np.sum(df_book[(start_time <= df_book['seconds_in_bucket']) & (df_book['seconds_in_bucket'] < end_time)]['ask_price1'] * df_book[(start_time <= df_book['seconds_in_bucket']) & (df_book['seconds_in_bucket'] < end_time)]['time_length']) / (end_time - start_time)\n",
      "/Users/vladimir.levin/Yandex.Disk.localized/01_Documents/01_Study/0_LUX/01_PhD/Drafts/Project3/kaggle_volatility/support_file.py:1676: RuntimeWarning: invalid value encountered in true_divide\n",
      "  w_bid = np.sum(df_book[(start_time <= df_book['seconds_in_bucket']) & (df_book['seconds_in_bucket'] < end_time)]['bid_price1'] * df_book[(start_time <= df_book['seconds_in_bucket']) & (df_book['seconds_in_bucket'] < end_time)]['time_length']) / (end_time - start_time)\n"
     ]
    },
    {
     "name": "stdout",
     "output_type": "stream",
     "text": [
      "3373\n",
      "3378\n",
      "3381\n",
      "3384\n",
      "3389\n",
      "3396\n",
      "3399\n",
      "3404\n"
     ]
    },
    {
     "name": "stderr",
     "output_type": "stream",
     "text": [
      "/Users/vladimir.levin/Yandex.Disk.localized/01_Documents/01_Study/0_LUX/01_PhD/Drafts/Project3/kaggle_volatility/support_file.py:1675: RuntimeWarning: invalid value encountered in true_divide\n",
      "  w_ask = np.sum(df_book[(start_time <= df_book['seconds_in_bucket']) & (df_book['seconds_in_bucket'] < end_time)]['ask_price1'] * df_book[(start_time <= df_book['seconds_in_bucket']) & (df_book['seconds_in_bucket'] < end_time)]['time_length']) / (end_time - start_time)\n",
      "/Users/vladimir.levin/Yandex.Disk.localized/01_Documents/01_Study/0_LUX/01_PhD/Drafts/Project3/kaggle_volatility/support_file.py:1676: RuntimeWarning: invalid value encountered in true_divide\n",
      "  w_bid = np.sum(df_book[(start_time <= df_book['seconds_in_bucket']) & (df_book['seconds_in_bucket'] < end_time)]['bid_price1'] * df_book[(start_time <= df_book['seconds_in_bucket']) & (df_book['seconds_in_bucket'] < end_time)]['time_length']) / (end_time - start_time)\n"
     ]
    },
    {
     "name": "stdout",
     "output_type": "stream",
     "text": [
      "3406\n",
      "3414\n",
      "3427\n",
      "3431\n",
      "3445\n"
     ]
    },
    {
     "name": "stderr",
     "output_type": "stream",
     "text": [
      "/Users/vladimir.levin/Yandex.Disk.localized/01_Documents/01_Study/0_LUX/01_PhD/Drafts/Project3/kaggle_volatility/support_file.py:1675: RuntimeWarning: invalid value encountered in true_divide\n",
      "  w_ask = np.sum(df_book[(start_time <= df_book['seconds_in_bucket']) & (df_book['seconds_in_bucket'] < end_time)]['ask_price1'] * df_book[(start_time <= df_book['seconds_in_bucket']) & (df_book['seconds_in_bucket'] < end_time)]['time_length']) / (end_time - start_time)\n",
      "/Users/vladimir.levin/Yandex.Disk.localized/01_Documents/01_Study/0_LUX/01_PhD/Drafts/Project3/kaggle_volatility/support_file.py:1676: RuntimeWarning: invalid value encountered in true_divide\n",
      "  w_bid = np.sum(df_book[(start_time <= df_book['seconds_in_bucket']) & (df_book['seconds_in_bucket'] < end_time)]['bid_price1'] * df_book[(start_time <= df_book['seconds_in_bucket']) & (df_book['seconds_in_bucket'] < end_time)]['time_length']) / (end_time - start_time)\n"
     ]
    },
    {
     "name": "stdout",
     "output_type": "stream",
     "text": [
      "3457\n",
      "3465\n",
      "3469\n",
      "3484\n",
      "3486\n"
     ]
    },
    {
     "name": "stderr",
     "output_type": "stream",
     "text": [
      "/Users/vladimir.levin/Yandex.Disk.localized/01_Documents/01_Study/0_LUX/01_PhD/Drafts/Project3/kaggle_volatility/support_file.py:1675: RuntimeWarning: invalid value encountered in true_divide\n",
      "  w_ask = np.sum(df_book[(start_time <= df_book['seconds_in_bucket']) & (df_book['seconds_in_bucket'] < end_time)]['ask_price1'] * df_book[(start_time <= df_book['seconds_in_bucket']) & (df_book['seconds_in_bucket'] < end_time)]['time_length']) / (end_time - start_time)\n",
      "/Users/vladimir.levin/Yandex.Disk.localized/01_Documents/01_Study/0_LUX/01_PhD/Drafts/Project3/kaggle_volatility/support_file.py:1676: RuntimeWarning: invalid value encountered in true_divide\n",
      "  w_bid = np.sum(df_book[(start_time <= df_book['seconds_in_bucket']) & (df_book['seconds_in_bucket'] < end_time)]['bid_price1'] * df_book[(start_time <= df_book['seconds_in_bucket']) & (df_book['seconds_in_bucket'] < end_time)]['time_length']) / (end_time - start_time)\n"
     ]
    },
    {
     "name": "stdout",
     "output_type": "stream",
     "text": [
      "3513\n",
      "3516\n",
      "3531\n",
      "3536\n",
      "3552\n",
      "3564\n",
      "3567\n",
      "3580\n",
      "3587\n",
      "3596\n",
      "3601\n",
      "3607\n",
      "3622\n",
      "3626\n"
     ]
    },
    {
     "name": "stderr",
     "output_type": "stream",
     "text": [
      "/Users/vladimir.levin/Yandex.Disk.localized/01_Documents/01_Study/0_LUX/01_PhD/Drafts/Project3/kaggle_volatility/support_file.py:1675: RuntimeWarning: invalid value encountered in true_divide\n",
      "  w_ask = np.sum(df_book[(start_time <= df_book['seconds_in_bucket']) & (df_book['seconds_in_bucket'] < end_time)]['ask_price1'] * df_book[(start_time <= df_book['seconds_in_bucket']) & (df_book['seconds_in_bucket'] < end_time)]['time_length']) / (end_time - start_time)\n",
      "/Users/vladimir.levin/Yandex.Disk.localized/01_Documents/01_Study/0_LUX/01_PhD/Drafts/Project3/kaggle_volatility/support_file.py:1676: RuntimeWarning: invalid value encountered in true_divide\n",
      "  w_bid = np.sum(df_book[(start_time <= df_book['seconds_in_bucket']) & (df_book['seconds_in_bucket'] < end_time)]['bid_price1'] * df_book[(start_time <= df_book['seconds_in_bucket']) & (df_book['seconds_in_bucket'] < end_time)]['time_length']) / (end_time - start_time)\n"
     ]
    },
    {
     "name": "stdout",
     "output_type": "stream",
     "text": [
      "3640\n",
      "3650\n",
      "3655\n",
      "3660\n",
      "3661\n"
     ]
    },
    {
     "name": "stderr",
     "output_type": "stream",
     "text": [
      "/Users/vladimir.levin/Yandex.Disk.localized/01_Documents/01_Study/0_LUX/01_PhD/Drafts/Project3/kaggle_volatility/support_file.py:1675: RuntimeWarning: invalid value encountered in true_divide\n",
      "  w_ask = np.sum(df_book[(start_time <= df_book['seconds_in_bucket']) & (df_book['seconds_in_bucket'] < end_time)]['ask_price1'] * df_book[(start_time <= df_book['seconds_in_bucket']) & (df_book['seconds_in_bucket'] < end_time)]['time_length']) / (end_time - start_time)\n",
      "/Users/vladimir.levin/Yandex.Disk.localized/01_Documents/01_Study/0_LUX/01_PhD/Drafts/Project3/kaggle_volatility/support_file.py:1676: RuntimeWarning: invalid value encountered in true_divide\n",
      "  w_bid = np.sum(df_book[(start_time <= df_book['seconds_in_bucket']) & (df_book['seconds_in_bucket'] < end_time)]['bid_price1'] * df_book[(start_time <= df_book['seconds_in_bucket']) & (df_book['seconds_in_bucket'] < end_time)]['time_length']) / (end_time - start_time)\n"
     ]
    },
    {
     "name": "stdout",
     "output_type": "stream",
     "text": [
      "3668\n",
      "3685\n"
     ]
    },
    {
     "name": "stderr",
     "output_type": "stream",
     "text": [
      "/Users/vladimir.levin/Yandex.Disk.localized/01_Documents/01_Study/0_LUX/01_PhD/Drafts/Project3/kaggle_volatility/support_file.py:1675: RuntimeWarning: invalid value encountered in true_divide\n",
      "  w_ask = np.sum(df_book[(start_time <= df_book['seconds_in_bucket']) & (df_book['seconds_in_bucket'] < end_time)]['ask_price1'] * df_book[(start_time <= df_book['seconds_in_bucket']) & (df_book['seconds_in_bucket'] < end_time)]['time_length']) / (end_time - start_time)\n",
      "/Users/vladimir.levin/Yandex.Disk.localized/01_Documents/01_Study/0_LUX/01_PhD/Drafts/Project3/kaggle_volatility/support_file.py:1676: RuntimeWarning: invalid value encountered in true_divide\n",
      "  w_bid = np.sum(df_book[(start_time <= df_book['seconds_in_bucket']) & (df_book['seconds_in_bucket'] < end_time)]['bid_price1'] * df_book[(start_time <= df_book['seconds_in_bucket']) & (df_book['seconds_in_bucket'] < end_time)]['time_length']) / (end_time - start_time)\n"
     ]
    },
    {
     "name": "stdout",
     "output_type": "stream",
     "text": [
      "3686\n",
      "3694\n",
      "3703\n",
      "3711\n",
      "3720\n",
      "3721"
     ]
    },
    {
     "name": "stderr",
     "output_type": "stream",
     "text": [
      "/Users/vladimir.levin/Yandex.Disk.localized/01_Documents/01_Study/0_LUX/01_PhD/Drafts/Project3/kaggle_volatility/support_file.py:1675: RuntimeWarning: invalid value encountered in true_divide\n",
      "  w_ask = np.sum(df_book[(start_time <= df_book['seconds_in_bucket']) & (df_book['seconds_in_bucket'] < end_time)]['ask_price1'] * df_book[(start_time <= df_book['seconds_in_bucket']) & (df_book['seconds_in_bucket'] < end_time)]['time_length']) / (end_time - start_time)\n",
      "/Users/vladimir.levin/Yandex.Disk.localized/01_Documents/01_Study/0_LUX/01_PhD/Drafts/Project3/kaggle_volatility/support_file.py:1676: RuntimeWarning: invalid value encountered in true_divide\n",
      "  w_bid = np.sum(df_book[(start_time <= df_book['seconds_in_bucket']) & (df_book['seconds_in_bucket'] < end_time)]['bid_price1'] * df_book[(start_time <= df_book['seconds_in_bucket']) & (df_book['seconds_in_bucket'] < end_time)]['time_length']) / (end_time - start_time)\n"
     ]
    },
    {
     "name": "stdout",
     "output_type": "stream",
     "text": [
      "\n",
      "3732\n"
     ]
    },
    {
     "name": "stderr",
     "output_type": "stream",
     "text": [
      "/Users/vladimir.levin/Yandex.Disk.localized/01_Documents/01_Study/0_LUX/01_PhD/Drafts/Project3/kaggle_volatility/support_file.py:1675: RuntimeWarning: invalid value encountered in true_divide\n",
      "  w_ask = np.sum(df_book[(start_time <= df_book['seconds_in_bucket']) & (df_book['seconds_in_bucket'] < end_time)]['ask_price1'] * df_book[(start_time <= df_book['seconds_in_bucket']) & (df_book['seconds_in_bucket'] < end_time)]['time_length']) / (end_time - start_time)\n",
      "/Users/vladimir.levin/Yandex.Disk.localized/01_Documents/01_Study/0_LUX/01_PhD/Drafts/Project3/kaggle_volatility/support_file.py:1676: RuntimeWarning: invalid value encountered in true_divide\n",
      "  w_bid = np.sum(df_book[(start_time <= df_book['seconds_in_bucket']) & (df_book['seconds_in_bucket'] < end_time)]['bid_price1'] * df_book[(start_time <= df_book['seconds_in_bucket']) & (df_book['seconds_in_bucket'] < end_time)]['time_length']) / (end_time - start_time)\n"
     ]
    },
    {
     "name": "stdout",
     "output_type": "stream",
     "text": [
      "3735\n",
      "3737\n",
      "3758\n",
      "3762\n",
      "3797\n",
      "3804\n",
      "3836\n",
      "3846\n",
      "3877\n",
      "3884\n",
      "3886\n",
      "3908\n",
      "3921\n",
      "3922\n"
     ]
    },
    {
     "name": "stderr",
     "output_type": "stream",
     "text": [
      "/Users/vladimir.levin/Yandex.Disk.localized/01_Documents/01_Study/0_LUX/01_PhD/Drafts/Project3/kaggle_volatility/support_file.py:1675: RuntimeWarning: invalid value encountered in true_divide\n",
      "  w_ask = np.sum(df_book[(start_time <= df_book['seconds_in_bucket']) & (df_book['seconds_in_bucket'] < end_time)]['ask_price1'] * df_book[(start_time <= df_book['seconds_in_bucket']) & (df_book['seconds_in_bucket'] < end_time)]['time_length']) / (end_time - start_time)\n",
      "/Users/vladimir.levin/Yandex.Disk.localized/01_Documents/01_Study/0_LUX/01_PhD/Drafts/Project3/kaggle_volatility/support_file.py:1676: RuntimeWarning: invalid value encountered in true_divide\n",
      "  w_bid = np.sum(df_book[(start_time <= df_book['seconds_in_bucket']) & (df_book['seconds_in_bucket'] < end_time)]['bid_price1'] * df_book[(start_time <= df_book['seconds_in_bucket']) & (df_book['seconds_in_bucket'] < end_time)]['time_length']) / (end_time - start_time)\n"
     ]
    },
    {
     "name": "stdout",
     "output_type": "stream",
     "text": [
      "3931\n",
      "3955\n",
      "3957\n",
      "3961\n",
      "3962\n",
      "3974\n",
      "3987\n",
      "3999\n"
     ]
    },
    {
     "name": "stderr",
     "output_type": "stream",
     "text": [
      "/Users/vladimir.levin/Yandex.Disk.localized/01_Documents/01_Study/0_LUX/01_PhD/Drafts/Project3/kaggle_volatility/support_file.py:1675: RuntimeWarning: invalid value encountered in true_divide\n",
      "  w_ask = np.sum(df_book[(start_time <= df_book['seconds_in_bucket']) & (df_book['seconds_in_bucket'] < end_time)]['ask_price1'] * df_book[(start_time <= df_book['seconds_in_bucket']) & (df_book['seconds_in_bucket'] < end_time)]['time_length']) / (end_time - start_time)\n",
      "/Users/vladimir.levin/Yandex.Disk.localized/01_Documents/01_Study/0_LUX/01_PhD/Drafts/Project3/kaggle_volatility/support_file.py:1676: RuntimeWarning: invalid value encountered in true_divide\n",
      "  w_bid = np.sum(df_book[(start_time <= df_book['seconds_in_bucket']) & (df_book['seconds_in_bucket'] < end_time)]['bid_price1'] * df_book[(start_time <= df_book['seconds_in_bucket']) & (df_book['seconds_in_bucket'] < end_time)]['time_length']) / (end_time - start_time)\n"
     ]
    },
    {
     "name": "stdout",
     "output_type": "stream",
     "text": [
      "4004\n",
      "4013\n",
      "4027\n"
     ]
    },
    {
     "name": "stderr",
     "output_type": "stream",
     "text": [
      "/Users/vladimir.levin/Yandex.Disk.localized/01_Documents/01_Study/0_LUX/01_PhD/Drafts/Project3/kaggle_volatility/support_file.py:1675: RuntimeWarning: invalid value encountered in true_divide\n",
      "  w_ask = np.sum(df_book[(start_time <= df_book['seconds_in_bucket']) & (df_book['seconds_in_bucket'] < end_time)]['ask_price1'] * df_book[(start_time <= df_book['seconds_in_bucket']) & (df_book['seconds_in_bucket'] < end_time)]['time_length']) / (end_time - start_time)\n",
      "/Users/vladimir.levin/Yandex.Disk.localized/01_Documents/01_Study/0_LUX/01_PhD/Drafts/Project3/kaggle_volatility/support_file.py:1676: RuntimeWarning: invalid value encountered in true_divide\n",
      "  w_bid = np.sum(df_book[(start_time <= df_book['seconds_in_bucket']) & (df_book['seconds_in_bucket'] < end_time)]['bid_price1'] * df_book[(start_time <= df_book['seconds_in_bucket']) & (df_book['seconds_in_bucket'] < end_time)]['time_length']) / (end_time - start_time)\n"
     ]
    },
    {
     "name": "stdout",
     "output_type": "stream",
     "text": [
      "4031\n",
      "4032\n",
      "4034\n",
      "4037\n",
      "4038\n",
      "4043\n",
      "4052\n"
     ]
    },
    {
     "name": "stderr",
     "output_type": "stream",
     "text": [
      "/Users/vladimir.levin/Yandex.Disk.localized/01_Documents/01_Study/0_LUX/01_PhD/Drafts/Project3/kaggle_volatility/support_file.py:1675: RuntimeWarning: invalid value encountered in true_divide\n",
      "  w_ask = np.sum(df_book[(start_time <= df_book['seconds_in_bucket']) & (df_book['seconds_in_bucket'] < end_time)]['ask_price1'] * df_book[(start_time <= df_book['seconds_in_bucket']) & (df_book['seconds_in_bucket'] < end_time)]['time_length']) / (end_time - start_time)\n",
      "/Users/vladimir.levin/Yandex.Disk.localized/01_Documents/01_Study/0_LUX/01_PhD/Drafts/Project3/kaggle_volatility/support_file.py:1676: RuntimeWarning: invalid value encountered in true_divide\n",
      "  w_bid = np.sum(df_book[(start_time <= df_book['seconds_in_bucket']) & (df_book['seconds_in_bucket'] < end_time)]['bid_price1'] * df_book[(start_time <= df_book['seconds_in_bucket']) & (df_book['seconds_in_bucket'] < end_time)]['time_length']) / (end_time - start_time)\n",
      "/Users/vladimir.levin/Yandex.Disk.localized/01_Documents/01_Study/0_LUX/01_PhD/Drafts/Project3/kaggle_volatility/support_file.py:1675: RuntimeWarning: invalid value encountered in true_divide\n",
      "  w_ask = np.sum(df_book[(start_time <= df_book['seconds_in_bucket']) & (df_book['seconds_in_bucket'] < end_time)]['ask_price1'] * df_book[(start_time <= df_book['seconds_in_bucket']) & (df_book['seconds_in_bucket'] < end_time)]['time_length']) / (end_time - start_time)\n",
      "/Users/vladimir.levin/Yandex.Disk.localized/01_Documents/01_Study/0_LUX/01_PhD/Drafts/Project3/kaggle_volatility/support_file.py:1676: RuntimeWarning: invalid value encountered in true_divide\n",
      "  w_bid = np.sum(df_book[(start_time <= df_book['seconds_in_bucket']) & (df_book['seconds_in_bucket'] < end_time)]['bid_price1'] * df_book[(start_time <= df_book['seconds_in_bucket']) & (df_book['seconds_in_bucket'] < end_time)]['time_length']) / (end_time - start_time)\n"
     ]
    },
    {
     "name": "stdout",
     "output_type": "stream",
     "text": [
      "4060\n",
      "4067\n",
      "4069\n",
      "4071\n",
      "4072\n",
      "4075\n",
      "4079\n"
     ]
    },
    {
     "name": "stderr",
     "output_type": "stream",
     "text": [
      "/Users/vladimir.levin/Yandex.Disk.localized/01_Documents/01_Study/0_LUX/01_PhD/Drafts/Project3/kaggle_volatility/support_file.py:1675: RuntimeWarning: invalid value encountered in true_divide\n",
      "  w_ask = np.sum(df_book[(start_time <= df_book['seconds_in_bucket']) & (df_book['seconds_in_bucket'] < end_time)]['ask_price1'] * df_book[(start_time <= df_book['seconds_in_bucket']) & (df_book['seconds_in_bucket'] < end_time)]['time_length']) / (end_time - start_time)\n",
      "/Users/vladimir.levin/Yandex.Disk.localized/01_Documents/01_Study/0_LUX/01_PhD/Drafts/Project3/kaggle_volatility/support_file.py:1676: RuntimeWarning: invalid value encountered in true_divide\n",
      "  w_bid = np.sum(df_book[(start_time <= df_book['seconds_in_bucket']) & (df_book['seconds_in_bucket'] < end_time)]['bid_price1'] * df_book[(start_time <= df_book['seconds_in_bucket']) & (df_book['seconds_in_bucket'] < end_time)]['time_length']) / (end_time - start_time)\n"
     ]
    },
    {
     "name": "stdout",
     "output_type": "stream",
     "text": [
      "4084\n",
      "4089\n",
      "4091\n",
      "4103\n",
      "4106\n"
     ]
    },
    {
     "name": "stderr",
     "output_type": "stream",
     "text": [
      "/Users/vladimir.levin/Yandex.Disk.localized/01_Documents/01_Study/0_LUX/01_PhD/Drafts/Project3/kaggle_volatility/support_file.py:1675: RuntimeWarning: invalid value encountered in true_divide\n",
      "  w_ask = np.sum(df_book[(start_time <= df_book['seconds_in_bucket']) & (df_book['seconds_in_bucket'] < end_time)]['ask_price1'] * df_book[(start_time <= df_book['seconds_in_bucket']) & (df_book['seconds_in_bucket'] < end_time)]['time_length']) / (end_time - start_time)\n",
      "/Users/vladimir.levin/Yandex.Disk.localized/01_Documents/01_Study/0_LUX/01_PhD/Drafts/Project3/kaggle_volatility/support_file.py:1676: RuntimeWarning: invalid value encountered in true_divide\n",
      "  w_bid = np.sum(df_book[(start_time <= df_book['seconds_in_bucket']) & (df_book['seconds_in_bucket'] < end_time)]['bid_price1'] * df_book[(start_time <= df_book['seconds_in_bucket']) & (df_book['seconds_in_bucket'] < end_time)]['time_length']) / (end_time - start_time)\n"
     ]
    },
    {
     "name": "stdout",
     "output_type": "stream",
     "text": [
      "4131\n",
      "4132\n",
      "4138\n",
      "4140\n",
      "4142\n",
      "4155\n",
      "4156\n",
      "4158\n",
      "4159\n",
      "4173\n",
      "4186\n",
      "4193\n",
      "4201\n",
      "4209\n",
      "4219\n",
      "4226\n",
      "4257\n",
      "4264\n",
      "4265\n",
      "4266\n",
      "4275\n",
      "4293\n",
      "4294\n",
      "4302\n",
      "4310\n",
      "4318\n",
      "4329\n",
      "4361\n"
     ]
    },
    {
     "name": "stderr",
     "output_type": "stream",
     "text": [
      "/Users/vladimir.levin/Yandex.Disk.localized/01_Documents/01_Study/0_LUX/01_PhD/Drafts/Project3/kaggle_volatility/support_file.py:1675: RuntimeWarning: invalid value encountered in true_divide\n",
      "  w_ask = np.sum(df_book[(start_time <= df_book['seconds_in_bucket']) & (df_book['seconds_in_bucket'] < end_time)]['ask_price1'] * df_book[(start_time <= df_book['seconds_in_bucket']) & (df_book['seconds_in_bucket'] < end_time)]['time_length']) / (end_time - start_time)\n",
      "/Users/vladimir.levin/Yandex.Disk.localized/01_Documents/01_Study/0_LUX/01_PhD/Drafts/Project3/kaggle_volatility/support_file.py:1676: RuntimeWarning: invalid value encountered in true_divide\n",
      "  w_bid = np.sum(df_book[(start_time <= df_book['seconds_in_bucket']) & (df_book['seconds_in_bucket'] < end_time)]['bid_price1'] * df_book[(start_time <= df_book['seconds_in_bucket']) & (df_book['seconds_in_bucket'] < end_time)]['time_length']) / (end_time - start_time)\n"
     ]
    },
    {
     "name": "stdout",
     "output_type": "stream",
     "text": [
      "4364\n",
      "4367\n"
     ]
    },
    {
     "name": "stderr",
     "output_type": "stream",
     "text": [
      "/Users/vladimir.levin/Yandex.Disk.localized/01_Documents/01_Study/0_LUX/01_PhD/Drafts/Project3/kaggle_volatility/support_file.py:1675: RuntimeWarning: invalid value encountered in true_divide\n",
      "  w_ask = np.sum(df_book[(start_time <= df_book['seconds_in_bucket']) & (df_book['seconds_in_bucket'] < end_time)]['ask_price1'] * df_book[(start_time <= df_book['seconds_in_bucket']) & (df_book['seconds_in_bucket'] < end_time)]['time_length']) / (end_time - start_time)\n",
      "/Users/vladimir.levin/Yandex.Disk.localized/01_Documents/01_Study/0_LUX/01_PhD/Drafts/Project3/kaggle_volatility/support_file.py:1676: RuntimeWarning: invalid value encountered in true_divide\n",
      "  w_bid = np.sum(df_book[(start_time <= df_book['seconds_in_bucket']) & (df_book['seconds_in_bucket'] < end_time)]['bid_price1'] * df_book[(start_time <= df_book['seconds_in_bucket']) & (df_book['seconds_in_bucket'] < end_time)]['time_length']) / (end_time - start_time)\n"
     ]
    },
    {
     "name": "stdout",
     "output_type": "stream",
     "text": [
      "4371\n",
      "4377\n",
      "4385\n",
      "4388\n",
      "4400\n",
      "4403\n"
     ]
    },
    {
     "name": "stderr",
     "output_type": "stream",
     "text": [
      "/Users/vladimir.levin/Yandex.Disk.localized/01_Documents/01_Study/0_LUX/01_PhD/Drafts/Project3/kaggle_volatility/support_file.py:1675: RuntimeWarning: invalid value encountered in true_divide\n",
      "  w_ask = np.sum(df_book[(start_time <= df_book['seconds_in_bucket']) & (df_book['seconds_in_bucket'] < end_time)]['ask_price1'] * df_book[(start_time <= df_book['seconds_in_bucket']) & (df_book['seconds_in_bucket'] < end_time)]['time_length']) / (end_time - start_time)\n",
      "/Users/vladimir.levin/Yandex.Disk.localized/01_Documents/01_Study/0_LUX/01_PhD/Drafts/Project3/kaggle_volatility/support_file.py:1676: RuntimeWarning: invalid value encountered in true_divide\n",
      "  w_bid = np.sum(df_book[(start_time <= df_book['seconds_in_bucket']) & (df_book['seconds_in_bucket'] < end_time)]['bid_price1'] * df_book[(start_time <= df_book['seconds_in_bucket']) & (df_book['seconds_in_bucket'] < end_time)]['time_length']) / (end_time - start_time)\n",
      "/Users/vladimir.levin/Yandex.Disk.localized/01_Documents/01_Study/0_LUX/01_PhD/Drafts/Project3/kaggle_volatility/support_file.py:1675: RuntimeWarning: invalid value encountered in true_divide\n",
      "  w_ask = np.sum(df_book[(start_time <= df_book['seconds_in_bucket']) & (df_book['seconds_in_bucket'] < end_time)]['ask_price1'] * df_book[(start_time <= df_book['seconds_in_bucket']) & (df_book['seconds_in_bucket'] < end_time)]['time_length']) / (end_time - start_time)\n",
      "/Users/vladimir.levin/Yandex.Disk.localized/01_Documents/01_Study/0_LUX/01_PhD/Drafts/Project3/kaggle_volatility/support_file.py:1676: RuntimeWarning: invalid value encountered in true_divide\n",
      "  w_bid = np.sum(df_book[(start_time <= df_book['seconds_in_bucket']) & (df_book['seconds_in_bucket'] < end_time)]['bid_price1'] * df_book[(start_time <= df_book['seconds_in_bucket']) & (df_book['seconds_in_bucket'] < end_time)]['time_length']) / (end_time - start_time)\n",
      "/Users/vladimir.levin/Yandex.Disk.localized/01_Documents/01_Study/0_LUX/01_PhD/Drafts/Project3/kaggle_volatility/support_file.py:1675: RuntimeWarning: invalid value encountered in true_divide\n",
      "  w_ask = np.sum(df_book[(start_time <= df_book['seconds_in_bucket']) & (df_book['seconds_in_bucket'] < end_time)]['ask_price1'] * df_book[(start_time <= df_book['seconds_in_bucket']) & (df_book['seconds_in_bucket'] < end_time)]['time_length']) / (end_time - start_time)\n",
      "/Users/vladimir.levin/Yandex.Disk.localized/01_Documents/01_Study/0_LUX/01_PhD/Drafts/Project3/kaggle_volatility/support_file.py:1676: RuntimeWarning: invalid value encountered in true_divide\n",
      "  w_bid = np.sum(df_book[(start_time <= df_book['seconds_in_bucket']) & (df_book['seconds_in_bucket'] < end_time)]['bid_price1'] * df_book[(start_time <= df_book['seconds_in_bucket']) & (df_book['seconds_in_bucket'] < end_time)]['time_length']) / (end_time - start_time)\n"
     ]
    },
    {
     "name": "stdout",
     "output_type": "stream",
     "text": [
      "4414\n",
      "4431\n",
      "4432\n",
      "4449\n",
      "4457\n",
      "4460\n",
      "4470\n",
      "4477\n",
      "4479\n",
      "4487\n"
     ]
    },
    {
     "name": "stderr",
     "output_type": "stream",
     "text": [
      "/Users/vladimir.levin/Yandex.Disk.localized/01_Documents/01_Study/0_LUX/01_PhD/Drafts/Project3/kaggle_volatility/support_file.py:1675: RuntimeWarning: invalid value encountered in true_divide\n",
      "  w_ask = np.sum(df_book[(start_time <= df_book['seconds_in_bucket']) & (df_book['seconds_in_bucket'] < end_time)]['ask_price1'] * df_book[(start_time <= df_book['seconds_in_bucket']) & (df_book['seconds_in_bucket'] < end_time)]['time_length']) / (end_time - start_time)\n",
      "/Users/vladimir.levin/Yandex.Disk.localized/01_Documents/01_Study/0_LUX/01_PhD/Drafts/Project3/kaggle_volatility/support_file.py:1676: RuntimeWarning: invalid value encountered in true_divide\n",
      "  w_bid = np.sum(df_book[(start_time <= df_book['seconds_in_bucket']) & (df_book['seconds_in_bucket'] < end_time)]['bid_price1'] * df_book[(start_time <= df_book['seconds_in_bucket']) & (df_book['seconds_in_bucket'] < end_time)]['time_length']) / (end_time - start_time)\n"
     ]
    },
    {
     "name": "stdout",
     "output_type": "stream",
     "text": [
      "4489\n",
      "4493\n",
      "4518\n",
      "4543\n",
      "4547\n",
      "4555\n",
      "4557\n"
     ]
    },
    {
     "name": "stderr",
     "output_type": "stream",
     "text": [
      "/Users/vladimir.levin/Yandex.Disk.localized/01_Documents/01_Study/0_LUX/01_PhD/Drafts/Project3/kaggle_volatility/support_file.py:1675: RuntimeWarning: invalid value encountered in true_divide\n",
      "  w_ask = np.sum(df_book[(start_time <= df_book['seconds_in_bucket']) & (df_book['seconds_in_bucket'] < end_time)]['ask_price1'] * df_book[(start_time <= df_book['seconds_in_bucket']) & (df_book['seconds_in_bucket'] < end_time)]['time_length']) / (end_time - start_time)\n",
      "/Users/vladimir.levin/Yandex.Disk.localized/01_Documents/01_Study/0_LUX/01_PhD/Drafts/Project3/kaggle_volatility/support_file.py:1676: RuntimeWarning: invalid value encountered in true_divide\n",
      "  w_bid = np.sum(df_book[(start_time <= df_book['seconds_in_bucket']) & (df_book['seconds_in_bucket'] < end_time)]['bid_price1'] * df_book[(start_time <= df_book['seconds_in_bucket']) & (df_book['seconds_in_bucket'] < end_time)]['time_length']) / (end_time - start_time)\n"
     ]
    },
    {
     "name": "stdout",
     "output_type": "stream",
     "text": [
      "4560\n",
      "4570\n",
      "4571\n",
      "4587\n",
      "4588\n",
      "4601\n",
      "4603\n",
      "4613\n",
      "4615\n",
      "4616\n",
      "4618\n",
      "4622\n",
      "4627\n",
      "4630\n",
      "4649\n",
      "4654\n",
      "4661\n"
     ]
    },
    {
     "name": "stderr",
     "output_type": "stream",
     "text": [
      "/Users/vladimir.levin/Yandex.Disk.localized/01_Documents/01_Study/0_LUX/01_PhD/Drafts/Project3/kaggle_volatility/support_file.py:1675: RuntimeWarning: invalid value encountered in true_divide\n",
      "  w_ask = np.sum(df_book[(start_time <= df_book['seconds_in_bucket']) & (df_book['seconds_in_bucket'] < end_time)]['ask_price1'] * df_book[(start_time <= df_book['seconds_in_bucket']) & (df_book['seconds_in_bucket'] < end_time)]['time_length']) / (end_time - start_time)\n",
      "/Users/vladimir.levin/Yandex.Disk.localized/01_Documents/01_Study/0_LUX/01_PhD/Drafts/Project3/kaggle_volatility/support_file.py:1676: RuntimeWarning: invalid value encountered in true_divide\n",
      "  w_bid = np.sum(df_book[(start_time <= df_book['seconds_in_bucket']) & (df_book['seconds_in_bucket'] < end_time)]['bid_price1'] * df_book[(start_time <= df_book['seconds_in_bucket']) & (df_book['seconds_in_bucket'] < end_time)]['time_length']) / (end_time - start_time)\n",
      "/Users/vladimir.levin/Yandex.Disk.localized/01_Documents/01_Study/0_LUX/01_PhD/Drafts/Project3/kaggle_volatility/support_file.py:1675: RuntimeWarning: invalid value encountered in true_divide\n",
      "  w_ask = np.sum(df_book[(start_time <= df_book['seconds_in_bucket']) & (df_book['seconds_in_bucket'] < end_time)]['ask_price1'] * df_book[(start_time <= df_book['seconds_in_bucket']) & (df_book['seconds_in_bucket'] < end_time)]['time_length']) / (end_time - start_time)\n",
      "/Users/vladimir.levin/Yandex.Disk.localized/01_Documents/01_Study/0_LUX/01_PhD/Drafts/Project3/kaggle_volatility/support_file.py:1676: RuntimeWarning: invalid value encountered in true_divide\n",
      "  w_bid = np.sum(df_book[(start_time <= df_book['seconds_in_bucket']) & (df_book['seconds_in_bucket'] < end_time)]['bid_price1'] * df_book[(start_time <= df_book['seconds_in_bucket']) & (df_book['seconds_in_bucket'] < end_time)]['time_length']) / (end_time - start_time)\n"
     ]
    },
    {
     "name": "stdout",
     "output_type": "stream",
     "text": [
      "4667\n",
      "4690\n",
      "4695\n",
      "4707\n",
      "4713\n",
      "4714\n",
      "4723\n",
      "4724\n",
      "4737\n",
      "4739\n",
      "4743\n",
      "4746\n",
      "4754\n",
      "4762\n",
      "4774\n",
      "4787\n",
      "4797\n"
     ]
    },
    {
     "name": "stderr",
     "output_type": "stream",
     "text": [
      "/Users/vladimir.levin/Yandex.Disk.localized/01_Documents/01_Study/0_LUX/01_PhD/Drafts/Project3/kaggle_volatility/support_file.py:1675: RuntimeWarning: invalid value encountered in true_divide\n",
      "  w_ask = np.sum(df_book[(start_time <= df_book['seconds_in_bucket']) & (df_book['seconds_in_bucket'] < end_time)]['ask_price1'] * df_book[(start_time <= df_book['seconds_in_bucket']) & (df_book['seconds_in_bucket'] < end_time)]['time_length']) / (end_time - start_time)\n",
      "/Users/vladimir.levin/Yandex.Disk.localized/01_Documents/01_Study/0_LUX/01_PhD/Drafts/Project3/kaggle_volatility/support_file.py:1676: RuntimeWarning: invalid value encountered in true_divide\n",
      "  w_bid = np.sum(df_book[(start_time <= df_book['seconds_in_bucket']) & (df_book['seconds_in_bucket'] < end_time)]['bid_price1'] * df_book[(start_time <= df_book['seconds_in_bucket']) & (df_book['seconds_in_bucket'] < end_time)]['time_length']) / (end_time - start_time)\n"
     ]
    },
    {
     "name": "stdout",
     "output_type": "stream",
     "text": [
      "4817\n",
      "4844\n",
      "4849\n",
      "4850\n",
      "4851\n",
      "4858\n",
      "4867\n"
     ]
    },
    {
     "name": "stderr",
     "output_type": "stream",
     "text": [
      "/Users/vladimir.levin/Yandex.Disk.localized/01_Documents/01_Study/0_LUX/01_PhD/Drafts/Project3/kaggle_volatility/support_file.py:1675: RuntimeWarning: invalid value encountered in true_divide\n",
      "  w_ask = np.sum(df_book[(start_time <= df_book['seconds_in_bucket']) & (df_book['seconds_in_bucket'] < end_time)]['ask_price1'] * df_book[(start_time <= df_book['seconds_in_bucket']) & (df_book['seconds_in_bucket'] < end_time)]['time_length']) / (end_time - start_time)\n",
      "/Users/vladimir.levin/Yandex.Disk.localized/01_Documents/01_Study/0_LUX/01_PhD/Drafts/Project3/kaggle_volatility/support_file.py:1676: RuntimeWarning: invalid value encountered in true_divide\n",
      "  w_bid = np.sum(df_book[(start_time <= df_book['seconds_in_bucket']) & (df_book['seconds_in_bucket'] < end_time)]['bid_price1'] * df_book[(start_time <= df_book['seconds_in_bucket']) & (df_book['seconds_in_bucket'] < end_time)]['time_length']) / (end_time - start_time)\n",
      "/Users/vladimir.levin/Yandex.Disk.localized/01_Documents/01_Study/0_LUX/01_PhD/Drafts/Project3/kaggle_volatility/support_file.py:1675: RuntimeWarning: invalid value encountered in true_divide\n",
      "  w_ask = np.sum(df_book[(start_time <= df_book['seconds_in_bucket']) & (df_book['seconds_in_bucket'] < end_time)]['ask_price1'] * df_book[(start_time <= df_book['seconds_in_bucket']) & (df_book['seconds_in_bucket'] < end_time)]['time_length']) / (end_time - start_time)\n",
      "/Users/vladimir.levin/Yandex.Disk.localized/01_Documents/01_Study/0_LUX/01_PhD/Drafts/Project3/kaggle_volatility/support_file.py:1676: RuntimeWarning: invalid value encountered in true_divide\n",
      "  w_bid = np.sum(df_book[(start_time <= df_book['seconds_in_bucket']) & (df_book['seconds_in_bucket'] < end_time)]['bid_price1'] * df_book[(start_time <= df_book['seconds_in_bucket']) & (df_book['seconds_in_bucket'] < end_time)]['time_length']) / (end_time - start_time)\n"
     ]
    },
    {
     "name": "stdout",
     "output_type": "stream",
     "text": [
      "4869\n",
      "4889\n",
      "4902\n"
     ]
    },
    {
     "name": "stderr",
     "output_type": "stream",
     "text": [
      "/Users/vladimir.levin/Yandex.Disk.localized/01_Documents/01_Study/0_LUX/01_PhD/Drafts/Project3/kaggle_volatility/support_file.py:1675: RuntimeWarning: invalid value encountered in true_divide\n",
      "  w_ask = np.sum(df_book[(start_time <= df_book['seconds_in_bucket']) & (df_book['seconds_in_bucket'] < end_time)]['ask_price1'] * df_book[(start_time <= df_book['seconds_in_bucket']) & (df_book['seconds_in_bucket'] < end_time)]['time_length']) / (end_time - start_time)\n",
      "/Users/vladimir.levin/Yandex.Disk.localized/01_Documents/01_Study/0_LUX/01_PhD/Drafts/Project3/kaggle_volatility/support_file.py:1676: RuntimeWarning: invalid value encountered in true_divide\n",
      "  w_bid = np.sum(df_book[(start_time <= df_book['seconds_in_bucket']) & (df_book['seconds_in_bucket'] < end_time)]['bid_price1'] * df_book[(start_time <= df_book['seconds_in_bucket']) & (df_book['seconds_in_bucket'] < end_time)]['time_length']) / (end_time - start_time)\n"
     ]
    },
    {
     "name": "stdout",
     "output_type": "stream",
     "text": [
      "4905\n",
      "4910\n",
      "4913\n",
      "4927\n",
      "4935\n",
      "4951\n",
      "4957\n",
      "4958\n",
      "4962\n",
      "4978"
     ]
    },
    {
     "name": "stderr",
     "output_type": "stream",
     "text": [
      "/Users/vladimir.levin/Yandex.Disk.localized/01_Documents/01_Study/0_LUX/01_PhD/Drafts/Project3/kaggle_volatility/support_file.py:1675: RuntimeWarning: invalid value encountered in true_divide\n",
      "  w_ask = np.sum(df_book[(start_time <= df_book['seconds_in_bucket']) & (df_book['seconds_in_bucket'] < end_time)]['ask_price1'] * df_book[(start_time <= df_book['seconds_in_bucket']) & (df_book['seconds_in_bucket'] < end_time)]['time_length']) / (end_time - start_time)\n",
      "/Users/vladimir.levin/Yandex.Disk.localized/01_Documents/01_Study/0_LUX/01_PhD/Drafts/Project3/kaggle_volatility/support_file.py:1676: RuntimeWarning: invalid value encountered in true_divide\n",
      "  w_bid = np.sum(df_book[(start_time <= df_book['seconds_in_bucket']) & (df_book['seconds_in_bucket'] < end_time)]['bid_price1'] * df_book[(start_time <= df_book['seconds_in_bucket']) & (df_book['seconds_in_bucket'] < end_time)]['time_length']) / (end_time - start_time)\n"
     ]
    },
    {
     "name": "stdout",
     "output_type": "stream",
     "text": [
      "\n",
      "4984\n",
      "4987\n",
      "4991\n",
      "4995\n",
      "4997\n",
      "5020\n",
      "5025\n",
      "5032\n"
     ]
    },
    {
     "name": "stderr",
     "output_type": "stream",
     "text": [
      "/Users/vladimir.levin/Yandex.Disk.localized/01_Documents/01_Study/0_LUX/01_PhD/Drafts/Project3/kaggle_volatility/support_file.py:1675: RuntimeWarning: invalid value encountered in true_divide\n",
      "  w_ask = np.sum(df_book[(start_time <= df_book['seconds_in_bucket']) & (df_book['seconds_in_bucket'] < end_time)]['ask_price1'] * df_book[(start_time <= df_book['seconds_in_bucket']) & (df_book['seconds_in_bucket'] < end_time)]['time_length']) / (end_time - start_time)\n",
      "/Users/vladimir.levin/Yandex.Disk.localized/01_Documents/01_Study/0_LUX/01_PhD/Drafts/Project3/kaggle_volatility/support_file.py:1676: RuntimeWarning: invalid value encountered in true_divide\n",
      "  w_bid = np.sum(df_book[(start_time <= df_book['seconds_in_bucket']) & (df_book['seconds_in_bucket'] < end_time)]['bid_price1'] * df_book[(start_time <= df_book['seconds_in_bucket']) & (df_book['seconds_in_bucket'] < end_time)]['time_length']) / (end_time - start_time)\n"
     ]
    },
    {
     "name": "stdout",
     "output_type": "stream",
     "text": [
      "5046\n",
      "5056\n",
      "5063\n",
      "5101\n",
      "5113\n"
     ]
    },
    {
     "name": "stderr",
     "output_type": "stream",
     "text": [
      "/Users/vladimir.levin/Yandex.Disk.localized/01_Documents/01_Study/0_LUX/01_PhD/Drafts/Project3/kaggle_volatility/support_file.py:1675: RuntimeWarning: invalid value encountered in true_divide\n",
      "  w_ask = np.sum(df_book[(start_time <= df_book['seconds_in_bucket']) & (df_book['seconds_in_bucket'] < end_time)]['ask_price1'] * df_book[(start_time <= df_book['seconds_in_bucket']) & (df_book['seconds_in_bucket'] < end_time)]['time_length']) / (end_time - start_time)\n",
      "/Users/vladimir.levin/Yandex.Disk.localized/01_Documents/01_Study/0_LUX/01_PhD/Drafts/Project3/kaggle_volatility/support_file.py:1676: RuntimeWarning: invalid value encountered in true_divide\n",
      "  w_bid = np.sum(df_book[(start_time <= df_book['seconds_in_bucket']) & (df_book['seconds_in_bucket'] < end_time)]['bid_price1'] * df_book[(start_time <= df_book['seconds_in_bucket']) & (df_book['seconds_in_bucket'] < end_time)]['time_length']) / (end_time - start_time)\n"
     ]
    },
    {
     "name": "stdout",
     "output_type": "stream",
     "text": [
      "5118\n",
      "5124\n",
      "5139\n",
      "5141\n",
      "5149\n",
      "5152\n",
      "5153\n"
     ]
    },
    {
     "name": "stderr",
     "output_type": "stream",
     "text": [
      "/Users/vladimir.levin/Yandex.Disk.localized/01_Documents/01_Study/0_LUX/01_PhD/Drafts/Project3/kaggle_volatility/support_file.py:1675: RuntimeWarning: invalid value encountered in true_divide\n",
      "  w_ask = np.sum(df_book[(start_time <= df_book['seconds_in_bucket']) & (df_book['seconds_in_bucket'] < end_time)]['ask_price1'] * df_book[(start_time <= df_book['seconds_in_bucket']) & (df_book['seconds_in_bucket'] < end_time)]['time_length']) / (end_time - start_time)\n",
      "/Users/vladimir.levin/Yandex.Disk.localized/01_Documents/01_Study/0_LUX/01_PhD/Drafts/Project3/kaggle_volatility/support_file.py:1676: RuntimeWarning: invalid value encountered in true_divide\n",
      "  w_bid = np.sum(df_book[(start_time <= df_book['seconds_in_bucket']) & (df_book['seconds_in_bucket'] < end_time)]['bid_price1'] * df_book[(start_time <= df_book['seconds_in_bucket']) & (df_book['seconds_in_bucket'] < end_time)]['time_length']) / (end_time - start_time)\n"
     ]
    },
    {
     "name": "stdout",
     "output_type": "stream",
     "text": [
      "5163\n",
      "5164\n",
      "5171\n",
      "5173\n",
      "5193\n"
     ]
    },
    {
     "name": "stderr",
     "output_type": "stream",
     "text": [
      "/Users/vladimir.levin/Yandex.Disk.localized/01_Documents/01_Study/0_LUX/01_PhD/Drafts/Project3/kaggle_volatility/support_file.py:1675: RuntimeWarning: invalid value encountered in true_divide\n",
      "  w_ask = np.sum(df_book[(start_time <= df_book['seconds_in_bucket']) & (df_book['seconds_in_bucket'] < end_time)]['ask_price1'] * df_book[(start_time <= df_book['seconds_in_bucket']) & (df_book['seconds_in_bucket'] < end_time)]['time_length']) / (end_time - start_time)\n",
      "/Users/vladimir.levin/Yandex.Disk.localized/01_Documents/01_Study/0_LUX/01_PhD/Drafts/Project3/kaggle_volatility/support_file.py:1676: RuntimeWarning: invalid value encountered in true_divide\n",
      "  w_bid = np.sum(df_book[(start_time <= df_book['seconds_in_bucket']) & (df_book['seconds_in_bucket'] < end_time)]['bid_price1'] * df_book[(start_time <= df_book['seconds_in_bucket']) & (df_book['seconds_in_bucket'] < end_time)]['time_length']) / (end_time - start_time)\n",
      "/Users/vladimir.levin/Yandex.Disk.localized/01_Documents/01_Study/0_LUX/01_PhD/Drafts/Project3/kaggle_volatility/support_file.py:1675: RuntimeWarning: invalid value encountered in true_divide\n",
      "  w_ask = np.sum(df_book[(start_time <= df_book['seconds_in_bucket']) & (df_book['seconds_in_bucket'] < end_time)]['ask_price1'] * df_book[(start_time <= df_book['seconds_in_bucket']) & (df_book['seconds_in_bucket'] < end_time)]['time_length']) / (end_time - start_time)\n",
      "/Users/vladimir.levin/Yandex.Disk.localized/01_Documents/01_Study/0_LUX/01_PhD/Drafts/Project3/kaggle_volatility/support_file.py:1676: RuntimeWarning: invalid value encountered in true_divide\n",
      "  w_bid = np.sum(df_book[(start_time <= df_book['seconds_in_bucket']) & (df_book['seconds_in_bucket'] < end_time)]['bid_price1'] * df_book[(start_time <= df_book['seconds_in_bucket']) & (df_book['seconds_in_bucket'] < end_time)]['time_length']) / (end_time - start_time)\n"
     ]
    },
    {
     "name": "stdout",
     "output_type": "stream",
     "text": [
      "5206\n",
      "5213\n",
      "5218\n",
      "5232\n",
      "5235\n",
      "5239\n",
      "5245\n",
      "5249\n",
      "5266\n"
     ]
    },
    {
     "name": "stderr",
     "output_type": "stream",
     "text": [
      "/Users/vladimir.levin/Yandex.Disk.localized/01_Documents/01_Study/0_LUX/01_PhD/Drafts/Project3/kaggle_volatility/support_file.py:1675: RuntimeWarning: invalid value encountered in true_divide\n",
      "  w_ask = np.sum(df_book[(start_time <= df_book['seconds_in_bucket']) & (df_book['seconds_in_bucket'] < end_time)]['ask_price1'] * df_book[(start_time <= df_book['seconds_in_bucket']) & (df_book['seconds_in_bucket'] < end_time)]['time_length']) / (end_time - start_time)\n",
      "/Users/vladimir.levin/Yandex.Disk.localized/01_Documents/01_Study/0_LUX/01_PhD/Drafts/Project3/kaggle_volatility/support_file.py:1676: RuntimeWarning: invalid value encountered in true_divide\n",
      "  w_bid = np.sum(df_book[(start_time <= df_book['seconds_in_bucket']) & (df_book['seconds_in_bucket'] < end_time)]['bid_price1'] * df_book[(start_time <= df_book['seconds_in_bucket']) & (df_book['seconds_in_bucket'] < end_time)]['time_length']) / (end_time - start_time)\n"
     ]
    },
    {
     "name": "stdout",
     "output_type": "stream",
     "text": [
      "5285\n",
      "5297\n"
     ]
    },
    {
     "name": "stderr",
     "output_type": "stream",
     "text": [
      "/Users/vladimir.levin/Yandex.Disk.localized/01_Documents/01_Study/0_LUX/01_PhD/Drafts/Project3/kaggle_volatility/support_file.py:1675: RuntimeWarning: invalid value encountered in true_divide\n",
      "  w_ask = np.sum(df_book[(start_time <= df_book['seconds_in_bucket']) & (df_book['seconds_in_bucket'] < end_time)]['ask_price1'] * df_book[(start_time <= df_book['seconds_in_bucket']) & (df_book['seconds_in_bucket'] < end_time)]['time_length']) / (end_time - start_time)\n",
      "/Users/vladimir.levin/Yandex.Disk.localized/01_Documents/01_Study/0_LUX/01_PhD/Drafts/Project3/kaggle_volatility/support_file.py:1676: RuntimeWarning: invalid value encountered in true_divide\n",
      "  w_bid = np.sum(df_book[(start_time <= df_book['seconds_in_bucket']) & (df_book['seconds_in_bucket'] < end_time)]['bid_price1'] * df_book[(start_time <= df_book['seconds_in_bucket']) & (df_book['seconds_in_bucket'] < end_time)]['time_length']) / (end_time - start_time)\n"
     ]
    },
    {
     "name": "stdout",
     "output_type": "stream",
     "text": [
      "5300\n",
      "5302\n",
      "5303\n",
      "5305\n",
      "5314\n",
      "5340\n",
      "5344\n"
     ]
    },
    {
     "name": "stderr",
     "output_type": "stream",
     "text": [
      "/Users/vladimir.levin/Yandex.Disk.localized/01_Documents/01_Study/0_LUX/01_PhD/Drafts/Project3/kaggle_volatility/support_file.py:1675: RuntimeWarning: invalid value encountered in true_divide\n",
      "  w_ask = np.sum(df_book[(start_time <= df_book['seconds_in_bucket']) & (df_book['seconds_in_bucket'] < end_time)]['ask_price1'] * df_book[(start_time <= df_book['seconds_in_bucket']) & (df_book['seconds_in_bucket'] < end_time)]['time_length']) / (end_time - start_time)\n",
      "/Users/vladimir.levin/Yandex.Disk.localized/01_Documents/01_Study/0_LUX/01_PhD/Drafts/Project3/kaggle_volatility/support_file.py:1676: RuntimeWarning: invalid value encountered in true_divide\n",
      "  w_bid = np.sum(df_book[(start_time <= df_book['seconds_in_bucket']) & (df_book['seconds_in_bucket'] < end_time)]['bid_price1'] * df_book[(start_time <= df_book['seconds_in_bucket']) & (df_book['seconds_in_bucket'] < end_time)]['time_length']) / (end_time - start_time)\n"
     ]
    },
    {
     "name": "stdout",
     "output_type": "stream",
     "text": [
      "5347\n",
      "5356\n",
      "5368\n",
      "5391\n",
      "5392\n",
      "5400\n",
      "5401\n",
      "5407\n",
      "5417\n"
     ]
    },
    {
     "name": "stderr",
     "output_type": "stream",
     "text": [
      "/Users/vladimir.levin/Yandex.Disk.localized/01_Documents/01_Study/0_LUX/01_PhD/Drafts/Project3/kaggle_volatility/support_file.py:1675: RuntimeWarning: invalid value encountered in true_divide\n",
      "  w_ask = np.sum(df_book[(start_time <= df_book['seconds_in_bucket']) & (df_book['seconds_in_bucket'] < end_time)]['ask_price1'] * df_book[(start_time <= df_book['seconds_in_bucket']) & (df_book['seconds_in_bucket'] < end_time)]['time_length']) / (end_time - start_time)\n",
      "/Users/vladimir.levin/Yandex.Disk.localized/01_Documents/01_Study/0_LUX/01_PhD/Drafts/Project3/kaggle_volatility/support_file.py:1676: RuntimeWarning: invalid value encountered in true_divide\n",
      "  w_bid = np.sum(df_book[(start_time <= df_book['seconds_in_bucket']) & (df_book['seconds_in_bucket'] < end_time)]['bid_price1'] * df_book[(start_time <= df_book['seconds_in_bucket']) & (df_book['seconds_in_bucket'] < end_time)]['time_length']) / (end_time - start_time)\n",
      "/Users/vladimir.levin/Yandex.Disk.localized/01_Documents/01_Study/0_LUX/01_PhD/Drafts/Project3/kaggle_volatility/support_file.py:1675: RuntimeWarning: invalid value encountered in true_divide\n",
      "  w_ask = np.sum(df_book[(start_time <= df_book['seconds_in_bucket']) & (df_book['seconds_in_bucket'] < end_time)]['ask_price1'] * df_book[(start_time <= df_book['seconds_in_bucket']) & (df_book['seconds_in_bucket'] < end_time)]['time_length']) / (end_time - start_time)\n",
      "/Users/vladimir.levin/Yandex.Disk.localized/01_Documents/01_Study/0_LUX/01_PhD/Drafts/Project3/kaggle_volatility/support_file.py:1676: RuntimeWarning: invalid value encountered in true_divide\n",
      "  w_bid = np.sum(df_book[(start_time <= df_book['seconds_in_bucket']) & (df_book['seconds_in_bucket'] < end_time)]['bid_price1'] * df_book[(start_time <= df_book['seconds_in_bucket']) & (df_book['seconds_in_bucket'] < end_time)]['time_length']) / (end_time - start_time)\n"
     ]
    },
    {
     "name": "stdout",
     "output_type": "stream",
     "text": [
      "5421\n",
      "5424\n"
     ]
    },
    {
     "name": "stderr",
     "output_type": "stream",
     "text": [
      "/Users/vladimir.levin/Yandex.Disk.localized/01_Documents/01_Study/0_LUX/01_PhD/Drafts/Project3/kaggle_volatility/support_file.py:1675: RuntimeWarning: invalid value encountered in true_divide\n",
      "  w_ask = np.sum(df_book[(start_time <= df_book['seconds_in_bucket']) & (df_book['seconds_in_bucket'] < end_time)]['ask_price1'] * df_book[(start_time <= df_book['seconds_in_bucket']) & (df_book['seconds_in_bucket'] < end_time)]['time_length']) / (end_time - start_time)\n",
      "/Users/vladimir.levin/Yandex.Disk.localized/01_Documents/01_Study/0_LUX/01_PhD/Drafts/Project3/kaggle_volatility/support_file.py:1676: RuntimeWarning: invalid value encountered in true_divide\n",
      "  w_bid = np.sum(df_book[(start_time <= df_book['seconds_in_bucket']) & (df_book['seconds_in_bucket'] < end_time)]['bid_price1'] * df_book[(start_time <= df_book['seconds_in_bucket']) & (df_book['seconds_in_bucket'] < end_time)]['time_length']) / (end_time - start_time)\n"
     ]
    },
    {
     "name": "stdout",
     "output_type": "stream",
     "text": [
      "5425\n",
      "5444\n",
      "5458\n",
      "5470\n",
      "5480\n",
      "5488\n",
      "5490\n"
     ]
    },
    {
     "name": "stderr",
     "output_type": "stream",
     "text": [
      "/Users/vladimir.levin/Yandex.Disk.localized/01_Documents/01_Study/0_LUX/01_PhD/Drafts/Project3/kaggle_volatility/support_file.py:1675: RuntimeWarning: invalid value encountered in true_divide\n",
      "  w_ask = np.sum(df_book[(start_time <= df_book['seconds_in_bucket']) & (df_book['seconds_in_bucket'] < end_time)]['ask_price1'] * df_book[(start_time <= df_book['seconds_in_bucket']) & (df_book['seconds_in_bucket'] < end_time)]['time_length']) / (end_time - start_time)\n",
      "/Users/vladimir.levin/Yandex.Disk.localized/01_Documents/01_Study/0_LUX/01_PhD/Drafts/Project3/kaggle_volatility/support_file.py:1676: RuntimeWarning: invalid value encountered in true_divide\n",
      "  w_bid = np.sum(df_book[(start_time <= df_book['seconds_in_bucket']) & (df_book['seconds_in_bucket'] < end_time)]['bid_price1'] * df_book[(start_time <= df_book['seconds_in_bucket']) & (df_book['seconds_in_bucket'] < end_time)]['time_length']) / (end_time - start_time)\n"
     ]
    },
    {
     "name": "stdout",
     "output_type": "stream",
     "text": [
      "5496\n",
      "5497\n",
      "5505\n",
      "5510\n"
     ]
    },
    {
     "name": "stderr",
     "output_type": "stream",
     "text": [
      "/Users/vladimir.levin/Yandex.Disk.localized/01_Documents/01_Study/0_LUX/01_PhD/Drafts/Project3/kaggle_volatility/support_file.py:1675: RuntimeWarning: invalid value encountered in true_divide\n",
      "  w_ask = np.sum(df_book[(start_time <= df_book['seconds_in_bucket']) & (df_book['seconds_in_bucket'] < end_time)]['ask_price1'] * df_book[(start_time <= df_book['seconds_in_bucket']) & (df_book['seconds_in_bucket'] < end_time)]['time_length']) / (end_time - start_time)\n",
      "/Users/vladimir.levin/Yandex.Disk.localized/01_Documents/01_Study/0_LUX/01_PhD/Drafts/Project3/kaggle_volatility/support_file.py:1676: RuntimeWarning: invalid value encountered in true_divide\n",
      "  w_bid = np.sum(df_book[(start_time <= df_book['seconds_in_bucket']) & (df_book['seconds_in_bucket'] < end_time)]['bid_price1'] * df_book[(start_time <= df_book['seconds_in_bucket']) & (df_book['seconds_in_bucket'] < end_time)]['time_length']) / (end_time - start_time)\n"
     ]
    },
    {
     "name": "stdout",
     "output_type": "stream",
     "text": [
      "5512\n",
      "5513\n",
      "5517\n",
      "5532\n",
      "5539\n",
      "5580\n"
     ]
    },
    {
     "name": "stderr",
     "output_type": "stream",
     "text": [
      "/Users/vladimir.levin/Yandex.Disk.localized/01_Documents/01_Study/0_LUX/01_PhD/Drafts/Project3/kaggle_volatility/support_file.py:1675: RuntimeWarning: invalid value encountered in true_divide\n",
      "  w_ask = np.sum(df_book[(start_time <= df_book['seconds_in_bucket']) & (df_book['seconds_in_bucket'] < end_time)]['ask_price1'] * df_book[(start_time <= df_book['seconds_in_bucket']) & (df_book['seconds_in_bucket'] < end_time)]['time_length']) / (end_time - start_time)\n",
      "/Users/vladimir.levin/Yandex.Disk.localized/01_Documents/01_Study/0_LUX/01_PhD/Drafts/Project3/kaggle_volatility/support_file.py:1676: RuntimeWarning: invalid value encountered in true_divide\n",
      "  w_bid = np.sum(df_book[(start_time <= df_book['seconds_in_bucket']) & (df_book['seconds_in_bucket'] < end_time)]['bid_price1'] * df_book[(start_time <= df_book['seconds_in_bucket']) & (df_book['seconds_in_bucket'] < end_time)]['time_length']) / (end_time - start_time)\n"
     ]
    },
    {
     "name": "stdout",
     "output_type": "stream",
     "text": [
      "5598\n",
      "5601\n",
      "5609\n",
      "5611\n",
      "5620\n",
      "5629\n",
      "5648\n",
      "5658\n"
     ]
    },
    {
     "name": "stderr",
     "output_type": "stream",
     "text": [
      "/Users/vladimir.levin/Yandex.Disk.localized/01_Documents/01_Study/0_LUX/01_PhD/Drafts/Project3/kaggle_volatility/support_file.py:1675: RuntimeWarning: invalid value encountered in true_divide\n",
      "  w_ask = np.sum(df_book[(start_time <= df_book['seconds_in_bucket']) & (df_book['seconds_in_bucket'] < end_time)]['ask_price1'] * df_book[(start_time <= df_book['seconds_in_bucket']) & (df_book['seconds_in_bucket'] < end_time)]['time_length']) / (end_time - start_time)\n",
      "/Users/vladimir.levin/Yandex.Disk.localized/01_Documents/01_Study/0_LUX/01_PhD/Drafts/Project3/kaggle_volatility/support_file.py:1676: RuntimeWarning: invalid value encountered in true_divide\n",
      "  w_bid = np.sum(df_book[(start_time <= df_book['seconds_in_bucket']) & (df_book['seconds_in_bucket'] < end_time)]['bid_price1'] * df_book[(start_time <= df_book['seconds_in_bucket']) & (df_book['seconds_in_bucket'] < end_time)]['time_length']) / (end_time - start_time)\n"
     ]
    },
    {
     "name": "stdout",
     "output_type": "stream",
     "text": [
      "5663\n",
      "5666\n",
      "5667\n",
      "5676\n",
      "5678\n",
      "5682\n"
     ]
    },
    {
     "name": "stderr",
     "output_type": "stream",
     "text": [
      "/Users/vladimir.levin/Yandex.Disk.localized/01_Documents/01_Study/0_LUX/01_PhD/Drafts/Project3/kaggle_volatility/support_file.py:1675: RuntimeWarning: invalid value encountered in true_divide\n",
      "  w_ask = np.sum(df_book[(start_time <= df_book['seconds_in_bucket']) & (df_book['seconds_in_bucket'] < end_time)]['ask_price1'] * df_book[(start_time <= df_book['seconds_in_bucket']) & (df_book['seconds_in_bucket'] < end_time)]['time_length']) / (end_time - start_time)\n",
      "/Users/vladimir.levin/Yandex.Disk.localized/01_Documents/01_Study/0_LUX/01_PhD/Drafts/Project3/kaggle_volatility/support_file.py:1676: RuntimeWarning: invalid value encountered in true_divide\n",
      "  w_bid = np.sum(df_book[(start_time <= df_book['seconds_in_bucket']) & (df_book['seconds_in_bucket'] < end_time)]['bid_price1'] * df_book[(start_time <= df_book['seconds_in_bucket']) & (df_book['seconds_in_bucket'] < end_time)]['time_length']) / (end_time - start_time)\n"
     ]
    },
    {
     "name": "stdout",
     "output_type": "stream",
     "text": [
      "5686\n",
      "5704\n",
      "5706\n"
     ]
    },
    {
     "name": "stderr",
     "output_type": "stream",
     "text": [
      "/Users/vladimir.levin/Yandex.Disk.localized/01_Documents/01_Study/0_LUX/01_PhD/Drafts/Project3/kaggle_volatility/support_file.py:1675: RuntimeWarning: invalid value encountered in true_divide\n",
      "  w_ask = np.sum(df_book[(start_time <= df_book['seconds_in_bucket']) & (df_book['seconds_in_bucket'] < end_time)]['ask_price1'] * df_book[(start_time <= df_book['seconds_in_bucket']) & (df_book['seconds_in_bucket'] < end_time)]['time_length']) / (end_time - start_time)\n",
      "/Users/vladimir.levin/Yandex.Disk.localized/01_Documents/01_Study/0_LUX/01_PhD/Drafts/Project3/kaggle_volatility/support_file.py:1676: RuntimeWarning: invalid value encountered in true_divide\n",
      "  w_bid = np.sum(df_book[(start_time <= df_book['seconds_in_bucket']) & (df_book['seconds_in_bucket'] < end_time)]['bid_price1'] * df_book[(start_time <= df_book['seconds_in_bucket']) & (df_book['seconds_in_bucket'] < end_time)]['time_length']) / (end_time - start_time)\n"
     ]
    },
    {
     "name": "stdout",
     "output_type": "stream",
     "text": [
      "5728\n",
      "5729\n",
      "5743\n"
     ]
    },
    {
     "name": "stderr",
     "output_type": "stream",
     "text": [
      "/Users/vladimir.levin/Yandex.Disk.localized/01_Documents/01_Study/0_LUX/01_PhD/Drafts/Project3/kaggle_volatility/support_file.py:1675: RuntimeWarning: invalid value encountered in true_divide\n",
      "  w_ask = np.sum(df_book[(start_time <= df_book['seconds_in_bucket']) & (df_book['seconds_in_bucket'] < end_time)]['ask_price1'] * df_book[(start_time <= df_book['seconds_in_bucket']) & (df_book['seconds_in_bucket'] < end_time)]['time_length']) / (end_time - start_time)\n",
      "/Users/vladimir.levin/Yandex.Disk.localized/01_Documents/01_Study/0_LUX/01_PhD/Drafts/Project3/kaggle_volatility/support_file.py:1676: RuntimeWarning: invalid value encountered in true_divide\n",
      "  w_bid = np.sum(df_book[(start_time <= df_book['seconds_in_bucket']) & (df_book['seconds_in_bucket'] < end_time)]['bid_price1'] * df_book[(start_time <= df_book['seconds_in_bucket']) & (df_book['seconds_in_bucket'] < end_time)]['time_length']) / (end_time - start_time)\n"
     ]
    },
    {
     "name": "stdout",
     "output_type": "stream",
     "text": [
      "5749\n",
      "5756\n",
      "5759\n",
      "5763\n",
      "5773\n",
      "5777\n",
      "5787\n",
      "5790\n",
      "5793"
     ]
    },
    {
     "name": "stderr",
     "output_type": "stream",
     "text": [
      "/Users/vladimir.levin/Yandex.Disk.localized/01_Documents/01_Study/0_LUX/01_PhD/Drafts/Project3/kaggle_volatility/support_file.py:1675: RuntimeWarning: invalid value encountered in true_divide\n",
      "  w_ask = np.sum(df_book[(start_time <= df_book['seconds_in_bucket']) & (df_book['seconds_in_bucket'] < end_time)]['ask_price1'] * df_book[(start_time <= df_book['seconds_in_bucket']) & (df_book['seconds_in_bucket'] < end_time)]['time_length']) / (end_time - start_time)\n",
      "/Users/vladimir.levin/Yandex.Disk.localized/01_Documents/01_Study/0_LUX/01_PhD/Drafts/Project3/kaggle_volatility/support_file.py:1676: RuntimeWarning: invalid value encountered in true_divide\n",
      "  w_bid = np.sum(df_book[(start_time <= df_book['seconds_in_bucket']) & (df_book['seconds_in_bucket'] < end_time)]['bid_price1'] * df_book[(start_time <= df_book['seconds_in_bucket']) & (df_book['seconds_in_bucket'] < end_time)]['time_length']) / (end_time - start_time)\n",
      "/Users/vladimir.levin/Yandex.Disk.localized/01_Documents/01_Study/0_LUX/01_PhD/Drafts/Project3/kaggle_volatility/support_file.py:1675: RuntimeWarning: invalid value encountered in true_divide\n",
      "  w_ask = np.sum(df_book[(start_time <= df_book['seconds_in_bucket']) & (df_book['seconds_in_bucket'] < end_time)]['ask_price1'] * df_book[(start_time <= df_book['seconds_in_bucket']) & (df_book['seconds_in_bucket'] < end_time)]['time_length']) / (end_time - start_time)\n",
      "/Users/vladimir.levin/Yandex.Disk.localized/01_Documents/01_Study/0_LUX/01_PhD/Drafts/Project3/kaggle_volatility/support_file.py:1676: RuntimeWarning: invalid value encountered in true_divide\n",
      "  w_bid = np.sum(df_book[(start_time <= df_book['seconds_in_bucket']) & (df_book['seconds_in_bucket'] < end_time)]['bid_price1'] * df_book[(start_time <= df_book['seconds_in_bucket']) & (df_book['seconds_in_bucket'] < end_time)]['time_length']) / (end_time - start_time)\n"
     ]
    },
    {
     "name": "stdout",
     "output_type": "stream",
     "text": [
      "\n",
      "5795\n",
      "5803\n",
      "5809\n",
      "5816\n",
      "5817\n",
      "5825\n",
      "5829\n",
      "5831\n",
      "5832\n",
      "5842\n",
      "5846\n",
      "5853\n",
      "5872\n",
      "5878\n",
      "5904\n",
      "5907\n",
      "5910\n",
      "5913\n",
      "5915\n",
      "5916\n",
      "5929\n",
      "5932\n",
      "5934\n",
      "5944\n",
      "5958\n",
      "5975\n",
      "5976\n",
      "5978\n",
      "5987\n",
      "6016\n",
      "6020\n"
     ]
    },
    {
     "name": "stderr",
     "output_type": "stream",
     "text": [
      "/Users/vladimir.levin/Yandex.Disk.localized/01_Documents/01_Study/0_LUX/01_PhD/Drafts/Project3/kaggle_volatility/support_file.py:1675: RuntimeWarning: invalid value encountered in true_divide\n",
      "  w_ask = np.sum(df_book[(start_time <= df_book['seconds_in_bucket']) & (df_book['seconds_in_bucket'] < end_time)]['ask_price1'] * df_book[(start_time <= df_book['seconds_in_bucket']) & (df_book['seconds_in_bucket'] < end_time)]['time_length']) / (end_time - start_time)\n",
      "/Users/vladimir.levin/Yandex.Disk.localized/01_Documents/01_Study/0_LUX/01_PhD/Drafts/Project3/kaggle_volatility/support_file.py:1676: RuntimeWarning: invalid value encountered in true_divide\n",
      "  w_bid = np.sum(df_book[(start_time <= df_book['seconds_in_bucket']) & (df_book['seconds_in_bucket'] < end_time)]['bid_price1'] * df_book[(start_time <= df_book['seconds_in_bucket']) & (df_book['seconds_in_bucket'] < end_time)]['time_length']) / (end_time - start_time)\n"
     ]
    },
    {
     "name": "stdout",
     "output_type": "stream",
     "text": [
      "6029\n",
      "6065\n"
     ]
    },
    {
     "name": "stderr",
     "output_type": "stream",
     "text": [
      "/Users/vladimir.levin/Yandex.Disk.localized/01_Documents/01_Study/0_LUX/01_PhD/Drafts/Project3/kaggle_volatility/support_file.py:1675: RuntimeWarning: invalid value encountered in true_divide\n",
      "  w_ask = np.sum(df_book[(start_time <= df_book['seconds_in_bucket']) & (df_book['seconds_in_bucket'] < end_time)]['ask_price1'] * df_book[(start_time <= df_book['seconds_in_bucket']) & (df_book['seconds_in_bucket'] < end_time)]['time_length']) / (end_time - start_time)\n",
      "/Users/vladimir.levin/Yandex.Disk.localized/01_Documents/01_Study/0_LUX/01_PhD/Drafts/Project3/kaggle_volatility/support_file.py:1676: RuntimeWarning: invalid value encountered in true_divide\n",
      "  w_bid = np.sum(df_book[(start_time <= df_book['seconds_in_bucket']) & (df_book['seconds_in_bucket'] < end_time)]['bid_price1'] * df_book[(start_time <= df_book['seconds_in_bucket']) & (df_book['seconds_in_bucket'] < end_time)]['time_length']) / (end_time - start_time)\n",
      "/Users/vladimir.levin/Yandex.Disk.localized/01_Documents/01_Study/0_LUX/01_PhD/Drafts/Project3/kaggle_volatility/support_file.py:1675: RuntimeWarning: invalid value encountered in true_divide\n",
      "  w_ask = np.sum(df_book[(start_time <= df_book['seconds_in_bucket']) & (df_book['seconds_in_bucket'] < end_time)]['ask_price1'] * df_book[(start_time <= df_book['seconds_in_bucket']) & (df_book['seconds_in_bucket'] < end_time)]['time_length']) / (end_time - start_time)\n",
      "/Users/vladimir.levin/Yandex.Disk.localized/01_Documents/01_Study/0_LUX/01_PhD/Drafts/Project3/kaggle_volatility/support_file.py:1676: RuntimeWarning: invalid value encountered in true_divide\n",
      "  w_bid = np.sum(df_book[(start_time <= df_book['seconds_in_bucket']) & (df_book['seconds_in_bucket'] < end_time)]['bid_price1'] * df_book[(start_time <= df_book['seconds_in_bucket']) & (df_book['seconds_in_bucket'] < end_time)]['time_length']) / (end_time - start_time)\n"
     ]
    },
    {
     "name": "stdout",
     "output_type": "stream",
     "text": [
      "6068\n",
      "6070\n",
      "6074\n",
      "6076\n",
      "6082\n"
     ]
    },
    {
     "name": "stderr",
     "output_type": "stream",
     "text": [
      "/Users/vladimir.levin/Yandex.Disk.localized/01_Documents/01_Study/0_LUX/01_PhD/Drafts/Project3/kaggle_volatility/support_file.py:1675: RuntimeWarning: invalid value encountered in true_divide\n",
      "  w_ask = np.sum(df_book[(start_time <= df_book['seconds_in_bucket']) & (df_book['seconds_in_bucket'] < end_time)]['ask_price1'] * df_book[(start_time <= df_book['seconds_in_bucket']) & (df_book['seconds_in_bucket'] < end_time)]['time_length']) / (end_time - start_time)\n",
      "/Users/vladimir.levin/Yandex.Disk.localized/01_Documents/01_Study/0_LUX/01_PhD/Drafts/Project3/kaggle_volatility/support_file.py:1676: RuntimeWarning: invalid value encountered in true_divide\n",
      "  w_bid = np.sum(df_book[(start_time <= df_book['seconds_in_bucket']) & (df_book['seconds_in_bucket'] < end_time)]['bid_price1'] * df_book[(start_time <= df_book['seconds_in_bucket']) & (df_book['seconds_in_bucket'] < end_time)]['time_length']) / (end_time - start_time)\n",
      "/Users/vladimir.levin/Yandex.Disk.localized/01_Documents/01_Study/0_LUX/01_PhD/Drafts/Project3/kaggle_volatility/support_file.py:1675: RuntimeWarning: invalid value encountered in true_divide\n",
      "  w_ask = np.sum(df_book[(start_time <= df_book['seconds_in_bucket']) & (df_book['seconds_in_bucket'] < end_time)]['ask_price1'] * df_book[(start_time <= df_book['seconds_in_bucket']) & (df_book['seconds_in_bucket'] < end_time)]['time_length']) / (end_time - start_time)\n",
      "/Users/vladimir.levin/Yandex.Disk.localized/01_Documents/01_Study/0_LUX/01_PhD/Drafts/Project3/kaggle_volatility/support_file.py:1676: RuntimeWarning: invalid value encountered in true_divide\n",
      "  w_bid = np.sum(df_book[(start_time <= df_book['seconds_in_bucket']) & (df_book['seconds_in_bucket'] < end_time)]['bid_price1'] * df_book[(start_time <= df_book['seconds_in_bucket']) & (df_book['seconds_in_bucket'] < end_time)]['time_length']) / (end_time - start_time)\n"
     ]
    },
    {
     "name": "stdout",
     "output_type": "stream",
     "text": [
      "6085\n",
      "6089\n",
      "6102\n",
      "6108\n",
      "6114\n",
      "6115\n",
      "6121\n",
      "6134\n"
     ]
    },
    {
     "name": "stderr",
     "output_type": "stream",
     "text": [
      "/Users/vladimir.levin/Yandex.Disk.localized/01_Documents/01_Study/0_LUX/01_PhD/Drafts/Project3/kaggle_volatility/support_file.py:1675: RuntimeWarning: invalid value encountered in true_divide\n",
      "  w_ask = np.sum(df_book[(start_time <= df_book['seconds_in_bucket']) & (df_book['seconds_in_bucket'] < end_time)]['ask_price1'] * df_book[(start_time <= df_book['seconds_in_bucket']) & (df_book['seconds_in_bucket'] < end_time)]['time_length']) / (end_time - start_time)\n",
      "/Users/vladimir.levin/Yandex.Disk.localized/01_Documents/01_Study/0_LUX/01_PhD/Drafts/Project3/kaggle_volatility/support_file.py:1676: RuntimeWarning: invalid value encountered in true_divide\n",
      "  w_bid = np.sum(df_book[(start_time <= df_book['seconds_in_bucket']) & (df_book['seconds_in_bucket'] < end_time)]['bid_price1'] * df_book[(start_time <= df_book['seconds_in_bucket']) & (df_book['seconds_in_bucket'] < end_time)]['time_length']) / (end_time - start_time)\n",
      "/Users/vladimir.levin/Yandex.Disk.localized/01_Documents/01_Study/0_LUX/01_PhD/Drafts/Project3/kaggle_volatility/support_file.py:1675: RuntimeWarning: invalid value encountered in true_divide\n",
      "  w_ask = np.sum(df_book[(start_time <= df_book['seconds_in_bucket']) & (df_book['seconds_in_bucket'] < end_time)]['ask_price1'] * df_book[(start_time <= df_book['seconds_in_bucket']) & (df_book['seconds_in_bucket'] < end_time)]['time_length']) / (end_time - start_time)\n",
      "/Users/vladimir.levin/Yandex.Disk.localized/01_Documents/01_Study/0_LUX/01_PhD/Drafts/Project3/kaggle_volatility/support_file.py:1676: RuntimeWarning: invalid value encountered in true_divide\n",
      "  w_bid = np.sum(df_book[(start_time <= df_book['seconds_in_bucket']) & (df_book['seconds_in_bucket'] < end_time)]['bid_price1'] * df_book[(start_time <= df_book['seconds_in_bucket']) & (df_book['seconds_in_bucket'] < end_time)]['time_length']) / (end_time - start_time)\n"
     ]
    },
    {
     "name": "stdout",
     "output_type": "stream",
     "text": [
      "6139\n",
      "6144\n",
      "6145\n",
      "6166\n",
      "6172\n",
      "6174\n",
      "6177\n"
     ]
    },
    {
     "name": "stderr",
     "output_type": "stream",
     "text": [
      "/Users/vladimir.levin/Yandex.Disk.localized/01_Documents/01_Study/0_LUX/01_PhD/Drafts/Project3/kaggle_volatility/support_file.py:1675: RuntimeWarning: invalid value encountered in true_divide\n",
      "  w_ask = np.sum(df_book[(start_time <= df_book['seconds_in_bucket']) & (df_book['seconds_in_bucket'] < end_time)]['ask_price1'] * df_book[(start_time <= df_book['seconds_in_bucket']) & (df_book['seconds_in_bucket'] < end_time)]['time_length']) / (end_time - start_time)\n",
      "/Users/vladimir.levin/Yandex.Disk.localized/01_Documents/01_Study/0_LUX/01_PhD/Drafts/Project3/kaggle_volatility/support_file.py:1676: RuntimeWarning: invalid value encountered in true_divide\n",
      "  w_bid = np.sum(df_book[(start_time <= df_book['seconds_in_bucket']) & (df_book['seconds_in_bucket'] < end_time)]['bid_price1'] * df_book[(start_time <= df_book['seconds_in_bucket']) & (df_book['seconds_in_bucket'] < end_time)]['time_length']) / (end_time - start_time)\n"
     ]
    },
    {
     "name": "stdout",
     "output_type": "stream",
     "text": [
      "6197\n",
      "6213\n",
      "6217\n",
      "6235\n",
      "6256\n"
     ]
    },
    {
     "name": "stderr",
     "output_type": "stream",
     "text": [
      "/Users/vladimir.levin/Yandex.Disk.localized/01_Documents/01_Study/0_LUX/01_PhD/Drafts/Project3/kaggle_volatility/support_file.py:1675: RuntimeWarning: invalid value encountered in true_divide\n",
      "  w_ask = np.sum(df_book[(start_time <= df_book['seconds_in_bucket']) & (df_book['seconds_in_bucket'] < end_time)]['ask_price1'] * df_book[(start_time <= df_book['seconds_in_bucket']) & (df_book['seconds_in_bucket'] < end_time)]['time_length']) / (end_time - start_time)\n",
      "/Users/vladimir.levin/Yandex.Disk.localized/01_Documents/01_Study/0_LUX/01_PhD/Drafts/Project3/kaggle_volatility/support_file.py:1676: RuntimeWarning: invalid value encountered in true_divide\n",
      "  w_bid = np.sum(df_book[(start_time <= df_book['seconds_in_bucket']) & (df_book['seconds_in_bucket'] < end_time)]['bid_price1'] * df_book[(start_time <= df_book['seconds_in_bucket']) & (df_book['seconds_in_bucket'] < end_time)]['time_length']) / (end_time - start_time)\n"
     ]
    },
    {
     "name": "stdout",
     "output_type": "stream",
     "text": [
      "6270\n",
      "6272\n",
      "6274\n",
      "6286\n",
      "6287\n",
      "6296\n",
      "6316\n",
      "6324\n",
      "6325\n",
      "6342\n",
      "6356\n",
      "6359\n",
      "6367\n"
     ]
    },
    {
     "name": "stderr",
     "output_type": "stream",
     "text": [
      "/Users/vladimir.levin/Yandex.Disk.localized/01_Documents/01_Study/0_LUX/01_PhD/Drafts/Project3/kaggle_volatility/support_file.py:1675: RuntimeWarning: invalid value encountered in true_divide\n",
      "  w_ask = np.sum(df_book[(start_time <= df_book['seconds_in_bucket']) & (df_book['seconds_in_bucket'] < end_time)]['ask_price1'] * df_book[(start_time <= df_book['seconds_in_bucket']) & (df_book['seconds_in_bucket'] < end_time)]['time_length']) / (end_time - start_time)\n",
      "/Users/vladimir.levin/Yandex.Disk.localized/01_Documents/01_Study/0_LUX/01_PhD/Drafts/Project3/kaggle_volatility/support_file.py:1676: RuntimeWarning: invalid value encountered in true_divide\n",
      "  w_bid = np.sum(df_book[(start_time <= df_book['seconds_in_bucket']) & (df_book['seconds_in_bucket'] < end_time)]['bid_price1'] * df_book[(start_time <= df_book['seconds_in_bucket']) & (df_book['seconds_in_bucket'] < end_time)]['time_length']) / (end_time - start_time)\n",
      "/Users/vladimir.levin/Yandex.Disk.localized/01_Documents/01_Study/0_LUX/01_PhD/Drafts/Project3/kaggle_volatility/support_file.py:1675: RuntimeWarning: invalid value encountered in true_divide\n",
      "  w_ask = np.sum(df_book[(start_time <= df_book['seconds_in_bucket']) & (df_book['seconds_in_bucket'] < end_time)]['ask_price1'] * df_book[(start_time <= df_book['seconds_in_bucket']) & (df_book['seconds_in_bucket'] < end_time)]['time_length']) / (end_time - start_time)\n",
      "/Users/vladimir.levin/Yandex.Disk.localized/01_Documents/01_Study/0_LUX/01_PhD/Drafts/Project3/kaggle_volatility/support_file.py:1676: RuntimeWarning: invalid value encountered in true_divide\n",
      "  w_bid = np.sum(df_book[(start_time <= df_book['seconds_in_bucket']) & (df_book['seconds_in_bucket'] < end_time)]['bid_price1'] * df_book[(start_time <= df_book['seconds_in_bucket']) & (df_book['seconds_in_bucket'] < end_time)]['time_length']) / (end_time - start_time)\n"
     ]
    },
    {
     "name": "stdout",
     "output_type": "stream",
     "text": [
      "6382\n",
      "6390\n",
      "6398\n",
      "6403\n",
      "6410\n",
      "6428\n",
      "6434\n",
      "6445\n",
      "6463\n",
      "6476\n",
      "6480\n",
      "6481\n",
      "6482\n",
      "6483\n"
     ]
    },
    {
     "name": "stderr",
     "output_type": "stream",
     "text": [
      "/Users/vladimir.levin/Yandex.Disk.localized/01_Documents/01_Study/0_LUX/01_PhD/Drafts/Project3/kaggle_volatility/support_file.py:1675: RuntimeWarning: invalid value encountered in true_divide\n",
      "  w_ask = np.sum(df_book[(start_time <= df_book['seconds_in_bucket']) & (df_book['seconds_in_bucket'] < end_time)]['ask_price1'] * df_book[(start_time <= df_book['seconds_in_bucket']) & (df_book['seconds_in_bucket'] < end_time)]['time_length']) / (end_time - start_time)\n",
      "/Users/vladimir.levin/Yandex.Disk.localized/01_Documents/01_Study/0_LUX/01_PhD/Drafts/Project3/kaggle_volatility/support_file.py:1676: RuntimeWarning: invalid value encountered in true_divide\n",
      "  w_bid = np.sum(df_book[(start_time <= df_book['seconds_in_bucket']) & (df_book['seconds_in_bucket'] < end_time)]['bid_price1'] * df_book[(start_time <= df_book['seconds_in_bucket']) & (df_book['seconds_in_bucket'] < end_time)]['time_length']) / (end_time - start_time)\n",
      "/Users/vladimir.levin/Yandex.Disk.localized/01_Documents/01_Study/0_LUX/01_PhD/Drafts/Project3/kaggle_volatility/support_file.py:1675: RuntimeWarning: invalid value encountered in true_divide\n",
      "  w_ask = np.sum(df_book[(start_time <= df_book['seconds_in_bucket']) & (df_book['seconds_in_bucket'] < end_time)]['ask_price1'] * df_book[(start_time <= df_book['seconds_in_bucket']) & (df_book['seconds_in_bucket'] < end_time)]['time_length']) / (end_time - start_time)\n",
      "/Users/vladimir.levin/Yandex.Disk.localized/01_Documents/01_Study/0_LUX/01_PhD/Drafts/Project3/kaggle_volatility/support_file.py:1676: RuntimeWarning: invalid value encountered in true_divide\n",
      "  w_bid = np.sum(df_book[(start_time <= df_book['seconds_in_bucket']) & (df_book['seconds_in_bucket'] < end_time)]['bid_price1'] * df_book[(start_time <= df_book['seconds_in_bucket']) & (df_book['seconds_in_bucket'] < end_time)]['time_length']) / (end_time - start_time)\n"
     ]
    },
    {
     "name": "stdout",
     "output_type": "stream",
     "text": [
      "6489\n",
      "6493\n",
      "6494\n",
      "6520\n",
      "6523\n",
      "6528\n",
      "6545\n",
      "6562\n"
     ]
    },
    {
     "name": "stderr",
     "output_type": "stream",
     "text": [
      "/Users/vladimir.levin/Yandex.Disk.localized/01_Documents/01_Study/0_LUX/01_PhD/Drafts/Project3/kaggle_volatility/support_file.py:1675: RuntimeWarning: invalid value encountered in true_divide\n",
      "  w_ask = np.sum(df_book[(start_time <= df_book['seconds_in_bucket']) & (df_book['seconds_in_bucket'] < end_time)]['ask_price1'] * df_book[(start_time <= df_book['seconds_in_bucket']) & (df_book['seconds_in_bucket'] < end_time)]['time_length']) / (end_time - start_time)\n",
      "/Users/vladimir.levin/Yandex.Disk.localized/01_Documents/01_Study/0_LUX/01_PhD/Drafts/Project3/kaggle_volatility/support_file.py:1676: RuntimeWarning: invalid value encountered in true_divide\n",
      "  w_bid = np.sum(df_book[(start_time <= df_book['seconds_in_bucket']) & (df_book['seconds_in_bucket'] < end_time)]['bid_price1'] * df_book[(start_time <= df_book['seconds_in_bucket']) & (df_book['seconds_in_bucket'] < end_time)]['time_length']) / (end_time - start_time)\n"
     ]
    },
    {
     "name": "stdout",
     "output_type": "stream",
     "text": [
      "6566\n",
      "6568\n"
     ]
    },
    {
     "name": "stderr",
     "output_type": "stream",
     "text": [
      "/Users/vladimir.levin/Yandex.Disk.localized/01_Documents/01_Study/0_LUX/01_PhD/Drafts/Project3/kaggle_volatility/support_file.py:1675: RuntimeWarning: invalid value encountered in true_divide\n",
      "  w_ask = np.sum(df_book[(start_time <= df_book['seconds_in_bucket']) & (df_book['seconds_in_bucket'] < end_time)]['ask_price1'] * df_book[(start_time <= df_book['seconds_in_bucket']) & (df_book['seconds_in_bucket'] < end_time)]['time_length']) / (end_time - start_time)\n",
      "/Users/vladimir.levin/Yandex.Disk.localized/01_Documents/01_Study/0_LUX/01_PhD/Drafts/Project3/kaggle_volatility/support_file.py:1676: RuntimeWarning: invalid value encountered in true_divide\n",
      "  w_bid = np.sum(df_book[(start_time <= df_book['seconds_in_bucket']) & (df_book['seconds_in_bucket'] < end_time)]['bid_price1'] * df_book[(start_time <= df_book['seconds_in_bucket']) & (df_book['seconds_in_bucket'] < end_time)]['time_length']) / (end_time - start_time)\n",
      "/Users/vladimir.levin/Yandex.Disk.localized/01_Documents/01_Study/0_LUX/01_PhD/Drafts/Project3/kaggle_volatility/support_file.py:1675: RuntimeWarning: invalid value encountered in true_divide\n",
      "  w_ask = np.sum(df_book[(start_time <= df_book['seconds_in_bucket']) & (df_book['seconds_in_bucket'] < end_time)]['ask_price1'] * df_book[(start_time <= df_book['seconds_in_bucket']) & (df_book['seconds_in_bucket'] < end_time)]['time_length']) / (end_time - start_time)\n",
      "/Users/vladimir.levin/Yandex.Disk.localized/01_Documents/01_Study/0_LUX/01_PhD/Drafts/Project3/kaggle_volatility/support_file.py:1676: RuntimeWarning: invalid value encountered in true_divide\n",
      "  w_bid = np.sum(df_book[(start_time <= df_book['seconds_in_bucket']) & (df_book['seconds_in_bucket'] < end_time)]['bid_price1'] * df_book[(start_time <= df_book['seconds_in_bucket']) & (df_book['seconds_in_bucket'] < end_time)]['time_length']) / (end_time - start_time)\n"
     ]
    },
    {
     "name": "stdout",
     "output_type": "stream",
     "text": [
      "6585\n",
      "6592\n",
      "6599\n",
      "6607\n",
      "6613\n",
      "6617\n",
      "6619\n",
      "6626\n",
      "6631\n"
     ]
    },
    {
     "name": "stderr",
     "output_type": "stream",
     "text": [
      "/Users/vladimir.levin/Yandex.Disk.localized/01_Documents/01_Study/0_LUX/01_PhD/Drafts/Project3/kaggle_volatility/support_file.py:1675: RuntimeWarning: invalid value encountered in true_divide\n",
      "  w_ask = np.sum(df_book[(start_time <= df_book['seconds_in_bucket']) & (df_book['seconds_in_bucket'] < end_time)]['ask_price1'] * df_book[(start_time <= df_book['seconds_in_bucket']) & (df_book['seconds_in_bucket'] < end_time)]['time_length']) / (end_time - start_time)\n",
      "/Users/vladimir.levin/Yandex.Disk.localized/01_Documents/01_Study/0_LUX/01_PhD/Drafts/Project3/kaggle_volatility/support_file.py:1676: RuntimeWarning: invalid value encountered in true_divide\n",
      "  w_bid = np.sum(df_book[(start_time <= df_book['seconds_in_bucket']) & (df_book['seconds_in_bucket'] < end_time)]['bid_price1'] * df_book[(start_time <= df_book['seconds_in_bucket']) & (df_book['seconds_in_bucket'] < end_time)]['time_length']) / (end_time - start_time)\n"
     ]
    },
    {
     "name": "stdout",
     "output_type": "stream",
     "text": [
      "6632\n",
      "6643\n",
      "6647"
     ]
    },
    {
     "name": "stderr",
     "output_type": "stream",
     "text": [
      "/Users/vladimir.levin/Yandex.Disk.localized/01_Documents/01_Study/0_LUX/01_PhD/Drafts/Project3/kaggle_volatility/support_file.py:1675: RuntimeWarning: invalid value encountered in true_divide\n",
      "  w_ask = np.sum(df_book[(start_time <= df_book['seconds_in_bucket']) & (df_book['seconds_in_bucket'] < end_time)]['ask_price1'] * df_book[(start_time <= df_book['seconds_in_bucket']) & (df_book['seconds_in_bucket'] < end_time)]['time_length']) / (end_time - start_time)\n",
      "/Users/vladimir.levin/Yandex.Disk.localized/01_Documents/01_Study/0_LUX/01_PhD/Drafts/Project3/kaggle_volatility/support_file.py:1676: RuntimeWarning: invalid value encountered in true_divide\n",
      "  w_bid = np.sum(df_book[(start_time <= df_book['seconds_in_bucket']) & (df_book['seconds_in_bucket'] < end_time)]['bid_price1'] * df_book[(start_time <= df_book['seconds_in_bucket']) & (df_book['seconds_in_bucket'] < end_time)]['time_length']) / (end_time - start_time)\n",
      "/Users/vladimir.levin/Yandex.Disk.localized/01_Documents/01_Study/0_LUX/01_PhD/Drafts/Project3/kaggle_volatility/support_file.py:1675: RuntimeWarning: invalid value encountered in true_divide\n",
      "  w_ask = np.sum(df_book[(start_time <= df_book['seconds_in_bucket']) & (df_book['seconds_in_bucket'] < end_time)]['ask_price1'] * df_book[(start_time <= df_book['seconds_in_bucket']) & (df_book['seconds_in_bucket'] < end_time)]['time_length']) / (end_time - start_time)\n",
      "/Users/vladimir.levin/Yandex.Disk.localized/01_Documents/01_Study/0_LUX/01_PhD/Drafts/Project3/kaggle_volatility/support_file.py:1676: RuntimeWarning: invalid value encountered in true_divide\n",
      "  w_bid = np.sum(df_book[(start_time <= df_book['seconds_in_bucket']) & (df_book['seconds_in_bucket'] < end_time)]['bid_price1'] * df_book[(start_time <= df_book['seconds_in_bucket']) & (df_book['seconds_in_bucket'] < end_time)]['time_length']) / (end_time - start_time)\n"
     ]
    },
    {
     "name": "stdout",
     "output_type": "stream",
     "text": [
      "\n",
      "6648\n",
      "6657\n",
      "6668\n",
      "6679\n",
      "6693\n",
      "6696\n",
      "6723\n",
      "6729\n",
      "6730\n",
      "6740\n"
     ]
    },
    {
     "name": "stderr",
     "output_type": "stream",
     "text": [
      "/Users/vladimir.levin/Yandex.Disk.localized/01_Documents/01_Study/0_LUX/01_PhD/Drafts/Project3/kaggle_volatility/support_file.py:1675: RuntimeWarning: invalid value encountered in true_divide\n",
      "  w_ask = np.sum(df_book[(start_time <= df_book['seconds_in_bucket']) & (df_book['seconds_in_bucket'] < end_time)]['ask_price1'] * df_book[(start_time <= df_book['seconds_in_bucket']) & (df_book['seconds_in_bucket'] < end_time)]['time_length']) / (end_time - start_time)\n",
      "/Users/vladimir.levin/Yandex.Disk.localized/01_Documents/01_Study/0_LUX/01_PhD/Drafts/Project3/kaggle_volatility/support_file.py:1676: RuntimeWarning: invalid value encountered in true_divide\n",
      "  w_bid = np.sum(df_book[(start_time <= df_book['seconds_in_bucket']) & (df_book['seconds_in_bucket'] < end_time)]['bid_price1'] * df_book[(start_time <= df_book['seconds_in_bucket']) & (df_book['seconds_in_bucket'] < end_time)]['time_length']) / (end_time - start_time)\n",
      "/Users/vladimir.levin/Yandex.Disk.localized/01_Documents/01_Study/0_LUX/01_PhD/Drafts/Project3/kaggle_volatility/support_file.py:1675: RuntimeWarning: invalid value encountered in true_divide\n",
      "  w_ask = np.sum(df_book[(start_time <= df_book['seconds_in_bucket']) & (df_book['seconds_in_bucket'] < end_time)]['ask_price1'] * df_book[(start_time <= df_book['seconds_in_bucket']) & (df_book['seconds_in_bucket'] < end_time)]['time_length']) / (end_time - start_time)\n",
      "/Users/vladimir.levin/Yandex.Disk.localized/01_Documents/01_Study/0_LUX/01_PhD/Drafts/Project3/kaggle_volatility/support_file.py:1676: RuntimeWarning: invalid value encountered in true_divide\n",
      "  w_bid = np.sum(df_book[(start_time <= df_book['seconds_in_bucket']) & (df_book['seconds_in_bucket'] < end_time)]['bid_price1'] * df_book[(start_time <= df_book['seconds_in_bucket']) & (df_book['seconds_in_bucket'] < end_time)]['time_length']) / (end_time - start_time)\n"
     ]
    },
    {
     "name": "stdout",
     "output_type": "stream",
     "text": [
      "6742\n",
      "6746\n",
      "6771\n",
      "6777\n",
      "6782\n",
      "6799\n",
      "6809\n"
     ]
    },
    {
     "name": "stderr",
     "output_type": "stream",
     "text": [
      "/Users/vladimir.levin/Yandex.Disk.localized/01_Documents/01_Study/0_LUX/01_PhD/Drafts/Project3/kaggle_volatility/support_file.py:1675: RuntimeWarning: invalid value encountered in true_divide\n",
      "  w_ask = np.sum(df_book[(start_time <= df_book['seconds_in_bucket']) & (df_book['seconds_in_bucket'] < end_time)]['ask_price1'] * df_book[(start_time <= df_book['seconds_in_bucket']) & (df_book['seconds_in_bucket'] < end_time)]['time_length']) / (end_time - start_time)\n",
      "/Users/vladimir.levin/Yandex.Disk.localized/01_Documents/01_Study/0_LUX/01_PhD/Drafts/Project3/kaggle_volatility/support_file.py:1676: RuntimeWarning: invalid value encountered in true_divide\n",
      "  w_bid = np.sum(df_book[(start_time <= df_book['seconds_in_bucket']) & (df_book['seconds_in_bucket'] < end_time)]['bid_price1'] * df_book[(start_time <= df_book['seconds_in_bucket']) & (df_book['seconds_in_bucket'] < end_time)]['time_length']) / (end_time - start_time)\n",
      "/Users/vladimir.levin/Yandex.Disk.localized/01_Documents/01_Study/0_LUX/01_PhD/Drafts/Project3/kaggle_volatility/support_file.py:1675: RuntimeWarning: invalid value encountered in true_divide\n",
      "  w_ask = np.sum(df_book[(start_time <= df_book['seconds_in_bucket']) & (df_book['seconds_in_bucket'] < end_time)]['ask_price1'] * df_book[(start_time <= df_book['seconds_in_bucket']) & (df_book['seconds_in_bucket'] < end_time)]['time_length']) / (end_time - start_time)\n",
      "/Users/vladimir.levin/Yandex.Disk.localized/01_Documents/01_Study/0_LUX/01_PhD/Drafts/Project3/kaggle_volatility/support_file.py:1676: RuntimeWarning: invalid value encountered in true_divide\n",
      "  w_bid = np.sum(df_book[(start_time <= df_book['seconds_in_bucket']) & (df_book['seconds_in_bucket'] < end_time)]['bid_price1'] * df_book[(start_time <= df_book['seconds_in_bucket']) & (df_book['seconds_in_bucket'] < end_time)]['time_length']) / (end_time - start_time)\n"
     ]
    },
    {
     "name": "stdout",
     "output_type": "stream",
     "text": [
      "6815\n",
      "6819\n",
      "6820\n",
      "6822\n",
      "6823\n",
      "6827\n"
     ]
    },
    {
     "name": "stderr",
     "output_type": "stream",
     "text": [
      "/Users/vladimir.levin/Yandex.Disk.localized/01_Documents/01_Study/0_LUX/01_PhD/Drafts/Project3/kaggle_volatility/support_file.py:1675: RuntimeWarning: invalid value encountered in true_divide\n",
      "  w_ask = np.sum(df_book[(start_time <= df_book['seconds_in_bucket']) & (df_book['seconds_in_bucket'] < end_time)]['ask_price1'] * df_book[(start_time <= df_book['seconds_in_bucket']) & (df_book['seconds_in_bucket'] < end_time)]['time_length']) / (end_time - start_time)\n",
      "/Users/vladimir.levin/Yandex.Disk.localized/01_Documents/01_Study/0_LUX/01_PhD/Drafts/Project3/kaggle_volatility/support_file.py:1676: RuntimeWarning: invalid value encountered in true_divide\n",
      "  w_bid = np.sum(df_book[(start_time <= df_book['seconds_in_bucket']) & (df_book['seconds_in_bucket'] < end_time)]['bid_price1'] * df_book[(start_time <= df_book['seconds_in_bucket']) & (df_book['seconds_in_bucket'] < end_time)]['time_length']) / (end_time - start_time)\n"
     ]
    },
    {
     "name": "stdout",
     "output_type": "stream",
     "text": [
      "6836\n",
      "6846\n",
      "6850\n",
      "6854\n",
      "6859\n",
      "6895\n",
      "6904\n",
      "6906\n"
     ]
    },
    {
     "name": "stderr",
     "output_type": "stream",
     "text": [
      "/Users/vladimir.levin/Yandex.Disk.localized/01_Documents/01_Study/0_LUX/01_PhD/Drafts/Project3/kaggle_volatility/support_file.py:1675: RuntimeWarning: invalid value encountered in true_divide\n",
      "  w_ask = np.sum(df_book[(start_time <= df_book['seconds_in_bucket']) & (df_book['seconds_in_bucket'] < end_time)]['ask_price1'] * df_book[(start_time <= df_book['seconds_in_bucket']) & (df_book['seconds_in_bucket'] < end_time)]['time_length']) / (end_time - start_time)\n",
      "/Users/vladimir.levin/Yandex.Disk.localized/01_Documents/01_Study/0_LUX/01_PhD/Drafts/Project3/kaggle_volatility/support_file.py:1676: RuntimeWarning: invalid value encountered in true_divide\n",
      "  w_bid = np.sum(df_book[(start_time <= df_book['seconds_in_bucket']) & (df_book['seconds_in_bucket'] < end_time)]['bid_price1'] * df_book[(start_time <= df_book['seconds_in_bucket']) & (df_book['seconds_in_bucket'] < end_time)]['time_length']) / (end_time - start_time)\n"
     ]
    },
    {
     "name": "stdout",
     "output_type": "stream",
     "text": [
      "6909\n",
      "6914\n",
      "6917\n",
      "6925\n",
      "6928\n"
     ]
    },
    {
     "name": "stderr",
     "output_type": "stream",
     "text": [
      "/Users/vladimir.levin/Yandex.Disk.localized/01_Documents/01_Study/0_LUX/01_PhD/Drafts/Project3/kaggle_volatility/support_file.py:1675: RuntimeWarning: invalid value encountered in true_divide\n",
      "  w_ask = np.sum(df_book[(start_time <= df_book['seconds_in_bucket']) & (df_book['seconds_in_bucket'] < end_time)]['ask_price1'] * df_book[(start_time <= df_book['seconds_in_bucket']) & (df_book['seconds_in_bucket'] < end_time)]['time_length']) / (end_time - start_time)\n",
      "/Users/vladimir.levin/Yandex.Disk.localized/01_Documents/01_Study/0_LUX/01_PhD/Drafts/Project3/kaggle_volatility/support_file.py:1676: RuntimeWarning: invalid value encountered in true_divide\n",
      "  w_bid = np.sum(df_book[(start_time <= df_book['seconds_in_bucket']) & (df_book['seconds_in_bucket'] < end_time)]['bid_price1'] * df_book[(start_time <= df_book['seconds_in_bucket']) & (df_book['seconds_in_bucket'] < end_time)]['time_length']) / (end_time - start_time)\n"
     ]
    },
    {
     "name": "stdout",
     "output_type": "stream",
     "text": [
      "6930\n"
     ]
    },
    {
     "name": "stderr",
     "output_type": "stream",
     "text": [
      "/Users/vladimir.levin/Yandex.Disk.localized/01_Documents/01_Study/0_LUX/01_PhD/Drafts/Project3/kaggle_volatility/support_file.py:1675: RuntimeWarning: invalid value encountered in true_divide\n",
      "  w_ask = np.sum(df_book[(start_time <= df_book['seconds_in_bucket']) & (df_book['seconds_in_bucket'] < end_time)]['ask_price1'] * df_book[(start_time <= df_book['seconds_in_bucket']) & (df_book['seconds_in_bucket'] < end_time)]['time_length']) / (end_time - start_time)\n",
      "/Users/vladimir.levin/Yandex.Disk.localized/01_Documents/01_Study/0_LUX/01_PhD/Drafts/Project3/kaggle_volatility/support_file.py:1676: RuntimeWarning: invalid value encountered in true_divide\n",
      "  w_bid = np.sum(df_book[(start_time <= df_book['seconds_in_bucket']) & (df_book['seconds_in_bucket'] < end_time)]['bid_price1'] * df_book[(start_time <= df_book['seconds_in_bucket']) & (df_book['seconds_in_bucket'] < end_time)]['time_length']) / (end_time - start_time)\n"
     ]
    },
    {
     "name": "stdout",
     "output_type": "stream",
     "text": [
      "6931\n",
      "6932\n",
      "6939\n",
      "6940\n",
      "6941\n",
      "6944\n",
      "6961\n",
      "6965\n",
      "6976\n",
      "6979\n",
      "6999\n",
      "7005\n"
     ]
    },
    {
     "name": "stderr",
     "output_type": "stream",
     "text": [
      "/Users/vladimir.levin/Yandex.Disk.localized/01_Documents/01_Study/0_LUX/01_PhD/Drafts/Project3/kaggle_volatility/support_file.py:1675: RuntimeWarning: invalid value encountered in true_divide\n",
      "  w_ask = np.sum(df_book[(start_time <= df_book['seconds_in_bucket']) & (df_book['seconds_in_bucket'] < end_time)]['ask_price1'] * df_book[(start_time <= df_book['seconds_in_bucket']) & (df_book['seconds_in_bucket'] < end_time)]['time_length']) / (end_time - start_time)\n",
      "/Users/vladimir.levin/Yandex.Disk.localized/01_Documents/01_Study/0_LUX/01_PhD/Drafts/Project3/kaggle_volatility/support_file.py:1676: RuntimeWarning: invalid value encountered in true_divide\n",
      "  w_bid = np.sum(df_book[(start_time <= df_book['seconds_in_bucket']) & (df_book['seconds_in_bucket'] < end_time)]['bid_price1'] * df_book[(start_time <= df_book['seconds_in_bucket']) & (df_book['seconds_in_bucket'] < end_time)]['time_length']) / (end_time - start_time)\n"
     ]
    },
    {
     "name": "stdout",
     "output_type": "stream",
     "text": [
      "7008\n",
      "7009\n",
      "7013\n"
     ]
    },
    {
     "name": "stderr",
     "output_type": "stream",
     "text": [
      "/Users/vladimir.levin/Yandex.Disk.localized/01_Documents/01_Study/0_LUX/01_PhD/Drafts/Project3/kaggle_volatility/support_file.py:1675: RuntimeWarning: invalid value encountered in true_divide\n",
      "  w_ask = np.sum(df_book[(start_time <= df_book['seconds_in_bucket']) & (df_book['seconds_in_bucket'] < end_time)]['ask_price1'] * df_book[(start_time <= df_book['seconds_in_bucket']) & (df_book['seconds_in_bucket'] < end_time)]['time_length']) / (end_time - start_time)\n",
      "/Users/vladimir.levin/Yandex.Disk.localized/01_Documents/01_Study/0_LUX/01_PhD/Drafts/Project3/kaggle_volatility/support_file.py:1676: RuntimeWarning: invalid value encountered in true_divide\n",
      "  w_bid = np.sum(df_book[(start_time <= df_book['seconds_in_bucket']) & (df_book['seconds_in_bucket'] < end_time)]['bid_price1'] * df_book[(start_time <= df_book['seconds_in_bucket']) & (df_book['seconds_in_bucket'] < end_time)]['time_length']) / (end_time - start_time)\n",
      "/Users/vladimir.levin/Yandex.Disk.localized/01_Documents/01_Study/0_LUX/01_PhD/Drafts/Project3/kaggle_volatility/support_file.py:1675: RuntimeWarning: invalid value encountered in true_divide\n",
      "  w_ask = np.sum(df_book[(start_time <= df_book['seconds_in_bucket']) & (df_book['seconds_in_bucket'] < end_time)]['ask_price1'] * df_book[(start_time <= df_book['seconds_in_bucket']) & (df_book['seconds_in_bucket'] < end_time)]['time_length']) / (end_time - start_time)\n",
      "/Users/vladimir.levin/Yandex.Disk.localized/01_Documents/01_Study/0_LUX/01_PhD/Drafts/Project3/kaggle_volatility/support_file.py:1676: RuntimeWarning: invalid value encountered in true_divide\n",
      "  w_bid = np.sum(df_book[(start_time <= df_book['seconds_in_bucket']) & (df_book['seconds_in_bucket'] < end_time)]['bid_price1'] * df_book[(start_time <= df_book['seconds_in_bucket']) & (df_book['seconds_in_bucket'] < end_time)]['time_length']) / (end_time - start_time)\n"
     ]
    },
    {
     "name": "stdout",
     "output_type": "stream",
     "text": [
      "7014\n",
      "7028\n",
      "7041\n",
      "7043\n",
      "7051\n",
      "7054\n",
      "7055"
     ]
    },
    {
     "name": "stderr",
     "output_type": "stream",
     "text": [
      "/Users/vladimir.levin/Yandex.Disk.localized/01_Documents/01_Study/0_LUX/01_PhD/Drafts/Project3/kaggle_volatility/support_file.py:1675: RuntimeWarning: invalid value encountered in true_divide\n",
      "  w_ask = np.sum(df_book[(start_time <= df_book['seconds_in_bucket']) & (df_book['seconds_in_bucket'] < end_time)]['ask_price1'] * df_book[(start_time <= df_book['seconds_in_bucket']) & (df_book['seconds_in_bucket'] < end_time)]['time_length']) / (end_time - start_time)\n",
      "/Users/vladimir.levin/Yandex.Disk.localized/01_Documents/01_Study/0_LUX/01_PhD/Drafts/Project3/kaggle_volatility/support_file.py:1676: RuntimeWarning: invalid value encountered in true_divide\n",
      "  w_bid = np.sum(df_book[(start_time <= df_book['seconds_in_bucket']) & (df_book['seconds_in_bucket'] < end_time)]['bid_price1'] * df_book[(start_time <= df_book['seconds_in_bucket']) & (df_book['seconds_in_bucket'] < end_time)]['time_length']) / (end_time - start_time)\n",
      "/Users/vladimir.levin/Yandex.Disk.localized/01_Documents/01_Study/0_LUX/01_PhD/Drafts/Project3/kaggle_volatility/support_file.py:1675: RuntimeWarning: invalid value encountered in true_divide\n",
      "  w_ask = np.sum(df_book[(start_time <= df_book['seconds_in_bucket']) & (df_book['seconds_in_bucket'] < end_time)]['ask_price1'] * df_book[(start_time <= df_book['seconds_in_bucket']) & (df_book['seconds_in_bucket'] < end_time)]['time_length']) / (end_time - start_time)\n",
      "/Users/vladimir.levin/Yandex.Disk.localized/01_Documents/01_Study/0_LUX/01_PhD/Drafts/Project3/kaggle_volatility/support_file.py:1676: RuntimeWarning: invalid value encountered in true_divide\n",
      "  w_bid = np.sum(df_book[(start_time <= df_book['seconds_in_bucket']) & (df_book['seconds_in_bucket'] < end_time)]['bid_price1'] * df_book[(start_time <= df_book['seconds_in_bucket']) & (df_book['seconds_in_bucket'] < end_time)]['time_length']) / (end_time - start_time)\n"
     ]
    },
    {
     "name": "stdout",
     "output_type": "stream",
     "text": [
      "\n",
      "7107\n",
      "7122\n",
      "7124\n",
      "7133\n",
      "7150\n",
      "7151\n",
      "7162\n",
      "7180\n",
      "7194\n",
      "7195\n",
      "7200\n",
      "7212"
     ]
    },
    {
     "name": "stderr",
     "output_type": "stream",
     "text": [
      "/Users/vladimir.levin/Yandex.Disk.localized/01_Documents/01_Study/0_LUX/01_PhD/Drafts/Project3/kaggle_volatility/support_file.py:1675: RuntimeWarning: invalid value encountered in true_divide\n",
      "  w_ask = np.sum(df_book[(start_time <= df_book['seconds_in_bucket']) & (df_book['seconds_in_bucket'] < end_time)]['ask_price1'] * df_book[(start_time <= df_book['seconds_in_bucket']) & (df_book['seconds_in_bucket'] < end_time)]['time_length']) / (end_time - start_time)\n",
      "/Users/vladimir.levin/Yandex.Disk.localized/01_Documents/01_Study/0_LUX/01_PhD/Drafts/Project3/kaggle_volatility/support_file.py:1676: RuntimeWarning: invalid value encountered in true_divide\n",
      "  w_bid = np.sum(df_book[(start_time <= df_book['seconds_in_bucket']) & (df_book['seconds_in_bucket'] < end_time)]['bid_price1'] * df_book[(start_time <= df_book['seconds_in_bucket']) & (df_book['seconds_in_bucket'] < end_time)]['time_length']) / (end_time - start_time)\n"
     ]
    },
    {
     "name": "stdout",
     "output_type": "stream",
     "text": [
      "\n",
      "7213\n",
      "7217\n",
      "7219\n",
      "7237\n",
      "7245\n",
      "7249\n",
      "7251\n",
      "7258\n",
      "7260\n",
      "7261\n",
      "7270\n",
      "7277\n",
      "7309\n",
      "7310\n",
      "7316\n",
      "7322\n",
      "7333\n",
      "7343\n",
      "7367\n"
     ]
    },
    {
     "name": "stderr",
     "output_type": "stream",
     "text": [
      "/Users/vladimir.levin/Yandex.Disk.localized/01_Documents/01_Study/0_LUX/01_PhD/Drafts/Project3/kaggle_volatility/support_file.py:1675: RuntimeWarning: invalid value encountered in true_divide\n",
      "  w_ask = np.sum(df_book[(start_time <= df_book['seconds_in_bucket']) & (df_book['seconds_in_bucket'] < end_time)]['ask_price1'] * df_book[(start_time <= df_book['seconds_in_bucket']) & (df_book['seconds_in_bucket'] < end_time)]['time_length']) / (end_time - start_time)\n",
      "/Users/vladimir.levin/Yandex.Disk.localized/01_Documents/01_Study/0_LUX/01_PhD/Drafts/Project3/kaggle_volatility/support_file.py:1676: RuntimeWarning: invalid value encountered in true_divide\n",
      "  w_bid = np.sum(df_book[(start_time <= df_book['seconds_in_bucket']) & (df_book['seconds_in_bucket'] < end_time)]['bid_price1'] * df_book[(start_time <= df_book['seconds_in_bucket']) & (df_book['seconds_in_bucket'] < end_time)]['time_length']) / (end_time - start_time)\n"
     ]
    },
    {
     "name": "stdout",
     "output_type": "stream",
     "text": [
      "7369\n",
      "7373\n",
      "7374\n",
      "7418\n",
      "7444\n",
      "7447\n",
      "7458\n",
      "7460\n",
      "7465\n"
     ]
    },
    {
     "name": "stderr",
     "output_type": "stream",
     "text": [
      "/Users/vladimir.levin/Yandex.Disk.localized/01_Documents/01_Study/0_LUX/01_PhD/Drafts/Project3/kaggle_volatility/support_file.py:1675: RuntimeWarning: invalid value encountered in true_divide\n",
      "  w_ask = np.sum(df_book[(start_time <= df_book['seconds_in_bucket']) & (df_book['seconds_in_bucket'] < end_time)]['ask_price1'] * df_book[(start_time <= df_book['seconds_in_bucket']) & (df_book['seconds_in_bucket'] < end_time)]['time_length']) / (end_time - start_time)\n",
      "/Users/vladimir.levin/Yandex.Disk.localized/01_Documents/01_Study/0_LUX/01_PhD/Drafts/Project3/kaggle_volatility/support_file.py:1676: RuntimeWarning: invalid value encountered in true_divide\n",
      "  w_bid = np.sum(df_book[(start_time <= df_book['seconds_in_bucket']) & (df_book['seconds_in_bucket'] < end_time)]['bid_price1'] * df_book[(start_time <= df_book['seconds_in_bucket']) & (df_book['seconds_in_bucket'] < end_time)]['time_length']) / (end_time - start_time)\n"
     ]
    },
    {
     "name": "stdout",
     "output_type": "stream",
     "text": [
      "7467\n",
      "7478\n",
      "7491\n",
      "7512\n",
      "7517\n",
      "7518\n"
     ]
    },
    {
     "name": "stderr",
     "output_type": "stream",
     "text": [
      "/Users/vladimir.levin/Yandex.Disk.localized/01_Documents/01_Study/0_LUX/01_PhD/Drafts/Project3/kaggle_volatility/support_file.py:1675: RuntimeWarning: invalid value encountered in true_divide\n",
      "  w_ask = np.sum(df_book[(start_time <= df_book['seconds_in_bucket']) & (df_book['seconds_in_bucket'] < end_time)]['ask_price1'] * df_book[(start_time <= df_book['seconds_in_bucket']) & (df_book['seconds_in_bucket'] < end_time)]['time_length']) / (end_time - start_time)\n",
      "/Users/vladimir.levin/Yandex.Disk.localized/01_Documents/01_Study/0_LUX/01_PhD/Drafts/Project3/kaggle_volatility/support_file.py:1676: RuntimeWarning: invalid value encountered in true_divide\n",
      "  w_bid = np.sum(df_book[(start_time <= df_book['seconds_in_bucket']) & (df_book['seconds_in_bucket'] < end_time)]['bid_price1'] * df_book[(start_time <= df_book['seconds_in_bucket']) & (df_book['seconds_in_bucket'] < end_time)]['time_length']) / (end_time - start_time)\n"
     ]
    },
    {
     "name": "stdout",
     "output_type": "stream",
     "text": [
      "7545\n",
      "7548\n",
      "7564\n",
      "7566\n",
      "7567\n",
      "7572\n",
      "7593\n",
      "7621\n",
      "7624\n",
      "7629\n",
      "7632\n",
      "7653\n",
      "7666\n",
      "7668\n"
     ]
    },
    {
     "name": "stderr",
     "output_type": "stream",
     "text": [
      "/Users/vladimir.levin/Yandex.Disk.localized/01_Documents/01_Study/0_LUX/01_PhD/Drafts/Project3/kaggle_volatility/support_file.py:1675: RuntimeWarning: invalid value encountered in true_divide\n",
      "  w_ask = np.sum(df_book[(start_time <= df_book['seconds_in_bucket']) & (df_book['seconds_in_bucket'] < end_time)]['ask_price1'] * df_book[(start_time <= df_book['seconds_in_bucket']) & (df_book['seconds_in_bucket'] < end_time)]['time_length']) / (end_time - start_time)\n",
      "/Users/vladimir.levin/Yandex.Disk.localized/01_Documents/01_Study/0_LUX/01_PhD/Drafts/Project3/kaggle_volatility/support_file.py:1676: RuntimeWarning: invalid value encountered in true_divide\n",
      "  w_bid = np.sum(df_book[(start_time <= df_book['seconds_in_bucket']) & (df_book['seconds_in_bucket'] < end_time)]['bid_price1'] * df_book[(start_time <= df_book['seconds_in_bucket']) & (df_book['seconds_in_bucket'] < end_time)]['time_length']) / (end_time - start_time)\n"
     ]
    },
    {
     "name": "stdout",
     "output_type": "stream",
     "text": [
      "7674\n",
      "7675\n",
      "7677\n",
      "7679\n",
      "7686\n",
      "7709\n",
      "7714\n",
      "7716\n",
      "7743\n",
      "7745\n",
      "7747\n",
      "7752\n",
      "7758\n",
      "7759\n",
      "7764\n",
      "7775\n",
      "7783\n"
     ]
    },
    {
     "name": "stderr",
     "output_type": "stream",
     "text": [
      "/Users/vladimir.levin/Yandex.Disk.localized/01_Documents/01_Study/0_LUX/01_PhD/Drafts/Project3/kaggle_volatility/support_file.py:1675: RuntimeWarning: invalid value encountered in true_divide\n",
      "  w_ask = np.sum(df_book[(start_time <= df_book['seconds_in_bucket']) & (df_book['seconds_in_bucket'] < end_time)]['ask_price1'] * df_book[(start_time <= df_book['seconds_in_bucket']) & (df_book['seconds_in_bucket'] < end_time)]['time_length']) / (end_time - start_time)\n",
      "/Users/vladimir.levin/Yandex.Disk.localized/01_Documents/01_Study/0_LUX/01_PhD/Drafts/Project3/kaggle_volatility/support_file.py:1676: RuntimeWarning: invalid value encountered in true_divide\n",
      "  w_bid = np.sum(df_book[(start_time <= df_book['seconds_in_bucket']) & (df_book['seconds_in_bucket'] < end_time)]['bid_price1'] * df_book[(start_time <= df_book['seconds_in_bucket']) & (df_book['seconds_in_bucket'] < end_time)]['time_length']) / (end_time - start_time)\n"
     ]
    },
    {
     "name": "stdout",
     "output_type": "stream",
     "text": [
      "7799\n",
      "7811\n",
      "7818\n",
      "7821\n",
      "7837\n",
      "7843\n",
      "7845\n",
      "7854\n",
      "7864\n",
      "7874\n",
      "7882\n",
      "7883\n",
      "7884\n",
      "7885\n"
     ]
    },
    {
     "name": "stderr",
     "output_type": "stream",
     "text": [
      "/Users/vladimir.levin/Yandex.Disk.localized/01_Documents/01_Study/0_LUX/01_PhD/Drafts/Project3/kaggle_volatility/support_file.py:1675: RuntimeWarning: invalid value encountered in true_divide\n",
      "  w_ask = np.sum(df_book[(start_time <= df_book['seconds_in_bucket']) & (df_book['seconds_in_bucket'] < end_time)]['ask_price1'] * df_book[(start_time <= df_book['seconds_in_bucket']) & (df_book['seconds_in_bucket'] < end_time)]['time_length']) / (end_time - start_time)\n",
      "/Users/vladimir.levin/Yandex.Disk.localized/01_Documents/01_Study/0_LUX/01_PhD/Drafts/Project3/kaggle_volatility/support_file.py:1676: RuntimeWarning: invalid value encountered in true_divide\n",
      "  w_bid = np.sum(df_book[(start_time <= df_book['seconds_in_bucket']) & (df_book['seconds_in_bucket'] < end_time)]['bid_price1'] * df_book[(start_time <= df_book['seconds_in_bucket']) & (df_book['seconds_in_bucket'] < end_time)]['time_length']) / (end_time - start_time)\n",
      "/Users/vladimir.levin/Yandex.Disk.localized/01_Documents/01_Study/0_LUX/01_PhD/Drafts/Project3/kaggle_volatility/support_file.py:1675: RuntimeWarning: invalid value encountered in true_divide\n",
      "  w_ask = np.sum(df_book[(start_time <= df_book['seconds_in_bucket']) & (df_book['seconds_in_bucket'] < end_time)]['ask_price1'] * df_book[(start_time <= df_book['seconds_in_bucket']) & (df_book['seconds_in_bucket'] < end_time)]['time_length']) / (end_time - start_time)\n",
      "/Users/vladimir.levin/Yandex.Disk.localized/01_Documents/01_Study/0_LUX/01_PhD/Drafts/Project3/kaggle_volatility/support_file.py:1676: RuntimeWarning: invalid value encountered in true_divide\n",
      "  w_bid = np.sum(df_book[(start_time <= df_book['seconds_in_bucket']) & (df_book['seconds_in_bucket'] < end_time)]['bid_price1'] * df_book[(start_time <= df_book['seconds_in_bucket']) & (df_book['seconds_in_bucket'] < end_time)]['time_length']) / (end_time - start_time)\n"
     ]
    },
    {
     "name": "stdout",
     "output_type": "stream",
     "text": [
      "7897\n",
      "7909\n",
      "7921\n",
      "7992\n",
      "8009\n",
      "8011\n",
      "8014\n",
      "8016\n",
      "8032\n",
      "8044\n",
      "8068\n",
      "8070\n",
      "8081\n",
      "8085\n",
      "8101\n",
      "8104\n",
      "8109\n",
      "8117\n",
      "8168\n"
     ]
    },
    {
     "name": "stderr",
     "output_type": "stream",
     "text": [
      "/Users/vladimir.levin/Yandex.Disk.localized/01_Documents/01_Study/0_LUX/01_PhD/Drafts/Project3/kaggle_volatility/support_file.py:1675: RuntimeWarning: invalid value encountered in true_divide\n",
      "  w_ask = np.sum(df_book[(start_time <= df_book['seconds_in_bucket']) & (df_book['seconds_in_bucket'] < end_time)]['ask_price1'] * df_book[(start_time <= df_book['seconds_in_bucket']) & (df_book['seconds_in_bucket'] < end_time)]['time_length']) / (end_time - start_time)\n",
      "/Users/vladimir.levin/Yandex.Disk.localized/01_Documents/01_Study/0_LUX/01_PhD/Drafts/Project3/kaggle_volatility/support_file.py:1676: RuntimeWarning: invalid value encountered in true_divide\n",
      "  w_bid = np.sum(df_book[(start_time <= df_book['seconds_in_bucket']) & (df_book['seconds_in_bucket'] < end_time)]['bid_price1'] * df_book[(start_time <= df_book['seconds_in_bucket']) & (df_book['seconds_in_bucket'] < end_time)]['time_length']) / (end_time - start_time)\n"
     ]
    },
    {
     "name": "stdout",
     "output_type": "stream",
     "text": [
      "8186\n",
      "8190\n",
      "8191\n",
      "8192\n",
      "8196\n"
     ]
    },
    {
     "name": "stderr",
     "output_type": "stream",
     "text": [
      "/Users/vladimir.levin/Yandex.Disk.localized/01_Documents/01_Study/0_LUX/01_PhD/Drafts/Project3/kaggle_volatility/support_file.py:1675: RuntimeWarning: invalid value encountered in true_divide\n",
      "  w_ask = np.sum(df_book[(start_time <= df_book['seconds_in_bucket']) & (df_book['seconds_in_bucket'] < end_time)]['ask_price1'] * df_book[(start_time <= df_book['seconds_in_bucket']) & (df_book['seconds_in_bucket'] < end_time)]['time_length']) / (end_time - start_time)\n",
      "/Users/vladimir.levin/Yandex.Disk.localized/01_Documents/01_Study/0_LUX/01_PhD/Drafts/Project3/kaggle_volatility/support_file.py:1676: RuntimeWarning: invalid value encountered in true_divide\n",
      "  w_bid = np.sum(df_book[(start_time <= df_book['seconds_in_bucket']) & (df_book['seconds_in_bucket'] < end_time)]['bid_price1'] * df_book[(start_time <= df_book['seconds_in_bucket']) & (df_book['seconds_in_bucket'] < end_time)]['time_length']) / (end_time - start_time)\n"
     ]
    },
    {
     "name": "stdout",
     "output_type": "stream",
     "text": [
      "8205\n",
      "8211\n",
      "8219\n",
      "8222\n",
      "8224\n",
      "8256\n",
      "8271\n",
      "8298\n"
     ]
    },
    {
     "name": "stderr",
     "output_type": "stream",
     "text": [
      "/Users/vladimir.levin/Yandex.Disk.localized/01_Documents/01_Study/0_LUX/01_PhD/Drafts/Project3/kaggle_volatility/support_file.py:1675: RuntimeWarning: invalid value encountered in true_divide\n",
      "  w_ask = np.sum(df_book[(start_time <= df_book['seconds_in_bucket']) & (df_book['seconds_in_bucket'] < end_time)]['ask_price1'] * df_book[(start_time <= df_book['seconds_in_bucket']) & (df_book['seconds_in_bucket'] < end_time)]['time_length']) / (end_time - start_time)\n",
      "/Users/vladimir.levin/Yandex.Disk.localized/01_Documents/01_Study/0_LUX/01_PhD/Drafts/Project3/kaggle_volatility/support_file.py:1676: RuntimeWarning: invalid value encountered in true_divide\n",
      "  w_bid = np.sum(df_book[(start_time <= df_book['seconds_in_bucket']) & (df_book['seconds_in_bucket'] < end_time)]['bid_price1'] * df_book[(start_time <= df_book['seconds_in_bucket']) & (df_book['seconds_in_bucket'] < end_time)]['time_length']) / (end_time - start_time)\n"
     ]
    },
    {
     "name": "stdout",
     "output_type": "stream",
     "text": [
      "8331\n",
      "8346\n",
      "8353\n",
      "8357\n",
      "8360\n",
      "8365\n"
     ]
    },
    {
     "name": "stderr",
     "output_type": "stream",
     "text": [
      "/Users/vladimir.levin/Yandex.Disk.localized/01_Documents/01_Study/0_LUX/01_PhD/Drafts/Project3/kaggle_volatility/support_file.py:1675: RuntimeWarning: invalid value encountered in true_divide\n",
      "  w_ask = np.sum(df_book[(start_time <= df_book['seconds_in_bucket']) & (df_book['seconds_in_bucket'] < end_time)]['ask_price1'] * df_book[(start_time <= df_book['seconds_in_bucket']) & (df_book['seconds_in_bucket'] < end_time)]['time_length']) / (end_time - start_time)\n",
      "/Users/vladimir.levin/Yandex.Disk.localized/01_Documents/01_Study/0_LUX/01_PhD/Drafts/Project3/kaggle_volatility/support_file.py:1676: RuntimeWarning: invalid value encountered in true_divide\n",
      "  w_bid = np.sum(df_book[(start_time <= df_book['seconds_in_bucket']) & (df_book['seconds_in_bucket'] < end_time)]['bid_price1'] * df_book[(start_time <= df_book['seconds_in_bucket']) & (df_book['seconds_in_bucket'] < end_time)]['time_length']) / (end_time - start_time)\n"
     ]
    },
    {
     "name": "stdout",
     "output_type": "stream",
     "text": [
      "8408\n",
      "8426\n",
      "8435\n",
      "8441\n",
      "8442\n"
     ]
    },
    {
     "name": "stderr",
     "output_type": "stream",
     "text": [
      "/Users/vladimir.levin/Yandex.Disk.localized/01_Documents/01_Study/0_LUX/01_PhD/Drafts/Project3/kaggle_volatility/support_file.py:1675: RuntimeWarning: invalid value encountered in true_divide\n",
      "  w_ask = np.sum(df_book[(start_time <= df_book['seconds_in_bucket']) & (df_book['seconds_in_bucket'] < end_time)]['ask_price1'] * df_book[(start_time <= df_book['seconds_in_bucket']) & (df_book['seconds_in_bucket'] < end_time)]['time_length']) / (end_time - start_time)\n",
      "/Users/vladimir.levin/Yandex.Disk.localized/01_Documents/01_Study/0_LUX/01_PhD/Drafts/Project3/kaggle_volatility/support_file.py:1676: RuntimeWarning: invalid value encountered in true_divide\n",
      "  w_bid = np.sum(df_book[(start_time <= df_book['seconds_in_bucket']) & (df_book['seconds_in_bucket'] < end_time)]['bid_price1'] * df_book[(start_time <= df_book['seconds_in_bucket']) & (df_book['seconds_in_bucket'] < end_time)]['time_length']) / (end_time - start_time)\n",
      "/Users/vladimir.levin/Yandex.Disk.localized/01_Documents/01_Study/0_LUX/01_PhD/Drafts/Project3/kaggle_volatility/support_file.py:1675: RuntimeWarning: invalid value encountered in true_divide\n",
      "  w_ask = np.sum(df_book[(start_time <= df_book['seconds_in_bucket']) & (df_book['seconds_in_bucket'] < end_time)]['ask_price1'] * df_book[(start_time <= df_book['seconds_in_bucket']) & (df_book['seconds_in_bucket'] < end_time)]['time_length']) / (end_time - start_time)\n",
      "/Users/vladimir.levin/Yandex.Disk.localized/01_Documents/01_Study/0_LUX/01_PhD/Drafts/Project3/kaggle_volatility/support_file.py:1676: RuntimeWarning: invalid value encountered in true_divide\n",
      "  w_bid = np.sum(df_book[(start_time <= df_book['seconds_in_bucket']) & (df_book['seconds_in_bucket'] < end_time)]['bid_price1'] * df_book[(start_time <= df_book['seconds_in_bucket']) & (df_book['seconds_in_bucket'] < end_time)]['time_length']) / (end_time - start_time)\n"
     ]
    },
    {
     "name": "stdout",
     "output_type": "stream",
     "text": [
      "8447\n",
      "8448\n",
      "8454\n",
      "8459\n",
      "8476\n"
     ]
    },
    {
     "name": "stderr",
     "output_type": "stream",
     "text": [
      "/Users/vladimir.levin/Yandex.Disk.localized/01_Documents/01_Study/0_LUX/01_PhD/Drafts/Project3/kaggle_volatility/support_file.py:1675: RuntimeWarning: invalid value encountered in true_divide\n",
      "  w_ask = np.sum(df_book[(start_time <= df_book['seconds_in_bucket']) & (df_book['seconds_in_bucket'] < end_time)]['ask_price1'] * df_book[(start_time <= df_book['seconds_in_bucket']) & (df_book['seconds_in_bucket'] < end_time)]['time_length']) / (end_time - start_time)\n",
      "/Users/vladimir.levin/Yandex.Disk.localized/01_Documents/01_Study/0_LUX/01_PhD/Drafts/Project3/kaggle_volatility/support_file.py:1676: RuntimeWarning: invalid value encountered in true_divide\n",
      "  w_bid = np.sum(df_book[(start_time <= df_book['seconds_in_bucket']) & (df_book['seconds_in_bucket'] < end_time)]['bid_price1'] * df_book[(start_time <= df_book['seconds_in_bucket']) & (df_book['seconds_in_bucket'] < end_time)]['time_length']) / (end_time - start_time)\n"
     ]
    },
    {
     "name": "stdout",
     "output_type": "stream",
     "text": [
      "8481\n",
      "8518\n",
      "8524\n",
      "8534\n",
      "8546\n",
      "8554\n"
     ]
    },
    {
     "name": "stderr",
     "output_type": "stream",
     "text": [
      "/Users/vladimir.levin/Yandex.Disk.localized/01_Documents/01_Study/0_LUX/01_PhD/Drafts/Project3/kaggle_volatility/support_file.py:1675: RuntimeWarning: invalid value encountered in true_divide\n",
      "  w_ask = np.sum(df_book[(start_time <= df_book['seconds_in_bucket']) & (df_book['seconds_in_bucket'] < end_time)]['ask_price1'] * df_book[(start_time <= df_book['seconds_in_bucket']) & (df_book['seconds_in_bucket'] < end_time)]['time_length']) / (end_time - start_time)\n",
      "/Users/vladimir.levin/Yandex.Disk.localized/01_Documents/01_Study/0_LUX/01_PhD/Drafts/Project3/kaggle_volatility/support_file.py:1676: RuntimeWarning: invalid value encountered in true_divide\n",
      "  w_bid = np.sum(df_book[(start_time <= df_book['seconds_in_bucket']) & (df_book['seconds_in_bucket'] < end_time)]['bid_price1'] * df_book[(start_time <= df_book['seconds_in_bucket']) & (df_book['seconds_in_bucket'] < end_time)]['time_length']) / (end_time - start_time)\n",
      "/Users/vladimir.levin/Yandex.Disk.localized/01_Documents/01_Study/0_LUX/01_PhD/Drafts/Project3/kaggle_volatility/support_file.py:1675: RuntimeWarning: invalid value encountered in true_divide\n",
      "  w_ask = np.sum(df_book[(start_time <= df_book['seconds_in_bucket']) & (df_book['seconds_in_bucket'] < end_time)]['ask_price1'] * df_book[(start_time <= df_book['seconds_in_bucket']) & (df_book['seconds_in_bucket'] < end_time)]['time_length']) / (end_time - start_time)\n",
      "/Users/vladimir.levin/Yandex.Disk.localized/01_Documents/01_Study/0_LUX/01_PhD/Drafts/Project3/kaggle_volatility/support_file.py:1676: RuntimeWarning: invalid value encountered in true_divide\n",
      "  w_bid = np.sum(df_book[(start_time <= df_book['seconds_in_bucket']) & (df_book['seconds_in_bucket'] < end_time)]['bid_price1'] * df_book[(start_time <= df_book['seconds_in_bucket']) & (df_book['seconds_in_bucket'] < end_time)]['time_length']) / (end_time - start_time)\n",
      "/Users/vladimir.levin/Yandex.Disk.localized/01_Documents/01_Study/0_LUX/01_PhD/Drafts/Project3/kaggle_volatility/support_file.py:1675: RuntimeWarning: invalid value encountered in true_divide\n",
      "  w_ask = np.sum(df_book[(start_time <= df_book['seconds_in_bucket']) & (df_book['seconds_in_bucket'] < end_time)]['ask_price1'] * df_book[(start_time <= df_book['seconds_in_bucket']) & (df_book['seconds_in_bucket'] < end_time)]['time_length']) / (end_time - start_time)\n",
      "/Users/vladimir.levin/Yandex.Disk.localized/01_Documents/01_Study/0_LUX/01_PhD/Drafts/Project3/kaggle_volatility/support_file.py:1676: RuntimeWarning: invalid value encountered in true_divide\n",
      "  w_bid = np.sum(df_book[(start_time <= df_book['seconds_in_bucket']) & (df_book['seconds_in_bucket'] < end_time)]['bid_price1'] * df_book[(start_time <= df_book['seconds_in_bucket']) & (df_book['seconds_in_bucket'] < end_time)]['time_length']) / (end_time - start_time)\n"
     ]
    },
    {
     "name": "stdout",
     "output_type": "stream",
     "text": [
      "8573\n",
      "8583\n"
     ]
    },
    {
     "name": "stderr",
     "output_type": "stream",
     "text": [
      "/Users/vladimir.levin/Yandex.Disk.localized/01_Documents/01_Study/0_LUX/01_PhD/Drafts/Project3/kaggle_volatility/support_file.py:1675: RuntimeWarning: invalid value encountered in true_divide\n",
      "  w_ask = np.sum(df_book[(start_time <= df_book['seconds_in_bucket']) & (df_book['seconds_in_bucket'] < end_time)]['ask_price1'] * df_book[(start_time <= df_book['seconds_in_bucket']) & (df_book['seconds_in_bucket'] < end_time)]['time_length']) / (end_time - start_time)\n",
      "/Users/vladimir.levin/Yandex.Disk.localized/01_Documents/01_Study/0_LUX/01_PhD/Drafts/Project3/kaggle_volatility/support_file.py:1676: RuntimeWarning: invalid value encountered in true_divide\n",
      "  w_bid = np.sum(df_book[(start_time <= df_book['seconds_in_bucket']) & (df_book['seconds_in_bucket'] < end_time)]['bid_price1'] * df_book[(start_time <= df_book['seconds_in_bucket']) & (df_book['seconds_in_bucket'] < end_time)]['time_length']) / (end_time - start_time)\n"
     ]
    },
    {
     "name": "stdout",
     "output_type": "stream",
     "text": [
      "8585\n",
      "8587\n",
      "8590\n",
      "8607\n",
      "8611\n",
      "8613\n",
      "8615\n",
      "8618\n",
      "8623\n",
      "8636\n"
     ]
    },
    {
     "name": "stderr",
     "output_type": "stream",
     "text": [
      "/Users/vladimir.levin/Yandex.Disk.localized/01_Documents/01_Study/0_LUX/01_PhD/Drafts/Project3/kaggle_volatility/support_file.py:1675: RuntimeWarning: invalid value encountered in true_divide\n",
      "  w_ask = np.sum(df_book[(start_time <= df_book['seconds_in_bucket']) & (df_book['seconds_in_bucket'] < end_time)]['ask_price1'] * df_book[(start_time <= df_book['seconds_in_bucket']) & (df_book['seconds_in_bucket'] < end_time)]['time_length']) / (end_time - start_time)\n",
      "/Users/vladimir.levin/Yandex.Disk.localized/01_Documents/01_Study/0_LUX/01_PhD/Drafts/Project3/kaggle_volatility/support_file.py:1676: RuntimeWarning: invalid value encountered in true_divide\n",
      "  w_bid = np.sum(df_book[(start_time <= df_book['seconds_in_bucket']) & (df_book['seconds_in_bucket'] < end_time)]['bid_price1'] * df_book[(start_time <= df_book['seconds_in_bucket']) & (df_book['seconds_in_bucket'] < end_time)]['time_length']) / (end_time - start_time)\n"
     ]
    },
    {
     "name": "stdout",
     "output_type": "stream",
     "text": [
      "8647\n",
      "8652\n",
      "8659\n",
      "8661\n",
      "8662\n",
      "8664\n",
      "8665\n",
      "8667\n",
      "8675\n",
      "8676\n",
      "8696\n",
      "8702\n",
      "8706\n",
      "8708\n",
      "8718\n",
      "8721\n",
      "8744\n",
      "8747\n",
      "8749\n",
      "8750\n",
      "8753\n",
      "8763\n",
      "8773\n",
      "8776\n",
      "8779\n",
      "8797\n",
      "8822\n",
      "8825\n",
      "8840\n",
      "8859\n",
      "8891\n",
      "8913\n"
     ]
    },
    {
     "name": "stderr",
     "output_type": "stream",
     "text": [
      "/Users/vladimir.levin/Yandex.Disk.localized/01_Documents/01_Study/0_LUX/01_PhD/Drafts/Project3/kaggle_volatility/support_file.py:1675: RuntimeWarning: invalid value encountered in true_divide\n",
      "  w_ask = np.sum(df_book[(start_time <= df_book['seconds_in_bucket']) & (df_book['seconds_in_bucket'] < end_time)]['ask_price1'] * df_book[(start_time <= df_book['seconds_in_bucket']) & (df_book['seconds_in_bucket'] < end_time)]['time_length']) / (end_time - start_time)\n",
      "/Users/vladimir.levin/Yandex.Disk.localized/01_Documents/01_Study/0_LUX/01_PhD/Drafts/Project3/kaggle_volatility/support_file.py:1676: RuntimeWarning: invalid value encountered in true_divide\n",
      "  w_bid = np.sum(df_book[(start_time <= df_book['seconds_in_bucket']) & (df_book['seconds_in_bucket'] < end_time)]['bid_price1'] * df_book[(start_time <= df_book['seconds_in_bucket']) & (df_book['seconds_in_bucket'] < end_time)]['time_length']) / (end_time - start_time)\n"
     ]
    },
    {
     "name": "stdout",
     "output_type": "stream",
     "text": [
      "8918\n",
      "8934\n"
     ]
    },
    {
     "name": "stderr",
     "output_type": "stream",
     "text": [
      "/Users/vladimir.levin/Yandex.Disk.localized/01_Documents/01_Study/0_LUX/01_PhD/Drafts/Project3/kaggle_volatility/support_file.py:1675: RuntimeWarning: invalid value encountered in true_divide\n",
      "  w_ask = np.sum(df_book[(start_time <= df_book['seconds_in_bucket']) & (df_book['seconds_in_bucket'] < end_time)]['ask_price1'] * df_book[(start_time <= df_book['seconds_in_bucket']) & (df_book['seconds_in_bucket'] < end_time)]['time_length']) / (end_time - start_time)\n",
      "/Users/vladimir.levin/Yandex.Disk.localized/01_Documents/01_Study/0_LUX/01_PhD/Drafts/Project3/kaggle_volatility/support_file.py:1676: RuntimeWarning: invalid value encountered in true_divide\n",
      "  w_bid = np.sum(df_book[(start_time <= df_book['seconds_in_bucket']) & (df_book['seconds_in_bucket'] < end_time)]['bid_price1'] * df_book[(start_time <= df_book['seconds_in_bucket']) & (df_book['seconds_in_bucket'] < end_time)]['time_length']) / (end_time - start_time)\n"
     ]
    },
    {
     "name": "stdout",
     "output_type": "stream",
     "text": [
      "8937\n",
      "8938\n",
      "8950\n",
      "8974\n",
      "8978\n",
      "9000\n",
      "9001\n",
      "9021\n",
      "9028\n",
      "9030\n"
     ]
    },
    {
     "name": "stderr",
     "output_type": "stream",
     "text": [
      "/Users/vladimir.levin/Yandex.Disk.localized/01_Documents/01_Study/0_LUX/01_PhD/Drafts/Project3/kaggle_volatility/support_file.py:1675: RuntimeWarning: invalid value encountered in true_divide\n",
      "  w_ask = np.sum(df_book[(start_time <= df_book['seconds_in_bucket']) & (df_book['seconds_in_bucket'] < end_time)]['ask_price1'] * df_book[(start_time <= df_book['seconds_in_bucket']) & (df_book['seconds_in_bucket'] < end_time)]['time_length']) / (end_time - start_time)\n",
      "/Users/vladimir.levin/Yandex.Disk.localized/01_Documents/01_Study/0_LUX/01_PhD/Drafts/Project3/kaggle_volatility/support_file.py:1676: RuntimeWarning: invalid value encountered in true_divide\n",
      "  w_bid = np.sum(df_book[(start_time <= df_book['seconds_in_bucket']) & (df_book['seconds_in_bucket'] < end_time)]['bid_price1'] * df_book[(start_time <= df_book['seconds_in_bucket']) & (df_book['seconds_in_bucket'] < end_time)]['time_length']) / (end_time - start_time)\n"
     ]
    },
    {
     "name": "stdout",
     "output_type": "stream",
     "text": [
      "9037\n",
      "9038\n",
      "9060\n",
      "9064"
     ]
    },
    {
     "name": "stderr",
     "output_type": "stream",
     "text": [
      "/Users/vladimir.levin/Yandex.Disk.localized/01_Documents/01_Study/0_LUX/01_PhD/Drafts/Project3/kaggle_volatility/support_file.py:1675: RuntimeWarning: invalid value encountered in true_divide\n",
      "  w_ask = np.sum(df_book[(start_time <= df_book['seconds_in_bucket']) & (df_book['seconds_in_bucket'] < end_time)]['ask_price1'] * df_book[(start_time <= df_book['seconds_in_bucket']) & (df_book['seconds_in_bucket'] < end_time)]['time_length']) / (end_time - start_time)\n",
      "/Users/vladimir.levin/Yandex.Disk.localized/01_Documents/01_Study/0_LUX/01_PhD/Drafts/Project3/kaggle_volatility/support_file.py:1676: RuntimeWarning: invalid value encountered in true_divide\n",
      "  w_bid = np.sum(df_book[(start_time <= df_book['seconds_in_bucket']) & (df_book['seconds_in_bucket'] < end_time)]['bid_price1'] * df_book[(start_time <= df_book['seconds_in_bucket']) & (df_book['seconds_in_bucket'] < end_time)]['time_length']) / (end_time - start_time)\n",
      "/Users/vladimir.levin/Yandex.Disk.localized/01_Documents/01_Study/0_LUX/01_PhD/Drafts/Project3/kaggle_volatility/support_file.py:1675: RuntimeWarning: invalid value encountered in true_divide\n",
      "  w_ask = np.sum(df_book[(start_time <= df_book['seconds_in_bucket']) & (df_book['seconds_in_bucket'] < end_time)]['ask_price1'] * df_book[(start_time <= df_book['seconds_in_bucket']) & (df_book['seconds_in_bucket'] < end_time)]['time_length']) / (end_time - start_time)\n",
      "/Users/vladimir.levin/Yandex.Disk.localized/01_Documents/01_Study/0_LUX/01_PhD/Drafts/Project3/kaggle_volatility/support_file.py:1676: RuntimeWarning: invalid value encountered in true_divide\n",
      "  w_bid = np.sum(df_book[(start_time <= df_book['seconds_in_bucket']) & (df_book['seconds_in_bucket'] < end_time)]['bid_price1'] * df_book[(start_time <= df_book['seconds_in_bucket']) & (df_book['seconds_in_bucket'] < end_time)]['time_length']) / (end_time - start_time)\n"
     ]
    },
    {
     "name": "stdout",
     "output_type": "stream",
     "text": [
      "\n",
      "9067\n",
      "9072\n",
      "9076\n",
      "9077\n",
      "9091\n",
      "9096\n",
      "9100\n",
      "9114\n",
      "9123\n",
      "9138\n",
      "9146\n",
      "9153\n",
      "9160\n",
      "9164\n"
     ]
    },
    {
     "name": "stderr",
     "output_type": "stream",
     "text": [
      "/Users/vladimir.levin/Yandex.Disk.localized/01_Documents/01_Study/0_LUX/01_PhD/Drafts/Project3/kaggle_volatility/support_file.py:1675: RuntimeWarning: invalid value encountered in true_divide\n",
      "  w_ask = np.sum(df_book[(start_time <= df_book['seconds_in_bucket']) & (df_book['seconds_in_bucket'] < end_time)]['ask_price1'] * df_book[(start_time <= df_book['seconds_in_bucket']) & (df_book['seconds_in_bucket'] < end_time)]['time_length']) / (end_time - start_time)\n",
      "/Users/vladimir.levin/Yandex.Disk.localized/01_Documents/01_Study/0_LUX/01_PhD/Drafts/Project3/kaggle_volatility/support_file.py:1676: RuntimeWarning: invalid value encountered in true_divide\n",
      "  w_bid = np.sum(df_book[(start_time <= df_book['seconds_in_bucket']) & (df_book['seconds_in_bucket'] < end_time)]['bid_price1'] * df_book[(start_time <= df_book['seconds_in_bucket']) & (df_book['seconds_in_bucket'] < end_time)]['time_length']) / (end_time - start_time)\n"
     ]
    },
    {
     "name": "stdout",
     "output_type": "stream",
     "text": [
      "9166\n",
      "9186\n",
      "9190\n"
     ]
    },
    {
     "name": "stderr",
     "output_type": "stream",
     "text": [
      "/Users/vladimir.levin/Yandex.Disk.localized/01_Documents/01_Study/0_LUX/01_PhD/Drafts/Project3/kaggle_volatility/support_file.py:1675: RuntimeWarning: invalid value encountered in true_divide\n",
      "  w_ask = np.sum(df_book[(start_time <= df_book['seconds_in_bucket']) & (df_book['seconds_in_bucket'] < end_time)]['ask_price1'] * df_book[(start_time <= df_book['seconds_in_bucket']) & (df_book['seconds_in_bucket'] < end_time)]['time_length']) / (end_time - start_time)\n",
      "/Users/vladimir.levin/Yandex.Disk.localized/01_Documents/01_Study/0_LUX/01_PhD/Drafts/Project3/kaggle_volatility/support_file.py:1676: RuntimeWarning: invalid value encountered in true_divide\n",
      "  w_bid = np.sum(df_book[(start_time <= df_book['seconds_in_bucket']) & (df_book['seconds_in_bucket'] < end_time)]['bid_price1'] * df_book[(start_time <= df_book['seconds_in_bucket']) & (df_book['seconds_in_bucket'] < end_time)]['time_length']) / (end_time - start_time)\n"
     ]
    },
    {
     "name": "stdout",
     "output_type": "stream",
     "text": [
      "9194\n",
      "9198\n",
      "9201\n",
      "9205\n"
     ]
    },
    {
     "name": "stderr",
     "output_type": "stream",
     "text": [
      "/Users/vladimir.levin/Yandex.Disk.localized/01_Documents/01_Study/0_LUX/01_PhD/Drafts/Project3/kaggle_volatility/support_file.py:1675: RuntimeWarning: invalid value encountered in true_divide\n",
      "  w_ask = np.sum(df_book[(start_time <= df_book['seconds_in_bucket']) & (df_book['seconds_in_bucket'] < end_time)]['ask_price1'] * df_book[(start_time <= df_book['seconds_in_bucket']) & (df_book['seconds_in_bucket'] < end_time)]['time_length']) / (end_time - start_time)\n",
      "/Users/vladimir.levin/Yandex.Disk.localized/01_Documents/01_Study/0_LUX/01_PhD/Drafts/Project3/kaggle_volatility/support_file.py:1676: RuntimeWarning: invalid value encountered in true_divide\n",
      "  w_bid = np.sum(df_book[(start_time <= df_book['seconds_in_bucket']) & (df_book['seconds_in_bucket'] < end_time)]['bid_price1'] * df_book[(start_time <= df_book['seconds_in_bucket']) & (df_book['seconds_in_bucket'] < end_time)]['time_length']) / (end_time - start_time)\n",
      "/Users/vladimir.levin/Yandex.Disk.localized/01_Documents/01_Study/0_LUX/01_PhD/Drafts/Project3/kaggle_volatility/support_file.py:1675: RuntimeWarning: invalid value encountered in true_divide\n",
      "  w_ask = np.sum(df_book[(start_time <= df_book['seconds_in_bucket']) & (df_book['seconds_in_bucket'] < end_time)]['ask_price1'] * df_book[(start_time <= df_book['seconds_in_bucket']) & (df_book['seconds_in_bucket'] < end_time)]['time_length']) / (end_time - start_time)\n",
      "/Users/vladimir.levin/Yandex.Disk.localized/01_Documents/01_Study/0_LUX/01_PhD/Drafts/Project3/kaggle_volatility/support_file.py:1676: RuntimeWarning: invalid value encountered in true_divide\n",
      "  w_bid = np.sum(df_book[(start_time <= df_book['seconds_in_bucket']) & (df_book['seconds_in_bucket'] < end_time)]['bid_price1'] * df_book[(start_time <= df_book['seconds_in_bucket']) & (df_book['seconds_in_bucket'] < end_time)]['time_length']) / (end_time - start_time)\n"
     ]
    },
    {
     "name": "stdout",
     "output_type": "stream",
     "text": [
      "9207\n",
      "9208\n",
      "9215\n"
     ]
    },
    {
     "name": "stderr",
     "output_type": "stream",
     "text": [
      "/Users/vladimir.levin/Yandex.Disk.localized/01_Documents/01_Study/0_LUX/01_PhD/Drafts/Project3/kaggle_volatility/support_file.py:1675: RuntimeWarning: invalid value encountered in true_divide\n",
      "  w_ask = np.sum(df_book[(start_time <= df_book['seconds_in_bucket']) & (df_book['seconds_in_bucket'] < end_time)]['ask_price1'] * df_book[(start_time <= df_book['seconds_in_bucket']) & (df_book['seconds_in_bucket'] < end_time)]['time_length']) / (end_time - start_time)\n",
      "/Users/vladimir.levin/Yandex.Disk.localized/01_Documents/01_Study/0_LUX/01_PhD/Drafts/Project3/kaggle_volatility/support_file.py:1676: RuntimeWarning: invalid value encountered in true_divide\n",
      "  w_bid = np.sum(df_book[(start_time <= df_book['seconds_in_bucket']) & (df_book['seconds_in_bucket'] < end_time)]['bid_price1'] * df_book[(start_time <= df_book['seconds_in_bucket']) & (df_book['seconds_in_bucket'] < end_time)]['time_length']) / (end_time - start_time)\n"
     ]
    },
    {
     "name": "stdout",
     "output_type": "stream",
     "text": [
      "9219\n",
      "9222\n",
      "9243\n",
      "9248\n",
      "9266\n",
      "9275\n",
      "9279\n",
      "9281\n",
      "9282\n",
      "9285\n",
      "9289\n",
      "9300\n",
      "9302\n"
     ]
    },
    {
     "name": "stderr",
     "output_type": "stream",
     "text": [
      "/Users/vladimir.levin/Yandex.Disk.localized/01_Documents/01_Study/0_LUX/01_PhD/Drafts/Project3/kaggle_volatility/support_file.py:1675: RuntimeWarning: invalid value encountered in true_divide\n",
      "  w_ask = np.sum(df_book[(start_time <= df_book['seconds_in_bucket']) & (df_book['seconds_in_bucket'] < end_time)]['ask_price1'] * df_book[(start_time <= df_book['seconds_in_bucket']) & (df_book['seconds_in_bucket'] < end_time)]['time_length']) / (end_time - start_time)\n",
      "/Users/vladimir.levin/Yandex.Disk.localized/01_Documents/01_Study/0_LUX/01_PhD/Drafts/Project3/kaggle_volatility/support_file.py:1676: RuntimeWarning: invalid value encountered in true_divide\n",
      "  w_bid = np.sum(df_book[(start_time <= df_book['seconds_in_bucket']) & (df_book['seconds_in_bucket'] < end_time)]['bid_price1'] * df_book[(start_time <= df_book['seconds_in_bucket']) & (df_book['seconds_in_bucket'] < end_time)]['time_length']) / (end_time - start_time)\n"
     ]
    },
    {
     "name": "stdout",
     "output_type": "stream",
     "text": [
      "9311\n",
      "9312\n"
     ]
    },
    {
     "name": "stderr",
     "output_type": "stream",
     "text": [
      "/Users/vladimir.levin/Yandex.Disk.localized/01_Documents/01_Study/0_LUX/01_PhD/Drafts/Project3/kaggle_volatility/support_file.py:1675: RuntimeWarning: invalid value encountered in true_divide\n",
      "  w_ask = np.sum(df_book[(start_time <= df_book['seconds_in_bucket']) & (df_book['seconds_in_bucket'] < end_time)]['ask_price1'] * df_book[(start_time <= df_book['seconds_in_bucket']) & (df_book['seconds_in_bucket'] < end_time)]['time_length']) / (end_time - start_time)\n",
      "/Users/vladimir.levin/Yandex.Disk.localized/01_Documents/01_Study/0_LUX/01_PhD/Drafts/Project3/kaggle_volatility/support_file.py:1676: RuntimeWarning: invalid value encountered in true_divide\n",
      "  w_bid = np.sum(df_book[(start_time <= df_book['seconds_in_bucket']) & (df_book['seconds_in_bucket'] < end_time)]['bid_price1'] * df_book[(start_time <= df_book['seconds_in_bucket']) & (df_book['seconds_in_bucket'] < end_time)]['time_length']) / (end_time - start_time)\n"
     ]
    },
    {
     "name": "stdout",
     "output_type": "stream",
     "text": [
      "9329\n",
      "9343\n",
      "9350\n",
      "9352\n",
      "9367\n",
      "9377\n",
      "9381\n"
     ]
    },
    {
     "name": "stderr",
     "output_type": "stream",
     "text": [
      "/Users/vladimir.levin/Yandex.Disk.localized/01_Documents/01_Study/0_LUX/01_PhD/Drafts/Project3/kaggle_volatility/support_file.py:1675: RuntimeWarning: invalid value encountered in true_divide\n",
      "  w_ask = np.sum(df_book[(start_time <= df_book['seconds_in_bucket']) & (df_book['seconds_in_bucket'] < end_time)]['ask_price1'] * df_book[(start_time <= df_book['seconds_in_bucket']) & (df_book['seconds_in_bucket'] < end_time)]['time_length']) / (end_time - start_time)\n",
      "/Users/vladimir.levin/Yandex.Disk.localized/01_Documents/01_Study/0_LUX/01_PhD/Drafts/Project3/kaggle_volatility/support_file.py:1676: RuntimeWarning: invalid value encountered in true_divide\n",
      "  w_bid = np.sum(df_book[(start_time <= df_book['seconds_in_bucket']) & (df_book['seconds_in_bucket'] < end_time)]['bid_price1'] * df_book[(start_time <= df_book['seconds_in_bucket']) & (df_book['seconds_in_bucket'] < end_time)]['time_length']) / (end_time - start_time)\n"
     ]
    },
    {
     "name": "stdout",
     "output_type": "stream",
     "text": [
      "9396\n",
      "9427\n",
      "9431\n",
      "9438\n",
      "9445\n",
      "9448\n",
      "9456\n",
      "9465\n",
      "9493\n",
      "9496\n",
      "9501\n",
      "9518\n",
      "9557\n",
      "9564\n"
     ]
    },
    {
     "name": "stderr",
     "output_type": "stream",
     "text": [
      "/Users/vladimir.levin/Yandex.Disk.localized/01_Documents/01_Study/0_LUX/01_PhD/Drafts/Project3/kaggle_volatility/support_file.py:1675: RuntimeWarning: invalid value encountered in true_divide\n",
      "  w_ask = np.sum(df_book[(start_time <= df_book['seconds_in_bucket']) & (df_book['seconds_in_bucket'] < end_time)]['ask_price1'] * df_book[(start_time <= df_book['seconds_in_bucket']) & (df_book['seconds_in_bucket'] < end_time)]['time_length']) / (end_time - start_time)\n",
      "/Users/vladimir.levin/Yandex.Disk.localized/01_Documents/01_Study/0_LUX/01_PhD/Drafts/Project3/kaggle_volatility/support_file.py:1676: RuntimeWarning: invalid value encountered in true_divide\n",
      "  w_bid = np.sum(df_book[(start_time <= df_book['seconds_in_bucket']) & (df_book['seconds_in_bucket'] < end_time)]['bid_price1'] * df_book[(start_time <= df_book['seconds_in_bucket']) & (df_book['seconds_in_bucket'] < end_time)]['time_length']) / (end_time - start_time)\n"
     ]
    },
    {
     "name": "stdout",
     "output_type": "stream",
     "text": [
      "9583\n",
      "9606\n",
      "9610\n",
      "9633\n"
     ]
    },
    {
     "name": "stderr",
     "output_type": "stream",
     "text": [
      "/Users/vladimir.levin/Yandex.Disk.localized/01_Documents/01_Study/0_LUX/01_PhD/Drafts/Project3/kaggle_volatility/support_file.py:1675: RuntimeWarning: invalid value encountered in true_divide\n",
      "  w_ask = np.sum(df_book[(start_time <= df_book['seconds_in_bucket']) & (df_book['seconds_in_bucket'] < end_time)]['ask_price1'] * df_book[(start_time <= df_book['seconds_in_bucket']) & (df_book['seconds_in_bucket'] < end_time)]['time_length']) / (end_time - start_time)\n",
      "/Users/vladimir.levin/Yandex.Disk.localized/01_Documents/01_Study/0_LUX/01_PhD/Drafts/Project3/kaggle_volatility/support_file.py:1676: RuntimeWarning: invalid value encountered in true_divide\n",
      "  w_bid = np.sum(df_book[(start_time <= df_book['seconds_in_bucket']) & (df_book['seconds_in_bucket'] < end_time)]['bid_price1'] * df_book[(start_time <= df_book['seconds_in_bucket']) & (df_book['seconds_in_bucket'] < end_time)]['time_length']) / (end_time - start_time)\n",
      "/Users/vladimir.levin/Yandex.Disk.localized/01_Documents/01_Study/0_LUX/01_PhD/Drafts/Project3/kaggle_volatility/support_file.py:1675: RuntimeWarning: invalid value encountered in true_divide\n",
      "  w_ask = np.sum(df_book[(start_time <= df_book['seconds_in_bucket']) & (df_book['seconds_in_bucket'] < end_time)]['ask_price1'] * df_book[(start_time <= df_book['seconds_in_bucket']) & (df_book['seconds_in_bucket'] < end_time)]['time_length']) / (end_time - start_time)\n",
      "/Users/vladimir.levin/Yandex.Disk.localized/01_Documents/01_Study/0_LUX/01_PhD/Drafts/Project3/kaggle_volatility/support_file.py:1676: RuntimeWarning: invalid value encountered in true_divide\n",
      "  w_bid = np.sum(df_book[(start_time <= df_book['seconds_in_bucket']) & (df_book['seconds_in_bucket'] < end_time)]['bid_price1'] * df_book[(start_time <= df_book['seconds_in_bucket']) & (df_book['seconds_in_bucket'] < end_time)]['time_length']) / (end_time - start_time)\n"
     ]
    },
    {
     "name": "stdout",
     "output_type": "stream",
     "text": [
      "9640\n",
      "9659\n",
      "9664\n",
      "9665\n",
      "9674\n",
      "9687\n"
     ]
    },
    {
     "name": "stderr",
     "output_type": "stream",
     "text": [
      "/Users/vladimir.levin/Yandex.Disk.localized/01_Documents/01_Study/0_LUX/01_PhD/Drafts/Project3/kaggle_volatility/support_file.py:1675: RuntimeWarning: invalid value encountered in true_divide\n",
      "  w_ask = np.sum(df_book[(start_time <= df_book['seconds_in_bucket']) & (df_book['seconds_in_bucket'] < end_time)]['ask_price1'] * df_book[(start_time <= df_book['seconds_in_bucket']) & (df_book['seconds_in_bucket'] < end_time)]['time_length']) / (end_time - start_time)\n",
      "/Users/vladimir.levin/Yandex.Disk.localized/01_Documents/01_Study/0_LUX/01_PhD/Drafts/Project3/kaggle_volatility/support_file.py:1676: RuntimeWarning: invalid value encountered in true_divide\n",
      "  w_bid = np.sum(df_book[(start_time <= df_book['seconds_in_bucket']) & (df_book['seconds_in_bucket'] < end_time)]['bid_price1'] * df_book[(start_time <= df_book['seconds_in_bucket']) & (df_book['seconds_in_bucket'] < end_time)]['time_length']) / (end_time - start_time)\n",
      "/Users/vladimir.levin/Yandex.Disk.localized/01_Documents/01_Study/0_LUX/01_PhD/Drafts/Project3/kaggle_volatility/support_file.py:1675: RuntimeWarning: invalid value encountered in true_divide\n",
      "  w_ask = np.sum(df_book[(start_time <= df_book['seconds_in_bucket']) & (df_book['seconds_in_bucket'] < end_time)]['ask_price1'] * df_book[(start_time <= df_book['seconds_in_bucket']) & (df_book['seconds_in_bucket'] < end_time)]['time_length']) / (end_time - start_time)\n",
      "/Users/vladimir.levin/Yandex.Disk.localized/01_Documents/01_Study/0_LUX/01_PhD/Drafts/Project3/kaggle_volatility/support_file.py:1676: RuntimeWarning: invalid value encountered in true_divide\n",
      "  w_bid = np.sum(df_book[(start_time <= df_book['seconds_in_bucket']) & (df_book['seconds_in_bucket'] < end_time)]['bid_price1'] * df_book[(start_time <= df_book['seconds_in_bucket']) & (df_book['seconds_in_bucket'] < end_time)]['time_length']) / (end_time - start_time)\n"
     ]
    },
    {
     "name": "stdout",
     "output_type": "stream",
     "text": [
      "9694\n",
      "9700\n"
     ]
    },
    {
     "name": "stderr",
     "output_type": "stream",
     "text": [
      "/Users/vladimir.levin/Yandex.Disk.localized/01_Documents/01_Study/0_LUX/01_PhD/Drafts/Project3/kaggle_volatility/support_file.py:1675: RuntimeWarning: invalid value encountered in true_divide\n",
      "  w_ask = np.sum(df_book[(start_time <= df_book['seconds_in_bucket']) & (df_book['seconds_in_bucket'] < end_time)]['ask_price1'] * df_book[(start_time <= df_book['seconds_in_bucket']) & (df_book['seconds_in_bucket'] < end_time)]['time_length']) / (end_time - start_time)\n",
      "/Users/vladimir.levin/Yandex.Disk.localized/01_Documents/01_Study/0_LUX/01_PhD/Drafts/Project3/kaggle_volatility/support_file.py:1676: RuntimeWarning: invalid value encountered in true_divide\n",
      "  w_bid = np.sum(df_book[(start_time <= df_book['seconds_in_bucket']) & (df_book['seconds_in_bucket'] < end_time)]['bid_price1'] * df_book[(start_time <= df_book['seconds_in_bucket']) & (df_book['seconds_in_bucket'] < end_time)]['time_length']) / (end_time - start_time)\n",
      "/Users/vladimir.levin/Yandex.Disk.localized/01_Documents/01_Study/0_LUX/01_PhD/Drafts/Project3/kaggle_volatility/support_file.py:1675: RuntimeWarning: invalid value encountered in true_divide\n",
      "  w_ask = np.sum(df_book[(start_time <= df_book['seconds_in_bucket']) & (df_book['seconds_in_bucket'] < end_time)]['ask_price1'] * df_book[(start_time <= df_book['seconds_in_bucket']) & (df_book['seconds_in_bucket'] < end_time)]['time_length']) / (end_time - start_time)\n",
      "/Users/vladimir.levin/Yandex.Disk.localized/01_Documents/01_Study/0_LUX/01_PhD/Drafts/Project3/kaggle_volatility/support_file.py:1676: RuntimeWarning: invalid value encountered in true_divide\n",
      "  w_bid = np.sum(df_book[(start_time <= df_book['seconds_in_bucket']) & (df_book['seconds_in_bucket'] < end_time)]['bid_price1'] * df_book[(start_time <= df_book['seconds_in_bucket']) & (df_book['seconds_in_bucket'] < end_time)]['time_length']) / (end_time - start_time)\n"
     ]
    },
    {
     "name": "stdout",
     "output_type": "stream",
     "text": [
      "9720\n",
      "9735\n",
      "9737\n",
      "9748\n",
      "9752\n"
     ]
    },
    {
     "name": "stderr",
     "output_type": "stream",
     "text": [
      "/Users/vladimir.levin/Yandex.Disk.localized/01_Documents/01_Study/0_LUX/01_PhD/Drafts/Project3/kaggle_volatility/support_file.py:1675: RuntimeWarning: invalid value encountered in true_divide\n",
      "  w_ask = np.sum(df_book[(start_time <= df_book['seconds_in_bucket']) & (df_book['seconds_in_bucket'] < end_time)]['ask_price1'] * df_book[(start_time <= df_book['seconds_in_bucket']) & (df_book['seconds_in_bucket'] < end_time)]['time_length']) / (end_time - start_time)\n",
      "/Users/vladimir.levin/Yandex.Disk.localized/01_Documents/01_Study/0_LUX/01_PhD/Drafts/Project3/kaggle_volatility/support_file.py:1676: RuntimeWarning: invalid value encountered in true_divide\n",
      "  w_bid = np.sum(df_book[(start_time <= df_book['seconds_in_bucket']) & (df_book['seconds_in_bucket'] < end_time)]['bid_price1'] * df_book[(start_time <= df_book['seconds_in_bucket']) & (df_book['seconds_in_bucket'] < end_time)]['time_length']) / (end_time - start_time)\n"
     ]
    },
    {
     "name": "stdout",
     "output_type": "stream",
     "text": [
      "9759\n",
      "9770\n"
     ]
    },
    {
     "name": "stderr",
     "output_type": "stream",
     "text": [
      "/Users/vladimir.levin/Yandex.Disk.localized/01_Documents/01_Study/0_LUX/01_PhD/Drafts/Project3/kaggle_volatility/support_file.py:1675: RuntimeWarning: invalid value encountered in true_divide\n",
      "  w_ask = np.sum(df_book[(start_time <= df_book['seconds_in_bucket']) & (df_book['seconds_in_bucket'] < end_time)]['ask_price1'] * df_book[(start_time <= df_book['seconds_in_bucket']) & (df_book['seconds_in_bucket'] < end_time)]['time_length']) / (end_time - start_time)\n",
      "/Users/vladimir.levin/Yandex.Disk.localized/01_Documents/01_Study/0_LUX/01_PhD/Drafts/Project3/kaggle_volatility/support_file.py:1676: RuntimeWarning: invalid value encountered in true_divide\n",
      "  w_bid = np.sum(df_book[(start_time <= df_book['seconds_in_bucket']) & (df_book['seconds_in_bucket'] < end_time)]['bid_price1'] * df_book[(start_time <= df_book['seconds_in_bucket']) & (df_book['seconds_in_bucket'] < end_time)]['time_length']) / (end_time - start_time)\n"
     ]
    },
    {
     "name": "stdout",
     "output_type": "stream",
     "text": [
      "9779\n",
      "9787\n",
      "9797\n",
      "9819\n",
      "9822\n",
      "9846\n"
     ]
    },
    {
     "name": "stderr",
     "output_type": "stream",
     "text": [
      "/Users/vladimir.levin/Yandex.Disk.localized/01_Documents/01_Study/0_LUX/01_PhD/Drafts/Project3/kaggle_volatility/support_file.py:1675: RuntimeWarning: invalid value encountered in true_divide\n",
      "  w_ask = np.sum(df_book[(start_time <= df_book['seconds_in_bucket']) & (df_book['seconds_in_bucket'] < end_time)]['ask_price1'] * df_book[(start_time <= df_book['seconds_in_bucket']) & (df_book['seconds_in_bucket'] < end_time)]['time_length']) / (end_time - start_time)\n",
      "/Users/vladimir.levin/Yandex.Disk.localized/01_Documents/01_Study/0_LUX/01_PhD/Drafts/Project3/kaggle_volatility/support_file.py:1676: RuntimeWarning: invalid value encountered in true_divide\n",
      "  w_bid = np.sum(df_book[(start_time <= df_book['seconds_in_bucket']) & (df_book['seconds_in_bucket'] < end_time)]['bid_price1'] * df_book[(start_time <= df_book['seconds_in_bucket']) & (df_book['seconds_in_bucket'] < end_time)]['time_length']) / (end_time - start_time)\n"
     ]
    },
    {
     "name": "stdout",
     "output_type": "stream",
     "text": [
      "9862\n",
      "9866\n",
      "9869\n",
      "9885\n"
     ]
    },
    {
     "name": "stderr",
     "output_type": "stream",
     "text": [
      "/Users/vladimir.levin/Yandex.Disk.localized/01_Documents/01_Study/0_LUX/01_PhD/Drafts/Project3/kaggle_volatility/support_file.py:1675: RuntimeWarning: invalid value encountered in true_divide\n",
      "  w_ask = np.sum(df_book[(start_time <= df_book['seconds_in_bucket']) & (df_book['seconds_in_bucket'] < end_time)]['ask_price1'] * df_book[(start_time <= df_book['seconds_in_bucket']) & (df_book['seconds_in_bucket'] < end_time)]['time_length']) / (end_time - start_time)\n",
      "/Users/vladimir.levin/Yandex.Disk.localized/01_Documents/01_Study/0_LUX/01_PhD/Drafts/Project3/kaggle_volatility/support_file.py:1676: RuntimeWarning: invalid value encountered in true_divide\n",
      "  w_bid = np.sum(df_book[(start_time <= df_book['seconds_in_bucket']) & (df_book['seconds_in_bucket'] < end_time)]['bid_price1'] * df_book[(start_time <= df_book['seconds_in_bucket']) & (df_book['seconds_in_bucket'] < end_time)]['time_length']) / (end_time - start_time)\n"
     ]
    },
    {
     "name": "stdout",
     "output_type": "stream",
     "text": [
      "9887\n",
      "9889\n",
      "9890\n",
      "9914\n",
      "9918\n",
      "9932\n",
      "9935\n",
      "9936\n",
      "9940\n"
     ]
    },
    {
     "name": "stderr",
     "output_type": "stream",
     "text": [
      "/Users/vladimir.levin/Yandex.Disk.localized/01_Documents/01_Study/0_LUX/01_PhD/Drafts/Project3/kaggle_volatility/support_file.py:1675: RuntimeWarning: invalid value encountered in true_divide\n",
      "  w_ask = np.sum(df_book[(start_time <= df_book['seconds_in_bucket']) & (df_book['seconds_in_bucket'] < end_time)]['ask_price1'] * df_book[(start_time <= df_book['seconds_in_bucket']) & (df_book['seconds_in_bucket'] < end_time)]['time_length']) / (end_time - start_time)\n",
      "/Users/vladimir.levin/Yandex.Disk.localized/01_Documents/01_Study/0_LUX/01_PhD/Drafts/Project3/kaggle_volatility/support_file.py:1676: RuntimeWarning: invalid value encountered in true_divide\n",
      "  w_bid = np.sum(df_book[(start_time <= df_book['seconds_in_bucket']) & (df_book['seconds_in_bucket'] < end_time)]['bid_price1'] * df_book[(start_time <= df_book['seconds_in_bucket']) & (df_book['seconds_in_bucket'] < end_time)]['time_length']) / (end_time - start_time)\n"
     ]
    },
    {
     "name": "stdout",
     "output_type": "stream",
     "text": [
      "9947\n",
      "9960\n",
      "9967\n",
      "9970\n",
      "9972\n"
     ]
    },
    {
     "name": "stderr",
     "output_type": "stream",
     "text": [
      "/Users/vladimir.levin/Yandex.Disk.localized/01_Documents/01_Study/0_LUX/01_PhD/Drafts/Project3/kaggle_volatility/support_file.py:1675: RuntimeWarning: invalid value encountered in true_divide\n",
      "  w_ask = np.sum(df_book[(start_time <= df_book['seconds_in_bucket']) & (df_book['seconds_in_bucket'] < end_time)]['ask_price1'] * df_book[(start_time <= df_book['seconds_in_bucket']) & (df_book['seconds_in_bucket'] < end_time)]['time_length']) / (end_time - start_time)\n",
      "/Users/vladimir.levin/Yandex.Disk.localized/01_Documents/01_Study/0_LUX/01_PhD/Drafts/Project3/kaggle_volatility/support_file.py:1676: RuntimeWarning: invalid value encountered in true_divide\n",
      "  w_bid = np.sum(df_book[(start_time <= df_book['seconds_in_bucket']) & (df_book['seconds_in_bucket'] < end_time)]['bid_price1'] * df_book[(start_time <= df_book['seconds_in_bucket']) & (df_book['seconds_in_bucket'] < end_time)]['time_length']) / (end_time - start_time)\n"
     ]
    },
    {
     "name": "stdout",
     "output_type": "stream",
     "text": [
      "9973\n",
      "9976\n",
      "9988\n",
      "9993\n",
      "10000\n",
      "10005\n",
      "10017\n",
      "10030\n",
      "10035\n",
      "10040\n"
     ]
    },
    {
     "name": "stderr",
     "output_type": "stream",
     "text": [
      "/Users/vladimir.levin/Yandex.Disk.localized/01_Documents/01_Study/0_LUX/01_PhD/Drafts/Project3/kaggle_volatility/support_file.py:1675: RuntimeWarning: invalid value encountered in true_divide\n",
      "  w_ask = np.sum(df_book[(start_time <= df_book['seconds_in_bucket']) & (df_book['seconds_in_bucket'] < end_time)]['ask_price1'] * df_book[(start_time <= df_book['seconds_in_bucket']) & (df_book['seconds_in_bucket'] < end_time)]['time_length']) / (end_time - start_time)\n",
      "/Users/vladimir.levin/Yandex.Disk.localized/01_Documents/01_Study/0_LUX/01_PhD/Drafts/Project3/kaggle_volatility/support_file.py:1676: RuntimeWarning: invalid value encountered in true_divide\n",
      "  w_bid = np.sum(df_book[(start_time <= df_book['seconds_in_bucket']) & (df_book['seconds_in_bucket'] < end_time)]['bid_price1'] * df_book[(start_time <= df_book['seconds_in_bucket']) & (df_book['seconds_in_bucket'] < end_time)]['time_length']) / (end_time - start_time)\n",
      "/Users/vladimir.levin/Yandex.Disk.localized/01_Documents/01_Study/0_LUX/01_PhD/Drafts/Project3/kaggle_volatility/support_file.py:1675: RuntimeWarning: invalid value encountered in true_divide\n",
      "  w_ask = np.sum(df_book[(start_time <= df_book['seconds_in_bucket']) & (df_book['seconds_in_bucket'] < end_time)]['ask_price1'] * df_book[(start_time <= df_book['seconds_in_bucket']) & (df_book['seconds_in_bucket'] < end_time)]['time_length']) / (end_time - start_time)\n",
      "/Users/vladimir.levin/Yandex.Disk.localized/01_Documents/01_Study/0_LUX/01_PhD/Drafts/Project3/kaggle_volatility/support_file.py:1676: RuntimeWarning: invalid value encountered in true_divide\n",
      "  w_bid = np.sum(df_book[(start_time <= df_book['seconds_in_bucket']) & (df_book['seconds_in_bucket'] < end_time)]['bid_price1'] * df_book[(start_time <= df_book['seconds_in_bucket']) & (df_book['seconds_in_bucket'] < end_time)]['time_length']) / (end_time - start_time)\n"
     ]
    },
    {
     "name": "stdout",
     "output_type": "stream",
     "text": [
      "10042\n",
      "10045\n",
      "10070\n",
      "10071\n",
      "10072\n",
      "10081\n",
      "10088\n",
      "10100\n"
     ]
    },
    {
     "name": "stderr",
     "output_type": "stream",
     "text": [
      "/Users/vladimir.levin/Yandex.Disk.localized/01_Documents/01_Study/0_LUX/01_PhD/Drafts/Project3/kaggle_volatility/support_file.py:1675: RuntimeWarning: invalid value encountered in true_divide\n",
      "  w_ask = np.sum(df_book[(start_time <= df_book['seconds_in_bucket']) & (df_book['seconds_in_bucket'] < end_time)]['ask_price1'] * df_book[(start_time <= df_book['seconds_in_bucket']) & (df_book['seconds_in_bucket'] < end_time)]['time_length']) / (end_time - start_time)\n",
      "/Users/vladimir.levin/Yandex.Disk.localized/01_Documents/01_Study/0_LUX/01_PhD/Drafts/Project3/kaggle_volatility/support_file.py:1676: RuntimeWarning: invalid value encountered in true_divide\n",
      "  w_bid = np.sum(df_book[(start_time <= df_book['seconds_in_bucket']) & (df_book['seconds_in_bucket'] < end_time)]['bid_price1'] * df_book[(start_time <= df_book['seconds_in_bucket']) & (df_book['seconds_in_bucket'] < end_time)]['time_length']) / (end_time - start_time)\n"
     ]
    },
    {
     "name": "stdout",
     "output_type": "stream",
     "text": [
      "10105\n",
      "10111\n",
      "10113\n",
      "10123\n",
      "10135\n",
      "10150\n",
      "10163\n",
      "10171\n",
      "10186\n",
      "10191\n",
      "10206\n"
     ]
    },
    {
     "name": "stderr",
     "output_type": "stream",
     "text": [
      "/Users/vladimir.levin/Yandex.Disk.localized/01_Documents/01_Study/0_LUX/01_PhD/Drafts/Project3/kaggle_volatility/support_file.py:1675: RuntimeWarning: invalid value encountered in true_divide\n",
      "  w_ask = np.sum(df_book[(start_time <= df_book['seconds_in_bucket']) & (df_book['seconds_in_bucket'] < end_time)]['ask_price1'] * df_book[(start_time <= df_book['seconds_in_bucket']) & (df_book['seconds_in_bucket'] < end_time)]['time_length']) / (end_time - start_time)\n",
      "/Users/vladimir.levin/Yandex.Disk.localized/01_Documents/01_Study/0_LUX/01_PhD/Drafts/Project3/kaggle_volatility/support_file.py:1676: RuntimeWarning: invalid value encountered in true_divide\n",
      "  w_bid = np.sum(df_book[(start_time <= df_book['seconds_in_bucket']) & (df_book['seconds_in_bucket'] < end_time)]['bid_price1'] * df_book[(start_time <= df_book['seconds_in_bucket']) & (df_book['seconds_in_bucket'] < end_time)]['time_length']) / (end_time - start_time)\n"
     ]
    },
    {
     "name": "stdout",
     "output_type": "stream",
     "text": [
      "10209\n",
      "10220\n",
      "10230\n",
      "10243\n",
      "10250\n",
      "10262\n",
      "10264\n",
      "10291\n",
      "10311\n",
      "10321\n",
      "10326\n",
      "10336\n",
      "10339\n",
      "10349\n",
      "10364\n",
      "10369\n",
      "10389\n"
     ]
    },
    {
     "name": "stderr",
     "output_type": "stream",
     "text": [
      "/Users/vladimir.levin/Yandex.Disk.localized/01_Documents/01_Study/0_LUX/01_PhD/Drafts/Project3/kaggle_volatility/support_file.py:1675: RuntimeWarning: invalid value encountered in true_divide\n",
      "  w_ask = np.sum(df_book[(start_time <= df_book['seconds_in_bucket']) & (df_book['seconds_in_bucket'] < end_time)]['ask_price1'] * df_book[(start_time <= df_book['seconds_in_bucket']) & (df_book['seconds_in_bucket'] < end_time)]['time_length']) / (end_time - start_time)\n",
      "/Users/vladimir.levin/Yandex.Disk.localized/01_Documents/01_Study/0_LUX/01_PhD/Drafts/Project3/kaggle_volatility/support_file.py:1676: RuntimeWarning: invalid value encountered in true_divide\n",
      "  w_bid = np.sum(df_book[(start_time <= df_book['seconds_in_bucket']) & (df_book['seconds_in_bucket'] < end_time)]['bid_price1'] * df_book[(start_time <= df_book['seconds_in_bucket']) & (df_book['seconds_in_bucket'] < end_time)]['time_length']) / (end_time - start_time)\n"
     ]
    },
    {
     "name": "stdout",
     "output_type": "stream",
     "text": [
      "10403\n",
      "10421\n",
      "10433\n",
      "10448\n",
      "10450"
     ]
    },
    {
     "name": "stderr",
     "output_type": "stream",
     "text": [
      "/Users/vladimir.levin/Yandex.Disk.localized/01_Documents/01_Study/0_LUX/01_PhD/Drafts/Project3/kaggle_volatility/support_file.py:1675: RuntimeWarning: invalid value encountered in true_divide\n",
      "  w_ask = np.sum(df_book[(start_time <= df_book['seconds_in_bucket']) & (df_book['seconds_in_bucket'] < end_time)]['ask_price1'] * df_book[(start_time <= df_book['seconds_in_bucket']) & (df_book['seconds_in_bucket'] < end_time)]['time_length']) / (end_time - start_time)\n",
      "/Users/vladimir.levin/Yandex.Disk.localized/01_Documents/01_Study/0_LUX/01_PhD/Drafts/Project3/kaggle_volatility/support_file.py:1676: RuntimeWarning: invalid value encountered in true_divide\n",
      "  w_bid = np.sum(df_book[(start_time <= df_book['seconds_in_bucket']) & (df_book['seconds_in_bucket'] < end_time)]['bid_price1'] * df_book[(start_time <= df_book['seconds_in_bucket']) & (df_book['seconds_in_bucket'] < end_time)]['time_length']) / (end_time - start_time)\n",
      "/Users/vladimir.levin/Yandex.Disk.localized/01_Documents/01_Study/0_LUX/01_PhD/Drafts/Project3/kaggle_volatility/support_file.py:1675: RuntimeWarning: invalid value encountered in true_divide\n",
      "  w_ask = np.sum(df_book[(start_time <= df_book['seconds_in_bucket']) & (df_book['seconds_in_bucket'] < end_time)]['ask_price1'] * df_book[(start_time <= df_book['seconds_in_bucket']) & (df_book['seconds_in_bucket'] < end_time)]['time_length']) / (end_time - start_time)\n",
      "/Users/vladimir.levin/Yandex.Disk.localized/01_Documents/01_Study/0_LUX/01_PhD/Drafts/Project3/kaggle_volatility/support_file.py:1676: RuntimeWarning: invalid value encountered in true_divide\n",
      "  w_bid = np.sum(df_book[(start_time <= df_book['seconds_in_bucket']) & (df_book['seconds_in_bucket'] < end_time)]['bid_price1'] * df_book[(start_time <= df_book['seconds_in_bucket']) & (df_book['seconds_in_bucket'] < end_time)]['time_length']) / (end_time - start_time)\n"
     ]
    },
    {
     "name": "stdout",
     "output_type": "stream",
     "text": [
      "\n",
      "10455\n",
      "10460\n",
      "10461\n",
      "10480\n",
      "10488\n",
      "10491\n",
      "10494\n",
      "10523\n",
      "10530\n",
      "10546\n",
      "10547\n"
     ]
    },
    {
     "name": "stderr",
     "output_type": "stream",
     "text": [
      "/Users/vladimir.levin/Yandex.Disk.localized/01_Documents/01_Study/0_LUX/01_PhD/Drafts/Project3/kaggle_volatility/support_file.py:1675: RuntimeWarning: invalid value encountered in true_divide\n",
      "  w_ask = np.sum(df_book[(start_time <= df_book['seconds_in_bucket']) & (df_book['seconds_in_bucket'] < end_time)]['ask_price1'] * df_book[(start_time <= df_book['seconds_in_bucket']) & (df_book['seconds_in_bucket'] < end_time)]['time_length']) / (end_time - start_time)\n",
      "/Users/vladimir.levin/Yandex.Disk.localized/01_Documents/01_Study/0_LUX/01_PhD/Drafts/Project3/kaggle_volatility/support_file.py:1676: RuntimeWarning: invalid value encountered in true_divide\n",
      "  w_bid = np.sum(df_book[(start_time <= df_book['seconds_in_bucket']) & (df_book['seconds_in_bucket'] < end_time)]['bid_price1'] * df_book[(start_time <= df_book['seconds_in_bucket']) & (df_book['seconds_in_bucket'] < end_time)]['time_length']) / (end_time - start_time)\n"
     ]
    },
    {
     "name": "stdout",
     "output_type": "stream",
     "text": [
      "10554\n",
      "10559\n",
      "10561\n",
      "10572\n",
      "10590\n",
      "10604\n",
      "10608\n",
      "10610\n",
      "10616\n",
      "10619\n",
      "10628\n",
      "10633\n",
      "10642\n",
      "10661\n",
      "10669\n",
      "10672\n",
      "10682\n",
      "10688\n",
      "10689\n",
      "10701\n",
      "10702\n",
      "10703\n",
      "10708\n",
      "10709\n",
      "10725\n",
      "10726\n",
      "10734\n",
      "10745\n",
      "10751\n",
      "10765\n",
      "10767\n"
     ]
    },
    {
     "name": "stderr",
     "output_type": "stream",
     "text": [
      "/Users/vladimir.levin/Yandex.Disk.localized/01_Documents/01_Study/0_LUX/01_PhD/Drafts/Project3/kaggle_volatility/support_file.py:1675: RuntimeWarning: invalid value encountered in true_divide\n",
      "  w_ask = np.sum(df_book[(start_time <= df_book['seconds_in_bucket']) & (df_book['seconds_in_bucket'] < end_time)]['ask_price1'] * df_book[(start_time <= df_book['seconds_in_bucket']) & (df_book['seconds_in_bucket'] < end_time)]['time_length']) / (end_time - start_time)\n",
      "/Users/vladimir.levin/Yandex.Disk.localized/01_Documents/01_Study/0_LUX/01_PhD/Drafts/Project3/kaggle_volatility/support_file.py:1676: RuntimeWarning: invalid value encountered in true_divide\n",
      "  w_bid = np.sum(df_book[(start_time <= df_book['seconds_in_bucket']) & (df_book['seconds_in_bucket'] < end_time)]['bid_price1'] * df_book[(start_time <= df_book['seconds_in_bucket']) & (df_book['seconds_in_bucket'] < end_time)]['time_length']) / (end_time - start_time)\n"
     ]
    },
    {
     "name": "stdout",
     "output_type": "stream",
     "text": [
      "10776\n",
      "10779\n",
      "10781\n",
      "10789\n",
      "10793\n",
      "10796\n",
      "10806\n"
     ]
    },
    {
     "name": "stderr",
     "output_type": "stream",
     "text": [
      "/Users/vladimir.levin/Yandex.Disk.localized/01_Documents/01_Study/0_LUX/01_PhD/Drafts/Project3/kaggle_volatility/support_file.py:1675: RuntimeWarning: invalid value encountered in true_divide\n",
      "  w_ask = np.sum(df_book[(start_time <= df_book['seconds_in_bucket']) & (df_book['seconds_in_bucket'] < end_time)]['ask_price1'] * df_book[(start_time <= df_book['seconds_in_bucket']) & (df_book['seconds_in_bucket'] < end_time)]['time_length']) / (end_time - start_time)\n",
      "/Users/vladimir.levin/Yandex.Disk.localized/01_Documents/01_Study/0_LUX/01_PhD/Drafts/Project3/kaggle_volatility/support_file.py:1676: RuntimeWarning: invalid value encountered in true_divide\n",
      "  w_bid = np.sum(df_book[(start_time <= df_book['seconds_in_bucket']) & (df_book['seconds_in_bucket'] < end_time)]['bid_price1'] * df_book[(start_time <= df_book['seconds_in_bucket']) & (df_book['seconds_in_bucket'] < end_time)]['time_length']) / (end_time - start_time)\n"
     ]
    },
    {
     "name": "stdout",
     "output_type": "stream",
     "text": [
      "10810\n",
      "10816\n",
      "10827\n",
      "10840\n",
      "10849\n",
      "10856"
     ]
    },
    {
     "name": "stderr",
     "output_type": "stream",
     "text": [
      "/Users/vladimir.levin/Yandex.Disk.localized/01_Documents/01_Study/0_LUX/01_PhD/Drafts/Project3/kaggle_volatility/support_file.py:1675: RuntimeWarning: invalid value encountered in true_divide\n",
      "  w_ask = np.sum(df_book[(start_time <= df_book['seconds_in_bucket']) & (df_book['seconds_in_bucket'] < end_time)]['ask_price1'] * df_book[(start_time <= df_book['seconds_in_bucket']) & (df_book['seconds_in_bucket'] < end_time)]['time_length']) / (end_time - start_time)\n",
      "/Users/vladimir.levin/Yandex.Disk.localized/01_Documents/01_Study/0_LUX/01_PhD/Drafts/Project3/kaggle_volatility/support_file.py:1676: RuntimeWarning: invalid value encountered in true_divide\n",
      "  w_bid = np.sum(df_book[(start_time <= df_book['seconds_in_bucket']) & (df_book['seconds_in_bucket'] < end_time)]['bid_price1'] * df_book[(start_time <= df_book['seconds_in_bucket']) & (df_book['seconds_in_bucket'] < end_time)]['time_length']) / (end_time - start_time)\n",
      "/Users/vladimir.levin/Yandex.Disk.localized/01_Documents/01_Study/0_LUX/01_PhD/Drafts/Project3/kaggle_volatility/support_file.py:1675: RuntimeWarning: invalid value encountered in true_divide\n",
      "  w_ask = np.sum(df_book[(start_time <= df_book['seconds_in_bucket']) & (df_book['seconds_in_bucket'] < end_time)]['ask_price1'] * df_book[(start_time <= df_book['seconds_in_bucket']) & (df_book['seconds_in_bucket'] < end_time)]['time_length']) / (end_time - start_time)\n",
      "/Users/vladimir.levin/Yandex.Disk.localized/01_Documents/01_Study/0_LUX/01_PhD/Drafts/Project3/kaggle_volatility/support_file.py:1676: RuntimeWarning: invalid value encountered in true_divide\n",
      "  w_bid = np.sum(df_book[(start_time <= df_book['seconds_in_bucket']) & (df_book['seconds_in_bucket'] < end_time)]['bid_price1'] * df_book[(start_time <= df_book['seconds_in_bucket']) & (df_book['seconds_in_bucket'] < end_time)]['time_length']) / (end_time - start_time)\n"
     ]
    },
    {
     "name": "stdout",
     "output_type": "stream",
     "text": [
      "\n",
      "10890\n",
      "10892\n"
     ]
    },
    {
     "name": "stderr",
     "output_type": "stream",
     "text": [
      "/Users/vladimir.levin/Yandex.Disk.localized/01_Documents/01_Study/0_LUX/01_PhD/Drafts/Project3/kaggle_volatility/support_file.py:1675: RuntimeWarning: invalid value encountered in true_divide\n",
      "  w_ask = np.sum(df_book[(start_time <= df_book['seconds_in_bucket']) & (df_book['seconds_in_bucket'] < end_time)]['ask_price1'] * df_book[(start_time <= df_book['seconds_in_bucket']) & (df_book['seconds_in_bucket'] < end_time)]['time_length']) / (end_time - start_time)\n",
      "/Users/vladimir.levin/Yandex.Disk.localized/01_Documents/01_Study/0_LUX/01_PhD/Drafts/Project3/kaggle_volatility/support_file.py:1676: RuntimeWarning: invalid value encountered in true_divide\n",
      "  w_bid = np.sum(df_book[(start_time <= df_book['seconds_in_bucket']) & (df_book['seconds_in_bucket'] < end_time)]['bid_price1'] * df_book[(start_time <= df_book['seconds_in_bucket']) & (df_book['seconds_in_bucket'] < end_time)]['time_length']) / (end_time - start_time)\n"
     ]
    },
    {
     "name": "stdout",
     "output_type": "stream",
     "text": [
      "10898\n",
      "10899\n",
      "10929\n",
      "10932\n",
      "10934\n",
      "10938\n",
      "10941\n"
     ]
    },
    {
     "name": "stderr",
     "output_type": "stream",
     "text": [
      "/Users/vladimir.levin/Yandex.Disk.localized/01_Documents/01_Study/0_LUX/01_PhD/Drafts/Project3/kaggle_volatility/support_file.py:1675: RuntimeWarning: invalid value encountered in true_divide\n",
      "  w_ask = np.sum(df_book[(start_time <= df_book['seconds_in_bucket']) & (df_book['seconds_in_bucket'] < end_time)]['ask_price1'] * df_book[(start_time <= df_book['seconds_in_bucket']) & (df_book['seconds_in_bucket'] < end_time)]['time_length']) / (end_time - start_time)\n",
      "/Users/vladimir.levin/Yandex.Disk.localized/01_Documents/01_Study/0_LUX/01_PhD/Drafts/Project3/kaggle_volatility/support_file.py:1676: RuntimeWarning: invalid value encountered in true_divide\n",
      "  w_bid = np.sum(df_book[(start_time <= df_book['seconds_in_bucket']) & (df_book['seconds_in_bucket'] < end_time)]['bid_price1'] * df_book[(start_time <= df_book['seconds_in_bucket']) & (df_book['seconds_in_bucket'] < end_time)]['time_length']) / (end_time - start_time)\n"
     ]
    },
    {
     "name": "stdout",
     "output_type": "stream",
     "text": [
      "10946\n",
      "10949\n"
     ]
    },
    {
     "name": "stderr",
     "output_type": "stream",
     "text": [
      "/Users/vladimir.levin/Yandex.Disk.localized/01_Documents/01_Study/0_LUX/01_PhD/Drafts/Project3/kaggle_volatility/support_file.py:1675: RuntimeWarning: invalid value encountered in true_divide\n",
      "  w_ask = np.sum(df_book[(start_time <= df_book['seconds_in_bucket']) & (df_book['seconds_in_bucket'] < end_time)]['ask_price1'] * df_book[(start_time <= df_book['seconds_in_bucket']) & (df_book['seconds_in_bucket'] < end_time)]['time_length']) / (end_time - start_time)\n",
      "/Users/vladimir.levin/Yandex.Disk.localized/01_Documents/01_Study/0_LUX/01_PhD/Drafts/Project3/kaggle_volatility/support_file.py:1676: RuntimeWarning: invalid value encountered in true_divide\n",
      "  w_bid = np.sum(df_book[(start_time <= df_book['seconds_in_bucket']) & (df_book['seconds_in_bucket'] < end_time)]['bid_price1'] * df_book[(start_time <= df_book['seconds_in_bucket']) & (df_book['seconds_in_bucket'] < end_time)]['time_length']) / (end_time - start_time)\n"
     ]
    },
    {
     "name": "stdout",
     "output_type": "stream",
     "text": [
      "10956\n",
      "10964\n",
      "10969\n",
      "10985\n",
      "10987\n",
      "10994\n",
      "11007\n",
      "11035\n",
      "11041\n",
      "11043\n",
      "11048\n"
     ]
    },
    {
     "name": "stderr",
     "output_type": "stream",
     "text": [
      "/Users/vladimir.levin/Yandex.Disk.localized/01_Documents/01_Study/0_LUX/01_PhD/Drafts/Project3/kaggle_volatility/support_file.py:1675: RuntimeWarning: invalid value encountered in true_divide\n",
      "  w_ask = np.sum(df_book[(start_time <= df_book['seconds_in_bucket']) & (df_book['seconds_in_bucket'] < end_time)]['ask_price1'] * df_book[(start_time <= df_book['seconds_in_bucket']) & (df_book['seconds_in_bucket'] < end_time)]['time_length']) / (end_time - start_time)\n",
      "/Users/vladimir.levin/Yandex.Disk.localized/01_Documents/01_Study/0_LUX/01_PhD/Drafts/Project3/kaggle_volatility/support_file.py:1676: RuntimeWarning: invalid value encountered in true_divide\n",
      "  w_bid = np.sum(df_book[(start_time <= df_book['seconds_in_bucket']) & (df_book['seconds_in_bucket'] < end_time)]['bid_price1'] * df_book[(start_time <= df_book['seconds_in_bucket']) & (df_book['seconds_in_bucket'] < end_time)]['time_length']) / (end_time - start_time)\n"
     ]
    },
    {
     "name": "stdout",
     "output_type": "stream",
     "text": [
      "11052\n",
      "11054\n",
      "11056\n",
      "11059\n",
      "11060\n"
     ]
    },
    {
     "name": "stderr",
     "output_type": "stream",
     "text": [
      "/Users/vladimir.levin/Yandex.Disk.localized/01_Documents/01_Study/0_LUX/01_PhD/Drafts/Project3/kaggle_volatility/support_file.py:1675: RuntimeWarning: invalid value encountered in true_divide\n",
      "  w_ask = np.sum(df_book[(start_time <= df_book['seconds_in_bucket']) & (df_book['seconds_in_bucket'] < end_time)]['ask_price1'] * df_book[(start_time <= df_book['seconds_in_bucket']) & (df_book['seconds_in_bucket'] < end_time)]['time_length']) / (end_time - start_time)\n",
      "/Users/vladimir.levin/Yandex.Disk.localized/01_Documents/01_Study/0_LUX/01_PhD/Drafts/Project3/kaggle_volatility/support_file.py:1676: RuntimeWarning: invalid value encountered in true_divide\n",
      "  w_bid = np.sum(df_book[(start_time <= df_book['seconds_in_bucket']) & (df_book['seconds_in_bucket'] < end_time)]['bid_price1'] * df_book[(start_time <= df_book['seconds_in_bucket']) & (df_book['seconds_in_bucket'] < end_time)]['time_length']) / (end_time - start_time)\n"
     ]
    },
    {
     "name": "stdout",
     "output_type": "stream",
     "text": [
      "11062\n",
      "11070\n",
      "11081\n",
      "11090\n"
     ]
    },
    {
     "name": "stderr",
     "output_type": "stream",
     "text": [
      "/Users/vladimir.levin/Yandex.Disk.localized/01_Documents/01_Study/0_LUX/01_PhD/Drafts/Project3/kaggle_volatility/support_file.py:1675: RuntimeWarning: invalid value encountered in true_divide\n",
      "  w_ask = np.sum(df_book[(start_time <= df_book['seconds_in_bucket']) & (df_book['seconds_in_bucket'] < end_time)]['ask_price1'] * df_book[(start_time <= df_book['seconds_in_bucket']) & (df_book['seconds_in_bucket'] < end_time)]['time_length']) / (end_time - start_time)\n",
      "/Users/vladimir.levin/Yandex.Disk.localized/01_Documents/01_Study/0_LUX/01_PhD/Drafts/Project3/kaggle_volatility/support_file.py:1676: RuntimeWarning: invalid value encountered in true_divide\n",
      "  w_bid = np.sum(df_book[(start_time <= df_book['seconds_in_bucket']) & (df_book['seconds_in_bucket'] < end_time)]['bid_price1'] * df_book[(start_time <= df_book['seconds_in_bucket']) & (df_book['seconds_in_bucket'] < end_time)]['time_length']) / (end_time - start_time)\n"
     ]
    },
    {
     "name": "stdout",
     "output_type": "stream",
     "text": [
      "11096\n",
      "11111\n",
      "11113\n"
     ]
    },
    {
     "name": "stderr",
     "output_type": "stream",
     "text": [
      "/Users/vladimir.levin/Yandex.Disk.localized/01_Documents/01_Study/0_LUX/01_PhD/Drafts/Project3/kaggle_volatility/support_file.py:1675: RuntimeWarning: invalid value encountered in true_divide\n",
      "  w_ask = np.sum(df_book[(start_time <= df_book['seconds_in_bucket']) & (df_book['seconds_in_bucket'] < end_time)]['ask_price1'] * df_book[(start_time <= df_book['seconds_in_bucket']) & (df_book['seconds_in_bucket'] < end_time)]['time_length']) / (end_time - start_time)\n",
      "/Users/vladimir.levin/Yandex.Disk.localized/01_Documents/01_Study/0_LUX/01_PhD/Drafts/Project3/kaggle_volatility/support_file.py:1676: RuntimeWarning: invalid value encountered in true_divide\n",
      "  w_bid = np.sum(df_book[(start_time <= df_book['seconds_in_bucket']) & (df_book['seconds_in_bucket'] < end_time)]['bid_price1'] * df_book[(start_time <= df_book['seconds_in_bucket']) & (df_book['seconds_in_bucket'] < end_time)]['time_length']) / (end_time - start_time)\n"
     ]
    },
    {
     "name": "stdout",
     "output_type": "stream",
     "text": [
      "11120\n",
      "11121\n",
      "11122\n",
      "11137\n",
      "11143\n",
      "11151\n",
      "11152\n",
      "11178\n",
      "11184\n",
      "11199\n",
      "11227\n",
      "11243\n",
      "11248\n",
      "11263\n",
      "11264\n",
      "11279\n"
     ]
    },
    {
     "name": "stderr",
     "output_type": "stream",
     "text": [
      "/Users/vladimir.levin/Yandex.Disk.localized/01_Documents/01_Study/0_LUX/01_PhD/Drafts/Project3/kaggle_volatility/support_file.py:1675: RuntimeWarning: invalid value encountered in true_divide\n",
      "  w_ask = np.sum(df_book[(start_time <= df_book['seconds_in_bucket']) & (df_book['seconds_in_bucket'] < end_time)]['ask_price1'] * df_book[(start_time <= df_book['seconds_in_bucket']) & (df_book['seconds_in_bucket'] < end_time)]['time_length']) / (end_time - start_time)\n",
      "/Users/vladimir.levin/Yandex.Disk.localized/01_Documents/01_Study/0_LUX/01_PhD/Drafts/Project3/kaggle_volatility/support_file.py:1676: RuntimeWarning: invalid value encountered in true_divide\n",
      "  w_bid = np.sum(df_book[(start_time <= df_book['seconds_in_bucket']) & (df_book['seconds_in_bucket'] < end_time)]['bid_price1'] * df_book[(start_time <= df_book['seconds_in_bucket']) & (df_book['seconds_in_bucket'] < end_time)]['time_length']) / (end_time - start_time)\n"
     ]
    },
    {
     "name": "stdout",
     "output_type": "stream",
     "text": [
      "11296\n",
      "11303\n",
      "11318\n",
      "11325\n",
      "11327\n",
      "11330\n",
      "11351\n"
     ]
    },
    {
     "name": "stderr",
     "output_type": "stream",
     "text": [
      "/Users/vladimir.levin/Yandex.Disk.localized/01_Documents/01_Study/0_LUX/01_PhD/Drafts/Project3/kaggle_volatility/support_file.py:1675: RuntimeWarning: invalid value encountered in true_divide\n",
      "  w_ask = np.sum(df_book[(start_time <= df_book['seconds_in_bucket']) & (df_book['seconds_in_bucket'] < end_time)]['ask_price1'] * df_book[(start_time <= df_book['seconds_in_bucket']) & (df_book['seconds_in_bucket'] < end_time)]['time_length']) / (end_time - start_time)\n",
      "/Users/vladimir.levin/Yandex.Disk.localized/01_Documents/01_Study/0_LUX/01_PhD/Drafts/Project3/kaggle_volatility/support_file.py:1676: RuntimeWarning: invalid value encountered in true_divide\n",
      "  w_bid = np.sum(df_book[(start_time <= df_book['seconds_in_bucket']) & (df_book['seconds_in_bucket'] < end_time)]['bid_price1'] * df_book[(start_time <= df_book['seconds_in_bucket']) & (df_book['seconds_in_bucket'] < end_time)]['time_length']) / (end_time - start_time)\n"
     ]
    },
    {
     "name": "stdout",
     "output_type": "stream",
     "text": [
      "11363\n",
      "11367\n",
      "11374\n"
     ]
    },
    {
     "name": "stderr",
     "output_type": "stream",
     "text": [
      "/Users/vladimir.levin/Yandex.Disk.localized/01_Documents/01_Study/0_LUX/01_PhD/Drafts/Project3/kaggle_volatility/support_file.py:1675: RuntimeWarning: invalid value encountered in true_divide\n",
      "  w_ask = np.sum(df_book[(start_time <= df_book['seconds_in_bucket']) & (df_book['seconds_in_bucket'] < end_time)]['ask_price1'] * df_book[(start_time <= df_book['seconds_in_bucket']) & (df_book['seconds_in_bucket'] < end_time)]['time_length']) / (end_time - start_time)\n",
      "/Users/vladimir.levin/Yandex.Disk.localized/01_Documents/01_Study/0_LUX/01_PhD/Drafts/Project3/kaggle_volatility/support_file.py:1676: RuntimeWarning: invalid value encountered in true_divide\n",
      "  w_bid = np.sum(df_book[(start_time <= df_book['seconds_in_bucket']) & (df_book['seconds_in_bucket'] < end_time)]['bid_price1'] * df_book[(start_time <= df_book['seconds_in_bucket']) & (df_book['seconds_in_bucket'] < end_time)]['time_length']) / (end_time - start_time)\n"
     ]
    },
    {
     "name": "stdout",
     "output_type": "stream",
     "text": [
      "11375\n",
      "11389\n",
      "11393\n"
     ]
    },
    {
     "name": "stderr",
     "output_type": "stream",
     "text": [
      "/Users/vladimir.levin/Yandex.Disk.localized/01_Documents/01_Study/0_LUX/01_PhD/Drafts/Project3/kaggle_volatility/support_file.py:1675: RuntimeWarning: invalid value encountered in true_divide\n",
      "  w_ask = np.sum(df_book[(start_time <= df_book['seconds_in_bucket']) & (df_book['seconds_in_bucket'] < end_time)]['ask_price1'] * df_book[(start_time <= df_book['seconds_in_bucket']) & (df_book['seconds_in_bucket'] < end_time)]['time_length']) / (end_time - start_time)\n",
      "/Users/vladimir.levin/Yandex.Disk.localized/01_Documents/01_Study/0_LUX/01_PhD/Drafts/Project3/kaggle_volatility/support_file.py:1676: RuntimeWarning: invalid value encountered in true_divide\n",
      "  w_bid = np.sum(df_book[(start_time <= df_book['seconds_in_bucket']) & (df_book['seconds_in_bucket'] < end_time)]['bid_price1'] * df_book[(start_time <= df_book['seconds_in_bucket']) & (df_book['seconds_in_bucket'] < end_time)]['time_length']) / (end_time - start_time)\n"
     ]
    },
    {
     "name": "stdout",
     "output_type": "stream",
     "text": [
      "11405\n",
      "11415\n",
      "11419\n",
      "11431\n",
      "11433\n",
      "11440\n",
      "11449\n",
      "11453\n",
      "11475\n",
      "11481"
     ]
    },
    {
     "name": "stderr",
     "output_type": "stream",
     "text": [
      "/Users/vladimir.levin/Yandex.Disk.localized/01_Documents/01_Study/0_LUX/01_PhD/Drafts/Project3/kaggle_volatility/support_file.py:1675: RuntimeWarning: invalid value encountered in true_divide\n",
      "  w_ask = np.sum(df_book[(start_time <= df_book['seconds_in_bucket']) & (df_book['seconds_in_bucket'] < end_time)]['ask_price1'] * df_book[(start_time <= df_book['seconds_in_bucket']) & (df_book['seconds_in_bucket'] < end_time)]['time_length']) / (end_time - start_time)\n",
      "/Users/vladimir.levin/Yandex.Disk.localized/01_Documents/01_Study/0_LUX/01_PhD/Drafts/Project3/kaggle_volatility/support_file.py:1676: RuntimeWarning: invalid value encountered in true_divide\n",
      "  w_bid = np.sum(df_book[(start_time <= df_book['seconds_in_bucket']) & (df_book['seconds_in_bucket'] < end_time)]['bid_price1'] * df_book[(start_time <= df_book['seconds_in_bucket']) & (df_book['seconds_in_bucket'] < end_time)]['time_length']) / (end_time - start_time)\n"
     ]
    },
    {
     "name": "stdout",
     "output_type": "stream",
     "text": [
      "\n",
      "11487\n",
      "11490\n",
      "11497\n",
      "11499\n",
      "11501\n",
      "11504\n",
      "11508\n",
      "11511\n"
     ]
    },
    {
     "name": "stderr",
     "output_type": "stream",
     "text": [
      "/Users/vladimir.levin/Yandex.Disk.localized/01_Documents/01_Study/0_LUX/01_PhD/Drafts/Project3/kaggle_volatility/support_file.py:1675: RuntimeWarning: invalid value encountered in true_divide\n",
      "  w_ask = np.sum(df_book[(start_time <= df_book['seconds_in_bucket']) & (df_book['seconds_in_bucket'] < end_time)]['ask_price1'] * df_book[(start_time <= df_book['seconds_in_bucket']) & (df_book['seconds_in_bucket'] < end_time)]['time_length']) / (end_time - start_time)\n",
      "/Users/vladimir.levin/Yandex.Disk.localized/01_Documents/01_Study/0_LUX/01_PhD/Drafts/Project3/kaggle_volatility/support_file.py:1676: RuntimeWarning: invalid value encountered in true_divide\n",
      "  w_bid = np.sum(df_book[(start_time <= df_book['seconds_in_bucket']) & (df_book['seconds_in_bucket'] < end_time)]['bid_price1'] * df_book[(start_time <= df_book['seconds_in_bucket']) & (df_book['seconds_in_bucket'] < end_time)]['time_length']) / (end_time - start_time)\n",
      "/Users/vladimir.levin/Yandex.Disk.localized/01_Documents/01_Study/0_LUX/01_PhD/Drafts/Project3/kaggle_volatility/support_file.py:1675: RuntimeWarning: invalid value encountered in true_divide\n",
      "  w_ask = np.sum(df_book[(start_time <= df_book['seconds_in_bucket']) & (df_book['seconds_in_bucket'] < end_time)]['ask_price1'] * df_book[(start_time <= df_book['seconds_in_bucket']) & (df_book['seconds_in_bucket'] < end_time)]['time_length']) / (end_time - start_time)\n",
      "/Users/vladimir.levin/Yandex.Disk.localized/01_Documents/01_Study/0_LUX/01_PhD/Drafts/Project3/kaggle_volatility/support_file.py:1676: RuntimeWarning: invalid value encountered in true_divide\n",
      "  w_bid = np.sum(df_book[(start_time <= df_book['seconds_in_bucket']) & (df_book['seconds_in_bucket'] < end_time)]['bid_price1'] * df_book[(start_time <= df_book['seconds_in_bucket']) & (df_book['seconds_in_bucket'] < end_time)]['time_length']) / (end_time - start_time)\n"
     ]
    },
    {
     "name": "stdout",
     "output_type": "stream",
     "text": [
      "11541\n",
      "11559\n",
      "11577\n"
     ]
    },
    {
     "name": "stderr",
     "output_type": "stream",
     "text": [
      "/Users/vladimir.levin/Yandex.Disk.localized/01_Documents/01_Study/0_LUX/01_PhD/Drafts/Project3/kaggle_volatility/support_file.py:1675: RuntimeWarning: invalid value encountered in true_divide\n",
      "  w_ask = np.sum(df_book[(start_time <= df_book['seconds_in_bucket']) & (df_book['seconds_in_bucket'] < end_time)]['ask_price1'] * df_book[(start_time <= df_book['seconds_in_bucket']) & (df_book['seconds_in_bucket'] < end_time)]['time_length']) / (end_time - start_time)\n",
      "/Users/vladimir.levin/Yandex.Disk.localized/01_Documents/01_Study/0_LUX/01_PhD/Drafts/Project3/kaggle_volatility/support_file.py:1676: RuntimeWarning: invalid value encountered in true_divide\n",
      "  w_bid = np.sum(df_book[(start_time <= df_book['seconds_in_bucket']) & (df_book['seconds_in_bucket'] < end_time)]['bid_price1'] * df_book[(start_time <= df_book['seconds_in_bucket']) & (df_book['seconds_in_bucket'] < end_time)]['time_length']) / (end_time - start_time)\n"
     ]
    },
    {
     "name": "stdout",
     "output_type": "stream",
     "text": [
      "11579\n",
      "11589\n",
      "11597\n"
     ]
    },
    {
     "name": "stderr",
     "output_type": "stream",
     "text": [
      "/Users/vladimir.levin/Yandex.Disk.localized/01_Documents/01_Study/0_LUX/01_PhD/Drafts/Project3/kaggle_volatility/support_file.py:1675: RuntimeWarning: invalid value encountered in true_divide\n",
      "  w_ask = np.sum(df_book[(start_time <= df_book['seconds_in_bucket']) & (df_book['seconds_in_bucket'] < end_time)]['ask_price1'] * df_book[(start_time <= df_book['seconds_in_bucket']) & (df_book['seconds_in_bucket'] < end_time)]['time_length']) / (end_time - start_time)\n",
      "/Users/vladimir.levin/Yandex.Disk.localized/01_Documents/01_Study/0_LUX/01_PhD/Drafts/Project3/kaggle_volatility/support_file.py:1676: RuntimeWarning: invalid value encountered in true_divide\n",
      "  w_bid = np.sum(df_book[(start_time <= df_book['seconds_in_bucket']) & (df_book['seconds_in_bucket'] < end_time)]['bid_price1'] * df_book[(start_time <= df_book['seconds_in_bucket']) & (df_book['seconds_in_bucket'] < end_time)]['time_length']) / (end_time - start_time)\n"
     ]
    },
    {
     "name": "stdout",
     "output_type": "stream",
     "text": [
      "11607\n",
      "11639\n",
      "11641\n",
      "11642\n",
      "11655\n"
     ]
    },
    {
     "name": "stderr",
     "output_type": "stream",
     "text": [
      "/Users/vladimir.levin/Yandex.Disk.localized/01_Documents/01_Study/0_LUX/01_PhD/Drafts/Project3/kaggle_volatility/support_file.py:1675: RuntimeWarning: invalid value encountered in true_divide\n",
      "  w_ask = np.sum(df_book[(start_time <= df_book['seconds_in_bucket']) & (df_book['seconds_in_bucket'] < end_time)]['ask_price1'] * df_book[(start_time <= df_book['seconds_in_bucket']) & (df_book['seconds_in_bucket'] < end_time)]['time_length']) / (end_time - start_time)\n",
      "/Users/vladimir.levin/Yandex.Disk.localized/01_Documents/01_Study/0_LUX/01_PhD/Drafts/Project3/kaggle_volatility/support_file.py:1676: RuntimeWarning: invalid value encountered in true_divide\n",
      "  w_bid = np.sum(df_book[(start_time <= df_book['seconds_in_bucket']) & (df_book['seconds_in_bucket'] < end_time)]['bid_price1'] * df_book[(start_time <= df_book['seconds_in_bucket']) & (df_book['seconds_in_bucket'] < end_time)]['time_length']) / (end_time - start_time)\n"
     ]
    },
    {
     "name": "stdout",
     "output_type": "stream",
     "text": [
      "11682\n",
      "11686\n",
      "11689\n",
      "11700\n",
      "11715\n",
      "11718\n"
     ]
    },
    {
     "name": "stderr",
     "output_type": "stream",
     "text": [
      "/Users/vladimir.levin/Yandex.Disk.localized/01_Documents/01_Study/0_LUX/01_PhD/Drafts/Project3/kaggle_volatility/support_file.py:1675: RuntimeWarning: invalid value encountered in true_divide\n",
      "  w_ask = np.sum(df_book[(start_time <= df_book['seconds_in_bucket']) & (df_book['seconds_in_bucket'] < end_time)]['ask_price1'] * df_book[(start_time <= df_book['seconds_in_bucket']) & (df_book['seconds_in_bucket'] < end_time)]['time_length']) / (end_time - start_time)\n",
      "/Users/vladimir.levin/Yandex.Disk.localized/01_Documents/01_Study/0_LUX/01_PhD/Drafts/Project3/kaggle_volatility/support_file.py:1676: RuntimeWarning: invalid value encountered in true_divide\n",
      "  w_bid = np.sum(df_book[(start_time <= df_book['seconds_in_bucket']) & (df_book['seconds_in_bucket'] < end_time)]['bid_price1'] * df_book[(start_time <= df_book['seconds_in_bucket']) & (df_book['seconds_in_bucket'] < end_time)]['time_length']) / (end_time - start_time)\n"
     ]
    },
    {
     "name": "stdout",
     "output_type": "stream",
     "text": [
      "11722\n",
      "11726\n",
      "11729\n",
      "11730\n",
      "11735\n",
      "11749\n",
      "11750\n",
      "11764\n",
      "11775\n"
     ]
    },
    {
     "name": "stderr",
     "output_type": "stream",
     "text": [
      "/Users/vladimir.levin/Yandex.Disk.localized/01_Documents/01_Study/0_LUX/01_PhD/Drafts/Project3/kaggle_volatility/support_file.py:1675: RuntimeWarning: invalid value encountered in true_divide\n",
      "  w_ask = np.sum(df_book[(start_time <= df_book['seconds_in_bucket']) & (df_book['seconds_in_bucket'] < end_time)]['ask_price1'] * df_book[(start_time <= df_book['seconds_in_bucket']) & (df_book['seconds_in_bucket'] < end_time)]['time_length']) / (end_time - start_time)\n",
      "/Users/vladimir.levin/Yandex.Disk.localized/01_Documents/01_Study/0_LUX/01_PhD/Drafts/Project3/kaggle_volatility/support_file.py:1676: RuntimeWarning: invalid value encountered in true_divide\n",
      "  w_bid = np.sum(df_book[(start_time <= df_book['seconds_in_bucket']) & (df_book['seconds_in_bucket'] < end_time)]['bid_price1'] * df_book[(start_time <= df_book['seconds_in_bucket']) & (df_book['seconds_in_bucket'] < end_time)]['time_length']) / (end_time - start_time)\n"
     ]
    },
    {
     "name": "stdout",
     "output_type": "stream",
     "text": [
      "11786\n",
      "11792\n"
     ]
    },
    {
     "name": "stderr",
     "output_type": "stream",
     "text": [
      "/Users/vladimir.levin/Yandex.Disk.localized/01_Documents/01_Study/0_LUX/01_PhD/Drafts/Project3/kaggle_volatility/support_file.py:1675: RuntimeWarning: invalid value encountered in true_divide\n",
      "  w_ask = np.sum(df_book[(start_time <= df_book['seconds_in_bucket']) & (df_book['seconds_in_bucket'] < end_time)]['ask_price1'] * df_book[(start_time <= df_book['seconds_in_bucket']) & (df_book['seconds_in_bucket'] < end_time)]['time_length']) / (end_time - start_time)\n",
      "/Users/vladimir.levin/Yandex.Disk.localized/01_Documents/01_Study/0_LUX/01_PhD/Drafts/Project3/kaggle_volatility/support_file.py:1676: RuntimeWarning: invalid value encountered in true_divide\n",
      "  w_bid = np.sum(df_book[(start_time <= df_book['seconds_in_bucket']) & (df_book['seconds_in_bucket'] < end_time)]['bid_price1'] * df_book[(start_time <= df_book['seconds_in_bucket']) & (df_book['seconds_in_bucket'] < end_time)]['time_length']) / (end_time - start_time)\n"
     ]
    },
    {
     "name": "stdout",
     "output_type": "stream",
     "text": [
      "11804\n",
      "11809\n",
      "11812\n",
      "11844\n",
      "11852\n",
      "11860\n",
      "11864\n",
      "11868\n",
      "11869\n",
      "11872\n",
      "11874\n",
      "11876\n"
     ]
    },
    {
     "name": "stderr",
     "output_type": "stream",
     "text": [
      "/Users/vladimir.levin/Yandex.Disk.localized/01_Documents/01_Study/0_LUX/01_PhD/Drafts/Project3/kaggle_volatility/support_file.py:1675: RuntimeWarning: invalid value encountered in true_divide\n",
      "  w_ask = np.sum(df_book[(start_time <= df_book['seconds_in_bucket']) & (df_book['seconds_in_bucket'] < end_time)]['ask_price1'] * df_book[(start_time <= df_book['seconds_in_bucket']) & (df_book['seconds_in_bucket'] < end_time)]['time_length']) / (end_time - start_time)\n",
      "/Users/vladimir.levin/Yandex.Disk.localized/01_Documents/01_Study/0_LUX/01_PhD/Drafts/Project3/kaggle_volatility/support_file.py:1676: RuntimeWarning: invalid value encountered in true_divide\n",
      "  w_bid = np.sum(df_book[(start_time <= df_book['seconds_in_bucket']) & (df_book['seconds_in_bucket'] < end_time)]['bid_price1'] * df_book[(start_time <= df_book['seconds_in_bucket']) & (df_book['seconds_in_bucket'] < end_time)]['time_length']) / (end_time - start_time)\n"
     ]
    },
    {
     "name": "stdout",
     "output_type": "stream",
     "text": [
      "11886\n",
      "11887\n",
      "11893\n",
      "11898\n",
      "11899\n",
      "11904\n",
      "11914\n",
      "11920\n",
      "11940\n",
      "11941\n",
      "11952\n",
      "11953\n",
      "11959\n",
      "11962\n",
      "11981\n",
      "11985\n"
     ]
    },
    {
     "name": "stderr",
     "output_type": "stream",
     "text": [
      "/Users/vladimir.levin/Yandex.Disk.localized/01_Documents/01_Study/0_LUX/01_PhD/Drafts/Project3/kaggle_volatility/support_file.py:1675: RuntimeWarning: invalid value encountered in true_divide\n",
      "  w_ask = np.sum(df_book[(start_time <= df_book['seconds_in_bucket']) & (df_book['seconds_in_bucket'] < end_time)]['ask_price1'] * df_book[(start_time <= df_book['seconds_in_bucket']) & (df_book['seconds_in_bucket'] < end_time)]['time_length']) / (end_time - start_time)\n",
      "/Users/vladimir.levin/Yandex.Disk.localized/01_Documents/01_Study/0_LUX/01_PhD/Drafts/Project3/kaggle_volatility/support_file.py:1676: RuntimeWarning: invalid value encountered in true_divide\n",
      "  w_bid = np.sum(df_book[(start_time <= df_book['seconds_in_bucket']) & (df_book['seconds_in_bucket'] < end_time)]['bid_price1'] * df_book[(start_time <= df_book['seconds_in_bucket']) & (df_book['seconds_in_bucket'] < end_time)]['time_length']) / (end_time - start_time)\n",
      "/Users/vladimir.levin/Yandex.Disk.localized/01_Documents/01_Study/0_LUX/01_PhD/Drafts/Project3/kaggle_volatility/support_file.py:1675: RuntimeWarning: invalid value encountered in true_divide\n",
      "  w_ask = np.sum(df_book[(start_time <= df_book['seconds_in_bucket']) & (df_book['seconds_in_bucket'] < end_time)]['ask_price1'] * df_book[(start_time <= df_book['seconds_in_bucket']) & (df_book['seconds_in_bucket'] < end_time)]['time_length']) / (end_time - start_time)\n",
      "/Users/vladimir.levin/Yandex.Disk.localized/01_Documents/01_Study/0_LUX/01_PhD/Drafts/Project3/kaggle_volatility/support_file.py:1676: RuntimeWarning: invalid value encountered in true_divide\n",
      "  w_bid = np.sum(df_book[(start_time <= df_book['seconds_in_bucket']) & (df_book['seconds_in_bucket'] < end_time)]['bid_price1'] * df_book[(start_time <= df_book['seconds_in_bucket']) & (df_book['seconds_in_bucket'] < end_time)]['time_length']) / (end_time - start_time)\n"
     ]
    },
    {
     "name": "stdout",
     "output_type": "stream",
     "text": [
      "11987\n",
      "11994\n",
      "11995\n",
      "12011\n",
      "12012\n",
      "12021\n",
      "12028\n"
     ]
    },
    {
     "name": "stderr",
     "output_type": "stream",
     "text": [
      "/Users/vladimir.levin/Yandex.Disk.localized/01_Documents/01_Study/0_LUX/01_PhD/Drafts/Project3/kaggle_volatility/support_file.py:1675: RuntimeWarning: invalid value encountered in true_divide\n",
      "  w_ask = np.sum(df_book[(start_time <= df_book['seconds_in_bucket']) & (df_book['seconds_in_bucket'] < end_time)]['ask_price1'] * df_book[(start_time <= df_book['seconds_in_bucket']) & (df_book['seconds_in_bucket'] < end_time)]['time_length']) / (end_time - start_time)\n",
      "/Users/vladimir.levin/Yandex.Disk.localized/01_Documents/01_Study/0_LUX/01_PhD/Drafts/Project3/kaggle_volatility/support_file.py:1676: RuntimeWarning: invalid value encountered in true_divide\n",
      "  w_bid = np.sum(df_book[(start_time <= df_book['seconds_in_bucket']) & (df_book['seconds_in_bucket'] < end_time)]['bid_price1'] * df_book[(start_time <= df_book['seconds_in_bucket']) & (df_book['seconds_in_bucket'] < end_time)]['time_length']) / (end_time - start_time)\n"
     ]
    },
    {
     "name": "stdout",
     "output_type": "stream",
     "text": [
      "12030\n",
      "12061\n"
     ]
    },
    {
     "name": "stderr",
     "output_type": "stream",
     "text": [
      "/Users/vladimir.levin/Yandex.Disk.localized/01_Documents/01_Study/0_LUX/01_PhD/Drafts/Project3/kaggle_volatility/support_file.py:1675: RuntimeWarning: invalid value encountered in true_divide\n",
      "  w_ask = np.sum(df_book[(start_time <= df_book['seconds_in_bucket']) & (df_book['seconds_in_bucket'] < end_time)]['ask_price1'] * df_book[(start_time <= df_book['seconds_in_bucket']) & (df_book['seconds_in_bucket'] < end_time)]['time_length']) / (end_time - start_time)\n",
      "/Users/vladimir.levin/Yandex.Disk.localized/01_Documents/01_Study/0_LUX/01_PhD/Drafts/Project3/kaggle_volatility/support_file.py:1676: RuntimeWarning: invalid value encountered in true_divide\n",
      "  w_bid = np.sum(df_book[(start_time <= df_book['seconds_in_bucket']) & (df_book['seconds_in_bucket'] < end_time)]['bid_price1'] * df_book[(start_time <= df_book['seconds_in_bucket']) & (df_book['seconds_in_bucket'] < end_time)]['time_length']) / (end_time - start_time)\n"
     ]
    },
    {
     "name": "stdout",
     "output_type": "stream",
     "text": [
      "12065\n",
      "12073\n",
      "12079\n",
      "12102\n",
      "12103\n",
      "12111\n",
      "12114\n"
     ]
    },
    {
     "name": "stderr",
     "output_type": "stream",
     "text": [
      "/Users/vladimir.levin/Yandex.Disk.localized/01_Documents/01_Study/0_LUX/01_PhD/Drafts/Project3/kaggle_volatility/support_file.py:1675: RuntimeWarning: invalid value encountered in true_divide\n",
      "  w_ask = np.sum(df_book[(start_time <= df_book['seconds_in_bucket']) & (df_book['seconds_in_bucket'] < end_time)]['ask_price1'] * df_book[(start_time <= df_book['seconds_in_bucket']) & (df_book['seconds_in_bucket'] < end_time)]['time_length']) / (end_time - start_time)\n",
      "/Users/vladimir.levin/Yandex.Disk.localized/01_Documents/01_Study/0_LUX/01_PhD/Drafts/Project3/kaggle_volatility/support_file.py:1676: RuntimeWarning: invalid value encountered in true_divide\n",
      "  w_bid = np.sum(df_book[(start_time <= df_book['seconds_in_bucket']) & (df_book['seconds_in_bucket'] < end_time)]['bid_price1'] * df_book[(start_time <= df_book['seconds_in_bucket']) & (df_book['seconds_in_bucket'] < end_time)]['time_length']) / (end_time - start_time)\n"
     ]
    },
    {
     "name": "stdout",
     "output_type": "stream",
     "text": [
      "12115\n",
      "12131\n",
      "12135\n",
      "12139\n",
      "12141\n",
      "12147\n",
      "12151\n",
      "12163\n"
     ]
    },
    {
     "name": "stderr",
     "output_type": "stream",
     "text": [
      "/Users/vladimir.levin/Yandex.Disk.localized/01_Documents/01_Study/0_LUX/01_PhD/Drafts/Project3/kaggle_volatility/support_file.py:1675: RuntimeWarning: invalid value encountered in true_divide\n",
      "  w_ask = np.sum(df_book[(start_time <= df_book['seconds_in_bucket']) & (df_book['seconds_in_bucket'] < end_time)]['ask_price1'] * df_book[(start_time <= df_book['seconds_in_bucket']) & (df_book['seconds_in_bucket'] < end_time)]['time_length']) / (end_time - start_time)\n",
      "/Users/vladimir.levin/Yandex.Disk.localized/01_Documents/01_Study/0_LUX/01_PhD/Drafts/Project3/kaggle_volatility/support_file.py:1676: RuntimeWarning: invalid value encountered in true_divide\n",
      "  w_bid = np.sum(df_book[(start_time <= df_book['seconds_in_bucket']) & (df_book['seconds_in_bucket'] < end_time)]['bid_price1'] * df_book[(start_time <= df_book['seconds_in_bucket']) & (df_book['seconds_in_bucket'] < end_time)]['time_length']) / (end_time - start_time)\n"
     ]
    },
    {
     "name": "stdout",
     "output_type": "stream",
     "text": [
      "12166\n",
      "12176\n",
      "12178"
     ]
    },
    {
     "name": "stderr",
     "output_type": "stream",
     "text": [
      "/Users/vladimir.levin/Yandex.Disk.localized/01_Documents/01_Study/0_LUX/01_PhD/Drafts/Project3/kaggle_volatility/support_file.py:1675: RuntimeWarning: invalid value encountered in true_divide\n",
      "  w_ask = np.sum(df_book[(start_time <= df_book['seconds_in_bucket']) & (df_book['seconds_in_bucket'] < end_time)]['ask_price1'] * df_book[(start_time <= df_book['seconds_in_bucket']) & (df_book['seconds_in_bucket'] < end_time)]['time_length']) / (end_time - start_time)\n",
      "/Users/vladimir.levin/Yandex.Disk.localized/01_Documents/01_Study/0_LUX/01_PhD/Drafts/Project3/kaggle_volatility/support_file.py:1676: RuntimeWarning: invalid value encountered in true_divide\n",
      "  w_bid = np.sum(df_book[(start_time <= df_book['seconds_in_bucket']) & (df_book['seconds_in_bucket'] < end_time)]['bid_price1'] * df_book[(start_time <= df_book['seconds_in_bucket']) & (df_book['seconds_in_bucket'] < end_time)]['time_length']) / (end_time - start_time)\n",
      "/Users/vladimir.levin/Yandex.Disk.localized/01_Documents/01_Study/0_LUX/01_PhD/Drafts/Project3/kaggle_volatility/support_file.py:1675: RuntimeWarning: invalid value encountered in true_divide\n",
      "  w_ask = np.sum(df_book[(start_time <= df_book['seconds_in_bucket']) & (df_book['seconds_in_bucket'] < end_time)]['ask_price1'] * df_book[(start_time <= df_book['seconds_in_bucket']) & (df_book['seconds_in_bucket'] < end_time)]['time_length']) / (end_time - start_time)\n",
      "/Users/vladimir.levin/Yandex.Disk.localized/01_Documents/01_Study/0_LUX/01_PhD/Drafts/Project3/kaggle_volatility/support_file.py:1676: RuntimeWarning: invalid value encountered in true_divide\n",
      "  w_bid = np.sum(df_book[(start_time <= df_book['seconds_in_bucket']) & (df_book['seconds_in_bucket'] < end_time)]['bid_price1'] * df_book[(start_time <= df_book['seconds_in_bucket']) & (df_book['seconds_in_bucket'] < end_time)]['time_length']) / (end_time - start_time)\n"
     ]
    },
    {
     "name": "stdout",
     "output_type": "stream",
     "text": [
      "\n",
      "12182\n"
     ]
    },
    {
     "name": "stderr",
     "output_type": "stream",
     "text": [
      "/Users/vladimir.levin/Yandex.Disk.localized/01_Documents/01_Study/0_LUX/01_PhD/Drafts/Project3/kaggle_volatility/support_file.py:1675: RuntimeWarning: invalid value encountered in true_divide\n",
      "  w_ask = np.sum(df_book[(start_time <= df_book['seconds_in_bucket']) & (df_book['seconds_in_bucket'] < end_time)]['ask_price1'] * df_book[(start_time <= df_book['seconds_in_bucket']) & (df_book['seconds_in_bucket'] < end_time)]['time_length']) / (end_time - start_time)\n",
      "/Users/vladimir.levin/Yandex.Disk.localized/01_Documents/01_Study/0_LUX/01_PhD/Drafts/Project3/kaggle_volatility/support_file.py:1676: RuntimeWarning: invalid value encountered in true_divide\n",
      "  w_bid = np.sum(df_book[(start_time <= df_book['seconds_in_bucket']) & (df_book['seconds_in_bucket'] < end_time)]['bid_price1'] * df_book[(start_time <= df_book['seconds_in_bucket']) & (df_book['seconds_in_bucket'] < end_time)]['time_length']) / (end_time - start_time)\n"
     ]
    },
    {
     "name": "stdout",
     "output_type": "stream",
     "text": [
      "12206\n",
      "12222\n",
      "12225\n",
      "12229\n"
     ]
    },
    {
     "name": "stderr",
     "output_type": "stream",
     "text": [
      "/Users/vladimir.levin/Yandex.Disk.localized/01_Documents/01_Study/0_LUX/01_PhD/Drafts/Project3/kaggle_volatility/support_file.py:1675: RuntimeWarning: invalid value encountered in true_divide\n",
      "  w_ask = np.sum(df_book[(start_time <= df_book['seconds_in_bucket']) & (df_book['seconds_in_bucket'] < end_time)]['ask_price1'] * df_book[(start_time <= df_book['seconds_in_bucket']) & (df_book['seconds_in_bucket'] < end_time)]['time_length']) / (end_time - start_time)\n",
      "/Users/vladimir.levin/Yandex.Disk.localized/01_Documents/01_Study/0_LUX/01_PhD/Drafts/Project3/kaggle_volatility/support_file.py:1676: RuntimeWarning: invalid value encountered in true_divide\n",
      "  w_bid = np.sum(df_book[(start_time <= df_book['seconds_in_bucket']) & (df_book['seconds_in_bucket'] < end_time)]['bid_price1'] * df_book[(start_time <= df_book['seconds_in_bucket']) & (df_book['seconds_in_bucket'] < end_time)]['time_length']) / (end_time - start_time)\n"
     ]
    },
    {
     "name": "stdout",
     "output_type": "stream",
     "text": [
      "12234\n",
      "12247\n",
      "12250\n",
      "12254\n",
      "12266\n",
      "12279\n",
      "12287\n",
      "12291\n",
      "12299\n",
      "12309\n"
     ]
    },
    {
     "name": "stderr",
     "output_type": "stream",
     "text": [
      "/Users/vladimir.levin/Yandex.Disk.localized/01_Documents/01_Study/0_LUX/01_PhD/Drafts/Project3/kaggle_volatility/support_file.py:1675: RuntimeWarning: invalid value encountered in true_divide\n",
      "  w_ask = np.sum(df_book[(start_time <= df_book['seconds_in_bucket']) & (df_book['seconds_in_bucket'] < end_time)]['ask_price1'] * df_book[(start_time <= df_book['seconds_in_bucket']) & (df_book['seconds_in_bucket'] < end_time)]['time_length']) / (end_time - start_time)\n",
      "/Users/vladimir.levin/Yandex.Disk.localized/01_Documents/01_Study/0_LUX/01_PhD/Drafts/Project3/kaggle_volatility/support_file.py:1676: RuntimeWarning: invalid value encountered in true_divide\n",
      "  w_bid = np.sum(df_book[(start_time <= df_book['seconds_in_bucket']) & (df_book['seconds_in_bucket'] < end_time)]['bid_price1'] * df_book[(start_time <= df_book['seconds_in_bucket']) & (df_book['seconds_in_bucket'] < end_time)]['time_length']) / (end_time - start_time)\n"
     ]
    },
    {
     "name": "stdout",
     "output_type": "stream",
     "text": [
      "12322\n",
      "12324\n"
     ]
    },
    {
     "name": "stderr",
     "output_type": "stream",
     "text": [
      "/Users/vladimir.levin/Yandex.Disk.localized/01_Documents/01_Study/0_LUX/01_PhD/Drafts/Project3/kaggle_volatility/support_file.py:1675: RuntimeWarning: invalid value encountered in true_divide\n",
      "  w_ask = np.sum(df_book[(start_time <= df_book['seconds_in_bucket']) & (df_book['seconds_in_bucket'] < end_time)]['ask_price1'] * df_book[(start_time <= df_book['seconds_in_bucket']) & (df_book['seconds_in_bucket'] < end_time)]['time_length']) / (end_time - start_time)\n",
      "/Users/vladimir.levin/Yandex.Disk.localized/01_Documents/01_Study/0_LUX/01_PhD/Drafts/Project3/kaggle_volatility/support_file.py:1676: RuntimeWarning: invalid value encountered in true_divide\n",
      "  w_bid = np.sum(df_book[(start_time <= df_book['seconds_in_bucket']) & (df_book['seconds_in_bucket'] < end_time)]['bid_price1'] * df_book[(start_time <= df_book['seconds_in_bucket']) & (df_book['seconds_in_bucket'] < end_time)]['time_length']) / (end_time - start_time)\n"
     ]
    },
    {
     "name": "stdout",
     "output_type": "stream",
     "text": [
      "12347\n",
      "12348\n",
      "12352\n",
      "12358\n",
      "12395\n",
      "12399\n"
     ]
    },
    {
     "name": "stderr",
     "output_type": "stream",
     "text": [
      "/Users/vladimir.levin/Yandex.Disk.localized/01_Documents/01_Study/0_LUX/01_PhD/Drafts/Project3/kaggle_volatility/support_file.py:1675: RuntimeWarning: invalid value encountered in true_divide\n",
      "  w_ask = np.sum(df_book[(start_time <= df_book['seconds_in_bucket']) & (df_book['seconds_in_bucket'] < end_time)]['ask_price1'] * df_book[(start_time <= df_book['seconds_in_bucket']) & (df_book['seconds_in_bucket'] < end_time)]['time_length']) / (end_time - start_time)\n",
      "/Users/vladimir.levin/Yandex.Disk.localized/01_Documents/01_Study/0_LUX/01_PhD/Drafts/Project3/kaggle_volatility/support_file.py:1676: RuntimeWarning: invalid value encountered in true_divide\n",
      "  w_bid = np.sum(df_book[(start_time <= df_book['seconds_in_bucket']) & (df_book['seconds_in_bucket'] < end_time)]['bid_price1'] * df_book[(start_time <= df_book['seconds_in_bucket']) & (df_book['seconds_in_bucket'] < end_time)]['time_length']) / (end_time - start_time)\n"
     ]
    },
    {
     "name": "stdout",
     "output_type": "stream",
     "text": [
      "12408\n",
      "12411\n",
      "12419\n",
      "12420\n",
      "12423\n",
      "12428\n",
      "12436\n"
     ]
    },
    {
     "name": "stderr",
     "output_type": "stream",
     "text": [
      "/Users/vladimir.levin/Yandex.Disk.localized/01_Documents/01_Study/0_LUX/01_PhD/Drafts/Project3/kaggle_volatility/support_file.py:1675: RuntimeWarning: invalid value encountered in true_divide\n",
      "  w_ask = np.sum(df_book[(start_time <= df_book['seconds_in_bucket']) & (df_book['seconds_in_bucket'] < end_time)]['ask_price1'] * df_book[(start_time <= df_book['seconds_in_bucket']) & (df_book['seconds_in_bucket'] < end_time)]['time_length']) / (end_time - start_time)\n",
      "/Users/vladimir.levin/Yandex.Disk.localized/01_Documents/01_Study/0_LUX/01_PhD/Drafts/Project3/kaggle_volatility/support_file.py:1676: RuntimeWarning: invalid value encountered in true_divide\n",
      "  w_bid = np.sum(df_book[(start_time <= df_book['seconds_in_bucket']) & (df_book['seconds_in_bucket'] < end_time)]['bid_price1'] * df_book[(start_time <= df_book['seconds_in_bucket']) & (df_book['seconds_in_bucket'] < end_time)]['time_length']) / (end_time - start_time)\n"
     ]
    },
    {
     "name": "stdout",
     "output_type": "stream",
     "text": [
      "12437\n",
      "12444\n"
     ]
    },
    {
     "name": "stderr",
     "output_type": "stream",
     "text": [
      "/Users/vladimir.levin/Yandex.Disk.localized/01_Documents/01_Study/0_LUX/01_PhD/Drafts/Project3/kaggle_volatility/support_file.py:1675: RuntimeWarning: invalid value encountered in true_divide\n",
      "  w_ask = np.sum(df_book[(start_time <= df_book['seconds_in_bucket']) & (df_book['seconds_in_bucket'] < end_time)]['ask_price1'] * df_book[(start_time <= df_book['seconds_in_bucket']) & (df_book['seconds_in_bucket'] < end_time)]['time_length']) / (end_time - start_time)\n",
      "/Users/vladimir.levin/Yandex.Disk.localized/01_Documents/01_Study/0_LUX/01_PhD/Drafts/Project3/kaggle_volatility/support_file.py:1676: RuntimeWarning: invalid value encountered in true_divide\n",
      "  w_bid = np.sum(df_book[(start_time <= df_book['seconds_in_bucket']) & (df_book['seconds_in_bucket'] < end_time)]['bid_price1'] * df_book[(start_time <= df_book['seconds_in_bucket']) & (df_book['seconds_in_bucket'] < end_time)]['time_length']) / (end_time - start_time)\n",
      "/Users/vladimir.levin/Yandex.Disk.localized/01_Documents/01_Study/0_LUX/01_PhD/Drafts/Project3/kaggle_volatility/support_file.py:1675: RuntimeWarning: invalid value encountered in true_divide\n",
      "  w_ask = np.sum(df_book[(start_time <= df_book['seconds_in_bucket']) & (df_book['seconds_in_bucket'] < end_time)]['ask_price1'] * df_book[(start_time <= df_book['seconds_in_bucket']) & (df_book['seconds_in_bucket'] < end_time)]['time_length']) / (end_time - start_time)\n",
      "/Users/vladimir.levin/Yandex.Disk.localized/01_Documents/01_Study/0_LUX/01_PhD/Drafts/Project3/kaggle_volatility/support_file.py:1676: RuntimeWarning: invalid value encountered in true_divide\n",
      "  w_bid = np.sum(df_book[(start_time <= df_book['seconds_in_bucket']) & (df_book['seconds_in_bucket'] < end_time)]['bid_price1'] * df_book[(start_time <= df_book['seconds_in_bucket']) & (df_book['seconds_in_bucket'] < end_time)]['time_length']) / (end_time - start_time)\n"
     ]
    },
    {
     "name": "stdout",
     "output_type": "stream",
     "text": [
      "12465\n",
      "12481\n",
      "12486\n",
      "12494\n",
      "12498\n",
      "12521\n",
      "12523\n",
      "12531\n",
      "12532\n",
      "12533\n",
      "12535\n",
      "12537\n",
      "12542\n",
      "12546\n",
      "12552\n",
      "12559\n",
      "12577\n",
      "12579\n",
      "12581\n",
      "12583\n",
      "12584\n",
      "12585\n",
      "12588\n",
      "12611\n",
      "12633\n"
     ]
    },
    {
     "name": "stderr",
     "output_type": "stream",
     "text": [
      "/Users/vladimir.levin/Yandex.Disk.localized/01_Documents/01_Study/0_LUX/01_PhD/Drafts/Project3/kaggle_volatility/support_file.py:1675: RuntimeWarning: invalid value encountered in true_divide\n",
      "  w_ask = np.sum(df_book[(start_time <= df_book['seconds_in_bucket']) & (df_book['seconds_in_bucket'] < end_time)]['ask_price1'] * df_book[(start_time <= df_book['seconds_in_bucket']) & (df_book['seconds_in_bucket'] < end_time)]['time_length']) / (end_time - start_time)\n",
      "/Users/vladimir.levin/Yandex.Disk.localized/01_Documents/01_Study/0_LUX/01_PhD/Drafts/Project3/kaggle_volatility/support_file.py:1676: RuntimeWarning: invalid value encountered in true_divide\n",
      "  w_bid = np.sum(df_book[(start_time <= df_book['seconds_in_bucket']) & (df_book['seconds_in_bucket'] < end_time)]['bid_price1'] * df_book[(start_time <= df_book['seconds_in_bucket']) & (df_book['seconds_in_bucket'] < end_time)]['time_length']) / (end_time - start_time)\n"
     ]
    },
    {
     "name": "stdout",
     "output_type": "stream",
     "text": [
      "12661\n",
      "12666\n"
     ]
    },
    {
     "name": "stderr",
     "output_type": "stream",
     "text": [
      "/Users/vladimir.levin/Yandex.Disk.localized/01_Documents/01_Study/0_LUX/01_PhD/Drafts/Project3/kaggle_volatility/support_file.py:1675: RuntimeWarning: invalid value encountered in true_divide\n",
      "  w_ask = np.sum(df_book[(start_time <= df_book['seconds_in_bucket']) & (df_book['seconds_in_bucket'] < end_time)]['ask_price1'] * df_book[(start_time <= df_book['seconds_in_bucket']) & (df_book['seconds_in_bucket'] < end_time)]['time_length']) / (end_time - start_time)\n",
      "/Users/vladimir.levin/Yandex.Disk.localized/01_Documents/01_Study/0_LUX/01_PhD/Drafts/Project3/kaggle_volatility/support_file.py:1676: RuntimeWarning: invalid value encountered in true_divide\n",
      "  w_bid = np.sum(df_book[(start_time <= df_book['seconds_in_bucket']) & (df_book['seconds_in_bucket'] < end_time)]['bid_price1'] * df_book[(start_time <= df_book['seconds_in_bucket']) & (df_book['seconds_in_bucket'] < end_time)]['time_length']) / (end_time - start_time)\n"
     ]
    },
    {
     "name": "stdout",
     "output_type": "stream",
     "text": [
      "12669\n",
      "12676\n"
     ]
    },
    {
     "name": "stderr",
     "output_type": "stream",
     "text": [
      "/Users/vladimir.levin/Yandex.Disk.localized/01_Documents/01_Study/0_LUX/01_PhD/Drafts/Project3/kaggle_volatility/support_file.py:1675: RuntimeWarning: invalid value encountered in true_divide\n",
      "  w_ask = np.sum(df_book[(start_time <= df_book['seconds_in_bucket']) & (df_book['seconds_in_bucket'] < end_time)]['ask_price1'] * df_book[(start_time <= df_book['seconds_in_bucket']) & (df_book['seconds_in_bucket'] < end_time)]['time_length']) / (end_time - start_time)\n",
      "/Users/vladimir.levin/Yandex.Disk.localized/01_Documents/01_Study/0_LUX/01_PhD/Drafts/Project3/kaggle_volatility/support_file.py:1676: RuntimeWarning: invalid value encountered in true_divide\n",
      "  w_bid = np.sum(df_book[(start_time <= df_book['seconds_in_bucket']) & (df_book['seconds_in_bucket'] < end_time)]['bid_price1'] * df_book[(start_time <= df_book['seconds_in_bucket']) & (df_book['seconds_in_bucket'] < end_time)]['time_length']) / (end_time - start_time)\n"
     ]
    },
    {
     "name": "stdout",
     "output_type": "stream",
     "text": [
      "12691\n",
      "12694\n",
      "12703\n"
     ]
    },
    {
     "name": "stderr",
     "output_type": "stream",
     "text": [
      "/Users/vladimir.levin/Yandex.Disk.localized/01_Documents/01_Study/0_LUX/01_PhD/Drafts/Project3/kaggle_volatility/support_file.py:1675: RuntimeWarning: invalid value encountered in true_divide\n",
      "  w_ask = np.sum(df_book[(start_time <= df_book['seconds_in_bucket']) & (df_book['seconds_in_bucket'] < end_time)]['ask_price1'] * df_book[(start_time <= df_book['seconds_in_bucket']) & (df_book['seconds_in_bucket'] < end_time)]['time_length']) / (end_time - start_time)\n",
      "/Users/vladimir.levin/Yandex.Disk.localized/01_Documents/01_Study/0_LUX/01_PhD/Drafts/Project3/kaggle_volatility/support_file.py:1676: RuntimeWarning: invalid value encountered in true_divide\n",
      "  w_bid = np.sum(df_book[(start_time <= df_book['seconds_in_bucket']) & (df_book['seconds_in_bucket'] < end_time)]['bid_price1'] * df_book[(start_time <= df_book['seconds_in_bucket']) & (df_book['seconds_in_bucket'] < end_time)]['time_length']) / (end_time - start_time)\n"
     ]
    },
    {
     "name": "stdout",
     "output_type": "stream",
     "text": [
      "12704\n",
      "12713\n",
      "12717\n"
     ]
    },
    {
     "name": "stderr",
     "output_type": "stream",
     "text": [
      "/Users/vladimir.levin/Yandex.Disk.localized/01_Documents/01_Study/0_LUX/01_PhD/Drafts/Project3/kaggle_volatility/support_file.py:1675: RuntimeWarning: invalid value encountered in true_divide\n",
      "  w_ask = np.sum(df_book[(start_time <= df_book['seconds_in_bucket']) & (df_book['seconds_in_bucket'] < end_time)]['ask_price1'] * df_book[(start_time <= df_book['seconds_in_bucket']) & (df_book['seconds_in_bucket'] < end_time)]['time_length']) / (end_time - start_time)\n",
      "/Users/vladimir.levin/Yandex.Disk.localized/01_Documents/01_Study/0_LUX/01_PhD/Drafts/Project3/kaggle_volatility/support_file.py:1676: RuntimeWarning: invalid value encountered in true_divide\n",
      "  w_bid = np.sum(df_book[(start_time <= df_book['seconds_in_bucket']) & (df_book['seconds_in_bucket'] < end_time)]['bid_price1'] * df_book[(start_time <= df_book['seconds_in_bucket']) & (df_book['seconds_in_bucket'] < end_time)]['time_length']) / (end_time - start_time)\n"
     ]
    },
    {
     "name": "stdout",
     "output_type": "stream",
     "text": [
      "12718\n",
      "12726\n",
      "12728\n",
      "12730\n",
      "12751\n",
      "12758\n"
     ]
    },
    {
     "name": "stderr",
     "output_type": "stream",
     "text": [
      "/Users/vladimir.levin/Yandex.Disk.localized/01_Documents/01_Study/0_LUX/01_PhD/Drafts/Project3/kaggle_volatility/support_file.py:1675: RuntimeWarning: invalid value encountered in true_divide\n",
      "  w_ask = np.sum(df_book[(start_time <= df_book['seconds_in_bucket']) & (df_book['seconds_in_bucket'] < end_time)]['ask_price1'] * df_book[(start_time <= df_book['seconds_in_bucket']) & (df_book['seconds_in_bucket'] < end_time)]['time_length']) / (end_time - start_time)\n",
      "/Users/vladimir.levin/Yandex.Disk.localized/01_Documents/01_Study/0_LUX/01_PhD/Drafts/Project3/kaggle_volatility/support_file.py:1676: RuntimeWarning: invalid value encountered in true_divide\n",
      "  w_bid = np.sum(df_book[(start_time <= df_book['seconds_in_bucket']) & (df_book['seconds_in_bucket'] < end_time)]['bid_price1'] * df_book[(start_time <= df_book['seconds_in_bucket']) & (df_book['seconds_in_bucket'] < end_time)]['time_length']) / (end_time - start_time)\n"
     ]
    },
    {
     "name": "stdout",
     "output_type": "stream",
     "text": [
      "12760\n",
      "12780\n",
      "12782\n",
      "12794\n",
      "12797\n",
      "12822\n"
     ]
    },
    {
     "name": "stderr",
     "output_type": "stream",
     "text": [
      "/Users/vladimir.levin/Yandex.Disk.localized/01_Documents/01_Study/0_LUX/01_PhD/Drafts/Project3/kaggle_volatility/support_file.py:1675: RuntimeWarning: invalid value encountered in true_divide\n",
      "  w_ask = np.sum(df_book[(start_time <= df_book['seconds_in_bucket']) & (df_book['seconds_in_bucket'] < end_time)]['ask_price1'] * df_book[(start_time <= df_book['seconds_in_bucket']) & (df_book['seconds_in_bucket'] < end_time)]['time_length']) / (end_time - start_time)\n",
      "/Users/vladimir.levin/Yandex.Disk.localized/01_Documents/01_Study/0_LUX/01_PhD/Drafts/Project3/kaggle_volatility/support_file.py:1676: RuntimeWarning: invalid value encountered in true_divide\n",
      "  w_bid = np.sum(df_book[(start_time <= df_book['seconds_in_bucket']) & (df_book['seconds_in_bucket'] < end_time)]['bid_price1'] * df_book[(start_time <= df_book['seconds_in_bucket']) & (df_book['seconds_in_bucket'] < end_time)]['time_length']) / (end_time - start_time)\n",
      "/Users/vladimir.levin/Yandex.Disk.localized/01_Documents/01_Study/0_LUX/01_PhD/Drafts/Project3/kaggle_volatility/support_file.py:1675: RuntimeWarning: invalid value encountered in true_divide\n",
      "  w_ask = np.sum(df_book[(start_time <= df_book['seconds_in_bucket']) & (df_book['seconds_in_bucket'] < end_time)]['ask_price1'] * df_book[(start_time <= df_book['seconds_in_bucket']) & (df_book['seconds_in_bucket'] < end_time)]['time_length']) / (end_time - start_time)\n",
      "/Users/vladimir.levin/Yandex.Disk.localized/01_Documents/01_Study/0_LUX/01_PhD/Drafts/Project3/kaggle_volatility/support_file.py:1676: RuntimeWarning: invalid value encountered in true_divide\n",
      "  w_bid = np.sum(df_book[(start_time <= df_book['seconds_in_bucket']) & (df_book['seconds_in_bucket'] < end_time)]['bid_price1'] * df_book[(start_time <= df_book['seconds_in_bucket']) & (df_book['seconds_in_bucket'] < end_time)]['time_length']) / (end_time - start_time)\n"
     ]
    },
    {
     "name": "stdout",
     "output_type": "stream",
     "text": [
      "12834\n",
      "12839\n",
      "12840\n",
      "12852\n",
      "12859\n",
      "12878\n",
      "12904\n",
      "12905\n",
      "12920\n",
      "12923\n",
      "12930\n",
      "12935\n",
      "12945\n",
      "12949\n",
      "12957\n",
      "12963\n",
      "12964\n",
      "12965\n",
      "12981\n"
     ]
    },
    {
     "name": "stderr",
     "output_type": "stream",
     "text": [
      "/Users/vladimir.levin/Yandex.Disk.localized/01_Documents/01_Study/0_LUX/01_PhD/Drafts/Project3/kaggle_volatility/support_file.py:1675: RuntimeWarning: invalid value encountered in true_divide\n",
      "  w_ask = np.sum(df_book[(start_time <= df_book['seconds_in_bucket']) & (df_book['seconds_in_bucket'] < end_time)]['ask_price1'] * df_book[(start_time <= df_book['seconds_in_bucket']) & (df_book['seconds_in_bucket'] < end_time)]['time_length']) / (end_time - start_time)\n",
      "/Users/vladimir.levin/Yandex.Disk.localized/01_Documents/01_Study/0_LUX/01_PhD/Drafts/Project3/kaggle_volatility/support_file.py:1676: RuntimeWarning: invalid value encountered in true_divide\n",
      "  w_bid = np.sum(df_book[(start_time <= df_book['seconds_in_bucket']) & (df_book['seconds_in_bucket'] < end_time)]['bid_price1'] * df_book[(start_time <= df_book['seconds_in_bucket']) & (df_book['seconds_in_bucket'] < end_time)]['time_length']) / (end_time - start_time)\n"
     ]
    },
    {
     "name": "stdout",
     "output_type": "stream",
     "text": [
      "12987\n",
      "12991\n",
      "12996\n",
      "12998\n"
     ]
    },
    {
     "name": "stderr",
     "output_type": "stream",
     "text": [
      "/Users/vladimir.levin/Yandex.Disk.localized/01_Documents/01_Study/0_LUX/01_PhD/Drafts/Project3/kaggle_volatility/support_file.py:1675: RuntimeWarning: invalid value encountered in true_divide\n",
      "  w_ask = np.sum(df_book[(start_time <= df_book['seconds_in_bucket']) & (df_book['seconds_in_bucket'] < end_time)]['ask_price1'] * df_book[(start_time <= df_book['seconds_in_bucket']) & (df_book['seconds_in_bucket'] < end_time)]['time_length']) / (end_time - start_time)\n",
      "/Users/vladimir.levin/Yandex.Disk.localized/01_Documents/01_Study/0_LUX/01_PhD/Drafts/Project3/kaggle_volatility/support_file.py:1676: RuntimeWarning: invalid value encountered in true_divide\n",
      "  w_bid = np.sum(df_book[(start_time <= df_book['seconds_in_bucket']) & (df_book['seconds_in_bucket'] < end_time)]['bid_price1'] * df_book[(start_time <= df_book['seconds_in_bucket']) & (df_book['seconds_in_bucket'] < end_time)]['time_length']) / (end_time - start_time)\n"
     ]
    },
    {
     "name": "stdout",
     "output_type": "stream",
     "text": [
      "13010\n",
      "13018\n",
      "13019\n",
      "13028\n",
      "13039\n",
      "13044\n"
     ]
    },
    {
     "name": "stderr",
     "output_type": "stream",
     "text": [
      "/Users/vladimir.levin/Yandex.Disk.localized/01_Documents/01_Study/0_LUX/01_PhD/Drafts/Project3/kaggle_volatility/support_file.py:1675: RuntimeWarning: invalid value encountered in true_divide\n",
      "  w_ask = np.sum(df_book[(start_time <= df_book['seconds_in_bucket']) & (df_book['seconds_in_bucket'] < end_time)]['ask_price1'] * df_book[(start_time <= df_book['seconds_in_bucket']) & (df_book['seconds_in_bucket'] < end_time)]['time_length']) / (end_time - start_time)\n",
      "/Users/vladimir.levin/Yandex.Disk.localized/01_Documents/01_Study/0_LUX/01_PhD/Drafts/Project3/kaggle_volatility/support_file.py:1676: RuntimeWarning: invalid value encountered in true_divide\n",
      "  w_bid = np.sum(df_book[(start_time <= df_book['seconds_in_bucket']) & (df_book['seconds_in_bucket'] < end_time)]['bid_price1'] * df_book[(start_time <= df_book['seconds_in_bucket']) & (df_book['seconds_in_bucket'] < end_time)]['time_length']) / (end_time - start_time)\n"
     ]
    },
    {
     "name": "stdout",
     "output_type": "stream",
     "text": [
      "13071\n",
      "13096\n",
      "13097"
     ]
    },
    {
     "name": "stderr",
     "output_type": "stream",
     "text": [
      "/Users/vladimir.levin/Yandex.Disk.localized/01_Documents/01_Study/0_LUX/01_PhD/Drafts/Project3/kaggle_volatility/support_file.py:1675: RuntimeWarning: invalid value encountered in true_divide\n",
      "  w_ask = np.sum(df_book[(start_time <= df_book['seconds_in_bucket']) & (df_book['seconds_in_bucket'] < end_time)]['ask_price1'] * df_book[(start_time <= df_book['seconds_in_bucket']) & (df_book['seconds_in_bucket'] < end_time)]['time_length']) / (end_time - start_time)\n",
      "/Users/vladimir.levin/Yandex.Disk.localized/01_Documents/01_Study/0_LUX/01_PhD/Drafts/Project3/kaggle_volatility/support_file.py:1676: RuntimeWarning: invalid value encountered in true_divide\n",
      "  w_bid = np.sum(df_book[(start_time <= df_book['seconds_in_bucket']) & (df_book['seconds_in_bucket'] < end_time)]['bid_price1'] * df_book[(start_time <= df_book['seconds_in_bucket']) & (df_book['seconds_in_bucket'] < end_time)]['time_length']) / (end_time - start_time)\n",
      "/Users/vladimir.levin/Yandex.Disk.localized/01_Documents/01_Study/0_LUX/01_PhD/Drafts/Project3/kaggle_volatility/support_file.py:1675: RuntimeWarning: invalid value encountered in true_divide\n",
      "  w_ask = np.sum(df_book[(start_time <= df_book['seconds_in_bucket']) & (df_book['seconds_in_bucket'] < end_time)]['ask_price1'] * df_book[(start_time <= df_book['seconds_in_bucket']) & (df_book['seconds_in_bucket'] < end_time)]['time_length']) / (end_time - start_time)\n",
      "/Users/vladimir.levin/Yandex.Disk.localized/01_Documents/01_Study/0_LUX/01_PhD/Drafts/Project3/kaggle_volatility/support_file.py:1676: RuntimeWarning: invalid value encountered in true_divide\n",
      "  w_bid = np.sum(df_book[(start_time <= df_book['seconds_in_bucket']) & (df_book['seconds_in_bucket'] < end_time)]['bid_price1'] * df_book[(start_time <= df_book['seconds_in_bucket']) & (df_book['seconds_in_bucket'] < end_time)]['time_length']) / (end_time - start_time)\n"
     ]
    },
    {
     "name": "stdout",
     "output_type": "stream",
     "text": [
      "\n",
      "13102\n",
      "13124\n"
     ]
    },
    {
     "name": "stderr",
     "output_type": "stream",
     "text": [
      "/Users/vladimir.levin/Yandex.Disk.localized/01_Documents/01_Study/0_LUX/01_PhD/Drafts/Project3/kaggle_volatility/support_file.py:1675: RuntimeWarning: invalid value encountered in true_divide\n",
      "  w_ask = np.sum(df_book[(start_time <= df_book['seconds_in_bucket']) & (df_book['seconds_in_bucket'] < end_time)]['ask_price1'] * df_book[(start_time <= df_book['seconds_in_bucket']) & (df_book['seconds_in_bucket'] < end_time)]['time_length']) / (end_time - start_time)\n",
      "/Users/vladimir.levin/Yandex.Disk.localized/01_Documents/01_Study/0_LUX/01_PhD/Drafts/Project3/kaggle_volatility/support_file.py:1676: RuntimeWarning: invalid value encountered in true_divide\n",
      "  w_bid = np.sum(df_book[(start_time <= df_book['seconds_in_bucket']) & (df_book['seconds_in_bucket'] < end_time)]['bid_price1'] * df_book[(start_time <= df_book['seconds_in_bucket']) & (df_book['seconds_in_bucket'] < end_time)]['time_length']) / (end_time - start_time)\n"
     ]
    },
    {
     "name": "stdout",
     "output_type": "stream",
     "text": [
      "13140\n",
      "13148\n",
      "13150\n",
      "13159\n",
      "13160\n",
      "13163\n"
     ]
    },
    {
     "name": "stderr",
     "output_type": "stream",
     "text": [
      "/Users/vladimir.levin/Yandex.Disk.localized/01_Documents/01_Study/0_LUX/01_PhD/Drafts/Project3/kaggle_volatility/support_file.py:1675: RuntimeWarning: invalid value encountered in true_divide\n",
      "  w_ask = np.sum(df_book[(start_time <= df_book['seconds_in_bucket']) & (df_book['seconds_in_bucket'] < end_time)]['ask_price1'] * df_book[(start_time <= df_book['seconds_in_bucket']) & (df_book['seconds_in_bucket'] < end_time)]['time_length']) / (end_time - start_time)\n",
      "/Users/vladimir.levin/Yandex.Disk.localized/01_Documents/01_Study/0_LUX/01_PhD/Drafts/Project3/kaggle_volatility/support_file.py:1676: RuntimeWarning: invalid value encountered in true_divide\n",
      "  w_bid = np.sum(df_book[(start_time <= df_book['seconds_in_bucket']) & (df_book['seconds_in_bucket'] < end_time)]['bid_price1'] * df_book[(start_time <= df_book['seconds_in_bucket']) & (df_book['seconds_in_bucket'] < end_time)]['time_length']) / (end_time - start_time)\n"
     ]
    },
    {
     "name": "stdout",
     "output_type": "stream",
     "text": [
      "13180\n",
      "13187\n",
      "13196\n",
      "13207\n",
      "13217\n",
      "13235\n",
      "13240\n",
      "13241\n",
      "13269\n",
      "13276\n",
      "13279\n",
      "13294\n",
      "13302\n",
      "13305\n",
      "13316\n",
      "13318\n"
     ]
    },
    {
     "name": "stderr",
     "output_type": "stream",
     "text": [
      "/Users/vladimir.levin/Yandex.Disk.localized/01_Documents/01_Study/0_LUX/01_PhD/Drafts/Project3/kaggle_volatility/support_file.py:1675: RuntimeWarning: invalid value encountered in true_divide\n",
      "  w_ask = np.sum(df_book[(start_time <= df_book['seconds_in_bucket']) & (df_book['seconds_in_bucket'] < end_time)]['ask_price1'] * df_book[(start_time <= df_book['seconds_in_bucket']) & (df_book['seconds_in_bucket'] < end_time)]['time_length']) / (end_time - start_time)\n",
      "/Users/vladimir.levin/Yandex.Disk.localized/01_Documents/01_Study/0_LUX/01_PhD/Drafts/Project3/kaggle_volatility/support_file.py:1676: RuntimeWarning: invalid value encountered in true_divide\n",
      "  w_bid = np.sum(df_book[(start_time <= df_book['seconds_in_bucket']) & (df_book['seconds_in_bucket'] < end_time)]['bid_price1'] * df_book[(start_time <= df_book['seconds_in_bucket']) & (df_book['seconds_in_bucket'] < end_time)]['time_length']) / (end_time - start_time)\n"
     ]
    },
    {
     "name": "stdout",
     "output_type": "stream",
     "text": [
      "13321\n",
      "13324\n",
      "13328\n"
     ]
    },
    {
     "name": "stderr",
     "output_type": "stream",
     "text": [
      "/Users/vladimir.levin/Yandex.Disk.localized/01_Documents/01_Study/0_LUX/01_PhD/Drafts/Project3/kaggle_volatility/support_file.py:1675: RuntimeWarning: invalid value encountered in true_divide\n",
      "  w_ask = np.sum(df_book[(start_time <= df_book['seconds_in_bucket']) & (df_book['seconds_in_bucket'] < end_time)]['ask_price1'] * df_book[(start_time <= df_book['seconds_in_bucket']) & (df_book['seconds_in_bucket'] < end_time)]['time_length']) / (end_time - start_time)\n",
      "/Users/vladimir.levin/Yandex.Disk.localized/01_Documents/01_Study/0_LUX/01_PhD/Drafts/Project3/kaggle_volatility/support_file.py:1676: RuntimeWarning: invalid value encountered in true_divide\n",
      "  w_bid = np.sum(df_book[(start_time <= df_book['seconds_in_bucket']) & (df_book['seconds_in_bucket'] < end_time)]['bid_price1'] * df_book[(start_time <= df_book['seconds_in_bucket']) & (df_book['seconds_in_bucket'] < end_time)]['time_length']) / (end_time - start_time)\n"
     ]
    },
    {
     "name": "stdout",
     "output_type": "stream",
     "text": [
      "13350\n",
      "13354\n",
      "13362\n",
      "13368\n",
      "13377\n",
      "13382\n",
      "13393\n",
      "13394\n",
      "13398\n",
      "13410\n",
      "13417\n"
     ]
    },
    {
     "name": "stderr",
     "output_type": "stream",
     "text": [
      "/Users/vladimir.levin/Yandex.Disk.localized/01_Documents/01_Study/0_LUX/01_PhD/Drafts/Project3/kaggle_volatility/support_file.py:1675: RuntimeWarning: invalid value encountered in true_divide\n",
      "  w_ask = np.sum(df_book[(start_time <= df_book['seconds_in_bucket']) & (df_book['seconds_in_bucket'] < end_time)]['ask_price1'] * df_book[(start_time <= df_book['seconds_in_bucket']) & (df_book['seconds_in_bucket'] < end_time)]['time_length']) / (end_time - start_time)\n",
      "/Users/vladimir.levin/Yandex.Disk.localized/01_Documents/01_Study/0_LUX/01_PhD/Drafts/Project3/kaggle_volatility/support_file.py:1676: RuntimeWarning: invalid value encountered in true_divide\n",
      "  w_bid = np.sum(df_book[(start_time <= df_book['seconds_in_bucket']) & (df_book['seconds_in_bucket'] < end_time)]['bid_price1'] * df_book[(start_time <= df_book['seconds_in_bucket']) & (df_book['seconds_in_bucket'] < end_time)]['time_length']) / (end_time - start_time)\n"
     ]
    },
    {
     "name": "stdout",
     "output_type": "stream",
     "text": [
      "13421\n",
      "13425\n",
      "13432\n",
      "13436\n",
      "13451\n",
      "13452\n",
      "13473\n",
      "13480\n",
      "13484\n",
      "13488\n",
      "13491\n"
     ]
    },
    {
     "name": "stderr",
     "output_type": "stream",
     "text": [
      "/Users/vladimir.levin/Yandex.Disk.localized/01_Documents/01_Study/0_LUX/01_PhD/Drafts/Project3/kaggle_volatility/support_file.py:1675: RuntimeWarning: invalid value encountered in true_divide\n",
      "  w_ask = np.sum(df_book[(start_time <= df_book['seconds_in_bucket']) & (df_book['seconds_in_bucket'] < end_time)]['ask_price1'] * df_book[(start_time <= df_book['seconds_in_bucket']) & (df_book['seconds_in_bucket'] < end_time)]['time_length']) / (end_time - start_time)\n",
      "/Users/vladimir.levin/Yandex.Disk.localized/01_Documents/01_Study/0_LUX/01_PhD/Drafts/Project3/kaggle_volatility/support_file.py:1676: RuntimeWarning: invalid value encountered in true_divide\n",
      "  w_bid = np.sum(df_book[(start_time <= df_book['seconds_in_bucket']) & (df_book['seconds_in_bucket'] < end_time)]['bid_price1'] * df_book[(start_time <= df_book['seconds_in_bucket']) & (df_book['seconds_in_bucket'] < end_time)]['time_length']) / (end_time - start_time)\n",
      "/Users/vladimir.levin/Yandex.Disk.localized/01_Documents/01_Study/0_LUX/01_PhD/Drafts/Project3/kaggle_volatility/support_file.py:1675: RuntimeWarning: invalid value encountered in true_divide\n",
      "  w_ask = np.sum(df_book[(start_time <= df_book['seconds_in_bucket']) & (df_book['seconds_in_bucket'] < end_time)]['ask_price1'] * df_book[(start_time <= df_book['seconds_in_bucket']) & (df_book['seconds_in_bucket'] < end_time)]['time_length']) / (end_time - start_time)\n",
      "/Users/vladimir.levin/Yandex.Disk.localized/01_Documents/01_Study/0_LUX/01_PhD/Drafts/Project3/kaggle_volatility/support_file.py:1676: RuntimeWarning: invalid value encountered in true_divide\n",
      "  w_bid = np.sum(df_book[(start_time <= df_book['seconds_in_bucket']) & (df_book['seconds_in_bucket'] < end_time)]['bid_price1'] * df_book[(start_time <= df_book['seconds_in_bucket']) & (df_book['seconds_in_bucket'] < end_time)]['time_length']) / (end_time - start_time)\n"
     ]
    },
    {
     "name": "stdout",
     "output_type": "stream",
     "text": [
      "13495\n",
      "13500\n",
      "13501\n",
      "13503\n",
      "13513\n",
      "13514\n",
      "13523\n",
      "13529\n",
      "13531\n",
      "13533\n",
      "13552\n",
      "13560\n"
     ]
    },
    {
     "name": "stderr",
     "output_type": "stream",
     "text": [
      "/Users/vladimir.levin/Yandex.Disk.localized/01_Documents/01_Study/0_LUX/01_PhD/Drafts/Project3/kaggle_volatility/support_file.py:1675: RuntimeWarning: invalid value encountered in true_divide\n",
      "  w_ask = np.sum(df_book[(start_time <= df_book['seconds_in_bucket']) & (df_book['seconds_in_bucket'] < end_time)]['ask_price1'] * df_book[(start_time <= df_book['seconds_in_bucket']) & (df_book['seconds_in_bucket'] < end_time)]['time_length']) / (end_time - start_time)\n",
      "/Users/vladimir.levin/Yandex.Disk.localized/01_Documents/01_Study/0_LUX/01_PhD/Drafts/Project3/kaggle_volatility/support_file.py:1676: RuntimeWarning: invalid value encountered in true_divide\n",
      "  w_bid = np.sum(df_book[(start_time <= df_book['seconds_in_bucket']) & (df_book['seconds_in_bucket'] < end_time)]['bid_price1'] * df_book[(start_time <= df_book['seconds_in_bucket']) & (df_book['seconds_in_bucket'] < end_time)]['time_length']) / (end_time - start_time)\n"
     ]
    },
    {
     "name": "stdout",
     "output_type": "stream",
     "text": [
      "13567\n",
      "13579\n"
     ]
    },
    {
     "name": "stderr",
     "output_type": "stream",
     "text": [
      "/Users/vladimir.levin/Yandex.Disk.localized/01_Documents/01_Study/0_LUX/01_PhD/Drafts/Project3/kaggle_volatility/support_file.py:1675: RuntimeWarning: invalid value encountered in true_divide\n",
      "  w_ask = np.sum(df_book[(start_time <= df_book['seconds_in_bucket']) & (df_book['seconds_in_bucket'] < end_time)]['ask_price1'] * df_book[(start_time <= df_book['seconds_in_bucket']) & (df_book['seconds_in_bucket'] < end_time)]['time_length']) / (end_time - start_time)\n",
      "/Users/vladimir.levin/Yandex.Disk.localized/01_Documents/01_Study/0_LUX/01_PhD/Drafts/Project3/kaggle_volatility/support_file.py:1676: RuntimeWarning: invalid value encountered in true_divide\n",
      "  w_bid = np.sum(df_book[(start_time <= df_book['seconds_in_bucket']) & (df_book['seconds_in_bucket'] < end_time)]['bid_price1'] * df_book[(start_time <= df_book['seconds_in_bucket']) & (df_book['seconds_in_bucket'] < end_time)]['time_length']) / (end_time - start_time)\n"
     ]
    },
    {
     "name": "stdout",
     "output_type": "stream",
     "text": [
      "13586\n",
      "13594\n",
      "13595\n",
      "13598\n",
      "13599\n",
      "13602\n",
      "13614\n",
      "13626\n",
      "13627\n",
      "13643\n"
     ]
    },
    {
     "name": "stderr",
     "output_type": "stream",
     "text": [
      "/Users/vladimir.levin/Yandex.Disk.localized/01_Documents/01_Study/0_LUX/01_PhD/Drafts/Project3/kaggle_volatility/support_file.py:1675: RuntimeWarning: invalid value encountered in true_divide\n",
      "  w_ask = np.sum(df_book[(start_time <= df_book['seconds_in_bucket']) & (df_book['seconds_in_bucket'] < end_time)]['ask_price1'] * df_book[(start_time <= df_book['seconds_in_bucket']) & (df_book['seconds_in_bucket'] < end_time)]['time_length']) / (end_time - start_time)\n",
      "/Users/vladimir.levin/Yandex.Disk.localized/01_Documents/01_Study/0_LUX/01_PhD/Drafts/Project3/kaggle_volatility/support_file.py:1676: RuntimeWarning: invalid value encountered in true_divide\n",
      "  w_bid = np.sum(df_book[(start_time <= df_book['seconds_in_bucket']) & (df_book['seconds_in_bucket'] < end_time)]['bid_price1'] * df_book[(start_time <= df_book['seconds_in_bucket']) & (df_book['seconds_in_bucket'] < end_time)]['time_length']) / (end_time - start_time)\n"
     ]
    },
    {
     "name": "stdout",
     "output_type": "stream",
     "text": [
      "13646\n",
      "13650\n",
      "13655\n",
      "13662\n",
      "13663\n",
      "13673\n",
      "13678\n",
      "13699\n",
      "13707\n",
      "13710\n",
      "13720\n",
      "13729\n",
      "13735\n",
      "13737\n",
      "13745\n",
      "13762\n",
      "13763\n",
      "13771\n",
      "13775\n",
      "13791\n",
      "13792\n",
      "13798\n",
      "13821\n",
      "13822\n",
      "13838\n"
     ]
    },
    {
     "name": "stderr",
     "output_type": "stream",
     "text": [
      "/Users/vladimir.levin/Yandex.Disk.localized/01_Documents/01_Study/0_LUX/01_PhD/Drafts/Project3/kaggle_volatility/support_file.py:1675: RuntimeWarning: invalid value encountered in true_divide\n",
      "  w_ask = np.sum(df_book[(start_time <= df_book['seconds_in_bucket']) & (df_book['seconds_in_bucket'] < end_time)]['ask_price1'] * df_book[(start_time <= df_book['seconds_in_bucket']) & (df_book['seconds_in_bucket'] < end_time)]['time_length']) / (end_time - start_time)\n",
      "/Users/vladimir.levin/Yandex.Disk.localized/01_Documents/01_Study/0_LUX/01_PhD/Drafts/Project3/kaggle_volatility/support_file.py:1676: RuntimeWarning: invalid value encountered in true_divide\n",
      "  w_bid = np.sum(df_book[(start_time <= df_book['seconds_in_bucket']) & (df_book['seconds_in_bucket'] < end_time)]['bid_price1'] * df_book[(start_time <= df_book['seconds_in_bucket']) & (df_book['seconds_in_bucket'] < end_time)]['time_length']) / (end_time - start_time)\n",
      "/Users/vladimir.levin/Yandex.Disk.localized/01_Documents/01_Study/0_LUX/01_PhD/Drafts/Project3/kaggle_volatility/support_file.py:1675: RuntimeWarning: invalid value encountered in true_divide\n",
      "  w_ask = np.sum(df_book[(start_time <= df_book['seconds_in_bucket']) & (df_book['seconds_in_bucket'] < end_time)]['ask_price1'] * df_book[(start_time <= df_book['seconds_in_bucket']) & (df_book['seconds_in_bucket'] < end_time)]['time_length']) / (end_time - start_time)\n",
      "/Users/vladimir.levin/Yandex.Disk.localized/01_Documents/01_Study/0_LUX/01_PhD/Drafts/Project3/kaggle_volatility/support_file.py:1676: RuntimeWarning: invalid value encountered in true_divide\n",
      "  w_bid = np.sum(df_book[(start_time <= df_book['seconds_in_bucket']) & (df_book['seconds_in_bucket'] < end_time)]['bid_price1'] * df_book[(start_time <= df_book['seconds_in_bucket']) & (df_book['seconds_in_bucket'] < end_time)]['time_length']) / (end_time - start_time)\n"
     ]
    },
    {
     "name": "stdout",
     "output_type": "stream",
     "text": [
      "13851\n",
      "13857\n",
      "13861\n",
      "13868\n",
      "13872\n",
      "13880\n",
      "13891\n",
      "13900\n",
      "13912\n",
      "13920\n",
      "13928\n",
      "13936\n",
      "13941\n"
     ]
    },
    {
     "name": "stderr",
     "output_type": "stream",
     "text": [
      "/Users/vladimir.levin/Yandex.Disk.localized/01_Documents/01_Study/0_LUX/01_PhD/Drafts/Project3/kaggle_volatility/support_file.py:1675: RuntimeWarning: invalid value encountered in true_divide\n",
      "  w_ask = np.sum(df_book[(start_time <= df_book['seconds_in_bucket']) & (df_book['seconds_in_bucket'] < end_time)]['ask_price1'] * df_book[(start_time <= df_book['seconds_in_bucket']) & (df_book['seconds_in_bucket'] < end_time)]['time_length']) / (end_time - start_time)\n",
      "/Users/vladimir.levin/Yandex.Disk.localized/01_Documents/01_Study/0_LUX/01_PhD/Drafts/Project3/kaggle_volatility/support_file.py:1676: RuntimeWarning: invalid value encountered in true_divide\n",
      "  w_bid = np.sum(df_book[(start_time <= df_book['seconds_in_bucket']) & (df_book['seconds_in_bucket'] < end_time)]['bid_price1'] * df_book[(start_time <= df_book['seconds_in_bucket']) & (df_book['seconds_in_bucket'] < end_time)]['time_length']) / (end_time - start_time)\n"
     ]
    },
    {
     "name": "stdout",
     "output_type": "stream",
     "text": [
      "13948\n",
      "13949\n",
      "13960\n",
      "13968\n"
     ]
    },
    {
     "name": "stderr",
     "output_type": "stream",
     "text": [
      "/Users/vladimir.levin/Yandex.Disk.localized/01_Documents/01_Study/0_LUX/01_PhD/Drafts/Project3/kaggle_volatility/support_file.py:1675: RuntimeWarning: invalid value encountered in true_divide\n",
      "  w_ask = np.sum(df_book[(start_time <= df_book['seconds_in_bucket']) & (df_book['seconds_in_bucket'] < end_time)]['ask_price1'] * df_book[(start_time <= df_book['seconds_in_bucket']) & (df_book['seconds_in_bucket'] < end_time)]['time_length']) / (end_time - start_time)\n",
      "/Users/vladimir.levin/Yandex.Disk.localized/01_Documents/01_Study/0_LUX/01_PhD/Drafts/Project3/kaggle_volatility/support_file.py:1676: RuntimeWarning: invalid value encountered in true_divide\n",
      "  w_bid = np.sum(df_book[(start_time <= df_book['seconds_in_bucket']) & (df_book['seconds_in_bucket'] < end_time)]['bid_price1'] * df_book[(start_time <= df_book['seconds_in_bucket']) & (df_book['seconds_in_bucket'] < end_time)]['time_length']) / (end_time - start_time)\n"
     ]
    },
    {
     "name": "stdout",
     "output_type": "stream",
     "text": [
      "13971\n",
      "13980\n"
     ]
    },
    {
     "name": "stderr",
     "output_type": "stream",
     "text": [
      "/Users/vladimir.levin/Yandex.Disk.localized/01_Documents/01_Study/0_LUX/01_PhD/Drafts/Project3/kaggle_volatility/support_file.py:1675: RuntimeWarning: invalid value encountered in true_divide\n",
      "  w_ask = np.sum(df_book[(start_time <= df_book['seconds_in_bucket']) & (df_book['seconds_in_bucket'] < end_time)]['ask_price1'] * df_book[(start_time <= df_book['seconds_in_bucket']) & (df_book['seconds_in_bucket'] < end_time)]['time_length']) / (end_time - start_time)\n",
      "/Users/vladimir.levin/Yandex.Disk.localized/01_Documents/01_Study/0_LUX/01_PhD/Drafts/Project3/kaggle_volatility/support_file.py:1676: RuntimeWarning: invalid value encountered in true_divide\n",
      "  w_bid = np.sum(df_book[(start_time <= df_book['seconds_in_bucket']) & (df_book['seconds_in_bucket'] < end_time)]['bid_price1'] * df_book[(start_time <= df_book['seconds_in_bucket']) & (df_book['seconds_in_bucket'] < end_time)]['time_length']) / (end_time - start_time)\n"
     ]
    },
    {
     "name": "stdout",
     "output_type": "stream",
     "text": [
      "13983\n",
      "13986\n",
      "13989\n",
      "14001\n",
      "14004\n",
      "14016"
     ]
    },
    {
     "name": "stderr",
     "output_type": "stream",
     "text": [
      "/Users/vladimir.levin/Yandex.Disk.localized/01_Documents/01_Study/0_LUX/01_PhD/Drafts/Project3/kaggle_volatility/support_file.py:1675: RuntimeWarning: invalid value encountered in true_divide\n",
      "  w_ask = np.sum(df_book[(start_time <= df_book['seconds_in_bucket']) & (df_book['seconds_in_bucket'] < end_time)]['ask_price1'] * df_book[(start_time <= df_book['seconds_in_bucket']) & (df_book['seconds_in_bucket'] < end_time)]['time_length']) / (end_time - start_time)\n",
      "/Users/vladimir.levin/Yandex.Disk.localized/01_Documents/01_Study/0_LUX/01_PhD/Drafts/Project3/kaggle_volatility/support_file.py:1676: RuntimeWarning: invalid value encountered in true_divide\n",
      "  w_bid = np.sum(df_book[(start_time <= df_book['seconds_in_bucket']) & (df_book['seconds_in_bucket'] < end_time)]['bid_price1'] * df_book[(start_time <= df_book['seconds_in_bucket']) & (df_book['seconds_in_bucket'] < end_time)]['time_length']) / (end_time - start_time)\n",
      "/Users/vladimir.levin/Yandex.Disk.localized/01_Documents/01_Study/0_LUX/01_PhD/Drafts/Project3/kaggle_volatility/support_file.py:1675: RuntimeWarning: invalid value encountered in true_divide\n",
      "  w_ask = np.sum(df_book[(start_time <= df_book['seconds_in_bucket']) & (df_book['seconds_in_bucket'] < end_time)]['ask_price1'] * df_book[(start_time <= df_book['seconds_in_bucket']) & (df_book['seconds_in_bucket'] < end_time)]['time_length']) / (end_time - start_time)\n",
      "/Users/vladimir.levin/Yandex.Disk.localized/01_Documents/01_Study/0_LUX/01_PhD/Drafts/Project3/kaggle_volatility/support_file.py:1676: RuntimeWarning: invalid value encountered in true_divide\n",
      "  w_bid = np.sum(df_book[(start_time <= df_book['seconds_in_bucket']) & (df_book['seconds_in_bucket'] < end_time)]['bid_price1'] * df_book[(start_time <= df_book['seconds_in_bucket']) & (df_book['seconds_in_bucket'] < end_time)]['time_length']) / (end_time - start_time)\n"
     ]
    },
    {
     "name": "stdout",
     "output_type": "stream",
     "text": [
      "\n",
      "14021\n",
      "14054\n",
      "14061\n",
      "14065\n",
      "14070\n",
      "14077\n",
      "14079\n",
      "14080\n"
     ]
    },
    {
     "name": "stderr",
     "output_type": "stream",
     "text": [
      "/Users/vladimir.levin/Yandex.Disk.localized/01_Documents/01_Study/0_LUX/01_PhD/Drafts/Project3/kaggle_volatility/support_file.py:1675: RuntimeWarning: invalid value encountered in true_divide\n",
      "  w_ask = np.sum(df_book[(start_time <= df_book['seconds_in_bucket']) & (df_book['seconds_in_bucket'] < end_time)]['ask_price1'] * df_book[(start_time <= df_book['seconds_in_bucket']) & (df_book['seconds_in_bucket'] < end_time)]['time_length']) / (end_time - start_time)\n",
      "/Users/vladimir.levin/Yandex.Disk.localized/01_Documents/01_Study/0_LUX/01_PhD/Drafts/Project3/kaggle_volatility/support_file.py:1676: RuntimeWarning: invalid value encountered in true_divide\n",
      "  w_bid = np.sum(df_book[(start_time <= df_book['seconds_in_bucket']) & (df_book['seconds_in_bucket'] < end_time)]['bid_price1'] * df_book[(start_time <= df_book['seconds_in_bucket']) & (df_book['seconds_in_bucket'] < end_time)]['time_length']) / (end_time - start_time)\n",
      "/Users/vladimir.levin/Yandex.Disk.localized/01_Documents/01_Study/0_LUX/01_PhD/Drafts/Project3/kaggle_volatility/support_file.py:1675: RuntimeWarning: invalid value encountered in true_divide\n",
      "  w_ask = np.sum(df_book[(start_time <= df_book['seconds_in_bucket']) & (df_book['seconds_in_bucket'] < end_time)]['ask_price1'] * df_book[(start_time <= df_book['seconds_in_bucket']) & (df_book['seconds_in_bucket'] < end_time)]['time_length']) / (end_time - start_time)\n",
      "/Users/vladimir.levin/Yandex.Disk.localized/01_Documents/01_Study/0_LUX/01_PhD/Drafts/Project3/kaggle_volatility/support_file.py:1676: RuntimeWarning: invalid value encountered in true_divide\n",
      "  w_bid = np.sum(df_book[(start_time <= df_book['seconds_in_bucket']) & (df_book['seconds_in_bucket'] < end_time)]['bid_price1'] * df_book[(start_time <= df_book['seconds_in_bucket']) & (df_book['seconds_in_bucket'] < end_time)]['time_length']) / (end_time - start_time)\n",
      "/Users/vladimir.levin/Yandex.Disk.localized/01_Documents/01_Study/0_LUX/01_PhD/Drafts/Project3/kaggle_volatility/support_file.py:1675: RuntimeWarning: invalid value encountered in true_divide\n",
      "  w_ask = np.sum(df_book[(start_time <= df_book['seconds_in_bucket']) & (df_book['seconds_in_bucket'] < end_time)]['ask_price1'] * df_book[(start_time <= df_book['seconds_in_bucket']) & (df_book['seconds_in_bucket'] < end_time)]['time_length']) / (end_time - start_time)\n",
      "/Users/vladimir.levin/Yandex.Disk.localized/01_Documents/01_Study/0_LUX/01_PhD/Drafts/Project3/kaggle_volatility/support_file.py:1676: RuntimeWarning: invalid value encountered in true_divide\n",
      "  w_bid = np.sum(df_book[(start_time <= df_book['seconds_in_bucket']) & (df_book['seconds_in_bucket'] < end_time)]['bid_price1'] * df_book[(start_time <= df_book['seconds_in_bucket']) & (df_book['seconds_in_bucket'] < end_time)]['time_length']) / (end_time - start_time)\n"
     ]
    },
    {
     "name": "stdout",
     "output_type": "stream",
     "text": [
      "14088\n",
      "14093\n",
      "14105\n",
      "14111\n",
      "14125\n"
     ]
    },
    {
     "name": "stderr",
     "output_type": "stream",
     "text": [
      "/Users/vladimir.levin/Yandex.Disk.localized/01_Documents/01_Study/0_LUX/01_PhD/Drafts/Project3/kaggle_volatility/support_file.py:1675: RuntimeWarning: invalid value encountered in true_divide\n",
      "  w_ask = np.sum(df_book[(start_time <= df_book['seconds_in_bucket']) & (df_book['seconds_in_bucket'] < end_time)]['ask_price1'] * df_book[(start_time <= df_book['seconds_in_bucket']) & (df_book['seconds_in_bucket'] < end_time)]['time_length']) / (end_time - start_time)\n",
      "/Users/vladimir.levin/Yandex.Disk.localized/01_Documents/01_Study/0_LUX/01_PhD/Drafts/Project3/kaggle_volatility/support_file.py:1676: RuntimeWarning: invalid value encountered in true_divide\n",
      "  w_bid = np.sum(df_book[(start_time <= df_book['seconds_in_bucket']) & (df_book['seconds_in_bucket'] < end_time)]['bid_price1'] * df_book[(start_time <= df_book['seconds_in_bucket']) & (df_book['seconds_in_bucket'] < end_time)]['time_length']) / (end_time - start_time)\n",
      "/Users/vladimir.levin/Yandex.Disk.localized/01_Documents/01_Study/0_LUX/01_PhD/Drafts/Project3/kaggle_volatility/support_file.py:1675: RuntimeWarning: invalid value encountered in true_divide\n",
      "  w_ask = np.sum(df_book[(start_time <= df_book['seconds_in_bucket']) & (df_book['seconds_in_bucket'] < end_time)]['ask_price1'] * df_book[(start_time <= df_book['seconds_in_bucket']) & (df_book['seconds_in_bucket'] < end_time)]['time_length']) / (end_time - start_time)\n",
      "/Users/vladimir.levin/Yandex.Disk.localized/01_Documents/01_Study/0_LUX/01_PhD/Drafts/Project3/kaggle_volatility/support_file.py:1676: RuntimeWarning: invalid value encountered in true_divide\n",
      "  w_bid = np.sum(df_book[(start_time <= df_book['seconds_in_bucket']) & (df_book['seconds_in_bucket'] < end_time)]['bid_price1'] * df_book[(start_time <= df_book['seconds_in_bucket']) & (df_book['seconds_in_bucket'] < end_time)]['time_length']) / (end_time - start_time)\n"
     ]
    },
    {
     "name": "stdout",
     "output_type": "stream",
     "text": [
      "14126\n",
      "14169\n",
      "14171\n",
      "14176\n"
     ]
    },
    {
     "name": "stderr",
     "output_type": "stream",
     "text": [
      "/Users/vladimir.levin/Yandex.Disk.localized/01_Documents/01_Study/0_LUX/01_PhD/Drafts/Project3/kaggle_volatility/support_file.py:1675: RuntimeWarning: invalid value encountered in true_divide\n",
      "  w_ask = np.sum(df_book[(start_time <= df_book['seconds_in_bucket']) & (df_book['seconds_in_bucket'] < end_time)]['ask_price1'] * df_book[(start_time <= df_book['seconds_in_bucket']) & (df_book['seconds_in_bucket'] < end_time)]['time_length']) / (end_time - start_time)\n",
      "/Users/vladimir.levin/Yandex.Disk.localized/01_Documents/01_Study/0_LUX/01_PhD/Drafts/Project3/kaggle_volatility/support_file.py:1676: RuntimeWarning: invalid value encountered in true_divide\n",
      "  w_bid = np.sum(df_book[(start_time <= df_book['seconds_in_bucket']) & (df_book['seconds_in_bucket'] < end_time)]['bid_price1'] * df_book[(start_time <= df_book['seconds_in_bucket']) & (df_book['seconds_in_bucket'] < end_time)]['time_length']) / (end_time - start_time)\n"
     ]
    },
    {
     "name": "stdout",
     "output_type": "stream",
     "text": [
      "14177\n",
      "14183\n",
      "14205\n",
      "14215\n",
      "14218\n",
      "14234\n",
      "14235\n",
      "14243\n",
      "14246\n",
      "14247\n",
      "14263\n",
      "14273\n",
      "14276\n"
     ]
    },
    {
     "name": "stderr",
     "output_type": "stream",
     "text": [
      "/Users/vladimir.levin/Yandex.Disk.localized/01_Documents/01_Study/0_LUX/01_PhD/Drafts/Project3/kaggle_volatility/support_file.py:1675: RuntimeWarning: invalid value encountered in true_divide\n",
      "  w_ask = np.sum(df_book[(start_time <= df_book['seconds_in_bucket']) & (df_book['seconds_in_bucket'] < end_time)]['ask_price1'] * df_book[(start_time <= df_book['seconds_in_bucket']) & (df_book['seconds_in_bucket'] < end_time)]['time_length']) / (end_time - start_time)\n",
      "/Users/vladimir.levin/Yandex.Disk.localized/01_Documents/01_Study/0_LUX/01_PhD/Drafts/Project3/kaggle_volatility/support_file.py:1676: RuntimeWarning: invalid value encountered in true_divide\n",
      "  w_bid = np.sum(df_book[(start_time <= df_book['seconds_in_bucket']) & (df_book['seconds_in_bucket'] < end_time)]['bid_price1'] * df_book[(start_time <= df_book['seconds_in_bucket']) & (df_book['seconds_in_bucket'] < end_time)]['time_length']) / (end_time - start_time)\n"
     ]
    },
    {
     "name": "stdout",
     "output_type": "stream",
     "text": [
      "14278\n",
      "14279\n",
      "14280\n",
      "14285\n",
      "14297\n",
      "14305\n",
      "14311\n",
      "14312\n",
      "14316\n",
      "14319\n",
      "14326\n",
      "14341"
     ]
    },
    {
     "name": "stderr",
     "output_type": "stream",
     "text": [
      "/Users/vladimir.levin/Yandex.Disk.localized/01_Documents/01_Study/0_LUX/01_PhD/Drafts/Project3/kaggle_volatility/support_file.py:1675: RuntimeWarning: invalid value encountered in true_divide\n",
      "  w_ask = np.sum(df_book[(start_time <= df_book['seconds_in_bucket']) & (df_book['seconds_in_bucket'] < end_time)]['ask_price1'] * df_book[(start_time <= df_book['seconds_in_bucket']) & (df_book['seconds_in_bucket'] < end_time)]['time_length']) / (end_time - start_time)\n",
      "/Users/vladimir.levin/Yandex.Disk.localized/01_Documents/01_Study/0_LUX/01_PhD/Drafts/Project3/kaggle_volatility/support_file.py:1676: RuntimeWarning: invalid value encountered in true_divide\n",
      "  w_bid = np.sum(df_book[(start_time <= df_book['seconds_in_bucket']) & (df_book['seconds_in_bucket'] < end_time)]['bid_price1'] * df_book[(start_time <= df_book['seconds_in_bucket']) & (df_book['seconds_in_bucket'] < end_time)]['time_length']) / (end_time - start_time)\n"
     ]
    },
    {
     "name": "stdout",
     "output_type": "stream",
     "text": [
      "\n",
      "14350\n",
      "14356\n"
     ]
    },
    {
     "name": "stderr",
     "output_type": "stream",
     "text": [
      "/Users/vladimir.levin/Yandex.Disk.localized/01_Documents/01_Study/0_LUX/01_PhD/Drafts/Project3/kaggle_volatility/support_file.py:1675: RuntimeWarning: invalid value encountered in true_divide\n",
      "  w_ask = np.sum(df_book[(start_time <= df_book['seconds_in_bucket']) & (df_book['seconds_in_bucket'] < end_time)]['ask_price1'] * df_book[(start_time <= df_book['seconds_in_bucket']) & (df_book['seconds_in_bucket'] < end_time)]['time_length']) / (end_time - start_time)\n",
      "/Users/vladimir.levin/Yandex.Disk.localized/01_Documents/01_Study/0_LUX/01_PhD/Drafts/Project3/kaggle_volatility/support_file.py:1676: RuntimeWarning: invalid value encountered in true_divide\n",
      "  w_bid = np.sum(df_book[(start_time <= df_book['seconds_in_bucket']) & (df_book['seconds_in_bucket'] < end_time)]['bid_price1'] * df_book[(start_time <= df_book['seconds_in_bucket']) & (df_book['seconds_in_bucket'] < end_time)]['time_length']) / (end_time - start_time)\n"
     ]
    },
    {
     "name": "stdout",
     "output_type": "stream",
     "text": [
      "14361\n",
      "14389\n",
      "14416\n",
      "14420\n",
      "14422\n",
      "14423\n",
      "14435\n",
      "14442\n",
      "14445\n",
      "14447\n"
     ]
    },
    {
     "name": "stderr",
     "output_type": "stream",
     "text": [
      "/Users/vladimir.levin/Yandex.Disk.localized/01_Documents/01_Study/0_LUX/01_PhD/Drafts/Project3/kaggle_volatility/support_file.py:1675: RuntimeWarning: invalid value encountered in true_divide\n",
      "  w_ask = np.sum(df_book[(start_time <= df_book['seconds_in_bucket']) & (df_book['seconds_in_bucket'] < end_time)]['ask_price1'] * df_book[(start_time <= df_book['seconds_in_bucket']) & (df_book['seconds_in_bucket'] < end_time)]['time_length']) / (end_time - start_time)\n",
      "/Users/vladimir.levin/Yandex.Disk.localized/01_Documents/01_Study/0_LUX/01_PhD/Drafts/Project3/kaggle_volatility/support_file.py:1676: RuntimeWarning: invalid value encountered in true_divide\n",
      "  w_bid = np.sum(df_book[(start_time <= df_book['seconds_in_bucket']) & (df_book['seconds_in_bucket'] < end_time)]['bid_price1'] * df_book[(start_time <= df_book['seconds_in_bucket']) & (df_book['seconds_in_bucket'] < end_time)]['time_length']) / (end_time - start_time)\n"
     ]
    },
    {
     "name": "stdout",
     "output_type": "stream",
     "text": [
      "14449\n",
      "14452\n",
      "14464\n",
      "14465\n",
      "14476\n",
      "14483\n",
      "14487\n",
      "14494\n",
      "14501\n",
      "14504\n",
      "14510\n"
     ]
    },
    {
     "name": "stderr",
     "output_type": "stream",
     "text": [
      "/Users/vladimir.levin/Yandex.Disk.localized/01_Documents/01_Study/0_LUX/01_PhD/Drafts/Project3/kaggle_volatility/support_file.py:1675: RuntimeWarning: invalid value encountered in true_divide\n",
      "  w_ask = np.sum(df_book[(start_time <= df_book['seconds_in_bucket']) & (df_book['seconds_in_bucket'] < end_time)]['ask_price1'] * df_book[(start_time <= df_book['seconds_in_bucket']) & (df_book['seconds_in_bucket'] < end_time)]['time_length']) / (end_time - start_time)\n",
      "/Users/vladimir.levin/Yandex.Disk.localized/01_Documents/01_Study/0_LUX/01_PhD/Drafts/Project3/kaggle_volatility/support_file.py:1676: RuntimeWarning: invalid value encountered in true_divide\n",
      "  w_bid = np.sum(df_book[(start_time <= df_book['seconds_in_bucket']) & (df_book['seconds_in_bucket'] < end_time)]['bid_price1'] * df_book[(start_time <= df_book['seconds_in_bucket']) & (df_book['seconds_in_bucket'] < end_time)]['time_length']) / (end_time - start_time)\n"
     ]
    },
    {
     "name": "stdout",
     "output_type": "stream",
     "text": [
      "14547\n",
      "14549\n",
      "14561\n",
      "14564\n",
      "14572\n",
      "14573\n",
      "14579\n",
      "14582\n"
     ]
    },
    {
     "name": "stderr",
     "output_type": "stream",
     "text": [
      "/Users/vladimir.levin/Yandex.Disk.localized/01_Documents/01_Study/0_LUX/01_PhD/Drafts/Project3/kaggle_volatility/support_file.py:1675: RuntimeWarning: invalid value encountered in true_divide\n",
      "  w_ask = np.sum(df_book[(start_time <= df_book['seconds_in_bucket']) & (df_book['seconds_in_bucket'] < end_time)]['ask_price1'] * df_book[(start_time <= df_book['seconds_in_bucket']) & (df_book['seconds_in_bucket'] < end_time)]['time_length']) / (end_time - start_time)\n",
      "/Users/vladimir.levin/Yandex.Disk.localized/01_Documents/01_Study/0_LUX/01_PhD/Drafts/Project3/kaggle_volatility/support_file.py:1676: RuntimeWarning: invalid value encountered in true_divide\n",
      "  w_bid = np.sum(df_book[(start_time <= df_book['seconds_in_bucket']) & (df_book['seconds_in_bucket'] < end_time)]['bid_price1'] * df_book[(start_time <= df_book['seconds_in_bucket']) & (df_book['seconds_in_bucket'] < end_time)]['time_length']) / (end_time - start_time)\n"
     ]
    },
    {
     "name": "stdout",
     "output_type": "stream",
     "text": [
      "14601\n",
      "14619\n",
      "14623\n",
      "14629\n"
     ]
    },
    {
     "name": "stderr",
     "output_type": "stream",
     "text": [
      "/Users/vladimir.levin/Yandex.Disk.localized/01_Documents/01_Study/0_LUX/01_PhD/Drafts/Project3/kaggle_volatility/support_file.py:1675: RuntimeWarning: invalid value encountered in true_divide\n",
      "  w_ask = np.sum(df_book[(start_time <= df_book['seconds_in_bucket']) & (df_book['seconds_in_bucket'] < end_time)]['ask_price1'] * df_book[(start_time <= df_book['seconds_in_bucket']) & (df_book['seconds_in_bucket'] < end_time)]['time_length']) / (end_time - start_time)\n",
      "/Users/vladimir.levin/Yandex.Disk.localized/01_Documents/01_Study/0_LUX/01_PhD/Drafts/Project3/kaggle_volatility/support_file.py:1676: RuntimeWarning: invalid value encountered in true_divide\n",
      "  w_bid = np.sum(df_book[(start_time <= df_book['seconds_in_bucket']) & (df_book['seconds_in_bucket'] < end_time)]['bid_price1'] * df_book[(start_time <= df_book['seconds_in_bucket']) & (df_book['seconds_in_bucket'] < end_time)]['time_length']) / (end_time - start_time)\n"
     ]
    },
    {
     "name": "stdout",
     "output_type": "stream",
     "text": [
      "14632\n",
      "14635\n",
      "14646\n"
     ]
    },
    {
     "name": "stderr",
     "output_type": "stream",
     "text": [
      "/Users/vladimir.levin/Yandex.Disk.localized/01_Documents/01_Study/0_LUX/01_PhD/Drafts/Project3/kaggle_volatility/support_file.py:1675: RuntimeWarning: invalid value encountered in true_divide\n",
      "  w_ask = np.sum(df_book[(start_time <= df_book['seconds_in_bucket']) & (df_book['seconds_in_bucket'] < end_time)]['ask_price1'] * df_book[(start_time <= df_book['seconds_in_bucket']) & (df_book['seconds_in_bucket'] < end_time)]['time_length']) / (end_time - start_time)\n",
      "/Users/vladimir.levin/Yandex.Disk.localized/01_Documents/01_Study/0_LUX/01_PhD/Drafts/Project3/kaggle_volatility/support_file.py:1676: RuntimeWarning: invalid value encountered in true_divide\n",
      "  w_bid = np.sum(df_book[(start_time <= df_book['seconds_in_bucket']) & (df_book['seconds_in_bucket'] < end_time)]['bid_price1'] * df_book[(start_time <= df_book['seconds_in_bucket']) & (df_book['seconds_in_bucket'] < end_time)]['time_length']) / (end_time - start_time)\n"
     ]
    },
    {
     "name": "stdout",
     "output_type": "stream",
     "text": [
      "14648\n",
      "14697\n",
      "14714\n",
      "14715\n",
      "14721\n",
      "14730\n",
      "14733\n",
      "14738\n",
      "14740"
     ]
    },
    {
     "name": "stderr",
     "output_type": "stream",
     "text": [
      "/Users/vladimir.levin/Yandex.Disk.localized/01_Documents/01_Study/0_LUX/01_PhD/Drafts/Project3/kaggle_volatility/support_file.py:1675: RuntimeWarning: invalid value encountered in true_divide\n",
      "  w_ask = np.sum(df_book[(start_time <= df_book['seconds_in_bucket']) & (df_book['seconds_in_bucket'] < end_time)]['ask_price1'] * df_book[(start_time <= df_book['seconds_in_bucket']) & (df_book['seconds_in_bucket'] < end_time)]['time_length']) / (end_time - start_time)\n",
      "/Users/vladimir.levin/Yandex.Disk.localized/01_Documents/01_Study/0_LUX/01_PhD/Drafts/Project3/kaggle_volatility/support_file.py:1676: RuntimeWarning: invalid value encountered in true_divide\n",
      "  w_bid = np.sum(df_book[(start_time <= df_book['seconds_in_bucket']) & (df_book['seconds_in_bucket'] < end_time)]['bid_price1'] * df_book[(start_time <= df_book['seconds_in_bucket']) & (df_book['seconds_in_bucket'] < end_time)]['time_length']) / (end_time - start_time)\n",
      "/Users/vladimir.levin/Yandex.Disk.localized/01_Documents/01_Study/0_LUX/01_PhD/Drafts/Project3/kaggle_volatility/support_file.py:1675: RuntimeWarning: invalid value encountered in true_divide\n",
      "  w_ask = np.sum(df_book[(start_time <= df_book['seconds_in_bucket']) & (df_book['seconds_in_bucket'] < end_time)]['ask_price1'] * df_book[(start_time <= df_book['seconds_in_bucket']) & (df_book['seconds_in_bucket'] < end_time)]['time_length']) / (end_time - start_time)\n",
      "/Users/vladimir.levin/Yandex.Disk.localized/01_Documents/01_Study/0_LUX/01_PhD/Drafts/Project3/kaggle_volatility/support_file.py:1676: RuntimeWarning: invalid value encountered in true_divide\n",
      "  w_bid = np.sum(df_book[(start_time <= df_book['seconds_in_bucket']) & (df_book['seconds_in_bucket'] < end_time)]['bid_price1'] * df_book[(start_time <= df_book['seconds_in_bucket']) & (df_book['seconds_in_bucket'] < end_time)]['time_length']) / (end_time - start_time)\n"
     ]
    },
    {
     "name": "stdout",
     "output_type": "stream",
     "text": [
      "\n",
      "14749\n",
      "14751\n",
      "14752\n",
      "14754\n",
      "14769\n",
      "14795\n",
      "14797\n",
      "14800\n",
      "14807\n",
      "14809\n",
      "14810\n"
     ]
    },
    {
     "name": "stderr",
     "output_type": "stream",
     "text": [
      "/Users/vladimir.levin/Yandex.Disk.localized/01_Documents/01_Study/0_LUX/01_PhD/Drafts/Project3/kaggle_volatility/support_file.py:1675: RuntimeWarning: invalid value encountered in true_divide\n",
      "  w_ask = np.sum(df_book[(start_time <= df_book['seconds_in_bucket']) & (df_book['seconds_in_bucket'] < end_time)]['ask_price1'] * df_book[(start_time <= df_book['seconds_in_bucket']) & (df_book['seconds_in_bucket'] < end_time)]['time_length']) / (end_time - start_time)\n",
      "/Users/vladimir.levin/Yandex.Disk.localized/01_Documents/01_Study/0_LUX/01_PhD/Drafts/Project3/kaggle_volatility/support_file.py:1676: RuntimeWarning: invalid value encountered in true_divide\n",
      "  w_bid = np.sum(df_book[(start_time <= df_book['seconds_in_bucket']) & (df_book['seconds_in_bucket'] < end_time)]['bid_price1'] * df_book[(start_time <= df_book['seconds_in_bucket']) & (df_book['seconds_in_bucket'] < end_time)]['time_length']) / (end_time - start_time)\n"
     ]
    },
    {
     "name": "stdout",
     "output_type": "stream",
     "text": [
      "14813\n",
      "14817\n",
      "14836\n",
      "14838\n",
      "14842\n",
      "14857\n",
      "14866\n",
      "14869\n",
      "14886\n",
      "14895\n",
      "14897\n",
      "14906\n",
      "14908\n",
      "14909"
     ]
    },
    {
     "name": "stderr",
     "output_type": "stream",
     "text": [
      "/Users/vladimir.levin/Yandex.Disk.localized/01_Documents/01_Study/0_LUX/01_PhD/Drafts/Project3/kaggle_volatility/support_file.py:1675: RuntimeWarning: invalid value encountered in true_divide\n",
      "  w_ask = np.sum(df_book[(start_time <= df_book['seconds_in_bucket']) & (df_book['seconds_in_bucket'] < end_time)]['ask_price1'] * df_book[(start_time <= df_book['seconds_in_bucket']) & (df_book['seconds_in_bucket'] < end_time)]['time_length']) / (end_time - start_time)\n",
      "/Users/vladimir.levin/Yandex.Disk.localized/01_Documents/01_Study/0_LUX/01_PhD/Drafts/Project3/kaggle_volatility/support_file.py:1676: RuntimeWarning: invalid value encountered in true_divide\n",
      "  w_bid = np.sum(df_book[(start_time <= df_book['seconds_in_bucket']) & (df_book['seconds_in_bucket'] < end_time)]['bid_price1'] * df_book[(start_time <= df_book['seconds_in_bucket']) & (df_book['seconds_in_bucket'] < end_time)]['time_length']) / (end_time - start_time)\n"
     ]
    },
    {
     "name": "stdout",
     "output_type": "stream",
     "text": [
      "\n",
      "14912\n",
      "14913\n",
      "14916\n",
      "14918\n",
      "14924\n",
      "14926\n",
      "14928\n",
      "14951\n",
      "14970\n",
      "14976\n",
      "14977\n",
      "14979\n",
      "14982\n",
      "14994\n",
      "14995\n",
      "15008\n",
      "15010\n",
      "15035\n",
      "15038\n",
      "15042\n",
      "15048\n",
      "15061\n"
     ]
    },
    {
     "name": "stderr",
     "output_type": "stream",
     "text": [
      "/Users/vladimir.levin/Yandex.Disk.localized/01_Documents/01_Study/0_LUX/01_PhD/Drafts/Project3/kaggle_volatility/support_file.py:1675: RuntimeWarning: invalid value encountered in true_divide\n",
      "  w_ask = np.sum(df_book[(start_time <= df_book['seconds_in_bucket']) & (df_book['seconds_in_bucket'] < end_time)]['ask_price1'] * df_book[(start_time <= df_book['seconds_in_bucket']) & (df_book['seconds_in_bucket'] < end_time)]['time_length']) / (end_time - start_time)\n",
      "/Users/vladimir.levin/Yandex.Disk.localized/01_Documents/01_Study/0_LUX/01_PhD/Drafts/Project3/kaggle_volatility/support_file.py:1676: RuntimeWarning: invalid value encountered in true_divide\n",
      "  w_bid = np.sum(df_book[(start_time <= df_book['seconds_in_bucket']) & (df_book['seconds_in_bucket'] < end_time)]['bid_price1'] * df_book[(start_time <= df_book['seconds_in_bucket']) & (df_book['seconds_in_bucket'] < end_time)]['time_length']) / (end_time - start_time)\n",
      "/Users/vladimir.levin/Yandex.Disk.localized/01_Documents/01_Study/0_LUX/01_PhD/Drafts/Project3/kaggle_volatility/support_file.py:1675: RuntimeWarning: invalid value encountered in true_divide\n",
      "  w_ask = np.sum(df_book[(start_time <= df_book['seconds_in_bucket']) & (df_book['seconds_in_bucket'] < end_time)]['ask_price1'] * df_book[(start_time <= df_book['seconds_in_bucket']) & (df_book['seconds_in_bucket'] < end_time)]['time_length']) / (end_time - start_time)\n",
      "/Users/vladimir.levin/Yandex.Disk.localized/01_Documents/01_Study/0_LUX/01_PhD/Drafts/Project3/kaggle_volatility/support_file.py:1676: RuntimeWarning: invalid value encountered in true_divide\n",
      "  w_bid = np.sum(df_book[(start_time <= df_book['seconds_in_bucket']) & (df_book['seconds_in_bucket'] < end_time)]['bid_price1'] * df_book[(start_time <= df_book['seconds_in_bucket']) & (df_book['seconds_in_bucket'] < end_time)]['time_length']) / (end_time - start_time)\n"
     ]
    },
    {
     "name": "stdout",
     "output_type": "stream",
     "text": [
      "15063\n",
      "15092\n",
      "15122\n",
      "15131\n",
      "15132\n",
      "15139\n",
      "15147\n",
      "15155\n",
      "15163\n",
      "15173\n",
      "15176\n",
      "15185\n",
      "15186\n",
      "15194\n",
      "15209\n",
      "15216\n",
      "15239\n",
      "15246\n",
      "15269\n",
      "15271\n",
      "15276\n",
      "15280\n",
      "15288\n"
     ]
    },
    {
     "name": "stderr",
     "output_type": "stream",
     "text": [
      "/Users/vladimir.levin/Yandex.Disk.localized/01_Documents/01_Study/0_LUX/01_PhD/Drafts/Project3/kaggle_volatility/support_file.py:1675: RuntimeWarning: invalid value encountered in true_divide\n",
      "  w_ask = np.sum(df_book[(start_time <= df_book['seconds_in_bucket']) & (df_book['seconds_in_bucket'] < end_time)]['ask_price1'] * df_book[(start_time <= df_book['seconds_in_bucket']) & (df_book['seconds_in_bucket'] < end_time)]['time_length']) / (end_time - start_time)\n",
      "/Users/vladimir.levin/Yandex.Disk.localized/01_Documents/01_Study/0_LUX/01_PhD/Drafts/Project3/kaggle_volatility/support_file.py:1676: RuntimeWarning: invalid value encountered in true_divide\n",
      "  w_bid = np.sum(df_book[(start_time <= df_book['seconds_in_bucket']) & (df_book['seconds_in_bucket'] < end_time)]['bid_price1'] * df_book[(start_time <= df_book['seconds_in_bucket']) & (df_book['seconds_in_bucket'] < end_time)]['time_length']) / (end_time - start_time)\n"
     ]
    },
    {
     "name": "stdout",
     "output_type": "stream",
     "text": [
      "15290\n",
      "15291\n",
      "15319\n",
      "15335\n",
      "15341\n",
      "15344\n",
      "15352\n",
      "15353\n",
      "15365\n"
     ]
    },
    {
     "name": "stderr",
     "output_type": "stream",
     "text": [
      "/Users/vladimir.levin/Yandex.Disk.localized/01_Documents/01_Study/0_LUX/01_PhD/Drafts/Project3/kaggle_volatility/support_file.py:1675: RuntimeWarning: invalid value encountered in true_divide\n",
      "  w_ask = np.sum(df_book[(start_time <= df_book['seconds_in_bucket']) & (df_book['seconds_in_bucket'] < end_time)]['ask_price1'] * df_book[(start_time <= df_book['seconds_in_bucket']) & (df_book['seconds_in_bucket'] < end_time)]['time_length']) / (end_time - start_time)\n",
      "/Users/vladimir.levin/Yandex.Disk.localized/01_Documents/01_Study/0_LUX/01_PhD/Drafts/Project3/kaggle_volatility/support_file.py:1676: RuntimeWarning: invalid value encountered in true_divide\n",
      "  w_bid = np.sum(df_book[(start_time <= df_book['seconds_in_bucket']) & (df_book['seconds_in_bucket'] < end_time)]['bid_price1'] * df_book[(start_time <= df_book['seconds_in_bucket']) & (df_book['seconds_in_bucket'] < end_time)]['time_length']) / (end_time - start_time)\n"
     ]
    },
    {
     "name": "stdout",
     "output_type": "stream",
     "text": [
      "15388\n",
      "15393\n",
      "15400\n",
      "15418\n",
      "15433\n"
     ]
    },
    {
     "name": "stderr",
     "output_type": "stream",
     "text": [
      "/Users/vladimir.levin/Yandex.Disk.localized/01_Documents/01_Study/0_LUX/01_PhD/Drafts/Project3/kaggle_volatility/support_file.py:1675: RuntimeWarning: invalid value encountered in true_divide\n",
      "  w_ask = np.sum(df_book[(start_time <= df_book['seconds_in_bucket']) & (df_book['seconds_in_bucket'] < end_time)]['ask_price1'] * df_book[(start_time <= df_book['seconds_in_bucket']) & (df_book['seconds_in_bucket'] < end_time)]['time_length']) / (end_time - start_time)\n",
      "/Users/vladimir.levin/Yandex.Disk.localized/01_Documents/01_Study/0_LUX/01_PhD/Drafts/Project3/kaggle_volatility/support_file.py:1676: RuntimeWarning: invalid value encountered in true_divide\n",
      "  w_bid = np.sum(df_book[(start_time <= df_book['seconds_in_bucket']) & (df_book['seconds_in_bucket'] < end_time)]['bid_price1'] * df_book[(start_time <= df_book['seconds_in_bucket']) & (df_book['seconds_in_bucket'] < end_time)]['time_length']) / (end_time - start_time)\n",
      "/Users/vladimir.levin/Yandex.Disk.localized/01_Documents/01_Study/0_LUX/01_PhD/Drafts/Project3/kaggle_volatility/support_file.py:1675: RuntimeWarning: invalid value encountered in true_divide\n",
      "  w_ask = np.sum(df_book[(start_time <= df_book['seconds_in_bucket']) & (df_book['seconds_in_bucket'] < end_time)]['ask_price1'] * df_book[(start_time <= df_book['seconds_in_bucket']) & (df_book['seconds_in_bucket'] < end_time)]['time_length']) / (end_time - start_time)\n",
      "/Users/vladimir.levin/Yandex.Disk.localized/01_Documents/01_Study/0_LUX/01_PhD/Drafts/Project3/kaggle_volatility/support_file.py:1676: RuntimeWarning: invalid value encountered in true_divide\n",
      "  w_bid = np.sum(df_book[(start_time <= df_book['seconds_in_bucket']) & (df_book['seconds_in_bucket'] < end_time)]['bid_price1'] * df_book[(start_time <= df_book['seconds_in_bucket']) & (df_book['seconds_in_bucket'] < end_time)]['time_length']) / (end_time - start_time)\n"
     ]
    },
    {
     "name": "stdout",
     "output_type": "stream",
     "text": [
      "15448\n",
      "15462\n",
      "15466\n",
      "15486\n",
      "15491\n",
      "15499\n",
      "15516\n",
      "15517\n",
      "15521\n",
      "15525\n",
      "15529\n"
     ]
    },
    {
     "name": "stderr",
     "output_type": "stream",
     "text": [
      "/Users/vladimir.levin/Yandex.Disk.localized/01_Documents/01_Study/0_LUX/01_PhD/Drafts/Project3/kaggle_volatility/support_file.py:1675: RuntimeWarning: invalid value encountered in true_divide\n",
      "  w_ask = np.sum(df_book[(start_time <= df_book['seconds_in_bucket']) & (df_book['seconds_in_bucket'] < end_time)]['ask_price1'] * df_book[(start_time <= df_book['seconds_in_bucket']) & (df_book['seconds_in_bucket'] < end_time)]['time_length']) / (end_time - start_time)\n",
      "/Users/vladimir.levin/Yandex.Disk.localized/01_Documents/01_Study/0_LUX/01_PhD/Drafts/Project3/kaggle_volatility/support_file.py:1676: RuntimeWarning: invalid value encountered in true_divide\n",
      "  w_bid = np.sum(df_book[(start_time <= df_book['seconds_in_bucket']) & (df_book['seconds_in_bucket'] < end_time)]['bid_price1'] * df_book[(start_time <= df_book['seconds_in_bucket']) & (df_book['seconds_in_bucket'] < end_time)]['time_length']) / (end_time - start_time)\n"
     ]
    },
    {
     "name": "stdout",
     "output_type": "stream",
     "text": [
      "15535\n",
      "15540\n",
      "15547\n",
      "15548\n"
     ]
    },
    {
     "name": "stderr",
     "output_type": "stream",
     "text": [
      "/Users/vladimir.levin/Yandex.Disk.localized/01_Documents/01_Study/0_LUX/01_PhD/Drafts/Project3/kaggle_volatility/support_file.py:1675: RuntimeWarning: invalid value encountered in true_divide\n",
      "  w_ask = np.sum(df_book[(start_time <= df_book['seconds_in_bucket']) & (df_book['seconds_in_bucket'] < end_time)]['ask_price1'] * df_book[(start_time <= df_book['seconds_in_bucket']) & (df_book['seconds_in_bucket'] < end_time)]['time_length']) / (end_time - start_time)\n",
      "/Users/vladimir.levin/Yandex.Disk.localized/01_Documents/01_Study/0_LUX/01_PhD/Drafts/Project3/kaggle_volatility/support_file.py:1676: RuntimeWarning: invalid value encountered in true_divide\n",
      "  w_bid = np.sum(df_book[(start_time <= df_book['seconds_in_bucket']) & (df_book['seconds_in_bucket'] < end_time)]['bid_price1'] * df_book[(start_time <= df_book['seconds_in_bucket']) & (df_book['seconds_in_bucket'] < end_time)]['time_length']) / (end_time - start_time)\n",
      "/Users/vladimir.levin/Yandex.Disk.localized/01_Documents/01_Study/0_LUX/01_PhD/Drafts/Project3/kaggle_volatility/support_file.py:1675: RuntimeWarning: invalid value encountered in true_divide\n",
      "  w_ask = np.sum(df_book[(start_time <= df_book['seconds_in_bucket']) & (df_book['seconds_in_bucket'] < end_time)]['ask_price1'] * df_book[(start_time <= df_book['seconds_in_bucket']) & (df_book['seconds_in_bucket'] < end_time)]['time_length']) / (end_time - start_time)\n",
      "/Users/vladimir.levin/Yandex.Disk.localized/01_Documents/01_Study/0_LUX/01_PhD/Drafts/Project3/kaggle_volatility/support_file.py:1676: RuntimeWarning: invalid value encountered in true_divide\n",
      "  w_bid = np.sum(df_book[(start_time <= df_book['seconds_in_bucket']) & (df_book['seconds_in_bucket'] < end_time)]['bid_price1'] * df_book[(start_time <= df_book['seconds_in_bucket']) & (df_book['seconds_in_bucket'] < end_time)]['time_length']) / (end_time - start_time)\n"
     ]
    },
    {
     "name": "stdout",
     "output_type": "stream",
     "text": [
      "15568\n",
      "15584\n"
     ]
    },
    {
     "name": "stderr",
     "output_type": "stream",
     "text": [
      "/Users/vladimir.levin/Yandex.Disk.localized/01_Documents/01_Study/0_LUX/01_PhD/Drafts/Project3/kaggle_volatility/support_file.py:1675: RuntimeWarning: invalid value encountered in true_divide\n",
      "  w_ask = np.sum(df_book[(start_time <= df_book['seconds_in_bucket']) & (df_book['seconds_in_bucket'] < end_time)]['ask_price1'] * df_book[(start_time <= df_book['seconds_in_bucket']) & (df_book['seconds_in_bucket'] < end_time)]['time_length']) / (end_time - start_time)\n",
      "/Users/vladimir.levin/Yandex.Disk.localized/01_Documents/01_Study/0_LUX/01_PhD/Drafts/Project3/kaggle_volatility/support_file.py:1676: RuntimeWarning: invalid value encountered in true_divide\n",
      "  w_bid = np.sum(df_book[(start_time <= df_book['seconds_in_bucket']) & (df_book['seconds_in_bucket'] < end_time)]['bid_price1'] * df_book[(start_time <= df_book['seconds_in_bucket']) & (df_book['seconds_in_bucket'] < end_time)]['time_length']) / (end_time - start_time)\n"
     ]
    },
    {
     "name": "stdout",
     "output_type": "stream",
     "text": [
      "15586\n",
      "15595\n",
      "15599\n"
     ]
    },
    {
     "name": "stderr",
     "output_type": "stream",
     "text": [
      "/Users/vladimir.levin/Yandex.Disk.localized/01_Documents/01_Study/0_LUX/01_PhD/Drafts/Project3/kaggle_volatility/support_file.py:1675: RuntimeWarning: invalid value encountered in true_divide\n",
      "  w_ask = np.sum(df_book[(start_time <= df_book['seconds_in_bucket']) & (df_book['seconds_in_bucket'] < end_time)]['ask_price1'] * df_book[(start_time <= df_book['seconds_in_bucket']) & (df_book['seconds_in_bucket'] < end_time)]['time_length']) / (end_time - start_time)\n",
      "/Users/vladimir.levin/Yandex.Disk.localized/01_Documents/01_Study/0_LUX/01_PhD/Drafts/Project3/kaggle_volatility/support_file.py:1676: RuntimeWarning: invalid value encountered in true_divide\n",
      "  w_bid = np.sum(df_book[(start_time <= df_book['seconds_in_bucket']) & (df_book['seconds_in_bucket'] < end_time)]['bid_price1'] * df_book[(start_time <= df_book['seconds_in_bucket']) & (df_book['seconds_in_bucket'] < end_time)]['time_length']) / (end_time - start_time)\n",
      "/Users/vladimir.levin/Yandex.Disk.localized/01_Documents/01_Study/0_LUX/01_PhD/Drafts/Project3/kaggle_volatility/support_file.py:1675: RuntimeWarning: invalid value encountered in true_divide\n",
      "  w_ask = np.sum(df_book[(start_time <= df_book['seconds_in_bucket']) & (df_book['seconds_in_bucket'] < end_time)]['ask_price1'] * df_book[(start_time <= df_book['seconds_in_bucket']) & (df_book['seconds_in_bucket'] < end_time)]['time_length']) / (end_time - start_time)\n",
      "/Users/vladimir.levin/Yandex.Disk.localized/01_Documents/01_Study/0_LUX/01_PhD/Drafts/Project3/kaggle_volatility/support_file.py:1676: RuntimeWarning: invalid value encountered in true_divide\n",
      "  w_bid = np.sum(df_book[(start_time <= df_book['seconds_in_bucket']) & (df_book['seconds_in_bucket'] < end_time)]['bid_price1'] * df_book[(start_time <= df_book['seconds_in_bucket']) & (df_book['seconds_in_bucket'] < end_time)]['time_length']) / (end_time - start_time)\n"
     ]
    },
    {
     "name": "stdout",
     "output_type": "stream",
     "text": [
      "15625\n",
      "15627\n",
      "15633\n"
     ]
    },
    {
     "name": "stderr",
     "output_type": "stream",
     "text": [
      "/Users/vladimir.levin/Yandex.Disk.localized/01_Documents/01_Study/0_LUX/01_PhD/Drafts/Project3/kaggle_volatility/support_file.py:1675: RuntimeWarning: invalid value encountered in true_divide\n",
      "  w_ask = np.sum(df_book[(start_time <= df_book['seconds_in_bucket']) & (df_book['seconds_in_bucket'] < end_time)]['ask_price1'] * df_book[(start_time <= df_book['seconds_in_bucket']) & (df_book['seconds_in_bucket'] < end_time)]['time_length']) / (end_time - start_time)\n",
      "/Users/vladimir.levin/Yandex.Disk.localized/01_Documents/01_Study/0_LUX/01_PhD/Drafts/Project3/kaggle_volatility/support_file.py:1676: RuntimeWarning: invalid value encountered in true_divide\n",
      "  w_bid = np.sum(df_book[(start_time <= df_book['seconds_in_bucket']) & (df_book['seconds_in_bucket'] < end_time)]['bid_price1'] * df_book[(start_time <= df_book['seconds_in_bucket']) & (df_book['seconds_in_bucket'] < end_time)]['time_length']) / (end_time - start_time)\n"
     ]
    },
    {
     "name": "stdout",
     "output_type": "stream",
     "text": [
      "15637\n",
      "15644\n",
      "15647\n",
      "15671\n",
      "15685\n"
     ]
    },
    {
     "name": "stderr",
     "output_type": "stream",
     "text": [
      "/Users/vladimir.levin/Yandex.Disk.localized/01_Documents/01_Study/0_LUX/01_PhD/Drafts/Project3/kaggle_volatility/support_file.py:1675: RuntimeWarning: invalid value encountered in true_divide\n",
      "  w_ask = np.sum(df_book[(start_time <= df_book['seconds_in_bucket']) & (df_book['seconds_in_bucket'] < end_time)]['ask_price1'] * df_book[(start_time <= df_book['seconds_in_bucket']) & (df_book['seconds_in_bucket'] < end_time)]['time_length']) / (end_time - start_time)\n",
      "/Users/vladimir.levin/Yandex.Disk.localized/01_Documents/01_Study/0_LUX/01_PhD/Drafts/Project3/kaggle_volatility/support_file.py:1676: RuntimeWarning: invalid value encountered in true_divide\n",
      "  w_bid = np.sum(df_book[(start_time <= df_book['seconds_in_bucket']) & (df_book['seconds_in_bucket'] < end_time)]['bid_price1'] * df_book[(start_time <= df_book['seconds_in_bucket']) & (df_book['seconds_in_bucket'] < end_time)]['time_length']) / (end_time - start_time)\n"
     ]
    },
    {
     "name": "stdout",
     "output_type": "stream",
     "text": [
      "15687\n",
      "15689\n",
      "15693\n",
      "15697\n",
      "15703\n",
      "15706\n",
      "15713\n",
      "15715\n"
     ]
    },
    {
     "name": "stderr",
     "output_type": "stream",
     "text": [
      "/Users/vladimir.levin/Yandex.Disk.localized/01_Documents/01_Study/0_LUX/01_PhD/Drafts/Project3/kaggle_volatility/support_file.py:1675: RuntimeWarning: invalid value encountered in true_divide\n",
      "  w_ask = np.sum(df_book[(start_time <= df_book['seconds_in_bucket']) & (df_book['seconds_in_bucket'] < end_time)]['ask_price1'] * df_book[(start_time <= df_book['seconds_in_bucket']) & (df_book['seconds_in_bucket'] < end_time)]['time_length']) / (end_time - start_time)\n",
      "/Users/vladimir.levin/Yandex.Disk.localized/01_Documents/01_Study/0_LUX/01_PhD/Drafts/Project3/kaggle_volatility/support_file.py:1676: RuntimeWarning: invalid value encountered in true_divide\n",
      "  w_bid = np.sum(df_book[(start_time <= df_book['seconds_in_bucket']) & (df_book['seconds_in_bucket'] < end_time)]['bid_price1'] * df_book[(start_time <= df_book['seconds_in_bucket']) & (df_book['seconds_in_bucket'] < end_time)]['time_length']) / (end_time - start_time)\n"
     ]
    },
    {
     "name": "stdout",
     "output_type": "stream",
     "text": [
      "15727\n",
      "15728\n",
      "15730\n",
      "15742\n",
      "15746\n",
      "15750\n",
      "15757\n",
      "15759\n",
      "15765\n",
      "15770\n",
      "15772\n",
      "15798\n"
     ]
    },
    {
     "name": "stderr",
     "output_type": "stream",
     "text": [
      "/Users/vladimir.levin/Yandex.Disk.localized/01_Documents/01_Study/0_LUX/01_PhD/Drafts/Project3/kaggle_volatility/support_file.py:1675: RuntimeWarning: invalid value encountered in true_divide\n",
      "  w_ask = np.sum(df_book[(start_time <= df_book['seconds_in_bucket']) & (df_book['seconds_in_bucket'] < end_time)]['ask_price1'] * df_book[(start_time <= df_book['seconds_in_bucket']) & (df_book['seconds_in_bucket'] < end_time)]['time_length']) / (end_time - start_time)\n",
      "/Users/vladimir.levin/Yandex.Disk.localized/01_Documents/01_Study/0_LUX/01_PhD/Drafts/Project3/kaggle_volatility/support_file.py:1676: RuntimeWarning: invalid value encountered in true_divide\n",
      "  w_bid = np.sum(df_book[(start_time <= df_book['seconds_in_bucket']) & (df_book['seconds_in_bucket'] < end_time)]['bid_price1'] * df_book[(start_time <= df_book['seconds_in_bucket']) & (df_book['seconds_in_bucket'] < end_time)]['time_length']) / (end_time - start_time)\n"
     ]
    },
    {
     "name": "stdout",
     "output_type": "stream",
     "text": [
      "15807\n",
      "15818\n",
      "15823\n",
      "15824\n",
      "15836\n",
      "15840\n",
      "15845\n",
      "15846\n",
      "15852\n",
      "15853\n",
      "15858\n",
      "15861\n",
      "15872\n",
      "15883\n",
      "15894\n",
      "15903\n"
     ]
    },
    {
     "name": "stderr",
     "output_type": "stream",
     "text": [
      "/Users/vladimir.levin/Yandex.Disk.localized/01_Documents/01_Study/0_LUX/01_PhD/Drafts/Project3/kaggle_volatility/support_file.py:1675: RuntimeWarning: invalid value encountered in true_divide\n",
      "  w_ask = np.sum(df_book[(start_time <= df_book['seconds_in_bucket']) & (df_book['seconds_in_bucket'] < end_time)]['ask_price1'] * df_book[(start_time <= df_book['seconds_in_bucket']) & (df_book['seconds_in_bucket'] < end_time)]['time_length']) / (end_time - start_time)\n",
      "/Users/vladimir.levin/Yandex.Disk.localized/01_Documents/01_Study/0_LUX/01_PhD/Drafts/Project3/kaggle_volatility/support_file.py:1676: RuntimeWarning: invalid value encountered in true_divide\n",
      "  w_bid = np.sum(df_book[(start_time <= df_book['seconds_in_bucket']) & (df_book['seconds_in_bucket'] < end_time)]['bid_price1'] * df_book[(start_time <= df_book['seconds_in_bucket']) & (df_book['seconds_in_bucket'] < end_time)]['time_length']) / (end_time - start_time)\n"
     ]
    },
    {
     "name": "stdout",
     "output_type": "stream",
     "text": [
      "15904\n",
      "15906\n",
      "15907\n"
     ]
    },
    {
     "name": "stderr",
     "output_type": "stream",
     "text": [
      "/Users/vladimir.levin/Yandex.Disk.localized/01_Documents/01_Study/0_LUX/01_PhD/Drafts/Project3/kaggle_volatility/support_file.py:1675: RuntimeWarning: invalid value encountered in true_divide\n",
      "  w_ask = np.sum(df_book[(start_time <= df_book['seconds_in_bucket']) & (df_book['seconds_in_bucket'] < end_time)]['ask_price1'] * df_book[(start_time <= df_book['seconds_in_bucket']) & (df_book['seconds_in_bucket'] < end_time)]['time_length']) / (end_time - start_time)\n",
      "/Users/vladimir.levin/Yandex.Disk.localized/01_Documents/01_Study/0_LUX/01_PhD/Drafts/Project3/kaggle_volatility/support_file.py:1676: RuntimeWarning: invalid value encountered in true_divide\n",
      "  w_bid = np.sum(df_book[(start_time <= df_book['seconds_in_bucket']) & (df_book['seconds_in_bucket'] < end_time)]['bid_price1'] * df_book[(start_time <= df_book['seconds_in_bucket']) & (df_book['seconds_in_bucket'] < end_time)]['time_length']) / (end_time - start_time)\n"
     ]
    },
    {
     "name": "stdout",
     "output_type": "stream",
     "text": [
      "15908\n",
      "15920\n",
      "15934\n",
      "15938\n",
      "15960\n",
      "15965\n",
      "15966\n",
      "15982\n",
      "15989\n",
      "15991\n",
      "16016\n",
      "16017\n",
      "16031\n",
      "16040\n",
      "16071\n",
      "16081\n",
      "16086\n",
      "16089\n",
      "16093\n",
      "16103\n",
      "16113\n",
      "16118\n",
      "16127\n"
     ]
    },
    {
     "name": "stderr",
     "output_type": "stream",
     "text": [
      "/Users/vladimir.levin/Yandex.Disk.localized/01_Documents/01_Study/0_LUX/01_PhD/Drafts/Project3/kaggle_volatility/support_file.py:1675: RuntimeWarning: invalid value encountered in true_divide\n",
      "  w_ask = np.sum(df_book[(start_time <= df_book['seconds_in_bucket']) & (df_book['seconds_in_bucket'] < end_time)]['ask_price1'] * df_book[(start_time <= df_book['seconds_in_bucket']) & (df_book['seconds_in_bucket'] < end_time)]['time_length']) / (end_time - start_time)\n",
      "/Users/vladimir.levin/Yandex.Disk.localized/01_Documents/01_Study/0_LUX/01_PhD/Drafts/Project3/kaggle_volatility/support_file.py:1676: RuntimeWarning: invalid value encountered in true_divide\n",
      "  w_bid = np.sum(df_book[(start_time <= df_book['seconds_in_bucket']) & (df_book['seconds_in_bucket'] < end_time)]['bid_price1'] * df_book[(start_time <= df_book['seconds_in_bucket']) & (df_book['seconds_in_bucket'] < end_time)]['time_length']) / (end_time - start_time)\n",
      "/Users/vladimir.levin/Yandex.Disk.localized/01_Documents/01_Study/0_LUX/01_PhD/Drafts/Project3/kaggle_volatility/support_file.py:1675: RuntimeWarning: invalid value encountered in true_divide\n",
      "  w_ask = np.sum(df_book[(start_time <= df_book['seconds_in_bucket']) & (df_book['seconds_in_bucket'] < end_time)]['ask_price1'] * df_book[(start_time <= df_book['seconds_in_bucket']) & (df_book['seconds_in_bucket'] < end_time)]['time_length']) / (end_time - start_time)\n",
      "/Users/vladimir.levin/Yandex.Disk.localized/01_Documents/01_Study/0_LUX/01_PhD/Drafts/Project3/kaggle_volatility/support_file.py:1676: RuntimeWarning: invalid value encountered in true_divide\n",
      "  w_bid = np.sum(df_book[(start_time <= df_book['seconds_in_bucket']) & (df_book['seconds_in_bucket'] < end_time)]['bid_price1'] * df_book[(start_time <= df_book['seconds_in_bucket']) & (df_book['seconds_in_bucket'] < end_time)]['time_length']) / (end_time - start_time)\n"
     ]
    },
    {
     "name": "stdout",
     "output_type": "stream",
     "text": [
      "16138\n",
      "16147\n",
      "16149\n",
      "16170\n",
      "16172\n",
      "16192\n",
      "16200"
     ]
    },
    {
     "name": "stderr",
     "output_type": "stream",
     "text": [
      "/Users/vladimir.levin/Yandex.Disk.localized/01_Documents/01_Study/0_LUX/01_PhD/Drafts/Project3/kaggle_volatility/support_file.py:1675: RuntimeWarning: invalid value encountered in true_divide\n",
      "  w_ask = np.sum(df_book[(start_time <= df_book['seconds_in_bucket']) & (df_book['seconds_in_bucket'] < end_time)]['ask_price1'] * df_book[(start_time <= df_book['seconds_in_bucket']) & (df_book['seconds_in_bucket'] < end_time)]['time_length']) / (end_time - start_time)\n",
      "/Users/vladimir.levin/Yandex.Disk.localized/01_Documents/01_Study/0_LUX/01_PhD/Drafts/Project3/kaggle_volatility/support_file.py:1676: RuntimeWarning: invalid value encountered in true_divide\n",
      "  w_bid = np.sum(df_book[(start_time <= df_book['seconds_in_bucket']) & (df_book['seconds_in_bucket'] < end_time)]['bid_price1'] * df_book[(start_time <= df_book['seconds_in_bucket']) & (df_book['seconds_in_bucket'] < end_time)]['time_length']) / (end_time - start_time)\n"
     ]
    },
    {
     "name": "stdout",
     "output_type": "stream",
     "text": [
      "\n",
      "16235\n",
      "16240\n",
      "16271\n"
     ]
    },
    {
     "name": "stderr",
     "output_type": "stream",
     "text": [
      "/Users/vladimir.levin/Yandex.Disk.localized/01_Documents/01_Study/0_LUX/01_PhD/Drafts/Project3/kaggle_volatility/support_file.py:1675: RuntimeWarning: invalid value encountered in true_divide\n",
      "  w_ask = np.sum(df_book[(start_time <= df_book['seconds_in_bucket']) & (df_book['seconds_in_bucket'] < end_time)]['ask_price1'] * df_book[(start_time <= df_book['seconds_in_bucket']) & (df_book['seconds_in_bucket'] < end_time)]['time_length']) / (end_time - start_time)\n",
      "/Users/vladimir.levin/Yandex.Disk.localized/01_Documents/01_Study/0_LUX/01_PhD/Drafts/Project3/kaggle_volatility/support_file.py:1676: RuntimeWarning: invalid value encountered in true_divide\n",
      "  w_bid = np.sum(df_book[(start_time <= df_book['seconds_in_bucket']) & (df_book['seconds_in_bucket'] < end_time)]['bid_price1'] * df_book[(start_time <= df_book['seconds_in_bucket']) & (df_book['seconds_in_bucket'] < end_time)]['time_length']) / (end_time - start_time)\n"
     ]
    },
    {
     "name": "stdout",
     "output_type": "stream",
     "text": [
      "16280\n",
      "16282\n",
      "16288\n",
      "16289\n",
      "16304\n",
      "16312\n",
      "16320\n"
     ]
    },
    {
     "name": "stderr",
     "output_type": "stream",
     "text": [
      "/Users/vladimir.levin/Yandex.Disk.localized/01_Documents/01_Study/0_LUX/01_PhD/Drafts/Project3/kaggle_volatility/support_file.py:1675: RuntimeWarning: invalid value encountered in true_divide\n",
      "  w_ask = np.sum(df_book[(start_time <= df_book['seconds_in_bucket']) & (df_book['seconds_in_bucket'] < end_time)]['ask_price1'] * df_book[(start_time <= df_book['seconds_in_bucket']) & (df_book['seconds_in_bucket'] < end_time)]['time_length']) / (end_time - start_time)\n",
      "/Users/vladimir.levin/Yandex.Disk.localized/01_Documents/01_Study/0_LUX/01_PhD/Drafts/Project3/kaggle_volatility/support_file.py:1676: RuntimeWarning: invalid value encountered in true_divide\n",
      "  w_bid = np.sum(df_book[(start_time <= df_book['seconds_in_bucket']) & (df_book['seconds_in_bucket'] < end_time)]['bid_price1'] * df_book[(start_time <= df_book['seconds_in_bucket']) & (df_book['seconds_in_bucket'] < end_time)]['time_length']) / (end_time - start_time)\n"
     ]
    },
    {
     "name": "stdout",
     "output_type": "stream",
     "text": [
      "16328\n",
      "16330\n",
      "16352\n",
      "16357\n",
      "16367\n",
      "16374\n",
      "16402"
     ]
    },
    {
     "name": "stderr",
     "output_type": "stream",
     "text": [
      "/Users/vladimir.levin/Yandex.Disk.localized/01_Documents/01_Study/0_LUX/01_PhD/Drafts/Project3/kaggle_volatility/support_file.py:1675: RuntimeWarning: invalid value encountered in true_divide\n",
      "  w_ask = np.sum(df_book[(start_time <= df_book['seconds_in_bucket']) & (df_book['seconds_in_bucket'] < end_time)]['ask_price1'] * df_book[(start_time <= df_book['seconds_in_bucket']) & (df_book['seconds_in_bucket'] < end_time)]['time_length']) / (end_time - start_time)\n",
      "/Users/vladimir.levin/Yandex.Disk.localized/01_Documents/01_Study/0_LUX/01_PhD/Drafts/Project3/kaggle_volatility/support_file.py:1676: RuntimeWarning: invalid value encountered in true_divide\n",
      "  w_bid = np.sum(df_book[(start_time <= df_book['seconds_in_bucket']) & (df_book['seconds_in_bucket'] < end_time)]['bid_price1'] * df_book[(start_time <= df_book['seconds_in_bucket']) & (df_book['seconds_in_bucket'] < end_time)]['time_length']) / (end_time - start_time)\n",
      "/Users/vladimir.levin/Yandex.Disk.localized/01_Documents/01_Study/0_LUX/01_PhD/Drafts/Project3/kaggle_volatility/support_file.py:1675: RuntimeWarning: invalid value encountered in true_divide\n",
      "  w_ask = np.sum(df_book[(start_time <= df_book['seconds_in_bucket']) & (df_book['seconds_in_bucket'] < end_time)]['ask_price1'] * df_book[(start_time <= df_book['seconds_in_bucket']) & (df_book['seconds_in_bucket'] < end_time)]['time_length']) / (end_time - start_time)\n",
      "/Users/vladimir.levin/Yandex.Disk.localized/01_Documents/01_Study/0_LUX/01_PhD/Drafts/Project3/kaggle_volatility/support_file.py:1676: RuntimeWarning: invalid value encountered in true_divide\n",
      "  w_bid = np.sum(df_book[(start_time <= df_book['seconds_in_bucket']) & (df_book['seconds_in_bucket'] < end_time)]['bid_price1'] * df_book[(start_time <= df_book['seconds_in_bucket']) & (df_book['seconds_in_bucket'] < end_time)]['time_length']) / (end_time - start_time)\n"
     ]
    },
    {
     "name": "stdout",
     "output_type": "stream",
     "text": [
      "\n",
      "16404\n",
      "16428\n",
      "16429\n",
      "16431\n",
      "16438\n",
      "16454\n",
      "16460\n",
      "16466\n",
      "16479\n",
      "16488\n",
      "16489\n",
      "16499\n",
      "16500\n"
     ]
    },
    {
     "name": "stderr",
     "output_type": "stream",
     "text": [
      "/Users/vladimir.levin/Yandex.Disk.localized/01_Documents/01_Study/0_LUX/01_PhD/Drafts/Project3/kaggle_volatility/support_file.py:1675: RuntimeWarning: invalid value encountered in true_divide\n",
      "  w_ask = np.sum(df_book[(start_time <= df_book['seconds_in_bucket']) & (df_book['seconds_in_bucket'] < end_time)]['ask_price1'] * df_book[(start_time <= df_book['seconds_in_bucket']) & (df_book['seconds_in_bucket'] < end_time)]['time_length']) / (end_time - start_time)\n",
      "/Users/vladimir.levin/Yandex.Disk.localized/01_Documents/01_Study/0_LUX/01_PhD/Drafts/Project3/kaggle_volatility/support_file.py:1676: RuntimeWarning: invalid value encountered in true_divide\n",
      "  w_bid = np.sum(df_book[(start_time <= df_book['seconds_in_bucket']) & (df_book['seconds_in_bucket'] < end_time)]['bid_price1'] * df_book[(start_time <= df_book['seconds_in_bucket']) & (df_book['seconds_in_bucket'] < end_time)]['time_length']) / (end_time - start_time)\n"
     ]
    },
    {
     "name": "stdout",
     "output_type": "stream",
     "text": [
      "16504\n",
      "16507\n",
      "16511\n",
      "16519\n",
      "16526\n",
      "16556\n",
      "16560\n",
      "16570"
     ]
    },
    {
     "name": "stderr",
     "output_type": "stream",
     "text": [
      "/Users/vladimir.levin/Yandex.Disk.localized/01_Documents/01_Study/0_LUX/01_PhD/Drafts/Project3/kaggle_volatility/support_file.py:1675: RuntimeWarning: invalid value encountered in true_divide\n",
      "  w_ask = np.sum(df_book[(start_time <= df_book['seconds_in_bucket']) & (df_book['seconds_in_bucket'] < end_time)]['ask_price1'] * df_book[(start_time <= df_book['seconds_in_bucket']) & (df_book['seconds_in_bucket'] < end_time)]['time_length']) / (end_time - start_time)\n",
      "/Users/vladimir.levin/Yandex.Disk.localized/01_Documents/01_Study/0_LUX/01_PhD/Drafts/Project3/kaggle_volatility/support_file.py:1676: RuntimeWarning: invalid value encountered in true_divide\n",
      "  w_bid = np.sum(df_book[(start_time <= df_book['seconds_in_bucket']) & (df_book['seconds_in_bucket'] < end_time)]['bid_price1'] * df_book[(start_time <= df_book['seconds_in_bucket']) & (df_book['seconds_in_bucket'] < end_time)]['time_length']) / (end_time - start_time)\n",
      "/Users/vladimir.levin/Yandex.Disk.localized/01_Documents/01_Study/0_LUX/01_PhD/Drafts/Project3/kaggle_volatility/support_file.py:1675: RuntimeWarning: invalid value encountered in true_divide\n",
      "  w_ask = np.sum(df_book[(start_time <= df_book['seconds_in_bucket']) & (df_book['seconds_in_bucket'] < end_time)]['ask_price1'] * df_book[(start_time <= df_book['seconds_in_bucket']) & (df_book['seconds_in_bucket'] < end_time)]['time_length']) / (end_time - start_time)\n",
      "/Users/vladimir.levin/Yandex.Disk.localized/01_Documents/01_Study/0_LUX/01_PhD/Drafts/Project3/kaggle_volatility/support_file.py:1676: RuntimeWarning: invalid value encountered in true_divide\n",
      "  w_bid = np.sum(df_book[(start_time <= df_book['seconds_in_bucket']) & (df_book['seconds_in_bucket'] < end_time)]['bid_price1'] * df_book[(start_time <= df_book['seconds_in_bucket']) & (df_book['seconds_in_bucket'] < end_time)]['time_length']) / (end_time - start_time)\n"
     ]
    },
    {
     "name": "stdout",
     "output_type": "stream",
     "text": [
      "\n",
      "16575\n",
      "16594\n",
      "16601\n",
      "16611\n",
      "16614\n",
      "16624\n",
      "16629\n"
     ]
    },
    {
     "name": "stderr",
     "output_type": "stream",
     "text": [
      "/Users/vladimir.levin/Yandex.Disk.localized/01_Documents/01_Study/0_LUX/01_PhD/Drafts/Project3/kaggle_volatility/support_file.py:1675: RuntimeWarning: invalid value encountered in true_divide\n",
      "  w_ask = np.sum(df_book[(start_time <= df_book['seconds_in_bucket']) & (df_book['seconds_in_bucket'] < end_time)]['ask_price1'] * df_book[(start_time <= df_book['seconds_in_bucket']) & (df_book['seconds_in_bucket'] < end_time)]['time_length']) / (end_time - start_time)\n",
      "/Users/vladimir.levin/Yandex.Disk.localized/01_Documents/01_Study/0_LUX/01_PhD/Drafts/Project3/kaggle_volatility/support_file.py:1676: RuntimeWarning: invalid value encountered in true_divide\n",
      "  w_bid = np.sum(df_book[(start_time <= df_book['seconds_in_bucket']) & (df_book['seconds_in_bucket'] < end_time)]['bid_price1'] * df_book[(start_time <= df_book['seconds_in_bucket']) & (df_book['seconds_in_bucket'] < end_time)]['time_length']) / (end_time - start_time)\n"
     ]
    },
    {
     "name": "stdout",
     "output_type": "stream",
     "text": [
      "16630\n",
      "16637\n",
      "16643\n",
      "16649\n",
      "16660\n",
      "16666\n",
      "16676\n",
      "16679\n",
      "16694\n",
      "16696\n"
     ]
    },
    {
     "name": "stderr",
     "output_type": "stream",
     "text": [
      "/Users/vladimir.levin/Yandex.Disk.localized/01_Documents/01_Study/0_LUX/01_PhD/Drafts/Project3/kaggle_volatility/support_file.py:1675: RuntimeWarning: invalid value encountered in true_divide\n",
      "  w_ask = np.sum(df_book[(start_time <= df_book['seconds_in_bucket']) & (df_book['seconds_in_bucket'] < end_time)]['ask_price1'] * df_book[(start_time <= df_book['seconds_in_bucket']) & (df_book['seconds_in_bucket'] < end_time)]['time_length']) / (end_time - start_time)\n",
      "/Users/vladimir.levin/Yandex.Disk.localized/01_Documents/01_Study/0_LUX/01_PhD/Drafts/Project3/kaggle_volatility/support_file.py:1676: RuntimeWarning: invalid value encountered in true_divide\n",
      "  w_bid = np.sum(df_book[(start_time <= df_book['seconds_in_bucket']) & (df_book['seconds_in_bucket'] < end_time)]['bid_price1'] * df_book[(start_time <= df_book['seconds_in_bucket']) & (df_book['seconds_in_bucket'] < end_time)]['time_length']) / (end_time - start_time)\n",
      "/Users/vladimir.levin/Yandex.Disk.localized/01_Documents/01_Study/0_LUX/01_PhD/Drafts/Project3/kaggle_volatility/support_file.py:1675: RuntimeWarning: invalid value encountered in true_divide\n",
      "  w_ask = np.sum(df_book[(start_time <= df_book['seconds_in_bucket']) & (df_book['seconds_in_bucket'] < end_time)]['ask_price1'] * df_book[(start_time <= df_book['seconds_in_bucket']) & (df_book['seconds_in_bucket'] < end_time)]['time_length']) / (end_time - start_time)\n",
      "/Users/vladimir.levin/Yandex.Disk.localized/01_Documents/01_Study/0_LUX/01_PhD/Drafts/Project3/kaggle_volatility/support_file.py:1676: RuntimeWarning: invalid value encountered in true_divide\n",
      "  w_bid = np.sum(df_book[(start_time <= df_book['seconds_in_bucket']) & (df_book['seconds_in_bucket'] < end_time)]['bid_price1'] * df_book[(start_time <= df_book['seconds_in_bucket']) & (df_book['seconds_in_bucket'] < end_time)]['time_length']) / (end_time - start_time)\n"
     ]
    },
    {
     "name": "stdout",
     "output_type": "stream",
     "text": [
      "16699\n",
      "16704\n",
      "16706\n",
      "16707\n",
      "16721\n",
      "16731\n",
      "16733\n",
      "16745\n",
      "16746\n"
     ]
    },
    {
     "name": "stderr",
     "output_type": "stream",
     "text": [
      "/Users/vladimir.levin/Yandex.Disk.localized/01_Documents/01_Study/0_LUX/01_PhD/Drafts/Project3/kaggle_volatility/support_file.py:1675: RuntimeWarning: invalid value encountered in true_divide\n",
      "  w_ask = np.sum(df_book[(start_time <= df_book['seconds_in_bucket']) & (df_book['seconds_in_bucket'] < end_time)]['ask_price1'] * df_book[(start_time <= df_book['seconds_in_bucket']) & (df_book['seconds_in_bucket'] < end_time)]['time_length']) / (end_time - start_time)\n",
      "/Users/vladimir.levin/Yandex.Disk.localized/01_Documents/01_Study/0_LUX/01_PhD/Drafts/Project3/kaggle_volatility/support_file.py:1676: RuntimeWarning: invalid value encountered in true_divide\n",
      "  w_bid = np.sum(df_book[(start_time <= df_book['seconds_in_bucket']) & (df_book['seconds_in_bucket'] < end_time)]['bid_price1'] * df_book[(start_time <= df_book['seconds_in_bucket']) & (df_book['seconds_in_bucket'] < end_time)]['time_length']) / (end_time - start_time)\n"
     ]
    },
    {
     "name": "stdout",
     "output_type": "stream",
     "text": [
      "16753\n",
      "16771\n",
      "16774\n",
      "16792\n",
      "16793\n",
      "16802\n",
      "16811\n",
      "16815\n",
      "16816\n",
      "16823\n",
      "16831\n",
      "16839\n",
      "16851\n",
      "16864\n",
      "16869\n",
      "16877\n",
      "16880\n"
     ]
    },
    {
     "name": "stderr",
     "output_type": "stream",
     "text": [
      "/Users/vladimir.levin/Yandex.Disk.localized/01_Documents/01_Study/0_LUX/01_PhD/Drafts/Project3/kaggle_volatility/support_file.py:1675: RuntimeWarning: invalid value encountered in true_divide\n",
      "  w_ask = np.sum(df_book[(start_time <= df_book['seconds_in_bucket']) & (df_book['seconds_in_bucket'] < end_time)]['ask_price1'] * df_book[(start_time <= df_book['seconds_in_bucket']) & (df_book['seconds_in_bucket'] < end_time)]['time_length']) / (end_time - start_time)\n",
      "/Users/vladimir.levin/Yandex.Disk.localized/01_Documents/01_Study/0_LUX/01_PhD/Drafts/Project3/kaggle_volatility/support_file.py:1676: RuntimeWarning: invalid value encountered in true_divide\n",
      "  w_bid = np.sum(df_book[(start_time <= df_book['seconds_in_bucket']) & (df_book['seconds_in_bucket'] < end_time)]['bid_price1'] * df_book[(start_time <= df_book['seconds_in_bucket']) & (df_book['seconds_in_bucket'] < end_time)]['time_length']) / (end_time - start_time)\n"
     ]
    },
    {
     "name": "stdout",
     "output_type": "stream",
     "text": [
      "16900\n",
      "16910\n",
      "16919\n"
     ]
    },
    {
     "name": "stderr",
     "output_type": "stream",
     "text": [
      "/Users/vladimir.levin/Yandex.Disk.localized/01_Documents/01_Study/0_LUX/01_PhD/Drafts/Project3/kaggle_volatility/support_file.py:1675: RuntimeWarning: invalid value encountered in true_divide\n",
      "  w_ask = np.sum(df_book[(start_time <= df_book['seconds_in_bucket']) & (df_book['seconds_in_bucket'] < end_time)]['ask_price1'] * df_book[(start_time <= df_book['seconds_in_bucket']) & (df_book['seconds_in_bucket'] < end_time)]['time_length']) / (end_time - start_time)\n",
      "/Users/vladimir.levin/Yandex.Disk.localized/01_Documents/01_Study/0_LUX/01_PhD/Drafts/Project3/kaggle_volatility/support_file.py:1676: RuntimeWarning: invalid value encountered in true_divide\n",
      "  w_bid = np.sum(df_book[(start_time <= df_book['seconds_in_bucket']) & (df_book['seconds_in_bucket'] < end_time)]['bid_price1'] * df_book[(start_time <= df_book['seconds_in_bucket']) & (df_book['seconds_in_bucket'] < end_time)]['time_length']) / (end_time - start_time)\n"
     ]
    },
    {
     "name": "stdout",
     "output_type": "stream",
     "text": [
      "16941\n",
      "16943\n",
      "16948\n",
      "16978\n",
      "16987\n",
      "16992\n"
     ]
    },
    {
     "name": "stderr",
     "output_type": "stream",
     "text": [
      "/Users/vladimir.levin/Yandex.Disk.localized/01_Documents/01_Study/0_LUX/01_PhD/Drafts/Project3/kaggle_volatility/support_file.py:1675: RuntimeWarning: invalid value encountered in true_divide\n",
      "  w_ask = np.sum(df_book[(start_time <= df_book['seconds_in_bucket']) & (df_book['seconds_in_bucket'] < end_time)]['ask_price1'] * df_book[(start_time <= df_book['seconds_in_bucket']) & (df_book['seconds_in_bucket'] < end_time)]['time_length']) / (end_time - start_time)\n",
      "/Users/vladimir.levin/Yandex.Disk.localized/01_Documents/01_Study/0_LUX/01_PhD/Drafts/Project3/kaggle_volatility/support_file.py:1676: RuntimeWarning: invalid value encountered in true_divide\n",
      "  w_bid = np.sum(df_book[(start_time <= df_book['seconds_in_bucket']) & (df_book['seconds_in_bucket'] < end_time)]['bid_price1'] * df_book[(start_time <= df_book['seconds_in_bucket']) & (df_book['seconds_in_bucket'] < end_time)]['time_length']) / (end_time - start_time)\n"
     ]
    },
    {
     "name": "stdout",
     "output_type": "stream",
     "text": [
      "16999\n",
      "17008\n",
      "17010\n",
      "17013\n",
      "17029\n",
      "17031"
     ]
    },
    {
     "name": "stderr",
     "output_type": "stream",
     "text": [
      "/Users/vladimir.levin/Yandex.Disk.localized/01_Documents/01_Study/0_LUX/01_PhD/Drafts/Project3/kaggle_volatility/support_file.py:1675: RuntimeWarning: invalid value encountered in true_divide\n",
      "  w_ask = np.sum(df_book[(start_time <= df_book['seconds_in_bucket']) & (df_book['seconds_in_bucket'] < end_time)]['ask_price1'] * df_book[(start_time <= df_book['seconds_in_bucket']) & (df_book['seconds_in_bucket'] < end_time)]['time_length']) / (end_time - start_time)\n",
      "/Users/vladimir.levin/Yandex.Disk.localized/01_Documents/01_Study/0_LUX/01_PhD/Drafts/Project3/kaggle_volatility/support_file.py:1676: RuntimeWarning: invalid value encountered in true_divide\n",
      "  w_bid = np.sum(df_book[(start_time <= df_book['seconds_in_bucket']) & (df_book['seconds_in_bucket'] < end_time)]['bid_price1'] * df_book[(start_time <= df_book['seconds_in_bucket']) & (df_book['seconds_in_bucket'] < end_time)]['time_length']) / (end_time - start_time)\n"
     ]
    },
    {
     "name": "stdout",
     "output_type": "stream",
     "text": [
      "\n",
      "17034\n",
      "17050\n",
      "17053\n",
      "17056\n",
      "17058\n"
     ]
    },
    {
     "name": "stderr",
     "output_type": "stream",
     "text": [
      "/Users/vladimir.levin/Yandex.Disk.localized/01_Documents/01_Study/0_LUX/01_PhD/Drafts/Project3/kaggle_volatility/support_file.py:1675: RuntimeWarning: invalid value encountered in true_divide\n",
      "  w_ask = np.sum(df_book[(start_time <= df_book['seconds_in_bucket']) & (df_book['seconds_in_bucket'] < end_time)]['ask_price1'] * df_book[(start_time <= df_book['seconds_in_bucket']) & (df_book['seconds_in_bucket'] < end_time)]['time_length']) / (end_time - start_time)\n",
      "/Users/vladimir.levin/Yandex.Disk.localized/01_Documents/01_Study/0_LUX/01_PhD/Drafts/Project3/kaggle_volatility/support_file.py:1676: RuntimeWarning: invalid value encountered in true_divide\n",
      "  w_bid = np.sum(df_book[(start_time <= df_book['seconds_in_bucket']) & (df_book['seconds_in_bucket'] < end_time)]['bid_price1'] * df_book[(start_time <= df_book['seconds_in_bucket']) & (df_book['seconds_in_bucket'] < end_time)]['time_length']) / (end_time - start_time)\n"
     ]
    },
    {
     "name": "stdout",
     "output_type": "stream",
     "text": [
      "17070\n",
      "17076\n",
      "17078\n"
     ]
    },
    {
     "name": "stderr",
     "output_type": "stream",
     "text": [
      "/Users/vladimir.levin/Yandex.Disk.localized/01_Documents/01_Study/0_LUX/01_PhD/Drafts/Project3/kaggle_volatility/support_file.py:1675: RuntimeWarning: invalid value encountered in true_divide\n",
      "  w_ask = np.sum(df_book[(start_time <= df_book['seconds_in_bucket']) & (df_book['seconds_in_bucket'] < end_time)]['ask_price1'] * df_book[(start_time <= df_book['seconds_in_bucket']) & (df_book['seconds_in_bucket'] < end_time)]['time_length']) / (end_time - start_time)\n",
      "/Users/vladimir.levin/Yandex.Disk.localized/01_Documents/01_Study/0_LUX/01_PhD/Drafts/Project3/kaggle_volatility/support_file.py:1676: RuntimeWarning: invalid value encountered in true_divide\n",
      "  w_bid = np.sum(df_book[(start_time <= df_book['seconds_in_bucket']) & (df_book['seconds_in_bucket'] < end_time)]['bid_price1'] * df_book[(start_time <= df_book['seconds_in_bucket']) & (df_book['seconds_in_bucket'] < end_time)]['time_length']) / (end_time - start_time)\n"
     ]
    },
    {
     "name": "stdout",
     "output_type": "stream",
     "text": [
      "17090\n",
      "17091\n",
      "17093\n"
     ]
    },
    {
     "name": "stderr",
     "output_type": "stream",
     "text": [
      "/Users/vladimir.levin/Yandex.Disk.localized/01_Documents/01_Study/0_LUX/01_PhD/Drafts/Project3/kaggle_volatility/support_file.py:1675: RuntimeWarning: invalid value encountered in true_divide\n",
      "  w_ask = np.sum(df_book[(start_time <= df_book['seconds_in_bucket']) & (df_book['seconds_in_bucket'] < end_time)]['ask_price1'] * df_book[(start_time <= df_book['seconds_in_bucket']) & (df_book['seconds_in_bucket'] < end_time)]['time_length']) / (end_time - start_time)\n",
      "/Users/vladimir.levin/Yandex.Disk.localized/01_Documents/01_Study/0_LUX/01_PhD/Drafts/Project3/kaggle_volatility/support_file.py:1676: RuntimeWarning: invalid value encountered in true_divide\n",
      "  w_bid = np.sum(df_book[(start_time <= df_book['seconds_in_bucket']) & (df_book['seconds_in_bucket'] < end_time)]['bid_price1'] * df_book[(start_time <= df_book['seconds_in_bucket']) & (df_book['seconds_in_bucket'] < end_time)]['time_length']) / (end_time - start_time)\n"
     ]
    },
    {
     "name": "stdout",
     "output_type": "stream",
     "text": [
      "17109\n",
      "17112\n",
      "17117\n",
      "17120\n"
     ]
    },
    {
     "name": "stderr",
     "output_type": "stream",
     "text": [
      "/Users/vladimir.levin/Yandex.Disk.localized/01_Documents/01_Study/0_LUX/01_PhD/Drafts/Project3/kaggle_volatility/support_file.py:1675: RuntimeWarning: invalid value encountered in true_divide\n",
      "  w_ask = np.sum(df_book[(start_time <= df_book['seconds_in_bucket']) & (df_book['seconds_in_bucket'] < end_time)]['ask_price1'] * df_book[(start_time <= df_book['seconds_in_bucket']) & (df_book['seconds_in_bucket'] < end_time)]['time_length']) / (end_time - start_time)\n",
      "/Users/vladimir.levin/Yandex.Disk.localized/01_Documents/01_Study/0_LUX/01_PhD/Drafts/Project3/kaggle_volatility/support_file.py:1676: RuntimeWarning: invalid value encountered in true_divide\n",
      "  w_bid = np.sum(df_book[(start_time <= df_book['seconds_in_bucket']) & (df_book['seconds_in_bucket'] < end_time)]['bid_price1'] * df_book[(start_time <= df_book['seconds_in_bucket']) & (df_book['seconds_in_bucket'] < end_time)]['time_length']) / (end_time - start_time)\n"
     ]
    },
    {
     "name": "stdout",
     "output_type": "stream",
     "text": [
      "17157\n",
      "17161\n",
      "17167\n",
      "17169\n",
      "17172\n",
      "17179\n",
      "17181\n",
      "17191\n",
      "17193\n",
      "17194\n",
      "17198\n",
      "17210\n",
      "17217\n",
      "17227\n",
      "17239\n",
      "17244\n",
      "17247\n",
      "17259\n",
      "17264\n",
      "17265\n",
      "17293\n",
      "17295\n",
      "17305\n",
      "17315\n",
      "17324\n",
      "17328\n",
      "17337\n",
      "17339\n"
     ]
    },
    {
     "name": "stderr",
     "output_type": "stream",
     "text": [
      "/Users/vladimir.levin/Yandex.Disk.localized/01_Documents/01_Study/0_LUX/01_PhD/Drafts/Project3/kaggle_volatility/support_file.py:1675: RuntimeWarning: invalid value encountered in true_divide\n",
      "  w_ask = np.sum(df_book[(start_time <= df_book['seconds_in_bucket']) & (df_book['seconds_in_bucket'] < end_time)]['ask_price1'] * df_book[(start_time <= df_book['seconds_in_bucket']) & (df_book['seconds_in_bucket'] < end_time)]['time_length']) / (end_time - start_time)\n",
      "/Users/vladimir.levin/Yandex.Disk.localized/01_Documents/01_Study/0_LUX/01_PhD/Drafts/Project3/kaggle_volatility/support_file.py:1676: RuntimeWarning: invalid value encountered in true_divide\n",
      "  w_bid = np.sum(df_book[(start_time <= df_book['seconds_in_bucket']) & (df_book['seconds_in_bucket'] < end_time)]['bid_price1'] * df_book[(start_time <= df_book['seconds_in_bucket']) & (df_book['seconds_in_bucket'] < end_time)]['time_length']) / (end_time - start_time)\n"
     ]
    },
    {
     "name": "stdout",
     "output_type": "stream",
     "text": [
      "17342\n",
      "17355\n",
      "17363\n"
     ]
    },
    {
     "name": "stderr",
     "output_type": "stream",
     "text": [
      "/Users/vladimir.levin/Yandex.Disk.localized/01_Documents/01_Study/0_LUX/01_PhD/Drafts/Project3/kaggle_volatility/support_file.py:1675: RuntimeWarning: invalid value encountered in true_divide\n",
      "  w_ask = np.sum(df_book[(start_time <= df_book['seconds_in_bucket']) & (df_book['seconds_in_bucket'] < end_time)]['ask_price1'] * df_book[(start_time <= df_book['seconds_in_bucket']) & (df_book['seconds_in_bucket'] < end_time)]['time_length']) / (end_time - start_time)\n",
      "/Users/vladimir.levin/Yandex.Disk.localized/01_Documents/01_Study/0_LUX/01_PhD/Drafts/Project3/kaggle_volatility/support_file.py:1676: RuntimeWarning: invalid value encountered in true_divide\n",
      "  w_bid = np.sum(df_book[(start_time <= df_book['seconds_in_bucket']) & (df_book['seconds_in_bucket'] < end_time)]['bid_price1'] * df_book[(start_time <= df_book['seconds_in_bucket']) & (df_book['seconds_in_bucket'] < end_time)]['time_length']) / (end_time - start_time)\n"
     ]
    },
    {
     "name": "stdout",
     "output_type": "stream",
     "text": [
      "17377\n",
      "17378\n",
      "17387\n",
      "17390\n",
      "17395\n"
     ]
    },
    {
     "name": "stderr",
     "output_type": "stream",
     "text": [
      "/Users/vladimir.levin/Yandex.Disk.localized/01_Documents/01_Study/0_LUX/01_PhD/Drafts/Project3/kaggle_volatility/support_file.py:1675: RuntimeWarning: invalid value encountered in true_divide\n",
      "  w_ask = np.sum(df_book[(start_time <= df_book['seconds_in_bucket']) & (df_book['seconds_in_bucket'] < end_time)]['ask_price1'] * df_book[(start_time <= df_book['seconds_in_bucket']) & (df_book['seconds_in_bucket'] < end_time)]['time_length']) / (end_time - start_time)\n",
      "/Users/vladimir.levin/Yandex.Disk.localized/01_Documents/01_Study/0_LUX/01_PhD/Drafts/Project3/kaggle_volatility/support_file.py:1676: RuntimeWarning: invalid value encountered in true_divide\n",
      "  w_bid = np.sum(df_book[(start_time <= df_book['seconds_in_bucket']) & (df_book['seconds_in_bucket'] < end_time)]['bid_price1'] * df_book[(start_time <= df_book['seconds_in_bucket']) & (df_book['seconds_in_bucket'] < end_time)]['time_length']) / (end_time - start_time)\n"
     ]
    },
    {
     "name": "stdout",
     "output_type": "stream",
     "text": [
      "17398\n",
      "17421\n",
      "17424\n",
      "17428\n"
     ]
    },
    {
     "name": "stderr",
     "output_type": "stream",
     "text": [
      "/Users/vladimir.levin/Yandex.Disk.localized/01_Documents/01_Study/0_LUX/01_PhD/Drafts/Project3/kaggle_volatility/support_file.py:1675: RuntimeWarning: invalid value encountered in true_divide\n",
      "  w_ask = np.sum(df_book[(start_time <= df_book['seconds_in_bucket']) & (df_book['seconds_in_bucket'] < end_time)]['ask_price1'] * df_book[(start_time <= df_book['seconds_in_bucket']) & (df_book['seconds_in_bucket'] < end_time)]['time_length']) / (end_time - start_time)\n",
      "/Users/vladimir.levin/Yandex.Disk.localized/01_Documents/01_Study/0_LUX/01_PhD/Drafts/Project3/kaggle_volatility/support_file.py:1676: RuntimeWarning: invalid value encountered in true_divide\n",
      "  w_bid = np.sum(df_book[(start_time <= df_book['seconds_in_bucket']) & (df_book['seconds_in_bucket'] < end_time)]['bid_price1'] * df_book[(start_time <= df_book['seconds_in_bucket']) & (df_book['seconds_in_bucket'] < end_time)]['time_length']) / (end_time - start_time)\n"
     ]
    },
    {
     "name": "stdout",
     "output_type": "stream",
     "text": [
      "17429\n",
      "17448\n"
     ]
    },
    {
     "name": "stderr",
     "output_type": "stream",
     "text": [
      "/Users/vladimir.levin/Yandex.Disk.localized/01_Documents/01_Study/0_LUX/01_PhD/Drafts/Project3/kaggle_volatility/support_file.py:1675: RuntimeWarning: invalid value encountered in true_divide\n",
      "  w_ask = np.sum(df_book[(start_time <= df_book['seconds_in_bucket']) & (df_book['seconds_in_bucket'] < end_time)]['ask_price1'] * df_book[(start_time <= df_book['seconds_in_bucket']) & (df_book['seconds_in_bucket'] < end_time)]['time_length']) / (end_time - start_time)\n",
      "/Users/vladimir.levin/Yandex.Disk.localized/01_Documents/01_Study/0_LUX/01_PhD/Drafts/Project3/kaggle_volatility/support_file.py:1676: RuntimeWarning: invalid value encountered in true_divide\n",
      "  w_bid = np.sum(df_book[(start_time <= df_book['seconds_in_bucket']) & (df_book['seconds_in_bucket'] < end_time)]['bid_price1'] * df_book[(start_time <= df_book['seconds_in_bucket']) & (df_book['seconds_in_bucket'] < end_time)]['time_length']) / (end_time - start_time)\n",
      "/Users/vladimir.levin/Yandex.Disk.localized/01_Documents/01_Study/0_LUX/01_PhD/Drafts/Project3/kaggle_volatility/support_file.py:1675: RuntimeWarning: invalid value encountered in true_divide\n",
      "  w_ask = np.sum(df_book[(start_time <= df_book['seconds_in_bucket']) & (df_book['seconds_in_bucket'] < end_time)]['ask_price1'] * df_book[(start_time <= df_book['seconds_in_bucket']) & (df_book['seconds_in_bucket'] < end_time)]['time_length']) / (end_time - start_time)\n",
      "/Users/vladimir.levin/Yandex.Disk.localized/01_Documents/01_Study/0_LUX/01_PhD/Drafts/Project3/kaggle_volatility/support_file.py:1676: RuntimeWarning: invalid value encountered in true_divide\n",
      "  w_bid = np.sum(df_book[(start_time <= df_book['seconds_in_bucket']) & (df_book['seconds_in_bucket'] < end_time)]['bid_price1'] * df_book[(start_time <= df_book['seconds_in_bucket']) & (df_book['seconds_in_bucket'] < end_time)]['time_length']) / (end_time - start_time)\n"
     ]
    },
    {
     "name": "stdout",
     "output_type": "stream",
     "text": [
      "17454\n",
      "17460\n",
      "17474\n",
      "17486\n",
      "17490\n"
     ]
    },
    {
     "name": "stderr",
     "output_type": "stream",
     "text": [
      "/Users/vladimir.levin/Yandex.Disk.localized/01_Documents/01_Study/0_LUX/01_PhD/Drafts/Project3/kaggle_volatility/support_file.py:1675: RuntimeWarning: invalid value encountered in true_divide\n",
      "  w_ask = np.sum(df_book[(start_time <= df_book['seconds_in_bucket']) & (df_book['seconds_in_bucket'] < end_time)]['ask_price1'] * df_book[(start_time <= df_book['seconds_in_bucket']) & (df_book['seconds_in_bucket'] < end_time)]['time_length']) / (end_time - start_time)\n",
      "/Users/vladimir.levin/Yandex.Disk.localized/01_Documents/01_Study/0_LUX/01_PhD/Drafts/Project3/kaggle_volatility/support_file.py:1676: RuntimeWarning: invalid value encountered in true_divide\n",
      "  w_bid = np.sum(df_book[(start_time <= df_book['seconds_in_bucket']) & (df_book['seconds_in_bucket'] < end_time)]['bid_price1'] * df_book[(start_time <= df_book['seconds_in_bucket']) & (df_book['seconds_in_bucket'] < end_time)]['time_length']) / (end_time - start_time)\n"
     ]
    },
    {
     "name": "stdout",
     "output_type": "stream",
     "text": [
      "17491\n",
      "17505\n",
      "17506\n",
      "17522\n",
      "17528\n",
      "17530\n",
      "17565\n",
      "17569\n",
      "17570\n",
      "17578\n",
      "17584\n",
      "17598\n",
      "17603\n",
      "17604\n",
      "17606\n",
      "17617\n"
     ]
    },
    {
     "name": "stderr",
     "output_type": "stream",
     "text": [
      "/Users/vladimir.levin/Yandex.Disk.localized/01_Documents/01_Study/0_LUX/01_PhD/Drafts/Project3/kaggle_volatility/support_file.py:1675: RuntimeWarning: invalid value encountered in true_divide\n",
      "  w_ask = np.sum(df_book[(start_time <= df_book['seconds_in_bucket']) & (df_book['seconds_in_bucket'] < end_time)]['ask_price1'] * df_book[(start_time <= df_book['seconds_in_bucket']) & (df_book['seconds_in_bucket'] < end_time)]['time_length']) / (end_time - start_time)\n",
      "/Users/vladimir.levin/Yandex.Disk.localized/01_Documents/01_Study/0_LUX/01_PhD/Drafts/Project3/kaggle_volatility/support_file.py:1676: RuntimeWarning: invalid value encountered in true_divide\n",
      "  w_bid = np.sum(df_book[(start_time <= df_book['seconds_in_bucket']) & (df_book['seconds_in_bucket'] < end_time)]['bid_price1'] * df_book[(start_time <= df_book['seconds_in_bucket']) & (df_book['seconds_in_bucket'] < end_time)]['time_length']) / (end_time - start_time)\n"
     ]
    },
    {
     "name": "stdout",
     "output_type": "stream",
     "text": [
      "17626\n",
      "17634\n",
      "17639\n",
      "17643\n"
     ]
    },
    {
     "name": "stderr",
     "output_type": "stream",
     "text": [
      "/Users/vladimir.levin/Yandex.Disk.localized/01_Documents/01_Study/0_LUX/01_PhD/Drafts/Project3/kaggle_volatility/support_file.py:1675: RuntimeWarning: invalid value encountered in true_divide\n",
      "  w_ask = np.sum(df_book[(start_time <= df_book['seconds_in_bucket']) & (df_book['seconds_in_bucket'] < end_time)]['ask_price1'] * df_book[(start_time <= df_book['seconds_in_bucket']) & (df_book['seconds_in_bucket'] < end_time)]['time_length']) / (end_time - start_time)\n",
      "/Users/vladimir.levin/Yandex.Disk.localized/01_Documents/01_Study/0_LUX/01_PhD/Drafts/Project3/kaggle_volatility/support_file.py:1676: RuntimeWarning: invalid value encountered in true_divide\n",
      "  w_bid = np.sum(df_book[(start_time <= df_book['seconds_in_bucket']) & (df_book['seconds_in_bucket'] < end_time)]['bid_price1'] * df_book[(start_time <= df_book['seconds_in_bucket']) & (df_book['seconds_in_bucket'] < end_time)]['time_length']) / (end_time - start_time)\n"
     ]
    },
    {
     "name": "stdout",
     "output_type": "stream",
     "text": [
      "17644\n",
      "17670\n",
      "17672\n",
      "17676\n",
      "17695\n",
      "17698\n",
      "17707\n",
      "17708\n"
     ]
    },
    {
     "name": "stderr",
     "output_type": "stream",
     "text": [
      "/Users/vladimir.levin/Yandex.Disk.localized/01_Documents/01_Study/0_LUX/01_PhD/Drafts/Project3/kaggle_volatility/support_file.py:1675: RuntimeWarning: invalid value encountered in true_divide\n",
      "  w_ask = np.sum(df_book[(start_time <= df_book['seconds_in_bucket']) & (df_book['seconds_in_bucket'] < end_time)]['ask_price1'] * df_book[(start_time <= df_book['seconds_in_bucket']) & (df_book['seconds_in_bucket'] < end_time)]['time_length']) / (end_time - start_time)\n",
      "/Users/vladimir.levin/Yandex.Disk.localized/01_Documents/01_Study/0_LUX/01_PhD/Drafts/Project3/kaggle_volatility/support_file.py:1676: RuntimeWarning: invalid value encountered in true_divide\n",
      "  w_bid = np.sum(df_book[(start_time <= df_book['seconds_in_bucket']) & (df_book['seconds_in_bucket'] < end_time)]['bid_price1'] * df_book[(start_time <= df_book['seconds_in_bucket']) & (df_book['seconds_in_bucket'] < end_time)]['time_length']) / (end_time - start_time)\n"
     ]
    },
    {
     "name": "stdout",
     "output_type": "stream",
     "text": [
      "17727\n",
      "17762\n",
      "17777\n",
      "17785\n",
      "17791\n",
      "17804\n",
      "17809\n",
      "17813\n",
      "17820\n",
      "17823\n",
      "17825\n"
     ]
    },
    {
     "name": "stderr",
     "output_type": "stream",
     "text": [
      "/Users/vladimir.levin/Yandex.Disk.localized/01_Documents/01_Study/0_LUX/01_PhD/Drafts/Project3/kaggle_volatility/support_file.py:1675: RuntimeWarning: invalid value encountered in true_divide\n",
      "  w_ask = np.sum(df_book[(start_time <= df_book['seconds_in_bucket']) & (df_book['seconds_in_bucket'] < end_time)]['ask_price1'] * df_book[(start_time <= df_book['seconds_in_bucket']) & (df_book['seconds_in_bucket'] < end_time)]['time_length']) / (end_time - start_time)\n",
      "/Users/vladimir.levin/Yandex.Disk.localized/01_Documents/01_Study/0_LUX/01_PhD/Drafts/Project3/kaggle_volatility/support_file.py:1676: RuntimeWarning: invalid value encountered in true_divide\n",
      "  w_bid = np.sum(df_book[(start_time <= df_book['seconds_in_bucket']) & (df_book['seconds_in_bucket'] < end_time)]['bid_price1'] * df_book[(start_time <= df_book['seconds_in_bucket']) & (df_book['seconds_in_bucket'] < end_time)]['time_length']) / (end_time - start_time)\n"
     ]
    },
    {
     "name": "stdout",
     "output_type": "stream",
     "text": [
      "17832\n",
      "17837\n",
      "17838\n"
     ]
    },
    {
     "name": "stderr",
     "output_type": "stream",
     "text": [
      "/Users/vladimir.levin/Yandex.Disk.localized/01_Documents/01_Study/0_LUX/01_PhD/Drafts/Project3/kaggle_volatility/support_file.py:1675: RuntimeWarning: invalid value encountered in true_divide\n",
      "  w_ask = np.sum(df_book[(start_time <= df_book['seconds_in_bucket']) & (df_book['seconds_in_bucket'] < end_time)]['ask_price1'] * df_book[(start_time <= df_book['seconds_in_bucket']) & (df_book['seconds_in_bucket'] < end_time)]['time_length']) / (end_time - start_time)\n",
      "/Users/vladimir.levin/Yandex.Disk.localized/01_Documents/01_Study/0_LUX/01_PhD/Drafts/Project3/kaggle_volatility/support_file.py:1676: RuntimeWarning: invalid value encountered in true_divide\n",
      "  w_bid = np.sum(df_book[(start_time <= df_book['seconds_in_bucket']) & (df_book['seconds_in_bucket'] < end_time)]['bid_price1'] * df_book[(start_time <= df_book['seconds_in_bucket']) & (df_book['seconds_in_bucket'] < end_time)]['time_length']) / (end_time - start_time)\n",
      "/Users/vladimir.levin/Yandex.Disk.localized/01_Documents/01_Study/0_LUX/01_PhD/Drafts/Project3/kaggle_volatility/support_file.py:1675: RuntimeWarning: invalid value encountered in true_divide\n",
      "  w_ask = np.sum(df_book[(start_time <= df_book['seconds_in_bucket']) & (df_book['seconds_in_bucket'] < end_time)]['ask_price1'] * df_book[(start_time <= df_book['seconds_in_bucket']) & (df_book['seconds_in_bucket'] < end_time)]['time_length']) / (end_time - start_time)\n",
      "/Users/vladimir.levin/Yandex.Disk.localized/01_Documents/01_Study/0_LUX/01_PhD/Drafts/Project3/kaggle_volatility/support_file.py:1676: RuntimeWarning: invalid value encountered in true_divide\n",
      "  w_bid = np.sum(df_book[(start_time <= df_book['seconds_in_bucket']) & (df_book['seconds_in_bucket'] < end_time)]['bid_price1'] * df_book[(start_time <= df_book['seconds_in_bucket']) & (df_book['seconds_in_bucket'] < end_time)]['time_length']) / (end_time - start_time)\n"
     ]
    },
    {
     "name": "stdout",
     "output_type": "stream",
     "text": [
      "17841\n"
     ]
    },
    {
     "name": "stderr",
     "output_type": "stream",
     "text": [
      "/Users/vladimir.levin/Yandex.Disk.localized/01_Documents/01_Study/0_LUX/01_PhD/Drafts/Project3/kaggle_volatility/support_file.py:1675: RuntimeWarning: invalid value encountered in true_divide\n",
      "  w_ask = np.sum(df_book[(start_time <= df_book['seconds_in_bucket']) & (df_book['seconds_in_bucket'] < end_time)]['ask_price1'] * df_book[(start_time <= df_book['seconds_in_bucket']) & (df_book['seconds_in_bucket'] < end_time)]['time_length']) / (end_time - start_time)\n",
      "/Users/vladimir.levin/Yandex.Disk.localized/01_Documents/01_Study/0_LUX/01_PhD/Drafts/Project3/kaggle_volatility/support_file.py:1676: RuntimeWarning: invalid value encountered in true_divide\n",
      "  w_bid = np.sum(df_book[(start_time <= df_book['seconds_in_bucket']) & (df_book['seconds_in_bucket'] < end_time)]['bid_price1'] * df_book[(start_time <= df_book['seconds_in_bucket']) & (df_book['seconds_in_bucket'] < end_time)]['time_length']) / (end_time - start_time)\n",
      "/Users/vladimir.levin/Yandex.Disk.localized/01_Documents/01_Study/0_LUX/01_PhD/Drafts/Project3/kaggle_volatility/support_file.py:1675: RuntimeWarning: invalid value encountered in true_divide\n",
      "  w_ask = np.sum(df_book[(start_time <= df_book['seconds_in_bucket']) & (df_book['seconds_in_bucket'] < end_time)]['ask_price1'] * df_book[(start_time <= df_book['seconds_in_bucket']) & (df_book['seconds_in_bucket'] < end_time)]['time_length']) / (end_time - start_time)\n",
      "/Users/vladimir.levin/Yandex.Disk.localized/01_Documents/01_Study/0_LUX/01_PhD/Drafts/Project3/kaggle_volatility/support_file.py:1676: RuntimeWarning: invalid value encountered in true_divide\n",
      "  w_bid = np.sum(df_book[(start_time <= df_book['seconds_in_bucket']) & (df_book['seconds_in_bucket'] < end_time)]['bid_price1'] * df_book[(start_time <= df_book['seconds_in_bucket']) & (df_book['seconds_in_bucket'] < end_time)]['time_length']) / (end_time - start_time)\n"
     ]
    },
    {
     "name": "stdout",
     "output_type": "stream",
     "text": [
      "17852\n",
      "17870\n",
      "17872\n",
      "17875\n",
      "17876\n",
      "17885"
     ]
    },
    {
     "name": "stderr",
     "output_type": "stream",
     "text": [
      "/Users/vladimir.levin/Yandex.Disk.localized/01_Documents/01_Study/0_LUX/01_PhD/Drafts/Project3/kaggle_volatility/support_file.py:1675: RuntimeWarning: invalid value encountered in true_divide\n",
      "  w_ask = np.sum(df_book[(start_time <= df_book['seconds_in_bucket']) & (df_book['seconds_in_bucket'] < end_time)]['ask_price1'] * df_book[(start_time <= df_book['seconds_in_bucket']) & (df_book['seconds_in_bucket'] < end_time)]['time_length']) / (end_time - start_time)\n",
      "/Users/vladimir.levin/Yandex.Disk.localized/01_Documents/01_Study/0_LUX/01_PhD/Drafts/Project3/kaggle_volatility/support_file.py:1676: RuntimeWarning: invalid value encountered in true_divide\n",
      "  w_bid = np.sum(df_book[(start_time <= df_book['seconds_in_bucket']) & (df_book['seconds_in_bucket'] < end_time)]['bid_price1'] * df_book[(start_time <= df_book['seconds_in_bucket']) & (df_book['seconds_in_bucket'] < end_time)]['time_length']) / (end_time - start_time)\n",
      "/Users/vladimir.levin/Yandex.Disk.localized/01_Documents/01_Study/0_LUX/01_PhD/Drafts/Project3/kaggle_volatility/support_file.py:1675: RuntimeWarning: invalid value encountered in true_divide\n",
      "  w_ask = np.sum(df_book[(start_time <= df_book['seconds_in_bucket']) & (df_book['seconds_in_bucket'] < end_time)]['ask_price1'] * df_book[(start_time <= df_book['seconds_in_bucket']) & (df_book['seconds_in_bucket'] < end_time)]['time_length']) / (end_time - start_time)\n",
      "/Users/vladimir.levin/Yandex.Disk.localized/01_Documents/01_Study/0_LUX/01_PhD/Drafts/Project3/kaggle_volatility/support_file.py:1676: RuntimeWarning: invalid value encountered in true_divide\n",
      "  w_bid = np.sum(df_book[(start_time <= df_book['seconds_in_bucket']) & (df_book['seconds_in_bucket'] < end_time)]['bid_price1'] * df_book[(start_time <= df_book['seconds_in_bucket']) & (df_book['seconds_in_bucket'] < end_time)]['time_length']) / (end_time - start_time)\n"
     ]
    },
    {
     "name": "stdout",
     "output_type": "stream",
     "text": [
      "\n",
      "17888\n",
      "17903\n",
      "17911\n",
      "17914\n",
      "17946\n",
      "17949\n",
      "17951\n"
     ]
    },
    {
     "name": "stderr",
     "output_type": "stream",
     "text": [
      "/Users/vladimir.levin/Yandex.Disk.localized/01_Documents/01_Study/0_LUX/01_PhD/Drafts/Project3/kaggle_volatility/support_file.py:1675: RuntimeWarning: invalid value encountered in true_divide\n",
      "  w_ask = np.sum(df_book[(start_time <= df_book['seconds_in_bucket']) & (df_book['seconds_in_bucket'] < end_time)]['ask_price1'] * df_book[(start_time <= df_book['seconds_in_bucket']) & (df_book['seconds_in_bucket'] < end_time)]['time_length']) / (end_time - start_time)\n",
      "/Users/vladimir.levin/Yandex.Disk.localized/01_Documents/01_Study/0_LUX/01_PhD/Drafts/Project3/kaggle_volatility/support_file.py:1676: RuntimeWarning: invalid value encountered in true_divide\n",
      "  w_bid = np.sum(df_book[(start_time <= df_book['seconds_in_bucket']) & (df_book['seconds_in_bucket'] < end_time)]['bid_price1'] * df_book[(start_time <= df_book['seconds_in_bucket']) & (df_book['seconds_in_bucket'] < end_time)]['time_length']) / (end_time - start_time)\n"
     ]
    },
    {
     "name": "stdout",
     "output_type": "stream",
     "text": [
      "17955\n",
      "17957\n",
      "17966\n",
      "17967\n",
      "17971\n",
      "17973\n",
      "17975\n",
      "17983\n",
      "17987\n",
      "17989\n",
      "17999\n"
     ]
    },
    {
     "name": "stderr",
     "output_type": "stream",
     "text": [
      "/Users/vladimir.levin/Yandex.Disk.localized/01_Documents/01_Study/0_LUX/01_PhD/Drafts/Project3/kaggle_volatility/support_file.py:1675: RuntimeWarning: invalid value encountered in true_divide\n",
      "  w_ask = np.sum(df_book[(start_time <= df_book['seconds_in_bucket']) & (df_book['seconds_in_bucket'] < end_time)]['ask_price1'] * df_book[(start_time <= df_book['seconds_in_bucket']) & (df_book['seconds_in_bucket'] < end_time)]['time_length']) / (end_time - start_time)\n",
      "/Users/vladimir.levin/Yandex.Disk.localized/01_Documents/01_Study/0_LUX/01_PhD/Drafts/Project3/kaggle_volatility/support_file.py:1676: RuntimeWarning: invalid value encountered in true_divide\n",
      "  w_bid = np.sum(df_book[(start_time <= df_book['seconds_in_bucket']) & (df_book['seconds_in_bucket'] < end_time)]['bid_price1'] * df_book[(start_time <= df_book['seconds_in_bucket']) & (df_book['seconds_in_bucket'] < end_time)]['time_length']) / (end_time - start_time)\n"
     ]
    },
    {
     "name": "stdout",
     "output_type": "stream",
     "text": [
      "18000\n",
      "18007\n",
      "18012\n",
      "18020\n",
      "18023\n"
     ]
    },
    {
     "name": "stderr",
     "output_type": "stream",
     "text": [
      "/Users/vladimir.levin/Yandex.Disk.localized/01_Documents/01_Study/0_LUX/01_PhD/Drafts/Project3/kaggle_volatility/support_file.py:1675: RuntimeWarning: invalid value encountered in true_divide\n",
      "  w_ask = np.sum(df_book[(start_time <= df_book['seconds_in_bucket']) & (df_book['seconds_in_bucket'] < end_time)]['ask_price1'] * df_book[(start_time <= df_book['seconds_in_bucket']) & (df_book['seconds_in_bucket'] < end_time)]['time_length']) / (end_time - start_time)\n",
      "/Users/vladimir.levin/Yandex.Disk.localized/01_Documents/01_Study/0_LUX/01_PhD/Drafts/Project3/kaggle_volatility/support_file.py:1676: RuntimeWarning: invalid value encountered in true_divide\n",
      "  w_bid = np.sum(df_book[(start_time <= df_book['seconds_in_bucket']) & (df_book['seconds_in_bucket'] < end_time)]['bid_price1'] * df_book[(start_time <= df_book['seconds_in_bucket']) & (df_book['seconds_in_bucket'] < end_time)]['time_length']) / (end_time - start_time)\n"
     ]
    },
    {
     "name": "stdout",
     "output_type": "stream",
     "text": [
      "18029\n",
      "18042\n",
      "18059\n",
      "18072\n",
      "18077\n",
      "18082\n",
      "18088\n",
      "18109\n"
     ]
    },
    {
     "name": "stderr",
     "output_type": "stream",
     "text": [
      "/Users/vladimir.levin/Yandex.Disk.localized/01_Documents/01_Study/0_LUX/01_PhD/Drafts/Project3/kaggle_volatility/support_file.py:1675: RuntimeWarning: invalid value encountered in true_divide\n",
      "  w_ask = np.sum(df_book[(start_time <= df_book['seconds_in_bucket']) & (df_book['seconds_in_bucket'] < end_time)]['ask_price1'] * df_book[(start_time <= df_book['seconds_in_bucket']) & (df_book['seconds_in_bucket'] < end_time)]['time_length']) / (end_time - start_time)\n",
      "/Users/vladimir.levin/Yandex.Disk.localized/01_Documents/01_Study/0_LUX/01_PhD/Drafts/Project3/kaggle_volatility/support_file.py:1676: RuntimeWarning: invalid value encountered in true_divide\n",
      "  w_bid = np.sum(df_book[(start_time <= df_book['seconds_in_bucket']) & (df_book['seconds_in_bucket'] < end_time)]['bid_price1'] * df_book[(start_time <= df_book['seconds_in_bucket']) & (df_book['seconds_in_bucket'] < end_time)]['time_length']) / (end_time - start_time)\n"
     ]
    },
    {
     "name": "stdout",
     "output_type": "stream",
     "text": [
      "18111\n",
      "18129\n",
      "18134\n",
      "18141\n",
      "18142\n",
      "18147\n"
     ]
    },
    {
     "name": "stderr",
     "output_type": "stream",
     "text": [
      "/Users/vladimir.levin/Yandex.Disk.localized/01_Documents/01_Study/0_LUX/01_PhD/Drafts/Project3/kaggle_volatility/support_file.py:1675: RuntimeWarning: invalid value encountered in true_divide\n",
      "  w_ask = np.sum(df_book[(start_time <= df_book['seconds_in_bucket']) & (df_book['seconds_in_bucket'] < end_time)]['ask_price1'] * df_book[(start_time <= df_book['seconds_in_bucket']) & (df_book['seconds_in_bucket'] < end_time)]['time_length']) / (end_time - start_time)\n",
      "/Users/vladimir.levin/Yandex.Disk.localized/01_Documents/01_Study/0_LUX/01_PhD/Drafts/Project3/kaggle_volatility/support_file.py:1676: RuntimeWarning: invalid value encountered in true_divide\n",
      "  w_bid = np.sum(df_book[(start_time <= df_book['seconds_in_bucket']) & (df_book['seconds_in_bucket'] < end_time)]['bid_price1'] * df_book[(start_time <= df_book['seconds_in_bucket']) & (df_book['seconds_in_bucket'] < end_time)]['time_length']) / (end_time - start_time)\n"
     ]
    },
    {
     "name": "stdout",
     "output_type": "stream",
     "text": [
      "18170\n",
      "18174\n",
      "18177\n",
      "18178\n",
      "18180\n",
      "18184\n",
      "18200\n"
     ]
    },
    {
     "name": "stderr",
     "output_type": "stream",
     "text": [
      "/Users/vladimir.levin/Yandex.Disk.localized/01_Documents/01_Study/0_LUX/01_PhD/Drafts/Project3/kaggle_volatility/support_file.py:1675: RuntimeWarning: invalid value encountered in true_divide\n",
      "  w_ask = np.sum(df_book[(start_time <= df_book['seconds_in_bucket']) & (df_book['seconds_in_bucket'] < end_time)]['ask_price1'] * df_book[(start_time <= df_book['seconds_in_bucket']) & (df_book['seconds_in_bucket'] < end_time)]['time_length']) / (end_time - start_time)\n",
      "/Users/vladimir.levin/Yandex.Disk.localized/01_Documents/01_Study/0_LUX/01_PhD/Drafts/Project3/kaggle_volatility/support_file.py:1676: RuntimeWarning: invalid value encountered in true_divide\n",
      "  w_bid = np.sum(df_book[(start_time <= df_book['seconds_in_bucket']) & (df_book['seconds_in_bucket'] < end_time)]['bid_price1'] * df_book[(start_time <= df_book['seconds_in_bucket']) & (df_book['seconds_in_bucket'] < end_time)]['time_length']) / (end_time - start_time)\n",
      "/Users/vladimir.levin/Yandex.Disk.localized/01_Documents/01_Study/0_LUX/01_PhD/Drafts/Project3/kaggle_volatility/support_file.py:1675: RuntimeWarning: invalid value encountered in true_divide\n",
      "  w_ask = np.sum(df_book[(start_time <= df_book['seconds_in_bucket']) & (df_book['seconds_in_bucket'] < end_time)]['ask_price1'] * df_book[(start_time <= df_book['seconds_in_bucket']) & (df_book['seconds_in_bucket'] < end_time)]['time_length']) / (end_time - start_time)\n",
      "/Users/vladimir.levin/Yandex.Disk.localized/01_Documents/01_Study/0_LUX/01_PhD/Drafts/Project3/kaggle_volatility/support_file.py:1676: RuntimeWarning: invalid value encountered in true_divide\n",
      "  w_bid = np.sum(df_book[(start_time <= df_book['seconds_in_bucket']) & (df_book['seconds_in_bucket'] < end_time)]['bid_price1'] * df_book[(start_time <= df_book['seconds_in_bucket']) & (df_book['seconds_in_bucket'] < end_time)]['time_length']) / (end_time - start_time)\n"
     ]
    },
    {
     "name": "stdout",
     "output_type": "stream",
     "text": [
      "18203\n",
      "18205\n",
      "18212\n",
      "18216\n"
     ]
    },
    {
     "name": "stderr",
     "output_type": "stream",
     "text": [
      "/Users/vladimir.levin/Yandex.Disk.localized/01_Documents/01_Study/0_LUX/01_PhD/Drafts/Project3/kaggle_volatility/support_file.py:1675: RuntimeWarning: invalid value encountered in true_divide\n",
      "  w_ask = np.sum(df_book[(start_time <= df_book['seconds_in_bucket']) & (df_book['seconds_in_bucket'] < end_time)]['ask_price1'] * df_book[(start_time <= df_book['seconds_in_bucket']) & (df_book['seconds_in_bucket'] < end_time)]['time_length']) / (end_time - start_time)\n",
      "/Users/vladimir.levin/Yandex.Disk.localized/01_Documents/01_Study/0_LUX/01_PhD/Drafts/Project3/kaggle_volatility/support_file.py:1676: RuntimeWarning: invalid value encountered in true_divide\n",
      "  w_bid = np.sum(df_book[(start_time <= df_book['seconds_in_bucket']) & (df_book['seconds_in_bucket'] < end_time)]['bid_price1'] * df_book[(start_time <= df_book['seconds_in_bucket']) & (df_book['seconds_in_bucket'] < end_time)]['time_length']) / (end_time - start_time)\n"
     ]
    },
    {
     "name": "stdout",
     "output_type": "stream",
     "text": [
      "18218\n",
      "18220\n",
      "18222\n",
      "18224\n",
      "18231\n",
      "18234\n",
      "18236\n",
      "18242\n",
      "18247\n",
      "18262\n",
      "18285\n"
     ]
    },
    {
     "name": "stderr",
     "output_type": "stream",
     "text": [
      "/Users/vladimir.levin/Yandex.Disk.localized/01_Documents/01_Study/0_LUX/01_PhD/Drafts/Project3/kaggle_volatility/support_file.py:1675: RuntimeWarning: invalid value encountered in true_divide\n",
      "  w_ask = np.sum(df_book[(start_time <= df_book['seconds_in_bucket']) & (df_book['seconds_in_bucket'] < end_time)]['ask_price1'] * df_book[(start_time <= df_book['seconds_in_bucket']) & (df_book['seconds_in_bucket'] < end_time)]['time_length']) / (end_time - start_time)\n",
      "/Users/vladimir.levin/Yandex.Disk.localized/01_Documents/01_Study/0_LUX/01_PhD/Drafts/Project3/kaggle_volatility/support_file.py:1676: RuntimeWarning: invalid value encountered in true_divide\n",
      "  w_bid = np.sum(df_book[(start_time <= df_book['seconds_in_bucket']) & (df_book['seconds_in_bucket'] < end_time)]['bid_price1'] * df_book[(start_time <= df_book['seconds_in_bucket']) & (df_book['seconds_in_bucket'] < end_time)]['time_length']) / (end_time - start_time)\n",
      "/Users/vladimir.levin/Yandex.Disk.localized/01_Documents/01_Study/0_LUX/01_PhD/Drafts/Project3/kaggle_volatility/support_file.py:1675: RuntimeWarning: invalid value encountered in true_divide\n",
      "  w_ask = np.sum(df_book[(start_time <= df_book['seconds_in_bucket']) & (df_book['seconds_in_bucket'] < end_time)]['ask_price1'] * df_book[(start_time <= df_book['seconds_in_bucket']) & (df_book['seconds_in_bucket'] < end_time)]['time_length']) / (end_time - start_time)\n",
      "/Users/vladimir.levin/Yandex.Disk.localized/01_Documents/01_Study/0_LUX/01_PhD/Drafts/Project3/kaggle_volatility/support_file.py:1676: RuntimeWarning: invalid value encountered in true_divide\n",
      "  w_bid = np.sum(df_book[(start_time <= df_book['seconds_in_bucket']) & (df_book['seconds_in_bucket'] < end_time)]['bid_price1'] * df_book[(start_time <= df_book['seconds_in_bucket']) & (df_book['seconds_in_bucket'] < end_time)]['time_length']) / (end_time - start_time)\n"
     ]
    },
    {
     "name": "stdout",
     "output_type": "stream",
     "text": [
      "18316\n",
      "18351\n",
      "18358\n",
      "18371\n",
      "18392\n"
     ]
    },
    {
     "name": "stderr",
     "output_type": "stream",
     "text": [
      "/Users/vladimir.levin/Yandex.Disk.localized/01_Documents/01_Study/0_LUX/01_PhD/Drafts/Project3/kaggle_volatility/support_file.py:1675: RuntimeWarning: invalid value encountered in true_divide\n",
      "  w_ask = np.sum(df_book[(start_time <= df_book['seconds_in_bucket']) & (df_book['seconds_in_bucket'] < end_time)]['ask_price1'] * df_book[(start_time <= df_book['seconds_in_bucket']) & (df_book['seconds_in_bucket'] < end_time)]['time_length']) / (end_time - start_time)\n",
      "/Users/vladimir.levin/Yandex.Disk.localized/01_Documents/01_Study/0_LUX/01_PhD/Drafts/Project3/kaggle_volatility/support_file.py:1676: RuntimeWarning: invalid value encountered in true_divide\n",
      "  w_bid = np.sum(df_book[(start_time <= df_book['seconds_in_bucket']) & (df_book['seconds_in_bucket'] < end_time)]['bid_price1'] * df_book[(start_time <= df_book['seconds_in_bucket']) & (df_book['seconds_in_bucket'] < end_time)]['time_length']) / (end_time - start_time)\n"
     ]
    },
    {
     "name": "stdout",
     "output_type": "stream",
     "text": [
      "18393\n",
      "18400\n",
      "18402\n",
      "18407\n",
      "18425\n",
      "18427\n",
      "18430\n",
      "18445\n",
      "18447\n",
      "18471\n",
      "18479\n",
      "18483\n",
      "18491\n"
     ]
    },
    {
     "name": "stderr",
     "output_type": "stream",
     "text": [
      "/Users/vladimir.levin/Yandex.Disk.localized/01_Documents/01_Study/0_LUX/01_PhD/Drafts/Project3/kaggle_volatility/support_file.py:1675: RuntimeWarning: invalid value encountered in true_divide\n",
      "  w_ask = np.sum(df_book[(start_time <= df_book['seconds_in_bucket']) & (df_book['seconds_in_bucket'] < end_time)]['ask_price1'] * df_book[(start_time <= df_book['seconds_in_bucket']) & (df_book['seconds_in_bucket'] < end_time)]['time_length']) / (end_time - start_time)\n",
      "/Users/vladimir.levin/Yandex.Disk.localized/01_Documents/01_Study/0_LUX/01_PhD/Drafts/Project3/kaggle_volatility/support_file.py:1676: RuntimeWarning: invalid value encountered in true_divide\n",
      "  w_bid = np.sum(df_book[(start_time <= df_book['seconds_in_bucket']) & (df_book['seconds_in_bucket'] < end_time)]['bid_price1'] * df_book[(start_time <= df_book['seconds_in_bucket']) & (df_book['seconds_in_bucket'] < end_time)]['time_length']) / (end_time - start_time)\n"
     ]
    },
    {
     "name": "stdout",
     "output_type": "stream",
     "text": [
      "18494\n",
      "18495\n",
      "18498\n",
      "18500\n",
      "18502\n"
     ]
    },
    {
     "name": "stderr",
     "output_type": "stream",
     "text": [
      "/Users/vladimir.levin/Yandex.Disk.localized/01_Documents/01_Study/0_LUX/01_PhD/Drafts/Project3/kaggle_volatility/support_file.py:1675: RuntimeWarning: invalid value encountered in true_divide\n",
      "  w_ask = np.sum(df_book[(start_time <= df_book['seconds_in_bucket']) & (df_book['seconds_in_bucket'] < end_time)]['ask_price1'] * df_book[(start_time <= df_book['seconds_in_bucket']) & (df_book['seconds_in_bucket'] < end_time)]['time_length']) / (end_time - start_time)\n",
      "/Users/vladimir.levin/Yandex.Disk.localized/01_Documents/01_Study/0_LUX/01_PhD/Drafts/Project3/kaggle_volatility/support_file.py:1676: RuntimeWarning: invalid value encountered in true_divide\n",
      "  w_bid = np.sum(df_book[(start_time <= df_book['seconds_in_bucket']) & (df_book['seconds_in_bucket'] < end_time)]['bid_price1'] * df_book[(start_time <= df_book['seconds_in_bucket']) & (df_book['seconds_in_bucket'] < end_time)]['time_length']) / (end_time - start_time)\n"
     ]
    },
    {
     "name": "stdout",
     "output_type": "stream",
     "text": [
      "18507\n",
      "18509\n",
      "18514\n",
      "18534\n",
      "18545\n",
      "18560\n",
      "18565\n",
      "18567\n",
      "18582\n",
      "18586\n",
      "18587\n"
     ]
    },
    {
     "name": "stderr",
     "output_type": "stream",
     "text": [
      "/Users/vladimir.levin/Yandex.Disk.localized/01_Documents/01_Study/0_LUX/01_PhD/Drafts/Project3/kaggle_volatility/support_file.py:1675: RuntimeWarning: invalid value encountered in true_divide\n",
      "  w_ask = np.sum(df_book[(start_time <= df_book['seconds_in_bucket']) & (df_book['seconds_in_bucket'] < end_time)]['ask_price1'] * df_book[(start_time <= df_book['seconds_in_bucket']) & (df_book['seconds_in_bucket'] < end_time)]['time_length']) / (end_time - start_time)\n",
      "/Users/vladimir.levin/Yandex.Disk.localized/01_Documents/01_Study/0_LUX/01_PhD/Drafts/Project3/kaggle_volatility/support_file.py:1676: RuntimeWarning: invalid value encountered in true_divide\n",
      "  w_bid = np.sum(df_book[(start_time <= df_book['seconds_in_bucket']) & (df_book['seconds_in_bucket'] < end_time)]['bid_price1'] * df_book[(start_time <= df_book['seconds_in_bucket']) & (df_book['seconds_in_bucket'] < end_time)]['time_length']) / (end_time - start_time)\n"
     ]
    },
    {
     "name": "stdout",
     "output_type": "stream",
     "text": [
      "18595\n",
      "18597\n",
      "18600\n",
      "18611\n",
      "18628\n",
      "18629\n",
      "18634\n",
      "18640\n",
      "18653\n",
      "18656\n",
      "18662\n",
      "18682\n",
      "18692\n",
      "18701\n",
      "18703\n",
      "18728\n",
      "18739\n",
      "18742\n",
      "18748\n",
      "18764\n",
      "18766\n",
      "18792\n",
      "18794\n"
     ]
    },
    {
     "name": "stderr",
     "output_type": "stream",
     "text": [
      "/Users/vladimir.levin/Yandex.Disk.localized/01_Documents/01_Study/0_LUX/01_PhD/Drafts/Project3/kaggle_volatility/support_file.py:1675: RuntimeWarning: invalid value encountered in true_divide\n",
      "  w_ask = np.sum(df_book[(start_time <= df_book['seconds_in_bucket']) & (df_book['seconds_in_bucket'] < end_time)]['ask_price1'] * df_book[(start_time <= df_book['seconds_in_bucket']) & (df_book['seconds_in_bucket'] < end_time)]['time_length']) / (end_time - start_time)\n",
      "/Users/vladimir.levin/Yandex.Disk.localized/01_Documents/01_Study/0_LUX/01_PhD/Drafts/Project3/kaggle_volatility/support_file.py:1676: RuntimeWarning: invalid value encountered in true_divide\n",
      "  w_bid = np.sum(df_book[(start_time <= df_book['seconds_in_bucket']) & (df_book['seconds_in_bucket'] < end_time)]['bid_price1'] * df_book[(start_time <= df_book['seconds_in_bucket']) & (df_book['seconds_in_bucket'] < end_time)]['time_length']) / (end_time - start_time)\n"
     ]
    },
    {
     "name": "stdout",
     "output_type": "stream",
     "text": [
      "18808\n",
      "18822\n",
      "18831\n",
      "18836\n",
      "18844\n",
      "18848\n",
      "18865\n"
     ]
    },
    {
     "name": "stderr",
     "output_type": "stream",
     "text": [
      "/Users/vladimir.levin/Yandex.Disk.localized/01_Documents/01_Study/0_LUX/01_PhD/Drafts/Project3/kaggle_volatility/support_file.py:1675: RuntimeWarning: invalid value encountered in true_divide\n",
      "  w_ask = np.sum(df_book[(start_time <= df_book['seconds_in_bucket']) & (df_book['seconds_in_bucket'] < end_time)]['ask_price1'] * df_book[(start_time <= df_book['seconds_in_bucket']) & (df_book['seconds_in_bucket'] < end_time)]['time_length']) / (end_time - start_time)\n",
      "/Users/vladimir.levin/Yandex.Disk.localized/01_Documents/01_Study/0_LUX/01_PhD/Drafts/Project3/kaggle_volatility/support_file.py:1676: RuntimeWarning: invalid value encountered in true_divide\n",
      "  w_bid = np.sum(df_book[(start_time <= df_book['seconds_in_bucket']) & (df_book['seconds_in_bucket'] < end_time)]['bid_price1'] * df_book[(start_time <= df_book['seconds_in_bucket']) & (df_book['seconds_in_bucket'] < end_time)]['time_length']) / (end_time - start_time)\n"
     ]
    },
    {
     "name": "stdout",
     "output_type": "stream",
     "text": [
      "18878\n",
      "18908\n",
      "18911\n"
     ]
    },
    {
     "name": "stderr",
     "output_type": "stream",
     "text": [
      "/Users/vladimir.levin/Yandex.Disk.localized/01_Documents/01_Study/0_LUX/01_PhD/Drafts/Project3/kaggle_volatility/support_file.py:1675: RuntimeWarning: invalid value encountered in true_divide\n",
      "  w_ask = np.sum(df_book[(start_time <= df_book['seconds_in_bucket']) & (df_book['seconds_in_bucket'] < end_time)]['ask_price1'] * df_book[(start_time <= df_book['seconds_in_bucket']) & (df_book['seconds_in_bucket'] < end_time)]['time_length']) / (end_time - start_time)\n",
      "/Users/vladimir.levin/Yandex.Disk.localized/01_Documents/01_Study/0_LUX/01_PhD/Drafts/Project3/kaggle_volatility/support_file.py:1676: RuntimeWarning: invalid value encountered in true_divide\n",
      "  w_bid = np.sum(df_book[(start_time <= df_book['seconds_in_bucket']) & (df_book['seconds_in_bucket'] < end_time)]['bid_price1'] * df_book[(start_time <= df_book['seconds_in_bucket']) & (df_book['seconds_in_bucket'] < end_time)]['time_length']) / (end_time - start_time)\n"
     ]
    },
    {
     "name": "stdout",
     "output_type": "stream",
     "text": [
      "18912\n",
      "18916\n",
      "18919\n",
      "18928\n",
      "18932\n",
      "18940\n",
      "18944\n",
      "18949\n",
      "18955\n",
      "18956\n",
      "18959\n",
      "18960\n",
      "18967\n",
      "18972\n"
     ]
    },
    {
     "name": "stderr",
     "output_type": "stream",
     "text": [
      "/Users/vladimir.levin/Yandex.Disk.localized/01_Documents/01_Study/0_LUX/01_PhD/Drafts/Project3/kaggle_volatility/support_file.py:1675: RuntimeWarning: invalid value encountered in true_divide\n",
      "  w_ask = np.sum(df_book[(start_time <= df_book['seconds_in_bucket']) & (df_book['seconds_in_bucket'] < end_time)]['ask_price1'] * df_book[(start_time <= df_book['seconds_in_bucket']) & (df_book['seconds_in_bucket'] < end_time)]['time_length']) / (end_time - start_time)\n",
      "/Users/vladimir.levin/Yandex.Disk.localized/01_Documents/01_Study/0_LUX/01_PhD/Drafts/Project3/kaggle_volatility/support_file.py:1676: RuntimeWarning: invalid value encountered in true_divide\n",
      "  w_bid = np.sum(df_book[(start_time <= df_book['seconds_in_bucket']) & (df_book['seconds_in_bucket'] < end_time)]['bid_price1'] * df_book[(start_time <= df_book['seconds_in_bucket']) & (df_book['seconds_in_bucket'] < end_time)]['time_length']) / (end_time - start_time)\n"
     ]
    },
    {
     "name": "stdout",
     "output_type": "stream",
     "text": [
      "18993\n",
      "18996\n",
      "18999\n",
      "19033\n",
      "19034\n",
      "19050"
     ]
    },
    {
     "name": "stderr",
     "output_type": "stream",
     "text": [
      "/Users/vladimir.levin/Yandex.Disk.localized/01_Documents/01_Study/0_LUX/01_PhD/Drafts/Project3/kaggle_volatility/support_file.py:1675: RuntimeWarning: invalid value encountered in true_divide\n",
      "  w_ask = np.sum(df_book[(start_time <= df_book['seconds_in_bucket']) & (df_book['seconds_in_bucket'] < end_time)]['ask_price1'] * df_book[(start_time <= df_book['seconds_in_bucket']) & (df_book['seconds_in_bucket'] < end_time)]['time_length']) / (end_time - start_time)\n",
      "/Users/vladimir.levin/Yandex.Disk.localized/01_Documents/01_Study/0_LUX/01_PhD/Drafts/Project3/kaggle_volatility/support_file.py:1676: RuntimeWarning: invalid value encountered in true_divide\n",
      "  w_bid = np.sum(df_book[(start_time <= df_book['seconds_in_bucket']) & (df_book['seconds_in_bucket'] < end_time)]['bid_price1'] * df_book[(start_time <= df_book['seconds_in_bucket']) & (df_book['seconds_in_bucket'] < end_time)]['time_length']) / (end_time - start_time)\n",
      "/Users/vladimir.levin/Yandex.Disk.localized/01_Documents/01_Study/0_LUX/01_PhD/Drafts/Project3/kaggle_volatility/support_file.py:1675: RuntimeWarning: invalid value encountered in true_divide\n",
      "  w_ask = np.sum(df_book[(start_time <= df_book['seconds_in_bucket']) & (df_book['seconds_in_bucket'] < end_time)]['ask_price1'] * df_book[(start_time <= df_book['seconds_in_bucket']) & (df_book['seconds_in_bucket'] < end_time)]['time_length']) / (end_time - start_time)\n",
      "/Users/vladimir.levin/Yandex.Disk.localized/01_Documents/01_Study/0_LUX/01_PhD/Drafts/Project3/kaggle_volatility/support_file.py:1676: RuntimeWarning: invalid value encountered in true_divide\n",
      "  w_bid = np.sum(df_book[(start_time <= df_book['seconds_in_bucket']) & (df_book['seconds_in_bucket'] < end_time)]['bid_price1'] * df_book[(start_time <= df_book['seconds_in_bucket']) & (df_book['seconds_in_bucket'] < end_time)]['time_length']) / (end_time - start_time)\n"
     ]
    },
    {
     "name": "stdout",
     "output_type": "stream",
     "text": [
      "\n",
      "19053\n"
     ]
    },
    {
     "name": "stderr",
     "output_type": "stream",
     "text": [
      "/Users/vladimir.levin/Yandex.Disk.localized/01_Documents/01_Study/0_LUX/01_PhD/Drafts/Project3/kaggle_volatility/support_file.py:1675: RuntimeWarning: invalid value encountered in true_divide\n",
      "  w_ask = np.sum(df_book[(start_time <= df_book['seconds_in_bucket']) & (df_book['seconds_in_bucket'] < end_time)]['ask_price1'] * df_book[(start_time <= df_book['seconds_in_bucket']) & (df_book['seconds_in_bucket'] < end_time)]['time_length']) / (end_time - start_time)\n",
      "/Users/vladimir.levin/Yandex.Disk.localized/01_Documents/01_Study/0_LUX/01_PhD/Drafts/Project3/kaggle_volatility/support_file.py:1676: RuntimeWarning: invalid value encountered in true_divide\n",
      "  w_bid = np.sum(df_book[(start_time <= df_book['seconds_in_bucket']) & (df_book['seconds_in_bucket'] < end_time)]['bid_price1'] * df_book[(start_time <= df_book['seconds_in_bucket']) & (df_book['seconds_in_bucket'] < end_time)]['time_length']) / (end_time - start_time)\n",
      "/Users/vladimir.levin/Yandex.Disk.localized/01_Documents/01_Study/0_LUX/01_PhD/Drafts/Project3/kaggle_volatility/support_file.py:1675: RuntimeWarning: invalid value encountered in true_divide\n",
      "  w_ask = np.sum(df_book[(start_time <= df_book['seconds_in_bucket']) & (df_book['seconds_in_bucket'] < end_time)]['ask_price1'] * df_book[(start_time <= df_book['seconds_in_bucket']) & (df_book['seconds_in_bucket'] < end_time)]['time_length']) / (end_time - start_time)\n",
      "/Users/vladimir.levin/Yandex.Disk.localized/01_Documents/01_Study/0_LUX/01_PhD/Drafts/Project3/kaggle_volatility/support_file.py:1676: RuntimeWarning: invalid value encountered in true_divide\n",
      "  w_bid = np.sum(df_book[(start_time <= df_book['seconds_in_bucket']) & (df_book['seconds_in_bucket'] < end_time)]['bid_price1'] * df_book[(start_time <= df_book['seconds_in_bucket']) & (df_book['seconds_in_bucket'] < end_time)]['time_length']) / (end_time - start_time)\n"
     ]
    },
    {
     "name": "stdout",
     "output_type": "stream",
     "text": [
      "19062\n",
      "19065\n",
      "19068\n",
      "19072\n"
     ]
    },
    {
     "name": "stderr",
     "output_type": "stream",
     "text": [
      "/Users/vladimir.levin/Yandex.Disk.localized/01_Documents/01_Study/0_LUX/01_PhD/Drafts/Project3/kaggle_volatility/support_file.py:1675: RuntimeWarning: invalid value encountered in true_divide\n",
      "  w_ask = np.sum(df_book[(start_time <= df_book['seconds_in_bucket']) & (df_book['seconds_in_bucket'] < end_time)]['ask_price1'] * df_book[(start_time <= df_book['seconds_in_bucket']) & (df_book['seconds_in_bucket'] < end_time)]['time_length']) / (end_time - start_time)\n",
      "/Users/vladimir.levin/Yandex.Disk.localized/01_Documents/01_Study/0_LUX/01_PhD/Drafts/Project3/kaggle_volatility/support_file.py:1676: RuntimeWarning: invalid value encountered in true_divide\n",
      "  w_bid = np.sum(df_book[(start_time <= df_book['seconds_in_bucket']) & (df_book['seconds_in_bucket'] < end_time)]['bid_price1'] * df_book[(start_time <= df_book['seconds_in_bucket']) & (df_book['seconds_in_bucket'] < end_time)]['time_length']) / (end_time - start_time)\n"
     ]
    },
    {
     "name": "stdout",
     "output_type": "stream",
     "text": [
      "19090\n",
      "19104\n",
      "19136\n",
      "19147\n",
      "19148\n",
      "19154\n",
      "19155"
     ]
    },
    {
     "name": "stderr",
     "output_type": "stream",
     "text": [
      "/Users/vladimir.levin/Yandex.Disk.localized/01_Documents/01_Study/0_LUX/01_PhD/Drafts/Project3/kaggle_volatility/support_file.py:1675: RuntimeWarning: invalid value encountered in true_divide\n",
      "  w_ask = np.sum(df_book[(start_time <= df_book['seconds_in_bucket']) & (df_book['seconds_in_bucket'] < end_time)]['ask_price1'] * df_book[(start_time <= df_book['seconds_in_bucket']) & (df_book['seconds_in_bucket'] < end_time)]['time_length']) / (end_time - start_time)\n",
      "/Users/vladimir.levin/Yandex.Disk.localized/01_Documents/01_Study/0_LUX/01_PhD/Drafts/Project3/kaggle_volatility/support_file.py:1676: RuntimeWarning: invalid value encountered in true_divide\n",
      "  w_bid = np.sum(df_book[(start_time <= df_book['seconds_in_bucket']) & (df_book['seconds_in_bucket'] < end_time)]['bid_price1'] * df_book[(start_time <= df_book['seconds_in_bucket']) & (df_book['seconds_in_bucket'] < end_time)]['time_length']) / (end_time - start_time)\n",
      "/Users/vladimir.levin/Yandex.Disk.localized/01_Documents/01_Study/0_LUX/01_PhD/Drafts/Project3/kaggle_volatility/support_file.py:1675: RuntimeWarning: invalid value encountered in true_divide\n",
      "  w_ask = np.sum(df_book[(start_time <= df_book['seconds_in_bucket']) & (df_book['seconds_in_bucket'] < end_time)]['ask_price1'] * df_book[(start_time <= df_book['seconds_in_bucket']) & (df_book['seconds_in_bucket'] < end_time)]['time_length']) / (end_time - start_time)\n",
      "/Users/vladimir.levin/Yandex.Disk.localized/01_Documents/01_Study/0_LUX/01_PhD/Drafts/Project3/kaggle_volatility/support_file.py:1676: RuntimeWarning: invalid value encountered in true_divide\n",
      "  w_bid = np.sum(df_book[(start_time <= df_book['seconds_in_bucket']) & (df_book['seconds_in_bucket'] < end_time)]['bid_price1'] * df_book[(start_time <= df_book['seconds_in_bucket']) & (df_book['seconds_in_bucket'] < end_time)]['time_length']) / (end_time - start_time)\n"
     ]
    },
    {
     "name": "stdout",
     "output_type": "stream",
     "text": [
      "\n",
      "19157\n",
      "19164\n",
      "19176\n",
      "19180\n",
      "19204\n"
     ]
    },
    {
     "name": "stderr",
     "output_type": "stream",
     "text": [
      "/Users/vladimir.levin/Yandex.Disk.localized/01_Documents/01_Study/0_LUX/01_PhD/Drafts/Project3/kaggle_volatility/support_file.py:1675: RuntimeWarning: invalid value encountered in true_divide\n",
      "  w_ask = np.sum(df_book[(start_time <= df_book['seconds_in_bucket']) & (df_book['seconds_in_bucket'] < end_time)]['ask_price1'] * df_book[(start_time <= df_book['seconds_in_bucket']) & (df_book['seconds_in_bucket'] < end_time)]['time_length']) / (end_time - start_time)\n",
      "/Users/vladimir.levin/Yandex.Disk.localized/01_Documents/01_Study/0_LUX/01_PhD/Drafts/Project3/kaggle_volatility/support_file.py:1676: RuntimeWarning: invalid value encountered in true_divide\n",
      "  w_bid = np.sum(df_book[(start_time <= df_book['seconds_in_bucket']) & (df_book['seconds_in_bucket'] < end_time)]['bid_price1'] * df_book[(start_time <= df_book['seconds_in_bucket']) & (df_book['seconds_in_bucket'] < end_time)]['time_length']) / (end_time - start_time)\n"
     ]
    },
    {
     "name": "stdout",
     "output_type": "stream",
     "text": [
      "19222\n",
      "19226\n",
      "19230\n",
      "19234"
     ]
    },
    {
     "name": "stderr",
     "output_type": "stream",
     "text": [
      "/Users/vladimir.levin/Yandex.Disk.localized/01_Documents/01_Study/0_LUX/01_PhD/Drafts/Project3/kaggle_volatility/support_file.py:1675: RuntimeWarning: invalid value encountered in true_divide\n",
      "  w_ask = np.sum(df_book[(start_time <= df_book['seconds_in_bucket']) & (df_book['seconds_in_bucket'] < end_time)]['ask_price1'] * df_book[(start_time <= df_book['seconds_in_bucket']) & (df_book['seconds_in_bucket'] < end_time)]['time_length']) / (end_time - start_time)\n",
      "/Users/vladimir.levin/Yandex.Disk.localized/01_Documents/01_Study/0_LUX/01_PhD/Drafts/Project3/kaggle_volatility/support_file.py:1676: RuntimeWarning: invalid value encountered in true_divide\n",
      "  w_bid = np.sum(df_book[(start_time <= df_book['seconds_in_bucket']) & (df_book['seconds_in_bucket'] < end_time)]['bid_price1'] * df_book[(start_time <= df_book['seconds_in_bucket']) & (df_book['seconds_in_bucket'] < end_time)]['time_length']) / (end_time - start_time)\n"
     ]
    },
    {
     "name": "stdout",
     "output_type": "stream",
     "text": [
      "\n",
      "19240\n",
      "19255\n"
     ]
    },
    {
     "name": "stderr",
     "output_type": "stream",
     "text": [
      "/Users/vladimir.levin/Yandex.Disk.localized/01_Documents/01_Study/0_LUX/01_PhD/Drafts/Project3/kaggle_volatility/support_file.py:1675: RuntimeWarning: invalid value encountered in true_divide\n",
      "  w_ask = np.sum(df_book[(start_time <= df_book['seconds_in_bucket']) & (df_book['seconds_in_bucket'] < end_time)]['ask_price1'] * df_book[(start_time <= df_book['seconds_in_bucket']) & (df_book['seconds_in_bucket'] < end_time)]['time_length']) / (end_time - start_time)\n",
      "/Users/vladimir.levin/Yandex.Disk.localized/01_Documents/01_Study/0_LUX/01_PhD/Drafts/Project3/kaggle_volatility/support_file.py:1676: RuntimeWarning: invalid value encountered in true_divide\n",
      "  w_bid = np.sum(df_book[(start_time <= df_book['seconds_in_bucket']) & (df_book['seconds_in_bucket'] < end_time)]['bid_price1'] * df_book[(start_time <= df_book['seconds_in_bucket']) & (df_book['seconds_in_bucket'] < end_time)]['time_length']) / (end_time - start_time)\n"
     ]
    },
    {
     "name": "stdout",
     "output_type": "stream",
     "text": [
      "19260\n",
      "19262\n",
      "19265\n",
      "19267\n",
      "19271\n"
     ]
    },
    {
     "name": "stderr",
     "output_type": "stream",
     "text": [
      "/Users/vladimir.levin/Yandex.Disk.localized/01_Documents/01_Study/0_LUX/01_PhD/Drafts/Project3/kaggle_volatility/support_file.py:1675: RuntimeWarning: invalid value encountered in true_divide\n",
      "  w_ask = np.sum(df_book[(start_time <= df_book['seconds_in_bucket']) & (df_book['seconds_in_bucket'] < end_time)]['ask_price1'] * df_book[(start_time <= df_book['seconds_in_bucket']) & (df_book['seconds_in_bucket'] < end_time)]['time_length']) / (end_time - start_time)\n",
      "/Users/vladimir.levin/Yandex.Disk.localized/01_Documents/01_Study/0_LUX/01_PhD/Drafts/Project3/kaggle_volatility/support_file.py:1676: RuntimeWarning: invalid value encountered in true_divide\n",
      "  w_bid = np.sum(df_book[(start_time <= df_book['seconds_in_bucket']) & (df_book['seconds_in_bucket'] < end_time)]['bid_price1'] * df_book[(start_time <= df_book['seconds_in_bucket']) & (df_book['seconds_in_bucket'] < end_time)]['time_length']) / (end_time - start_time)\n"
     ]
    },
    {
     "name": "stdout",
     "output_type": "stream",
     "text": [
      "19274\n",
      "19281\n",
      "19294\n",
      "19300\n",
      "19309\n",
      "19333\n",
      "19358\n",
      "19365\n",
      "19373\n",
      "19385\n",
      "19386\n",
      "19389\n"
     ]
    },
    {
     "name": "stderr",
     "output_type": "stream",
     "text": [
      "/Users/vladimir.levin/Yandex.Disk.localized/01_Documents/01_Study/0_LUX/01_PhD/Drafts/Project3/kaggle_volatility/support_file.py:1675: RuntimeWarning: invalid value encountered in true_divide\n",
      "  w_ask = np.sum(df_book[(start_time <= df_book['seconds_in_bucket']) & (df_book['seconds_in_bucket'] < end_time)]['ask_price1'] * df_book[(start_time <= df_book['seconds_in_bucket']) & (df_book['seconds_in_bucket'] < end_time)]['time_length']) / (end_time - start_time)\n",
      "/Users/vladimir.levin/Yandex.Disk.localized/01_Documents/01_Study/0_LUX/01_PhD/Drafts/Project3/kaggle_volatility/support_file.py:1676: RuntimeWarning: invalid value encountered in true_divide\n",
      "  w_bid = np.sum(df_book[(start_time <= df_book['seconds_in_bucket']) & (df_book['seconds_in_bucket'] < end_time)]['bid_price1'] * df_book[(start_time <= df_book['seconds_in_bucket']) & (df_book['seconds_in_bucket'] < end_time)]['time_length']) / (end_time - start_time)\n"
     ]
    },
    {
     "name": "stdout",
     "output_type": "stream",
     "text": [
      "19390\n",
      "19417\n",
      "19428\n",
      "19434"
     ]
    },
    {
     "name": "stderr",
     "output_type": "stream",
     "text": [
      "/Users/vladimir.levin/Yandex.Disk.localized/01_Documents/01_Study/0_LUX/01_PhD/Drafts/Project3/kaggle_volatility/support_file.py:1675: RuntimeWarning: invalid value encountered in true_divide\n",
      "  w_ask = np.sum(df_book[(start_time <= df_book['seconds_in_bucket']) & (df_book['seconds_in_bucket'] < end_time)]['ask_price1'] * df_book[(start_time <= df_book['seconds_in_bucket']) & (df_book['seconds_in_bucket'] < end_time)]['time_length']) / (end_time - start_time)\n",
      "/Users/vladimir.levin/Yandex.Disk.localized/01_Documents/01_Study/0_LUX/01_PhD/Drafts/Project3/kaggle_volatility/support_file.py:1676: RuntimeWarning: invalid value encountered in true_divide\n",
      "  w_bid = np.sum(df_book[(start_time <= df_book['seconds_in_bucket']) & (df_book['seconds_in_bucket'] < end_time)]['bid_price1'] * df_book[(start_time <= df_book['seconds_in_bucket']) & (df_book['seconds_in_bucket'] < end_time)]['time_length']) / (end_time - start_time)\n"
     ]
    },
    {
     "name": "stdout",
     "output_type": "stream",
     "text": [
      "\n",
      "19444\n",
      "19453\n",
      "19459\n"
     ]
    },
    {
     "name": "stderr",
     "output_type": "stream",
     "text": [
      "/Users/vladimir.levin/Yandex.Disk.localized/01_Documents/01_Study/0_LUX/01_PhD/Drafts/Project3/kaggle_volatility/support_file.py:1675: RuntimeWarning: invalid value encountered in true_divide\n",
      "  w_ask = np.sum(df_book[(start_time <= df_book['seconds_in_bucket']) & (df_book['seconds_in_bucket'] < end_time)]['ask_price1'] * df_book[(start_time <= df_book['seconds_in_bucket']) & (df_book['seconds_in_bucket'] < end_time)]['time_length']) / (end_time - start_time)\n",
      "/Users/vladimir.levin/Yandex.Disk.localized/01_Documents/01_Study/0_LUX/01_PhD/Drafts/Project3/kaggle_volatility/support_file.py:1676: RuntimeWarning: invalid value encountered in true_divide\n",
      "  w_bid = np.sum(df_book[(start_time <= df_book['seconds_in_bucket']) & (df_book['seconds_in_bucket'] < end_time)]['bid_price1'] * df_book[(start_time <= df_book['seconds_in_bucket']) & (df_book['seconds_in_bucket'] < end_time)]['time_length']) / (end_time - start_time)\n"
     ]
    },
    {
     "name": "stdout",
     "output_type": "stream",
     "text": [
      "19466\n",
      "19472\n",
      "19476\n"
     ]
    },
    {
     "name": "stderr",
     "output_type": "stream",
     "text": [
      "/Users/vladimir.levin/Yandex.Disk.localized/01_Documents/01_Study/0_LUX/01_PhD/Drafts/Project3/kaggle_volatility/support_file.py:1675: RuntimeWarning: invalid value encountered in true_divide\n",
      "  w_ask = np.sum(df_book[(start_time <= df_book['seconds_in_bucket']) & (df_book['seconds_in_bucket'] < end_time)]['ask_price1'] * df_book[(start_time <= df_book['seconds_in_bucket']) & (df_book['seconds_in_bucket'] < end_time)]['time_length']) / (end_time - start_time)\n",
      "/Users/vladimir.levin/Yandex.Disk.localized/01_Documents/01_Study/0_LUX/01_PhD/Drafts/Project3/kaggle_volatility/support_file.py:1676: RuntimeWarning: invalid value encountered in true_divide\n",
      "  w_bid = np.sum(df_book[(start_time <= df_book['seconds_in_bucket']) & (df_book['seconds_in_bucket'] < end_time)]['bid_price1'] * df_book[(start_time <= df_book['seconds_in_bucket']) & (df_book['seconds_in_bucket'] < end_time)]['time_length']) / (end_time - start_time)\n"
     ]
    },
    {
     "name": "stdout",
     "output_type": "stream",
     "text": [
      "19483\n",
      "19488\n",
      "19489\n",
      "19491\n",
      "19493"
     ]
    },
    {
     "name": "stderr",
     "output_type": "stream",
     "text": [
      "/Users/vladimir.levin/Yandex.Disk.localized/01_Documents/01_Study/0_LUX/01_PhD/Drafts/Project3/kaggle_volatility/support_file.py:1675: RuntimeWarning: invalid value encountered in true_divide\n",
      "  w_ask = np.sum(df_book[(start_time <= df_book['seconds_in_bucket']) & (df_book['seconds_in_bucket'] < end_time)]['ask_price1'] * df_book[(start_time <= df_book['seconds_in_bucket']) & (df_book['seconds_in_bucket'] < end_time)]['time_length']) / (end_time - start_time)\n",
      "/Users/vladimir.levin/Yandex.Disk.localized/01_Documents/01_Study/0_LUX/01_PhD/Drafts/Project3/kaggle_volatility/support_file.py:1676: RuntimeWarning: invalid value encountered in true_divide\n",
      "  w_bid = np.sum(df_book[(start_time <= df_book['seconds_in_bucket']) & (df_book['seconds_in_bucket'] < end_time)]['bid_price1'] * df_book[(start_time <= df_book['seconds_in_bucket']) & (df_book['seconds_in_bucket'] < end_time)]['time_length']) / (end_time - start_time)\n"
     ]
    },
    {
     "name": "stdout",
     "output_type": "stream",
     "text": [
      "\n",
      "19495\n",
      "19499\n",
      "19509\n",
      "19512\n",
      "19527\n"
     ]
    },
    {
     "name": "stderr",
     "output_type": "stream",
     "text": [
      "/Users/vladimir.levin/Yandex.Disk.localized/01_Documents/01_Study/0_LUX/01_PhD/Drafts/Project3/kaggle_volatility/support_file.py:1675: RuntimeWarning: invalid value encountered in true_divide\n",
      "  w_ask = np.sum(df_book[(start_time <= df_book['seconds_in_bucket']) & (df_book['seconds_in_bucket'] < end_time)]['ask_price1'] * df_book[(start_time <= df_book['seconds_in_bucket']) & (df_book['seconds_in_bucket'] < end_time)]['time_length']) / (end_time - start_time)\n",
      "/Users/vladimir.levin/Yandex.Disk.localized/01_Documents/01_Study/0_LUX/01_PhD/Drafts/Project3/kaggle_volatility/support_file.py:1676: RuntimeWarning: invalid value encountered in true_divide\n",
      "  w_bid = np.sum(df_book[(start_time <= df_book['seconds_in_bucket']) & (df_book['seconds_in_bucket'] < end_time)]['bid_price1'] * df_book[(start_time <= df_book['seconds_in_bucket']) & (df_book['seconds_in_bucket'] < end_time)]['time_length']) / (end_time - start_time)\n"
     ]
    },
    {
     "name": "stdout",
     "output_type": "stream",
     "text": [
      "19528\n",
      "19531\n",
      "19532\n",
      "19542\n",
      "19551\n",
      "19554\n"
     ]
    },
    {
     "name": "stderr",
     "output_type": "stream",
     "text": [
      "/Users/vladimir.levin/Yandex.Disk.localized/01_Documents/01_Study/0_LUX/01_PhD/Drafts/Project3/kaggle_volatility/support_file.py:1675: RuntimeWarning: invalid value encountered in true_divide\n",
      "  w_ask = np.sum(df_book[(start_time <= df_book['seconds_in_bucket']) & (df_book['seconds_in_bucket'] < end_time)]['ask_price1'] * df_book[(start_time <= df_book['seconds_in_bucket']) & (df_book['seconds_in_bucket'] < end_time)]['time_length']) / (end_time - start_time)\n",
      "/Users/vladimir.levin/Yandex.Disk.localized/01_Documents/01_Study/0_LUX/01_PhD/Drafts/Project3/kaggle_volatility/support_file.py:1676: RuntimeWarning: invalid value encountered in true_divide\n",
      "  w_bid = np.sum(df_book[(start_time <= df_book['seconds_in_bucket']) & (df_book['seconds_in_bucket'] < end_time)]['bid_price1'] * df_book[(start_time <= df_book['seconds_in_bucket']) & (df_book['seconds_in_bucket'] < end_time)]['time_length']) / (end_time - start_time)\n"
     ]
    },
    {
     "name": "stdout",
     "output_type": "stream",
     "text": [
      "19579\n",
      "19580\n",
      "19597\n",
      "19603\n",
      "19606\n",
      "19612\n"
     ]
    },
    {
     "name": "stderr",
     "output_type": "stream",
     "text": [
      "/Users/vladimir.levin/Yandex.Disk.localized/01_Documents/01_Study/0_LUX/01_PhD/Drafts/Project3/kaggle_volatility/support_file.py:1675: RuntimeWarning: invalid value encountered in true_divide\n",
      "  w_ask = np.sum(df_book[(start_time <= df_book['seconds_in_bucket']) & (df_book['seconds_in_bucket'] < end_time)]['ask_price1'] * df_book[(start_time <= df_book['seconds_in_bucket']) & (df_book['seconds_in_bucket'] < end_time)]['time_length']) / (end_time - start_time)\n",
      "/Users/vladimir.levin/Yandex.Disk.localized/01_Documents/01_Study/0_LUX/01_PhD/Drafts/Project3/kaggle_volatility/support_file.py:1676: RuntimeWarning: invalid value encountered in true_divide\n",
      "  w_bid = np.sum(df_book[(start_time <= df_book['seconds_in_bucket']) & (df_book['seconds_in_bucket'] < end_time)]['bid_price1'] * df_book[(start_time <= df_book['seconds_in_bucket']) & (df_book['seconds_in_bucket'] < end_time)]['time_length']) / (end_time - start_time)\n"
     ]
    },
    {
     "name": "stdout",
     "output_type": "stream",
     "text": [
      "19614\n",
      "19623\n",
      "19625\n"
     ]
    },
    {
     "name": "stderr",
     "output_type": "stream",
     "text": [
      "/Users/vladimir.levin/Yandex.Disk.localized/01_Documents/01_Study/0_LUX/01_PhD/Drafts/Project3/kaggle_volatility/support_file.py:1675: RuntimeWarning: invalid value encountered in true_divide\n",
      "  w_ask = np.sum(df_book[(start_time <= df_book['seconds_in_bucket']) & (df_book['seconds_in_bucket'] < end_time)]['ask_price1'] * df_book[(start_time <= df_book['seconds_in_bucket']) & (df_book['seconds_in_bucket'] < end_time)]['time_length']) / (end_time - start_time)\n",
      "/Users/vladimir.levin/Yandex.Disk.localized/01_Documents/01_Study/0_LUX/01_PhD/Drafts/Project3/kaggle_volatility/support_file.py:1676: RuntimeWarning: invalid value encountered in true_divide\n",
      "  w_bid = np.sum(df_book[(start_time <= df_book['seconds_in_bucket']) & (df_book['seconds_in_bucket'] < end_time)]['bid_price1'] * df_book[(start_time <= df_book['seconds_in_bucket']) & (df_book['seconds_in_bucket'] < end_time)]['time_length']) / (end_time - start_time)\n",
      "/Users/vladimir.levin/Yandex.Disk.localized/01_Documents/01_Study/0_LUX/01_PhD/Drafts/Project3/kaggle_volatility/support_file.py:1675: RuntimeWarning: invalid value encountered in true_divide\n",
      "  w_ask = np.sum(df_book[(start_time <= df_book['seconds_in_bucket']) & (df_book['seconds_in_bucket'] < end_time)]['ask_price1'] * df_book[(start_time <= df_book['seconds_in_bucket']) & (df_book['seconds_in_bucket'] < end_time)]['time_length']) / (end_time - start_time)\n",
      "/Users/vladimir.levin/Yandex.Disk.localized/01_Documents/01_Study/0_LUX/01_PhD/Drafts/Project3/kaggle_volatility/support_file.py:1676: RuntimeWarning: invalid value encountered in true_divide\n",
      "  w_bid = np.sum(df_book[(start_time <= df_book['seconds_in_bucket']) & (df_book['seconds_in_bucket'] < end_time)]['bid_price1'] * df_book[(start_time <= df_book['seconds_in_bucket']) & (df_book['seconds_in_bucket'] < end_time)]['time_length']) / (end_time - start_time)\n",
      "/Users/vladimir.levin/Yandex.Disk.localized/01_Documents/01_Study/0_LUX/01_PhD/Drafts/Project3/kaggle_volatility/support_file.py:1675: RuntimeWarning: invalid value encountered in true_divide\n",
      "  w_ask = np.sum(df_book[(start_time <= df_book['seconds_in_bucket']) & (df_book['seconds_in_bucket'] < end_time)]['ask_price1'] * df_book[(start_time <= df_book['seconds_in_bucket']) & (df_book['seconds_in_bucket'] < end_time)]['time_length']) / (end_time - start_time)\n",
      "/Users/vladimir.levin/Yandex.Disk.localized/01_Documents/01_Study/0_LUX/01_PhD/Drafts/Project3/kaggle_volatility/support_file.py:1676: RuntimeWarning: invalid value encountered in true_divide\n",
      "  w_bid = np.sum(df_book[(start_time <= df_book['seconds_in_bucket']) & (df_book['seconds_in_bucket'] < end_time)]['bid_price1'] * df_book[(start_time <= df_book['seconds_in_bucket']) & (df_book['seconds_in_bucket'] < end_time)]['time_length']) / (end_time - start_time)\n"
     ]
    },
    {
     "name": "stdout",
     "output_type": "stream",
     "text": [
      "19626\n",
      "19629\n",
      "19636\n",
      "19639\n",
      "19647\n",
      "19651\n",
      "19660\n",
      "19678\n",
      "19690\n",
      "19697\n",
      "19699\n",
      "19725\n",
      "19729\n",
      "19735\n",
      "19747\n",
      "19765\n"
     ]
    },
    {
     "name": "stderr",
     "output_type": "stream",
     "text": [
      "/Users/vladimir.levin/Yandex.Disk.localized/01_Documents/01_Study/0_LUX/01_PhD/Drafts/Project3/kaggle_volatility/support_file.py:1675: RuntimeWarning: invalid value encountered in true_divide\n",
      "  w_ask = np.sum(df_book[(start_time <= df_book['seconds_in_bucket']) & (df_book['seconds_in_bucket'] < end_time)]['ask_price1'] * df_book[(start_time <= df_book['seconds_in_bucket']) & (df_book['seconds_in_bucket'] < end_time)]['time_length']) / (end_time - start_time)\n",
      "/Users/vladimir.levin/Yandex.Disk.localized/01_Documents/01_Study/0_LUX/01_PhD/Drafts/Project3/kaggle_volatility/support_file.py:1676: RuntimeWarning: invalid value encountered in true_divide\n",
      "  w_bid = np.sum(df_book[(start_time <= df_book['seconds_in_bucket']) & (df_book['seconds_in_bucket'] < end_time)]['bid_price1'] * df_book[(start_time <= df_book['seconds_in_bucket']) & (df_book['seconds_in_bucket'] < end_time)]['time_length']) / (end_time - start_time)\n",
      "/Users/vladimir.levin/Yandex.Disk.localized/01_Documents/01_Study/0_LUX/01_PhD/Drafts/Project3/kaggle_volatility/support_file.py:1675: RuntimeWarning: invalid value encountered in true_divide\n",
      "  w_ask = np.sum(df_book[(start_time <= df_book['seconds_in_bucket']) & (df_book['seconds_in_bucket'] < end_time)]['ask_price1'] * df_book[(start_time <= df_book['seconds_in_bucket']) & (df_book['seconds_in_bucket'] < end_time)]['time_length']) / (end_time - start_time)\n",
      "/Users/vladimir.levin/Yandex.Disk.localized/01_Documents/01_Study/0_LUX/01_PhD/Drafts/Project3/kaggle_volatility/support_file.py:1676: RuntimeWarning: invalid value encountered in true_divide\n",
      "  w_bid = np.sum(df_book[(start_time <= df_book['seconds_in_bucket']) & (df_book['seconds_in_bucket'] < end_time)]['bid_price1'] * df_book[(start_time <= df_book['seconds_in_bucket']) & (df_book['seconds_in_bucket'] < end_time)]['time_length']) / (end_time - start_time)\n"
     ]
    },
    {
     "name": "stdout",
     "output_type": "stream",
     "text": [
      "19772\n",
      "19799\n",
      "19810\n",
      "19815\n",
      "19817\n",
      "19830\n",
      "19839\n",
      "19845\n",
      "19871\n",
      "19873\n"
     ]
    },
    {
     "name": "stderr",
     "output_type": "stream",
     "text": [
      "/Users/vladimir.levin/Yandex.Disk.localized/01_Documents/01_Study/0_LUX/01_PhD/Drafts/Project3/kaggle_volatility/support_file.py:1675: RuntimeWarning: invalid value encountered in true_divide\n",
      "  w_ask = np.sum(df_book[(start_time <= df_book['seconds_in_bucket']) & (df_book['seconds_in_bucket'] < end_time)]['ask_price1'] * df_book[(start_time <= df_book['seconds_in_bucket']) & (df_book['seconds_in_bucket'] < end_time)]['time_length']) / (end_time - start_time)\n",
      "/Users/vladimir.levin/Yandex.Disk.localized/01_Documents/01_Study/0_LUX/01_PhD/Drafts/Project3/kaggle_volatility/support_file.py:1676: RuntimeWarning: invalid value encountered in true_divide\n",
      "  w_bid = np.sum(df_book[(start_time <= df_book['seconds_in_bucket']) & (df_book['seconds_in_bucket'] < end_time)]['bid_price1'] * df_book[(start_time <= df_book['seconds_in_bucket']) & (df_book['seconds_in_bucket'] < end_time)]['time_length']) / (end_time - start_time)\n",
      "/Users/vladimir.levin/Yandex.Disk.localized/01_Documents/01_Study/0_LUX/01_PhD/Drafts/Project3/kaggle_volatility/support_file.py:1675: RuntimeWarning: invalid value encountered in true_divide\n",
      "  w_ask = np.sum(df_book[(start_time <= df_book['seconds_in_bucket']) & (df_book['seconds_in_bucket'] < end_time)]['ask_price1'] * df_book[(start_time <= df_book['seconds_in_bucket']) & (df_book['seconds_in_bucket'] < end_time)]['time_length']) / (end_time - start_time)\n",
      "/Users/vladimir.levin/Yandex.Disk.localized/01_Documents/01_Study/0_LUX/01_PhD/Drafts/Project3/kaggle_volatility/support_file.py:1676: RuntimeWarning: invalid value encountered in true_divide\n",
      "  w_bid = np.sum(df_book[(start_time <= df_book['seconds_in_bucket']) & (df_book['seconds_in_bucket'] < end_time)]['bid_price1'] * df_book[(start_time <= df_book['seconds_in_bucket']) & (df_book['seconds_in_bucket'] < end_time)]['time_length']) / (end_time - start_time)\n"
     ]
    },
    {
     "name": "stdout",
     "output_type": "stream",
     "text": [
      "19876\n",
      "19883\n"
     ]
    },
    {
     "name": "stderr",
     "output_type": "stream",
     "text": [
      "/Users/vladimir.levin/Yandex.Disk.localized/01_Documents/01_Study/0_LUX/01_PhD/Drafts/Project3/kaggle_volatility/support_file.py:1675: RuntimeWarning: invalid value encountered in true_divide\n",
      "  w_ask = np.sum(df_book[(start_time <= df_book['seconds_in_bucket']) & (df_book['seconds_in_bucket'] < end_time)]['ask_price1'] * df_book[(start_time <= df_book['seconds_in_bucket']) & (df_book['seconds_in_bucket'] < end_time)]['time_length']) / (end_time - start_time)\n",
      "/Users/vladimir.levin/Yandex.Disk.localized/01_Documents/01_Study/0_LUX/01_PhD/Drafts/Project3/kaggle_volatility/support_file.py:1676: RuntimeWarning: invalid value encountered in true_divide\n",
      "  w_bid = np.sum(df_book[(start_time <= df_book['seconds_in_bucket']) & (df_book['seconds_in_bucket'] < end_time)]['bid_price1'] * df_book[(start_time <= df_book['seconds_in_bucket']) & (df_book['seconds_in_bucket'] < end_time)]['time_length']) / (end_time - start_time)\n"
     ]
    },
    {
     "name": "stdout",
     "output_type": "stream",
     "text": [
      "19904\n",
      "19915\n",
      "19923\n",
      "19935\n",
      "19949\n",
      "19955\n",
      "19977\n",
      "19994\n",
      "19999\n",
      "20008\n",
      "20017\n"
     ]
    },
    {
     "name": "stderr",
     "output_type": "stream",
     "text": [
      "/Users/vladimir.levin/Yandex.Disk.localized/01_Documents/01_Study/0_LUX/01_PhD/Drafts/Project3/kaggle_volatility/support_file.py:1675: RuntimeWarning: invalid value encountered in true_divide\n",
      "  w_ask = np.sum(df_book[(start_time <= df_book['seconds_in_bucket']) & (df_book['seconds_in_bucket'] < end_time)]['ask_price1'] * df_book[(start_time <= df_book['seconds_in_bucket']) & (df_book['seconds_in_bucket'] < end_time)]['time_length']) / (end_time - start_time)\n",
      "/Users/vladimir.levin/Yandex.Disk.localized/01_Documents/01_Study/0_LUX/01_PhD/Drafts/Project3/kaggle_volatility/support_file.py:1676: RuntimeWarning: invalid value encountered in true_divide\n",
      "  w_bid = np.sum(df_book[(start_time <= df_book['seconds_in_bucket']) & (df_book['seconds_in_bucket'] < end_time)]['bid_price1'] * df_book[(start_time <= df_book['seconds_in_bucket']) & (df_book['seconds_in_bucket'] < end_time)]['time_length']) / (end_time - start_time)\n"
     ]
    },
    {
     "name": "stdout",
     "output_type": "stream",
     "text": [
      "20021\n",
      "20033\n",
      "20055\n",
      "20057\n",
      "20063\n",
      "20064\n",
      "20078\n",
      "20083\n"
     ]
    },
    {
     "name": "stderr",
     "output_type": "stream",
     "text": [
      "/Users/vladimir.levin/Yandex.Disk.localized/01_Documents/01_Study/0_LUX/01_PhD/Drafts/Project3/kaggle_volatility/support_file.py:1675: RuntimeWarning: invalid value encountered in true_divide\n",
      "  w_ask = np.sum(df_book[(start_time <= df_book['seconds_in_bucket']) & (df_book['seconds_in_bucket'] < end_time)]['ask_price1'] * df_book[(start_time <= df_book['seconds_in_bucket']) & (df_book['seconds_in_bucket'] < end_time)]['time_length']) / (end_time - start_time)\n",
      "/Users/vladimir.levin/Yandex.Disk.localized/01_Documents/01_Study/0_LUX/01_PhD/Drafts/Project3/kaggle_volatility/support_file.py:1676: RuntimeWarning: invalid value encountered in true_divide\n",
      "  w_bid = np.sum(df_book[(start_time <= df_book['seconds_in_bucket']) & (df_book['seconds_in_bucket'] < end_time)]['bid_price1'] * df_book[(start_time <= df_book['seconds_in_bucket']) & (df_book['seconds_in_bucket'] < end_time)]['time_length']) / (end_time - start_time)\n"
     ]
    },
    {
     "name": "stdout",
     "output_type": "stream",
     "text": [
      "20084\n",
      "20086\n",
      "20099\n"
     ]
    },
    {
     "name": "stderr",
     "output_type": "stream",
     "text": [
      "/Users/vladimir.levin/Yandex.Disk.localized/01_Documents/01_Study/0_LUX/01_PhD/Drafts/Project3/kaggle_volatility/support_file.py:1675: RuntimeWarning: invalid value encountered in true_divide\n",
      "  w_ask = np.sum(df_book[(start_time <= df_book['seconds_in_bucket']) & (df_book['seconds_in_bucket'] < end_time)]['ask_price1'] * df_book[(start_time <= df_book['seconds_in_bucket']) & (df_book['seconds_in_bucket'] < end_time)]['time_length']) / (end_time - start_time)\n",
      "/Users/vladimir.levin/Yandex.Disk.localized/01_Documents/01_Study/0_LUX/01_PhD/Drafts/Project3/kaggle_volatility/support_file.py:1676: RuntimeWarning: invalid value encountered in true_divide\n",
      "  w_bid = np.sum(df_book[(start_time <= df_book['seconds_in_bucket']) & (df_book['seconds_in_bucket'] < end_time)]['bid_price1'] * df_book[(start_time <= df_book['seconds_in_bucket']) & (df_book['seconds_in_bucket'] < end_time)]['time_length']) / (end_time - start_time)\n"
     ]
    },
    {
     "name": "stdout",
     "output_type": "stream",
     "text": [
      "20127\n",
      "20128\n",
      "20132\n",
      "20135\n",
      "20136\n",
      "20164\n",
      "20172\n",
      "20196\n",
      "20199\n",
      "20213\n",
      "20214\n",
      "20225\n",
      "20227\n",
      "20234\n",
      "20255\n"
     ]
    },
    {
     "name": "stderr",
     "output_type": "stream",
     "text": [
      "/Users/vladimir.levin/Yandex.Disk.localized/01_Documents/01_Study/0_LUX/01_PhD/Drafts/Project3/kaggle_volatility/support_file.py:1675: RuntimeWarning: invalid value encountered in true_divide\n",
      "  w_ask = np.sum(df_book[(start_time <= df_book['seconds_in_bucket']) & (df_book['seconds_in_bucket'] < end_time)]['ask_price1'] * df_book[(start_time <= df_book['seconds_in_bucket']) & (df_book['seconds_in_bucket'] < end_time)]['time_length']) / (end_time - start_time)\n",
      "/Users/vladimir.levin/Yandex.Disk.localized/01_Documents/01_Study/0_LUX/01_PhD/Drafts/Project3/kaggle_volatility/support_file.py:1676: RuntimeWarning: invalid value encountered in true_divide\n",
      "  w_bid = np.sum(df_book[(start_time <= df_book['seconds_in_bucket']) & (df_book['seconds_in_bucket'] < end_time)]['bid_price1'] * df_book[(start_time <= df_book['seconds_in_bucket']) & (df_book['seconds_in_bucket'] < end_time)]['time_length']) / (end_time - start_time)\n",
      "/Users/vladimir.levin/Yandex.Disk.localized/01_Documents/01_Study/0_LUX/01_PhD/Drafts/Project3/kaggle_volatility/support_file.py:1675: RuntimeWarning: invalid value encountered in true_divide\n",
      "  w_ask = np.sum(df_book[(start_time <= df_book['seconds_in_bucket']) & (df_book['seconds_in_bucket'] < end_time)]['ask_price1'] * df_book[(start_time <= df_book['seconds_in_bucket']) & (df_book['seconds_in_bucket'] < end_time)]['time_length']) / (end_time - start_time)\n",
      "/Users/vladimir.levin/Yandex.Disk.localized/01_Documents/01_Study/0_LUX/01_PhD/Drafts/Project3/kaggle_volatility/support_file.py:1676: RuntimeWarning: invalid value encountered in true_divide\n",
      "  w_bid = np.sum(df_book[(start_time <= df_book['seconds_in_bucket']) & (df_book['seconds_in_bucket'] < end_time)]['bid_price1'] * df_book[(start_time <= df_book['seconds_in_bucket']) & (df_book['seconds_in_bucket'] < end_time)]['time_length']) / (end_time - start_time)\n"
     ]
    },
    {
     "name": "stdout",
     "output_type": "stream",
     "text": [
      "20265\n",
      "20268\n",
      "20271\n",
      "20306\n"
     ]
    },
    {
     "name": "stderr",
     "output_type": "stream",
     "text": [
      "/Users/vladimir.levin/Yandex.Disk.localized/01_Documents/01_Study/0_LUX/01_PhD/Drafts/Project3/kaggle_volatility/support_file.py:1675: RuntimeWarning: invalid value encountered in true_divide\n",
      "  w_ask = np.sum(df_book[(start_time <= df_book['seconds_in_bucket']) & (df_book['seconds_in_bucket'] < end_time)]['ask_price1'] * df_book[(start_time <= df_book['seconds_in_bucket']) & (df_book['seconds_in_bucket'] < end_time)]['time_length']) / (end_time - start_time)\n",
      "/Users/vladimir.levin/Yandex.Disk.localized/01_Documents/01_Study/0_LUX/01_PhD/Drafts/Project3/kaggle_volatility/support_file.py:1676: RuntimeWarning: invalid value encountered in true_divide\n",
      "  w_bid = np.sum(df_book[(start_time <= df_book['seconds_in_bucket']) & (df_book['seconds_in_bucket'] < end_time)]['bid_price1'] * df_book[(start_time <= df_book['seconds_in_bucket']) & (df_book['seconds_in_bucket'] < end_time)]['time_length']) / (end_time - start_time)\n"
     ]
    },
    {
     "name": "stdout",
     "output_type": "stream",
     "text": [
      "20317\n",
      "20323\n",
      "20326\n"
     ]
    },
    {
     "name": "stderr",
     "output_type": "stream",
     "text": [
      "/Users/vladimir.levin/Yandex.Disk.localized/01_Documents/01_Study/0_LUX/01_PhD/Drafts/Project3/kaggle_volatility/support_file.py:1675: RuntimeWarning: invalid value encountered in true_divide\n",
      "  w_ask = np.sum(df_book[(start_time <= df_book['seconds_in_bucket']) & (df_book['seconds_in_bucket'] < end_time)]['ask_price1'] * df_book[(start_time <= df_book['seconds_in_bucket']) & (df_book['seconds_in_bucket'] < end_time)]['time_length']) / (end_time - start_time)\n",
      "/Users/vladimir.levin/Yandex.Disk.localized/01_Documents/01_Study/0_LUX/01_PhD/Drafts/Project3/kaggle_volatility/support_file.py:1676: RuntimeWarning: invalid value encountered in true_divide\n",
      "  w_bid = np.sum(df_book[(start_time <= df_book['seconds_in_bucket']) & (df_book['seconds_in_bucket'] < end_time)]['bid_price1'] * df_book[(start_time <= df_book['seconds_in_bucket']) & (df_book['seconds_in_bucket'] < end_time)]['time_length']) / (end_time - start_time)\n"
     ]
    },
    {
     "name": "stdout",
     "output_type": "stream",
     "text": [
      "20327\n",
      "20329\n",
      "20336\n",
      "20341\n",
      "20351\n",
      "20382\n",
      "20384\n",
      "20405\n"
     ]
    },
    {
     "name": "stderr",
     "output_type": "stream",
     "text": [
      "/Users/vladimir.levin/Yandex.Disk.localized/01_Documents/01_Study/0_LUX/01_PhD/Drafts/Project3/kaggle_volatility/support_file.py:1675: RuntimeWarning: invalid value encountered in true_divide\n",
      "  w_ask = np.sum(df_book[(start_time <= df_book['seconds_in_bucket']) & (df_book['seconds_in_bucket'] < end_time)]['ask_price1'] * df_book[(start_time <= df_book['seconds_in_bucket']) & (df_book['seconds_in_bucket'] < end_time)]['time_length']) / (end_time - start_time)\n",
      "/Users/vladimir.levin/Yandex.Disk.localized/01_Documents/01_Study/0_LUX/01_PhD/Drafts/Project3/kaggle_volatility/support_file.py:1676: RuntimeWarning: invalid value encountered in true_divide\n",
      "  w_bid = np.sum(df_book[(start_time <= df_book['seconds_in_bucket']) & (df_book['seconds_in_bucket'] < end_time)]['bid_price1'] * df_book[(start_time <= df_book['seconds_in_bucket']) & (df_book['seconds_in_bucket'] < end_time)]['time_length']) / (end_time - start_time)\n",
      "/Users/vladimir.levin/Yandex.Disk.localized/01_Documents/01_Study/0_LUX/01_PhD/Drafts/Project3/kaggle_volatility/support_file.py:1675: RuntimeWarning: invalid value encountered in true_divide\n",
      "  w_ask = np.sum(df_book[(start_time <= df_book['seconds_in_bucket']) & (df_book['seconds_in_bucket'] < end_time)]['ask_price1'] * df_book[(start_time <= df_book['seconds_in_bucket']) & (df_book['seconds_in_bucket'] < end_time)]['time_length']) / (end_time - start_time)\n",
      "/Users/vladimir.levin/Yandex.Disk.localized/01_Documents/01_Study/0_LUX/01_PhD/Drafts/Project3/kaggle_volatility/support_file.py:1676: RuntimeWarning: invalid value encountered in true_divide\n",
      "  w_bid = np.sum(df_book[(start_time <= df_book['seconds_in_bucket']) & (df_book['seconds_in_bucket'] < end_time)]['bid_price1'] * df_book[(start_time <= df_book['seconds_in_bucket']) & (df_book['seconds_in_bucket'] < end_time)]['time_length']) / (end_time - start_time)\n"
     ]
    },
    {
     "name": "stdout",
     "output_type": "stream",
     "text": [
      "20406\n",
      "20408\n",
      "20410\n",
      "20415\n",
      "20418\n",
      "20430\n",
      "20434\n",
      "20435\n",
      "20439\n",
      "20445\n"
     ]
    },
    {
     "name": "stderr",
     "output_type": "stream",
     "text": [
      "/Users/vladimir.levin/Yandex.Disk.localized/01_Documents/01_Study/0_LUX/01_PhD/Drafts/Project3/kaggle_volatility/support_file.py:1675: RuntimeWarning: invalid value encountered in true_divide\n",
      "  w_ask = np.sum(df_book[(start_time <= df_book['seconds_in_bucket']) & (df_book['seconds_in_bucket'] < end_time)]['ask_price1'] * df_book[(start_time <= df_book['seconds_in_bucket']) & (df_book['seconds_in_bucket'] < end_time)]['time_length']) / (end_time - start_time)\n",
      "/Users/vladimir.levin/Yandex.Disk.localized/01_Documents/01_Study/0_LUX/01_PhD/Drafts/Project3/kaggle_volatility/support_file.py:1676: RuntimeWarning: invalid value encountered in true_divide\n",
      "  w_bid = np.sum(df_book[(start_time <= df_book['seconds_in_bucket']) & (df_book['seconds_in_bucket'] < end_time)]['bid_price1'] * df_book[(start_time <= df_book['seconds_in_bucket']) & (df_book['seconds_in_bucket'] < end_time)]['time_length']) / (end_time - start_time)\n"
     ]
    },
    {
     "name": "stdout",
     "output_type": "stream",
     "text": [
      "20453\n",
      "20457\n",
      "20460\n",
      "20469\n",
      "20474\n",
      "20491\n",
      "20498\n",
      "20499\n"
     ]
    },
    {
     "name": "stderr",
     "output_type": "stream",
     "text": [
      "/Users/vladimir.levin/Yandex.Disk.localized/01_Documents/01_Study/0_LUX/01_PhD/Drafts/Project3/kaggle_volatility/support_file.py:1675: RuntimeWarning: invalid value encountered in true_divide\n",
      "  w_ask = np.sum(df_book[(start_time <= df_book['seconds_in_bucket']) & (df_book['seconds_in_bucket'] < end_time)]['ask_price1'] * df_book[(start_time <= df_book['seconds_in_bucket']) & (df_book['seconds_in_bucket'] < end_time)]['time_length']) / (end_time - start_time)\n",
      "/Users/vladimir.levin/Yandex.Disk.localized/01_Documents/01_Study/0_LUX/01_PhD/Drafts/Project3/kaggle_volatility/support_file.py:1676: RuntimeWarning: invalid value encountered in true_divide\n",
      "  w_bid = np.sum(df_book[(start_time <= df_book['seconds_in_bucket']) & (df_book['seconds_in_bucket'] < end_time)]['bid_price1'] * df_book[(start_time <= df_book['seconds_in_bucket']) & (df_book['seconds_in_bucket'] < end_time)]['time_length']) / (end_time - start_time)\n"
     ]
    },
    {
     "name": "stdout",
     "output_type": "stream",
     "text": [
      "20550\n",
      "20551\n",
      "20557\n",
      "20559\n",
      "20563\n",
      "20568\n",
      "20571\n"
     ]
    },
    {
     "name": "stderr",
     "output_type": "stream",
     "text": [
      "/Users/vladimir.levin/Yandex.Disk.localized/01_Documents/01_Study/0_LUX/01_PhD/Drafts/Project3/kaggle_volatility/support_file.py:1675: RuntimeWarning: invalid value encountered in true_divide\n",
      "  w_ask = np.sum(df_book[(start_time <= df_book['seconds_in_bucket']) & (df_book['seconds_in_bucket'] < end_time)]['ask_price1'] * df_book[(start_time <= df_book['seconds_in_bucket']) & (df_book['seconds_in_bucket'] < end_time)]['time_length']) / (end_time - start_time)\n",
      "/Users/vladimir.levin/Yandex.Disk.localized/01_Documents/01_Study/0_LUX/01_PhD/Drafts/Project3/kaggle_volatility/support_file.py:1676: RuntimeWarning: invalid value encountered in true_divide\n",
      "  w_bid = np.sum(df_book[(start_time <= df_book['seconds_in_bucket']) & (df_book['seconds_in_bucket'] < end_time)]['bid_price1'] * df_book[(start_time <= df_book['seconds_in_bucket']) & (df_book['seconds_in_bucket'] < end_time)]['time_length']) / (end_time - start_time)\n"
     ]
    },
    {
     "name": "stdout",
     "output_type": "stream",
     "text": [
      "20577\n",
      "20581\n",
      "20585\n",
      "20597\n",
      "20603\n",
      "20630\n"
     ]
    },
    {
     "name": "stderr",
     "output_type": "stream",
     "text": [
      "/Users/vladimir.levin/Yandex.Disk.localized/01_Documents/01_Study/0_LUX/01_PhD/Drafts/Project3/kaggle_volatility/support_file.py:1675: RuntimeWarning: invalid value encountered in true_divide\n",
      "  w_ask = np.sum(df_book[(start_time <= df_book['seconds_in_bucket']) & (df_book['seconds_in_bucket'] < end_time)]['ask_price1'] * df_book[(start_time <= df_book['seconds_in_bucket']) & (df_book['seconds_in_bucket'] < end_time)]['time_length']) / (end_time - start_time)\n",
      "/Users/vladimir.levin/Yandex.Disk.localized/01_Documents/01_Study/0_LUX/01_PhD/Drafts/Project3/kaggle_volatility/support_file.py:1676: RuntimeWarning: invalid value encountered in true_divide\n",
      "  w_bid = np.sum(df_book[(start_time <= df_book['seconds_in_bucket']) & (df_book['seconds_in_bucket'] < end_time)]['bid_price1'] * df_book[(start_time <= df_book['seconds_in_bucket']) & (df_book['seconds_in_bucket'] < end_time)]['time_length']) / (end_time - start_time)\n"
     ]
    },
    {
     "name": "stdout",
     "output_type": "stream",
     "text": [
      "20631\n",
      "20644\n",
      "20651\n",
      "20669\n",
      "20673\n",
      "20678\n",
      "20691\n",
      "20715\n",
      "20732\n"
     ]
    },
    {
     "name": "stderr",
     "output_type": "stream",
     "text": [
      "/Users/vladimir.levin/Yandex.Disk.localized/01_Documents/01_Study/0_LUX/01_PhD/Drafts/Project3/kaggle_volatility/support_file.py:1675: RuntimeWarning: invalid value encountered in true_divide\n",
      "  w_ask = np.sum(df_book[(start_time <= df_book['seconds_in_bucket']) & (df_book['seconds_in_bucket'] < end_time)]['ask_price1'] * df_book[(start_time <= df_book['seconds_in_bucket']) & (df_book['seconds_in_bucket'] < end_time)]['time_length']) / (end_time - start_time)\n",
      "/Users/vladimir.levin/Yandex.Disk.localized/01_Documents/01_Study/0_LUX/01_PhD/Drafts/Project3/kaggle_volatility/support_file.py:1676: RuntimeWarning: invalid value encountered in true_divide\n",
      "  w_bid = np.sum(df_book[(start_time <= df_book['seconds_in_bucket']) & (df_book['seconds_in_bucket'] < end_time)]['bid_price1'] * df_book[(start_time <= df_book['seconds_in_bucket']) & (df_book['seconds_in_bucket'] < end_time)]['time_length']) / (end_time - start_time)\n"
     ]
    },
    {
     "name": "stdout",
     "output_type": "stream",
     "text": [
      "20734\n",
      "20762\n",
      "20770\n",
      "20776\n",
      "20782\n",
      "20785\n",
      "20790\n",
      "20796\n",
      "20810\n",
      "20826\n",
      "20827\n",
      "20837\n",
      "20843\n",
      "20851\n",
      "20858\n"
     ]
    },
    {
     "name": "stderr",
     "output_type": "stream",
     "text": [
      "/Users/vladimir.levin/Yandex.Disk.localized/01_Documents/01_Study/0_LUX/01_PhD/Drafts/Project3/kaggle_volatility/support_file.py:1675: RuntimeWarning: invalid value encountered in true_divide\n",
      "  w_ask = np.sum(df_book[(start_time <= df_book['seconds_in_bucket']) & (df_book['seconds_in_bucket'] < end_time)]['ask_price1'] * df_book[(start_time <= df_book['seconds_in_bucket']) & (df_book['seconds_in_bucket'] < end_time)]['time_length']) / (end_time - start_time)\n",
      "/Users/vladimir.levin/Yandex.Disk.localized/01_Documents/01_Study/0_LUX/01_PhD/Drafts/Project3/kaggle_volatility/support_file.py:1676: RuntimeWarning: invalid value encountered in true_divide\n",
      "  w_bid = np.sum(df_book[(start_time <= df_book['seconds_in_bucket']) & (df_book['seconds_in_bucket'] < end_time)]['bid_price1'] * df_book[(start_time <= df_book['seconds_in_bucket']) & (df_book['seconds_in_bucket'] < end_time)]['time_length']) / (end_time - start_time)\n"
     ]
    },
    {
     "name": "stdout",
     "output_type": "stream",
     "text": [
      "20862\n",
      "20872\n",
      "20881\n",
      "20900\n",
      "20914\n"
     ]
    },
    {
     "name": "stderr",
     "output_type": "stream",
     "text": [
      "/Users/vladimir.levin/Yandex.Disk.localized/01_Documents/01_Study/0_LUX/01_PhD/Drafts/Project3/kaggle_volatility/support_file.py:1675: RuntimeWarning: invalid value encountered in true_divide\n",
      "  w_ask = np.sum(df_book[(start_time <= df_book['seconds_in_bucket']) & (df_book['seconds_in_bucket'] < end_time)]['ask_price1'] * df_book[(start_time <= df_book['seconds_in_bucket']) & (df_book['seconds_in_bucket'] < end_time)]['time_length']) / (end_time - start_time)\n",
      "/Users/vladimir.levin/Yandex.Disk.localized/01_Documents/01_Study/0_LUX/01_PhD/Drafts/Project3/kaggle_volatility/support_file.py:1676: RuntimeWarning: invalid value encountered in true_divide\n",
      "  w_bid = np.sum(df_book[(start_time <= df_book['seconds_in_bucket']) & (df_book['seconds_in_bucket'] < end_time)]['bid_price1'] * df_book[(start_time <= df_book['seconds_in_bucket']) & (df_book['seconds_in_bucket'] < end_time)]['time_length']) / (end_time - start_time)\n"
     ]
    },
    {
     "name": "stdout",
     "output_type": "stream",
     "text": [
      "20927\n",
      "20928\n",
      "20935\n",
      "20936\n",
      "20939\n",
      "20944\n",
      "20945\n",
      "20950\n",
      "20953\n"
     ]
    },
    {
     "name": "stderr",
     "output_type": "stream",
     "text": [
      "/Users/vladimir.levin/Yandex.Disk.localized/01_Documents/01_Study/0_LUX/01_PhD/Drafts/Project3/kaggle_volatility/support_file.py:1675: RuntimeWarning: invalid value encountered in true_divide\n",
      "  w_ask = np.sum(df_book[(start_time <= df_book['seconds_in_bucket']) & (df_book['seconds_in_bucket'] < end_time)]['ask_price1'] * df_book[(start_time <= df_book['seconds_in_bucket']) & (df_book['seconds_in_bucket'] < end_time)]['time_length']) / (end_time - start_time)\n",
      "/Users/vladimir.levin/Yandex.Disk.localized/01_Documents/01_Study/0_LUX/01_PhD/Drafts/Project3/kaggle_volatility/support_file.py:1676: RuntimeWarning: invalid value encountered in true_divide\n",
      "  w_bid = np.sum(df_book[(start_time <= df_book['seconds_in_bucket']) & (df_book['seconds_in_bucket'] < end_time)]['bid_price1'] * df_book[(start_time <= df_book['seconds_in_bucket']) & (df_book['seconds_in_bucket'] < end_time)]['time_length']) / (end_time - start_time)\n"
     ]
    },
    {
     "name": "stdout",
     "output_type": "stream",
     "text": [
      "20972\n",
      "20973\n",
      "20995\n",
      "20996\n",
      "21020\n",
      "21024\n",
      "21038\n",
      "21040\n",
      "21051\n",
      "21053\n",
      "21074\n",
      "21079\n",
      "21083\n",
      "21094\n",
      "21099\n",
      "21103\n",
      "21116\n",
      "21121\n",
      "21136\n"
     ]
    },
    {
     "name": "stderr",
     "output_type": "stream",
     "text": [
      "/Users/vladimir.levin/Yandex.Disk.localized/01_Documents/01_Study/0_LUX/01_PhD/Drafts/Project3/kaggle_volatility/support_file.py:1675: RuntimeWarning: invalid value encountered in true_divide\n",
      "  w_ask = np.sum(df_book[(start_time <= df_book['seconds_in_bucket']) & (df_book['seconds_in_bucket'] < end_time)]['ask_price1'] * df_book[(start_time <= df_book['seconds_in_bucket']) & (df_book['seconds_in_bucket'] < end_time)]['time_length']) / (end_time - start_time)\n",
      "/Users/vladimir.levin/Yandex.Disk.localized/01_Documents/01_Study/0_LUX/01_PhD/Drafts/Project3/kaggle_volatility/support_file.py:1676: RuntimeWarning: invalid value encountered in true_divide\n",
      "  w_bid = np.sum(df_book[(start_time <= df_book['seconds_in_bucket']) & (df_book['seconds_in_bucket'] < end_time)]['bid_price1'] * df_book[(start_time <= df_book['seconds_in_bucket']) & (df_book['seconds_in_bucket'] < end_time)]['time_length']) / (end_time - start_time)\n",
      "/Users/vladimir.levin/Yandex.Disk.localized/01_Documents/01_Study/0_LUX/01_PhD/Drafts/Project3/kaggle_volatility/support_file.py:1675: RuntimeWarning: invalid value encountered in true_divide\n",
      "  w_ask = np.sum(df_book[(start_time <= df_book['seconds_in_bucket']) & (df_book['seconds_in_bucket'] < end_time)]['ask_price1'] * df_book[(start_time <= df_book['seconds_in_bucket']) & (df_book['seconds_in_bucket'] < end_time)]['time_length']) / (end_time - start_time)\n",
      "/Users/vladimir.levin/Yandex.Disk.localized/01_Documents/01_Study/0_LUX/01_PhD/Drafts/Project3/kaggle_volatility/support_file.py:1676: RuntimeWarning: invalid value encountered in true_divide\n",
      "  w_bid = np.sum(df_book[(start_time <= df_book['seconds_in_bucket']) & (df_book['seconds_in_bucket'] < end_time)]['bid_price1'] * df_book[(start_time <= df_book['seconds_in_bucket']) & (df_book['seconds_in_bucket'] < end_time)]['time_length']) / (end_time - start_time)\n"
     ]
    },
    {
     "name": "stdout",
     "output_type": "stream",
     "text": [
      "21139\n",
      "21145\n"
     ]
    },
    {
     "name": "stderr",
     "output_type": "stream",
     "text": [
      "/Users/vladimir.levin/Yandex.Disk.localized/01_Documents/01_Study/0_LUX/01_PhD/Drafts/Project3/kaggle_volatility/support_file.py:1675: RuntimeWarning: invalid value encountered in true_divide\n",
      "  w_ask = np.sum(df_book[(start_time <= df_book['seconds_in_bucket']) & (df_book['seconds_in_bucket'] < end_time)]['ask_price1'] * df_book[(start_time <= df_book['seconds_in_bucket']) & (df_book['seconds_in_bucket'] < end_time)]['time_length']) / (end_time - start_time)\n",
      "/Users/vladimir.levin/Yandex.Disk.localized/01_Documents/01_Study/0_LUX/01_PhD/Drafts/Project3/kaggle_volatility/support_file.py:1676: RuntimeWarning: invalid value encountered in true_divide\n",
      "  w_bid = np.sum(df_book[(start_time <= df_book['seconds_in_bucket']) & (df_book['seconds_in_bucket'] < end_time)]['bid_price1'] * df_book[(start_time <= df_book['seconds_in_bucket']) & (df_book['seconds_in_bucket'] < end_time)]['time_length']) / (end_time - start_time)\n"
     ]
    },
    {
     "name": "stdout",
     "output_type": "stream",
     "text": [
      "21148\n",
      "21164\n",
      "21169\n",
      "21179\n",
      "21203\n",
      "21208\n",
      "21218\n",
      "21239\n",
      "21240\n",
      "21243\n"
     ]
    },
    {
     "name": "stderr",
     "output_type": "stream",
     "text": [
      "/Users/vladimir.levin/Yandex.Disk.localized/01_Documents/01_Study/0_LUX/01_PhD/Drafts/Project3/kaggle_volatility/support_file.py:1675: RuntimeWarning: invalid value encountered in true_divide\n",
      "  w_ask = np.sum(df_book[(start_time <= df_book['seconds_in_bucket']) & (df_book['seconds_in_bucket'] < end_time)]['ask_price1'] * df_book[(start_time <= df_book['seconds_in_bucket']) & (df_book['seconds_in_bucket'] < end_time)]['time_length']) / (end_time - start_time)\n",
      "/Users/vladimir.levin/Yandex.Disk.localized/01_Documents/01_Study/0_LUX/01_PhD/Drafts/Project3/kaggle_volatility/support_file.py:1676: RuntimeWarning: invalid value encountered in true_divide\n",
      "  w_bid = np.sum(df_book[(start_time <= df_book['seconds_in_bucket']) & (df_book['seconds_in_bucket'] < end_time)]['bid_price1'] * df_book[(start_time <= df_book['seconds_in_bucket']) & (df_book['seconds_in_bucket'] < end_time)]['time_length']) / (end_time - start_time)\n"
     ]
    },
    {
     "name": "stdout",
     "output_type": "stream",
     "text": [
      "21246\n",
      "21248\n",
      "21267\n",
      "21272\n",
      "21300\n",
      "21301\n"
     ]
    },
    {
     "name": "stderr",
     "output_type": "stream",
     "text": [
      "/Users/vladimir.levin/Yandex.Disk.localized/01_Documents/01_Study/0_LUX/01_PhD/Drafts/Project3/kaggle_volatility/support_file.py:1675: RuntimeWarning: invalid value encountered in true_divide\n",
      "  w_ask = np.sum(df_book[(start_time <= df_book['seconds_in_bucket']) & (df_book['seconds_in_bucket'] < end_time)]['ask_price1'] * df_book[(start_time <= df_book['seconds_in_bucket']) & (df_book['seconds_in_bucket'] < end_time)]['time_length']) / (end_time - start_time)\n",
      "/Users/vladimir.levin/Yandex.Disk.localized/01_Documents/01_Study/0_LUX/01_PhD/Drafts/Project3/kaggle_volatility/support_file.py:1676: RuntimeWarning: invalid value encountered in true_divide\n",
      "  w_bid = np.sum(df_book[(start_time <= df_book['seconds_in_bucket']) & (df_book['seconds_in_bucket'] < end_time)]['bid_price1'] * df_book[(start_time <= df_book['seconds_in_bucket']) & (df_book['seconds_in_bucket'] < end_time)]['time_length']) / (end_time - start_time)\n"
     ]
    },
    {
     "name": "stdout",
     "output_type": "stream",
     "text": [
      "21307\n",
      "21326\n",
      "21328\n",
      "21329\n",
      "21344\n"
     ]
    },
    {
     "name": "stderr",
     "output_type": "stream",
     "text": [
      "/Users/vladimir.levin/Yandex.Disk.localized/01_Documents/01_Study/0_LUX/01_PhD/Drafts/Project3/kaggle_volatility/support_file.py:1675: RuntimeWarning: invalid value encountered in true_divide\n",
      "  w_ask = np.sum(df_book[(start_time <= df_book['seconds_in_bucket']) & (df_book['seconds_in_bucket'] < end_time)]['ask_price1'] * df_book[(start_time <= df_book['seconds_in_bucket']) & (df_book['seconds_in_bucket'] < end_time)]['time_length']) / (end_time - start_time)\n",
      "/Users/vladimir.levin/Yandex.Disk.localized/01_Documents/01_Study/0_LUX/01_PhD/Drafts/Project3/kaggle_volatility/support_file.py:1676: RuntimeWarning: invalid value encountered in true_divide\n",
      "  w_bid = np.sum(df_book[(start_time <= df_book['seconds_in_bucket']) & (df_book['seconds_in_bucket'] < end_time)]['bid_price1'] * df_book[(start_time <= df_book['seconds_in_bucket']) & (df_book['seconds_in_bucket'] < end_time)]['time_length']) / (end_time - start_time)\n"
     ]
    },
    {
     "name": "stdout",
     "output_type": "stream",
     "text": [
      "21364\n",
      "21367\n",
      "21368\n",
      "21373\n",
      "21391\n",
      "21398\n",
      "21404\n",
      "21428\n",
      "21431\n"
     ]
    },
    {
     "name": "stderr",
     "output_type": "stream",
     "text": [
      "/Users/vladimir.levin/Yandex.Disk.localized/01_Documents/01_Study/0_LUX/01_PhD/Drafts/Project3/kaggle_volatility/support_file.py:1675: RuntimeWarning: invalid value encountered in true_divide\n",
      "  w_ask = np.sum(df_book[(start_time <= df_book['seconds_in_bucket']) & (df_book['seconds_in_bucket'] < end_time)]['ask_price1'] * df_book[(start_time <= df_book['seconds_in_bucket']) & (df_book['seconds_in_bucket'] < end_time)]['time_length']) / (end_time - start_time)\n",
      "/Users/vladimir.levin/Yandex.Disk.localized/01_Documents/01_Study/0_LUX/01_PhD/Drafts/Project3/kaggle_volatility/support_file.py:1676: RuntimeWarning: invalid value encountered in true_divide\n",
      "  w_bid = np.sum(df_book[(start_time <= df_book['seconds_in_bucket']) & (df_book['seconds_in_bucket'] < end_time)]['bid_price1'] * df_book[(start_time <= df_book['seconds_in_bucket']) & (df_book['seconds_in_bucket'] < end_time)]['time_length']) / (end_time - start_time)\n"
     ]
    },
    {
     "name": "stdout",
     "output_type": "stream",
     "text": [
      "21434\n",
      "21437\n",
      "21439\n",
      "21445\n",
      "21446\n"
     ]
    },
    {
     "name": "stderr",
     "output_type": "stream",
     "text": [
      "/Users/vladimir.levin/Yandex.Disk.localized/01_Documents/01_Study/0_LUX/01_PhD/Drafts/Project3/kaggle_volatility/support_file.py:1675: RuntimeWarning: invalid value encountered in true_divide\n",
      "  w_ask = np.sum(df_book[(start_time <= df_book['seconds_in_bucket']) & (df_book['seconds_in_bucket'] < end_time)]['ask_price1'] * df_book[(start_time <= df_book['seconds_in_bucket']) & (df_book['seconds_in_bucket'] < end_time)]['time_length']) / (end_time - start_time)\n",
      "/Users/vladimir.levin/Yandex.Disk.localized/01_Documents/01_Study/0_LUX/01_PhD/Drafts/Project3/kaggle_volatility/support_file.py:1676: RuntimeWarning: invalid value encountered in true_divide\n",
      "  w_bid = np.sum(df_book[(start_time <= df_book['seconds_in_bucket']) & (df_book['seconds_in_bucket'] < end_time)]['bid_price1'] * df_book[(start_time <= df_book['seconds_in_bucket']) & (df_book['seconds_in_bucket'] < end_time)]['time_length']) / (end_time - start_time)\n"
     ]
    },
    {
     "name": "stdout",
     "output_type": "stream",
     "text": [
      "21466\n",
      "21486\n",
      "21493\n",
      "21507\n",
      "21533\n",
      "21555\n",
      "21601\n",
      "21602\n",
      "21614"
     ]
    },
    {
     "name": "stderr",
     "output_type": "stream",
     "text": [
      "/Users/vladimir.levin/Yandex.Disk.localized/01_Documents/01_Study/0_LUX/01_PhD/Drafts/Project3/kaggle_volatility/support_file.py:1675: RuntimeWarning: invalid value encountered in true_divide\n",
      "  w_ask = np.sum(df_book[(start_time <= df_book['seconds_in_bucket']) & (df_book['seconds_in_bucket'] < end_time)]['ask_price1'] * df_book[(start_time <= df_book['seconds_in_bucket']) & (df_book['seconds_in_bucket'] < end_time)]['time_length']) / (end_time - start_time)\n",
      "/Users/vladimir.levin/Yandex.Disk.localized/01_Documents/01_Study/0_LUX/01_PhD/Drafts/Project3/kaggle_volatility/support_file.py:1676: RuntimeWarning: invalid value encountered in true_divide\n",
      "  w_bid = np.sum(df_book[(start_time <= df_book['seconds_in_bucket']) & (df_book['seconds_in_bucket'] < end_time)]['bid_price1'] * df_book[(start_time <= df_book['seconds_in_bucket']) & (df_book['seconds_in_bucket'] < end_time)]['time_length']) / (end_time - start_time)\n"
     ]
    },
    {
     "name": "stdout",
     "output_type": "stream",
     "text": [
      "\n",
      "21621\n",
      "21634\n",
      "21640\n",
      "21645\n",
      "21647\n",
      "21655\n",
      "21657\n",
      "21658\n",
      "21659\n",
      "21685\n",
      "21693"
     ]
    },
    {
     "name": "stderr",
     "output_type": "stream",
     "text": [
      "/Users/vladimir.levin/Yandex.Disk.localized/01_Documents/01_Study/0_LUX/01_PhD/Drafts/Project3/kaggle_volatility/support_file.py:1675: RuntimeWarning: invalid value encountered in true_divide\n",
      "  w_ask = np.sum(df_book[(start_time <= df_book['seconds_in_bucket']) & (df_book['seconds_in_bucket'] < end_time)]['ask_price1'] * df_book[(start_time <= df_book['seconds_in_bucket']) & (df_book['seconds_in_bucket'] < end_time)]['time_length']) / (end_time - start_time)\n",
      "/Users/vladimir.levin/Yandex.Disk.localized/01_Documents/01_Study/0_LUX/01_PhD/Drafts/Project3/kaggle_volatility/support_file.py:1676: RuntimeWarning: invalid value encountered in true_divide\n",
      "  w_bid = np.sum(df_book[(start_time <= df_book['seconds_in_bucket']) & (df_book['seconds_in_bucket'] < end_time)]['bid_price1'] * df_book[(start_time <= df_book['seconds_in_bucket']) & (df_book['seconds_in_bucket'] < end_time)]['time_length']) / (end_time - start_time)\n",
      "/Users/vladimir.levin/Yandex.Disk.localized/01_Documents/01_Study/0_LUX/01_PhD/Drafts/Project3/kaggle_volatility/support_file.py:1675: RuntimeWarning: invalid value encountered in true_divide\n",
      "  w_ask = np.sum(df_book[(start_time <= df_book['seconds_in_bucket']) & (df_book['seconds_in_bucket'] < end_time)]['ask_price1'] * df_book[(start_time <= df_book['seconds_in_bucket']) & (df_book['seconds_in_bucket'] < end_time)]['time_length']) / (end_time - start_time)\n",
      "/Users/vladimir.levin/Yandex.Disk.localized/01_Documents/01_Study/0_LUX/01_PhD/Drafts/Project3/kaggle_volatility/support_file.py:1676: RuntimeWarning: invalid value encountered in true_divide\n",
      "  w_bid = np.sum(df_book[(start_time <= df_book['seconds_in_bucket']) & (df_book['seconds_in_bucket'] < end_time)]['bid_price1'] * df_book[(start_time <= df_book['seconds_in_bucket']) & (df_book['seconds_in_bucket'] < end_time)]['time_length']) / (end_time - start_time)\n",
      "/Users/vladimir.levin/Yandex.Disk.localized/01_Documents/01_Study/0_LUX/01_PhD/Drafts/Project3/kaggle_volatility/support_file.py:1675: RuntimeWarning: invalid value encountered in true_divide\n",
      "  w_ask = np.sum(df_book[(start_time <= df_book['seconds_in_bucket']) & (df_book['seconds_in_bucket'] < end_time)]['ask_price1'] * df_book[(start_time <= df_book['seconds_in_bucket']) & (df_book['seconds_in_bucket'] < end_time)]['time_length']) / (end_time - start_time)\n",
      "/Users/vladimir.levin/Yandex.Disk.localized/01_Documents/01_Study/0_LUX/01_PhD/Drafts/Project3/kaggle_volatility/support_file.py:1676: RuntimeWarning: invalid value encountered in true_divide\n",
      "  w_bid = np.sum(df_book[(start_time <= df_book['seconds_in_bucket']) & (df_book['seconds_in_bucket'] < end_time)]['bid_price1'] * df_book[(start_time <= df_book['seconds_in_bucket']) & (df_book['seconds_in_bucket'] < end_time)]['time_length']) / (end_time - start_time)\n"
     ]
    },
    {
     "name": "stdout",
     "output_type": "stream",
     "text": [
      "\n",
      "21695\n",
      "21716\n",
      "21718\n",
      "21732\n",
      "21734\n",
      "21744\n",
      "21753\n",
      "21762\n",
      "21770\n",
      "21777\n",
      "21805\n"
     ]
    },
    {
     "name": "stderr",
     "output_type": "stream",
     "text": [
      "/Users/vladimir.levin/Yandex.Disk.localized/01_Documents/01_Study/0_LUX/01_PhD/Drafts/Project3/kaggle_volatility/support_file.py:1675: RuntimeWarning: invalid value encountered in true_divide\n",
      "  w_ask = np.sum(df_book[(start_time <= df_book['seconds_in_bucket']) & (df_book['seconds_in_bucket'] < end_time)]['ask_price1'] * df_book[(start_time <= df_book['seconds_in_bucket']) & (df_book['seconds_in_bucket'] < end_time)]['time_length']) / (end_time - start_time)\n",
      "/Users/vladimir.levin/Yandex.Disk.localized/01_Documents/01_Study/0_LUX/01_PhD/Drafts/Project3/kaggle_volatility/support_file.py:1676: RuntimeWarning: invalid value encountered in true_divide\n",
      "  w_bid = np.sum(df_book[(start_time <= df_book['seconds_in_bucket']) & (df_book['seconds_in_bucket'] < end_time)]['bid_price1'] * df_book[(start_time <= df_book['seconds_in_bucket']) & (df_book['seconds_in_bucket'] < end_time)]['time_length']) / (end_time - start_time)\n"
     ]
    },
    {
     "name": "stdout",
     "output_type": "stream",
     "text": [
      "21825\n",
      "21834\n",
      "21843\n"
     ]
    },
    {
     "name": "stderr",
     "output_type": "stream",
     "text": [
      "/Users/vladimir.levin/Yandex.Disk.localized/01_Documents/01_Study/0_LUX/01_PhD/Drafts/Project3/kaggle_volatility/support_file.py:1675: RuntimeWarning: invalid value encountered in true_divide\n",
      "  w_ask = np.sum(df_book[(start_time <= df_book['seconds_in_bucket']) & (df_book['seconds_in_bucket'] < end_time)]['ask_price1'] * df_book[(start_time <= df_book['seconds_in_bucket']) & (df_book['seconds_in_bucket'] < end_time)]['time_length']) / (end_time - start_time)\n",
      "/Users/vladimir.levin/Yandex.Disk.localized/01_Documents/01_Study/0_LUX/01_PhD/Drafts/Project3/kaggle_volatility/support_file.py:1676: RuntimeWarning: invalid value encountered in true_divide\n",
      "  w_bid = np.sum(df_book[(start_time <= df_book['seconds_in_bucket']) & (df_book['seconds_in_bucket'] < end_time)]['bid_price1'] * df_book[(start_time <= df_book['seconds_in_bucket']) & (df_book['seconds_in_bucket'] < end_time)]['time_length']) / (end_time - start_time)\n"
     ]
    },
    {
     "name": "stdout",
     "output_type": "stream",
     "text": [
      "21848\n",
      "21849\n",
      "21854\n",
      "21883\n",
      "21884\n",
      "21886\n",
      "21888\n"
     ]
    },
    {
     "name": "stderr",
     "output_type": "stream",
     "text": [
      "/Users/vladimir.levin/Yandex.Disk.localized/01_Documents/01_Study/0_LUX/01_PhD/Drafts/Project3/kaggle_volatility/support_file.py:1675: RuntimeWarning: invalid value encountered in true_divide\n",
      "  w_ask = np.sum(df_book[(start_time <= df_book['seconds_in_bucket']) & (df_book['seconds_in_bucket'] < end_time)]['ask_price1'] * df_book[(start_time <= df_book['seconds_in_bucket']) & (df_book['seconds_in_bucket'] < end_time)]['time_length']) / (end_time - start_time)\n",
      "/Users/vladimir.levin/Yandex.Disk.localized/01_Documents/01_Study/0_LUX/01_PhD/Drafts/Project3/kaggle_volatility/support_file.py:1676: RuntimeWarning: invalid value encountered in true_divide\n",
      "  w_bid = np.sum(df_book[(start_time <= df_book['seconds_in_bucket']) & (df_book['seconds_in_bucket'] < end_time)]['bid_price1'] * df_book[(start_time <= df_book['seconds_in_bucket']) & (df_book['seconds_in_bucket'] < end_time)]['time_length']) / (end_time - start_time)\n"
     ]
    },
    {
     "name": "stdout",
     "output_type": "stream",
     "text": [
      "21890\n",
      "21891\n",
      "21897\n",
      "21906\n",
      "21911\n",
      "21920\n",
      "21931\n",
      "21934\n",
      "21988\n",
      "21990\n",
      "21995"
     ]
    },
    {
     "name": "stderr",
     "output_type": "stream",
     "text": [
      "/Users/vladimir.levin/Yandex.Disk.localized/01_Documents/01_Study/0_LUX/01_PhD/Drafts/Project3/kaggle_volatility/support_file.py:1675: RuntimeWarning: invalid value encountered in true_divide\n",
      "  w_ask = np.sum(df_book[(start_time <= df_book['seconds_in_bucket']) & (df_book['seconds_in_bucket'] < end_time)]['ask_price1'] * df_book[(start_time <= df_book['seconds_in_bucket']) & (df_book['seconds_in_bucket'] < end_time)]['time_length']) / (end_time - start_time)\n",
      "/Users/vladimir.levin/Yandex.Disk.localized/01_Documents/01_Study/0_LUX/01_PhD/Drafts/Project3/kaggle_volatility/support_file.py:1676: RuntimeWarning: invalid value encountered in true_divide\n",
      "  w_bid = np.sum(df_book[(start_time <= df_book['seconds_in_bucket']) & (df_book['seconds_in_bucket'] < end_time)]['bid_price1'] * df_book[(start_time <= df_book['seconds_in_bucket']) & (df_book['seconds_in_bucket'] < end_time)]['time_length']) / (end_time - start_time)\n"
     ]
    },
    {
     "name": "stdout",
     "output_type": "stream",
     "text": [
      "\n",
      "22003\n",
      "22008\n",
      "22011\n",
      "22013\n"
     ]
    },
    {
     "name": "stderr",
     "output_type": "stream",
     "text": [
      "/Users/vladimir.levin/Yandex.Disk.localized/01_Documents/01_Study/0_LUX/01_PhD/Drafts/Project3/kaggle_volatility/support_file.py:1675: RuntimeWarning: invalid value encountered in true_divide\n",
      "  w_ask = np.sum(df_book[(start_time <= df_book['seconds_in_bucket']) & (df_book['seconds_in_bucket'] < end_time)]['ask_price1'] * df_book[(start_time <= df_book['seconds_in_bucket']) & (df_book['seconds_in_bucket'] < end_time)]['time_length']) / (end_time - start_time)\n",
      "/Users/vladimir.levin/Yandex.Disk.localized/01_Documents/01_Study/0_LUX/01_PhD/Drafts/Project3/kaggle_volatility/support_file.py:1676: RuntimeWarning: invalid value encountered in true_divide\n",
      "  w_bid = np.sum(df_book[(start_time <= df_book['seconds_in_bucket']) & (df_book['seconds_in_bucket'] < end_time)]['bid_price1'] * df_book[(start_time <= df_book['seconds_in_bucket']) & (df_book['seconds_in_bucket'] < end_time)]['time_length']) / (end_time - start_time)\n",
      "/Users/vladimir.levin/Yandex.Disk.localized/01_Documents/01_Study/0_LUX/01_PhD/Drafts/Project3/kaggle_volatility/support_file.py:1675: RuntimeWarning: invalid value encountered in true_divide\n",
      "  w_ask = np.sum(df_book[(start_time <= df_book['seconds_in_bucket']) & (df_book['seconds_in_bucket'] < end_time)]['ask_price1'] * df_book[(start_time <= df_book['seconds_in_bucket']) & (df_book['seconds_in_bucket'] < end_time)]['time_length']) / (end_time - start_time)\n",
      "/Users/vladimir.levin/Yandex.Disk.localized/01_Documents/01_Study/0_LUX/01_PhD/Drafts/Project3/kaggle_volatility/support_file.py:1676: RuntimeWarning: invalid value encountered in true_divide\n",
      "  w_bid = np.sum(df_book[(start_time <= df_book['seconds_in_bucket']) & (df_book['seconds_in_bucket'] < end_time)]['bid_price1'] * df_book[(start_time <= df_book['seconds_in_bucket']) & (df_book['seconds_in_bucket'] < end_time)]['time_length']) / (end_time - start_time)\n"
     ]
    },
    {
     "name": "stdout",
     "output_type": "stream",
     "text": [
      "22014\n",
      "22023\n"
     ]
    },
    {
     "name": "stderr",
     "output_type": "stream",
     "text": [
      "/Users/vladimir.levin/Yandex.Disk.localized/01_Documents/01_Study/0_LUX/01_PhD/Drafts/Project3/kaggle_volatility/support_file.py:1675: RuntimeWarning: invalid value encountered in true_divide\n",
      "  w_ask = np.sum(df_book[(start_time <= df_book['seconds_in_bucket']) & (df_book['seconds_in_bucket'] < end_time)]['ask_price1'] * df_book[(start_time <= df_book['seconds_in_bucket']) & (df_book['seconds_in_bucket'] < end_time)]['time_length']) / (end_time - start_time)\n",
      "/Users/vladimir.levin/Yandex.Disk.localized/01_Documents/01_Study/0_LUX/01_PhD/Drafts/Project3/kaggle_volatility/support_file.py:1676: RuntimeWarning: invalid value encountered in true_divide\n",
      "  w_bid = np.sum(df_book[(start_time <= df_book['seconds_in_bucket']) & (df_book['seconds_in_bucket'] < end_time)]['bid_price1'] * df_book[(start_time <= df_book['seconds_in_bucket']) & (df_book['seconds_in_bucket'] < end_time)]['time_length']) / (end_time - start_time)\n"
     ]
    },
    {
     "name": "stdout",
     "output_type": "stream",
     "text": [
      "22026\n",
      "22038\n",
      "22042\n",
      "22047\n",
      "22064\n",
      "22067\n",
      "22076\n",
      "22079\n"
     ]
    },
    {
     "name": "stderr",
     "output_type": "stream",
     "text": [
      "/Users/vladimir.levin/Yandex.Disk.localized/01_Documents/01_Study/0_LUX/01_PhD/Drafts/Project3/kaggle_volatility/support_file.py:1675: RuntimeWarning: invalid value encountered in true_divide\n",
      "  w_ask = np.sum(df_book[(start_time <= df_book['seconds_in_bucket']) & (df_book['seconds_in_bucket'] < end_time)]['ask_price1'] * df_book[(start_time <= df_book['seconds_in_bucket']) & (df_book['seconds_in_bucket'] < end_time)]['time_length']) / (end_time - start_time)\n",
      "/Users/vladimir.levin/Yandex.Disk.localized/01_Documents/01_Study/0_LUX/01_PhD/Drafts/Project3/kaggle_volatility/support_file.py:1676: RuntimeWarning: invalid value encountered in true_divide\n",
      "  w_bid = np.sum(df_book[(start_time <= df_book['seconds_in_bucket']) & (df_book['seconds_in_bucket'] < end_time)]['bid_price1'] * df_book[(start_time <= df_book['seconds_in_bucket']) & (df_book['seconds_in_bucket'] < end_time)]['time_length']) / (end_time - start_time)\n"
     ]
    },
    {
     "name": "stdout",
     "output_type": "stream",
     "text": [
      "22081\n",
      "22106\n",
      "22115\n",
      "22117\n",
      "22120\n",
      "22126\n",
      "22133\n"
     ]
    },
    {
     "name": "stderr",
     "output_type": "stream",
     "text": [
      "/Users/vladimir.levin/Yandex.Disk.localized/01_Documents/01_Study/0_LUX/01_PhD/Drafts/Project3/kaggle_volatility/support_file.py:1675: RuntimeWarning: invalid value encountered in true_divide\n",
      "  w_ask = np.sum(df_book[(start_time <= df_book['seconds_in_bucket']) & (df_book['seconds_in_bucket'] < end_time)]['ask_price1'] * df_book[(start_time <= df_book['seconds_in_bucket']) & (df_book['seconds_in_bucket'] < end_time)]['time_length']) / (end_time - start_time)\n",
      "/Users/vladimir.levin/Yandex.Disk.localized/01_Documents/01_Study/0_LUX/01_PhD/Drafts/Project3/kaggle_volatility/support_file.py:1676: RuntimeWarning: invalid value encountered in true_divide\n",
      "  w_bid = np.sum(df_book[(start_time <= df_book['seconds_in_bucket']) & (df_book['seconds_in_bucket'] < end_time)]['bid_price1'] * df_book[(start_time <= df_book['seconds_in_bucket']) & (df_book['seconds_in_bucket'] < end_time)]['time_length']) / (end_time - start_time)\n"
     ]
    },
    {
     "name": "stdout",
     "output_type": "stream",
     "text": [
      "22159\n",
      "22166\n"
     ]
    },
    {
     "name": "stderr",
     "output_type": "stream",
     "text": [
      "/Users/vladimir.levin/Yandex.Disk.localized/01_Documents/01_Study/0_LUX/01_PhD/Drafts/Project3/kaggle_volatility/support_file.py:1675: RuntimeWarning: invalid value encountered in true_divide\n",
      "  w_ask = np.sum(df_book[(start_time <= df_book['seconds_in_bucket']) & (df_book['seconds_in_bucket'] < end_time)]['ask_price1'] * df_book[(start_time <= df_book['seconds_in_bucket']) & (df_book['seconds_in_bucket'] < end_time)]['time_length']) / (end_time - start_time)\n",
      "/Users/vladimir.levin/Yandex.Disk.localized/01_Documents/01_Study/0_LUX/01_PhD/Drafts/Project3/kaggle_volatility/support_file.py:1676: RuntimeWarning: invalid value encountered in true_divide\n",
      "  w_bid = np.sum(df_book[(start_time <= df_book['seconds_in_bucket']) & (df_book['seconds_in_bucket'] < end_time)]['bid_price1'] * df_book[(start_time <= df_book['seconds_in_bucket']) & (df_book['seconds_in_bucket'] < end_time)]['time_length']) / (end_time - start_time)\n"
     ]
    },
    {
     "name": "stdout",
     "output_type": "stream",
     "text": [
      "22169\n",
      "22178\n",
      "22188\n",
      "22193\n",
      "22217\n",
      "22249\n",
      "22262\n",
      "22263\n",
      "22277\n",
      "22289\n"
     ]
    },
    {
     "name": "stderr",
     "output_type": "stream",
     "text": [
      "/Users/vladimir.levin/Yandex.Disk.localized/01_Documents/01_Study/0_LUX/01_PhD/Drafts/Project3/kaggle_volatility/support_file.py:1675: RuntimeWarning: invalid value encountered in true_divide\n",
      "  w_ask = np.sum(df_book[(start_time <= df_book['seconds_in_bucket']) & (df_book['seconds_in_bucket'] < end_time)]['ask_price1'] * df_book[(start_time <= df_book['seconds_in_bucket']) & (df_book['seconds_in_bucket'] < end_time)]['time_length']) / (end_time - start_time)\n",
      "/Users/vladimir.levin/Yandex.Disk.localized/01_Documents/01_Study/0_LUX/01_PhD/Drafts/Project3/kaggle_volatility/support_file.py:1676: RuntimeWarning: invalid value encountered in true_divide\n",
      "  w_bid = np.sum(df_book[(start_time <= df_book['seconds_in_bucket']) & (df_book['seconds_in_bucket'] < end_time)]['bid_price1'] * df_book[(start_time <= df_book['seconds_in_bucket']) & (df_book['seconds_in_bucket'] < end_time)]['time_length']) / (end_time - start_time)\n"
     ]
    },
    {
     "name": "stdout",
     "output_type": "stream",
     "text": [
      "22290\n",
      "22300\n",
      "22304\n",
      "22307\n",
      "22331\n",
      "22355\n",
      "22377\n"
     ]
    },
    {
     "name": "stderr",
     "output_type": "stream",
     "text": [
      "/Users/vladimir.levin/Yandex.Disk.localized/01_Documents/01_Study/0_LUX/01_PhD/Drafts/Project3/kaggle_volatility/support_file.py:1675: RuntimeWarning: invalid value encountered in true_divide\n",
      "  w_ask = np.sum(df_book[(start_time <= df_book['seconds_in_bucket']) & (df_book['seconds_in_bucket'] < end_time)]['ask_price1'] * df_book[(start_time <= df_book['seconds_in_bucket']) & (df_book['seconds_in_bucket'] < end_time)]['time_length']) / (end_time - start_time)\n",
      "/Users/vladimir.levin/Yandex.Disk.localized/01_Documents/01_Study/0_LUX/01_PhD/Drafts/Project3/kaggle_volatility/support_file.py:1676: RuntimeWarning: invalid value encountered in true_divide\n",
      "  w_bid = np.sum(df_book[(start_time <= df_book['seconds_in_bucket']) & (df_book['seconds_in_bucket'] < end_time)]['bid_price1'] * df_book[(start_time <= df_book['seconds_in_bucket']) & (df_book['seconds_in_bucket'] < end_time)]['time_length']) / (end_time - start_time)\n"
     ]
    },
    {
     "name": "stdout",
     "output_type": "stream",
     "text": [
      "22384\n"
     ]
    },
    {
     "name": "stderr",
     "output_type": "stream",
     "text": [
      "/Users/vladimir.levin/Yandex.Disk.localized/01_Documents/01_Study/0_LUX/01_PhD/Drafts/Project3/kaggle_volatility/support_file.py:1675: RuntimeWarning: invalid value encountered in true_divide\n",
      "  w_ask = np.sum(df_book[(start_time <= df_book['seconds_in_bucket']) & (df_book['seconds_in_bucket'] < end_time)]['ask_price1'] * df_book[(start_time <= df_book['seconds_in_bucket']) & (df_book['seconds_in_bucket'] < end_time)]['time_length']) / (end_time - start_time)\n",
      "/Users/vladimir.levin/Yandex.Disk.localized/01_Documents/01_Study/0_LUX/01_PhD/Drafts/Project3/kaggle_volatility/support_file.py:1676: RuntimeWarning: invalid value encountered in true_divide\n",
      "  w_bid = np.sum(df_book[(start_time <= df_book['seconds_in_bucket']) & (df_book['seconds_in_bucket'] < end_time)]['bid_price1'] * df_book[(start_time <= df_book['seconds_in_bucket']) & (df_book['seconds_in_bucket'] < end_time)]['time_length']) / (end_time - start_time)\n"
     ]
    },
    {
     "name": "stdout",
     "output_type": "stream",
     "text": [
      "22385\n",
      "22392\n"
     ]
    },
    {
     "name": "stderr",
     "output_type": "stream",
     "text": [
      "/Users/vladimir.levin/Yandex.Disk.localized/01_Documents/01_Study/0_LUX/01_PhD/Drafts/Project3/kaggle_volatility/support_file.py:1675: RuntimeWarning: invalid value encountered in true_divide\n",
      "  w_ask = np.sum(df_book[(start_time <= df_book['seconds_in_bucket']) & (df_book['seconds_in_bucket'] < end_time)]['ask_price1'] * df_book[(start_time <= df_book['seconds_in_bucket']) & (df_book['seconds_in_bucket'] < end_time)]['time_length']) / (end_time - start_time)\n",
      "/Users/vladimir.levin/Yandex.Disk.localized/01_Documents/01_Study/0_LUX/01_PhD/Drafts/Project3/kaggle_volatility/support_file.py:1676: RuntimeWarning: invalid value encountered in true_divide\n",
      "  w_bid = np.sum(df_book[(start_time <= df_book['seconds_in_bucket']) & (df_book['seconds_in_bucket'] < end_time)]['bid_price1'] * df_book[(start_time <= df_book['seconds_in_bucket']) & (df_book['seconds_in_bucket'] < end_time)]['time_length']) / (end_time - start_time)\n"
     ]
    },
    {
     "name": "stdout",
     "output_type": "stream",
     "text": [
      "22405\n",
      "22427\n",
      "22440\n",
      "22441\n",
      "22447\n",
      "22455\n",
      "22466\n",
      "22487\n",
      "22495\n"
     ]
    },
    {
     "name": "stderr",
     "output_type": "stream",
     "text": [
      "/Users/vladimir.levin/Yandex.Disk.localized/01_Documents/01_Study/0_LUX/01_PhD/Drafts/Project3/kaggle_volatility/support_file.py:1675: RuntimeWarning: invalid value encountered in true_divide\n",
      "  w_ask = np.sum(df_book[(start_time <= df_book['seconds_in_bucket']) & (df_book['seconds_in_bucket'] < end_time)]['ask_price1'] * df_book[(start_time <= df_book['seconds_in_bucket']) & (df_book['seconds_in_bucket'] < end_time)]['time_length']) / (end_time - start_time)\n",
      "/Users/vladimir.levin/Yandex.Disk.localized/01_Documents/01_Study/0_LUX/01_PhD/Drafts/Project3/kaggle_volatility/support_file.py:1676: RuntimeWarning: invalid value encountered in true_divide\n",
      "  w_bid = np.sum(df_book[(start_time <= df_book['seconds_in_bucket']) & (df_book['seconds_in_bucket'] < end_time)]['bid_price1'] * df_book[(start_time <= df_book['seconds_in_bucket']) & (df_book['seconds_in_bucket'] < end_time)]['time_length']) / (end_time - start_time)\n"
     ]
    },
    {
     "name": "stdout",
     "output_type": "stream",
     "text": [
      "22496\n",
      "22498\n",
      "22501\n",
      "22513\n",
      "22517\n",
      "22519\n",
      "22532\n",
      "22542\n",
      "22543\n",
      "22548\n",
      "22585\n",
      "22590\n",
      "22598\n",
      "22616\n",
      "22621\n",
      "22622\n",
      "22627\n",
      "22635\n",
      "22638\n"
     ]
    },
    {
     "name": "stderr",
     "output_type": "stream",
     "text": [
      "/Users/vladimir.levin/Yandex.Disk.localized/01_Documents/01_Study/0_LUX/01_PhD/Drafts/Project3/kaggle_volatility/support_file.py:1675: RuntimeWarning: invalid value encountered in true_divide\n",
      "  w_ask = np.sum(df_book[(start_time <= df_book['seconds_in_bucket']) & (df_book['seconds_in_bucket'] < end_time)]['ask_price1'] * df_book[(start_time <= df_book['seconds_in_bucket']) & (df_book['seconds_in_bucket'] < end_time)]['time_length']) / (end_time - start_time)\n",
      "/Users/vladimir.levin/Yandex.Disk.localized/01_Documents/01_Study/0_LUX/01_PhD/Drafts/Project3/kaggle_volatility/support_file.py:1676: RuntimeWarning: invalid value encountered in true_divide\n",
      "  w_bid = np.sum(df_book[(start_time <= df_book['seconds_in_bucket']) & (df_book['seconds_in_bucket'] < end_time)]['bid_price1'] * df_book[(start_time <= df_book['seconds_in_bucket']) & (df_book['seconds_in_bucket'] < end_time)]['time_length']) / (end_time - start_time)\n"
     ]
    },
    {
     "name": "stdout",
     "output_type": "stream",
     "text": [
      "22649\n",
      "22666\n"
     ]
    },
    {
     "name": "stderr",
     "output_type": "stream",
     "text": [
      "/Users/vladimir.levin/Yandex.Disk.localized/01_Documents/01_Study/0_LUX/01_PhD/Drafts/Project3/kaggle_volatility/support_file.py:1675: RuntimeWarning: invalid value encountered in true_divide\n",
      "  w_ask = np.sum(df_book[(start_time <= df_book['seconds_in_bucket']) & (df_book['seconds_in_bucket'] < end_time)]['ask_price1'] * df_book[(start_time <= df_book['seconds_in_bucket']) & (df_book['seconds_in_bucket'] < end_time)]['time_length']) / (end_time - start_time)\n",
      "/Users/vladimir.levin/Yandex.Disk.localized/01_Documents/01_Study/0_LUX/01_PhD/Drafts/Project3/kaggle_volatility/support_file.py:1676: RuntimeWarning: invalid value encountered in true_divide\n",
      "  w_bid = np.sum(df_book[(start_time <= df_book['seconds_in_bucket']) & (df_book['seconds_in_bucket'] < end_time)]['bid_price1'] * df_book[(start_time <= df_book['seconds_in_bucket']) & (df_book['seconds_in_bucket'] < end_time)]['time_length']) / (end_time - start_time)\n"
     ]
    },
    {
     "name": "stdout",
     "output_type": "stream",
     "text": [
      "22671\n",
      "22674\n",
      "22678\n",
      "22695\n",
      "22697\n",
      "22725\n"
     ]
    },
    {
     "name": "stderr",
     "output_type": "stream",
     "text": [
      "/Users/vladimir.levin/Yandex.Disk.localized/01_Documents/01_Study/0_LUX/01_PhD/Drafts/Project3/kaggle_volatility/support_file.py:1675: RuntimeWarning: invalid value encountered in true_divide\n",
      "  w_ask = np.sum(df_book[(start_time <= df_book['seconds_in_bucket']) & (df_book['seconds_in_bucket'] < end_time)]['ask_price1'] * df_book[(start_time <= df_book['seconds_in_bucket']) & (df_book['seconds_in_bucket'] < end_time)]['time_length']) / (end_time - start_time)\n",
      "/Users/vladimir.levin/Yandex.Disk.localized/01_Documents/01_Study/0_LUX/01_PhD/Drafts/Project3/kaggle_volatility/support_file.py:1676: RuntimeWarning: invalid value encountered in true_divide\n",
      "  w_bid = np.sum(df_book[(start_time <= df_book['seconds_in_bucket']) & (df_book['seconds_in_bucket'] < end_time)]['bid_price1'] * df_book[(start_time <= df_book['seconds_in_bucket']) & (df_book['seconds_in_bucket'] < end_time)]['time_length']) / (end_time - start_time)\n"
     ]
    },
    {
     "name": "stdout",
     "output_type": "stream",
     "text": [
      "22732\n",
      "22749\n",
      "22750\n",
      "22752\n",
      "22759\n",
      "22766\n",
      "22780\n",
      "22794\n",
      "22798\n",
      "22822\n",
      "22824\n",
      "22825\n",
      "22827\n"
     ]
    },
    {
     "name": "stderr",
     "output_type": "stream",
     "text": [
      "/Users/vladimir.levin/Yandex.Disk.localized/01_Documents/01_Study/0_LUX/01_PhD/Drafts/Project3/kaggle_volatility/support_file.py:1675: RuntimeWarning: invalid value encountered in true_divide\n",
      "  w_ask = np.sum(df_book[(start_time <= df_book['seconds_in_bucket']) & (df_book['seconds_in_bucket'] < end_time)]['ask_price1'] * df_book[(start_time <= df_book['seconds_in_bucket']) & (df_book['seconds_in_bucket'] < end_time)]['time_length']) / (end_time - start_time)\n",
      "/Users/vladimir.levin/Yandex.Disk.localized/01_Documents/01_Study/0_LUX/01_PhD/Drafts/Project3/kaggle_volatility/support_file.py:1676: RuntimeWarning: invalid value encountered in true_divide\n",
      "  w_bid = np.sum(df_book[(start_time <= df_book['seconds_in_bucket']) & (df_book['seconds_in_bucket'] < end_time)]['bid_price1'] * df_book[(start_time <= df_book['seconds_in_bucket']) & (df_book['seconds_in_bucket'] < end_time)]['time_length']) / (end_time - start_time)\n",
      "/Users/vladimir.levin/Yandex.Disk.localized/01_Documents/01_Study/0_LUX/01_PhD/Drafts/Project3/kaggle_volatility/support_file.py:1675: RuntimeWarning: invalid value encountered in true_divide\n",
      "  w_ask = np.sum(df_book[(start_time <= df_book['seconds_in_bucket']) & (df_book['seconds_in_bucket'] < end_time)]['ask_price1'] * df_book[(start_time <= df_book['seconds_in_bucket']) & (df_book['seconds_in_bucket'] < end_time)]['time_length']) / (end_time - start_time)\n",
      "/Users/vladimir.levin/Yandex.Disk.localized/01_Documents/01_Study/0_LUX/01_PhD/Drafts/Project3/kaggle_volatility/support_file.py:1676: RuntimeWarning: invalid value encountered in true_divide\n",
      "  w_bid = np.sum(df_book[(start_time <= df_book['seconds_in_bucket']) & (df_book['seconds_in_bucket'] < end_time)]['bid_price1'] * df_book[(start_time <= df_book['seconds_in_bucket']) & (df_book['seconds_in_bucket'] < end_time)]['time_length']) / (end_time - start_time)\n"
     ]
    },
    {
     "name": "stdout",
     "output_type": "stream",
     "text": [
      "22828\n",
      "22829\n",
      "22877\n",
      "22879\n",
      "22884\n",
      "22887\n"
     ]
    },
    {
     "name": "stderr",
     "output_type": "stream",
     "text": [
      "/Users/vladimir.levin/Yandex.Disk.localized/01_Documents/01_Study/0_LUX/01_PhD/Drafts/Project3/kaggle_volatility/support_file.py:1675: RuntimeWarning: invalid value encountered in true_divide\n",
      "  w_ask = np.sum(df_book[(start_time <= df_book['seconds_in_bucket']) & (df_book['seconds_in_bucket'] < end_time)]['ask_price1'] * df_book[(start_time <= df_book['seconds_in_bucket']) & (df_book['seconds_in_bucket'] < end_time)]['time_length']) / (end_time - start_time)\n",
      "/Users/vladimir.levin/Yandex.Disk.localized/01_Documents/01_Study/0_LUX/01_PhD/Drafts/Project3/kaggle_volatility/support_file.py:1676: RuntimeWarning: invalid value encountered in true_divide\n",
      "  w_bid = np.sum(df_book[(start_time <= df_book['seconds_in_bucket']) & (df_book['seconds_in_bucket'] < end_time)]['bid_price1'] * df_book[(start_time <= df_book['seconds_in_bucket']) & (df_book['seconds_in_bucket'] < end_time)]['time_length']) / (end_time - start_time)\n",
      "/Users/vladimir.levin/Yandex.Disk.localized/01_Documents/01_Study/0_LUX/01_PhD/Drafts/Project3/kaggle_volatility/support_file.py:1675: RuntimeWarning: invalid value encountered in true_divide\n",
      "  w_ask = np.sum(df_book[(start_time <= df_book['seconds_in_bucket']) & (df_book['seconds_in_bucket'] < end_time)]['ask_price1'] * df_book[(start_time <= df_book['seconds_in_bucket']) & (df_book['seconds_in_bucket'] < end_time)]['time_length']) / (end_time - start_time)\n",
      "/Users/vladimir.levin/Yandex.Disk.localized/01_Documents/01_Study/0_LUX/01_PhD/Drafts/Project3/kaggle_volatility/support_file.py:1676: RuntimeWarning: invalid value encountered in true_divide\n",
      "  w_bid = np.sum(df_book[(start_time <= df_book['seconds_in_bucket']) & (df_book['seconds_in_bucket'] < end_time)]['bid_price1'] * df_book[(start_time <= df_book['seconds_in_bucket']) & (df_book['seconds_in_bucket'] < end_time)]['time_length']) / (end_time - start_time)\n"
     ]
    },
    {
     "name": "stdout",
     "output_type": "stream",
     "text": [
      "22893\n",
      "22898\n",
      "22899\n"
     ]
    },
    {
     "name": "stderr",
     "output_type": "stream",
     "text": [
      "/Users/vladimir.levin/Yandex.Disk.localized/01_Documents/01_Study/0_LUX/01_PhD/Drafts/Project3/kaggle_volatility/support_file.py:1675: RuntimeWarning: invalid value encountered in true_divide\n",
      "  w_ask = np.sum(df_book[(start_time <= df_book['seconds_in_bucket']) & (df_book['seconds_in_bucket'] < end_time)]['ask_price1'] * df_book[(start_time <= df_book['seconds_in_bucket']) & (df_book['seconds_in_bucket'] < end_time)]['time_length']) / (end_time - start_time)\n",
      "/Users/vladimir.levin/Yandex.Disk.localized/01_Documents/01_Study/0_LUX/01_PhD/Drafts/Project3/kaggle_volatility/support_file.py:1676: RuntimeWarning: invalid value encountered in true_divide\n",
      "  w_bid = np.sum(df_book[(start_time <= df_book['seconds_in_bucket']) & (df_book['seconds_in_bucket'] < end_time)]['bid_price1'] * df_book[(start_time <= df_book['seconds_in_bucket']) & (df_book['seconds_in_bucket'] < end_time)]['time_length']) / (end_time - start_time)\n"
     ]
    },
    {
     "name": "stdout",
     "output_type": "stream",
     "text": [
      "22903\n",
      "22907\n",
      "22909\n",
      "22912\n",
      "22914\n",
      "22922\n",
      "22928\n",
      "22941\n",
      "22946\n",
      "22947\n"
     ]
    },
    {
     "name": "stderr",
     "output_type": "stream",
     "text": [
      "/Users/vladimir.levin/Yandex.Disk.localized/01_Documents/01_Study/0_LUX/01_PhD/Drafts/Project3/kaggle_volatility/support_file.py:1675: RuntimeWarning: invalid value encountered in true_divide\n",
      "  w_ask = np.sum(df_book[(start_time <= df_book['seconds_in_bucket']) & (df_book['seconds_in_bucket'] < end_time)]['ask_price1'] * df_book[(start_time <= df_book['seconds_in_bucket']) & (df_book['seconds_in_bucket'] < end_time)]['time_length']) / (end_time - start_time)\n",
      "/Users/vladimir.levin/Yandex.Disk.localized/01_Documents/01_Study/0_LUX/01_PhD/Drafts/Project3/kaggle_volatility/support_file.py:1676: RuntimeWarning: invalid value encountered in true_divide\n",
      "  w_bid = np.sum(df_book[(start_time <= df_book['seconds_in_bucket']) & (df_book['seconds_in_bucket'] < end_time)]['bid_price1'] * df_book[(start_time <= df_book['seconds_in_bucket']) & (df_book['seconds_in_bucket'] < end_time)]['time_length']) / (end_time - start_time)\n"
     ]
    },
    {
     "name": "stdout",
     "output_type": "stream",
     "text": [
      "22962\n",
      "22964\n",
      "22973\n",
      "22996\n",
      "23001\n"
     ]
    },
    {
     "name": "stderr",
     "output_type": "stream",
     "text": [
      "/Users/vladimir.levin/Yandex.Disk.localized/01_Documents/01_Study/0_LUX/01_PhD/Drafts/Project3/kaggle_volatility/support_file.py:1675: RuntimeWarning: invalid value encountered in true_divide\n",
      "  w_ask = np.sum(df_book[(start_time <= df_book['seconds_in_bucket']) & (df_book['seconds_in_bucket'] < end_time)]['ask_price1'] * df_book[(start_time <= df_book['seconds_in_bucket']) & (df_book['seconds_in_bucket'] < end_time)]['time_length']) / (end_time - start_time)\n",
      "/Users/vladimir.levin/Yandex.Disk.localized/01_Documents/01_Study/0_LUX/01_PhD/Drafts/Project3/kaggle_volatility/support_file.py:1676: RuntimeWarning: invalid value encountered in true_divide\n",
      "  w_bid = np.sum(df_book[(start_time <= df_book['seconds_in_bucket']) & (df_book['seconds_in_bucket'] < end_time)]['bid_price1'] * df_book[(start_time <= df_book['seconds_in_bucket']) & (df_book['seconds_in_bucket'] < end_time)]['time_length']) / (end_time - start_time)\n"
     ]
    },
    {
     "name": "stdout",
     "output_type": "stream",
     "text": [
      "23017\n",
      "23019\n",
      "23028\n",
      "23030\n",
      "23034\n",
      "23045\n"
     ]
    },
    {
     "name": "stderr",
     "output_type": "stream",
     "text": [
      "/Users/vladimir.levin/Yandex.Disk.localized/01_Documents/01_Study/0_LUX/01_PhD/Drafts/Project3/kaggle_volatility/support_file.py:1675: RuntimeWarning: invalid value encountered in true_divide\n",
      "  w_ask = np.sum(df_book[(start_time <= df_book['seconds_in_bucket']) & (df_book['seconds_in_bucket'] < end_time)]['ask_price1'] * df_book[(start_time <= df_book['seconds_in_bucket']) & (df_book['seconds_in_bucket'] < end_time)]['time_length']) / (end_time - start_time)\n",
      "/Users/vladimir.levin/Yandex.Disk.localized/01_Documents/01_Study/0_LUX/01_PhD/Drafts/Project3/kaggle_volatility/support_file.py:1676: RuntimeWarning: invalid value encountered in true_divide\n",
      "  w_bid = np.sum(df_book[(start_time <= df_book['seconds_in_bucket']) & (df_book['seconds_in_bucket'] < end_time)]['bid_price1'] * df_book[(start_time <= df_book['seconds_in_bucket']) & (df_book['seconds_in_bucket'] < end_time)]['time_length']) / (end_time - start_time)\n"
     ]
    },
    {
     "name": "stdout",
     "output_type": "stream",
     "text": [
      "23049\n",
      "23054\n",
      "23062\n",
      "23069\n"
     ]
    },
    {
     "name": "stderr",
     "output_type": "stream",
     "text": [
      "/Users/vladimir.levin/Yandex.Disk.localized/01_Documents/01_Study/0_LUX/01_PhD/Drafts/Project3/kaggle_volatility/support_file.py:1675: RuntimeWarning: invalid value encountered in true_divide\n",
      "  w_ask = np.sum(df_book[(start_time <= df_book['seconds_in_bucket']) & (df_book['seconds_in_bucket'] < end_time)]['ask_price1'] * df_book[(start_time <= df_book['seconds_in_bucket']) & (df_book['seconds_in_bucket'] < end_time)]['time_length']) / (end_time - start_time)\n",
      "/Users/vladimir.levin/Yandex.Disk.localized/01_Documents/01_Study/0_LUX/01_PhD/Drafts/Project3/kaggle_volatility/support_file.py:1676: RuntimeWarning: invalid value encountered in true_divide\n",
      "  w_bid = np.sum(df_book[(start_time <= df_book['seconds_in_bucket']) & (df_book['seconds_in_bucket'] < end_time)]['bid_price1'] * df_book[(start_time <= df_book['seconds_in_bucket']) & (df_book['seconds_in_bucket'] < end_time)]['time_length']) / (end_time - start_time)\n"
     ]
    },
    {
     "name": "stdout",
     "output_type": "stream",
     "text": [
      "23088\n",
      "23112\n",
      "23130\n"
     ]
    },
    {
     "name": "stderr",
     "output_type": "stream",
     "text": [
      "/Users/vladimir.levin/Yandex.Disk.localized/01_Documents/01_Study/0_LUX/01_PhD/Drafts/Project3/kaggle_volatility/support_file.py:1675: RuntimeWarning: invalid value encountered in true_divide\n",
      "  w_ask = np.sum(df_book[(start_time <= df_book['seconds_in_bucket']) & (df_book['seconds_in_bucket'] < end_time)]['ask_price1'] * df_book[(start_time <= df_book['seconds_in_bucket']) & (df_book['seconds_in_bucket'] < end_time)]['time_length']) / (end_time - start_time)\n",
      "/Users/vladimir.levin/Yandex.Disk.localized/01_Documents/01_Study/0_LUX/01_PhD/Drafts/Project3/kaggle_volatility/support_file.py:1676: RuntimeWarning: invalid value encountered in true_divide\n",
      "  w_bid = np.sum(df_book[(start_time <= df_book['seconds_in_bucket']) & (df_book['seconds_in_bucket'] < end_time)]['bid_price1'] * df_book[(start_time <= df_book['seconds_in_bucket']) & (df_book['seconds_in_bucket'] < end_time)]['time_length']) / (end_time - start_time)\n"
     ]
    },
    {
     "name": "stdout",
     "output_type": "stream",
     "text": [
      "23132\n",
      "23136\n",
      "23144\n"
     ]
    },
    {
     "name": "stderr",
     "output_type": "stream",
     "text": [
      "/Users/vladimir.levin/Yandex.Disk.localized/01_Documents/01_Study/0_LUX/01_PhD/Drafts/Project3/kaggle_volatility/support_file.py:1675: RuntimeWarning: invalid value encountered in true_divide\n",
      "  w_ask = np.sum(df_book[(start_time <= df_book['seconds_in_bucket']) & (df_book['seconds_in_bucket'] < end_time)]['ask_price1'] * df_book[(start_time <= df_book['seconds_in_bucket']) & (df_book['seconds_in_bucket'] < end_time)]['time_length']) / (end_time - start_time)\n",
      "/Users/vladimir.levin/Yandex.Disk.localized/01_Documents/01_Study/0_LUX/01_PhD/Drafts/Project3/kaggle_volatility/support_file.py:1676: RuntimeWarning: invalid value encountered in true_divide\n",
      "  w_bid = np.sum(df_book[(start_time <= df_book['seconds_in_bucket']) & (df_book['seconds_in_bucket'] < end_time)]['bid_price1'] * df_book[(start_time <= df_book['seconds_in_bucket']) & (df_book['seconds_in_bucket'] < end_time)]['time_length']) / (end_time - start_time)\n"
     ]
    },
    {
     "name": "stdout",
     "output_type": "stream",
     "text": [
      "23145\n",
      "23147\n",
      "23153\n",
      "23156\n",
      "23170\n"
     ]
    },
    {
     "name": "stderr",
     "output_type": "stream",
     "text": [
      "/Users/vladimir.levin/Yandex.Disk.localized/01_Documents/01_Study/0_LUX/01_PhD/Drafts/Project3/kaggle_volatility/support_file.py:1675: RuntimeWarning: invalid value encountered in true_divide\n",
      "  w_ask = np.sum(df_book[(start_time <= df_book['seconds_in_bucket']) & (df_book['seconds_in_bucket'] < end_time)]['ask_price1'] * df_book[(start_time <= df_book['seconds_in_bucket']) & (df_book['seconds_in_bucket'] < end_time)]['time_length']) / (end_time - start_time)\n",
      "/Users/vladimir.levin/Yandex.Disk.localized/01_Documents/01_Study/0_LUX/01_PhD/Drafts/Project3/kaggle_volatility/support_file.py:1676: RuntimeWarning: invalid value encountered in true_divide\n",
      "  w_bid = np.sum(df_book[(start_time <= df_book['seconds_in_bucket']) & (df_book['seconds_in_bucket'] < end_time)]['bid_price1'] * df_book[(start_time <= df_book['seconds_in_bucket']) & (df_book['seconds_in_bucket'] < end_time)]['time_length']) / (end_time - start_time)\n",
      "/Users/vladimir.levin/Yandex.Disk.localized/01_Documents/01_Study/0_LUX/01_PhD/Drafts/Project3/kaggle_volatility/support_file.py:1675: RuntimeWarning: invalid value encountered in true_divide\n",
      "  w_ask = np.sum(df_book[(start_time <= df_book['seconds_in_bucket']) & (df_book['seconds_in_bucket'] < end_time)]['ask_price1'] * df_book[(start_time <= df_book['seconds_in_bucket']) & (df_book['seconds_in_bucket'] < end_time)]['time_length']) / (end_time - start_time)\n",
      "/Users/vladimir.levin/Yandex.Disk.localized/01_Documents/01_Study/0_LUX/01_PhD/Drafts/Project3/kaggle_volatility/support_file.py:1676: RuntimeWarning: invalid value encountered in true_divide\n",
      "  w_bid = np.sum(df_book[(start_time <= df_book['seconds_in_bucket']) & (df_book['seconds_in_bucket'] < end_time)]['bid_price1'] * df_book[(start_time <= df_book['seconds_in_bucket']) & (df_book['seconds_in_bucket'] < end_time)]['time_length']) / (end_time - start_time)\n"
     ]
    },
    {
     "name": "stdout",
     "output_type": "stream",
     "text": [
      "23179\n",
      "23185\n",
      "23195\n",
      "23201\n",
      "23202"
     ]
    },
    {
     "name": "stderr",
     "output_type": "stream",
     "text": [
      "/Users/vladimir.levin/Yandex.Disk.localized/01_Documents/01_Study/0_LUX/01_PhD/Drafts/Project3/kaggle_volatility/support_file.py:1675: RuntimeWarning: invalid value encountered in true_divide\n",
      "  w_ask = np.sum(df_book[(start_time <= df_book['seconds_in_bucket']) & (df_book['seconds_in_bucket'] < end_time)]['ask_price1'] * df_book[(start_time <= df_book['seconds_in_bucket']) & (df_book['seconds_in_bucket'] < end_time)]['time_length']) / (end_time - start_time)\n",
      "/Users/vladimir.levin/Yandex.Disk.localized/01_Documents/01_Study/0_LUX/01_PhD/Drafts/Project3/kaggle_volatility/support_file.py:1676: RuntimeWarning: invalid value encountered in true_divide\n",
      "  w_bid = np.sum(df_book[(start_time <= df_book['seconds_in_bucket']) & (df_book['seconds_in_bucket'] < end_time)]['bid_price1'] * df_book[(start_time <= df_book['seconds_in_bucket']) & (df_book['seconds_in_bucket'] < end_time)]['time_length']) / (end_time - start_time)\n",
      "/Users/vladimir.levin/Yandex.Disk.localized/01_Documents/01_Study/0_LUX/01_PhD/Drafts/Project3/kaggle_volatility/support_file.py:1675: RuntimeWarning: invalid value encountered in true_divide\n",
      "  w_ask = np.sum(df_book[(start_time <= df_book['seconds_in_bucket']) & (df_book['seconds_in_bucket'] < end_time)]['ask_price1'] * df_book[(start_time <= df_book['seconds_in_bucket']) & (df_book['seconds_in_bucket'] < end_time)]['time_length']) / (end_time - start_time)\n",
      "/Users/vladimir.levin/Yandex.Disk.localized/01_Documents/01_Study/0_LUX/01_PhD/Drafts/Project3/kaggle_volatility/support_file.py:1676: RuntimeWarning: invalid value encountered in true_divide\n",
      "  w_bid = np.sum(df_book[(start_time <= df_book['seconds_in_bucket']) & (df_book['seconds_in_bucket'] < end_time)]['bid_price1'] * df_book[(start_time <= df_book['seconds_in_bucket']) & (df_book['seconds_in_bucket'] < end_time)]['time_length']) / (end_time - start_time)\n"
     ]
    },
    {
     "name": "stdout",
     "output_type": "stream",
     "text": [
      "\n",
      "23212\n",
      "23217\n",
      "23220\n",
      "23226\n",
      "23228\n",
      "23232\n",
      "23233\n",
      "23243\n",
      "23246\n",
      "23254\n",
      "23265\n",
      "23274"
     ]
    },
    {
     "name": "stderr",
     "output_type": "stream",
     "text": [
      "/Users/vladimir.levin/Yandex.Disk.localized/01_Documents/01_Study/0_LUX/01_PhD/Drafts/Project3/kaggle_volatility/support_file.py:1675: RuntimeWarning: invalid value encountered in true_divide\n",
      "  w_ask = np.sum(df_book[(start_time <= df_book['seconds_in_bucket']) & (df_book['seconds_in_bucket'] < end_time)]['ask_price1'] * df_book[(start_time <= df_book['seconds_in_bucket']) & (df_book['seconds_in_bucket'] < end_time)]['time_length']) / (end_time - start_time)\n",
      "/Users/vladimir.levin/Yandex.Disk.localized/01_Documents/01_Study/0_LUX/01_PhD/Drafts/Project3/kaggle_volatility/support_file.py:1676: RuntimeWarning: invalid value encountered in true_divide\n",
      "  w_bid = np.sum(df_book[(start_time <= df_book['seconds_in_bucket']) & (df_book['seconds_in_bucket'] < end_time)]['bid_price1'] * df_book[(start_time <= df_book['seconds_in_bucket']) & (df_book['seconds_in_bucket'] < end_time)]['time_length']) / (end_time - start_time)\n"
     ]
    },
    {
     "name": "stdout",
     "output_type": "stream",
     "text": [
      "\n",
      "23290\n",
      "23299\n",
      "23312\n",
      "23317\n",
      "23337\n",
      "23341\n",
      "23342\n",
      "23348\n",
      "23351\n"
     ]
    },
    {
     "name": "stderr",
     "output_type": "stream",
     "text": [
      "/Users/vladimir.levin/Yandex.Disk.localized/01_Documents/01_Study/0_LUX/01_PhD/Drafts/Project3/kaggle_volatility/support_file.py:1675: RuntimeWarning: invalid value encountered in true_divide\n",
      "  w_ask = np.sum(df_book[(start_time <= df_book['seconds_in_bucket']) & (df_book['seconds_in_bucket'] < end_time)]['ask_price1'] * df_book[(start_time <= df_book['seconds_in_bucket']) & (df_book['seconds_in_bucket'] < end_time)]['time_length']) / (end_time - start_time)\n",
      "/Users/vladimir.levin/Yandex.Disk.localized/01_Documents/01_Study/0_LUX/01_PhD/Drafts/Project3/kaggle_volatility/support_file.py:1676: RuntimeWarning: invalid value encountered in true_divide\n",
      "  w_bid = np.sum(df_book[(start_time <= df_book['seconds_in_bucket']) & (df_book['seconds_in_bucket'] < end_time)]['bid_price1'] * df_book[(start_time <= df_book['seconds_in_bucket']) & (df_book['seconds_in_bucket'] < end_time)]['time_length']) / (end_time - start_time)\n"
     ]
    },
    {
     "name": "stdout",
     "output_type": "stream",
     "text": [
      "23353\n",
      "23356\n",
      "23366\n",
      "23386\n",
      "23399\n",
      "23405\n",
      "23417\n",
      "23423\n",
      "23426\n",
      "23427\n",
      "23462\n",
      "23464\n"
     ]
    },
    {
     "name": "stderr",
     "output_type": "stream",
     "text": [
      "/Users/vladimir.levin/Yandex.Disk.localized/01_Documents/01_Study/0_LUX/01_PhD/Drafts/Project3/kaggle_volatility/support_file.py:1675: RuntimeWarning: invalid value encountered in true_divide\n",
      "  w_ask = np.sum(df_book[(start_time <= df_book['seconds_in_bucket']) & (df_book['seconds_in_bucket'] < end_time)]['ask_price1'] * df_book[(start_time <= df_book['seconds_in_bucket']) & (df_book['seconds_in_bucket'] < end_time)]['time_length']) / (end_time - start_time)\n",
      "/Users/vladimir.levin/Yandex.Disk.localized/01_Documents/01_Study/0_LUX/01_PhD/Drafts/Project3/kaggle_volatility/support_file.py:1676: RuntimeWarning: invalid value encountered in true_divide\n",
      "  w_bid = np.sum(df_book[(start_time <= df_book['seconds_in_bucket']) & (df_book['seconds_in_bucket'] < end_time)]['bid_price1'] * df_book[(start_time <= df_book['seconds_in_bucket']) & (df_book['seconds_in_bucket'] < end_time)]['time_length']) / (end_time - start_time)\n"
     ]
    },
    {
     "name": "stdout",
     "output_type": "stream",
     "text": [
      "23486\n",
      "23488\n",
      "23490\n",
      "23500\n",
      "23503\n",
      "23504\n"
     ]
    },
    {
     "name": "stderr",
     "output_type": "stream",
     "text": [
      "/Users/vladimir.levin/Yandex.Disk.localized/01_Documents/01_Study/0_LUX/01_PhD/Drafts/Project3/kaggle_volatility/support_file.py:1675: RuntimeWarning: invalid value encountered in true_divide\n",
      "  w_ask = np.sum(df_book[(start_time <= df_book['seconds_in_bucket']) & (df_book['seconds_in_bucket'] < end_time)]['ask_price1'] * df_book[(start_time <= df_book['seconds_in_bucket']) & (df_book['seconds_in_bucket'] < end_time)]['time_length']) / (end_time - start_time)\n",
      "/Users/vladimir.levin/Yandex.Disk.localized/01_Documents/01_Study/0_LUX/01_PhD/Drafts/Project3/kaggle_volatility/support_file.py:1676: RuntimeWarning: invalid value encountered in true_divide\n",
      "  w_bid = np.sum(df_book[(start_time <= df_book['seconds_in_bucket']) & (df_book['seconds_in_bucket'] < end_time)]['bid_price1'] * df_book[(start_time <= df_book['seconds_in_bucket']) & (df_book['seconds_in_bucket'] < end_time)]['time_length']) / (end_time - start_time)\n"
     ]
    },
    {
     "name": "stdout",
     "output_type": "stream",
     "text": [
      "23520\n",
      "23524\n",
      "23531\n",
      "23536\n",
      "23539\n",
      "23547\n",
      "23566\n",
      "23579\n",
      "23598\n",
      "23600\n",
      "23603\n",
      "23619\n",
      "23624\n",
      "23628\n",
      "23630\n"
     ]
    },
    {
     "name": "stderr",
     "output_type": "stream",
     "text": [
      "/Users/vladimir.levin/Yandex.Disk.localized/01_Documents/01_Study/0_LUX/01_PhD/Drafts/Project3/kaggle_volatility/support_file.py:1675: RuntimeWarning: invalid value encountered in true_divide\n",
      "  w_ask = np.sum(df_book[(start_time <= df_book['seconds_in_bucket']) & (df_book['seconds_in_bucket'] < end_time)]['ask_price1'] * df_book[(start_time <= df_book['seconds_in_bucket']) & (df_book['seconds_in_bucket'] < end_time)]['time_length']) / (end_time - start_time)\n",
      "/Users/vladimir.levin/Yandex.Disk.localized/01_Documents/01_Study/0_LUX/01_PhD/Drafts/Project3/kaggle_volatility/support_file.py:1676: RuntimeWarning: invalid value encountered in true_divide\n",
      "  w_bid = np.sum(df_book[(start_time <= df_book['seconds_in_bucket']) & (df_book['seconds_in_bucket'] < end_time)]['bid_price1'] * df_book[(start_time <= df_book['seconds_in_bucket']) & (df_book['seconds_in_bucket'] < end_time)]['time_length']) / (end_time - start_time)\n",
      "/Users/vladimir.levin/Yandex.Disk.localized/01_Documents/01_Study/0_LUX/01_PhD/Drafts/Project3/kaggle_volatility/support_file.py:1675: RuntimeWarning: invalid value encountered in true_divide\n",
      "  w_ask = np.sum(df_book[(start_time <= df_book['seconds_in_bucket']) & (df_book['seconds_in_bucket'] < end_time)]['ask_price1'] * df_book[(start_time <= df_book['seconds_in_bucket']) & (df_book['seconds_in_bucket'] < end_time)]['time_length']) / (end_time - start_time)\n",
      "/Users/vladimir.levin/Yandex.Disk.localized/01_Documents/01_Study/0_LUX/01_PhD/Drafts/Project3/kaggle_volatility/support_file.py:1676: RuntimeWarning: invalid value encountered in true_divide\n",
      "  w_bid = np.sum(df_book[(start_time <= df_book['seconds_in_bucket']) & (df_book['seconds_in_bucket'] < end_time)]['bid_price1'] * df_book[(start_time <= df_book['seconds_in_bucket']) & (df_book['seconds_in_bucket'] < end_time)]['time_length']) / (end_time - start_time)\n"
     ]
    },
    {
     "name": "stdout",
     "output_type": "stream",
     "text": [
      "23637\n",
      "23639\n",
      "23642\n",
      "23652\n",
      "23656\n",
      "23658\n",
      "23683\n",
      "23708\n"
     ]
    },
    {
     "name": "stderr",
     "output_type": "stream",
     "text": [
      "/Users/vladimir.levin/Yandex.Disk.localized/01_Documents/01_Study/0_LUX/01_PhD/Drafts/Project3/kaggle_volatility/support_file.py:1675: RuntimeWarning: invalid value encountered in true_divide\n",
      "  w_ask = np.sum(df_book[(start_time <= df_book['seconds_in_bucket']) & (df_book['seconds_in_bucket'] < end_time)]['ask_price1'] * df_book[(start_time <= df_book['seconds_in_bucket']) & (df_book['seconds_in_bucket'] < end_time)]['time_length']) / (end_time - start_time)\n",
      "/Users/vladimir.levin/Yandex.Disk.localized/01_Documents/01_Study/0_LUX/01_PhD/Drafts/Project3/kaggle_volatility/support_file.py:1676: RuntimeWarning: invalid value encountered in true_divide\n",
      "  w_bid = np.sum(df_book[(start_time <= df_book['seconds_in_bucket']) & (df_book['seconds_in_bucket'] < end_time)]['bid_price1'] * df_book[(start_time <= df_book['seconds_in_bucket']) & (df_book['seconds_in_bucket'] < end_time)]['time_length']) / (end_time - start_time)\n"
     ]
    },
    {
     "name": "stdout",
     "output_type": "stream",
     "text": [
      "23724\n",
      "23736\n",
      "23737\n",
      "23750\n",
      "23751\n"
     ]
    },
    {
     "name": "stderr",
     "output_type": "stream",
     "text": [
      "/Users/vladimir.levin/Yandex.Disk.localized/01_Documents/01_Study/0_LUX/01_PhD/Drafts/Project3/kaggle_volatility/support_file.py:1675: RuntimeWarning: invalid value encountered in true_divide\n",
      "  w_ask = np.sum(df_book[(start_time <= df_book['seconds_in_bucket']) & (df_book['seconds_in_bucket'] < end_time)]['ask_price1'] * df_book[(start_time <= df_book['seconds_in_bucket']) & (df_book['seconds_in_bucket'] < end_time)]['time_length']) / (end_time - start_time)\n",
      "/Users/vladimir.levin/Yandex.Disk.localized/01_Documents/01_Study/0_LUX/01_PhD/Drafts/Project3/kaggle_volatility/support_file.py:1676: RuntimeWarning: invalid value encountered in true_divide\n",
      "  w_bid = np.sum(df_book[(start_time <= df_book['seconds_in_bucket']) & (df_book['seconds_in_bucket'] < end_time)]['bid_price1'] * df_book[(start_time <= df_book['seconds_in_bucket']) & (df_book['seconds_in_bucket'] < end_time)]['time_length']) / (end_time - start_time)\n"
     ]
    },
    {
     "name": "stdout",
     "output_type": "stream",
     "text": [
      "23765\n",
      "23768\n",
      "23780\n"
     ]
    },
    {
     "name": "stderr",
     "output_type": "stream",
     "text": [
      "/Users/vladimir.levin/Yandex.Disk.localized/01_Documents/01_Study/0_LUX/01_PhD/Drafts/Project3/kaggle_volatility/support_file.py:1675: RuntimeWarning: invalid value encountered in true_divide\n",
      "  w_ask = np.sum(df_book[(start_time <= df_book['seconds_in_bucket']) & (df_book['seconds_in_bucket'] < end_time)]['ask_price1'] * df_book[(start_time <= df_book['seconds_in_bucket']) & (df_book['seconds_in_bucket'] < end_time)]['time_length']) / (end_time - start_time)\n",
      "/Users/vladimir.levin/Yandex.Disk.localized/01_Documents/01_Study/0_LUX/01_PhD/Drafts/Project3/kaggle_volatility/support_file.py:1676: RuntimeWarning: invalid value encountered in true_divide\n",
      "  w_bid = np.sum(df_book[(start_time <= df_book['seconds_in_bucket']) & (df_book['seconds_in_bucket'] < end_time)]['bid_price1'] * df_book[(start_time <= df_book['seconds_in_bucket']) & (df_book['seconds_in_bucket'] < end_time)]['time_length']) / (end_time - start_time)\n"
     ]
    },
    {
     "name": "stdout",
     "output_type": "stream",
     "text": [
      "23792\n",
      "23794\n",
      "23796\n"
     ]
    },
    {
     "name": "stderr",
     "output_type": "stream",
     "text": [
      "/Users/vladimir.levin/Yandex.Disk.localized/01_Documents/01_Study/0_LUX/01_PhD/Drafts/Project3/kaggle_volatility/support_file.py:1675: RuntimeWarning: invalid value encountered in true_divide\n",
      "  w_ask = np.sum(df_book[(start_time <= df_book['seconds_in_bucket']) & (df_book['seconds_in_bucket'] < end_time)]['ask_price1'] * df_book[(start_time <= df_book['seconds_in_bucket']) & (df_book['seconds_in_bucket'] < end_time)]['time_length']) / (end_time - start_time)\n",
      "/Users/vladimir.levin/Yandex.Disk.localized/01_Documents/01_Study/0_LUX/01_PhD/Drafts/Project3/kaggle_volatility/support_file.py:1676: RuntimeWarning: invalid value encountered in true_divide\n",
      "  w_bid = np.sum(df_book[(start_time <= df_book['seconds_in_bucket']) & (df_book['seconds_in_bucket'] < end_time)]['bid_price1'] * df_book[(start_time <= df_book['seconds_in_bucket']) & (df_book['seconds_in_bucket'] < end_time)]['time_length']) / (end_time - start_time)\n"
     ]
    },
    {
     "name": "stdout",
     "output_type": "stream",
     "text": [
      "23819\n",
      "23821\n",
      "23823\n"
     ]
    },
    {
     "name": "stderr",
     "output_type": "stream",
     "text": [
      "/Users/vladimir.levin/Yandex.Disk.localized/01_Documents/01_Study/0_LUX/01_PhD/Drafts/Project3/kaggle_volatility/support_file.py:1675: RuntimeWarning: invalid value encountered in true_divide\n",
      "  w_ask = np.sum(df_book[(start_time <= df_book['seconds_in_bucket']) & (df_book['seconds_in_bucket'] < end_time)]['ask_price1'] * df_book[(start_time <= df_book['seconds_in_bucket']) & (df_book['seconds_in_bucket'] < end_time)]['time_length']) / (end_time - start_time)\n",
      "/Users/vladimir.levin/Yandex.Disk.localized/01_Documents/01_Study/0_LUX/01_PhD/Drafts/Project3/kaggle_volatility/support_file.py:1676: RuntimeWarning: invalid value encountered in true_divide\n",
      "  w_bid = np.sum(df_book[(start_time <= df_book['seconds_in_bucket']) & (df_book['seconds_in_bucket'] < end_time)]['bid_price1'] * df_book[(start_time <= df_book['seconds_in_bucket']) & (df_book['seconds_in_bucket'] < end_time)]['time_length']) / (end_time - start_time)\n"
     ]
    },
    {
     "name": "stdout",
     "output_type": "stream",
     "text": [
      "23828\n",
      "23834\n",
      "23836\n"
     ]
    },
    {
     "name": "stderr",
     "output_type": "stream",
     "text": [
      "/Users/vladimir.levin/Yandex.Disk.localized/01_Documents/01_Study/0_LUX/01_PhD/Drafts/Project3/kaggle_volatility/support_file.py:1675: RuntimeWarning: invalid value encountered in true_divide\n",
      "  w_ask = np.sum(df_book[(start_time <= df_book['seconds_in_bucket']) & (df_book['seconds_in_bucket'] < end_time)]['ask_price1'] * df_book[(start_time <= df_book['seconds_in_bucket']) & (df_book['seconds_in_bucket'] < end_time)]['time_length']) / (end_time - start_time)\n",
      "/Users/vladimir.levin/Yandex.Disk.localized/01_Documents/01_Study/0_LUX/01_PhD/Drafts/Project3/kaggle_volatility/support_file.py:1676: RuntimeWarning: invalid value encountered in true_divide\n",
      "  w_bid = np.sum(df_book[(start_time <= df_book['seconds_in_bucket']) & (df_book['seconds_in_bucket'] < end_time)]['bid_price1'] * df_book[(start_time <= df_book['seconds_in_bucket']) & (df_book['seconds_in_bucket'] < end_time)]['time_length']) / (end_time - start_time)\n"
     ]
    },
    {
     "name": "stdout",
     "output_type": "stream",
     "text": [
      "23858\n",
      "23863\n",
      "23873\n",
      "23892\n",
      "23903\n",
      "23940\n",
      "23955\n",
      "23958\n",
      "23962\n",
      "23967\n",
      "23972\n",
      "23994\n",
      "24002\n",
      "24010\n"
     ]
    },
    {
     "name": "stderr",
     "output_type": "stream",
     "text": [
      "/Users/vladimir.levin/Yandex.Disk.localized/01_Documents/01_Study/0_LUX/01_PhD/Drafts/Project3/kaggle_volatility/support_file.py:1675: RuntimeWarning: invalid value encountered in true_divide\n",
      "  w_ask = np.sum(df_book[(start_time <= df_book['seconds_in_bucket']) & (df_book['seconds_in_bucket'] < end_time)]['ask_price1'] * df_book[(start_time <= df_book['seconds_in_bucket']) & (df_book['seconds_in_bucket'] < end_time)]['time_length']) / (end_time - start_time)\n",
      "/Users/vladimir.levin/Yandex.Disk.localized/01_Documents/01_Study/0_LUX/01_PhD/Drafts/Project3/kaggle_volatility/support_file.py:1676: RuntimeWarning: invalid value encountered in true_divide\n",
      "  w_bid = np.sum(df_book[(start_time <= df_book['seconds_in_bucket']) & (df_book['seconds_in_bucket'] < end_time)]['bid_price1'] * df_book[(start_time <= df_book['seconds_in_bucket']) & (df_book['seconds_in_bucket'] < end_time)]['time_length']) / (end_time - start_time)\n"
     ]
    },
    {
     "name": "stdout",
     "output_type": "stream",
     "text": [
      "24014\n",
      "24021\n",
      "24022\n",
      "24033\n",
      "24034\n",
      "24048\n"
     ]
    },
    {
     "name": "stderr",
     "output_type": "stream",
     "text": [
      "/Users/vladimir.levin/Yandex.Disk.localized/01_Documents/01_Study/0_LUX/01_PhD/Drafts/Project3/kaggle_volatility/support_file.py:1675: RuntimeWarning: invalid value encountered in true_divide\n",
      "  w_ask = np.sum(df_book[(start_time <= df_book['seconds_in_bucket']) & (df_book['seconds_in_bucket'] < end_time)]['ask_price1'] * df_book[(start_time <= df_book['seconds_in_bucket']) & (df_book['seconds_in_bucket'] < end_time)]['time_length']) / (end_time - start_time)\n",
      "/Users/vladimir.levin/Yandex.Disk.localized/01_Documents/01_Study/0_LUX/01_PhD/Drafts/Project3/kaggle_volatility/support_file.py:1676: RuntimeWarning: invalid value encountered in true_divide\n",
      "  w_bid = np.sum(df_book[(start_time <= df_book['seconds_in_bucket']) & (df_book['seconds_in_bucket'] < end_time)]['bid_price1'] * df_book[(start_time <= df_book['seconds_in_bucket']) & (df_book['seconds_in_bucket'] < end_time)]['time_length']) / (end_time - start_time)\n"
     ]
    },
    {
     "name": "stdout",
     "output_type": "stream",
     "text": [
      "24050\n",
      "24073\n",
      "24078\n",
      "24085\n",
      "24101\n",
      "24120\n",
      "24123\n"
     ]
    },
    {
     "name": "stderr",
     "output_type": "stream",
     "text": [
      "/Users/vladimir.levin/Yandex.Disk.localized/01_Documents/01_Study/0_LUX/01_PhD/Drafts/Project3/kaggle_volatility/support_file.py:1675: RuntimeWarning: invalid value encountered in true_divide\n",
      "  w_ask = np.sum(df_book[(start_time <= df_book['seconds_in_bucket']) & (df_book['seconds_in_bucket'] < end_time)]['ask_price1'] * df_book[(start_time <= df_book['seconds_in_bucket']) & (df_book['seconds_in_bucket'] < end_time)]['time_length']) / (end_time - start_time)\n",
      "/Users/vladimir.levin/Yandex.Disk.localized/01_Documents/01_Study/0_LUX/01_PhD/Drafts/Project3/kaggle_volatility/support_file.py:1676: RuntimeWarning: invalid value encountered in true_divide\n",
      "  w_bid = np.sum(df_book[(start_time <= df_book['seconds_in_bucket']) & (df_book['seconds_in_bucket'] < end_time)]['bid_price1'] * df_book[(start_time <= df_book['seconds_in_bucket']) & (df_book['seconds_in_bucket'] < end_time)]['time_length']) / (end_time - start_time)\n"
     ]
    },
    {
     "name": "stdout",
     "output_type": "stream",
     "text": [
      "24127\n",
      "24131\n",
      "24143\n",
      "24149\n",
      "24157\n",
      "24161\n"
     ]
    },
    {
     "name": "stderr",
     "output_type": "stream",
     "text": [
      "/Users/vladimir.levin/Yandex.Disk.localized/01_Documents/01_Study/0_LUX/01_PhD/Drafts/Project3/kaggle_volatility/support_file.py:1675: RuntimeWarning: invalid value encountered in true_divide\n",
      "  w_ask = np.sum(df_book[(start_time <= df_book['seconds_in_bucket']) & (df_book['seconds_in_bucket'] < end_time)]['ask_price1'] * df_book[(start_time <= df_book['seconds_in_bucket']) & (df_book['seconds_in_bucket'] < end_time)]['time_length']) / (end_time - start_time)\n",
      "/Users/vladimir.levin/Yandex.Disk.localized/01_Documents/01_Study/0_LUX/01_PhD/Drafts/Project3/kaggle_volatility/support_file.py:1676: RuntimeWarning: invalid value encountered in true_divide\n",
      "  w_bid = np.sum(df_book[(start_time <= df_book['seconds_in_bucket']) & (df_book['seconds_in_bucket'] < end_time)]['bid_price1'] * df_book[(start_time <= df_book['seconds_in_bucket']) & (df_book['seconds_in_bucket'] < end_time)]['time_length']) / (end_time - start_time)\n"
     ]
    },
    {
     "name": "stdout",
     "output_type": "stream",
     "text": [
      "24171\n",
      "24178\n",
      "24179\n",
      "24183\n",
      "24198\n",
      "24220\n",
      "24224\n",
      "24253\n",
      "24259\n"
     ]
    },
    {
     "name": "stderr",
     "output_type": "stream",
     "text": [
      "/Users/vladimir.levin/Yandex.Disk.localized/01_Documents/01_Study/0_LUX/01_PhD/Drafts/Project3/kaggle_volatility/support_file.py:1675: RuntimeWarning: invalid value encountered in true_divide\n",
      "  w_ask = np.sum(df_book[(start_time <= df_book['seconds_in_bucket']) & (df_book['seconds_in_bucket'] < end_time)]['ask_price1'] * df_book[(start_time <= df_book['seconds_in_bucket']) & (df_book['seconds_in_bucket'] < end_time)]['time_length']) / (end_time - start_time)\n",
      "/Users/vladimir.levin/Yandex.Disk.localized/01_Documents/01_Study/0_LUX/01_PhD/Drafts/Project3/kaggle_volatility/support_file.py:1676: RuntimeWarning: invalid value encountered in true_divide\n",
      "  w_bid = np.sum(df_book[(start_time <= df_book['seconds_in_bucket']) & (df_book['seconds_in_bucket'] < end_time)]['bid_price1'] * df_book[(start_time <= df_book['seconds_in_bucket']) & (df_book['seconds_in_bucket'] < end_time)]['time_length']) / (end_time - start_time)\n",
      "/Users/vladimir.levin/Yandex.Disk.localized/01_Documents/01_Study/0_LUX/01_PhD/Drafts/Project3/kaggle_volatility/support_file.py:1675: RuntimeWarning: invalid value encountered in true_divide\n",
      "  w_ask = np.sum(df_book[(start_time <= df_book['seconds_in_bucket']) & (df_book['seconds_in_bucket'] < end_time)]['ask_price1'] * df_book[(start_time <= df_book['seconds_in_bucket']) & (df_book['seconds_in_bucket'] < end_time)]['time_length']) / (end_time - start_time)\n",
      "/Users/vladimir.levin/Yandex.Disk.localized/01_Documents/01_Study/0_LUX/01_PhD/Drafts/Project3/kaggle_volatility/support_file.py:1676: RuntimeWarning: invalid value encountered in true_divide\n",
      "  w_bid = np.sum(df_book[(start_time <= df_book['seconds_in_bucket']) & (df_book['seconds_in_bucket'] < end_time)]['bid_price1'] * df_book[(start_time <= df_book['seconds_in_bucket']) & (df_book['seconds_in_bucket'] < end_time)]['time_length']) / (end_time - start_time)\n"
     ]
    },
    {
     "name": "stdout",
     "output_type": "stream",
     "text": [
      "24318\n",
      "24334\n",
      "24339\n",
      "24341\n",
      "24349\n",
      "24351\n",
      "24357\n",
      "24384\n",
      "24385\n",
      "24388"
     ]
    },
    {
     "name": "stderr",
     "output_type": "stream",
     "text": [
      "/Users/vladimir.levin/Yandex.Disk.localized/01_Documents/01_Study/0_LUX/01_PhD/Drafts/Project3/kaggle_volatility/support_file.py:1675: RuntimeWarning: invalid value encountered in true_divide\n",
      "  w_ask = np.sum(df_book[(start_time <= df_book['seconds_in_bucket']) & (df_book['seconds_in_bucket'] < end_time)]['ask_price1'] * df_book[(start_time <= df_book['seconds_in_bucket']) & (df_book['seconds_in_bucket'] < end_time)]['time_length']) / (end_time - start_time)\n",
      "/Users/vladimir.levin/Yandex.Disk.localized/01_Documents/01_Study/0_LUX/01_PhD/Drafts/Project3/kaggle_volatility/support_file.py:1676: RuntimeWarning: invalid value encountered in true_divide\n",
      "  w_bid = np.sum(df_book[(start_time <= df_book['seconds_in_bucket']) & (df_book['seconds_in_bucket'] < end_time)]['bid_price1'] * df_book[(start_time <= df_book['seconds_in_bucket']) & (df_book['seconds_in_bucket'] < end_time)]['time_length']) / (end_time - start_time)\n"
     ]
    },
    {
     "name": "stdout",
     "output_type": "stream",
     "text": [
      "\n",
      "24393\n",
      "24396\n",
      "24398\n",
      "24401\n"
     ]
    },
    {
     "name": "stderr",
     "output_type": "stream",
     "text": [
      "/Users/vladimir.levin/Yandex.Disk.localized/01_Documents/01_Study/0_LUX/01_PhD/Drafts/Project3/kaggle_volatility/support_file.py:1675: RuntimeWarning: invalid value encountered in true_divide\n",
      "  w_ask = np.sum(df_book[(start_time <= df_book['seconds_in_bucket']) & (df_book['seconds_in_bucket'] < end_time)]['ask_price1'] * df_book[(start_time <= df_book['seconds_in_bucket']) & (df_book['seconds_in_bucket'] < end_time)]['time_length']) / (end_time - start_time)\n",
      "/Users/vladimir.levin/Yandex.Disk.localized/01_Documents/01_Study/0_LUX/01_PhD/Drafts/Project3/kaggle_volatility/support_file.py:1676: RuntimeWarning: invalid value encountered in true_divide\n",
      "  w_bid = np.sum(df_book[(start_time <= df_book['seconds_in_bucket']) & (df_book['seconds_in_bucket'] < end_time)]['bid_price1'] * df_book[(start_time <= df_book['seconds_in_bucket']) & (df_book['seconds_in_bucket'] < end_time)]['time_length']) / (end_time - start_time)\n"
     ]
    },
    {
     "name": "stdout",
     "output_type": "stream",
     "text": [
      "24402\n",
      "24406\n",
      "24414\n",
      "24437\n",
      "24443\n",
      "24457\n",
      "24470\n",
      "24473\n"
     ]
    },
    {
     "name": "stderr",
     "output_type": "stream",
     "text": [
      "/Users/vladimir.levin/Yandex.Disk.localized/01_Documents/01_Study/0_LUX/01_PhD/Drafts/Project3/kaggle_volatility/support_file.py:1675: RuntimeWarning: invalid value encountered in true_divide\n",
      "  w_ask = np.sum(df_book[(start_time <= df_book['seconds_in_bucket']) & (df_book['seconds_in_bucket'] < end_time)]['ask_price1'] * df_book[(start_time <= df_book['seconds_in_bucket']) & (df_book['seconds_in_bucket'] < end_time)]['time_length']) / (end_time - start_time)\n",
      "/Users/vladimir.levin/Yandex.Disk.localized/01_Documents/01_Study/0_LUX/01_PhD/Drafts/Project3/kaggle_volatility/support_file.py:1676: RuntimeWarning: invalid value encountered in true_divide\n",
      "  w_bid = np.sum(df_book[(start_time <= df_book['seconds_in_bucket']) & (df_book['seconds_in_bucket'] < end_time)]['bid_price1'] * df_book[(start_time <= df_book['seconds_in_bucket']) & (df_book['seconds_in_bucket'] < end_time)]['time_length']) / (end_time - start_time)\n"
     ]
    },
    {
     "name": "stdout",
     "output_type": "stream",
     "text": [
      "24497\n",
      "24523\n",
      "24535\n",
      "24572\n",
      "24573\n",
      "24588\n",
      "24589\n"
     ]
    },
    {
     "name": "stderr",
     "output_type": "stream",
     "text": [
      "/Users/vladimir.levin/Yandex.Disk.localized/01_Documents/01_Study/0_LUX/01_PhD/Drafts/Project3/kaggle_volatility/support_file.py:1675: RuntimeWarning: invalid value encountered in true_divide\n",
      "  w_ask = np.sum(df_book[(start_time <= df_book['seconds_in_bucket']) & (df_book['seconds_in_bucket'] < end_time)]['ask_price1'] * df_book[(start_time <= df_book['seconds_in_bucket']) & (df_book['seconds_in_bucket'] < end_time)]['time_length']) / (end_time - start_time)\n",
      "/Users/vladimir.levin/Yandex.Disk.localized/01_Documents/01_Study/0_LUX/01_PhD/Drafts/Project3/kaggle_volatility/support_file.py:1676: RuntimeWarning: invalid value encountered in true_divide\n",
      "  w_bid = np.sum(df_book[(start_time <= df_book['seconds_in_bucket']) & (df_book['seconds_in_bucket'] < end_time)]['bid_price1'] * df_book[(start_time <= df_book['seconds_in_bucket']) & (df_book['seconds_in_bucket'] < end_time)]['time_length']) / (end_time - start_time)\n",
      "/Users/vladimir.levin/Yandex.Disk.localized/01_Documents/01_Study/0_LUX/01_PhD/Drafts/Project3/kaggle_volatility/support_file.py:1675: RuntimeWarning: invalid value encountered in true_divide\n",
      "  w_ask = np.sum(df_book[(start_time <= df_book['seconds_in_bucket']) & (df_book['seconds_in_bucket'] < end_time)]['ask_price1'] * df_book[(start_time <= df_book['seconds_in_bucket']) & (df_book['seconds_in_bucket'] < end_time)]['time_length']) / (end_time - start_time)\n",
      "/Users/vladimir.levin/Yandex.Disk.localized/01_Documents/01_Study/0_LUX/01_PhD/Drafts/Project3/kaggle_volatility/support_file.py:1676: RuntimeWarning: invalid value encountered in true_divide\n",
      "  w_bid = np.sum(df_book[(start_time <= df_book['seconds_in_bucket']) & (df_book['seconds_in_bucket'] < end_time)]['bid_price1'] * df_book[(start_time <= df_book['seconds_in_bucket']) & (df_book['seconds_in_bucket'] < end_time)]['time_length']) / (end_time - start_time)\n"
     ]
    },
    {
     "name": "stdout",
     "output_type": "stream",
     "text": [
      "24590\n",
      "24600\n",
      "24661\n",
      "24662"
     ]
    },
    {
     "name": "stderr",
     "output_type": "stream",
     "text": [
      "/Users/vladimir.levin/Yandex.Disk.localized/01_Documents/01_Study/0_LUX/01_PhD/Drafts/Project3/kaggle_volatility/support_file.py:1675: RuntimeWarning: invalid value encountered in true_divide\n",
      "  w_ask = np.sum(df_book[(start_time <= df_book['seconds_in_bucket']) & (df_book['seconds_in_bucket'] < end_time)]['ask_price1'] * df_book[(start_time <= df_book['seconds_in_bucket']) & (df_book['seconds_in_bucket'] < end_time)]['time_length']) / (end_time - start_time)\n",
      "/Users/vladimir.levin/Yandex.Disk.localized/01_Documents/01_Study/0_LUX/01_PhD/Drafts/Project3/kaggle_volatility/support_file.py:1676: RuntimeWarning: invalid value encountered in true_divide\n",
      "  w_bid = np.sum(df_book[(start_time <= df_book['seconds_in_bucket']) & (df_book['seconds_in_bucket'] < end_time)]['bid_price1'] * df_book[(start_time <= df_book['seconds_in_bucket']) & (df_book['seconds_in_bucket'] < end_time)]['time_length']) / (end_time - start_time)\n",
      "/Users/vladimir.levin/Yandex.Disk.localized/01_Documents/01_Study/0_LUX/01_PhD/Drafts/Project3/kaggle_volatility/support_file.py:1675: RuntimeWarning: invalid value encountered in true_divide\n",
      "  w_ask = np.sum(df_book[(start_time <= df_book['seconds_in_bucket']) & (df_book['seconds_in_bucket'] < end_time)]['ask_price1'] * df_book[(start_time <= df_book['seconds_in_bucket']) & (df_book['seconds_in_bucket'] < end_time)]['time_length']) / (end_time - start_time)\n",
      "/Users/vladimir.levin/Yandex.Disk.localized/01_Documents/01_Study/0_LUX/01_PhD/Drafts/Project3/kaggle_volatility/support_file.py:1676: RuntimeWarning: invalid value encountered in true_divide\n",
      "  w_bid = np.sum(df_book[(start_time <= df_book['seconds_in_bucket']) & (df_book['seconds_in_bucket'] < end_time)]['bid_price1'] * df_book[(start_time <= df_book['seconds_in_bucket']) & (df_book['seconds_in_bucket'] < end_time)]['time_length']) / (end_time - start_time)\n"
     ]
    },
    {
     "name": "stdout",
     "output_type": "stream",
     "text": [
      "\n",
      "24680\n",
      "24701\n",
      "24705\n",
      "24707\n",
      "24713\n",
      "24717\n",
      "24725"
     ]
    },
    {
     "name": "stderr",
     "output_type": "stream",
     "text": [
      "/Users/vladimir.levin/Yandex.Disk.localized/01_Documents/01_Study/0_LUX/01_PhD/Drafts/Project3/kaggle_volatility/support_file.py:1675: RuntimeWarning: invalid value encountered in true_divide\n",
      "  w_ask = np.sum(df_book[(start_time <= df_book['seconds_in_bucket']) & (df_book['seconds_in_bucket'] < end_time)]['ask_price1'] * df_book[(start_time <= df_book['seconds_in_bucket']) & (df_book['seconds_in_bucket'] < end_time)]['time_length']) / (end_time - start_time)\n",
      "/Users/vladimir.levin/Yandex.Disk.localized/01_Documents/01_Study/0_LUX/01_PhD/Drafts/Project3/kaggle_volatility/support_file.py:1676: RuntimeWarning: invalid value encountered in true_divide\n",
      "  w_bid = np.sum(df_book[(start_time <= df_book['seconds_in_bucket']) & (df_book['seconds_in_bucket'] < end_time)]['bid_price1'] * df_book[(start_time <= df_book['seconds_in_bucket']) & (df_book['seconds_in_bucket'] < end_time)]['time_length']) / (end_time - start_time)\n"
     ]
    },
    {
     "name": "stdout",
     "output_type": "stream",
     "text": [
      "\n",
      "24728\n",
      "24730\n",
      "24741\n",
      "24742\n",
      "24754\n",
      "24766\n",
      "24770\n",
      "24775\n",
      "24795\n",
      "24816\n",
      "24817\n"
     ]
    },
    {
     "name": "stderr",
     "output_type": "stream",
     "text": [
      "/Users/vladimir.levin/Yandex.Disk.localized/01_Documents/01_Study/0_LUX/01_PhD/Drafts/Project3/kaggle_volatility/support_file.py:1675: RuntimeWarning: invalid value encountered in true_divide\n",
      "  w_ask = np.sum(df_book[(start_time <= df_book['seconds_in_bucket']) & (df_book['seconds_in_bucket'] < end_time)]['ask_price1'] * df_book[(start_time <= df_book['seconds_in_bucket']) & (df_book['seconds_in_bucket'] < end_time)]['time_length']) / (end_time - start_time)\n",
      "/Users/vladimir.levin/Yandex.Disk.localized/01_Documents/01_Study/0_LUX/01_PhD/Drafts/Project3/kaggle_volatility/support_file.py:1676: RuntimeWarning: invalid value encountered in true_divide\n",
      "  w_bid = np.sum(df_book[(start_time <= df_book['seconds_in_bucket']) & (df_book['seconds_in_bucket'] < end_time)]['bid_price1'] * df_book[(start_time <= df_book['seconds_in_bucket']) & (df_book['seconds_in_bucket'] < end_time)]['time_length']) / (end_time - start_time)\n"
     ]
    },
    {
     "name": "stdout",
     "output_type": "stream",
     "text": [
      "24868\n",
      "24871\n",
      "24874\n",
      "24878\n"
     ]
    },
    {
     "name": "stderr",
     "output_type": "stream",
     "text": [
      "/Users/vladimir.levin/Yandex.Disk.localized/01_Documents/01_Study/0_LUX/01_PhD/Drafts/Project3/kaggle_volatility/support_file.py:1675: RuntimeWarning: invalid value encountered in true_divide\n",
      "  w_ask = np.sum(df_book[(start_time <= df_book['seconds_in_bucket']) & (df_book['seconds_in_bucket'] < end_time)]['ask_price1'] * df_book[(start_time <= df_book['seconds_in_bucket']) & (df_book['seconds_in_bucket'] < end_time)]['time_length']) / (end_time - start_time)\n",
      "/Users/vladimir.levin/Yandex.Disk.localized/01_Documents/01_Study/0_LUX/01_PhD/Drafts/Project3/kaggle_volatility/support_file.py:1676: RuntimeWarning: invalid value encountered in true_divide\n",
      "  w_bid = np.sum(df_book[(start_time <= df_book['seconds_in_bucket']) & (df_book['seconds_in_bucket'] < end_time)]['bid_price1'] * df_book[(start_time <= df_book['seconds_in_bucket']) & (df_book['seconds_in_bucket'] < end_time)]['time_length']) / (end_time - start_time)\n"
     ]
    },
    {
     "name": "stdout",
     "output_type": "stream",
     "text": [
      "24879\n",
      "24880\n",
      "24881\n"
     ]
    },
    {
     "name": "stderr",
     "output_type": "stream",
     "text": [
      "/Users/vladimir.levin/Yandex.Disk.localized/01_Documents/01_Study/0_LUX/01_PhD/Drafts/Project3/kaggle_volatility/support_file.py:1675: RuntimeWarning: invalid value encountered in true_divide\n",
      "  w_ask = np.sum(df_book[(start_time <= df_book['seconds_in_bucket']) & (df_book['seconds_in_bucket'] < end_time)]['ask_price1'] * df_book[(start_time <= df_book['seconds_in_bucket']) & (df_book['seconds_in_bucket'] < end_time)]['time_length']) / (end_time - start_time)\n",
      "/Users/vladimir.levin/Yandex.Disk.localized/01_Documents/01_Study/0_LUX/01_PhD/Drafts/Project3/kaggle_volatility/support_file.py:1676: RuntimeWarning: invalid value encountered in true_divide\n",
      "  w_bid = np.sum(df_book[(start_time <= df_book['seconds_in_bucket']) & (df_book['seconds_in_bucket'] < end_time)]['bid_price1'] * df_book[(start_time <= df_book['seconds_in_bucket']) & (df_book['seconds_in_bucket'] < end_time)]['time_length']) / (end_time - start_time)\n"
     ]
    },
    {
     "name": "stdout",
     "output_type": "stream",
     "text": [
      "24894\n",
      "24913\n"
     ]
    },
    {
     "name": "stderr",
     "output_type": "stream",
     "text": [
      "/Users/vladimir.levin/Yandex.Disk.localized/01_Documents/01_Study/0_LUX/01_PhD/Drafts/Project3/kaggle_volatility/support_file.py:1675: RuntimeWarning: invalid value encountered in true_divide\n",
      "  w_ask = np.sum(df_book[(start_time <= df_book['seconds_in_bucket']) & (df_book['seconds_in_bucket'] < end_time)]['ask_price1'] * df_book[(start_time <= df_book['seconds_in_bucket']) & (df_book['seconds_in_bucket'] < end_time)]['time_length']) / (end_time - start_time)\n",
      "/Users/vladimir.levin/Yandex.Disk.localized/01_Documents/01_Study/0_LUX/01_PhD/Drafts/Project3/kaggle_volatility/support_file.py:1676: RuntimeWarning: invalid value encountered in true_divide\n",
      "  w_bid = np.sum(df_book[(start_time <= df_book['seconds_in_bucket']) & (df_book['seconds_in_bucket'] < end_time)]['bid_price1'] * df_book[(start_time <= df_book['seconds_in_bucket']) & (df_book['seconds_in_bucket'] < end_time)]['time_length']) / (end_time - start_time)\n",
      "/Users/vladimir.levin/Yandex.Disk.localized/01_Documents/01_Study/0_LUX/01_PhD/Drafts/Project3/kaggle_volatility/support_file.py:1675: RuntimeWarning: invalid value encountered in true_divide\n",
      "  w_ask = np.sum(df_book[(start_time <= df_book['seconds_in_bucket']) & (df_book['seconds_in_bucket'] < end_time)]['ask_price1'] * df_book[(start_time <= df_book['seconds_in_bucket']) & (df_book['seconds_in_bucket'] < end_time)]['time_length']) / (end_time - start_time)\n",
      "/Users/vladimir.levin/Yandex.Disk.localized/01_Documents/01_Study/0_LUX/01_PhD/Drafts/Project3/kaggle_volatility/support_file.py:1676: RuntimeWarning: invalid value encountered in true_divide\n",
      "  w_bid = np.sum(df_book[(start_time <= df_book['seconds_in_bucket']) & (df_book['seconds_in_bucket'] < end_time)]['bid_price1'] * df_book[(start_time <= df_book['seconds_in_bucket']) & (df_book['seconds_in_bucket'] < end_time)]['time_length']) / (end_time - start_time)\n"
     ]
    },
    {
     "name": "stdout",
     "output_type": "stream",
     "text": [
      "24921\n",
      "24929\n",
      "24933\n",
      "24949\n",
      "24989\n",
      "24997\n",
      "25002\n",
      "25010\n",
      "25015\n",
      "25018\n",
      "25019\n",
      "25023\n",
      "25025\n",
      "25030\n",
      "25031\n",
      "25059\n",
      "25085\n",
      "25087\n",
      "25089\n",
      "25094\n",
      "25107\n",
      "25108\n",
      "25118\n",
      "25131\n",
      "25148\n",
      "25150\n",
      "25163\n",
      "25166\n",
      "25176\n"
     ]
    },
    {
     "name": "stderr",
     "output_type": "stream",
     "text": [
      "/Users/vladimir.levin/Yandex.Disk.localized/01_Documents/01_Study/0_LUX/01_PhD/Drafts/Project3/kaggle_volatility/support_file.py:1675: RuntimeWarning: invalid value encountered in true_divide\n",
      "  w_ask = np.sum(df_book[(start_time <= df_book['seconds_in_bucket']) & (df_book['seconds_in_bucket'] < end_time)]['ask_price1'] * df_book[(start_time <= df_book['seconds_in_bucket']) & (df_book['seconds_in_bucket'] < end_time)]['time_length']) / (end_time - start_time)\n",
      "/Users/vladimir.levin/Yandex.Disk.localized/01_Documents/01_Study/0_LUX/01_PhD/Drafts/Project3/kaggle_volatility/support_file.py:1676: RuntimeWarning: invalid value encountered in true_divide\n",
      "  w_bid = np.sum(df_book[(start_time <= df_book['seconds_in_bucket']) & (df_book['seconds_in_bucket'] < end_time)]['bid_price1'] * df_book[(start_time <= df_book['seconds_in_bucket']) & (df_book['seconds_in_bucket'] < end_time)]['time_length']) / (end_time - start_time)\n"
     ]
    },
    {
     "name": "stdout",
     "output_type": "stream",
     "text": [
      "25177\n",
      "25179\n",
      "25190\n"
     ]
    },
    {
     "name": "stderr",
     "output_type": "stream",
     "text": [
      "/Users/vladimir.levin/Yandex.Disk.localized/01_Documents/01_Study/0_LUX/01_PhD/Drafts/Project3/kaggle_volatility/support_file.py:1675: RuntimeWarning: invalid value encountered in true_divide\n",
      "  w_ask = np.sum(df_book[(start_time <= df_book['seconds_in_bucket']) & (df_book['seconds_in_bucket'] < end_time)]['ask_price1'] * df_book[(start_time <= df_book['seconds_in_bucket']) & (df_book['seconds_in_bucket'] < end_time)]['time_length']) / (end_time - start_time)\n",
      "/Users/vladimir.levin/Yandex.Disk.localized/01_Documents/01_Study/0_LUX/01_PhD/Drafts/Project3/kaggle_volatility/support_file.py:1676: RuntimeWarning: invalid value encountered in true_divide\n",
      "  w_bid = np.sum(df_book[(start_time <= df_book['seconds_in_bucket']) & (df_book['seconds_in_bucket'] < end_time)]['bid_price1'] * df_book[(start_time <= df_book['seconds_in_bucket']) & (df_book['seconds_in_bucket'] < end_time)]['time_length']) / (end_time - start_time)\n"
     ]
    },
    {
     "name": "stdout",
     "output_type": "stream",
     "text": [
      "25197\n",
      "25219\n",
      "25220\n",
      "25234\n",
      "25250\n",
      "25265\n",
      "25270\n"
     ]
    },
    {
     "name": "stderr",
     "output_type": "stream",
     "text": [
      "/Users/vladimir.levin/Yandex.Disk.localized/01_Documents/01_Study/0_LUX/01_PhD/Drafts/Project3/kaggle_volatility/support_file.py:1675: RuntimeWarning: invalid value encountered in true_divide\n",
      "  w_ask = np.sum(df_book[(start_time <= df_book['seconds_in_bucket']) & (df_book['seconds_in_bucket'] < end_time)]['ask_price1'] * df_book[(start_time <= df_book['seconds_in_bucket']) & (df_book['seconds_in_bucket'] < end_time)]['time_length']) / (end_time - start_time)\n",
      "/Users/vladimir.levin/Yandex.Disk.localized/01_Documents/01_Study/0_LUX/01_PhD/Drafts/Project3/kaggle_volatility/support_file.py:1676: RuntimeWarning: invalid value encountered in true_divide\n",
      "  w_bid = np.sum(df_book[(start_time <= df_book['seconds_in_bucket']) & (df_book['seconds_in_bucket'] < end_time)]['bid_price1'] * df_book[(start_time <= df_book['seconds_in_bucket']) & (df_book['seconds_in_bucket'] < end_time)]['time_length']) / (end_time - start_time)\n"
     ]
    },
    {
     "name": "stdout",
     "output_type": "stream",
     "text": [
      "25274\n",
      "25277\n",
      "25282\n"
     ]
    },
    {
     "name": "stderr",
     "output_type": "stream",
     "text": [
      "/Users/vladimir.levin/Yandex.Disk.localized/01_Documents/01_Study/0_LUX/01_PhD/Drafts/Project3/kaggle_volatility/support_file.py:1675: RuntimeWarning: invalid value encountered in true_divide\n",
      "  w_ask = np.sum(df_book[(start_time <= df_book['seconds_in_bucket']) & (df_book['seconds_in_bucket'] < end_time)]['ask_price1'] * df_book[(start_time <= df_book['seconds_in_bucket']) & (df_book['seconds_in_bucket'] < end_time)]['time_length']) / (end_time - start_time)\n",
      "/Users/vladimir.levin/Yandex.Disk.localized/01_Documents/01_Study/0_LUX/01_PhD/Drafts/Project3/kaggle_volatility/support_file.py:1676: RuntimeWarning: invalid value encountered in true_divide\n",
      "  w_bid = np.sum(df_book[(start_time <= df_book['seconds_in_bucket']) & (df_book['seconds_in_bucket'] < end_time)]['bid_price1'] * df_book[(start_time <= df_book['seconds_in_bucket']) & (df_book['seconds_in_bucket'] < end_time)]['time_length']) / (end_time - start_time)\n"
     ]
    },
    {
     "name": "stdout",
     "output_type": "stream",
     "text": [
      "25290\n",
      "25301\n",
      "25309\n",
      "25312\n"
     ]
    },
    {
     "name": "stderr",
     "output_type": "stream",
     "text": [
      "/Users/vladimir.levin/Yandex.Disk.localized/01_Documents/01_Study/0_LUX/01_PhD/Drafts/Project3/kaggle_volatility/support_file.py:1675: RuntimeWarning: invalid value encountered in true_divide\n",
      "  w_ask = np.sum(df_book[(start_time <= df_book['seconds_in_bucket']) & (df_book['seconds_in_bucket'] < end_time)]['ask_price1'] * df_book[(start_time <= df_book['seconds_in_bucket']) & (df_book['seconds_in_bucket'] < end_time)]['time_length']) / (end_time - start_time)\n",
      "/Users/vladimir.levin/Yandex.Disk.localized/01_Documents/01_Study/0_LUX/01_PhD/Drafts/Project3/kaggle_volatility/support_file.py:1676: RuntimeWarning: invalid value encountered in true_divide\n",
      "  w_bid = np.sum(df_book[(start_time <= df_book['seconds_in_bucket']) & (df_book['seconds_in_bucket'] < end_time)]['bid_price1'] * df_book[(start_time <= df_book['seconds_in_bucket']) & (df_book['seconds_in_bucket'] < end_time)]['time_length']) / (end_time - start_time)\n"
     ]
    },
    {
     "name": "stdout",
     "output_type": "stream",
     "text": [
      "25318\n",
      "25331\n",
      "25334\n",
      "25335\n",
      "25338\n",
      "25340\n",
      "25344\n",
      "25347\n",
      "25351\n",
      "25355\n",
      "25357\n",
      "25359\n"
     ]
    },
    {
     "name": "stderr",
     "output_type": "stream",
     "text": [
      "/Users/vladimir.levin/Yandex.Disk.localized/01_Documents/01_Study/0_LUX/01_PhD/Drafts/Project3/kaggle_volatility/support_file.py:1675: RuntimeWarning: invalid value encountered in true_divide\n",
      "  w_ask = np.sum(df_book[(start_time <= df_book['seconds_in_bucket']) & (df_book['seconds_in_bucket'] < end_time)]['ask_price1'] * df_book[(start_time <= df_book['seconds_in_bucket']) & (df_book['seconds_in_bucket'] < end_time)]['time_length']) / (end_time - start_time)\n",
      "/Users/vladimir.levin/Yandex.Disk.localized/01_Documents/01_Study/0_LUX/01_PhD/Drafts/Project3/kaggle_volatility/support_file.py:1676: RuntimeWarning: invalid value encountered in true_divide\n",
      "  w_bid = np.sum(df_book[(start_time <= df_book['seconds_in_bucket']) & (df_book['seconds_in_bucket'] < end_time)]['bid_price1'] * df_book[(start_time <= df_book['seconds_in_bucket']) & (df_book['seconds_in_bucket'] < end_time)]['time_length']) / (end_time - start_time)\n"
     ]
    },
    {
     "name": "stdout",
     "output_type": "stream",
     "text": [
      "25367\n",
      "25369\n",
      "25389\n",
      "25399\n",
      "25403\n",
      "25427\n",
      "25429\n",
      "25437\n",
      "25439\n",
      "25452\n",
      "25463\n"
     ]
    },
    {
     "name": "stderr",
     "output_type": "stream",
     "text": [
      "/Users/vladimir.levin/Yandex.Disk.localized/01_Documents/01_Study/0_LUX/01_PhD/Drafts/Project3/kaggle_volatility/support_file.py:1675: RuntimeWarning: invalid value encountered in true_divide\n",
      "  w_ask = np.sum(df_book[(start_time <= df_book['seconds_in_bucket']) & (df_book['seconds_in_bucket'] < end_time)]['ask_price1'] * df_book[(start_time <= df_book['seconds_in_bucket']) & (df_book['seconds_in_bucket'] < end_time)]['time_length']) / (end_time - start_time)\n",
      "/Users/vladimir.levin/Yandex.Disk.localized/01_Documents/01_Study/0_LUX/01_PhD/Drafts/Project3/kaggle_volatility/support_file.py:1676: RuntimeWarning: invalid value encountered in true_divide\n",
      "  w_bid = np.sum(df_book[(start_time <= df_book['seconds_in_bucket']) & (df_book['seconds_in_bucket'] < end_time)]['bid_price1'] * df_book[(start_time <= df_book['seconds_in_bucket']) & (df_book['seconds_in_bucket'] < end_time)]['time_length']) / (end_time - start_time)\n"
     ]
    },
    {
     "name": "stdout",
     "output_type": "stream",
     "text": [
      "25467\n",
      "25474\n"
     ]
    },
    {
     "name": "stderr",
     "output_type": "stream",
     "text": [
      "/Users/vladimir.levin/Yandex.Disk.localized/01_Documents/01_Study/0_LUX/01_PhD/Drafts/Project3/kaggle_volatility/support_file.py:1675: RuntimeWarning: invalid value encountered in true_divide\n",
      "  w_ask = np.sum(df_book[(start_time <= df_book['seconds_in_bucket']) & (df_book['seconds_in_bucket'] < end_time)]['ask_price1'] * df_book[(start_time <= df_book['seconds_in_bucket']) & (df_book['seconds_in_bucket'] < end_time)]['time_length']) / (end_time - start_time)\n",
      "/Users/vladimir.levin/Yandex.Disk.localized/01_Documents/01_Study/0_LUX/01_PhD/Drafts/Project3/kaggle_volatility/support_file.py:1676: RuntimeWarning: invalid value encountered in true_divide\n",
      "  w_bid = np.sum(df_book[(start_time <= df_book['seconds_in_bucket']) & (df_book['seconds_in_bucket'] < end_time)]['bid_price1'] * df_book[(start_time <= df_book['seconds_in_bucket']) & (df_book['seconds_in_bucket'] < end_time)]['time_length']) / (end_time - start_time)\n"
     ]
    },
    {
     "name": "stdout",
     "output_type": "stream",
     "text": [
      "25475\n",
      "25483\n",
      "25488\n",
      "25489\n",
      "25501\n",
      "25504\n",
      "25525\n",
      "25551\n",
      "25560\n",
      "25569\n"
     ]
    },
    {
     "name": "stderr",
     "output_type": "stream",
     "text": [
      "/Users/vladimir.levin/Yandex.Disk.localized/01_Documents/01_Study/0_LUX/01_PhD/Drafts/Project3/kaggle_volatility/support_file.py:1675: RuntimeWarning: invalid value encountered in true_divide\n",
      "  w_ask = np.sum(df_book[(start_time <= df_book['seconds_in_bucket']) & (df_book['seconds_in_bucket'] < end_time)]['ask_price1'] * df_book[(start_time <= df_book['seconds_in_bucket']) & (df_book['seconds_in_bucket'] < end_time)]['time_length']) / (end_time - start_time)\n",
      "/Users/vladimir.levin/Yandex.Disk.localized/01_Documents/01_Study/0_LUX/01_PhD/Drafts/Project3/kaggle_volatility/support_file.py:1676: RuntimeWarning: invalid value encountered in true_divide\n",
      "  w_bid = np.sum(df_book[(start_time <= df_book['seconds_in_bucket']) & (df_book['seconds_in_bucket'] < end_time)]['bid_price1'] * df_book[(start_time <= df_book['seconds_in_bucket']) & (df_book['seconds_in_bucket'] < end_time)]['time_length']) / (end_time - start_time)\n"
     ]
    },
    {
     "name": "stdout",
     "output_type": "stream",
     "text": [
      "25570\n",
      "25575\n",
      "25580\n"
     ]
    },
    {
     "name": "stderr",
     "output_type": "stream",
     "text": [
      "/Users/vladimir.levin/Yandex.Disk.localized/01_Documents/01_Study/0_LUX/01_PhD/Drafts/Project3/kaggle_volatility/support_file.py:1675: RuntimeWarning: invalid value encountered in true_divide\n",
      "  w_ask = np.sum(df_book[(start_time <= df_book['seconds_in_bucket']) & (df_book['seconds_in_bucket'] < end_time)]['ask_price1'] * df_book[(start_time <= df_book['seconds_in_bucket']) & (df_book['seconds_in_bucket'] < end_time)]['time_length']) / (end_time - start_time)\n",
      "/Users/vladimir.levin/Yandex.Disk.localized/01_Documents/01_Study/0_LUX/01_PhD/Drafts/Project3/kaggle_volatility/support_file.py:1676: RuntimeWarning: invalid value encountered in true_divide\n",
      "  w_bid = np.sum(df_book[(start_time <= df_book['seconds_in_bucket']) & (df_book['seconds_in_bucket'] < end_time)]['bid_price1'] * df_book[(start_time <= df_book['seconds_in_bucket']) & (df_book['seconds_in_bucket'] < end_time)]['time_length']) / (end_time - start_time)\n",
      "/Users/vladimir.levin/Yandex.Disk.localized/01_Documents/01_Study/0_LUX/01_PhD/Drafts/Project3/kaggle_volatility/support_file.py:1675: RuntimeWarning: invalid value encountered in true_divide\n",
      "  w_ask = np.sum(df_book[(start_time <= df_book['seconds_in_bucket']) & (df_book['seconds_in_bucket'] < end_time)]['ask_price1'] * df_book[(start_time <= df_book['seconds_in_bucket']) & (df_book['seconds_in_bucket'] < end_time)]['time_length']) / (end_time - start_time)\n",
      "/Users/vladimir.levin/Yandex.Disk.localized/01_Documents/01_Study/0_LUX/01_PhD/Drafts/Project3/kaggle_volatility/support_file.py:1676: RuntimeWarning: invalid value encountered in true_divide\n",
      "  w_bid = np.sum(df_book[(start_time <= df_book['seconds_in_bucket']) & (df_book['seconds_in_bucket'] < end_time)]['bid_price1'] * df_book[(start_time <= df_book['seconds_in_bucket']) & (df_book['seconds_in_bucket'] < end_time)]['time_length']) / (end_time - start_time)\n"
     ]
    },
    {
     "name": "stdout",
     "output_type": "stream",
     "text": [
      "25583\n",
      "25584\n",
      "25599\n",
      "25616\n",
      "25617\n",
      "25619\n",
      "25622\n",
      "25627\n",
      "25636\n"
     ]
    },
    {
     "name": "stderr",
     "output_type": "stream",
     "text": [
      "/Users/vladimir.levin/Yandex.Disk.localized/01_Documents/01_Study/0_LUX/01_PhD/Drafts/Project3/kaggle_volatility/support_file.py:1675: RuntimeWarning: invalid value encountered in true_divide\n",
      "  w_ask = np.sum(df_book[(start_time <= df_book['seconds_in_bucket']) & (df_book['seconds_in_bucket'] < end_time)]['ask_price1'] * df_book[(start_time <= df_book['seconds_in_bucket']) & (df_book['seconds_in_bucket'] < end_time)]['time_length']) / (end_time - start_time)\n",
      "/Users/vladimir.levin/Yandex.Disk.localized/01_Documents/01_Study/0_LUX/01_PhD/Drafts/Project3/kaggle_volatility/support_file.py:1676: RuntimeWarning: invalid value encountered in true_divide\n",
      "  w_bid = np.sum(df_book[(start_time <= df_book['seconds_in_bucket']) & (df_book['seconds_in_bucket'] < end_time)]['bid_price1'] * df_book[(start_time <= df_book['seconds_in_bucket']) & (df_book['seconds_in_bucket'] < end_time)]['time_length']) / (end_time - start_time)\n"
     ]
    },
    {
     "name": "stdout",
     "output_type": "stream",
     "text": [
      "25638\n",
      "25639\n",
      "25640\n",
      "25641\n",
      "25653\n",
      "25654\n",
      "25668\n",
      "25680\n",
      "25683\n"
     ]
    },
    {
     "name": "stderr",
     "output_type": "stream",
     "text": [
      "/Users/vladimir.levin/Yandex.Disk.localized/01_Documents/01_Study/0_LUX/01_PhD/Drafts/Project3/kaggle_volatility/support_file.py:1675: RuntimeWarning: invalid value encountered in true_divide\n",
      "  w_ask = np.sum(df_book[(start_time <= df_book['seconds_in_bucket']) & (df_book['seconds_in_bucket'] < end_time)]['ask_price1'] * df_book[(start_time <= df_book['seconds_in_bucket']) & (df_book['seconds_in_bucket'] < end_time)]['time_length']) / (end_time - start_time)\n",
      "/Users/vladimir.levin/Yandex.Disk.localized/01_Documents/01_Study/0_LUX/01_PhD/Drafts/Project3/kaggle_volatility/support_file.py:1676: RuntimeWarning: invalid value encountered in true_divide\n",
      "  w_bid = np.sum(df_book[(start_time <= df_book['seconds_in_bucket']) & (df_book['seconds_in_bucket'] < end_time)]['bid_price1'] * df_book[(start_time <= df_book['seconds_in_bucket']) & (df_book['seconds_in_bucket'] < end_time)]['time_length']) / (end_time - start_time)\n"
     ]
    },
    {
     "name": "stdout",
     "output_type": "stream",
     "text": [
      "25687\n",
      "25712\n",
      "25713\n"
     ]
    },
    {
     "name": "stderr",
     "output_type": "stream",
     "text": [
      "/Users/vladimir.levin/Yandex.Disk.localized/01_Documents/01_Study/0_LUX/01_PhD/Drafts/Project3/kaggle_volatility/support_file.py:1675: RuntimeWarning: invalid value encountered in true_divide\n",
      "  w_ask = np.sum(df_book[(start_time <= df_book['seconds_in_bucket']) & (df_book['seconds_in_bucket'] < end_time)]['ask_price1'] * df_book[(start_time <= df_book['seconds_in_bucket']) & (df_book['seconds_in_bucket'] < end_time)]['time_length']) / (end_time - start_time)\n",
      "/Users/vladimir.levin/Yandex.Disk.localized/01_Documents/01_Study/0_LUX/01_PhD/Drafts/Project3/kaggle_volatility/support_file.py:1676: RuntimeWarning: invalid value encountered in true_divide\n",
      "  w_bid = np.sum(df_book[(start_time <= df_book['seconds_in_bucket']) & (df_book['seconds_in_bucket'] < end_time)]['bid_price1'] * df_book[(start_time <= df_book['seconds_in_bucket']) & (df_book['seconds_in_bucket'] < end_time)]['time_length']) / (end_time - start_time)\n"
     ]
    },
    {
     "name": "stdout",
     "output_type": "stream",
     "text": [
      "25716\n",
      "25730\n"
     ]
    },
    {
     "name": "stderr",
     "output_type": "stream",
     "text": [
      "/Users/vladimir.levin/Yandex.Disk.localized/01_Documents/01_Study/0_LUX/01_PhD/Drafts/Project3/kaggle_volatility/support_file.py:1675: RuntimeWarning: invalid value encountered in true_divide\n",
      "  w_ask = np.sum(df_book[(start_time <= df_book['seconds_in_bucket']) & (df_book['seconds_in_bucket'] < end_time)]['ask_price1'] * df_book[(start_time <= df_book['seconds_in_bucket']) & (df_book['seconds_in_bucket'] < end_time)]['time_length']) / (end_time - start_time)\n",
      "/Users/vladimir.levin/Yandex.Disk.localized/01_Documents/01_Study/0_LUX/01_PhD/Drafts/Project3/kaggle_volatility/support_file.py:1676: RuntimeWarning: invalid value encountered in true_divide\n",
      "  w_bid = np.sum(df_book[(start_time <= df_book['seconds_in_bucket']) & (df_book['seconds_in_bucket'] < end_time)]['bid_price1'] * df_book[(start_time <= df_book['seconds_in_bucket']) & (df_book['seconds_in_bucket'] < end_time)]['time_length']) / (end_time - start_time)\n"
     ]
    },
    {
     "name": "stdout",
     "output_type": "stream",
     "text": [
      "25731\n",
      "25745\n",
      "25751\n",
      "25754\n",
      "25755\n",
      "25761\n",
      "25766\n",
      "25772\n",
      "25773\n",
      "25796\n",
      "25799\n"
     ]
    },
    {
     "name": "stderr",
     "output_type": "stream",
     "text": [
      "/Users/vladimir.levin/Yandex.Disk.localized/01_Documents/01_Study/0_LUX/01_PhD/Drafts/Project3/kaggle_volatility/support_file.py:1675: RuntimeWarning: invalid value encountered in true_divide\n",
      "  w_ask = np.sum(df_book[(start_time <= df_book['seconds_in_bucket']) & (df_book['seconds_in_bucket'] < end_time)]['ask_price1'] * df_book[(start_time <= df_book['seconds_in_bucket']) & (df_book['seconds_in_bucket'] < end_time)]['time_length']) / (end_time - start_time)\n",
      "/Users/vladimir.levin/Yandex.Disk.localized/01_Documents/01_Study/0_LUX/01_PhD/Drafts/Project3/kaggle_volatility/support_file.py:1676: RuntimeWarning: invalid value encountered in true_divide\n",
      "  w_bid = np.sum(df_book[(start_time <= df_book['seconds_in_bucket']) & (df_book['seconds_in_bucket'] < end_time)]['bid_price1'] * df_book[(start_time <= df_book['seconds_in_bucket']) & (df_book['seconds_in_bucket'] < end_time)]['time_length']) / (end_time - start_time)\n",
      "/Users/vladimir.levin/Yandex.Disk.localized/01_Documents/01_Study/0_LUX/01_PhD/Drafts/Project3/kaggle_volatility/support_file.py:1675: RuntimeWarning: invalid value encountered in true_divide\n",
      "  w_ask = np.sum(df_book[(start_time <= df_book['seconds_in_bucket']) & (df_book['seconds_in_bucket'] < end_time)]['ask_price1'] * df_book[(start_time <= df_book['seconds_in_bucket']) & (df_book['seconds_in_bucket'] < end_time)]['time_length']) / (end_time - start_time)\n",
      "/Users/vladimir.levin/Yandex.Disk.localized/01_Documents/01_Study/0_LUX/01_PhD/Drafts/Project3/kaggle_volatility/support_file.py:1676: RuntimeWarning: invalid value encountered in true_divide\n",
      "  w_bid = np.sum(df_book[(start_time <= df_book['seconds_in_bucket']) & (df_book['seconds_in_bucket'] < end_time)]['bid_price1'] * df_book[(start_time <= df_book['seconds_in_bucket']) & (df_book['seconds_in_bucket'] < end_time)]['time_length']) / (end_time - start_time)\n"
     ]
    },
    {
     "name": "stdout",
     "output_type": "stream",
     "text": [
      "25803\n",
      "25813\n",
      "25815\n",
      "25844\n",
      "25854\n"
     ]
    },
    {
     "name": "stderr",
     "output_type": "stream",
     "text": [
      "/Users/vladimir.levin/Yandex.Disk.localized/01_Documents/01_Study/0_LUX/01_PhD/Drafts/Project3/kaggle_volatility/support_file.py:1675: RuntimeWarning: invalid value encountered in true_divide\n",
      "  w_ask = np.sum(df_book[(start_time <= df_book['seconds_in_bucket']) & (df_book['seconds_in_bucket'] < end_time)]['ask_price1'] * df_book[(start_time <= df_book['seconds_in_bucket']) & (df_book['seconds_in_bucket'] < end_time)]['time_length']) / (end_time - start_time)\n",
      "/Users/vladimir.levin/Yandex.Disk.localized/01_Documents/01_Study/0_LUX/01_PhD/Drafts/Project3/kaggle_volatility/support_file.py:1676: RuntimeWarning: invalid value encountered in true_divide\n",
      "  w_bid = np.sum(df_book[(start_time <= df_book['seconds_in_bucket']) & (df_book['seconds_in_bucket'] < end_time)]['bid_price1'] * df_book[(start_time <= df_book['seconds_in_bucket']) & (df_book['seconds_in_bucket'] < end_time)]['time_length']) / (end_time - start_time)\n"
     ]
    },
    {
     "name": "stdout",
     "output_type": "stream",
     "text": [
      "25863\n",
      "25864\n",
      "25866\n",
      "25876\n",
      "25879\n",
      "25894\n",
      "25916\n",
      "25918\n",
      "25924\n",
      "25971\n",
      "25993\n",
      "25999\n",
      "26005\n",
      "26020\n",
      "26021\n",
      "26024\n",
      "26042\n",
      "26052\n",
      "26062\n",
      "26069\n",
      "26081\n",
      "26082\n",
      "26091\n",
      "26099\n",
      "26106\n",
      "26107\n",
      "26125\n",
      "26147\n",
      "26152\n",
      "26155\n",
      "26159\n",
      "26168\n",
      "26170\n",
      "26186\n"
     ]
    },
    {
     "name": "stderr",
     "output_type": "stream",
     "text": [
      "/Users/vladimir.levin/Yandex.Disk.localized/01_Documents/01_Study/0_LUX/01_PhD/Drafts/Project3/kaggle_volatility/support_file.py:1675: RuntimeWarning: invalid value encountered in true_divide\n",
      "  w_ask = np.sum(df_book[(start_time <= df_book['seconds_in_bucket']) & (df_book['seconds_in_bucket'] < end_time)]['ask_price1'] * df_book[(start_time <= df_book['seconds_in_bucket']) & (df_book['seconds_in_bucket'] < end_time)]['time_length']) / (end_time - start_time)\n",
      "/Users/vladimir.levin/Yandex.Disk.localized/01_Documents/01_Study/0_LUX/01_PhD/Drafts/Project3/kaggle_volatility/support_file.py:1676: RuntimeWarning: invalid value encountered in true_divide\n",
      "  w_bid = np.sum(df_book[(start_time <= df_book['seconds_in_bucket']) & (df_book['seconds_in_bucket'] < end_time)]['bid_price1'] * df_book[(start_time <= df_book['seconds_in_bucket']) & (df_book['seconds_in_bucket'] < end_time)]['time_length']) / (end_time - start_time)\n"
     ]
    },
    {
     "name": "stdout",
     "output_type": "stream",
     "text": [
      "26190\n",
      "26191\n",
      "26195\n",
      "26197\n"
     ]
    },
    {
     "name": "stderr",
     "output_type": "stream",
     "text": [
      "/Users/vladimir.levin/Yandex.Disk.localized/01_Documents/01_Study/0_LUX/01_PhD/Drafts/Project3/kaggle_volatility/support_file.py:1675: RuntimeWarning: invalid value encountered in true_divide\n",
      "  w_ask = np.sum(df_book[(start_time <= df_book['seconds_in_bucket']) & (df_book['seconds_in_bucket'] < end_time)]['ask_price1'] * df_book[(start_time <= df_book['seconds_in_bucket']) & (df_book['seconds_in_bucket'] < end_time)]['time_length']) / (end_time - start_time)\n",
      "/Users/vladimir.levin/Yandex.Disk.localized/01_Documents/01_Study/0_LUX/01_PhD/Drafts/Project3/kaggle_volatility/support_file.py:1676: RuntimeWarning: invalid value encountered in true_divide\n",
      "  w_bid = np.sum(df_book[(start_time <= df_book['seconds_in_bucket']) & (df_book['seconds_in_bucket'] < end_time)]['bid_price1'] * df_book[(start_time <= df_book['seconds_in_bucket']) & (df_book['seconds_in_bucket'] < end_time)]['time_length']) / (end_time - start_time)\n"
     ]
    },
    {
     "name": "stdout",
     "output_type": "stream",
     "text": [
      "26204\n",
      "26208\n",
      "26222\n",
      "26250\n",
      "26254\n",
      "26273\n",
      "26277\n",
      "26292\n",
      "26307\n",
      "26308\n",
      "26314\n",
      "26317"
     ]
    },
    {
     "name": "stderr",
     "output_type": "stream",
     "text": [
      "/Users/vladimir.levin/Yandex.Disk.localized/01_Documents/01_Study/0_LUX/01_PhD/Drafts/Project3/kaggle_volatility/support_file.py:1675: RuntimeWarning: invalid value encountered in true_divide\n",
      "  w_ask = np.sum(df_book[(start_time <= df_book['seconds_in_bucket']) & (df_book['seconds_in_bucket'] < end_time)]['ask_price1'] * df_book[(start_time <= df_book['seconds_in_bucket']) & (df_book['seconds_in_bucket'] < end_time)]['time_length']) / (end_time - start_time)\n",
      "/Users/vladimir.levin/Yandex.Disk.localized/01_Documents/01_Study/0_LUX/01_PhD/Drafts/Project3/kaggle_volatility/support_file.py:1676: RuntimeWarning: invalid value encountered in true_divide\n",
      "  w_bid = np.sum(df_book[(start_time <= df_book['seconds_in_bucket']) & (df_book['seconds_in_bucket'] < end_time)]['bid_price1'] * df_book[(start_time <= df_book['seconds_in_bucket']) & (df_book['seconds_in_bucket'] < end_time)]['time_length']) / (end_time - start_time)\n"
     ]
    },
    {
     "name": "stdout",
     "output_type": "stream",
     "text": [
      "\n",
      "26336\n",
      "26337\n",
      "26362\n",
      "26366\n",
      "26375\n",
      "26387\n",
      "26388\n",
      "26400\n",
      "26407\n",
      "26410\n",
      "26428\n",
      "26430\n",
      "26440\n",
      "26447\n",
      "26450\n"
     ]
    },
    {
     "name": "stderr",
     "output_type": "stream",
     "text": [
      "/Users/vladimir.levin/Yandex.Disk.localized/01_Documents/01_Study/0_LUX/01_PhD/Drafts/Project3/kaggle_volatility/support_file.py:1675: RuntimeWarning: invalid value encountered in true_divide\n",
      "  w_ask = np.sum(df_book[(start_time <= df_book['seconds_in_bucket']) & (df_book['seconds_in_bucket'] < end_time)]['ask_price1'] * df_book[(start_time <= df_book['seconds_in_bucket']) & (df_book['seconds_in_bucket'] < end_time)]['time_length']) / (end_time - start_time)\n",
      "/Users/vladimir.levin/Yandex.Disk.localized/01_Documents/01_Study/0_LUX/01_PhD/Drafts/Project3/kaggle_volatility/support_file.py:1676: RuntimeWarning: invalid value encountered in true_divide\n",
      "  w_bid = np.sum(df_book[(start_time <= df_book['seconds_in_bucket']) & (df_book['seconds_in_bucket'] < end_time)]['bid_price1'] * df_book[(start_time <= df_book['seconds_in_bucket']) & (df_book['seconds_in_bucket'] < end_time)]['time_length']) / (end_time - start_time)\n"
     ]
    },
    {
     "name": "stdout",
     "output_type": "stream",
     "text": [
      "26455\n",
      "26460\n",
      "26471\n",
      "26475\n",
      "26484\n",
      "26488\n",
      "26494\n",
      "26503\n",
      "26522\n",
      "26523\n",
      "26538\n",
      "26555\n",
      "26561\n",
      "26562\n",
      "26568\n",
      "26572\n",
      "26578\n",
      "26586\n",
      "26595\n",
      "26599\n",
      "26603\n",
      "26606\n",
      "26607\n",
      "26613\n",
      "26672\n",
      "26678\n",
      "26693\n"
     ]
    },
    {
     "name": "stderr",
     "output_type": "stream",
     "text": [
      "/Users/vladimir.levin/Yandex.Disk.localized/01_Documents/01_Study/0_LUX/01_PhD/Drafts/Project3/kaggle_volatility/support_file.py:1675: RuntimeWarning: invalid value encountered in true_divide\n",
      "  w_ask = np.sum(df_book[(start_time <= df_book['seconds_in_bucket']) & (df_book['seconds_in_bucket'] < end_time)]['ask_price1'] * df_book[(start_time <= df_book['seconds_in_bucket']) & (df_book['seconds_in_bucket'] < end_time)]['time_length']) / (end_time - start_time)\n",
      "/Users/vladimir.levin/Yandex.Disk.localized/01_Documents/01_Study/0_LUX/01_PhD/Drafts/Project3/kaggle_volatility/support_file.py:1676: RuntimeWarning: invalid value encountered in true_divide\n",
      "  w_bid = np.sum(df_book[(start_time <= df_book['seconds_in_bucket']) & (df_book['seconds_in_bucket'] < end_time)]['bid_price1'] * df_book[(start_time <= df_book['seconds_in_bucket']) & (df_book['seconds_in_bucket'] < end_time)]['time_length']) / (end_time - start_time)\n"
     ]
    },
    {
     "name": "stdout",
     "output_type": "stream",
     "text": [
      "26707\n",
      "26708\n",
      "26720\n",
      "26752\n",
      "26759\n",
      "26763\n"
     ]
    },
    {
     "name": "stderr",
     "output_type": "stream",
     "text": [
      "/Users/vladimir.levin/Yandex.Disk.localized/01_Documents/01_Study/0_LUX/01_PhD/Drafts/Project3/kaggle_volatility/support_file.py:1675: RuntimeWarning: invalid value encountered in true_divide\n",
      "  w_ask = np.sum(df_book[(start_time <= df_book['seconds_in_bucket']) & (df_book['seconds_in_bucket'] < end_time)]['ask_price1'] * df_book[(start_time <= df_book['seconds_in_bucket']) & (df_book['seconds_in_bucket'] < end_time)]['time_length']) / (end_time - start_time)\n",
      "/Users/vladimir.levin/Yandex.Disk.localized/01_Documents/01_Study/0_LUX/01_PhD/Drafts/Project3/kaggle_volatility/support_file.py:1676: RuntimeWarning: invalid value encountered in true_divide\n",
      "  w_bid = np.sum(df_book[(start_time <= df_book['seconds_in_bucket']) & (df_book['seconds_in_bucket'] < end_time)]['bid_price1'] * df_book[(start_time <= df_book['seconds_in_bucket']) & (df_book['seconds_in_bucket'] < end_time)]['time_length']) / (end_time - start_time)\n"
     ]
    },
    {
     "name": "stdout",
     "output_type": "stream",
     "text": [
      "26771\n",
      "26786\n",
      "26788\n",
      "26798\n",
      "26804\n"
     ]
    },
    {
     "name": "stderr",
     "output_type": "stream",
     "text": [
      "/Users/vladimir.levin/Yandex.Disk.localized/01_Documents/01_Study/0_LUX/01_PhD/Drafts/Project3/kaggle_volatility/support_file.py:1675: RuntimeWarning: invalid value encountered in true_divide\n",
      "  w_ask = np.sum(df_book[(start_time <= df_book['seconds_in_bucket']) & (df_book['seconds_in_bucket'] < end_time)]['ask_price1'] * df_book[(start_time <= df_book['seconds_in_bucket']) & (df_book['seconds_in_bucket'] < end_time)]['time_length']) / (end_time - start_time)\n",
      "/Users/vladimir.levin/Yandex.Disk.localized/01_Documents/01_Study/0_LUX/01_PhD/Drafts/Project3/kaggle_volatility/support_file.py:1676: RuntimeWarning: invalid value encountered in true_divide\n",
      "  w_bid = np.sum(df_book[(start_time <= df_book['seconds_in_bucket']) & (df_book['seconds_in_bucket'] < end_time)]['bid_price1'] * df_book[(start_time <= df_book['seconds_in_bucket']) & (df_book['seconds_in_bucket'] < end_time)]['time_length']) / (end_time - start_time)\n"
     ]
    },
    {
     "name": "stdout",
     "output_type": "stream",
     "text": [
      "26806\n",
      "26813\n",
      "26830\n"
     ]
    },
    {
     "name": "stderr",
     "output_type": "stream",
     "text": [
      "/Users/vladimir.levin/Yandex.Disk.localized/01_Documents/01_Study/0_LUX/01_PhD/Drafts/Project3/kaggle_volatility/support_file.py:1675: RuntimeWarning: invalid value encountered in true_divide\n",
      "  w_ask = np.sum(df_book[(start_time <= df_book['seconds_in_bucket']) & (df_book['seconds_in_bucket'] < end_time)]['ask_price1'] * df_book[(start_time <= df_book['seconds_in_bucket']) & (df_book['seconds_in_bucket'] < end_time)]['time_length']) / (end_time - start_time)\n",
      "/Users/vladimir.levin/Yandex.Disk.localized/01_Documents/01_Study/0_LUX/01_PhD/Drafts/Project3/kaggle_volatility/support_file.py:1676: RuntimeWarning: invalid value encountered in true_divide\n",
      "  w_bid = np.sum(df_book[(start_time <= df_book['seconds_in_bucket']) & (df_book['seconds_in_bucket'] < end_time)]['bid_price1'] * df_book[(start_time <= df_book['seconds_in_bucket']) & (df_book['seconds_in_bucket'] < end_time)]['time_length']) / (end_time - start_time)\n"
     ]
    },
    {
     "name": "stdout",
     "output_type": "stream",
     "text": [
      "26835\n",
      "26837\n",
      "26841\n",
      "26844\n",
      "26849\n"
     ]
    },
    {
     "name": "stderr",
     "output_type": "stream",
     "text": [
      "/Users/vladimir.levin/Yandex.Disk.localized/01_Documents/01_Study/0_LUX/01_PhD/Drafts/Project3/kaggle_volatility/support_file.py:1675: RuntimeWarning: invalid value encountered in true_divide\n",
      "  w_ask = np.sum(df_book[(start_time <= df_book['seconds_in_bucket']) & (df_book['seconds_in_bucket'] < end_time)]['ask_price1'] * df_book[(start_time <= df_book['seconds_in_bucket']) & (df_book['seconds_in_bucket'] < end_time)]['time_length']) / (end_time - start_time)\n",
      "/Users/vladimir.levin/Yandex.Disk.localized/01_Documents/01_Study/0_LUX/01_PhD/Drafts/Project3/kaggle_volatility/support_file.py:1676: RuntimeWarning: invalid value encountered in true_divide\n",
      "  w_bid = np.sum(df_book[(start_time <= df_book['seconds_in_bucket']) & (df_book['seconds_in_bucket'] < end_time)]['bid_price1'] * df_book[(start_time <= df_book['seconds_in_bucket']) & (df_book['seconds_in_bucket'] < end_time)]['time_length']) / (end_time - start_time)\n",
      "/Users/vladimir.levin/Yandex.Disk.localized/01_Documents/01_Study/0_LUX/01_PhD/Drafts/Project3/kaggle_volatility/support_file.py:1675: RuntimeWarning: invalid value encountered in true_divide\n",
      "  w_ask = np.sum(df_book[(start_time <= df_book['seconds_in_bucket']) & (df_book['seconds_in_bucket'] < end_time)]['ask_price1'] * df_book[(start_time <= df_book['seconds_in_bucket']) & (df_book['seconds_in_bucket'] < end_time)]['time_length']) / (end_time - start_time)\n",
      "/Users/vladimir.levin/Yandex.Disk.localized/01_Documents/01_Study/0_LUX/01_PhD/Drafts/Project3/kaggle_volatility/support_file.py:1676: RuntimeWarning: invalid value encountered in true_divide\n",
      "  w_bid = np.sum(df_book[(start_time <= df_book['seconds_in_bucket']) & (df_book['seconds_in_bucket'] < end_time)]['bid_price1'] * df_book[(start_time <= df_book['seconds_in_bucket']) & (df_book['seconds_in_bucket'] < end_time)]['time_length']) / (end_time - start_time)\n"
     ]
    },
    {
     "name": "stdout",
     "output_type": "stream",
     "text": [
      "26862\n",
      "26864\n",
      "26868\n",
      "26873\n",
      "26874\n",
      "26883\n",
      "26886\n",
      "26889\n",
      "26891\n",
      "26903\n",
      "26905"
     ]
    },
    {
     "name": "stderr",
     "output_type": "stream",
     "text": [
      "/Users/vladimir.levin/Yandex.Disk.localized/01_Documents/01_Study/0_LUX/01_PhD/Drafts/Project3/kaggle_volatility/support_file.py:1675: RuntimeWarning: invalid value encountered in true_divide\n",
      "  w_ask = np.sum(df_book[(start_time <= df_book['seconds_in_bucket']) & (df_book['seconds_in_bucket'] < end_time)]['ask_price1'] * df_book[(start_time <= df_book['seconds_in_bucket']) & (df_book['seconds_in_bucket'] < end_time)]['time_length']) / (end_time - start_time)\n",
      "/Users/vladimir.levin/Yandex.Disk.localized/01_Documents/01_Study/0_LUX/01_PhD/Drafts/Project3/kaggle_volatility/support_file.py:1676: RuntimeWarning: invalid value encountered in true_divide\n",
      "  w_bid = np.sum(df_book[(start_time <= df_book['seconds_in_bucket']) & (df_book['seconds_in_bucket'] < end_time)]['bid_price1'] * df_book[(start_time <= df_book['seconds_in_bucket']) & (df_book['seconds_in_bucket'] < end_time)]['time_length']) / (end_time - start_time)\n"
     ]
    },
    {
     "name": "stdout",
     "output_type": "stream",
     "text": [
      "\n",
      "26937\n",
      "26938\n",
      "26944\n",
      "26955\n",
      "26956\n"
     ]
    },
    {
     "name": "stderr",
     "output_type": "stream",
     "text": [
      "/Users/vladimir.levin/Yandex.Disk.localized/01_Documents/01_Study/0_LUX/01_PhD/Drafts/Project3/kaggle_volatility/support_file.py:1675: RuntimeWarning: invalid value encountered in true_divide\n",
      "  w_ask = np.sum(df_book[(start_time <= df_book['seconds_in_bucket']) & (df_book['seconds_in_bucket'] < end_time)]['ask_price1'] * df_book[(start_time <= df_book['seconds_in_bucket']) & (df_book['seconds_in_bucket'] < end_time)]['time_length']) / (end_time - start_time)\n",
      "/Users/vladimir.levin/Yandex.Disk.localized/01_Documents/01_Study/0_LUX/01_PhD/Drafts/Project3/kaggle_volatility/support_file.py:1676: RuntimeWarning: invalid value encountered in true_divide\n",
      "  w_bid = np.sum(df_book[(start_time <= df_book['seconds_in_bucket']) & (df_book['seconds_in_bucket'] < end_time)]['bid_price1'] * df_book[(start_time <= df_book['seconds_in_bucket']) & (df_book['seconds_in_bucket'] < end_time)]['time_length']) / (end_time - start_time)\n",
      "/Users/vladimir.levin/Yandex.Disk.localized/01_Documents/01_Study/0_LUX/01_PhD/Drafts/Project3/kaggle_volatility/support_file.py:1675: RuntimeWarning: invalid value encountered in true_divide\n",
      "  w_ask = np.sum(df_book[(start_time <= df_book['seconds_in_bucket']) & (df_book['seconds_in_bucket'] < end_time)]['ask_price1'] * df_book[(start_time <= df_book['seconds_in_bucket']) & (df_book['seconds_in_bucket'] < end_time)]['time_length']) / (end_time - start_time)\n",
      "/Users/vladimir.levin/Yandex.Disk.localized/01_Documents/01_Study/0_LUX/01_PhD/Drafts/Project3/kaggle_volatility/support_file.py:1676: RuntimeWarning: invalid value encountered in true_divide\n",
      "  w_bid = np.sum(df_book[(start_time <= df_book['seconds_in_bucket']) & (df_book['seconds_in_bucket'] < end_time)]['bid_price1'] * df_book[(start_time <= df_book['seconds_in_bucket']) & (df_book['seconds_in_bucket'] < end_time)]['time_length']) / (end_time - start_time)\n"
     ]
    },
    {
     "name": "stdout",
     "output_type": "stream",
     "text": [
      "26973\n",
      "26997\n",
      "26999\n",
      "27003\n",
      "27012\n"
     ]
    },
    {
     "name": "stderr",
     "output_type": "stream",
     "text": [
      "/Users/vladimir.levin/Yandex.Disk.localized/01_Documents/01_Study/0_LUX/01_PhD/Drafts/Project3/kaggle_volatility/support_file.py:1675: RuntimeWarning: invalid value encountered in true_divide\n",
      "  w_ask = np.sum(df_book[(start_time <= df_book['seconds_in_bucket']) & (df_book['seconds_in_bucket'] < end_time)]['ask_price1'] * df_book[(start_time <= df_book['seconds_in_bucket']) & (df_book['seconds_in_bucket'] < end_time)]['time_length']) / (end_time - start_time)\n",
      "/Users/vladimir.levin/Yandex.Disk.localized/01_Documents/01_Study/0_LUX/01_PhD/Drafts/Project3/kaggle_volatility/support_file.py:1676: RuntimeWarning: invalid value encountered in true_divide\n",
      "  w_bid = np.sum(df_book[(start_time <= df_book['seconds_in_bucket']) & (df_book['seconds_in_bucket'] < end_time)]['bid_price1'] * df_book[(start_time <= df_book['seconds_in_bucket']) & (df_book['seconds_in_bucket'] < end_time)]['time_length']) / (end_time - start_time)\n",
      "/Users/vladimir.levin/Yandex.Disk.localized/01_Documents/01_Study/0_LUX/01_PhD/Drafts/Project3/kaggle_volatility/support_file.py:1675: RuntimeWarning: invalid value encountered in true_divide\n",
      "  w_ask = np.sum(df_book[(start_time <= df_book['seconds_in_bucket']) & (df_book['seconds_in_bucket'] < end_time)]['ask_price1'] * df_book[(start_time <= df_book['seconds_in_bucket']) & (df_book['seconds_in_bucket'] < end_time)]['time_length']) / (end_time - start_time)\n",
      "/Users/vladimir.levin/Yandex.Disk.localized/01_Documents/01_Study/0_LUX/01_PhD/Drafts/Project3/kaggle_volatility/support_file.py:1676: RuntimeWarning: invalid value encountered in true_divide\n",
      "  w_bid = np.sum(df_book[(start_time <= df_book['seconds_in_bucket']) & (df_book['seconds_in_bucket'] < end_time)]['bid_price1'] * df_book[(start_time <= df_book['seconds_in_bucket']) & (df_book['seconds_in_bucket'] < end_time)]['time_length']) / (end_time - start_time)\n"
     ]
    },
    {
     "name": "stdout",
     "output_type": "stream",
     "text": [
      "27013\n",
      "27014\n"
     ]
    },
    {
     "name": "stderr",
     "output_type": "stream",
     "text": [
      "/Users/vladimir.levin/Yandex.Disk.localized/01_Documents/01_Study/0_LUX/01_PhD/Drafts/Project3/kaggle_volatility/support_file.py:1675: RuntimeWarning: invalid value encountered in true_divide\n",
      "  w_ask = np.sum(df_book[(start_time <= df_book['seconds_in_bucket']) & (df_book['seconds_in_bucket'] < end_time)]['ask_price1'] * df_book[(start_time <= df_book['seconds_in_bucket']) & (df_book['seconds_in_bucket'] < end_time)]['time_length']) / (end_time - start_time)\n",
      "/Users/vladimir.levin/Yandex.Disk.localized/01_Documents/01_Study/0_LUX/01_PhD/Drafts/Project3/kaggle_volatility/support_file.py:1676: RuntimeWarning: invalid value encountered in true_divide\n",
      "  w_bid = np.sum(df_book[(start_time <= df_book['seconds_in_bucket']) & (df_book['seconds_in_bucket'] < end_time)]['bid_price1'] * df_book[(start_time <= df_book['seconds_in_bucket']) & (df_book['seconds_in_bucket'] < end_time)]['time_length']) / (end_time - start_time)\n"
     ]
    },
    {
     "name": "stdout",
     "output_type": "stream",
     "text": [
      "27015\n",
      "27019\n",
      "27020\n",
      "27037\n",
      "27042\n",
      "27060\n",
      "27071\n"
     ]
    },
    {
     "name": "stderr",
     "output_type": "stream",
     "text": [
      "/Users/vladimir.levin/Yandex.Disk.localized/01_Documents/01_Study/0_LUX/01_PhD/Drafts/Project3/kaggle_volatility/support_file.py:1675: RuntimeWarning: invalid value encountered in true_divide\n",
      "  w_ask = np.sum(df_book[(start_time <= df_book['seconds_in_bucket']) & (df_book['seconds_in_bucket'] < end_time)]['ask_price1'] * df_book[(start_time <= df_book['seconds_in_bucket']) & (df_book['seconds_in_bucket'] < end_time)]['time_length']) / (end_time - start_time)\n",
      "/Users/vladimir.levin/Yandex.Disk.localized/01_Documents/01_Study/0_LUX/01_PhD/Drafts/Project3/kaggle_volatility/support_file.py:1676: RuntimeWarning: invalid value encountered in true_divide\n",
      "  w_bid = np.sum(df_book[(start_time <= df_book['seconds_in_bucket']) & (df_book['seconds_in_bucket'] < end_time)]['bid_price1'] * df_book[(start_time <= df_book['seconds_in_bucket']) & (df_book['seconds_in_bucket'] < end_time)]['time_length']) / (end_time - start_time)\n"
     ]
    },
    {
     "name": "stdout",
     "output_type": "stream",
     "text": [
      "27092\n",
      "27094\n",
      "27095\n"
     ]
    },
    {
     "name": "stderr",
     "output_type": "stream",
     "text": [
      "/Users/vladimir.levin/Yandex.Disk.localized/01_Documents/01_Study/0_LUX/01_PhD/Drafts/Project3/kaggle_volatility/support_file.py:1675: RuntimeWarning: invalid value encountered in true_divide\n",
      "  w_ask = np.sum(df_book[(start_time <= df_book['seconds_in_bucket']) & (df_book['seconds_in_bucket'] < end_time)]['ask_price1'] * df_book[(start_time <= df_book['seconds_in_bucket']) & (df_book['seconds_in_bucket'] < end_time)]['time_length']) / (end_time - start_time)\n",
      "/Users/vladimir.levin/Yandex.Disk.localized/01_Documents/01_Study/0_LUX/01_PhD/Drafts/Project3/kaggle_volatility/support_file.py:1676: RuntimeWarning: invalid value encountered in true_divide\n",
      "  w_bid = np.sum(df_book[(start_time <= df_book['seconds_in_bucket']) & (df_book['seconds_in_bucket'] < end_time)]['bid_price1'] * df_book[(start_time <= df_book['seconds_in_bucket']) & (df_book['seconds_in_bucket'] < end_time)]['time_length']) / (end_time - start_time)\n"
     ]
    },
    {
     "name": "stdout",
     "output_type": "stream",
     "text": [
      "27120\n",
      "27127\n",
      "27135\n",
      "27149\n",
      "27152\n",
      "27153\n",
      "27154\n",
      "27158\n",
      "27162\n"
     ]
    },
    {
     "name": "stderr",
     "output_type": "stream",
     "text": [
      "/Users/vladimir.levin/Yandex.Disk.localized/01_Documents/01_Study/0_LUX/01_PhD/Drafts/Project3/kaggle_volatility/support_file.py:1675: RuntimeWarning: invalid value encountered in true_divide\n",
      "  w_ask = np.sum(df_book[(start_time <= df_book['seconds_in_bucket']) & (df_book['seconds_in_bucket'] < end_time)]['ask_price1'] * df_book[(start_time <= df_book['seconds_in_bucket']) & (df_book['seconds_in_bucket'] < end_time)]['time_length']) / (end_time - start_time)\n",
      "/Users/vladimir.levin/Yandex.Disk.localized/01_Documents/01_Study/0_LUX/01_PhD/Drafts/Project3/kaggle_volatility/support_file.py:1676: RuntimeWarning: invalid value encountered in true_divide\n",
      "  w_bid = np.sum(df_book[(start_time <= df_book['seconds_in_bucket']) & (df_book['seconds_in_bucket'] < end_time)]['bid_price1'] * df_book[(start_time <= df_book['seconds_in_bucket']) & (df_book['seconds_in_bucket'] < end_time)]['time_length']) / (end_time - start_time)\n"
     ]
    },
    {
     "name": "stdout",
     "output_type": "stream",
     "text": [
      "27168\n",
      "27174\n",
      "27178\n"
     ]
    },
    {
     "name": "stderr",
     "output_type": "stream",
     "text": [
      "/Users/vladimir.levin/Yandex.Disk.localized/01_Documents/01_Study/0_LUX/01_PhD/Drafts/Project3/kaggle_volatility/support_file.py:1675: RuntimeWarning: invalid value encountered in true_divide\n",
      "  w_ask = np.sum(df_book[(start_time <= df_book['seconds_in_bucket']) & (df_book['seconds_in_bucket'] < end_time)]['ask_price1'] * df_book[(start_time <= df_book['seconds_in_bucket']) & (df_book['seconds_in_bucket'] < end_time)]['time_length']) / (end_time - start_time)\n",
      "/Users/vladimir.levin/Yandex.Disk.localized/01_Documents/01_Study/0_LUX/01_PhD/Drafts/Project3/kaggle_volatility/support_file.py:1676: RuntimeWarning: invalid value encountered in true_divide\n",
      "  w_bid = np.sum(df_book[(start_time <= df_book['seconds_in_bucket']) & (df_book['seconds_in_bucket'] < end_time)]['bid_price1'] * df_book[(start_time <= df_book['seconds_in_bucket']) & (df_book['seconds_in_bucket'] < end_time)]['time_length']) / (end_time - start_time)\n"
     ]
    },
    {
     "name": "stdout",
     "output_type": "stream",
     "text": [
      "27181\n",
      "27182\n",
      "27188\n",
      "27194\n",
      "27208\n"
     ]
    },
    {
     "name": "stderr",
     "output_type": "stream",
     "text": [
      "/Users/vladimir.levin/Yandex.Disk.localized/01_Documents/01_Study/0_LUX/01_PhD/Drafts/Project3/kaggle_volatility/support_file.py:1675: RuntimeWarning: invalid value encountered in true_divide\n",
      "  w_ask = np.sum(df_book[(start_time <= df_book['seconds_in_bucket']) & (df_book['seconds_in_bucket'] < end_time)]['ask_price1'] * df_book[(start_time <= df_book['seconds_in_bucket']) & (df_book['seconds_in_bucket'] < end_time)]['time_length']) / (end_time - start_time)\n",
      "/Users/vladimir.levin/Yandex.Disk.localized/01_Documents/01_Study/0_LUX/01_PhD/Drafts/Project3/kaggle_volatility/support_file.py:1676: RuntimeWarning: invalid value encountered in true_divide\n",
      "  w_bid = np.sum(df_book[(start_time <= df_book['seconds_in_bucket']) & (df_book['seconds_in_bucket'] < end_time)]['bid_price1'] * df_book[(start_time <= df_book['seconds_in_bucket']) & (df_book['seconds_in_bucket'] < end_time)]['time_length']) / (end_time - start_time)\n"
     ]
    },
    {
     "name": "stdout",
     "output_type": "stream",
     "text": [
      "27215\n",
      "27240\n",
      "27246\n",
      "27247\n",
      "27270\n"
     ]
    },
    {
     "name": "stderr",
     "output_type": "stream",
     "text": [
      "/Users/vladimir.levin/Yandex.Disk.localized/01_Documents/01_Study/0_LUX/01_PhD/Drafts/Project3/kaggle_volatility/support_file.py:1675: RuntimeWarning: invalid value encountered in true_divide\n",
      "  w_ask = np.sum(df_book[(start_time <= df_book['seconds_in_bucket']) & (df_book['seconds_in_bucket'] < end_time)]['ask_price1'] * df_book[(start_time <= df_book['seconds_in_bucket']) & (df_book['seconds_in_bucket'] < end_time)]['time_length']) / (end_time - start_time)\n",
      "/Users/vladimir.levin/Yandex.Disk.localized/01_Documents/01_Study/0_LUX/01_PhD/Drafts/Project3/kaggle_volatility/support_file.py:1676: RuntimeWarning: invalid value encountered in true_divide\n",
      "  w_bid = np.sum(df_book[(start_time <= df_book['seconds_in_bucket']) & (df_book['seconds_in_bucket'] < end_time)]['bid_price1'] * df_book[(start_time <= df_book['seconds_in_bucket']) & (df_book['seconds_in_bucket'] < end_time)]['time_length']) / (end_time - start_time)\n"
     ]
    },
    {
     "name": "stdout",
     "output_type": "stream",
     "text": [
      "27278\n",
      "27288\n",
      "27289\n",
      "27304\n",
      "27307\n"
     ]
    },
    {
     "name": "stderr",
     "output_type": "stream",
     "text": [
      "/Users/vladimir.levin/Yandex.Disk.localized/01_Documents/01_Study/0_LUX/01_PhD/Drafts/Project3/kaggle_volatility/support_file.py:1675: RuntimeWarning: invalid value encountered in true_divide\n",
      "  w_ask = np.sum(df_book[(start_time <= df_book['seconds_in_bucket']) & (df_book['seconds_in_bucket'] < end_time)]['ask_price1'] * df_book[(start_time <= df_book['seconds_in_bucket']) & (df_book['seconds_in_bucket'] < end_time)]['time_length']) / (end_time - start_time)\n",
      "/Users/vladimir.levin/Yandex.Disk.localized/01_Documents/01_Study/0_LUX/01_PhD/Drafts/Project3/kaggle_volatility/support_file.py:1676: RuntimeWarning: invalid value encountered in true_divide\n",
      "  w_bid = np.sum(df_book[(start_time <= df_book['seconds_in_bucket']) & (df_book['seconds_in_bucket'] < end_time)]['bid_price1'] * df_book[(start_time <= df_book['seconds_in_bucket']) & (df_book['seconds_in_bucket'] < end_time)]['time_length']) / (end_time - start_time)\n"
     ]
    },
    {
     "name": "stdout",
     "output_type": "stream",
     "text": [
      "27313\n",
      "27317\n",
      "27339\n",
      "27361\n",
      "27363\n",
      "27398\n",
      "27403\n",
      "27406\n",
      "27416\n",
      "27427\n",
      "27457\n",
      "27467\n",
      "27469\n",
      "27481\n"
     ]
    },
    {
     "name": "stderr",
     "output_type": "stream",
     "text": [
      "/Users/vladimir.levin/Yandex.Disk.localized/01_Documents/01_Study/0_LUX/01_PhD/Drafts/Project3/kaggle_volatility/support_file.py:1675: RuntimeWarning: invalid value encountered in true_divide\n",
      "  w_ask = np.sum(df_book[(start_time <= df_book['seconds_in_bucket']) & (df_book['seconds_in_bucket'] < end_time)]['ask_price1'] * df_book[(start_time <= df_book['seconds_in_bucket']) & (df_book['seconds_in_bucket'] < end_time)]['time_length']) / (end_time - start_time)\n",
      "/Users/vladimir.levin/Yandex.Disk.localized/01_Documents/01_Study/0_LUX/01_PhD/Drafts/Project3/kaggle_volatility/support_file.py:1676: RuntimeWarning: invalid value encountered in true_divide\n",
      "  w_bid = np.sum(df_book[(start_time <= df_book['seconds_in_bucket']) & (df_book['seconds_in_bucket'] < end_time)]['bid_price1'] * df_book[(start_time <= df_book['seconds_in_bucket']) & (df_book['seconds_in_bucket'] < end_time)]['time_length']) / (end_time - start_time)\n",
      "/Users/vladimir.levin/Yandex.Disk.localized/01_Documents/01_Study/0_LUX/01_PhD/Drafts/Project3/kaggle_volatility/support_file.py:1675: RuntimeWarning: invalid value encountered in true_divide\n",
      "  w_ask = np.sum(df_book[(start_time <= df_book['seconds_in_bucket']) & (df_book['seconds_in_bucket'] < end_time)]['ask_price1'] * df_book[(start_time <= df_book['seconds_in_bucket']) & (df_book['seconds_in_bucket'] < end_time)]['time_length']) / (end_time - start_time)\n",
      "/Users/vladimir.levin/Yandex.Disk.localized/01_Documents/01_Study/0_LUX/01_PhD/Drafts/Project3/kaggle_volatility/support_file.py:1676: RuntimeWarning: invalid value encountered in true_divide\n",
      "  w_bid = np.sum(df_book[(start_time <= df_book['seconds_in_bucket']) & (df_book['seconds_in_bucket'] < end_time)]['bid_price1'] * df_book[(start_time <= df_book['seconds_in_bucket']) & (df_book['seconds_in_bucket'] < end_time)]['time_length']) / (end_time - start_time)\n"
     ]
    },
    {
     "name": "stdout",
     "output_type": "stream",
     "text": [
      "27487\n",
      "27493\n",
      "27496\n",
      "27511\n",
      "27514\n"
     ]
    },
    {
     "name": "stderr",
     "output_type": "stream",
     "text": [
      "/Users/vladimir.levin/Yandex.Disk.localized/01_Documents/01_Study/0_LUX/01_PhD/Drafts/Project3/kaggle_volatility/support_file.py:1675: RuntimeWarning: invalid value encountered in true_divide\n",
      "  w_ask = np.sum(df_book[(start_time <= df_book['seconds_in_bucket']) & (df_book['seconds_in_bucket'] < end_time)]['ask_price1'] * df_book[(start_time <= df_book['seconds_in_bucket']) & (df_book['seconds_in_bucket'] < end_time)]['time_length']) / (end_time - start_time)\n",
      "/Users/vladimir.levin/Yandex.Disk.localized/01_Documents/01_Study/0_LUX/01_PhD/Drafts/Project3/kaggle_volatility/support_file.py:1676: RuntimeWarning: invalid value encountered in true_divide\n",
      "  w_bid = np.sum(df_book[(start_time <= df_book['seconds_in_bucket']) & (df_book['seconds_in_bucket'] < end_time)]['bid_price1'] * df_book[(start_time <= df_book['seconds_in_bucket']) & (df_book['seconds_in_bucket'] < end_time)]['time_length']) / (end_time - start_time)\n"
     ]
    },
    {
     "name": "stdout",
     "output_type": "stream",
     "text": [
      "27516\n",
      "27524\n",
      "27526\n",
      "27527\n",
      "27534\n"
     ]
    },
    {
     "name": "stderr",
     "output_type": "stream",
     "text": [
      "/Users/vladimir.levin/Yandex.Disk.localized/01_Documents/01_Study/0_LUX/01_PhD/Drafts/Project3/kaggle_volatility/support_file.py:1675: RuntimeWarning: invalid value encountered in true_divide\n",
      "  w_ask = np.sum(df_book[(start_time <= df_book['seconds_in_bucket']) & (df_book['seconds_in_bucket'] < end_time)]['ask_price1'] * df_book[(start_time <= df_book['seconds_in_bucket']) & (df_book['seconds_in_bucket'] < end_time)]['time_length']) / (end_time - start_time)\n",
      "/Users/vladimir.levin/Yandex.Disk.localized/01_Documents/01_Study/0_LUX/01_PhD/Drafts/Project3/kaggle_volatility/support_file.py:1676: RuntimeWarning: invalid value encountered in true_divide\n",
      "  w_bid = np.sum(df_book[(start_time <= df_book['seconds_in_bucket']) & (df_book['seconds_in_bucket'] < end_time)]['bid_price1'] * df_book[(start_time <= df_book['seconds_in_bucket']) & (df_book['seconds_in_bucket'] < end_time)]['time_length']) / (end_time - start_time)\n"
     ]
    },
    {
     "name": "stdout",
     "output_type": "stream",
     "text": [
      "27543\n",
      "27561\n",
      "27569\n"
     ]
    },
    {
     "name": "stderr",
     "output_type": "stream",
     "text": [
      "/Users/vladimir.levin/Yandex.Disk.localized/01_Documents/01_Study/0_LUX/01_PhD/Drafts/Project3/kaggle_volatility/support_file.py:1675: RuntimeWarning: invalid value encountered in true_divide\n",
      "  w_ask = np.sum(df_book[(start_time <= df_book['seconds_in_bucket']) & (df_book['seconds_in_bucket'] < end_time)]['ask_price1'] * df_book[(start_time <= df_book['seconds_in_bucket']) & (df_book['seconds_in_bucket'] < end_time)]['time_length']) / (end_time - start_time)\n",
      "/Users/vladimir.levin/Yandex.Disk.localized/01_Documents/01_Study/0_LUX/01_PhD/Drafts/Project3/kaggle_volatility/support_file.py:1676: RuntimeWarning: invalid value encountered in true_divide\n",
      "  w_bid = np.sum(df_book[(start_time <= df_book['seconds_in_bucket']) & (df_book['seconds_in_bucket'] < end_time)]['bid_price1'] * df_book[(start_time <= df_book['seconds_in_bucket']) & (df_book['seconds_in_bucket'] < end_time)]['time_length']) / (end_time - start_time)\n"
     ]
    },
    {
     "name": "stdout",
     "output_type": "stream",
     "text": [
      "27581\n",
      "27585\n",
      "27593\n",
      "27595\n",
      "27619\n",
      "27622\n"
     ]
    },
    {
     "name": "stderr",
     "output_type": "stream",
     "text": [
      "/Users/vladimir.levin/Yandex.Disk.localized/01_Documents/01_Study/0_LUX/01_PhD/Drafts/Project3/kaggle_volatility/support_file.py:1675: RuntimeWarning: invalid value encountered in true_divide\n",
      "  w_ask = np.sum(df_book[(start_time <= df_book['seconds_in_bucket']) & (df_book['seconds_in_bucket'] < end_time)]['ask_price1'] * df_book[(start_time <= df_book['seconds_in_bucket']) & (df_book['seconds_in_bucket'] < end_time)]['time_length']) / (end_time - start_time)\n",
      "/Users/vladimir.levin/Yandex.Disk.localized/01_Documents/01_Study/0_LUX/01_PhD/Drafts/Project3/kaggle_volatility/support_file.py:1676: RuntimeWarning: invalid value encountered in true_divide\n",
      "  w_bid = np.sum(df_book[(start_time <= df_book['seconds_in_bucket']) & (df_book['seconds_in_bucket'] < end_time)]['bid_price1'] * df_book[(start_time <= df_book['seconds_in_bucket']) & (df_book['seconds_in_bucket'] < end_time)]['time_length']) / (end_time - start_time)\n"
     ]
    },
    {
     "name": "stdout",
     "output_type": "stream",
     "text": [
      "27627\n",
      "27664\n",
      "27669\n",
      "27711\n",
      "27722\n",
      "27752\n",
      "27757\n"
     ]
    },
    {
     "name": "stderr",
     "output_type": "stream",
     "text": [
      "/Users/vladimir.levin/Yandex.Disk.localized/01_Documents/01_Study/0_LUX/01_PhD/Drafts/Project3/kaggle_volatility/support_file.py:1675: RuntimeWarning: invalid value encountered in true_divide\n",
      "  w_ask = np.sum(df_book[(start_time <= df_book['seconds_in_bucket']) & (df_book['seconds_in_bucket'] < end_time)]['ask_price1'] * df_book[(start_time <= df_book['seconds_in_bucket']) & (df_book['seconds_in_bucket'] < end_time)]['time_length']) / (end_time - start_time)\n",
      "/Users/vladimir.levin/Yandex.Disk.localized/01_Documents/01_Study/0_LUX/01_PhD/Drafts/Project3/kaggle_volatility/support_file.py:1676: RuntimeWarning: invalid value encountered in true_divide\n",
      "  w_bid = np.sum(df_book[(start_time <= df_book['seconds_in_bucket']) & (df_book['seconds_in_bucket'] < end_time)]['bid_price1'] * df_book[(start_time <= df_book['seconds_in_bucket']) & (df_book['seconds_in_bucket'] < end_time)]['time_length']) / (end_time - start_time)\n"
     ]
    },
    {
     "name": "stdout",
     "output_type": "stream",
     "text": [
      "27771\n",
      "27784\n"
     ]
    },
    {
     "name": "stderr",
     "output_type": "stream",
     "text": [
      "/Users/vladimir.levin/Yandex.Disk.localized/01_Documents/01_Study/0_LUX/01_PhD/Drafts/Project3/kaggle_volatility/support_file.py:1675: RuntimeWarning: invalid value encountered in true_divide\n",
      "  w_ask = np.sum(df_book[(start_time <= df_book['seconds_in_bucket']) & (df_book['seconds_in_bucket'] < end_time)]['ask_price1'] * df_book[(start_time <= df_book['seconds_in_bucket']) & (df_book['seconds_in_bucket'] < end_time)]['time_length']) / (end_time - start_time)\n",
      "/Users/vladimir.levin/Yandex.Disk.localized/01_Documents/01_Study/0_LUX/01_PhD/Drafts/Project3/kaggle_volatility/support_file.py:1676: RuntimeWarning: invalid value encountered in true_divide\n",
      "  w_bid = np.sum(df_book[(start_time <= df_book['seconds_in_bucket']) & (df_book['seconds_in_bucket'] < end_time)]['bid_price1'] * df_book[(start_time <= df_book['seconds_in_bucket']) & (df_book['seconds_in_bucket'] < end_time)]['time_length']) / (end_time - start_time)\n"
     ]
    },
    {
     "name": "stdout",
     "output_type": "stream",
     "text": [
      "27788\n",
      "27795\n",
      "27799\n"
     ]
    },
    {
     "name": "stderr",
     "output_type": "stream",
     "text": [
      "/Users/vladimir.levin/Yandex.Disk.localized/01_Documents/01_Study/0_LUX/01_PhD/Drafts/Project3/kaggle_volatility/support_file.py:1675: RuntimeWarning: invalid value encountered in true_divide\n",
      "  w_ask = np.sum(df_book[(start_time <= df_book['seconds_in_bucket']) & (df_book['seconds_in_bucket'] < end_time)]['ask_price1'] * df_book[(start_time <= df_book['seconds_in_bucket']) & (df_book['seconds_in_bucket'] < end_time)]['time_length']) / (end_time - start_time)\n",
      "/Users/vladimir.levin/Yandex.Disk.localized/01_Documents/01_Study/0_LUX/01_PhD/Drafts/Project3/kaggle_volatility/support_file.py:1676: RuntimeWarning: invalid value encountered in true_divide\n",
      "  w_bid = np.sum(df_book[(start_time <= df_book['seconds_in_bucket']) & (df_book['seconds_in_bucket'] < end_time)]['bid_price1'] * df_book[(start_time <= df_book['seconds_in_bucket']) & (df_book['seconds_in_bucket'] < end_time)]['time_length']) / (end_time - start_time)\n",
      "/Users/vladimir.levin/Yandex.Disk.localized/01_Documents/01_Study/0_LUX/01_PhD/Drafts/Project3/kaggle_volatility/support_file.py:1675: RuntimeWarning: invalid value encountered in true_divide\n",
      "  w_ask = np.sum(df_book[(start_time <= df_book['seconds_in_bucket']) & (df_book['seconds_in_bucket'] < end_time)]['ask_price1'] * df_book[(start_time <= df_book['seconds_in_bucket']) & (df_book['seconds_in_bucket'] < end_time)]['time_length']) / (end_time - start_time)\n",
      "/Users/vladimir.levin/Yandex.Disk.localized/01_Documents/01_Study/0_LUX/01_PhD/Drafts/Project3/kaggle_volatility/support_file.py:1676: RuntimeWarning: invalid value encountered in true_divide\n",
      "  w_bid = np.sum(df_book[(start_time <= df_book['seconds_in_bucket']) & (df_book['seconds_in_bucket'] < end_time)]['bid_price1'] * df_book[(start_time <= df_book['seconds_in_bucket']) & (df_book['seconds_in_bucket'] < end_time)]['time_length']) / (end_time - start_time)\n"
     ]
    },
    {
     "name": "stdout",
     "output_type": "stream",
     "text": [
      "27810\n",
      "27815\n",
      "27822\n",
      "27828\n",
      "27833\n",
      "27837\n",
      "27846\n",
      "27851\n",
      "27854\n",
      "27857\n"
     ]
    },
    {
     "name": "stderr",
     "output_type": "stream",
     "text": [
      "/Users/vladimir.levin/Yandex.Disk.localized/01_Documents/01_Study/0_LUX/01_PhD/Drafts/Project3/kaggle_volatility/support_file.py:1675: RuntimeWarning: invalid value encountered in true_divide\n",
      "  w_ask = np.sum(df_book[(start_time <= df_book['seconds_in_bucket']) & (df_book['seconds_in_bucket'] < end_time)]['ask_price1'] * df_book[(start_time <= df_book['seconds_in_bucket']) & (df_book['seconds_in_bucket'] < end_time)]['time_length']) / (end_time - start_time)\n",
      "/Users/vladimir.levin/Yandex.Disk.localized/01_Documents/01_Study/0_LUX/01_PhD/Drafts/Project3/kaggle_volatility/support_file.py:1676: RuntimeWarning: invalid value encountered in true_divide\n",
      "  w_bid = np.sum(df_book[(start_time <= df_book['seconds_in_bucket']) & (df_book['seconds_in_bucket'] < end_time)]['bid_price1'] * df_book[(start_time <= df_book['seconds_in_bucket']) & (df_book['seconds_in_bucket'] < end_time)]['time_length']) / (end_time - start_time)\n"
     ]
    },
    {
     "name": "stdout",
     "output_type": "stream",
     "text": [
      "27868\n",
      "27875\n",
      "27876\n",
      "27886\n",
      "27890\n",
      "27891\n",
      "27910\n",
      "27919\n",
      "27932\n",
      "27939\n",
      "27940\n",
      "27956\n",
      "27957\n",
      "27962\n",
      "27964\n",
      "27970\n",
      "27974\n"
     ]
    },
    {
     "name": "stderr",
     "output_type": "stream",
     "text": [
      "/Users/vladimir.levin/Yandex.Disk.localized/01_Documents/01_Study/0_LUX/01_PhD/Drafts/Project3/kaggle_volatility/support_file.py:1675: RuntimeWarning: invalid value encountered in true_divide\n",
      "  w_ask = np.sum(df_book[(start_time <= df_book['seconds_in_bucket']) & (df_book['seconds_in_bucket'] < end_time)]['ask_price1'] * df_book[(start_time <= df_book['seconds_in_bucket']) & (df_book['seconds_in_bucket'] < end_time)]['time_length']) / (end_time - start_time)\n",
      "/Users/vladimir.levin/Yandex.Disk.localized/01_Documents/01_Study/0_LUX/01_PhD/Drafts/Project3/kaggle_volatility/support_file.py:1676: RuntimeWarning: invalid value encountered in true_divide\n",
      "  w_bid = np.sum(df_book[(start_time <= df_book['seconds_in_bucket']) & (df_book['seconds_in_bucket'] < end_time)]['bid_price1'] * df_book[(start_time <= df_book['seconds_in_bucket']) & (df_book['seconds_in_bucket'] < end_time)]['time_length']) / (end_time - start_time)\n"
     ]
    },
    {
     "name": "stdout",
     "output_type": "stream",
     "text": [
      "27977\n",
      "27978\n",
      "27981\n",
      "27985\n",
      "27989\n",
      "27994\n",
      "28002\n",
      "28020\n"
     ]
    },
    {
     "name": "stderr",
     "output_type": "stream",
     "text": [
      "/Users/vladimir.levin/Yandex.Disk.localized/01_Documents/01_Study/0_LUX/01_PhD/Drafts/Project3/kaggle_volatility/support_file.py:1675: RuntimeWarning: invalid value encountered in true_divide\n",
      "  w_ask = np.sum(df_book[(start_time <= df_book['seconds_in_bucket']) & (df_book['seconds_in_bucket'] < end_time)]['ask_price1'] * df_book[(start_time <= df_book['seconds_in_bucket']) & (df_book['seconds_in_bucket'] < end_time)]['time_length']) / (end_time - start_time)\n",
      "/Users/vladimir.levin/Yandex.Disk.localized/01_Documents/01_Study/0_LUX/01_PhD/Drafts/Project3/kaggle_volatility/support_file.py:1676: RuntimeWarning: invalid value encountered in true_divide\n",
      "  w_bid = np.sum(df_book[(start_time <= df_book['seconds_in_bucket']) & (df_book['seconds_in_bucket'] < end_time)]['bid_price1'] * df_book[(start_time <= df_book['seconds_in_bucket']) & (df_book['seconds_in_bucket'] < end_time)]['time_length']) / (end_time - start_time)\n"
     ]
    },
    {
     "name": "stdout",
     "output_type": "stream",
     "text": [
      "28022\n",
      "28043\n",
      "28066\n",
      "28070\n",
      "28078\n",
      "28111\n",
      "28121\n"
     ]
    },
    {
     "name": "stderr",
     "output_type": "stream",
     "text": [
      "/Users/vladimir.levin/Yandex.Disk.localized/01_Documents/01_Study/0_LUX/01_PhD/Drafts/Project3/kaggle_volatility/support_file.py:1675: RuntimeWarning: invalid value encountered in true_divide\n",
      "  w_ask = np.sum(df_book[(start_time <= df_book['seconds_in_bucket']) & (df_book['seconds_in_bucket'] < end_time)]['ask_price1'] * df_book[(start_time <= df_book['seconds_in_bucket']) & (df_book['seconds_in_bucket'] < end_time)]['time_length']) / (end_time - start_time)\n",
      "/Users/vladimir.levin/Yandex.Disk.localized/01_Documents/01_Study/0_LUX/01_PhD/Drafts/Project3/kaggle_volatility/support_file.py:1676: RuntimeWarning: invalid value encountered in true_divide\n",
      "  w_bid = np.sum(df_book[(start_time <= df_book['seconds_in_bucket']) & (df_book['seconds_in_bucket'] < end_time)]['bid_price1'] * df_book[(start_time <= df_book['seconds_in_bucket']) & (df_book['seconds_in_bucket'] < end_time)]['time_length']) / (end_time - start_time)\n"
     ]
    },
    {
     "name": "stdout",
     "output_type": "stream",
     "text": [
      "28122\n",
      "28126\n",
      "28186\n",
      "28190\n",
      "28192\n",
      "28200\n",
      "28210\n",
      "28217\n",
      "28225\n",
      "28244\n",
      "28256\n",
      "28262\n",
      "28267\n",
      "28292\n"
     ]
    },
    {
     "name": "stderr",
     "output_type": "stream",
     "text": [
      "/Users/vladimir.levin/Yandex.Disk.localized/01_Documents/01_Study/0_LUX/01_PhD/Drafts/Project3/kaggle_volatility/support_file.py:1675: RuntimeWarning: invalid value encountered in true_divide\n",
      "  w_ask = np.sum(df_book[(start_time <= df_book['seconds_in_bucket']) & (df_book['seconds_in_bucket'] < end_time)]['ask_price1'] * df_book[(start_time <= df_book['seconds_in_bucket']) & (df_book['seconds_in_bucket'] < end_time)]['time_length']) / (end_time - start_time)\n",
      "/Users/vladimir.levin/Yandex.Disk.localized/01_Documents/01_Study/0_LUX/01_PhD/Drafts/Project3/kaggle_volatility/support_file.py:1676: RuntimeWarning: invalid value encountered in true_divide\n",
      "  w_bid = np.sum(df_book[(start_time <= df_book['seconds_in_bucket']) & (df_book['seconds_in_bucket'] < end_time)]['bid_price1'] * df_book[(start_time <= df_book['seconds_in_bucket']) & (df_book['seconds_in_bucket'] < end_time)]['time_length']) / (end_time - start_time)\n"
     ]
    },
    {
     "name": "stdout",
     "output_type": "stream",
     "text": [
      "28319\n",
      "28323\n",
      "28328\n",
      "28342\n",
      "28354\n",
      "28371\n",
      "28379\n",
      "28380\n",
      "28395\n",
      "28401\n",
      "28409\n",
      "28422\n",
      "28426\n",
      "28429\n",
      "28449\n"
     ]
    },
    {
     "name": "stderr",
     "output_type": "stream",
     "text": [
      "/Users/vladimir.levin/Yandex.Disk.localized/01_Documents/01_Study/0_LUX/01_PhD/Drafts/Project3/kaggle_volatility/support_file.py:1675: RuntimeWarning: invalid value encountered in true_divide\n",
      "  w_ask = np.sum(df_book[(start_time <= df_book['seconds_in_bucket']) & (df_book['seconds_in_bucket'] < end_time)]['ask_price1'] * df_book[(start_time <= df_book['seconds_in_bucket']) & (df_book['seconds_in_bucket'] < end_time)]['time_length']) / (end_time - start_time)\n",
      "/Users/vladimir.levin/Yandex.Disk.localized/01_Documents/01_Study/0_LUX/01_PhD/Drafts/Project3/kaggle_volatility/support_file.py:1676: RuntimeWarning: invalid value encountered in true_divide\n",
      "  w_bid = np.sum(df_book[(start_time <= df_book['seconds_in_bucket']) & (df_book['seconds_in_bucket'] < end_time)]['bid_price1'] * df_book[(start_time <= df_book['seconds_in_bucket']) & (df_book['seconds_in_bucket'] < end_time)]['time_length']) / (end_time - start_time)\n"
     ]
    },
    {
     "name": "stdout",
     "output_type": "stream",
     "text": [
      "28474\n",
      "28475\n",
      "28484\n"
     ]
    },
    {
     "name": "stderr",
     "output_type": "stream",
     "text": [
      "/Users/vladimir.levin/Yandex.Disk.localized/01_Documents/01_Study/0_LUX/01_PhD/Drafts/Project3/kaggle_volatility/support_file.py:1675: RuntimeWarning: invalid value encountered in true_divide\n",
      "  w_ask = np.sum(df_book[(start_time <= df_book['seconds_in_bucket']) & (df_book['seconds_in_bucket'] < end_time)]['ask_price1'] * df_book[(start_time <= df_book['seconds_in_bucket']) & (df_book['seconds_in_bucket'] < end_time)]['time_length']) / (end_time - start_time)\n",
      "/Users/vladimir.levin/Yandex.Disk.localized/01_Documents/01_Study/0_LUX/01_PhD/Drafts/Project3/kaggle_volatility/support_file.py:1676: RuntimeWarning: invalid value encountered in true_divide\n",
      "  w_bid = np.sum(df_book[(start_time <= df_book['seconds_in_bucket']) & (df_book['seconds_in_bucket'] < end_time)]['bid_price1'] * df_book[(start_time <= df_book['seconds_in_bucket']) & (df_book['seconds_in_bucket'] < end_time)]['time_length']) / (end_time - start_time)\n",
      "/Users/vladimir.levin/Yandex.Disk.localized/01_Documents/01_Study/0_LUX/01_PhD/Drafts/Project3/kaggle_volatility/support_file.py:1675: RuntimeWarning: invalid value encountered in true_divide\n",
      "  w_ask = np.sum(df_book[(start_time <= df_book['seconds_in_bucket']) & (df_book['seconds_in_bucket'] < end_time)]['ask_price1'] * df_book[(start_time <= df_book['seconds_in_bucket']) & (df_book['seconds_in_bucket'] < end_time)]['time_length']) / (end_time - start_time)\n",
      "/Users/vladimir.levin/Yandex.Disk.localized/01_Documents/01_Study/0_LUX/01_PhD/Drafts/Project3/kaggle_volatility/support_file.py:1676: RuntimeWarning: invalid value encountered in true_divide\n",
      "  w_bid = np.sum(df_book[(start_time <= df_book['seconds_in_bucket']) & (df_book['seconds_in_bucket'] < end_time)]['bid_price1'] * df_book[(start_time <= df_book['seconds_in_bucket']) & (df_book['seconds_in_bucket'] < end_time)]['time_length']) / (end_time - start_time)\n"
     ]
    },
    {
     "name": "stdout",
     "output_type": "stream",
     "text": [
      "28485\n",
      "28499\n",
      "28509\n",
      "28512\n",
      "28521\n",
      "28527\n",
      "28534\n",
      "28539\n",
      "28541\n",
      "28563\n",
      "28572\n",
      "28596\n",
      "28619\n",
      "28625\n",
      "28634\n",
      "28635\n",
      "28656\n",
      "28670\n",
      "28676\n",
      "28697\n",
      "28737\n",
      "28745\n",
      "28757\n",
      "28761\n",
      "28770\n"
     ]
    },
    {
     "name": "stderr",
     "output_type": "stream",
     "text": [
      "/Users/vladimir.levin/Yandex.Disk.localized/01_Documents/01_Study/0_LUX/01_PhD/Drafts/Project3/kaggle_volatility/support_file.py:1675: RuntimeWarning: invalid value encountered in true_divide\n",
      "  w_ask = np.sum(df_book[(start_time <= df_book['seconds_in_bucket']) & (df_book['seconds_in_bucket'] < end_time)]['ask_price1'] * df_book[(start_time <= df_book['seconds_in_bucket']) & (df_book['seconds_in_bucket'] < end_time)]['time_length']) / (end_time - start_time)\n",
      "/Users/vladimir.levin/Yandex.Disk.localized/01_Documents/01_Study/0_LUX/01_PhD/Drafts/Project3/kaggle_volatility/support_file.py:1676: RuntimeWarning: invalid value encountered in true_divide\n",
      "  w_bid = np.sum(df_book[(start_time <= df_book['seconds_in_bucket']) & (df_book['seconds_in_bucket'] < end_time)]['bid_price1'] * df_book[(start_time <= df_book['seconds_in_bucket']) & (df_book['seconds_in_bucket'] < end_time)]['time_length']) / (end_time - start_time)\n",
      "/Users/vladimir.levin/Yandex.Disk.localized/01_Documents/01_Study/0_LUX/01_PhD/Drafts/Project3/kaggle_volatility/support_file.py:1675: RuntimeWarning: invalid value encountered in true_divide\n",
      "  w_ask = np.sum(df_book[(start_time <= df_book['seconds_in_bucket']) & (df_book['seconds_in_bucket'] < end_time)]['ask_price1'] * df_book[(start_time <= df_book['seconds_in_bucket']) & (df_book['seconds_in_bucket'] < end_time)]['time_length']) / (end_time - start_time)\n",
      "/Users/vladimir.levin/Yandex.Disk.localized/01_Documents/01_Study/0_LUX/01_PhD/Drafts/Project3/kaggle_volatility/support_file.py:1676: RuntimeWarning: invalid value encountered in true_divide\n",
      "  w_bid = np.sum(df_book[(start_time <= df_book['seconds_in_bucket']) & (df_book['seconds_in_bucket'] < end_time)]['bid_price1'] * df_book[(start_time <= df_book['seconds_in_bucket']) & (df_book['seconds_in_bucket'] < end_time)]['time_length']) / (end_time - start_time)\n"
     ]
    },
    {
     "name": "stdout",
     "output_type": "stream",
     "text": [
      "28775\n",
      "28779\n",
      "28801\n",
      "28820\n",
      "28832\n",
      "28837\n",
      "28838\n"
     ]
    },
    {
     "name": "stderr",
     "output_type": "stream",
     "text": [
      "/Users/vladimir.levin/Yandex.Disk.localized/01_Documents/01_Study/0_LUX/01_PhD/Drafts/Project3/kaggle_volatility/support_file.py:1675: RuntimeWarning: invalid value encountered in true_divide\n",
      "  w_ask = np.sum(df_book[(start_time <= df_book['seconds_in_bucket']) & (df_book['seconds_in_bucket'] < end_time)]['ask_price1'] * df_book[(start_time <= df_book['seconds_in_bucket']) & (df_book['seconds_in_bucket'] < end_time)]['time_length']) / (end_time - start_time)\n",
      "/Users/vladimir.levin/Yandex.Disk.localized/01_Documents/01_Study/0_LUX/01_PhD/Drafts/Project3/kaggle_volatility/support_file.py:1676: RuntimeWarning: invalid value encountered in true_divide\n",
      "  w_bid = np.sum(df_book[(start_time <= df_book['seconds_in_bucket']) & (df_book['seconds_in_bucket'] < end_time)]['bid_price1'] * df_book[(start_time <= df_book['seconds_in_bucket']) & (df_book['seconds_in_bucket'] < end_time)]['time_length']) / (end_time - start_time)\n"
     ]
    },
    {
     "name": "stdout",
     "output_type": "stream",
     "text": [
      "28839\n",
      "28841\n"
     ]
    },
    {
     "name": "stderr",
     "output_type": "stream",
     "text": [
      "/Users/vladimir.levin/Yandex.Disk.localized/01_Documents/01_Study/0_LUX/01_PhD/Drafts/Project3/kaggle_volatility/support_file.py:1675: RuntimeWarning: invalid value encountered in true_divide\n",
      "  w_ask = np.sum(df_book[(start_time <= df_book['seconds_in_bucket']) & (df_book['seconds_in_bucket'] < end_time)]['ask_price1'] * df_book[(start_time <= df_book['seconds_in_bucket']) & (df_book['seconds_in_bucket'] < end_time)]['time_length']) / (end_time - start_time)\n",
      "/Users/vladimir.levin/Yandex.Disk.localized/01_Documents/01_Study/0_LUX/01_PhD/Drafts/Project3/kaggle_volatility/support_file.py:1676: RuntimeWarning: invalid value encountered in true_divide\n",
      "  w_bid = np.sum(df_book[(start_time <= df_book['seconds_in_bucket']) & (df_book['seconds_in_bucket'] < end_time)]['bid_price1'] * df_book[(start_time <= df_book['seconds_in_bucket']) & (df_book['seconds_in_bucket'] < end_time)]['time_length']) / (end_time - start_time)\n"
     ]
    },
    {
     "name": "stdout",
     "output_type": "stream",
     "text": [
      "28868\n",
      "28877\n",
      "28880\n",
      "28881\n",
      "28896\n",
      "28898\n",
      "28930\n"
     ]
    },
    {
     "name": "stderr",
     "output_type": "stream",
     "text": [
      "/Users/vladimir.levin/Yandex.Disk.localized/01_Documents/01_Study/0_LUX/01_PhD/Drafts/Project3/kaggle_volatility/support_file.py:1675: RuntimeWarning: invalid value encountered in true_divide\n",
      "  w_ask = np.sum(df_book[(start_time <= df_book['seconds_in_bucket']) & (df_book['seconds_in_bucket'] < end_time)]['ask_price1'] * df_book[(start_time <= df_book['seconds_in_bucket']) & (df_book['seconds_in_bucket'] < end_time)]['time_length']) / (end_time - start_time)\n",
      "/Users/vladimir.levin/Yandex.Disk.localized/01_Documents/01_Study/0_LUX/01_PhD/Drafts/Project3/kaggle_volatility/support_file.py:1676: RuntimeWarning: invalid value encountered in true_divide\n",
      "  w_bid = np.sum(df_book[(start_time <= df_book['seconds_in_bucket']) & (df_book['seconds_in_bucket'] < end_time)]['bid_price1'] * df_book[(start_time <= df_book['seconds_in_bucket']) & (df_book['seconds_in_bucket'] < end_time)]['time_length']) / (end_time - start_time)\n"
     ]
    },
    {
     "name": "stdout",
     "output_type": "stream",
     "text": [
      "28932\n",
      "28958\n",
      "28959\n",
      "28963\n",
      "28969\n",
      "28983\n",
      "28992\n",
      "28993\n",
      "29003\n",
      "29005\n",
      "29012\n",
      "29026\n",
      "29037\n",
      "29046\n",
      "29048\n",
      "29054\n"
     ]
    },
    {
     "name": "stderr",
     "output_type": "stream",
     "text": [
      "/Users/vladimir.levin/Yandex.Disk.localized/01_Documents/01_Study/0_LUX/01_PhD/Drafts/Project3/kaggle_volatility/support_file.py:1675: RuntimeWarning: invalid value encountered in true_divide\n",
      "  w_ask = np.sum(df_book[(start_time <= df_book['seconds_in_bucket']) & (df_book['seconds_in_bucket'] < end_time)]['ask_price1'] * df_book[(start_time <= df_book['seconds_in_bucket']) & (df_book['seconds_in_bucket'] < end_time)]['time_length']) / (end_time - start_time)\n",
      "/Users/vladimir.levin/Yandex.Disk.localized/01_Documents/01_Study/0_LUX/01_PhD/Drafts/Project3/kaggle_volatility/support_file.py:1676: RuntimeWarning: invalid value encountered in true_divide\n",
      "  w_bid = np.sum(df_book[(start_time <= df_book['seconds_in_bucket']) & (df_book['seconds_in_bucket'] < end_time)]['bid_price1'] * df_book[(start_time <= df_book['seconds_in_bucket']) & (df_book['seconds_in_bucket'] < end_time)]['time_length']) / (end_time - start_time)\n"
     ]
    },
    {
     "name": "stdout",
     "output_type": "stream",
     "text": [
      "29064\n",
      "29089\n",
      "29106\n",
      "29120\n",
      "29138\n",
      "29139\n",
      "29145\n",
      "29149\n",
      "29150\n"
     ]
    },
    {
     "name": "stderr",
     "output_type": "stream",
     "text": [
      "/Users/vladimir.levin/Yandex.Disk.localized/01_Documents/01_Study/0_LUX/01_PhD/Drafts/Project3/kaggle_volatility/support_file.py:1675: RuntimeWarning: invalid value encountered in true_divide\n",
      "  w_ask = np.sum(df_book[(start_time <= df_book['seconds_in_bucket']) & (df_book['seconds_in_bucket'] < end_time)]['ask_price1'] * df_book[(start_time <= df_book['seconds_in_bucket']) & (df_book['seconds_in_bucket'] < end_time)]['time_length']) / (end_time - start_time)\n",
      "/Users/vladimir.levin/Yandex.Disk.localized/01_Documents/01_Study/0_LUX/01_PhD/Drafts/Project3/kaggle_volatility/support_file.py:1676: RuntimeWarning: invalid value encountered in true_divide\n",
      "  w_bid = np.sum(df_book[(start_time <= df_book['seconds_in_bucket']) & (df_book['seconds_in_bucket'] < end_time)]['bid_price1'] * df_book[(start_time <= df_book['seconds_in_bucket']) & (df_book['seconds_in_bucket'] < end_time)]['time_length']) / (end_time - start_time)\n"
     ]
    },
    {
     "name": "stdout",
     "output_type": "stream",
     "text": [
      "29171\n",
      "29219\n",
      "29226\n",
      "29228\n",
      "29239\n"
     ]
    },
    {
     "name": "stderr",
     "output_type": "stream",
     "text": [
      "/Users/vladimir.levin/Yandex.Disk.localized/01_Documents/01_Study/0_LUX/01_PhD/Drafts/Project3/kaggle_volatility/support_file.py:1675: RuntimeWarning: invalid value encountered in true_divide\n",
      "  w_ask = np.sum(df_book[(start_time <= df_book['seconds_in_bucket']) & (df_book['seconds_in_bucket'] < end_time)]['ask_price1'] * df_book[(start_time <= df_book['seconds_in_bucket']) & (df_book['seconds_in_bucket'] < end_time)]['time_length']) / (end_time - start_time)\n",
      "/Users/vladimir.levin/Yandex.Disk.localized/01_Documents/01_Study/0_LUX/01_PhD/Drafts/Project3/kaggle_volatility/support_file.py:1676: RuntimeWarning: invalid value encountered in true_divide\n",
      "  w_bid = np.sum(df_book[(start_time <= df_book['seconds_in_bucket']) & (df_book['seconds_in_bucket'] < end_time)]['bid_price1'] * df_book[(start_time <= df_book['seconds_in_bucket']) & (df_book['seconds_in_bucket'] < end_time)]['time_length']) / (end_time - start_time)\n"
     ]
    },
    {
     "name": "stdout",
     "output_type": "stream",
     "text": [
      "29240\n",
      "29246\n",
      "29252\n"
     ]
    },
    {
     "name": "stderr",
     "output_type": "stream",
     "text": [
      "/Users/vladimir.levin/Yandex.Disk.localized/01_Documents/01_Study/0_LUX/01_PhD/Drafts/Project3/kaggle_volatility/support_file.py:1675: RuntimeWarning: invalid value encountered in true_divide\n",
      "  w_ask = np.sum(df_book[(start_time <= df_book['seconds_in_bucket']) & (df_book['seconds_in_bucket'] < end_time)]['ask_price1'] * df_book[(start_time <= df_book['seconds_in_bucket']) & (df_book['seconds_in_bucket'] < end_time)]['time_length']) / (end_time - start_time)\n",
      "/Users/vladimir.levin/Yandex.Disk.localized/01_Documents/01_Study/0_LUX/01_PhD/Drafts/Project3/kaggle_volatility/support_file.py:1676: RuntimeWarning: invalid value encountered in true_divide\n",
      "  w_bid = np.sum(df_book[(start_time <= df_book['seconds_in_bucket']) & (df_book['seconds_in_bucket'] < end_time)]['bid_price1'] * df_book[(start_time <= df_book['seconds_in_bucket']) & (df_book['seconds_in_bucket'] < end_time)]['time_length']) / (end_time - start_time)\n",
      "/Users/vladimir.levin/Yandex.Disk.localized/01_Documents/01_Study/0_LUX/01_PhD/Drafts/Project3/kaggle_volatility/support_file.py:1675: RuntimeWarning: invalid value encountered in true_divide\n",
      "  w_ask = np.sum(df_book[(start_time <= df_book['seconds_in_bucket']) & (df_book['seconds_in_bucket'] < end_time)]['ask_price1'] * df_book[(start_time <= df_book['seconds_in_bucket']) & (df_book['seconds_in_bucket'] < end_time)]['time_length']) / (end_time - start_time)\n",
      "/Users/vladimir.levin/Yandex.Disk.localized/01_Documents/01_Study/0_LUX/01_PhD/Drafts/Project3/kaggle_volatility/support_file.py:1676: RuntimeWarning: invalid value encountered in true_divide\n",
      "  w_bid = np.sum(df_book[(start_time <= df_book['seconds_in_bucket']) & (df_book['seconds_in_bucket'] < end_time)]['bid_price1'] * df_book[(start_time <= df_book['seconds_in_bucket']) & (df_book['seconds_in_bucket'] < end_time)]['time_length']) / (end_time - start_time)\n"
     ]
    },
    {
     "name": "stdout",
     "output_type": "stream",
     "text": [
      "29267\n",
      "29271\n",
      "29280\n",
      "29296\n",
      "29302\n"
     ]
    },
    {
     "name": "stderr",
     "output_type": "stream",
     "text": [
      "/Users/vladimir.levin/Yandex.Disk.localized/01_Documents/01_Study/0_LUX/01_PhD/Drafts/Project3/kaggle_volatility/support_file.py:1675: RuntimeWarning: invalid value encountered in true_divide\n",
      "  w_ask = np.sum(df_book[(start_time <= df_book['seconds_in_bucket']) & (df_book['seconds_in_bucket'] < end_time)]['ask_price1'] * df_book[(start_time <= df_book['seconds_in_bucket']) & (df_book['seconds_in_bucket'] < end_time)]['time_length']) / (end_time - start_time)\n",
      "/Users/vladimir.levin/Yandex.Disk.localized/01_Documents/01_Study/0_LUX/01_PhD/Drafts/Project3/kaggle_volatility/support_file.py:1676: RuntimeWarning: invalid value encountered in true_divide\n",
      "  w_bid = np.sum(df_book[(start_time <= df_book['seconds_in_bucket']) & (df_book['seconds_in_bucket'] < end_time)]['bid_price1'] * df_book[(start_time <= df_book['seconds_in_bucket']) & (df_book['seconds_in_bucket'] < end_time)]['time_length']) / (end_time - start_time)\n"
     ]
    },
    {
     "name": "stdout",
     "output_type": "stream",
     "text": [
      "29316\n",
      "29330\n",
      "29336\n",
      "29337\n",
      "29362\n"
     ]
    },
    {
     "name": "stderr",
     "output_type": "stream",
     "text": [
      "/Users/vladimir.levin/Yandex.Disk.localized/01_Documents/01_Study/0_LUX/01_PhD/Drafts/Project3/kaggle_volatility/support_file.py:1675: RuntimeWarning: invalid value encountered in true_divide\n",
      "  w_ask = np.sum(df_book[(start_time <= df_book['seconds_in_bucket']) & (df_book['seconds_in_bucket'] < end_time)]['ask_price1'] * df_book[(start_time <= df_book['seconds_in_bucket']) & (df_book['seconds_in_bucket'] < end_time)]['time_length']) / (end_time - start_time)\n",
      "/Users/vladimir.levin/Yandex.Disk.localized/01_Documents/01_Study/0_LUX/01_PhD/Drafts/Project3/kaggle_volatility/support_file.py:1676: RuntimeWarning: invalid value encountered in true_divide\n",
      "  w_bid = np.sum(df_book[(start_time <= df_book['seconds_in_bucket']) & (df_book['seconds_in_bucket'] < end_time)]['bid_price1'] * df_book[(start_time <= df_book['seconds_in_bucket']) & (df_book['seconds_in_bucket'] < end_time)]['time_length']) / (end_time - start_time)\n",
      "/Users/vladimir.levin/Yandex.Disk.localized/01_Documents/01_Study/0_LUX/01_PhD/Drafts/Project3/kaggle_volatility/support_file.py:1675: RuntimeWarning: invalid value encountered in true_divide\n",
      "  w_ask = np.sum(df_book[(start_time <= df_book['seconds_in_bucket']) & (df_book['seconds_in_bucket'] < end_time)]['ask_price1'] * df_book[(start_time <= df_book['seconds_in_bucket']) & (df_book['seconds_in_bucket'] < end_time)]['time_length']) / (end_time - start_time)\n",
      "/Users/vladimir.levin/Yandex.Disk.localized/01_Documents/01_Study/0_LUX/01_PhD/Drafts/Project3/kaggle_volatility/support_file.py:1676: RuntimeWarning: invalid value encountered in true_divide\n",
      "  w_bid = np.sum(df_book[(start_time <= df_book['seconds_in_bucket']) & (df_book['seconds_in_bucket'] < end_time)]['bid_price1'] * df_book[(start_time <= df_book['seconds_in_bucket']) & (df_book['seconds_in_bucket'] < end_time)]['time_length']) / (end_time - start_time)\n"
     ]
    },
    {
     "name": "stdout",
     "output_type": "stream",
     "text": [
      "29374\n",
      "29375\n",
      "29380\n",
      "29429\n",
      "29431\n",
      "29441\n",
      "29445\n",
      "29448\n",
      "29480\n"
     ]
    },
    {
     "name": "stderr",
     "output_type": "stream",
     "text": [
      "/Users/vladimir.levin/Yandex.Disk.localized/01_Documents/01_Study/0_LUX/01_PhD/Drafts/Project3/kaggle_volatility/support_file.py:1675: RuntimeWarning: invalid value encountered in true_divide\n",
      "  w_ask = np.sum(df_book[(start_time <= df_book['seconds_in_bucket']) & (df_book['seconds_in_bucket'] < end_time)]['ask_price1'] * df_book[(start_time <= df_book['seconds_in_bucket']) & (df_book['seconds_in_bucket'] < end_time)]['time_length']) / (end_time - start_time)\n",
      "/Users/vladimir.levin/Yandex.Disk.localized/01_Documents/01_Study/0_LUX/01_PhD/Drafts/Project3/kaggle_volatility/support_file.py:1676: RuntimeWarning: invalid value encountered in true_divide\n",
      "  w_bid = np.sum(df_book[(start_time <= df_book['seconds_in_bucket']) & (df_book['seconds_in_bucket'] < end_time)]['bid_price1'] * df_book[(start_time <= df_book['seconds_in_bucket']) & (df_book['seconds_in_bucket'] < end_time)]['time_length']) / (end_time - start_time)\n"
     ]
    },
    {
     "name": "stdout",
     "output_type": "stream",
     "text": [
      "29494\n",
      "29504\n",
      "29507\n",
      "29515\n",
      "29517\n"
     ]
    },
    {
     "name": "stderr",
     "output_type": "stream",
     "text": [
      "/Users/vladimir.levin/Yandex.Disk.localized/01_Documents/01_Study/0_LUX/01_PhD/Drafts/Project3/kaggle_volatility/support_file.py:1675: RuntimeWarning: invalid value encountered in true_divide\n",
      "  w_ask = np.sum(df_book[(start_time <= df_book['seconds_in_bucket']) & (df_book['seconds_in_bucket'] < end_time)]['ask_price1'] * df_book[(start_time <= df_book['seconds_in_bucket']) & (df_book['seconds_in_bucket'] < end_time)]['time_length']) / (end_time - start_time)\n",
      "/Users/vladimir.levin/Yandex.Disk.localized/01_Documents/01_Study/0_LUX/01_PhD/Drafts/Project3/kaggle_volatility/support_file.py:1676: RuntimeWarning: invalid value encountered in true_divide\n",
      "  w_bid = np.sum(df_book[(start_time <= df_book['seconds_in_bucket']) & (df_book['seconds_in_bucket'] < end_time)]['bid_price1'] * df_book[(start_time <= df_book['seconds_in_bucket']) & (df_book['seconds_in_bucket'] < end_time)]['time_length']) / (end_time - start_time)\n"
     ]
    },
    {
     "name": "stdout",
     "output_type": "stream",
     "text": [
      "29548\n",
      "29554\n",
      "29568\n",
      "29570\n",
      "29577\n",
      "29583\n",
      "29590\n",
      "29592\n",
      "29608\n",
      "29614\n",
      "29616\n",
      "29634\n",
      "29644\n"
     ]
    },
    {
     "name": "stderr",
     "output_type": "stream",
     "text": [
      "/Users/vladimir.levin/Yandex.Disk.localized/01_Documents/01_Study/0_LUX/01_PhD/Drafts/Project3/kaggle_volatility/support_file.py:1675: RuntimeWarning: invalid value encountered in true_divide\n",
      "  w_ask = np.sum(df_book[(start_time <= df_book['seconds_in_bucket']) & (df_book['seconds_in_bucket'] < end_time)]['ask_price1'] * df_book[(start_time <= df_book['seconds_in_bucket']) & (df_book['seconds_in_bucket'] < end_time)]['time_length']) / (end_time - start_time)\n",
      "/Users/vladimir.levin/Yandex.Disk.localized/01_Documents/01_Study/0_LUX/01_PhD/Drafts/Project3/kaggle_volatility/support_file.py:1676: RuntimeWarning: invalid value encountered in true_divide\n",
      "  w_bid = np.sum(df_book[(start_time <= df_book['seconds_in_bucket']) & (df_book['seconds_in_bucket'] < end_time)]['bid_price1'] * df_book[(start_time <= df_book['seconds_in_bucket']) & (df_book['seconds_in_bucket'] < end_time)]['time_length']) / (end_time - start_time)\n",
      "/Users/vladimir.levin/Yandex.Disk.localized/01_Documents/01_Study/0_LUX/01_PhD/Drafts/Project3/kaggle_volatility/support_file.py:1675: RuntimeWarning: invalid value encountered in true_divide\n",
      "  w_ask = np.sum(df_book[(start_time <= df_book['seconds_in_bucket']) & (df_book['seconds_in_bucket'] < end_time)]['ask_price1'] * df_book[(start_time <= df_book['seconds_in_bucket']) & (df_book['seconds_in_bucket'] < end_time)]['time_length']) / (end_time - start_time)\n",
      "/Users/vladimir.levin/Yandex.Disk.localized/01_Documents/01_Study/0_LUX/01_PhD/Drafts/Project3/kaggle_volatility/support_file.py:1676: RuntimeWarning: invalid value encountered in true_divide\n",
      "  w_bid = np.sum(df_book[(start_time <= df_book['seconds_in_bucket']) & (df_book['seconds_in_bucket'] < end_time)]['bid_price1'] * df_book[(start_time <= df_book['seconds_in_bucket']) & (df_book['seconds_in_bucket'] < end_time)]['time_length']) / (end_time - start_time)\n"
     ]
    },
    {
     "name": "stdout",
     "output_type": "stream",
     "text": [
      "29649\n",
      "29656\n",
      "29664\n",
      "29672\n",
      "29676\n",
      "29679\n"
     ]
    },
    {
     "name": "stderr",
     "output_type": "stream",
     "text": [
      "/Users/vladimir.levin/Yandex.Disk.localized/01_Documents/01_Study/0_LUX/01_PhD/Drafts/Project3/kaggle_volatility/support_file.py:1675: RuntimeWarning: invalid value encountered in true_divide\n",
      "  w_ask = np.sum(df_book[(start_time <= df_book['seconds_in_bucket']) & (df_book['seconds_in_bucket'] < end_time)]['ask_price1'] * df_book[(start_time <= df_book['seconds_in_bucket']) & (df_book['seconds_in_bucket'] < end_time)]['time_length']) / (end_time - start_time)\n",
      "/Users/vladimir.levin/Yandex.Disk.localized/01_Documents/01_Study/0_LUX/01_PhD/Drafts/Project3/kaggle_volatility/support_file.py:1676: RuntimeWarning: invalid value encountered in true_divide\n",
      "  w_bid = np.sum(df_book[(start_time <= df_book['seconds_in_bucket']) & (df_book['seconds_in_bucket'] < end_time)]['bid_price1'] * df_book[(start_time <= df_book['seconds_in_bucket']) & (df_book['seconds_in_bucket'] < end_time)]['time_length']) / (end_time - start_time)\n"
     ]
    },
    {
     "name": "stdout",
     "output_type": "stream",
     "text": [
      "29692\n",
      "29716\n",
      "29740\n"
     ]
    },
    {
     "name": "stderr",
     "output_type": "stream",
     "text": [
      "/Users/vladimir.levin/Yandex.Disk.localized/01_Documents/01_Study/0_LUX/01_PhD/Drafts/Project3/kaggle_volatility/support_file.py:1675: RuntimeWarning: invalid value encountered in true_divide\n",
      "  w_ask = np.sum(df_book[(start_time <= df_book['seconds_in_bucket']) & (df_book['seconds_in_bucket'] < end_time)]['ask_price1'] * df_book[(start_time <= df_book['seconds_in_bucket']) & (df_book['seconds_in_bucket'] < end_time)]['time_length']) / (end_time - start_time)\n",
      "/Users/vladimir.levin/Yandex.Disk.localized/01_Documents/01_Study/0_LUX/01_PhD/Drafts/Project3/kaggle_volatility/support_file.py:1676: RuntimeWarning: invalid value encountered in true_divide\n",
      "  w_bid = np.sum(df_book[(start_time <= df_book['seconds_in_bucket']) & (df_book['seconds_in_bucket'] < end_time)]['bid_price1'] * df_book[(start_time <= df_book['seconds_in_bucket']) & (df_book['seconds_in_bucket'] < end_time)]['time_length']) / (end_time - start_time)\n",
      "/Users/vladimir.levin/Yandex.Disk.localized/01_Documents/01_Study/0_LUX/01_PhD/Drafts/Project3/kaggle_volatility/support_file.py:1675: RuntimeWarning: invalid value encountered in true_divide\n",
      "  w_ask = np.sum(df_book[(start_time <= df_book['seconds_in_bucket']) & (df_book['seconds_in_bucket'] < end_time)]['ask_price1'] * df_book[(start_time <= df_book['seconds_in_bucket']) & (df_book['seconds_in_bucket'] < end_time)]['time_length']) / (end_time - start_time)\n",
      "/Users/vladimir.levin/Yandex.Disk.localized/01_Documents/01_Study/0_LUX/01_PhD/Drafts/Project3/kaggle_volatility/support_file.py:1676: RuntimeWarning: invalid value encountered in true_divide\n",
      "  w_bid = np.sum(df_book[(start_time <= df_book['seconds_in_bucket']) & (df_book['seconds_in_bucket'] < end_time)]['bid_price1'] * df_book[(start_time <= df_book['seconds_in_bucket']) & (df_book['seconds_in_bucket'] < end_time)]['time_length']) / (end_time - start_time)\n"
     ]
    },
    {
     "name": "stdout",
     "output_type": "stream",
     "text": [
      "29746\n",
      "29761\n",
      "29775\n",
      "29786\n",
      "29791\n",
      "29793\n"
     ]
    },
    {
     "name": "stderr",
     "output_type": "stream",
     "text": [
      "/Users/vladimir.levin/Yandex.Disk.localized/01_Documents/01_Study/0_LUX/01_PhD/Drafts/Project3/kaggle_volatility/support_file.py:1675: RuntimeWarning: invalid value encountered in true_divide\n",
      "  w_ask = np.sum(df_book[(start_time <= df_book['seconds_in_bucket']) & (df_book['seconds_in_bucket'] < end_time)]['ask_price1'] * df_book[(start_time <= df_book['seconds_in_bucket']) & (df_book['seconds_in_bucket'] < end_time)]['time_length']) / (end_time - start_time)\n",
      "/Users/vladimir.levin/Yandex.Disk.localized/01_Documents/01_Study/0_LUX/01_PhD/Drafts/Project3/kaggle_volatility/support_file.py:1676: RuntimeWarning: invalid value encountered in true_divide\n",
      "  w_bid = np.sum(df_book[(start_time <= df_book['seconds_in_bucket']) & (df_book['seconds_in_bucket'] < end_time)]['bid_price1'] * df_book[(start_time <= df_book['seconds_in_bucket']) & (df_book['seconds_in_bucket'] < end_time)]['time_length']) / (end_time - start_time)\n"
     ]
    },
    {
     "name": "stdout",
     "output_type": "stream",
     "text": [
      "29802\n",
      "29819\n",
      "29823\n",
      "29824\n",
      "29828\n",
      "29842\n"
     ]
    },
    {
     "name": "stderr",
     "output_type": "stream",
     "text": [
      "/Users/vladimir.levin/Yandex.Disk.localized/01_Documents/01_Study/0_LUX/01_PhD/Drafts/Project3/kaggle_volatility/support_file.py:1675: RuntimeWarning: invalid value encountered in true_divide\n",
      "  w_ask = np.sum(df_book[(start_time <= df_book['seconds_in_bucket']) & (df_book['seconds_in_bucket'] < end_time)]['ask_price1'] * df_book[(start_time <= df_book['seconds_in_bucket']) & (df_book['seconds_in_bucket'] < end_time)]['time_length']) / (end_time - start_time)\n",
      "/Users/vladimir.levin/Yandex.Disk.localized/01_Documents/01_Study/0_LUX/01_PhD/Drafts/Project3/kaggle_volatility/support_file.py:1676: RuntimeWarning: invalid value encountered in true_divide\n",
      "  w_bid = np.sum(df_book[(start_time <= df_book['seconds_in_bucket']) & (df_book['seconds_in_bucket'] < end_time)]['bid_price1'] * df_book[(start_time <= df_book['seconds_in_bucket']) & (df_book['seconds_in_bucket'] < end_time)]['time_length']) / (end_time - start_time)\n"
     ]
    },
    {
     "name": "stdout",
     "output_type": "stream",
     "text": [
      "29850\n",
      "29853\n",
      "29871\n",
      "29872\n"
     ]
    },
    {
     "name": "stderr",
     "output_type": "stream",
     "text": [
      "/Users/vladimir.levin/Yandex.Disk.localized/01_Documents/01_Study/0_LUX/01_PhD/Drafts/Project3/kaggle_volatility/support_file.py:1675: RuntimeWarning: invalid value encountered in true_divide\n",
      "  w_ask = np.sum(df_book[(start_time <= df_book['seconds_in_bucket']) & (df_book['seconds_in_bucket'] < end_time)]['ask_price1'] * df_book[(start_time <= df_book['seconds_in_bucket']) & (df_book['seconds_in_bucket'] < end_time)]['time_length']) / (end_time - start_time)\n",
      "/Users/vladimir.levin/Yandex.Disk.localized/01_Documents/01_Study/0_LUX/01_PhD/Drafts/Project3/kaggle_volatility/support_file.py:1676: RuntimeWarning: invalid value encountered in true_divide\n",
      "  w_bid = np.sum(df_book[(start_time <= df_book['seconds_in_bucket']) & (df_book['seconds_in_bucket'] < end_time)]['bid_price1'] * df_book[(start_time <= df_book['seconds_in_bucket']) & (df_book['seconds_in_bucket'] < end_time)]['time_length']) / (end_time - start_time)\n"
     ]
    },
    {
     "name": "stdout",
     "output_type": "stream",
     "text": [
      "29875\n",
      "29880\n",
      "29885\n",
      "29889\n",
      "29906\n",
      "29930\n",
      "29932\n",
      "29941\n"
     ]
    },
    {
     "name": "stderr",
     "output_type": "stream",
     "text": [
      "/Users/vladimir.levin/Yandex.Disk.localized/01_Documents/01_Study/0_LUX/01_PhD/Drafts/Project3/kaggle_volatility/support_file.py:1675: RuntimeWarning: invalid value encountered in true_divide\n",
      "  w_ask = np.sum(df_book[(start_time <= df_book['seconds_in_bucket']) & (df_book['seconds_in_bucket'] < end_time)]['ask_price1'] * df_book[(start_time <= df_book['seconds_in_bucket']) & (df_book['seconds_in_bucket'] < end_time)]['time_length']) / (end_time - start_time)\n",
      "/Users/vladimir.levin/Yandex.Disk.localized/01_Documents/01_Study/0_LUX/01_PhD/Drafts/Project3/kaggle_volatility/support_file.py:1676: RuntimeWarning: invalid value encountered in true_divide\n",
      "  w_bid = np.sum(df_book[(start_time <= df_book['seconds_in_bucket']) & (df_book['seconds_in_bucket'] < end_time)]['bid_price1'] * df_book[(start_time <= df_book['seconds_in_bucket']) & (df_book['seconds_in_bucket'] < end_time)]['time_length']) / (end_time - start_time)\n"
     ]
    },
    {
     "name": "stdout",
     "output_type": "stream",
     "text": [
      "29943\n",
      "29944\n",
      "29947\n",
      "29965\n",
      "29972\n",
      "29974\n"
     ]
    },
    {
     "name": "stderr",
     "output_type": "stream",
     "text": [
      "/Users/vladimir.levin/Yandex.Disk.localized/01_Documents/01_Study/0_LUX/01_PhD/Drafts/Project3/kaggle_volatility/support_file.py:1675: RuntimeWarning: invalid value encountered in true_divide\n",
      "  w_ask = np.sum(df_book[(start_time <= df_book['seconds_in_bucket']) & (df_book['seconds_in_bucket'] < end_time)]['ask_price1'] * df_book[(start_time <= df_book['seconds_in_bucket']) & (df_book['seconds_in_bucket'] < end_time)]['time_length']) / (end_time - start_time)\n",
      "/Users/vladimir.levin/Yandex.Disk.localized/01_Documents/01_Study/0_LUX/01_PhD/Drafts/Project3/kaggle_volatility/support_file.py:1676: RuntimeWarning: invalid value encountered in true_divide\n",
      "  w_bid = np.sum(df_book[(start_time <= df_book['seconds_in_bucket']) & (df_book['seconds_in_bucket'] < end_time)]['bid_price1'] * df_book[(start_time <= df_book['seconds_in_bucket']) & (df_book['seconds_in_bucket'] < end_time)]['time_length']) / (end_time - start_time)\n"
     ]
    },
    {
     "name": "stdout",
     "output_type": "stream",
     "text": [
      "29990\n",
      "29997\n",
      "30013\n",
      "30023\n",
      "30040\n",
      "30050\n",
      "30063\n",
      "30078\n",
      "30103\n",
      "30106\n"
     ]
    },
    {
     "name": "stderr",
     "output_type": "stream",
     "text": [
      "/Users/vladimir.levin/Yandex.Disk.localized/01_Documents/01_Study/0_LUX/01_PhD/Drafts/Project3/kaggle_volatility/support_file.py:1675: RuntimeWarning: invalid value encountered in true_divide\n",
      "  w_ask = np.sum(df_book[(start_time <= df_book['seconds_in_bucket']) & (df_book['seconds_in_bucket'] < end_time)]['ask_price1'] * df_book[(start_time <= df_book['seconds_in_bucket']) & (df_book['seconds_in_bucket'] < end_time)]['time_length']) / (end_time - start_time)\n",
      "/Users/vladimir.levin/Yandex.Disk.localized/01_Documents/01_Study/0_LUX/01_PhD/Drafts/Project3/kaggle_volatility/support_file.py:1676: RuntimeWarning: invalid value encountered in true_divide\n",
      "  w_bid = np.sum(df_book[(start_time <= df_book['seconds_in_bucket']) & (df_book['seconds_in_bucket'] < end_time)]['bid_price1'] * df_book[(start_time <= df_book['seconds_in_bucket']) & (df_book['seconds_in_bucket'] < end_time)]['time_length']) / (end_time - start_time)\n"
     ]
    },
    {
     "name": "stdout",
     "output_type": "stream",
     "text": [
      "30125\n",
      "30128\n",
      "30134\n",
      "30169\n",
      "30177\n",
      "30183\n",
      "30208\n",
      "30210\n",
      "30212\n",
      "30215\n",
      "30224\n",
      "30225\n",
      "30232\n",
      "30244\n",
      "30250\n",
      "30256\n",
      "30272\n",
      "30276\n",
      "30279\n",
      "30303\n",
      "30304\n"
     ]
    },
    {
     "name": "stderr",
     "output_type": "stream",
     "text": [
      "/Users/vladimir.levin/Yandex.Disk.localized/01_Documents/01_Study/0_LUX/01_PhD/Drafts/Project3/kaggle_volatility/support_file.py:1675: RuntimeWarning: invalid value encountered in true_divide\n",
      "  w_ask = np.sum(df_book[(start_time <= df_book['seconds_in_bucket']) & (df_book['seconds_in_bucket'] < end_time)]['ask_price1'] * df_book[(start_time <= df_book['seconds_in_bucket']) & (df_book['seconds_in_bucket'] < end_time)]['time_length']) / (end_time - start_time)\n",
      "/Users/vladimir.levin/Yandex.Disk.localized/01_Documents/01_Study/0_LUX/01_PhD/Drafts/Project3/kaggle_volatility/support_file.py:1676: RuntimeWarning: invalid value encountered in true_divide\n",
      "  w_bid = np.sum(df_book[(start_time <= df_book['seconds_in_bucket']) & (df_book['seconds_in_bucket'] < end_time)]['bid_price1'] * df_book[(start_time <= df_book['seconds_in_bucket']) & (df_book['seconds_in_bucket'] < end_time)]['time_length']) / (end_time - start_time)\n"
     ]
    },
    {
     "name": "stdout",
     "output_type": "stream",
     "text": [
      "30312\n",
      "30313\n",
      "30325\n"
     ]
    },
    {
     "name": "stderr",
     "output_type": "stream",
     "text": [
      "/Users/vladimir.levin/Yandex.Disk.localized/01_Documents/01_Study/0_LUX/01_PhD/Drafts/Project3/kaggle_volatility/support_file.py:1675: RuntimeWarning: invalid value encountered in true_divide\n",
      "  w_ask = np.sum(df_book[(start_time <= df_book['seconds_in_bucket']) & (df_book['seconds_in_bucket'] < end_time)]['ask_price1'] * df_book[(start_time <= df_book['seconds_in_bucket']) & (df_book['seconds_in_bucket'] < end_time)]['time_length']) / (end_time - start_time)\n",
      "/Users/vladimir.levin/Yandex.Disk.localized/01_Documents/01_Study/0_LUX/01_PhD/Drafts/Project3/kaggle_volatility/support_file.py:1676: RuntimeWarning: invalid value encountered in true_divide\n",
      "  w_bid = np.sum(df_book[(start_time <= df_book['seconds_in_bucket']) & (df_book['seconds_in_bucket'] < end_time)]['bid_price1'] * df_book[(start_time <= df_book['seconds_in_bucket']) & (df_book['seconds_in_bucket'] < end_time)]['time_length']) / (end_time - start_time)\n"
     ]
    },
    {
     "name": "stdout",
     "output_type": "stream",
     "text": [
      "30327\n",
      "30328\n",
      "30334\n",
      "30339\n",
      "30341\n",
      "30350\n",
      "30357\n",
      "30366\n",
      "30370\n",
      "30376\n",
      "30379\n"
     ]
    },
    {
     "name": "stderr",
     "output_type": "stream",
     "text": [
      "/Users/vladimir.levin/Yandex.Disk.localized/01_Documents/01_Study/0_LUX/01_PhD/Drafts/Project3/kaggle_volatility/support_file.py:1675: RuntimeWarning: invalid value encountered in true_divide\n",
      "  w_ask = np.sum(df_book[(start_time <= df_book['seconds_in_bucket']) & (df_book['seconds_in_bucket'] < end_time)]['ask_price1'] * df_book[(start_time <= df_book['seconds_in_bucket']) & (df_book['seconds_in_bucket'] < end_time)]['time_length']) / (end_time - start_time)\n",
      "/Users/vladimir.levin/Yandex.Disk.localized/01_Documents/01_Study/0_LUX/01_PhD/Drafts/Project3/kaggle_volatility/support_file.py:1676: RuntimeWarning: invalid value encountered in true_divide\n",
      "  w_bid = np.sum(df_book[(start_time <= df_book['seconds_in_bucket']) & (df_book['seconds_in_bucket'] < end_time)]['bid_price1'] * df_book[(start_time <= df_book['seconds_in_bucket']) & (df_book['seconds_in_bucket'] < end_time)]['time_length']) / (end_time - start_time)\n",
      "/Users/vladimir.levin/Yandex.Disk.localized/01_Documents/01_Study/0_LUX/01_PhD/Drafts/Project3/kaggle_volatility/support_file.py:1675: RuntimeWarning: invalid value encountered in true_divide\n",
      "  w_ask = np.sum(df_book[(start_time <= df_book['seconds_in_bucket']) & (df_book['seconds_in_bucket'] < end_time)]['ask_price1'] * df_book[(start_time <= df_book['seconds_in_bucket']) & (df_book['seconds_in_bucket'] < end_time)]['time_length']) / (end_time - start_time)\n",
      "/Users/vladimir.levin/Yandex.Disk.localized/01_Documents/01_Study/0_LUX/01_PhD/Drafts/Project3/kaggle_volatility/support_file.py:1676: RuntimeWarning: invalid value encountered in true_divide\n",
      "  w_bid = np.sum(df_book[(start_time <= df_book['seconds_in_bucket']) & (df_book['seconds_in_bucket'] < end_time)]['bid_price1'] * df_book[(start_time <= df_book['seconds_in_bucket']) & (df_book['seconds_in_bucket'] < end_time)]['time_length']) / (end_time - start_time)\n"
     ]
    },
    {
     "name": "stdout",
     "output_type": "stream",
     "text": [
      "30383\n",
      "30384\n",
      "30405\n"
     ]
    },
    {
     "name": "stderr",
     "output_type": "stream",
     "text": [
      "/Users/vladimir.levin/Yandex.Disk.localized/01_Documents/01_Study/0_LUX/01_PhD/Drafts/Project3/kaggle_volatility/support_file.py:1675: RuntimeWarning: invalid value encountered in true_divide\n",
      "  w_ask = np.sum(df_book[(start_time <= df_book['seconds_in_bucket']) & (df_book['seconds_in_bucket'] < end_time)]['ask_price1'] * df_book[(start_time <= df_book['seconds_in_bucket']) & (df_book['seconds_in_bucket'] < end_time)]['time_length']) / (end_time - start_time)\n",
      "/Users/vladimir.levin/Yandex.Disk.localized/01_Documents/01_Study/0_LUX/01_PhD/Drafts/Project3/kaggle_volatility/support_file.py:1676: RuntimeWarning: invalid value encountered in true_divide\n",
      "  w_bid = np.sum(df_book[(start_time <= df_book['seconds_in_bucket']) & (df_book['seconds_in_bucket'] < end_time)]['bid_price1'] * df_book[(start_time <= df_book['seconds_in_bucket']) & (df_book['seconds_in_bucket'] < end_time)]['time_length']) / (end_time - start_time)\n"
     ]
    },
    {
     "name": "stdout",
     "output_type": "stream",
     "text": [
      "30412\n",
      "30416\n",
      "30430\n",
      "30443\n",
      "30454\n"
     ]
    },
    {
     "name": "stderr",
     "output_type": "stream",
     "text": [
      "/Users/vladimir.levin/Yandex.Disk.localized/01_Documents/01_Study/0_LUX/01_PhD/Drafts/Project3/kaggle_volatility/support_file.py:1675: RuntimeWarning: invalid value encountered in true_divide\n",
      "  w_ask = np.sum(df_book[(start_time <= df_book['seconds_in_bucket']) & (df_book['seconds_in_bucket'] < end_time)]['ask_price1'] * df_book[(start_time <= df_book['seconds_in_bucket']) & (df_book['seconds_in_bucket'] < end_time)]['time_length']) / (end_time - start_time)\n",
      "/Users/vladimir.levin/Yandex.Disk.localized/01_Documents/01_Study/0_LUX/01_PhD/Drafts/Project3/kaggle_volatility/support_file.py:1676: RuntimeWarning: invalid value encountered in true_divide\n",
      "  w_bid = np.sum(df_book[(start_time <= df_book['seconds_in_bucket']) & (df_book['seconds_in_bucket'] < end_time)]['bid_price1'] * df_book[(start_time <= df_book['seconds_in_bucket']) & (df_book['seconds_in_bucket'] < end_time)]['time_length']) / (end_time - start_time)\n"
     ]
    },
    {
     "name": "stdout",
     "output_type": "stream",
     "text": [
      "30456\n",
      "30471\n",
      "30474\n"
     ]
    },
    {
     "name": "stderr",
     "output_type": "stream",
     "text": [
      "/Users/vladimir.levin/Yandex.Disk.localized/01_Documents/01_Study/0_LUX/01_PhD/Drafts/Project3/kaggle_volatility/support_file.py:1675: RuntimeWarning: invalid value encountered in true_divide\n",
      "  w_ask = np.sum(df_book[(start_time <= df_book['seconds_in_bucket']) & (df_book['seconds_in_bucket'] < end_time)]['ask_price1'] * df_book[(start_time <= df_book['seconds_in_bucket']) & (df_book['seconds_in_bucket'] < end_time)]['time_length']) / (end_time - start_time)\n",
      "/Users/vladimir.levin/Yandex.Disk.localized/01_Documents/01_Study/0_LUX/01_PhD/Drafts/Project3/kaggle_volatility/support_file.py:1676: RuntimeWarning: invalid value encountered in true_divide\n",
      "  w_bid = np.sum(df_book[(start_time <= df_book['seconds_in_bucket']) & (df_book['seconds_in_bucket'] < end_time)]['bid_price1'] * df_book[(start_time <= df_book['seconds_in_bucket']) & (df_book['seconds_in_bucket'] < end_time)]['time_length']) / (end_time - start_time)\n"
     ]
    },
    {
     "name": "stdout",
     "output_type": "stream",
     "text": [
      "30492\n",
      "30494\n",
      "30498\n",
      "30512\n",
      "30521\n",
      "30527\n",
      "30547\n",
      "30569\n",
      "30585\n",
      "30597\n",
      "30598\n",
      "30604"
     ]
    },
    {
     "name": "stderr",
     "output_type": "stream",
     "text": [
      "/Users/vladimir.levin/Yandex.Disk.localized/01_Documents/01_Study/0_LUX/01_PhD/Drafts/Project3/kaggle_volatility/support_file.py:1675: RuntimeWarning: invalid value encountered in true_divide\n",
      "  w_ask = np.sum(df_book[(start_time <= df_book['seconds_in_bucket']) & (df_book['seconds_in_bucket'] < end_time)]['ask_price1'] * df_book[(start_time <= df_book['seconds_in_bucket']) & (df_book['seconds_in_bucket'] < end_time)]['time_length']) / (end_time - start_time)\n",
      "/Users/vladimir.levin/Yandex.Disk.localized/01_Documents/01_Study/0_LUX/01_PhD/Drafts/Project3/kaggle_volatility/support_file.py:1676: RuntimeWarning: invalid value encountered in true_divide\n",
      "  w_bid = np.sum(df_book[(start_time <= df_book['seconds_in_bucket']) & (df_book['seconds_in_bucket'] < end_time)]['bid_price1'] * df_book[(start_time <= df_book['seconds_in_bucket']) & (df_book['seconds_in_bucket'] < end_time)]['time_length']) / (end_time - start_time)\n"
     ]
    },
    {
     "name": "stdout",
     "output_type": "stream",
     "text": [
      "\n",
      "30609\n",
      "30620\n",
      "30624\n",
      "30638\n"
     ]
    },
    {
     "name": "stderr",
     "output_type": "stream",
     "text": [
      "/Users/vladimir.levin/Yandex.Disk.localized/01_Documents/01_Study/0_LUX/01_PhD/Drafts/Project3/kaggle_volatility/support_file.py:1675: RuntimeWarning: invalid value encountered in true_divide\n",
      "  w_ask = np.sum(df_book[(start_time <= df_book['seconds_in_bucket']) & (df_book['seconds_in_bucket'] < end_time)]['ask_price1'] * df_book[(start_time <= df_book['seconds_in_bucket']) & (df_book['seconds_in_bucket'] < end_time)]['time_length']) / (end_time - start_time)\n",
      "/Users/vladimir.levin/Yandex.Disk.localized/01_Documents/01_Study/0_LUX/01_PhD/Drafts/Project3/kaggle_volatility/support_file.py:1676: RuntimeWarning: invalid value encountered in true_divide\n",
      "  w_bid = np.sum(df_book[(start_time <= df_book['seconds_in_bucket']) & (df_book['seconds_in_bucket'] < end_time)]['bid_price1'] * df_book[(start_time <= df_book['seconds_in_bucket']) & (df_book['seconds_in_bucket'] < end_time)]['time_length']) / (end_time - start_time)\n"
     ]
    },
    {
     "name": "stdout",
     "output_type": "stream",
     "text": [
      "30641\n",
      "30657\n",
      "30658\n",
      "30692\n",
      "30700\n",
      "30720\n",
      "30729\n",
      "30730\n",
      "30733\n",
      "30748\n",
      "30750\n",
      "30774\n",
      "30789\n",
      "30790\n",
      "30791\n",
      "30793\n",
      "30794\n",
      "30798\n",
      "30803\n",
      "30805\n",
      "30816\n",
      "30824\n"
     ]
    },
    {
     "name": "stderr",
     "output_type": "stream",
     "text": [
      "/Users/vladimir.levin/Yandex.Disk.localized/01_Documents/01_Study/0_LUX/01_PhD/Drafts/Project3/kaggle_volatility/support_file.py:1675: RuntimeWarning: invalid value encountered in true_divide\n",
      "  w_ask = np.sum(df_book[(start_time <= df_book['seconds_in_bucket']) & (df_book['seconds_in_bucket'] < end_time)]['ask_price1'] * df_book[(start_time <= df_book['seconds_in_bucket']) & (df_book['seconds_in_bucket'] < end_time)]['time_length']) / (end_time - start_time)\n",
      "/Users/vladimir.levin/Yandex.Disk.localized/01_Documents/01_Study/0_LUX/01_PhD/Drafts/Project3/kaggle_volatility/support_file.py:1676: RuntimeWarning: invalid value encountered in true_divide\n",
      "  w_bid = np.sum(df_book[(start_time <= df_book['seconds_in_bucket']) & (df_book['seconds_in_bucket'] < end_time)]['bid_price1'] * df_book[(start_time <= df_book['seconds_in_bucket']) & (df_book['seconds_in_bucket'] < end_time)]['time_length']) / (end_time - start_time)\n",
      "/Users/vladimir.levin/Yandex.Disk.localized/01_Documents/01_Study/0_LUX/01_PhD/Drafts/Project3/kaggle_volatility/support_file.py:1675: RuntimeWarning: invalid value encountered in true_divide\n",
      "  w_ask = np.sum(df_book[(start_time <= df_book['seconds_in_bucket']) & (df_book['seconds_in_bucket'] < end_time)]['ask_price1'] * df_book[(start_time <= df_book['seconds_in_bucket']) & (df_book['seconds_in_bucket'] < end_time)]['time_length']) / (end_time - start_time)\n",
      "/Users/vladimir.levin/Yandex.Disk.localized/01_Documents/01_Study/0_LUX/01_PhD/Drafts/Project3/kaggle_volatility/support_file.py:1676: RuntimeWarning: invalid value encountered in true_divide\n",
      "  w_bid = np.sum(df_book[(start_time <= df_book['seconds_in_bucket']) & (df_book['seconds_in_bucket'] < end_time)]['bid_price1'] * df_book[(start_time <= df_book['seconds_in_bucket']) & (df_book['seconds_in_bucket'] < end_time)]['time_length']) / (end_time - start_time)\n"
     ]
    },
    {
     "name": "stdout",
     "output_type": "stream",
     "text": [
      "30852\n",
      "30866\n",
      "30896\n"
     ]
    },
    {
     "name": "stderr",
     "output_type": "stream",
     "text": [
      "/Users/vladimir.levin/Yandex.Disk.localized/01_Documents/01_Study/0_LUX/01_PhD/Drafts/Project3/kaggle_volatility/support_file.py:1675: RuntimeWarning: invalid value encountered in true_divide\n",
      "  w_ask = np.sum(df_book[(start_time <= df_book['seconds_in_bucket']) & (df_book['seconds_in_bucket'] < end_time)]['ask_price1'] * df_book[(start_time <= df_book['seconds_in_bucket']) & (df_book['seconds_in_bucket'] < end_time)]['time_length']) / (end_time - start_time)\n",
      "/Users/vladimir.levin/Yandex.Disk.localized/01_Documents/01_Study/0_LUX/01_PhD/Drafts/Project3/kaggle_volatility/support_file.py:1676: RuntimeWarning: invalid value encountered in true_divide\n",
      "  w_bid = np.sum(df_book[(start_time <= df_book['seconds_in_bucket']) & (df_book['seconds_in_bucket'] < end_time)]['bid_price1'] * df_book[(start_time <= df_book['seconds_in_bucket']) & (df_book['seconds_in_bucket'] < end_time)]['time_length']) / (end_time - start_time)\n"
     ]
    },
    {
     "name": "stdout",
     "output_type": "stream",
     "text": [
      "30908\n",
      "30940\n",
      "30965\n",
      "30974\n",
      "30986\n",
      "30987\n",
      "30999\n",
      "31004\n"
     ]
    },
    {
     "name": "stderr",
     "output_type": "stream",
     "text": [
      "/Users/vladimir.levin/Yandex.Disk.localized/01_Documents/01_Study/0_LUX/01_PhD/Drafts/Project3/kaggle_volatility/support_file.py:1675: RuntimeWarning: invalid value encountered in true_divide\n",
      "  w_ask = np.sum(df_book[(start_time <= df_book['seconds_in_bucket']) & (df_book['seconds_in_bucket'] < end_time)]['ask_price1'] * df_book[(start_time <= df_book['seconds_in_bucket']) & (df_book['seconds_in_bucket'] < end_time)]['time_length']) / (end_time - start_time)\n",
      "/Users/vladimir.levin/Yandex.Disk.localized/01_Documents/01_Study/0_LUX/01_PhD/Drafts/Project3/kaggle_volatility/support_file.py:1676: RuntimeWarning: invalid value encountered in true_divide\n",
      "  w_bid = np.sum(df_book[(start_time <= df_book['seconds_in_bucket']) & (df_book['seconds_in_bucket'] < end_time)]['bid_price1'] * df_book[(start_time <= df_book['seconds_in_bucket']) & (df_book['seconds_in_bucket'] < end_time)]['time_length']) / (end_time - start_time)\n",
      "/Users/vladimir.levin/Yandex.Disk.localized/01_Documents/01_Study/0_LUX/01_PhD/Drafts/Project3/kaggle_volatility/support_file.py:1675: RuntimeWarning: invalid value encountered in true_divide\n",
      "  w_ask = np.sum(df_book[(start_time <= df_book['seconds_in_bucket']) & (df_book['seconds_in_bucket'] < end_time)]['ask_price1'] * df_book[(start_time <= df_book['seconds_in_bucket']) & (df_book['seconds_in_bucket'] < end_time)]['time_length']) / (end_time - start_time)\n",
      "/Users/vladimir.levin/Yandex.Disk.localized/01_Documents/01_Study/0_LUX/01_PhD/Drafts/Project3/kaggle_volatility/support_file.py:1676: RuntimeWarning: invalid value encountered in true_divide\n",
      "  w_bid = np.sum(df_book[(start_time <= df_book['seconds_in_bucket']) & (df_book['seconds_in_bucket'] < end_time)]['bid_price1'] * df_book[(start_time <= df_book['seconds_in_bucket']) & (df_book['seconds_in_bucket'] < end_time)]['time_length']) / (end_time - start_time)\n"
     ]
    },
    {
     "name": "stdout",
     "output_type": "stream",
     "text": [
      "31018\n",
      "31024\n",
      "31034\n",
      "31046\n",
      "31047\n"
     ]
    },
    {
     "name": "stderr",
     "output_type": "stream",
     "text": [
      "/Users/vladimir.levin/Yandex.Disk.localized/01_Documents/01_Study/0_LUX/01_PhD/Drafts/Project3/kaggle_volatility/support_file.py:1675: RuntimeWarning: invalid value encountered in true_divide\n",
      "  w_ask = np.sum(df_book[(start_time <= df_book['seconds_in_bucket']) & (df_book['seconds_in_bucket'] < end_time)]['ask_price1'] * df_book[(start_time <= df_book['seconds_in_bucket']) & (df_book['seconds_in_bucket'] < end_time)]['time_length']) / (end_time - start_time)\n",
      "/Users/vladimir.levin/Yandex.Disk.localized/01_Documents/01_Study/0_LUX/01_PhD/Drafts/Project3/kaggle_volatility/support_file.py:1676: RuntimeWarning: invalid value encountered in true_divide\n",
      "  w_bid = np.sum(df_book[(start_time <= df_book['seconds_in_bucket']) & (df_book['seconds_in_bucket'] < end_time)]['bid_price1'] * df_book[(start_time <= df_book['seconds_in_bucket']) & (df_book['seconds_in_bucket'] < end_time)]['time_length']) / (end_time - start_time)\n"
     ]
    },
    {
     "name": "stdout",
     "output_type": "stream",
     "text": [
      "31054\n",
      "31055\n",
      "31059\n",
      "31060\n",
      "31068\n",
      "31071\n",
      "31077\n",
      "31083\n",
      "31097\n",
      "31113\n",
      "31119\n",
      "31133\n",
      "31138\n",
      "31144\n",
      "31155\n",
      "31156\n",
      "31157\n",
      "31170\n",
      "31173\n",
      "31193\n",
      "31196\n",
      "31202\n"
     ]
    },
    {
     "name": "stderr",
     "output_type": "stream",
     "text": [
      "/Users/vladimir.levin/Yandex.Disk.localized/01_Documents/01_Study/0_LUX/01_PhD/Drafts/Project3/kaggle_volatility/support_file.py:1675: RuntimeWarning: invalid value encountered in true_divide\n",
      "  w_ask = np.sum(df_book[(start_time <= df_book['seconds_in_bucket']) & (df_book['seconds_in_bucket'] < end_time)]['ask_price1'] * df_book[(start_time <= df_book['seconds_in_bucket']) & (df_book['seconds_in_bucket'] < end_time)]['time_length']) / (end_time - start_time)\n",
      "/Users/vladimir.levin/Yandex.Disk.localized/01_Documents/01_Study/0_LUX/01_PhD/Drafts/Project3/kaggle_volatility/support_file.py:1676: RuntimeWarning: invalid value encountered in true_divide\n",
      "  w_bid = np.sum(df_book[(start_time <= df_book['seconds_in_bucket']) & (df_book['seconds_in_bucket'] < end_time)]['bid_price1'] * df_book[(start_time <= df_book['seconds_in_bucket']) & (df_book['seconds_in_bucket'] < end_time)]['time_length']) / (end_time - start_time)\n"
     ]
    },
    {
     "name": "stdout",
     "output_type": "stream",
     "text": [
      "31209\n",
      "31214\n"
     ]
    },
    {
     "name": "stderr",
     "output_type": "stream",
     "text": [
      "/Users/vladimir.levin/Yandex.Disk.localized/01_Documents/01_Study/0_LUX/01_PhD/Drafts/Project3/kaggle_volatility/support_file.py:1675: RuntimeWarning: invalid value encountered in true_divide\n",
      "  w_ask = np.sum(df_book[(start_time <= df_book['seconds_in_bucket']) & (df_book['seconds_in_bucket'] < end_time)]['ask_price1'] * df_book[(start_time <= df_book['seconds_in_bucket']) & (df_book['seconds_in_bucket'] < end_time)]['time_length']) / (end_time - start_time)\n",
      "/Users/vladimir.levin/Yandex.Disk.localized/01_Documents/01_Study/0_LUX/01_PhD/Drafts/Project3/kaggle_volatility/support_file.py:1676: RuntimeWarning: invalid value encountered in true_divide\n",
      "  w_bid = np.sum(df_book[(start_time <= df_book['seconds_in_bucket']) & (df_book['seconds_in_bucket'] < end_time)]['bid_price1'] * df_book[(start_time <= df_book['seconds_in_bucket']) & (df_book['seconds_in_bucket'] < end_time)]['time_length']) / (end_time - start_time)\n"
     ]
    },
    {
     "name": "stdout",
     "output_type": "stream",
     "text": [
      "31236\n",
      "31242\n",
      "31251\n",
      "31254\n",
      "31258\n",
      "31266\n",
      "31267\n",
      "31269\n",
      "31279\n",
      "31298\n",
      "31302\n"
     ]
    },
    {
     "name": "stderr",
     "output_type": "stream",
     "text": [
      "/Users/vladimir.levin/Yandex.Disk.localized/01_Documents/01_Study/0_LUX/01_PhD/Drafts/Project3/kaggle_volatility/support_file.py:1675: RuntimeWarning: invalid value encountered in true_divide\n",
      "  w_ask = np.sum(df_book[(start_time <= df_book['seconds_in_bucket']) & (df_book['seconds_in_bucket'] < end_time)]['ask_price1'] * df_book[(start_time <= df_book['seconds_in_bucket']) & (df_book['seconds_in_bucket'] < end_time)]['time_length']) / (end_time - start_time)\n",
      "/Users/vladimir.levin/Yandex.Disk.localized/01_Documents/01_Study/0_LUX/01_PhD/Drafts/Project3/kaggle_volatility/support_file.py:1676: RuntimeWarning: invalid value encountered in true_divide\n",
      "  w_bid = np.sum(df_book[(start_time <= df_book['seconds_in_bucket']) & (df_book['seconds_in_bucket'] < end_time)]['bid_price1'] * df_book[(start_time <= df_book['seconds_in_bucket']) & (df_book['seconds_in_bucket'] < end_time)]['time_length']) / (end_time - start_time)\n"
     ]
    },
    {
     "name": "stdout",
     "output_type": "stream",
     "text": [
      "31303\n",
      "31306\n",
      "31320\n",
      "31322\n",
      "31324\n",
      "31327\n",
      "31331\n",
      "31337\n",
      "31338\n",
      "31345\n",
      "31347\n",
      "31348\n",
      "31351\n",
      "31359\n",
      "31380\n",
      "31389\n",
      "31394\n",
      "31402\n",
      "31404\n",
      "31406\n"
     ]
    },
    {
     "name": "stderr",
     "output_type": "stream",
     "text": [
      "/Users/vladimir.levin/Yandex.Disk.localized/01_Documents/01_Study/0_LUX/01_PhD/Drafts/Project3/kaggle_volatility/support_file.py:1675: RuntimeWarning: invalid value encountered in true_divide\n",
      "  w_ask = np.sum(df_book[(start_time <= df_book['seconds_in_bucket']) & (df_book['seconds_in_bucket'] < end_time)]['ask_price1'] * df_book[(start_time <= df_book['seconds_in_bucket']) & (df_book['seconds_in_bucket'] < end_time)]['time_length']) / (end_time - start_time)\n",
      "/Users/vladimir.levin/Yandex.Disk.localized/01_Documents/01_Study/0_LUX/01_PhD/Drafts/Project3/kaggle_volatility/support_file.py:1676: RuntimeWarning: invalid value encountered in true_divide\n",
      "  w_bid = np.sum(df_book[(start_time <= df_book['seconds_in_bucket']) & (df_book['seconds_in_bucket'] < end_time)]['bid_price1'] * df_book[(start_time <= df_book['seconds_in_bucket']) & (df_book['seconds_in_bucket'] < end_time)]['time_length']) / (end_time - start_time)\n",
      "/Users/vladimir.levin/Yandex.Disk.localized/01_Documents/01_Study/0_LUX/01_PhD/Drafts/Project3/kaggle_volatility/support_file.py:1675: RuntimeWarning: invalid value encountered in true_divide\n",
      "  w_ask = np.sum(df_book[(start_time <= df_book['seconds_in_bucket']) & (df_book['seconds_in_bucket'] < end_time)]['ask_price1'] * df_book[(start_time <= df_book['seconds_in_bucket']) & (df_book['seconds_in_bucket'] < end_time)]['time_length']) / (end_time - start_time)\n",
      "/Users/vladimir.levin/Yandex.Disk.localized/01_Documents/01_Study/0_LUX/01_PhD/Drafts/Project3/kaggle_volatility/support_file.py:1676: RuntimeWarning: invalid value encountered in true_divide\n",
      "  w_bid = np.sum(df_book[(start_time <= df_book['seconds_in_bucket']) & (df_book['seconds_in_bucket'] < end_time)]['bid_price1'] * df_book[(start_time <= df_book['seconds_in_bucket']) & (df_book['seconds_in_bucket'] < end_time)]['time_length']) / (end_time - start_time)\n"
     ]
    },
    {
     "name": "stdout",
     "output_type": "stream",
     "text": [
      "31412\n",
      "31415\n",
      "31433\n",
      "31434\n",
      "31439\n",
      "31443\n"
     ]
    },
    {
     "name": "stderr",
     "output_type": "stream",
     "text": [
      "/Users/vladimir.levin/Yandex.Disk.localized/01_Documents/01_Study/0_LUX/01_PhD/Drafts/Project3/kaggle_volatility/support_file.py:1675: RuntimeWarning: invalid value encountered in true_divide\n",
      "  w_ask = np.sum(df_book[(start_time <= df_book['seconds_in_bucket']) & (df_book['seconds_in_bucket'] < end_time)]['ask_price1'] * df_book[(start_time <= df_book['seconds_in_bucket']) & (df_book['seconds_in_bucket'] < end_time)]['time_length']) / (end_time - start_time)\n",
      "/Users/vladimir.levin/Yandex.Disk.localized/01_Documents/01_Study/0_LUX/01_PhD/Drafts/Project3/kaggle_volatility/support_file.py:1676: RuntimeWarning: invalid value encountered in true_divide\n",
      "  w_bid = np.sum(df_book[(start_time <= df_book['seconds_in_bucket']) & (df_book['seconds_in_bucket'] < end_time)]['bid_price1'] * df_book[(start_time <= df_book['seconds_in_bucket']) & (df_book['seconds_in_bucket'] < end_time)]['time_length']) / (end_time - start_time)\n"
     ]
    },
    {
     "name": "stdout",
     "output_type": "stream",
     "text": [
      "31456\n",
      "31462\n",
      "31463\n",
      "31471\n"
     ]
    },
    {
     "name": "stderr",
     "output_type": "stream",
     "text": [
      "/Users/vladimir.levin/Yandex.Disk.localized/01_Documents/01_Study/0_LUX/01_PhD/Drafts/Project3/kaggle_volatility/support_file.py:1675: RuntimeWarning: invalid value encountered in true_divide\n",
      "  w_ask = np.sum(df_book[(start_time <= df_book['seconds_in_bucket']) & (df_book['seconds_in_bucket'] < end_time)]['ask_price1'] * df_book[(start_time <= df_book['seconds_in_bucket']) & (df_book['seconds_in_bucket'] < end_time)]['time_length']) / (end_time - start_time)\n",
      "/Users/vladimir.levin/Yandex.Disk.localized/01_Documents/01_Study/0_LUX/01_PhD/Drafts/Project3/kaggle_volatility/support_file.py:1676: RuntimeWarning: invalid value encountered in true_divide\n",
      "  w_bid = np.sum(df_book[(start_time <= df_book['seconds_in_bucket']) & (df_book['seconds_in_bucket'] < end_time)]['bid_price1'] * df_book[(start_time <= df_book['seconds_in_bucket']) & (df_book['seconds_in_bucket'] < end_time)]['time_length']) / (end_time - start_time)\n"
     ]
    },
    {
     "name": "stdout",
     "output_type": "stream",
     "text": [
      "31482\n",
      "31497\n",
      "31522\n"
     ]
    },
    {
     "name": "stderr",
     "output_type": "stream",
     "text": [
      "/Users/vladimir.levin/Yandex.Disk.localized/01_Documents/01_Study/0_LUX/01_PhD/Drafts/Project3/kaggle_volatility/support_file.py:1675: RuntimeWarning: invalid value encountered in true_divide\n",
      "  w_ask = np.sum(df_book[(start_time <= df_book['seconds_in_bucket']) & (df_book['seconds_in_bucket'] < end_time)]['ask_price1'] * df_book[(start_time <= df_book['seconds_in_bucket']) & (df_book['seconds_in_bucket'] < end_time)]['time_length']) / (end_time - start_time)\n",
      "/Users/vladimir.levin/Yandex.Disk.localized/01_Documents/01_Study/0_LUX/01_PhD/Drafts/Project3/kaggle_volatility/support_file.py:1676: RuntimeWarning: invalid value encountered in true_divide\n",
      "  w_bid = np.sum(df_book[(start_time <= df_book['seconds_in_bucket']) & (df_book['seconds_in_bucket'] < end_time)]['bid_price1'] * df_book[(start_time <= df_book['seconds_in_bucket']) & (df_book['seconds_in_bucket'] < end_time)]['time_length']) / (end_time - start_time)\n"
     ]
    },
    {
     "name": "stdout",
     "output_type": "stream",
     "text": [
      "31527\n",
      "31528\n",
      "31554\n",
      "31570\n",
      "31572\n",
      "31587\n",
      "31595\n",
      "31601\n",
      "31609\n",
      "31616\n",
      "31627\n",
      "31653\n"
     ]
    },
    {
     "name": "stderr",
     "output_type": "stream",
     "text": [
      "/Users/vladimir.levin/Yandex.Disk.localized/01_Documents/01_Study/0_LUX/01_PhD/Drafts/Project3/kaggle_volatility/support_file.py:1675: RuntimeWarning: invalid value encountered in true_divide\n",
      "  w_ask = np.sum(df_book[(start_time <= df_book['seconds_in_bucket']) & (df_book['seconds_in_bucket'] < end_time)]['ask_price1'] * df_book[(start_time <= df_book['seconds_in_bucket']) & (df_book['seconds_in_bucket'] < end_time)]['time_length']) / (end_time - start_time)\n",
      "/Users/vladimir.levin/Yandex.Disk.localized/01_Documents/01_Study/0_LUX/01_PhD/Drafts/Project3/kaggle_volatility/support_file.py:1676: RuntimeWarning: invalid value encountered in true_divide\n",
      "  w_bid = np.sum(df_book[(start_time <= df_book['seconds_in_bucket']) & (df_book['seconds_in_bucket'] < end_time)]['bid_price1'] * df_book[(start_time <= df_book['seconds_in_bucket']) & (df_book['seconds_in_bucket'] < end_time)]['time_length']) / (end_time - start_time)\n"
     ]
    },
    {
     "name": "stdout",
     "output_type": "stream",
     "text": [
      "31656\n",
      "31671\n",
      "31689\n",
      "31701\n",
      "31714\n",
      "31719\n",
      "31733\n",
      "31736\n",
      "31750\n"
     ]
    },
    {
     "name": "stderr",
     "output_type": "stream",
     "text": [
      "/Users/vladimir.levin/Yandex.Disk.localized/01_Documents/01_Study/0_LUX/01_PhD/Drafts/Project3/kaggle_volatility/support_file.py:1675: RuntimeWarning: invalid value encountered in true_divide\n",
      "  w_ask = np.sum(df_book[(start_time <= df_book['seconds_in_bucket']) & (df_book['seconds_in_bucket'] < end_time)]['ask_price1'] * df_book[(start_time <= df_book['seconds_in_bucket']) & (df_book['seconds_in_bucket'] < end_time)]['time_length']) / (end_time - start_time)\n",
      "/Users/vladimir.levin/Yandex.Disk.localized/01_Documents/01_Study/0_LUX/01_PhD/Drafts/Project3/kaggle_volatility/support_file.py:1676: RuntimeWarning: invalid value encountered in true_divide\n",
      "  w_bid = np.sum(df_book[(start_time <= df_book['seconds_in_bucket']) & (df_book['seconds_in_bucket'] < end_time)]['bid_price1'] * df_book[(start_time <= df_book['seconds_in_bucket']) & (df_book['seconds_in_bucket'] < end_time)]['time_length']) / (end_time - start_time)\n",
      "/Users/vladimir.levin/Yandex.Disk.localized/01_Documents/01_Study/0_LUX/01_PhD/Drafts/Project3/kaggle_volatility/support_file.py:1675: RuntimeWarning: invalid value encountered in true_divide\n",
      "  w_ask = np.sum(df_book[(start_time <= df_book['seconds_in_bucket']) & (df_book['seconds_in_bucket'] < end_time)]['ask_price1'] * df_book[(start_time <= df_book['seconds_in_bucket']) & (df_book['seconds_in_bucket'] < end_time)]['time_length']) / (end_time - start_time)\n",
      "/Users/vladimir.levin/Yandex.Disk.localized/01_Documents/01_Study/0_LUX/01_PhD/Drafts/Project3/kaggle_volatility/support_file.py:1676: RuntimeWarning: invalid value encountered in true_divide\n",
      "  w_bid = np.sum(df_book[(start_time <= df_book['seconds_in_bucket']) & (df_book['seconds_in_bucket'] < end_time)]['bid_price1'] * df_book[(start_time <= df_book['seconds_in_bucket']) & (df_book['seconds_in_bucket'] < end_time)]['time_length']) / (end_time - start_time)\n"
     ]
    },
    {
     "name": "stdout",
     "output_type": "stream",
     "text": [
      "31789\n",
      "31814\n",
      "31819\n",
      "31836\n",
      "31854\n",
      "31861\n",
      "31864\n",
      "31874\n"
     ]
    },
    {
     "name": "stderr",
     "output_type": "stream",
     "text": [
      "/Users/vladimir.levin/Yandex.Disk.localized/01_Documents/01_Study/0_LUX/01_PhD/Drafts/Project3/kaggle_volatility/support_file.py:1675: RuntimeWarning: invalid value encountered in true_divide\n",
      "  w_ask = np.sum(df_book[(start_time <= df_book['seconds_in_bucket']) & (df_book['seconds_in_bucket'] < end_time)]['ask_price1'] * df_book[(start_time <= df_book['seconds_in_bucket']) & (df_book['seconds_in_bucket'] < end_time)]['time_length']) / (end_time - start_time)\n",
      "/Users/vladimir.levin/Yandex.Disk.localized/01_Documents/01_Study/0_LUX/01_PhD/Drafts/Project3/kaggle_volatility/support_file.py:1676: RuntimeWarning: invalid value encountered in true_divide\n",
      "  w_bid = np.sum(df_book[(start_time <= df_book['seconds_in_bucket']) & (df_book['seconds_in_bucket'] < end_time)]['bid_price1'] * df_book[(start_time <= df_book['seconds_in_bucket']) & (df_book['seconds_in_bucket'] < end_time)]['time_length']) / (end_time - start_time)\n"
     ]
    },
    {
     "name": "stdout",
     "output_type": "stream",
     "text": [
      "31883\n",
      "31914\n",
      "31934\n",
      "31941\n",
      "31944\n",
      "31949\n",
      "31970\n",
      "31984\n",
      "32009\n",
      "32012\n",
      "32017\n",
      "32033\n",
      "32038\n"
     ]
    },
    {
     "name": "stderr",
     "output_type": "stream",
     "text": [
      "/Users/vladimir.levin/Yandex.Disk.localized/01_Documents/01_Study/0_LUX/01_PhD/Drafts/Project3/kaggle_volatility/support_file.py:1675: RuntimeWarning: invalid value encountered in true_divide\n",
      "  w_ask = np.sum(df_book[(start_time <= df_book['seconds_in_bucket']) & (df_book['seconds_in_bucket'] < end_time)]['ask_price1'] * df_book[(start_time <= df_book['seconds_in_bucket']) & (df_book['seconds_in_bucket'] < end_time)]['time_length']) / (end_time - start_time)\n",
      "/Users/vladimir.levin/Yandex.Disk.localized/01_Documents/01_Study/0_LUX/01_PhD/Drafts/Project3/kaggle_volatility/support_file.py:1676: RuntimeWarning: invalid value encountered in true_divide\n",
      "  w_bid = np.sum(df_book[(start_time <= df_book['seconds_in_bucket']) & (df_book['seconds_in_bucket'] < end_time)]['bid_price1'] * df_book[(start_time <= df_book['seconds_in_bucket']) & (df_book['seconds_in_bucket'] < end_time)]['time_length']) / (end_time - start_time)\n"
     ]
    },
    {
     "name": "stdout",
     "output_type": "stream",
     "text": [
      "32046\n",
      "32048\n",
      "32053\n",
      "32081\n",
      "32082\n"
     ]
    },
    {
     "name": "stderr",
     "output_type": "stream",
     "text": [
      "/Users/vladimir.levin/Yandex.Disk.localized/01_Documents/01_Study/0_LUX/01_PhD/Drafts/Project3/kaggle_volatility/support_file.py:1675: RuntimeWarning: invalid value encountered in true_divide\n",
      "  w_ask = np.sum(df_book[(start_time <= df_book['seconds_in_bucket']) & (df_book['seconds_in_bucket'] < end_time)]['ask_price1'] * df_book[(start_time <= df_book['seconds_in_bucket']) & (df_book['seconds_in_bucket'] < end_time)]['time_length']) / (end_time - start_time)\n",
      "/Users/vladimir.levin/Yandex.Disk.localized/01_Documents/01_Study/0_LUX/01_PhD/Drafts/Project3/kaggle_volatility/support_file.py:1676: RuntimeWarning: invalid value encountered in true_divide\n",
      "  w_bid = np.sum(df_book[(start_time <= df_book['seconds_in_bucket']) & (df_book['seconds_in_bucket'] < end_time)]['bid_price1'] * df_book[(start_time <= df_book['seconds_in_bucket']) & (df_book['seconds_in_bucket'] < end_time)]['time_length']) / (end_time - start_time)\n"
     ]
    },
    {
     "name": "stdout",
     "output_type": "stream",
     "text": [
      "32083\n",
      "32108\n",
      "32109\n",
      "32119\n",
      "32126\n",
      "32131\n",
      "32134\n"
     ]
    },
    {
     "name": "stderr",
     "output_type": "stream",
     "text": [
      "/Users/vladimir.levin/Yandex.Disk.localized/01_Documents/01_Study/0_LUX/01_PhD/Drafts/Project3/kaggle_volatility/support_file.py:1675: RuntimeWarning: invalid value encountered in true_divide\n",
      "  w_ask = np.sum(df_book[(start_time <= df_book['seconds_in_bucket']) & (df_book['seconds_in_bucket'] < end_time)]['ask_price1'] * df_book[(start_time <= df_book['seconds_in_bucket']) & (df_book['seconds_in_bucket'] < end_time)]['time_length']) / (end_time - start_time)\n",
      "/Users/vladimir.levin/Yandex.Disk.localized/01_Documents/01_Study/0_LUX/01_PhD/Drafts/Project3/kaggle_volatility/support_file.py:1676: RuntimeWarning: invalid value encountered in true_divide\n",
      "  w_bid = np.sum(df_book[(start_time <= df_book['seconds_in_bucket']) & (df_book['seconds_in_bucket'] < end_time)]['bid_price1'] * df_book[(start_time <= df_book['seconds_in_bucket']) & (df_book['seconds_in_bucket'] < end_time)]['time_length']) / (end_time - start_time)\n"
     ]
    },
    {
     "name": "stdout",
     "output_type": "stream",
     "text": [
      "32155\n",
      "32173\n",
      "32174\n",
      "32175\n",
      "32182\n",
      "32186\n",
      "32195\n",
      "32200\n",
      "32205\n",
      "32209\n",
      "32219\n"
     ]
    },
    {
     "name": "stderr",
     "output_type": "stream",
     "text": [
      "/Users/vladimir.levin/Yandex.Disk.localized/01_Documents/01_Study/0_LUX/01_PhD/Drafts/Project3/kaggle_volatility/support_file.py:1675: RuntimeWarning: invalid value encountered in true_divide\n",
      "  w_ask = np.sum(df_book[(start_time <= df_book['seconds_in_bucket']) & (df_book['seconds_in_bucket'] < end_time)]['ask_price1'] * df_book[(start_time <= df_book['seconds_in_bucket']) & (df_book['seconds_in_bucket'] < end_time)]['time_length']) / (end_time - start_time)\n",
      "/Users/vladimir.levin/Yandex.Disk.localized/01_Documents/01_Study/0_LUX/01_PhD/Drafts/Project3/kaggle_volatility/support_file.py:1676: RuntimeWarning: invalid value encountered in true_divide\n",
      "  w_bid = np.sum(df_book[(start_time <= df_book['seconds_in_bucket']) & (df_book['seconds_in_bucket'] < end_time)]['bid_price1'] * df_book[(start_time <= df_book['seconds_in_bucket']) & (df_book['seconds_in_bucket'] < end_time)]['time_length']) / (end_time - start_time)\n"
     ]
    },
    {
     "name": "stdout",
     "output_type": "stream",
     "text": [
      "32235\n",
      "32240\n",
      "32245\n",
      "32247\n",
      "32249\n",
      "32254\n",
      "32255\n",
      "32277\n",
      "32280\n",
      "32299\n",
      "32322\n",
      "32328\n",
      "32330\n",
      "32342\n",
      "32352\n",
      "32361\n",
      "32374\n",
      "32376\n",
      "32433\n",
      "32452\n",
      "32461\n",
      "32463\n"
     ]
    },
    {
     "name": "stderr",
     "output_type": "stream",
     "text": [
      "/Users/vladimir.levin/Yandex.Disk.localized/01_Documents/01_Study/0_LUX/01_PhD/Drafts/Project3/kaggle_volatility/support_file.py:1675: RuntimeWarning: invalid value encountered in true_divide\n",
      "  w_ask = np.sum(df_book[(start_time <= df_book['seconds_in_bucket']) & (df_book['seconds_in_bucket'] < end_time)]['ask_price1'] * df_book[(start_time <= df_book['seconds_in_bucket']) & (df_book['seconds_in_bucket'] < end_time)]['time_length']) / (end_time - start_time)\n",
      "/Users/vladimir.levin/Yandex.Disk.localized/01_Documents/01_Study/0_LUX/01_PhD/Drafts/Project3/kaggle_volatility/support_file.py:1676: RuntimeWarning: invalid value encountered in true_divide\n",
      "  w_bid = np.sum(df_book[(start_time <= df_book['seconds_in_bucket']) & (df_book['seconds_in_bucket'] < end_time)]['bid_price1'] * df_book[(start_time <= df_book['seconds_in_bucket']) & (df_book['seconds_in_bucket'] < end_time)]['time_length']) / (end_time - start_time)\n"
     ]
    },
    {
     "name": "stdout",
     "output_type": "stream",
     "text": [
      "32466\n",
      "32470\n",
      "32473\n",
      "32474\n",
      "32534\n",
      "32547\n",
      "32590\n",
      "32596\n",
      "32597\n",
      "32611\n",
      "32614\n",
      "32631\n",
      "32635\n",
      "32639\n",
      "32646\n",
      "32649\n",
      "32653\n",
      "32654\n",
      "32662\n"
     ]
    },
    {
     "name": "stderr",
     "output_type": "stream",
     "text": [
      "/Users/vladimir.levin/Yandex.Disk.localized/01_Documents/01_Study/0_LUX/01_PhD/Drafts/Project3/kaggle_volatility/support_file.py:1675: RuntimeWarning: invalid value encountered in true_divide\n",
      "  w_ask = np.sum(df_book[(start_time <= df_book['seconds_in_bucket']) & (df_book['seconds_in_bucket'] < end_time)]['ask_price1'] * df_book[(start_time <= df_book['seconds_in_bucket']) & (df_book['seconds_in_bucket'] < end_time)]['time_length']) / (end_time - start_time)\n",
      "/Users/vladimir.levin/Yandex.Disk.localized/01_Documents/01_Study/0_LUX/01_PhD/Drafts/Project3/kaggle_volatility/support_file.py:1676: RuntimeWarning: invalid value encountered in true_divide\n",
      "  w_bid = np.sum(df_book[(start_time <= df_book['seconds_in_bucket']) & (df_book['seconds_in_bucket'] < end_time)]['bid_price1'] * df_book[(start_time <= df_book['seconds_in_bucket']) & (df_book['seconds_in_bucket'] < end_time)]['time_length']) / (end_time - start_time)\n"
     ]
    },
    {
     "name": "stdout",
     "output_type": "stream",
     "text": [
      "32676\n",
      "32680\n"
     ]
    },
    {
     "name": "stderr",
     "output_type": "stream",
     "text": [
      "/Users/vladimir.levin/Yandex.Disk.localized/01_Documents/01_Study/0_LUX/01_PhD/Drafts/Project3/kaggle_volatility/support_file.py:1675: RuntimeWarning: invalid value encountered in true_divide\n",
      "  w_ask = np.sum(df_book[(start_time <= df_book['seconds_in_bucket']) & (df_book['seconds_in_bucket'] < end_time)]['ask_price1'] * df_book[(start_time <= df_book['seconds_in_bucket']) & (df_book['seconds_in_bucket'] < end_time)]['time_length']) / (end_time - start_time)\n",
      "/Users/vladimir.levin/Yandex.Disk.localized/01_Documents/01_Study/0_LUX/01_PhD/Drafts/Project3/kaggle_volatility/support_file.py:1676: RuntimeWarning: invalid value encountered in true_divide\n",
      "  w_bid = np.sum(df_book[(start_time <= df_book['seconds_in_bucket']) & (df_book['seconds_in_bucket'] < end_time)]['bid_price1'] * df_book[(start_time <= df_book['seconds_in_bucket']) & (df_book['seconds_in_bucket'] < end_time)]['time_length']) / (end_time - start_time)\n"
     ]
    },
    {
     "name": "stdout",
     "output_type": "stream",
     "text": [
      "32686\n",
      "32690\n",
      "32692\n",
      "32693\n",
      "32704\n",
      "32709\n",
      "32712\n",
      "32724\n",
      "32736\n",
      "32739\n",
      "32746\n"
     ]
    },
    {
     "name": "stderr",
     "output_type": "stream",
     "text": [
      "/Users/vladimir.levin/Yandex.Disk.localized/01_Documents/01_Study/0_LUX/01_PhD/Drafts/Project3/kaggle_volatility/support_file.py:1675: RuntimeWarning: invalid value encountered in true_divide\n",
      "  w_ask = np.sum(df_book[(start_time <= df_book['seconds_in_bucket']) & (df_book['seconds_in_bucket'] < end_time)]['ask_price1'] * df_book[(start_time <= df_book['seconds_in_bucket']) & (df_book['seconds_in_bucket'] < end_time)]['time_length']) / (end_time - start_time)\n",
      "/Users/vladimir.levin/Yandex.Disk.localized/01_Documents/01_Study/0_LUX/01_PhD/Drafts/Project3/kaggle_volatility/support_file.py:1676: RuntimeWarning: invalid value encountered in true_divide\n",
      "  w_bid = np.sum(df_book[(start_time <= df_book['seconds_in_bucket']) & (df_book['seconds_in_bucket'] < end_time)]['bid_price1'] * df_book[(start_time <= df_book['seconds_in_bucket']) & (df_book['seconds_in_bucket'] < end_time)]['time_length']) / (end_time - start_time)\n"
     ]
    },
    {
     "name": "stdout",
     "output_type": "stream",
     "text": [
      "32748\n",
      "32750\n"
     ]
    },
    {
     "name": "stderr",
     "output_type": "stream",
     "text": [
      "/Users/vladimir.levin/Yandex.Disk.localized/01_Documents/01_Study/0_LUX/01_PhD/Drafts/Project3/kaggle_volatility/support_file.py:1675: RuntimeWarning: invalid value encountered in true_divide\n",
      "  w_ask = np.sum(df_book[(start_time <= df_book['seconds_in_bucket']) & (df_book['seconds_in_bucket'] < end_time)]['ask_price1'] * df_book[(start_time <= df_book['seconds_in_bucket']) & (df_book['seconds_in_bucket'] < end_time)]['time_length']) / (end_time - start_time)\n",
      "/Users/vladimir.levin/Yandex.Disk.localized/01_Documents/01_Study/0_LUX/01_PhD/Drafts/Project3/kaggle_volatility/support_file.py:1676: RuntimeWarning: invalid value encountered in true_divide\n",
      "  w_bid = np.sum(df_book[(start_time <= df_book['seconds_in_bucket']) & (df_book['seconds_in_bucket'] < end_time)]['bid_price1'] * df_book[(start_time <= df_book['seconds_in_bucket']) & (df_book['seconds_in_bucket'] < end_time)]['time_length']) / (end_time - start_time)\n"
     ]
    },
    {
     "name": "stdout",
     "output_type": "stream",
     "text": [
      "32751\n"
     ]
    },
    {
     "name": "stderr",
     "output_type": "stream",
     "text": [
      "/Users/vladimir.levin/Yandex.Disk.localized/01_Documents/01_Study/0_LUX/01_PhD/Drafts/Project3/kaggle_volatility/support_file.py:1675: RuntimeWarning: invalid value encountered in true_divide\n",
      "  w_ask = np.sum(df_book[(start_time <= df_book['seconds_in_bucket']) & (df_book['seconds_in_bucket'] < end_time)]['ask_price1'] * df_book[(start_time <= df_book['seconds_in_bucket']) & (df_book['seconds_in_bucket'] < end_time)]['time_length']) / (end_time - start_time)\n",
      "/Users/vladimir.levin/Yandex.Disk.localized/01_Documents/01_Study/0_LUX/01_PhD/Drafts/Project3/kaggle_volatility/support_file.py:1676: RuntimeWarning: invalid value encountered in true_divide\n",
      "  w_bid = np.sum(df_book[(start_time <= df_book['seconds_in_bucket']) & (df_book['seconds_in_bucket'] < end_time)]['bid_price1'] * df_book[(start_time <= df_book['seconds_in_bucket']) & (df_book['seconds_in_bucket'] < end_time)]['time_length']) / (end_time - start_time)\n"
     ]
    },
    {
     "name": "stdout",
     "output_type": "stream",
     "text": [
      "32753\n"
     ]
    },
    {
     "name": "stderr",
     "output_type": "stream",
     "text": [
      "/Users/vladimir.levin/Yandex.Disk.localized/01_Documents/01_Study/0_LUX/01_PhD/Drafts/Project3/kaggle_volatility/support_file.py:1675: RuntimeWarning: invalid value encountered in true_divide\n",
      "  w_ask = np.sum(df_book[(start_time <= df_book['seconds_in_bucket']) & (df_book['seconds_in_bucket'] < end_time)]['ask_price1'] * df_book[(start_time <= df_book['seconds_in_bucket']) & (df_book['seconds_in_bucket'] < end_time)]['time_length']) / (end_time - start_time)\n",
      "/Users/vladimir.levin/Yandex.Disk.localized/01_Documents/01_Study/0_LUX/01_PhD/Drafts/Project3/kaggle_volatility/support_file.py:1676: RuntimeWarning: invalid value encountered in true_divide\n",
      "  w_bid = np.sum(df_book[(start_time <= df_book['seconds_in_bucket']) & (df_book['seconds_in_bucket'] < end_time)]['bid_price1'] * df_book[(start_time <= df_book['seconds_in_bucket']) & (df_book['seconds_in_bucket'] < end_time)]['time_length']) / (end_time - start_time)\n"
     ]
    },
    {
     "name": "stdout",
     "output_type": "stream",
     "text": [
      "32758\n",
      "32763\n",
      "32767\n",
      "Total time for the loop = 439.5459682941437\n"
     ]
    },
    {
     "name": "stderr",
     "output_type": "stream",
     "text": [
      "/Users/vladimir.levin/Yandex.Disk.localized/01_Documents/01_Study/0_LUX/01_PhD/Drafts/Project3/kaggle_volatility/support_file.py:1675: RuntimeWarning: invalid value encountered in true_divide\n",
      "  w_ask = np.sum(df_book[(start_time <= df_book['seconds_in_bucket']) & (df_book['seconds_in_bucket'] < end_time)]['ask_price1'] * df_book[(start_time <= df_book['seconds_in_bucket']) & (df_book['seconds_in_bucket'] < end_time)]['time_length']) / (end_time - start_time)\n",
      "/Users/vladimir.levin/Yandex.Disk.localized/01_Documents/01_Study/0_LUX/01_PhD/Drafts/Project3/kaggle_volatility/support_file.py:1676: RuntimeWarning: invalid value encountered in true_divide\n",
      "  w_bid = np.sum(df_book[(start_time <= df_book['seconds_in_bucket']) & (df_book['seconds_in_bucket'] < end_time)]['bid_price1'] * df_book[(start_time <= df_book['seconds_in_bucket']) & (df_book['seconds_in_bucket'] < end_time)]['time_length']) / (end_time - start_time)\n"
     ]
    },
    {
     "data": {
      "text/html": [
       "<div>\n",
       "<style scoped>\n",
       "    .dataframe tbody tr th:only-of-type {\n",
       "        vertical-align: middle;\n",
       "    }\n",
       "\n",
       "    .dataframe tbody tr th {\n",
       "        vertical-align: top;\n",
       "    }\n",
       "\n",
       "    .dataframe thead th {\n",
       "        text-align: right;\n",
       "    }\n",
       "</style>\n",
       "<table border=\"1\" class=\"dataframe\">\n",
       "  <thead>\n",
       "    <tr style=\"text-align: right;\">\n",
       "      <th></th>\n",
       "      <th>time_id</th>\n",
       "      <th>vpin</th>\n",
       "    </tr>\n",
       "  </thead>\n",
       "  <tbody>\n",
       "    <tr>\n",
       "      <th>0</th>\n",
       "      <td>5</td>\n",
       "      <td>0.923473</td>\n",
       "    </tr>\n",
       "    <tr>\n",
       "      <th>1</th>\n",
       "      <td>11</td>\n",
       "      <td>0.825112</td>\n",
       "    </tr>\n",
       "    <tr>\n",
       "      <th>2</th>\n",
       "      <td>16</td>\n",
       "      <td>0.994899</td>\n",
       "    </tr>\n",
       "    <tr>\n",
       "      <th>3</th>\n",
       "      <td>31</td>\n",
       "      <td>0.961566</td>\n",
       "    </tr>\n",
       "    <tr>\n",
       "      <th>4</th>\n",
       "      <td>62</td>\n",
       "      <td>0.924492</td>\n",
       "    </tr>\n",
       "    <tr>\n",
       "      <th>...</th>\n",
       "      <td>...</td>\n",
       "      <td>...</td>\n",
       "    </tr>\n",
       "    <tr>\n",
       "      <th>3825</th>\n",
       "      <td>32751</td>\n",
       "      <td>0.834700</td>\n",
       "    </tr>\n",
       "    <tr>\n",
       "      <th>3826</th>\n",
       "      <td>32753</td>\n",
       "      <td>0.903424</td>\n",
       "    </tr>\n",
       "    <tr>\n",
       "      <th>3827</th>\n",
       "      <td>32758</td>\n",
       "      <td>0.964881</td>\n",
       "    </tr>\n",
       "    <tr>\n",
       "      <th>3828</th>\n",
       "      <td>32763</td>\n",
       "      <td>0.896550</td>\n",
       "    </tr>\n",
       "    <tr>\n",
       "      <th>3829</th>\n",
       "      <td>32767</td>\n",
       "      <td>0.962859</td>\n",
       "    </tr>\n",
       "  </tbody>\n",
       "</table>\n",
       "<p>3830 rows × 2 columns</p>\n",
       "</div>"
      ],
      "text/plain": [
       "      time_id      vpin\n",
       "0           5  0.923473\n",
       "1          11  0.825112\n",
       "2          16  0.994899\n",
       "3          31  0.961566\n",
       "4          62  0.924492\n",
       "...       ...       ...\n",
       "3825    32751  0.834700\n",
       "3826    32753  0.903424\n",
       "3827    32758  0.964881\n",
       "3828    32763  0.896550\n",
       "3829    32767  0.962859\n",
       "\n",
       "[3830 rows x 2 columns]"
      ]
     },
     "execution_count": 62,
     "metadata": {},
     "output_type": "execute_result"
    }
   ],
   "source": [
    "program_start = time.time()\n",
    "vpin_table = pd.DataFrame({'time_id':trades_0['time_id'].unique(), 'vpin':-1}) #initial table to fill\n",
    "\n",
    "# this loop takes long time (7.3 min)\n",
    "for i in  trades_0['time_id'].unique():\n",
    "    vpin_value = vpin_per_time_id(book_0[book_0.time_id==i], trades_0[trades_0.time_id==i]) # calculate vpin for this time_id\n",
    "    vpin_table.at[vpin_table.index[vpin_table.time_id == i].tolist(), 'vpin'] = vpin_value # update the table at the required row\n",
    "    print(i)\n",
    "    \n",
    "time_now = time.time()\n",
    "print(f'Total time for the loop = {time_now - program_start}')\n",
    "vpin_table\n",
    "    "
   ]
  },
  {
   "cell_type": "code",
   "execution_count": 64,
   "id": "4e4ec3c3",
   "metadata": {},
   "outputs": [
    {
     "data": {
      "text/html": [
       "<div>\n",
       "<style scoped>\n",
       "    .dataframe tbody tr th:only-of-type {\n",
       "        vertical-align: middle;\n",
       "    }\n",
       "\n",
       "    .dataframe tbody tr th {\n",
       "        vertical-align: top;\n",
       "    }\n",
       "\n",
       "    .dataframe thead th {\n",
       "        text-align: right;\n",
       "    }\n",
       "</style>\n",
       "<table border=\"1\" class=\"dataframe\">\n",
       "  <thead>\n",
       "    <tr style=\"text-align: right;\">\n",
       "      <th></th>\n",
       "      <th>time_id</th>\n",
       "      <th>vpin</th>\n",
       "    </tr>\n",
       "  </thead>\n",
       "  <tbody>\n",
       "    <tr>\n",
       "      <th>count</th>\n",
       "      <td>3830.000000</td>\n",
       "      <td>3830.000000</td>\n",
       "    </tr>\n",
       "    <tr>\n",
       "      <th>mean</th>\n",
       "      <td>16038.933681</td>\n",
       "      <td>0.916824</td>\n",
       "    </tr>\n",
       "    <tr>\n",
       "      <th>std</th>\n",
       "      <td>9366.261949</td>\n",
       "      <td>0.067022</td>\n",
       "    </tr>\n",
       "    <tr>\n",
       "      <th>min</th>\n",
       "      <td>5.000000</td>\n",
       "      <td>0.433877</td>\n",
       "    </tr>\n",
       "    <tr>\n",
       "      <th>25%</th>\n",
       "      <td>7856.500000</td>\n",
       "      <td>0.888682</td>\n",
       "    </tr>\n",
       "    <tr>\n",
       "      <th>50%</th>\n",
       "      <td>15852.500000</td>\n",
       "      <td>0.933161</td>\n",
       "    </tr>\n",
       "    <tr>\n",
       "      <th>75%</th>\n",
       "      <td>23988.500000</td>\n",
       "      <td>0.964354</td>\n",
       "    </tr>\n",
       "    <tr>\n",
       "      <th>max</th>\n",
       "      <td>32767.000000</td>\n",
       "      <td>1.000000</td>\n",
       "    </tr>\n",
       "  </tbody>\n",
       "</table>\n",
       "</div>"
      ],
      "text/plain": [
       "            time_id         vpin\n",
       "count   3830.000000  3830.000000\n",
       "mean   16038.933681     0.916824\n",
       "std     9366.261949     0.067022\n",
       "min        5.000000     0.433877\n",
       "25%     7856.500000     0.888682\n",
       "50%    15852.500000     0.933161\n",
       "75%    23988.500000     0.964354\n",
       "max    32767.000000     1.000000"
      ]
     },
     "execution_count": 64,
     "metadata": {},
     "output_type": "execute_result"
    }
   ],
   "source": [
    "vpin_table.describe()"
   ]
  },
  {
   "cell_type": "code",
   "execution_count": 65,
   "id": "c62cb64d",
   "metadata": {},
   "outputs": [
    {
     "data": {
      "text/html": [
       "<div>\n",
       "<style scoped>\n",
       "    .dataframe tbody tr th:only-of-type {\n",
       "        vertical-align: middle;\n",
       "    }\n",
       "\n",
       "    .dataframe tbody tr th {\n",
       "        vertical-align: top;\n",
       "    }\n",
       "\n",
       "    .dataframe thead th {\n",
       "        text-align: right;\n",
       "    }\n",
       "</style>\n",
       "<table border=\"1\" class=\"dataframe\">\n",
       "  <thead>\n",
       "    <tr style=\"text-align: right;\">\n",
       "      <th></th>\n",
       "      <th>time_id</th>\n",
       "      <th>vpin</th>\n",
       "    </tr>\n",
       "  </thead>\n",
       "  <tbody>\n",
       "    <tr>\n",
       "      <th>0</th>\n",
       "      <td>5</td>\n",
       "      <td>0.923473</td>\n",
       "    </tr>\n",
       "    <tr>\n",
       "      <th>1</th>\n",
       "      <td>11</td>\n",
       "      <td>0.825112</td>\n",
       "    </tr>\n",
       "    <tr>\n",
       "      <th>2</th>\n",
       "      <td>16</td>\n",
       "      <td>0.994899</td>\n",
       "    </tr>\n",
       "    <tr>\n",
       "      <th>3</th>\n",
       "      <td>31</td>\n",
       "      <td>0.961566</td>\n",
       "    </tr>\n",
       "    <tr>\n",
       "      <th>4</th>\n",
       "      <td>62</td>\n",
       "      <td>0.924492</td>\n",
       "    </tr>\n",
       "  </tbody>\n",
       "</table>\n",
       "</div>"
      ],
      "text/plain": [
       "   time_id      vpin\n",
       "0        5  0.923473\n",
       "1       11  0.825112\n",
       "2       16  0.994899\n",
       "3       31  0.961566\n",
       "4       62  0.924492"
      ]
     },
     "execution_count": 65,
     "metadata": {},
     "output_type": "execute_result"
    }
   ],
   "source": [
    "vpin_table.head()"
   ]
  },
  {
   "cell_type": "code",
   "execution_count": null,
   "id": "20b56398",
   "metadata": {},
   "outputs": [],
   "source": []
  },
  {
   "cell_type": "code",
   "execution_count": 5,
   "id": "79f9f7fd",
   "metadata": {},
   "outputs": [
    {
     "name": "stderr",
     "output_type": "stream",
     "text": [
      "/opt/anaconda3/lib/python3.8/site-packages/pandas/core/nanops.py:1516: RuntimeWarning: Degrees of freedom <= 0 for slice\n",
      "  return np.cov(a, b, ddof=ddof)[0, 1]\n",
      "/opt/anaconda3/lib/python3.8/site-packages/numpy/lib/function_base.py:2480: RuntimeWarning: divide by zero encountered in true_divide\n",
      "  c *= np.true_divide(1, fact)\n"
     ]
    }
   ],
   "source": [
    "df_fin_metrics_trades = trades_0.groupby(['time_id']).apply(fin_metrics_trades_data).to_frame().reset_index()"
   ]
  },
  {
   "cell_type": "code",
   "execution_count": 7,
   "id": "1fde15eb",
   "metadata": {},
   "outputs": [
    {
     "data": {
      "text/html": [
       "<div>\n",
       "<style scoped>\n",
       "    .dataframe tbody tr th:only-of-type {\n",
       "        vertical-align: middle;\n",
       "    }\n",
       "\n",
       "    .dataframe tbody tr th {\n",
       "        vertical-align: top;\n",
       "    }\n",
       "\n",
       "    .dataframe thead th {\n",
       "        text-align: right;\n",
       "    }\n",
       "</style>\n",
       "<table border=\"1\" class=\"dataframe\">\n",
       "  <thead>\n",
       "    <tr style=\"text-align: right;\">\n",
       "      <th></th>\n",
       "      <th>time_id</th>\n",
       "      <th>embedding</th>\n",
       "    </tr>\n",
       "  </thead>\n",
       "  <tbody>\n",
       "    <tr>\n",
       "      <th>0</th>\n",
       "      <td>5</td>\n",
       "      <td>[110, 3190.139181494713, 28.9, 0.0002036144192...</td>\n",
       "    </tr>\n",
       "    <tr>\n",
       "      <th>1</th>\n",
       "      <td>11</td>\n",
       "      <td>[57, 1289.3534323573112, 22.614035087719298, 0...</td>\n",
       "    </tr>\n",
       "    <tr>\n",
       "      <th>2</th>\n",
       "      <td>16</td>\n",
       "      <td>[68, 2158.608928322792, 31.779411764705884, 0....</td>\n",
       "    </tr>\n",
       "    <tr>\n",
       "      <th>3</th>\n",
       "      <td>31</td>\n",
       "      <td>[59, 1959.60554677248, 33.25423728813559, 0.00...</td>\n",
       "    </tr>\n",
       "    <tr>\n",
       "      <th>4</th>\n",
       "      <td>62</td>\n",
       "      <td>[89, 1790.2544958591461, 20.123595505617978, 6...</td>\n",
       "    </tr>\n",
       "    <tr>\n",
       "      <th>...</th>\n",
       "      <td>...</td>\n",
       "      <td>...</td>\n",
       "    </tr>\n",
       "    <tr>\n",
       "      <th>3825</th>\n",
       "      <td>32751</td>\n",
       "      <td>[159, 3441.815545618534, 21.69811320754717, 0....</td>\n",
       "    </tr>\n",
       "    <tr>\n",
       "      <th>3826</th>\n",
       "      <td>32753</td>\n",
       "      <td>[109, 4548.671492576599, 41.71559633027523, 0....</td>\n",
       "    </tr>\n",
       "    <tr>\n",
       "      <th>3827</th>\n",
       "      <td>32758</td>\n",
       "      <td>[126, 4247.563002169132, 33.73015873015873, 0....</td>\n",
       "    </tr>\n",
       "    <tr>\n",
       "      <th>3828</th>\n",
       "      <td>32763</td>\n",
       "      <td>[114, 3224.4217962026596, 28.219298245614034, ...</td>\n",
       "    </tr>\n",
       "    <tr>\n",
       "      <th>3829</th>\n",
       "      <td>32767</td>\n",
       "      <td>[70, 3674.3666952848434, 52.55714285714286, 2....</td>\n",
       "    </tr>\n",
       "  </tbody>\n",
       "</table>\n",
       "<p>3830 rows × 2 columns</p>\n",
       "</div>"
      ],
      "text/plain": [
       "      time_id                                          embedding\n",
       "0           5  [110, 3190.139181494713, 28.9, 0.0002036144192...\n",
       "1          11  [57, 1289.3534323573112, 22.614035087719298, 0...\n",
       "2          16  [68, 2158.608928322792, 31.779411764705884, 0....\n",
       "3          31  [59, 1959.60554677248, 33.25423728813559, 0.00...\n",
       "4          62  [89, 1790.2544958591461, 20.123595505617978, 6...\n",
       "...       ...                                                ...\n",
       "3825    32751  [159, 3441.815545618534, 21.69811320754717, 0....\n",
       "3826    32753  [109, 4548.671492576599, 41.71559633027523, 0....\n",
       "3827    32758  [126, 4247.563002169132, 33.73015873015873, 0....\n",
       "3828    32763  [114, 3224.4217962026596, 28.219298245614034, ...\n",
       "3829    32767  [70, 3674.3666952848434, 52.55714285714286, 2....\n",
       "\n",
       "[3830 rows x 2 columns]"
      ]
     },
     "execution_count": 7,
     "metadata": {},
     "output_type": "execute_result"
    }
   ],
   "source": [
    "df_fin_metrics_trades = df_fin_metrics_trades.rename(columns={0:'embedding'})\n",
    "df_fin_metrics_trades"
   ]
  },
  {
   "cell_type": "code",
   "execution_count": 8,
   "id": "59155f9a",
   "metadata": {},
   "outputs": [],
   "source": [
    "list_vlad_trades = []"
   ]
  },
  {
   "cell_type": "code",
   "execution_count": 14,
   "id": "341312a7",
   "metadata": {},
   "outputs": [
    {
     "data": {
      "text/plain": [
       "[       row_id  trades_number  traded_volume  avg_trade_size  roll_measure  \\\n",
       " 0         0-5            110    3190.139181       28.900000      0.000204   \n",
       " 1        0-11             57    1289.353432       22.614035      0.000206   \n",
       " 2        0-16             68    2158.608928       31.779412      0.000457   \n",
       " 3        0-31             59    1959.605547       33.254237      0.000516   \n",
       " 4        0-62             89    1790.254496       20.123596      0.000065   \n",
       " ...       ...            ...            ...             ...           ...   \n",
       " 3825  0-32751            159    3441.815546       21.698113      0.000207   \n",
       " 3826  0-32753            109    4548.671493       41.715596      0.000239   \n",
       " 3827  0-32758            126    4247.563002       33.730159      0.000248   \n",
       " 3828  0-32763            114    3224.421796       28.219298      0.000186   \n",
       " 3829  0-32767             70    3674.366695       52.557143      0.000022   \n",
       " \n",
       "        roll_impact  mkt_impact        amihud  \n",
       " 0     6.382619e-08    0.000003  4.216972e-07  \n",
       " 1     1.597455e-07    0.000003  6.228642e-07  \n",
       " 2     2.118416e-07    0.000004  1.175238e-06  \n",
       " 3     2.630821e-07    0.000002  1.152450e-06  \n",
       " 4     3.642724e-08    0.000002  1.531390e-07  \n",
       " ...            ...         ...           ...  \n",
       " 3825  6.012802e-08    0.000002  4.437514e-07  \n",
       " 3826  5.259393e-08    0.000001  1.871173e-07  \n",
       " 3827  5.843691e-08    0.000002  3.439502e-07  \n",
       " 3828  5.758722e-08    0.000003  1.342682e-07  \n",
       " 3829  6.098751e-09    0.000001  3.301707e-07  \n",
       " \n",
       " [3830 rows x 8 columns]]"
      ]
     },
     "execution_count": 14,
     "metadata": {},
     "output_type": "execute_result"
    }
   ],
   "source": [
    "# df_fin_metrics_trades[['trades_number', 'traded_volume', 'avg_trade_size', 'roll_measure', 'roll_impact', 'mkt_impact', 'amihud']] = pd.DataFrame(df_fin_metrics_trades.embedding.tolist(), index=df_fin_metrics_trades.index)\n",
    "# stock_id = 0\n",
    "# df_fin_metrics_trades['time_id'] = [f'{stock_id}-{time_id}' for time_id in df_fin_metrics_trades['time_id']] \n",
    "# df_fin_metrics_trades = df_fin_metrics_trades.rename(columns={'time_id':'row_id'}).drop(['embedding'],axis=1)\n",
    "\n",
    "# df_fin_metrics_trades\n",
    "\n",
    "list_vlad_trades.append(df_fin_metrics_trades)\n",
    "list_vlad_trades"
   ]
  },
  {
   "cell_type": "code",
   "execution_count": null,
   "id": "90b9acc3",
   "metadata": {},
   "outputs": [],
   "source": []
  }
 ],
 "metadata": {
  "kernelspec": {
   "display_name": "Python 3",
   "language": "python",
   "name": "python3"
  },
  "language_info": {
   "codemirror_mode": {
    "name": "ipython",
    "version": 3
   },
   "file_extension": ".py",
   "mimetype": "text/x-python",
   "name": "python",
   "nbconvert_exporter": "python",
   "pygments_lexer": "ipython3",
   "version": "3.8.8"
  }
 },
 "nbformat": 4,
 "nbformat_minor": 5
}
