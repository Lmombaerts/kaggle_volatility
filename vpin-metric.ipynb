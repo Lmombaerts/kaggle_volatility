{
 "cells": [
  {
   "cell_type": "markdown",
   "id": "4c44004a",
   "metadata": {},
   "source": [
    "# Volume-Synchronized Probability of Informed Trading (VPIN)\n",
    "\n",
    "$\\text{VPIN}_\\tau = \\frac{|V_\\tau^\\text{buy} - V_\\tau^\\text{sell}|}{V_\\tau^\\text{buy} + V_\\tau^\\text{sell}}$, where $\\tau$ is the 10-minute interval."
   ]
  },
  {
   "cell_type": "code",
   "execution_count": 11,
   "id": "05e5d846",
   "metadata": {},
   "outputs": [
    {
     "name": "stdout",
     "output_type": "stream",
     "text": [
      "Once deleted, variables cannot be recovered. Proceed (y/[n])? y\n"
     ]
    }
   ],
   "source": [
    "%reset"
   ]
  },
  {
   "cell_type": "code",
   "execution_count": 136,
   "id": "63debf6b",
   "metadata": {},
   "outputs": [],
   "source": [
    "# import packages\n",
    "import numpy as np\n",
    "import pandas as pd\n",
    "import sys\n",
    "\n",
    "# Paths tricks\n",
    "import os\n",
    "from pathlib import Path"
   ]
  },
  {
   "cell_type": "code",
   "execution_count": 137,
   "id": "c0eb8ceb",
   "metadata": {},
   "outputs": [],
   "source": [
    "# some functions\n",
    "def select_stock_book(book_path,stock_id,time_id=-1):\n",
    "    \n",
    "    stock_path = os.path.join(book_path, 'stock_id=' + str(stock_id))\n",
    "    book = pd.read_parquet(stock_path)\n",
    "    \n",
    "    if time_id != -1: \n",
    "        book = book[book['time_id'] == time_id]\n",
    "        \n",
    "    return book\n",
    "\n",
    "def select_stock_trades(trade_path,stock_id,time_id=-1):\n",
    "    \n",
    "    trade_path = os.path.join(trade_path, 'stock_id=' + str(stock_id))\n",
    "    trades = pd.read_parquet(trade_path)\n",
    "    \n",
    "    if time_id != -1: \n",
    "        trades = trades[trades['time_id'] == time_id]\n",
    "        \n",
    "    return trades"
   ]
  },
  {
   "cell_type": "code",
   "execution_count": 138,
   "id": "1b5cc6d0",
   "metadata": {},
   "outputs": [],
   "source": [
    "# load the data\n",
    "datapath = os.path.join(str(Path.home()), 'ownCloud', 'Data', 'Kaggle', 'optiver-realized-volatility-prediction')\n",
    "\n",
    "book = select_stock_book(book_path=os.path.join(datapath, 'book_train.parquet'), stock_id=0, time_id=5)\n",
    "trades = select_stock_trades(trade_path=os.path.join(datapath, 'trade_train.parquet'), stock_id=0, time_id=5)\n",
    "\n",
    "# data manipulation\n",
    "trades['avg_size_per_order'] = trades['size']/trades['order_count'] # add average trade size\n",
    "trades['prev_trade_second'] = trades['seconds_in_bucket'].shift()\n",
    "\n",
    "# add time length for each state of the book\n",
    "book['time_length'] = book['seconds_in_bucket'].diff().shift(periods=-1)\n",
    "book.loc[len(book)-1, 'time_length'] = 600 - book['seconds_in_bucket'].iloc[-1]"
   ]
  },
  {
   "cell_type": "code",
   "execution_count": 139,
   "id": "76a4e5f0",
   "metadata": {},
   "outputs": [
    {
     "data": {
      "text/html": [
       "<div>\n",
       "<style scoped>\n",
       "    .dataframe tbody tr th:only-of-type {\n",
       "        vertical-align: middle;\n",
       "    }\n",
       "\n",
       "    .dataframe tbody tr th {\n",
       "        vertical-align: top;\n",
       "    }\n",
       "\n",
       "    .dataframe thead th {\n",
       "        text-align: right;\n",
       "    }\n",
       "</style>\n",
       "<table border=\"1\" class=\"dataframe\">\n",
       "  <thead>\n",
       "    <tr style=\"text-align: right;\">\n",
       "      <th></th>\n",
       "      <th>time_id</th>\n",
       "      <th>seconds_in_bucket</th>\n",
       "      <th>price</th>\n",
       "      <th>size</th>\n",
       "      <th>order_count</th>\n",
       "      <th>avg_size_per_order</th>\n",
       "      <th>prev_trade_second</th>\n",
       "    </tr>\n",
       "  </thead>\n",
       "  <tbody>\n",
       "    <tr>\n",
       "      <th>0</th>\n",
       "      <td>5</td>\n",
       "      <td>21</td>\n",
       "      <td>1.002301</td>\n",
       "      <td>326</td>\n",
       "      <td>12</td>\n",
       "      <td>27.166667</td>\n",
       "      <td>NaN</td>\n",
       "    </tr>\n",
       "    <tr>\n",
       "      <th>1</th>\n",
       "      <td>5</td>\n",
       "      <td>46</td>\n",
       "      <td>1.002778</td>\n",
       "      <td>128</td>\n",
       "      <td>4</td>\n",
       "      <td>32.000000</td>\n",
       "      <td>21.0</td>\n",
       "    </tr>\n",
       "    <tr>\n",
       "      <th>2</th>\n",
       "      <td>5</td>\n",
       "      <td>50</td>\n",
       "      <td>1.002818</td>\n",
       "      <td>55</td>\n",
       "      <td>1</td>\n",
       "      <td>55.000000</td>\n",
       "      <td>46.0</td>\n",
       "    </tr>\n",
       "    <tr>\n",
       "      <th>3</th>\n",
       "      <td>5</td>\n",
       "      <td>57</td>\n",
       "      <td>1.003155</td>\n",
       "      <td>121</td>\n",
       "      <td>5</td>\n",
       "      <td>24.200000</td>\n",
       "      <td>50.0</td>\n",
       "    </tr>\n",
       "    <tr>\n",
       "      <th>4</th>\n",
       "      <td>5</td>\n",
       "      <td>68</td>\n",
       "      <td>1.003646</td>\n",
       "      <td>4</td>\n",
       "      <td>1</td>\n",
       "      <td>4.000000</td>\n",
       "      <td>57.0</td>\n",
       "    </tr>\n",
       "  </tbody>\n",
       "</table>\n",
       "</div>"
      ],
      "text/plain": [
       "   time_id  seconds_in_bucket     price  size  order_count  \\\n",
       "0        5                 21  1.002301   326           12   \n",
       "1        5                 46  1.002778   128            4   \n",
       "2        5                 50  1.002818    55            1   \n",
       "3        5                 57  1.003155   121            5   \n",
       "4        5                 68  1.003646     4            1   \n",
       "\n",
       "   avg_size_per_order  prev_trade_second  \n",
       "0           27.166667                NaN  \n",
       "1           32.000000               21.0  \n",
       "2           55.000000               46.0  \n",
       "3           24.200000               50.0  \n",
       "4            4.000000               57.0  "
      ]
     },
     "execution_count": 139,
     "metadata": {},
     "output_type": "execute_result"
    }
   ],
   "source": [
    "trades.head()"
   ]
  },
  {
   "cell_type": "code",
   "execution_count": 140,
   "id": "4f45ad68",
   "metadata": {},
   "outputs": [],
   "source": [
    "# a function to compute buyer initiated trades probability\n",
    "def buyer_prob(price, bid, ask):\n",
    "    return max(0, min(1, (price - bid)/(ask - bid)))\n",
    "\n",
    "def signed_volume(df_book, start_time, end_time, price, volume, output='buy'):\n",
    "    if output not in ['buy', 'sell']:\n",
    "        sys.exit(\"Required output = 'buy' or 'sell'\")\n",
    "    \n",
    "    if np.isnan(start_time):\n",
    "        start_time = 0\n",
    "    \n",
    "    # compute the weighted bid and ask prices from the book\n",
    "    w_ask = np.sum(df_book[(start_time <= df_book['seconds_in_bucket']) & (df_book['seconds_in_bucket'] < end_time)]['ask_price1'] * df_book[(start_time <= df_book['seconds_in_bucket']) & (df_book['seconds_in_bucket'] < end_time)]['time_length']) / (end_time - start_time)\n",
    "    w_bid = np.sum(df_book[(start_time <= df_book['seconds_in_bucket']) & (df_book['seconds_in_bucket'] < end_time)]['bid_price1'] * df_book[(start_time <= df_book['seconds_in_bucket']) & (df_book['seconds_in_bucket'] < end_time)]['time_length']) / (end_time - start_time)\n",
    "    \n",
    "    if output == 'buy':\n",
    "        result = volume * buyer_prob(price, w_bid, w_ask)\n",
    "    else:\n",
    "        result = volume * (1 - buyer_prob(price, w_bid, w_ask))\n",
    "\n",
    "    return result"
   ]
  },
  {
   "cell_type": "code",
   "execution_count": 141,
   "id": "94189ff5",
   "metadata": {},
   "outputs": [
    {
     "data": {
      "text/html": [
       "<div>\n",
       "<style scoped>\n",
       "    .dataframe tbody tr th:only-of-type {\n",
       "        vertical-align: middle;\n",
       "    }\n",
       "\n",
       "    .dataframe tbody tr th {\n",
       "        vertical-align: top;\n",
       "    }\n",
       "\n",
       "    .dataframe thead th {\n",
       "        text-align: right;\n",
       "    }\n",
       "</style>\n",
       "<table border=\"1\" class=\"dataframe\">\n",
       "  <thead>\n",
       "    <tr style=\"text-align: right;\">\n",
       "      <th></th>\n",
       "      <th>time_id</th>\n",
       "      <th>seconds_in_bucket</th>\n",
       "      <th>price</th>\n",
       "      <th>size</th>\n",
       "      <th>order_count</th>\n",
       "      <th>avg_size_per_order</th>\n",
       "      <th>prev_trade_second</th>\n",
       "      <th>buyer_volume</th>\n",
       "      <th>seller_volume</th>\n",
       "      <th>vpin</th>\n",
       "    </tr>\n",
       "  </thead>\n",
       "  <tbody>\n",
       "    <tr>\n",
       "      <th>0</th>\n",
       "      <td>5</td>\n",
       "      <td>21</td>\n",
       "      <td>1.002301</td>\n",
       "      <td>326</td>\n",
       "      <td>12</td>\n",
       "      <td>27.166667</td>\n",
       "      <td>NaN</td>\n",
       "      <td>325.960008</td>\n",
       "      <td>0.039992</td>\n",
       "      <td>0.999755</td>\n",
       "    </tr>\n",
       "    <tr>\n",
       "      <th>1</th>\n",
       "      <td>5</td>\n",
       "      <td>46</td>\n",
       "      <td>1.002778</td>\n",
       "      <td>128</td>\n",
       "      <td>4</td>\n",
       "      <td>32.000000</td>\n",
       "      <td>21.0</td>\n",
       "      <td>123.438110</td>\n",
       "      <td>4.561890</td>\n",
       "      <td>0.928720</td>\n",
       "    </tr>\n",
       "    <tr>\n",
       "      <th>2</th>\n",
       "      <td>5</td>\n",
       "      <td>50</td>\n",
       "      <td>1.002818</td>\n",
       "      <td>55</td>\n",
       "      <td>1</td>\n",
       "      <td>55.000000</td>\n",
       "      <td>46.0</td>\n",
       "      <td>0.000000</td>\n",
       "      <td>55.000000</td>\n",
       "      <td>1.000000</td>\n",
       "    </tr>\n",
       "    <tr>\n",
       "      <th>3</th>\n",
       "      <td>5</td>\n",
       "      <td>57</td>\n",
       "      <td>1.003155</td>\n",
       "      <td>121</td>\n",
       "      <td>5</td>\n",
       "      <td>24.200000</td>\n",
       "      <td>50.0</td>\n",
       "      <td>121.000000</td>\n",
       "      <td>0.000000</td>\n",
       "      <td>1.000000</td>\n",
       "    </tr>\n",
       "    <tr>\n",
       "      <th>4</th>\n",
       "      <td>5</td>\n",
       "      <td>68</td>\n",
       "      <td>1.003646</td>\n",
       "      <td>4</td>\n",
       "      <td>1</td>\n",
       "      <td>4.000000</td>\n",
       "      <td>57.0</td>\n",
       "      <td>4.000000</td>\n",
       "      <td>0.000000</td>\n",
       "      <td>1.000000</td>\n",
       "    </tr>\n",
       "  </tbody>\n",
       "</table>\n",
       "</div>"
      ],
      "text/plain": [
       "   time_id  seconds_in_bucket     price  size  order_count  \\\n",
       "0        5                 21  1.002301   326           12   \n",
       "1        5                 46  1.002778   128            4   \n",
       "2        5                 50  1.002818    55            1   \n",
       "3        5                 57  1.003155   121            5   \n",
       "4        5                 68  1.003646     4            1   \n",
       "\n",
       "   avg_size_per_order  prev_trade_second  buyer_volume  seller_volume  \\\n",
       "0           27.166667                NaN    325.960008       0.039992   \n",
       "1           32.000000               21.0    123.438110       4.561890   \n",
       "2           55.000000               46.0      0.000000      55.000000   \n",
       "3           24.200000               50.0    121.000000       0.000000   \n",
       "4            4.000000               57.0      4.000000       0.000000   \n",
       "\n",
       "       vpin  \n",
       "0  0.999755  \n",
       "1  0.928720  \n",
       "2  1.000000  \n",
       "3  1.000000  \n",
       "4  1.000000  "
      ]
     },
     "execution_count": 141,
     "metadata": {},
     "output_type": "execute_result"
    }
   ],
   "source": [
    "trades['buyer_volume'] = trades.apply(lambda row: signed_volume(book, row['prev_trade_second'], row['seconds_in_bucket'], row['price'], row['size']), axis=1)\n",
    "trades['seller_volume'] = trades['size'] - trades['buyer_volume']\n",
    "trades['vpin'] = trades.apply(lambda row: np.abs(row['buyer_volume'] - row['seller_volume'])/row['size'], axis = 1)\n",
    "trades.head()"
   ]
  },
  {
   "cell_type": "code",
   "execution_count": 142,
   "id": "4b1debf9",
   "metadata": {},
   "outputs": [
    {
     "name": "stdout",
     "output_type": "stream",
     "text": [
      "0.9234727992343469\n"
     ]
    }
   ],
   "source": [
    "# calculating VPIN for time_id by weighting by size\n",
    "VPIN = np.sum(trades['vpin'] * trades['size']) / np.sum(trades['size'])\n",
    "print(VPIN)"
   ]
  },
  {
   "cell_type": "markdown",
   "id": "0d5a5820",
   "metadata": {},
   "source": [
    "## check with using the support_file"
   ]
  },
  {
   "cell_type": "code",
   "execution_count": 12,
   "id": "791a9d91",
   "metadata": {},
   "outputs": [],
   "source": [
    "# import packages\n",
    "import numpy as np\n",
    "import pandas as pd\n",
    "import sys\n",
    "\n",
    "# Paths tricks\n",
    "import os\n",
    "from pathlib import Path\n",
    "\n",
    "from support_file import *"
   ]
  },
  {
   "cell_type": "code",
   "execution_count": 13,
   "id": "3c7558c9",
   "metadata": {},
   "outputs": [],
   "source": [
    "# load the data\n",
    "datapath = os.path.join(str(Path.home()), 'ownCloud', 'Data', 'Kaggle', 'optiver-realized-volatility-prediction')\n",
    "\n",
    "book_0 = pd.read_parquet(os.path.join(datapath, 'book_train.parquet', 'stock_id=0'))\n",
    "trades_0 = pd.read_parquet(os.path.join(datapath, 'trade_train.parquet', 'stock_id=0'))"
   ]
  },
  {
   "cell_type": "code",
   "execution_count": 15,
   "id": "c621d9c7",
   "metadata": {},
   "outputs": [
    {
     "name": "stderr",
     "output_type": "stream",
     "text": [
      "/Users/vladimir.levin/Yandex.Disk.localized/01_Documents/01_Study/0_LUX/01_PhD/Drafts/Project3/kaggle_volatility/support_file.py:1694: SettingWithCopyWarning: \n",
      "A value is trying to be set on a copy of a slice from a DataFrame.\n",
      "Try using .loc[row_indexer,col_indexer] = value instead\n",
      "\n",
      "See the caveats in the documentation: https://pandas.pydata.org/pandas-docs/stable/user_guide/indexing.html#returning-a-view-versus-a-copy\n",
      "  df_trades['prev_trade_second'] = df_trades['seconds_in_bucket'].shift()\n",
      "/Users/vladimir.levin/Yandex.Disk.localized/01_Documents/01_Study/0_LUX/01_PhD/Drafts/Project3/kaggle_volatility/support_file.py:1672: RuntimeWarning: invalid value encountered in true_divide\n",
      "  w_ask = np.sum(df_book[(start_time <= df_book['seconds_in_bucket']) & (df_book['seconds_in_bucket'] < end_time)]['ask_price1'] * df_book[(start_time <= df_book['seconds_in_bucket']) & (df_book['seconds_in_bucket'] < end_time)]['time_length']) / (end_time - start_time)\n",
      "/Users/vladimir.levin/Yandex.Disk.localized/01_Documents/01_Study/0_LUX/01_PhD/Drafts/Project3/kaggle_volatility/support_file.py:1673: RuntimeWarning: invalid value encountered in true_divide\n",
      "  w_bid = np.sum(df_book[(start_time <= df_book['seconds_in_bucket']) & (df_book['seconds_in_bucket'] < end_time)]['bid_price1'] * df_book[(start_time <= df_book['seconds_in_bucket']) & (df_book['seconds_in_bucket'] < end_time)]['time_length']) / (end_time - start_time)\n",
      "/Users/vladimir.levin/Yandex.Disk.localized/01_Documents/01_Study/0_LUX/01_PhD/Drafts/Project3/kaggle_volatility/support_file.py:1695: SettingWithCopyWarning: \n",
      "A value is trying to be set on a copy of a slice from a DataFrame.\n",
      "Try using .loc[row_indexer,col_indexer] = value instead\n",
      "\n",
      "See the caveats in the documentation: https://pandas.pydata.org/pandas-docs/stable/user_guide/indexing.html#returning-a-view-versus-a-copy\n",
      "  df_trades['buyer_volume'] = df_trades.apply(lambda row: signed_volume(df_book, row['prev_trade_second'], row['seconds_in_bucket'], row['price'], row['size']), axis=1)\n",
      "/Users/vladimir.levin/Yandex.Disk.localized/01_Documents/01_Study/0_LUX/01_PhD/Drafts/Project3/kaggle_volatility/support_file.py:1696: SettingWithCopyWarning: \n",
      "A value is trying to be set on a copy of a slice from a DataFrame.\n",
      "Try using .loc[row_indexer,col_indexer] = value instead\n",
      "\n",
      "See the caveats in the documentation: https://pandas.pydata.org/pandas-docs/stable/user_guide/indexing.html#returning-a-view-versus-a-copy\n",
      "  df_trades['seller_volume'] = df_trades['size'] - df_trades['buyer_volume']\n",
      "/Users/vladimir.levin/Yandex.Disk.localized/01_Documents/01_Study/0_LUX/01_PhD/Drafts/Project3/kaggle_volatility/support_file.py:1697: SettingWithCopyWarning: \n",
      "A value is trying to be set on a copy of a slice from a DataFrame.\n",
      "Try using .loc[row_indexer,col_indexer] = value instead\n",
      "\n",
      "See the caveats in the documentation: https://pandas.pydata.org/pandas-docs/stable/user_guide/indexing.html#returning-a-view-versus-a-copy\n",
      "  df_trades['vpin'] = df_trades.apply(lambda row: np.abs(row['buyer_volume'] - row['seller_volume'])/row['size'], axis = 1)\n"
     ]
    },
    {
     "data": {
      "text/plain": [
       "0.8251119007335302"
      ]
     },
     "execution_count": 15,
     "metadata": {},
     "output_type": "execute_result"
    }
   ],
   "source": [
    "vpin_per_time_id(book_0[book_0.time_id==11], trades_0[trades_0.time_id==11])"
   ]
  },
  {
   "cell_type": "code",
   "execution_count": null,
   "id": "cc90abbd",
   "metadata": {},
   "outputs": [],
   "source": []
  }
 ],
 "metadata": {
  "kernelspec": {
   "display_name": "Python 3",
   "language": "python",
   "name": "python3"
  },
  "language_info": {
   "codemirror_mode": {
    "name": "ipython",
    "version": 3
   },
   "file_extension": ".py",
   "mimetype": "text/x-python",
   "name": "python",
   "nbconvert_exporter": "python",
   "pygments_lexer": "ipython3",
   "version": "3.8.8"
  }
 },
 "nbformat": 4,
 "nbformat_minor": 5
}
