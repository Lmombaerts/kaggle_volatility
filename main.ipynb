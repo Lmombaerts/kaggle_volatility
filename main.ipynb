{
 "cells": [
  {
   "cell_type": "markdown",
   "metadata": {},
   "source": [
    "## Main code for Kaggle - Optiver Realized Volatility Prediction\n",
    "@LaurentMombaerts 13/07/2021"
   ]
  },
  {
   "cell_type": "code",
   "execution_count": 1,
   "metadata": {},
   "outputs": [
    {
     "name": "stdin",
     "output_type": "stream",
     "text": [
      "Once deleted, variables cannot be recovered. Proceed (y/[n])?  y\n"
     ]
    }
   ],
   "source": [
    "%reset"
   ]
  },
  {
   "cell_type": "markdown",
   "metadata": {},
   "source": [
    "**Lib Import / Data loading**"
   ]
  },
  {
   "cell_type": "code",
   "execution_count": 7,
   "metadata": {},
   "outputs": [],
   "source": [
    "import pandas as pd\n",
    "import numpy as np\n",
    "import matplotlib.pyplot as plt\n",
    "import plotly.express as px\n",
    "import glob\n",
    "from sklearn.metrics import r2_score\n",
    "\n",
    "# Models\n",
    "from persistence import *\n",
    "\n",
    "# Load dataset\n",
    "# pd.read_csv('../input/optiver-realized-volatility-prediction/train.csv') # Uncomment this for online submission \n",
    "train = pd.read_csv(r'C:\\Users\\laurent\\ownCloud\\Data\\Kaggle\\optiver-realized-volatility-prediction\\train.csv') # Comment the local path for online submission\n",
    "train['row_id'] = train['stock_id'].astype(str) + '-' + train['time_id'].astype(str)\n",
    "train = train[['row_id','target']]"
   ]
  },
  {
   "cell_type": "markdown",
   "metadata": {},
   "source": [
    "**Functions**"
   ]
  },
  {
   "cell_type": "code",
   "execution_count": 8,
   "metadata": {},
   "outputs": [],
   "source": [
    "# Competition metric\n",
    "def rmspe(y_true, y_pred):\n",
    "    return  (np.sqrt(np.mean(np.square((y_true - y_pred) / y_true))))\n",
    "\n",
    "# Prediction function (chose here which prediction strategy to use)\n",
    "def prediction_function(files,column_name):\n",
    "    \n",
    "    # Naive prediction (persistence model)\n",
    "    prediction = past_realized_volatility_per_stock(list_file=files,prediction_column_name=column_name)\n",
    "    \n",
    "    # Option B\n",
    "    \n",
    "    return prediction"
   ]
  },
  {
   "cell_type": "markdown",
   "metadata": {},
   "source": [
    "**Main evaluation code**"
   ]
  },
  {
   "cell_type": "code",
   "execution_count": 9,
   "metadata": {},
   "outputs": [],
   "source": [
    "# Glob book file train (contains all paths for each file in this folder)\n",
    "# list_order_book_file_train = glob.glob('/kaggle/input/optiver-realized-volatility-prediction/book_train.parquet/*') # Uncomment this for online submission\n",
    "list_order_book_file_train = glob.glob(r'C:\\Users\\laurent\\ownCloud\\Data\\Kaggle\\optiver-realized-volatility-prediction\\book_train.parquet\\*') # Comment the local path for online submission\n",
    "\n",
    "# Compute predictions\n",
    "df_past_realized_train = prediction_function(files=list_order_book_file_train,column_name='pred') "
   ]
  },
  {
   "cell_type": "code",
   "execution_count": 10,
   "metadata": {},
   "outputs": [
    {
     "name": "stdout",
     "output_type": "stream",
     "text": [
      "  row_id    target      pred\n",
      "0    0-5  0.004136  0.004499\n",
      "1   0-11  0.001445  0.001204\n",
      "2   0-16  0.002168  0.002369\n",
      "3   0-31  0.002195  0.002574\n",
      "4   0-62  0.001747  0.001894\n",
      "--\n",
      "Performance of prediction: R2 score: 0.628, RMSPE: 0.341\n"
     ]
    }
   ],
   "source": [
    "# Merge and evaluate results\n",
    "df_joined = train.merge(df_past_realized_train[['row_id','pred']], on = ['row_id'], how = 'left')\n",
    "print(df_joined.head(5))\n",
    "\n",
    "# Estimate performances\n",
    "R2 = round(r2_score(y_true = df_joined['target'], y_pred = df_joined['pred']),3)\n",
    "RMSPE = round(rmspe(y_true = df_joined['target'], y_pred = df_joined['pred']),3)\n",
    "\n",
    "print('--')\n",
    "print(f'Performance of prediction: R2 score: {R2}, RMSPE: {RMSPE}')"
   ]
  },
  {
   "cell_type": "markdown",
   "metadata": {},
   "source": [
    "**Online submission part**"
   ]
  },
  {
   "cell_type": "code",
   "execution_count": null,
   "metadata": {},
   "outputs": [],
   "source": [
    "# Glob book file test (contains all paths for each file in this folder)\n",
    "list_order_book_file_test = glob.glob('/kaggle/input/optiver-realized-volatility-prediction/book_test.parquet/*')\n",
    "\n",
    "predictions = prediction_function(files=list_order_book_file_test,column_name='target')\n",
    "predictions.to_csv('submission.csv',index = False)"
   ]
  }
 ],
 "metadata": {
  "kernelspec": {
   "display_name": "Python 3",
   "language": "python",
   "name": "python3"
  },
  "language_info": {
   "codemirror_mode": {
    "name": "ipython",
    "version": 3
   },
   "file_extension": ".py",
   "mimetype": "text/x-python",
   "name": "python",
   "nbconvert_exporter": "python",
   "pygments_lexer": "ipython3",
   "version": "3.7.9"
  }
 },
 "nbformat": 4,
 "nbformat_minor": 4
}
